{
 "cells": [
  {
   "cell_type": "markdown",
   "id": "10c93a4f",
   "metadata": {},
   "source": [
    "Reverse the Number like 153 => 351 . Numbers can be negative\n"
   ]
  },
  {
   "cell_type": "code",
   "execution_count": 13,
   "id": "158aeb62",
   "metadata": {},
   "outputs": [
    {
     "name": "stdout",
     "output_type": "stream",
     "text": [
      "-542351\n"
     ]
    }
   ],
   "source": [
    "def reverseNum(num):\n",
    "    isNeg = False\n",
    "    if num < 0:\n",
    "        isNeg = True\n",
    "        num = abs(num)\n",
    "    act = 0\n",
    "    while num:\n",
    "        rem = num % 10\n",
    "        num = num // 10\n",
    "        act = rem + (act * 10)  \n",
    "\n",
    "    return act if not isNeg else (0 - act)\n",
    "\n",
    "print(reverseNum(-153245))"
   ]
  },
  {
   "cell_type": "markdown",
   "id": "f8715712",
   "metadata": {},
   "source": [
    "Given a positive integer N, return the Nth row of pascal's triangle.\n",
    "Pascal's triangle is a triangular array of the binomial coefficients formed by summing up the elements of previous row.\n",
    "\n",
    "    Example :\n",
    "    1\n",
    "    1 1\n",
    "    1 2 1\n",
    "    1 3 3 1\n",
    "    For N = 3, return 3rd row i.e 1 2 1"
   ]
  },
  {
   "cell_type": "code",
   "execution_count": 63,
   "id": "5663198b",
   "metadata": {},
   "outputs": [
    {
     "name": "stdout",
     "output_type": "stream",
     "text": [
      "[1, 3, 3, 1]\n"
     ]
    }
   ],
   "source": [
    "# Note:\n",
    "# Unable to submit on GFG but it produces the correct output (for N = 74 it fails)\n",
    "def nthRowPascalTriangle(N):\n",
    "    if N < 1:\n",
    "        return []\n",
    "    \n",
    "    outer = [0] * N\n",
    "    outer[0] = [1]\n",
    "    \n",
    "    for i in range(1, N):\n",
    "        inner = [0] * (i + 1)\n",
    "        \n",
    "        inner[0] = inner[-1] = 1 #in each row the first and last eles are 1\n",
    "        \n",
    "        # now fill the other elements from 1 to i-1 to the inner array\n",
    "        for j in range(1, i):\n",
    "            inner[j] = outer[i - 1][j] + outer[i - 1][j - 1]\n",
    "        outer[i] = inner\n",
    "        \n",
    "    return outer[N-1]\n",
    "\n",
    "print(nthRowPascalTriangle(4))"
   ]
  },
  {
   "cell_type": "markdown",
   "id": "845fd274",
   "metadata": {},
   "source": [
    "Richest Customer Wealth\n",
    "\n",
    "    Input: accounts = [[1,2,3],[3,2,1]]\n",
    "    Output: 6\n",
    "    Explanation:\n",
    "    1st customer has wealth = 1 + 2 + 3 = 6\n",
    "    2nd customer has wealth = 3 + 2 + 1 = 6\n",
    "    Both customers are considered the richest with a wealth of 6 each, so return 6."
   ]
  },
  {
   "cell_type": "code",
   "execution_count": 64,
   "id": "09a52f74",
   "metadata": {},
   "outputs": [
    {
     "name": "stdout",
     "output_type": "stream",
     "text": [
      "6\n"
     ]
    }
   ],
   "source": [
    "def maximumWealth(accounts):\n",
    "    maxWealth = 0\n",
    "    for i in range(0, len(accounts)):\n",
    "        lsum = sum(accounts[i])\n",
    "        maxWealth = max(maxWealth, lsum)\n",
    "    return maxWealth\n",
    "\n",
    "accounts = [[1,2,3],[3,2,1]]\n",
    "print(maximumWealth(accounts))"
   ]
  },
  {
   "cell_type": "markdown",
   "id": "3ce0f265",
   "metadata": {},
   "source": [
    "\n",
    "\n"
   ]
  },
  {
   "cell_type": "markdown",
   "id": "c9822659",
   "metadata": {},
   "source": [
    "Running Sum of 1d Array\n",
    "\n",
    "    Input: nums = [1,2,3,4]\n",
    "    Output: [1,3,6,10]\n",
    "    Explanation: Running sum is obtained as follows: [1, 1+2, 1+2+3, 1+2+3+4]."
   ]
  },
  {
   "cell_type": "code",
   "execution_count": 68,
   "id": "e4c1a5e7",
   "metadata": {},
   "outputs": [
    {
     "name": "stdout",
     "output_type": "stream",
     "text": [
      "[1, 3, 6, 10]\n"
     ]
    }
   ],
   "source": [
    "def runningSum(nums):\n",
    "    N = len(nums)\n",
    "\n",
    "\n",
    "    for i in range(1, N):\n",
    "        nums[i] = nums[i] + nums[i - 1]\n",
    "    return nums\n",
    "\n",
    "print(runningSum([1,2,3,4]))"
   ]
  },
  {
   "cell_type": "markdown",
   "id": "1ee6aede",
   "metadata": {},
   "source": [
    "Jewels and Stones\n",
    "\n",
    "    Input: jewels = \"aA\", stones = \"aAAbbbb\"\n",
    "    Output: 3"
   ]
  },
  {
   "cell_type": "code",
   "execution_count": 67,
   "id": "9a8c1c6b",
   "metadata": {},
   "outputs": [
    {
     "name": "stdout",
     "output_type": "stream",
     "text": [
      "3\n"
     ]
    }
   ],
   "source": [
    "def numJewelsInStones(jewels, stones):\n",
    "    jewel_set = set()\n",
    "    count = 0\n",
    "    for e in jewels:\n",
    "        jewel_set.add(e)\n",
    "\n",
    "    for i in stones:\n",
    "        if i in jewel_set:\n",
    "            count += 1\n",
    "    return count\n",
    "\n",
    "jewels = \"aA\"\n",
    "stones = \"aAAbbbb\"\n",
    "print(numJewelsInStones(jewels, stones))"
   ]
  },
  {
   "cell_type": "markdown",
   "id": "9bc119eb",
   "metadata": {},
   "source": [
    "Minimum Absolute Difference\n",
    "\n",
    "    Input: arr = [4,2,1,3]\n",
    "    Output: [[1,2],[2,3],[3,4]]\n",
    "    Explanation: The minimum absolute difference is 1. List all pairs with difference equal to 1 in ascending order."
   ]
  },
  {
   "cell_type": "code",
   "execution_count": 38,
   "id": "87c0c826",
   "metadata": {},
   "outputs": [
    {
     "name": "stdout",
     "output_type": "stream",
     "text": [
      "[[1, 2]]\n",
      "[[1, 3]]\n",
      "[[-14, -10], [19, 23], [23, 27]]\n",
      "[[26, 27]]\n"
     ]
    }
   ],
   "source": [
    "def minAbsDiff(arr):\n",
    "    if len(arr) < 3:\n",
    "        return arr\n",
    "    arr.sort()\n",
    "    \n",
    "    minDiff = arr[1] - arr[0]\n",
    "    res = []\n",
    "\n",
    "    for i in range(len(arr)):\n",
    "        if i > 0:\n",
    "            minDiff = min(minDiff, arr[i] - arr[i-1])\n",
    "\n",
    "    for i in range(len(arr) - 1):\n",
    "        if arr[i + 1] - arr[i] == minDiff:\n",
    "            res.append([ arr[i], arr[i + 1] ])\n",
    "            \n",
    "    return res\n",
    "\n",
    "#TC : O(nlogn)\n",
    "#SC : O(n)\n",
    "\n",
    "print(minAbsDiff([4,2, 1]))\n",
    "print(minAbsDiff([1,3,6,10,15]))\n",
    "print(minAbsDiff([3,8,-10,23,19,-4,-14,27]))\n",
    "arr =[40,11,26,27,-20]\n",
    "print(minAbsDiff([40,11,26,27,-20]))\n",
    "        "
   ]
  },
  {
   "cell_type": "markdown",
   "id": "6944bc3f",
   "metadata": {},
   "source": [
    "Three Consecutive Odds\n",
    "\n",
    "        Input: arr = [2,6,4,1]\n",
    "        Output: false\n",
    "        Explanation: There are no three consecutive odds.\n",
    "        \n",
    "        Input: arr = [1,2,34,3,4,5,7,23,12]\n",
    "        Output: true\n",
    "        Explanation: [5,7,23] are three consecutive odds."
   ]
  },
  {
   "cell_type": "code",
   "execution_count": 40,
   "id": "2b90dd92",
   "metadata": {},
   "outputs": [
    {
     "name": "stdout",
     "output_type": "stream",
     "text": [
      "False\n",
      "True\n"
     ]
    }
   ],
   "source": [
    "def threeConsecutiveOdds(arr):\n",
    "    \n",
    "    if len(arr) < 3:\n",
    "        return False\n",
    "    \n",
    "    for i in range(len(arr) - 2):\n",
    "        \n",
    "        if (arr[i] % 2 == 1 and arr[i + 1] % 2 == 1 and arr[i + 2] % 2 == 1):\n",
    "            return True\n",
    "    return False\n",
    "\n",
    "print(threeConsecutiveOdds([2,6,4,1]))\n",
    "print(threeConsecutiveOdds([1,2,34,3,4,5,7,23,12]))\n",
    "        "
   ]
  },
  {
   "cell_type": "markdown",
   "id": "3c4dde3f",
   "metadata": {},
   "source": [
    "Move Zeroes\n",
    "\n",
    "    Input: nums = [0,1,0,3,12]\n",
    "    Output: [1,3,12,0,0]"
   ]
  },
  {
   "cell_type": "code",
   "execution_count": 76,
   "id": "b966d6ef",
   "metadata": {},
   "outputs": [
    {
     "name": "stdout",
     "output_type": "stream",
     "text": [
      "None\n",
      "[1, 3, 12, 0, 0]\n"
     ]
    }
   ],
   "source": [
    "def moveZeroes(nums):\n",
    "    othCount = 0\n",
    "    count = 0\n",
    "    N = len(nums)\n",
    "    for i in range(N):\n",
    "        \n",
    "        if nums[i] != 0:\n",
    "            nums[count] = nums[i]\n",
    "            count += 1\n",
    "        \n",
    "        else: # non zero element\n",
    "            othCount += 1\n",
    "\n",
    "    for i in range(N -1 , N - othCount - 1, -1): \n",
    "        nums[i] = 0\n",
    "        \n",
    "# TC : O(n)\n",
    "# SC : O(1)\n",
    "nums = [0,1,0,3,12]\n",
    "# nums = [0,0]\n",
    "# nums = [0]\n",
    "print(moveZeroes(nums))\n",
    "print(nums)\n",
    "            "
   ]
  },
  {
   "cell_type": "code",
   "execution_count": null,
   "id": "24e3b9eb",
   "metadata": {},
   "outputs": [],
   "source": []
  }
 ],
 "metadata": {
  "kernelspec": {
   "display_name": "Python 3 (ipykernel)",
   "language": "python",
   "name": "python3"
  },
  "language_info": {
   "codemirror_mode": {
    "name": "ipython",
    "version": 3
   },
   "file_extension": ".py",
   "mimetype": "text/x-python",
   "name": "python",
   "nbconvert_exporter": "python",
   "pygments_lexer": "ipython3",
   "version": "3.10.0"
  }
 },
 "nbformat": 4,
 "nbformat_minor": 5
}
