{
 "cells": [
  {
   "cell_type": "code",
   "execution_count": 20,
   "id": "0f34a362",
   "metadata": {},
   "outputs": [
    {
     "name": "stdout",
     "output_type": "stream",
     "text": [
      "bsdssd\n"
     ]
    }
   ],
   "source": [
    "#remove all occurance of a's\n",
    "def removeA(processed, unprocessed):\n",
    "    if len(unprocessed) == 0:\n",
    "        return processed\n",
    "    \n",
    "    ch = unprocessed[0]\n",
    "\n",
    "    if ch == 'a':\n",
    "        return removeA(processed, unprocessed[1:])\n",
    "    else:\n",
    "        return removeA(processed + ch, unprocessed[1:])\n",
    "\n",
    "ans = removeA(\"\", \"absdasasda\")        \n",
    "print(ans)\n",
    "    \n",
    "    \n",
    "    "
   ]
  },
  {
   "cell_type": "code",
   "execution_count": 37,
   "id": "068253b6",
   "metadata": {},
   "outputs": [
    {
     "name": "stdout",
     "output_type": "stream",
     "text": [
      "bsdssd\n"
     ]
    }
   ],
   "source": [
    "def removeA2(string):\n",
    "    if len(string) == 0:\n",
    "        return string\n",
    "    \n",
    "    ch = string[0]\n",
    "    if ch == 'a':\n",
    "        return removeA2(string[1:])\n",
    "    else:\n",
    "        return ch + removeA2(string[1:])\n",
    "    \n",
    "ans = removeA2(\"absdasasda\")        \n",
    "print(ans)"
   ]
  },
  {
   "cell_type": "code",
   "execution_count": 32,
   "id": "f5fac58b",
   "metadata": {},
   "outputs": [
    {
     "name": "stdout",
     "output_type": "stream",
     "text": [
      "absdassda\n"
     ]
    }
   ],
   "source": [
    "def removeApple(processed, unprocessed):\n",
    "    if len(unprocessed) == 0:\n",
    "        return processed\n",
    "    \n",
    "    ch = unprocessed[0]\n",
    "\n",
    "    if unprocessed.startswith('apple'):\n",
    "        return removeApple(processed, unprocessed[5:])\n",
    "    else:\n",
    "        return removeApple(processed + ch, unprocessed[1:])\n",
    "\n",
    "ans = removeApple(\"\", \"absdasapplesda\")        \n",
    "print(ans)"
   ]
  },
  {
   "cell_type": "code",
   "execution_count": 9,
   "id": "56310c7d",
   "metadata": {},
   "outputs": [
    {
     "name": "stdout",
     "output_type": "stream",
     "text": [
      "-----  abc\n",
      "-----  bc\n",
      "-----  c\n",
      "-----  \n",
      "\n",
      "----- c \n",
      "c\n",
      "----- b c\n",
      "----- b \n",
      "b\n",
      "----- bc \n",
      "bc\n",
      "----- a bc\n",
      "----- a c\n",
      "----- a \n",
      "a\n",
      "----- ac \n",
      "ac\n",
      "----- ab c\n",
      "----- ab \n",
      "ab\n",
      "----- abc \n",
      "abc\n"
     ]
    }
   ],
   "source": [
    "def subset1(p, up):\n",
    "    print('-----',p, up)\n",
    "    if len(up) == 0:\n",
    "        print(p)\n",
    "        return \n",
    "    \n",
    "    ch = up[0]\n",
    "    \n",
    "    subset1(p, up[1:])\n",
    "    subset1(p+ch, up[1:])\n",
    "    \n",
    "subset1('','abc')\n",
    "    \n",
    "    "
   ]
  },
  {
   "cell_type": "code",
   "execution_count": 46,
   "id": "ef46fb83",
   "metadata": {},
   "outputs": [
    {
     "name": "stdout",
     "output_type": "stream",
     "text": [
      "['', 'c', 'b', 'bc', 'a', 'ac', 'ab', 'abc']\n"
     ]
    }
   ],
   "source": [
    "def subset2(p, up, arr):\n",
    "    if len(up) == 0:\n",
    "        arr.append(p)\n",
    "        return arr\n",
    "    \n",
    "    ch = up[0]\n",
    "    \n",
    "    subset2(p, up[1:], arr)\n",
    "    subset2(p+ch, up[1:], arr)\n",
    "\n",
    "res = []\n",
    "subset2('','abc', res)\n",
    "print(res)\n",
    "    "
   ]
  },
  {
   "cell_type": "code",
   "execution_count": null,
   "id": "06ab52e4",
   "metadata": {},
   "outputs": [],
   "source": []
  },
  {
   "cell_type": "code",
   "execution_count": 57,
   "id": "c2dd67c3",
   "metadata": {},
   "outputs": [
    {
     "name": "stdout",
     "output_type": "stream",
     "text": [
      "[] ['c']\n",
      "['b'] ['bc']\n",
      "['c'] ['b', 'bc']\n",
      "['a'] ['ac']\n",
      "['ab'] ['abc']\n",
      "['a', 'ac'] ['ab', 'abc']\n",
      "['c', 'b', 'bc'] ['a', 'ac', 'ab', 'abc']\n",
      "['c', 'b', 'bc', 'a', 'ac', 'ab', 'abc']\n"
     ]
    }
   ],
   "source": [
    "def subset3(p, up):\n",
    "    ans = []\n",
    "    if len(up) == 0:\n",
    "        if p != '':\n",
    "            ans.append(p)\n",
    "        return ans\n",
    "    \n",
    "    ch = up[0]\n",
    "    \n",
    "    left = subset3(p, up[1:])\n",
    "    right = subset3(p+ch, up[1:])\n",
    "    print(left, right)\n",
    "    left.extend(right)\n",
    "    \n",
    "    return left\n",
    "\n",
    "res = subset3('','abc')\n",
    "print(res)"
   ]
  },
  {
   "cell_type": "code",
   "execution_count": 65,
   "id": "6de2e867",
   "metadata": {},
   "outputs": [
    {
     "name": "stdout",
     "output_type": "stream",
     "text": [
      "[] [3]\n",
      "[2] [23]\n",
      "[3] [2, 23]\n",
      "[1] [13]\n",
      "[12] [123]\n",
      "[1, 13] [12, 123]\n",
      "[3, 2, 23] [1, 13, 12, 123]\n",
      "[3, 2, 23, 1, 13, 12, 123]\n"
     ]
    }
   ],
   "source": [
    "def subSetNum(p, up):\n",
    "    ans = []\n",
    "    if len(up) == 0:\n",
    "        if p != '':\n",
    "            ans.append(int(p))\n",
    "        return ans\n",
    "    \n",
    "    ch = up[0]\n",
    "    \n",
    "    left = subSetNum(p, up[1:])\n",
    "    right = subSetNum(p+ch, up[1:])\n",
    "    print(left, right)\n",
    "    left.extend(right)\n",
    "    \n",
    "    return left\n",
    "\n",
    "res = subSetNum('','123')\n",
    "print(res)"
   ]
  },
  {
   "cell_type": "code",
   "execution_count": 95,
   "id": "f8c3150c",
   "metadata": {},
   "outputs": [
    {
     "name": "stdout",
     "output_type": "stream",
     "text": [
      "[234, 134, 124, 123]\n"
     ]
    }
   ],
   "source": [
    "# Python program to get all subsets of given size of a set\n",
    "# numbers = [1, 2, 3, 4]\n",
    "#     n = 3\n",
    "\n",
    "def subSetNumFromArr(nums,n):\n",
    "    return subSetNum2('', str(nums), 3)\n",
    "\n",
    "def subSetNum2(p, up, n):\n",
    "    print\n",
    "    ans = []\n",
    "    if len(up) == 0:\n",
    "        if len(p) == n:\n",
    "            ans.append(int(p))\n",
    "        return ans\n",
    "    \n",
    "    ch = up[0]\n",
    "    \n",
    "    left = subSetNum2(p, up[1:],n)\n",
    "    right = subSetNum2(p+ch, up[1:],n)\n",
    "\n",
    "    left.extend(right)\n",
    "    \n",
    "    return left\n",
    "\n",
    "res = subSetNumFromArr(1234, 3)\n",
    "print(res)"
   ]
  },
  {
   "cell_type": "markdown",
   "id": "f41dae4b",
   "metadata": {},
   "source": [
    "### Given an integer array nums of unique elements, return all possible subsets (the power set).\n",
    "\n",
    "### The solution set must not contain duplicate subsets. Return the solution in any order.\n",
    "```\n",
    "Input: nums = [1,2,3] \n",
    "Output: [[],[1],[2],[1,2],[3],[1,3],[2,3],[1,2,3]]\n",
    "```"
   ]
  },
  {
   "cell_type": "code",
   "execution_count": 15,
   "id": "40de1a66",
   "metadata": {},
   "outputs": [
    {
     "name": "stdout",
     "output_type": "stream",
     "text": [
      "[[], [3], [2], [2, 3], [1], [1, 3], [1, 2], [1, 2, 3]]\n"
     ]
    }
   ],
   "source": [
    "def subsets(nums):\n",
    "    ans = []\n",
    "    _helper(0, [], nums, ans)\n",
    "    return ans\n",
    "    \n",
    "def _helper(ind, curr, nums, ans):\n",
    "    if ind >= len(nums):\n",
    "        ans.append(curr.copy())\n",
    "        return\n",
    "    \n",
    "    _helper(ind + 1, curr, nums, ans)\n",
    "    curr.append(nums[ind])\n",
    "    _helper(ind + 1, curr, nums, ans)\n",
    "    curr.pop()\n",
    "    \n",
    "    \n",
    "    \n",
    "print(subsets([1,2,3]))\n",
    "    "
   ]
  },
  {
   "cell_type": "code",
   "execution_count": 13,
   "id": "ab079ff4",
   "metadata": {},
   "outputs": [
    {
     "name": "stdout",
     "output_type": "stream",
     "text": [
      "[[], [1], [1, 2], [1, 2, 3], [1, 3], [2], [2, 3], [3]]\n"
     ]
    }
   ],
   "source": [
    "def subsets(nums):\n",
    "    subsets_list = []\n",
    "    _helper([], 0, nums, subsets_list)\n",
    "    return subsets_list\n",
    "\n",
    "def _helper(curr, index, nums, ans):\n",
    "    ans.append(curr.copy())\n",
    "\n",
    "    for i in range(index, len(nums)):\n",
    "        curr.append(nums[i])\n",
    "        _helper(curr, i + 1, nums, ans)\n",
    "        curr.pop()\n",
    "\n",
    "nums = [1, 2, 3]\n",
    "result = subsets(nums)\n",
    "print(result)"
   ]
  },
  {
   "cell_type": "markdown",
   "id": "72400362",
   "metadata": {},
   "source": [
    "### Print all subseq whose sum is equals to k\n",
    "\n",
    "\n",
    "    nums = [1,2,1] k = 2 \n",
    "    answer [1,1] [2]"
   ]
  },
  {
   "cell_type": "code",
   "execution_count": 22,
   "id": "69492075",
   "metadata": {},
   "outputs": [
    {
     "name": "stdout",
     "output_type": "stream",
     "text": [
      "[[1, 1], [2]]\n"
     ]
    }
   ],
   "source": [
    "def subseqSumK(nums, k):\n",
    "    ans = []\n",
    "    _helperSumk(0, [], nums, 0, k, ans)\n",
    "    return ans\n",
    "    \n",
    "def _helperSumk(ind, curr, nums, lsum, k, ans):\n",
    "    \n",
    "    if ind == len(nums):\n",
    "        if lsum == k:\n",
    "            ans.append(curr.copy())\n",
    "        return\n",
    "    \n",
    "    curr.append(nums[ind])\n",
    "    lsum += nums[ind]\n",
    "    _helperSumk(ind + 1, curr, nums, lsum, k, ans)\n",
    "    \n",
    "    curr.pop()\n",
    "    lsum -= nums[ind]\n",
    "    _helperSumk(ind + 1, curr, nums, lsum, k, ans)\n",
    "\n",
    "\n",
    "nums = [1,2,1]\n",
    "k = 2\n",
    "print(subseqSumK(nums, k))\n",
    "    \n",
    "    "
   ]
  },
  {
   "cell_type": "markdown",
   "id": "8dfa45e3",
   "metadata": {},
   "source": [
    "### Print only one subseq for which sum is equals to k"
   ]
  },
  {
   "cell_type": "code",
   "execution_count": 24,
   "id": "8a24d09a",
   "metadata": {},
   "outputs": [
    {
     "name": "stdout",
     "output_type": "stream",
     "text": [
      "[[1, 1]]\n"
     ]
    }
   ],
   "source": [
    "def oneSeq(nums, k):\n",
    "    ans = []\n",
    "    _helperOneSeq(0, [], nums, 0, k, ans)\n",
    "    return ans\n",
    "    \n",
    "def _helperOneSeq(ind, curr, nums, lsum, k, ans):\n",
    "    \n",
    "    if ind == len(nums):\n",
    "        if lsum == k:\n",
    "            ans.append(curr.copy())\n",
    "            return True\n",
    "        return False\n",
    "    \n",
    "    curr.append(nums[ind])\n",
    "    lsum += nums[ind]\n",
    "    if _helperOneSeq(ind + 1, curr, nums, lsum, k, ans):\n",
    "        return True\n",
    "    \n",
    "    curr.pop()\n",
    "    lsum -= nums[ind]\n",
    "    if _helperOneSeq(ind + 1, curr, nums, lsum, k, ans):\n",
    "        return True\n",
    "    \n",
    "    return False\n",
    "\n",
    "\n",
    "nums = [1,2,1]\n",
    "k = 2\n",
    "print(oneSeq(nums, k))\n",
    "    "
   ]
  },
  {
   "cell_type": "markdown",
   "id": "016a032e",
   "metadata": {},
   "source": [
    "### Print subseq count whose given sum equals to k\n"
   ]
  },
  {
   "cell_type": "code",
   "execution_count": 25,
   "id": "f50d9334",
   "metadata": {},
   "outputs": [
    {
     "name": "stdout",
     "output_type": "stream",
     "text": [
      "2\n"
     ]
    }
   ],
   "source": [
    "def subseqCount(nums, k):\n",
    "\n",
    "    return _helperCount(0,nums, 0, k)\n",
    "    \n",
    "def _helperCount(ind, nums, lsum, k):\n",
    "    \n",
    "    if ind == len(nums):\n",
    "        if lsum == k:\n",
    "            return 1\n",
    "        return 0\n",
    "    \n",
    "    lsum += nums[ind]\n",
    "    left = _helperCount(ind + 1, nums, lsum, k)\n",
    "\n",
    "    lsum -= nums[ind]\n",
    "    right =  _helperCount(ind + 1, nums, lsum, k)\n",
    "    \n",
    "    return left + right\n",
    "\n",
    "nums = [1,2,1]\n",
    "k = 2\n",
    "print(subseqCount(nums, k))"
   ]
  },
  {
   "cell_type": "markdown",
   "id": "8d8c02d4",
   "metadata": {},
   "source": [
    "### Quick Sort\n"
   ]
  },
  {
   "cell_type": "code",
   "execution_count": 36,
   "id": "56ef8cd6",
   "metadata": {},
   "outputs": [
    {
     "name": "stdout",
     "output_type": "stream",
     "text": [
      "3 [2, 3, 1, 4, 8, 6, 5]\n",
      "1 [1, 2, 3, 4, 8, 6, 5]\n",
      "6 [1, 2, 3, 4, 5, 6, 8]\n",
      "4 [1, 2, 3, 4, 5, 6, 8]\n",
      "[1, 2, 3, 4, 5, 6, 8]\n"
     ]
    }
   ],
   "source": [
    "# this would give me the pivot index in the sorted arr\n",
    "def partition(arr, low, high):\n",
    "    # Select the pivot element (in this example, the first element)\n",
    "    pivot = arr[low]\n",
    "    \n",
    "    # Initialize the left and right pointers\n",
    "    i = low\n",
    "    j = high\n",
    "    \n",
    "    while i < j:\n",
    "        # Find element on the left side greater than to pivot\n",
    "        while arr[i] <= pivot and i < high:\n",
    "            i += 1\n",
    "        \n",
    "        # Find element on the right side smaller than or equal to pivot\n",
    "        while arr[j] > pivot and j > low:\n",
    "            j -= 1\n",
    "        \n",
    "        # Swap arr[i] and arr[j]\n",
    "        if i < j:\n",
    "            arr[i], arr[j] = arr[j], arr[i]\n",
    "    \n",
    "    arr[low], arr[j] = arr[j], arr[low]\n",
    "    return j\n",
    "    \n",
    "    \n",
    "    \n",
    "def quickSort(arr, si, ei):\n",
    "    \n",
    "    if si >= ei:\n",
    "        return\n",
    "    \n",
    "    pivotIndex = partition(arr, si, ei)\n",
    "    print(pivotIndex, arr)\n",
    "    quickSort(arr, si, pivotIndex - 1)\n",
    "    quickSort(arr, pivotIndex + 1, ei)\n",
    "    \n",
    "arr = [4,3,5,6,8,2,1]\n",
    "quickSort(arr, 0, 6)\n",
    "print(arr)\n",
    "    "
   ]
  },
  {
   "cell_type": "markdown",
   "id": "6952afa3",
   "metadata": {},
   "source": [
    "### Combination Sum 1 \n"
   ]
  },
  {
   "cell_type": "code",
   "execution_count": 37,
   "id": "46d02806",
   "metadata": {},
   "outputs": [
    {
     "name": "stdout",
     "output_type": "stream",
     "text": [
      "[[2, 2, 3], [7]]\n"
     ]
    }
   ],
   "source": [
    "def combinationSum(candidates, target):\n",
    "    ans = []\n",
    "    _helperComSum(0, [], target, candidates, ans)\n",
    "    return ans\n",
    "\n",
    "def _helperComSum(ind, curr, target, candidates, ans):\n",
    "\n",
    "    if target == 0:\n",
    "        ans.append(curr.copy())\n",
    "        return\n",
    "\n",
    "    if ind == len(candidates):\n",
    "        if target == 0:\n",
    "            ans.append(curr.copy())\n",
    "\n",
    "        return\n",
    "\n",
    "    if candidates[ind] <= target:\n",
    "        curr.append(candidates[ind])\n",
    "        _helperComSum(ind, curr, target - candidates[ind], candidates, ans)\n",
    "        curr.pop()\n",
    "\n",
    "    _helperComSum(ind + 1, curr, target, candidates, ans)\n",
    "    \n",
    "\n",
    "candidates = [2,3,6,7]\n",
    "target = 7\n",
    "# Output: [[2,2,3],[7]]\n",
    "print(combinationSum(candidates, target))"
   ]
  },
  {
   "cell_type": "markdown",
   "id": "3b0efa33",
   "metadata": {},
   "source": [
    "### 40. Combination Sum II\n",
    "\n",
    "    Input: candidates = [10,1,2,7,6,1,5], target = 8\n",
    "    Output: \n",
    "    [\n",
    "    [1,1,6],\n",
    "    [1,2,5],\n",
    "    [1,7],\n",
    "    [2,6]\n",
    "    ]"
   ]
  },
  {
   "cell_type": "code",
   "execution_count": 50,
   "id": "dfa3388f",
   "metadata": {},
   "outputs": [
    {
     "name": "stdout",
     "output_type": "stream",
     "text": [
      "[[1, 1, 2], [2, 2]]\n"
     ]
    }
   ],
   "source": [
    "def combinationSum2(candidates, target):\n",
    "    candidates.sort()\n",
    "    ans = []\n",
    "    _helperComSum2(0, [], target, candidates, ans)\n",
    "    return ans\n",
    "\n",
    "def _helperComSum2(ind, curr, target, candidates, ans):\n",
    "\n",
    "    if target == 0:\n",
    "        ans.append(curr.copy())\n",
    "        return\n",
    "\n",
    "    if ind >= len(candidates):\n",
    "        if target == 0:\n",
    "            ans.append(curr.copy())\n",
    "\n",
    "        return\n",
    "\n",
    "    for i in range(ind, len(candidates)):\n",
    "        \n",
    "        if i > ind and candidates[i] == candidates[i - 1]:\n",
    "            continue\n",
    "        \n",
    "        if candidates[i] <= target:\n",
    "            curr.append(candidates[i])\n",
    "            _helperComSum2(i + 1, curr, target - candidates[i], candidates, ans)\n",
    "            curr.pop()\n",
    "        else: \n",
    "            break\n",
    "\n",
    "\n",
    "\n",
    "\n",
    "candidates = [10,1,2,7,6,1,5]\n",
    "target = 8\n",
    "\n",
    "candidates = [1,1,1,2,2]\n",
    "target = 4\n",
    "\n",
    "print(combinationSum2(candidates, target))\n"
   ]
  },
  {
   "cell_type": "markdown",
   "id": "bca4b2b7",
   "metadata": {},
   "source": [
    "### Given a list arr of N integers, print sums of all subsets in it.\n",
    "\n",
    "\n",
    "    Input:\n",
    "    N = 2\n",
    "    arr[] = {2, 3}\n",
    "    Output:\n",
    "    0 2 3 5"
   ]
  },
  {
   "cell_type": "code",
   "execution_count": 59,
   "id": "aedc4d5c",
   "metadata": {},
   "outputs": [
    {
     "name": "stdout",
     "output_type": "stream",
     "text": [
      "[0, 1, 2, 3, 3, 4, 5, 6]\n"
     ]
    }
   ],
   "source": [
    "def subsetSums(arr, N):\n",
    "    ans = []\n",
    "    _helperSetSum(0, arr, N, 0, ans)\n",
    "    return sorted(ans)\n",
    "    \n",
    "def _helperSetSum(ind, arr, N, lsum, ans):\n",
    "    \n",
    "    if ind == N:\n",
    "        ans.append(lsum)\n",
    "        return\n",
    "    \n",
    "#     lsum += arr[ind]\n",
    "    _helperSetSum(ind + 1, arr, N, lsum + arr[ind], ans)\n",
    "    \n",
    "#     lsum -= arr[ind]\n",
    "    _helperSetSum(ind + 1, arr, N, lsum, ans)\n",
    "    \n",
    "    \n",
    "arr = [3,1,2]\n",
    "N = 3\n",
    "print(subsetSums(arr, N))\n",
    "    "
   ]
  },
  {
   "cell_type": "markdown",
   "id": "dd15ba91",
   "metadata": {},
   "source": [
    "90. Subsets II\n",
    "\n",
    "\n",
    "    Input: nums = [1,2,2]\n",
    "    Output: [[],[1],[1,2],[1,2,2],[2],[2,2]]"
   ]
  },
  {
   "cell_type": "code",
   "execution_count": 62,
   "id": "910ce308",
   "metadata": {},
   "outputs": [
    {
     "name": "stdout",
     "output_type": "stream",
     "text": [
      "[[], [1], [1, 2], [1, 2, 2], [1, 2, 2, 2], [1, 2, 2, 2, 3], [1, 2, 2, 2, 3, 3], [1, 2, 2, 3], [1, 2, 2, 3, 3], [1, 2, 3], [1, 2, 3, 3], [1, 3], [1, 3, 3], [2], [2, 2], [2, 2, 2], [2, 2, 2, 3], [2, 2, 2, 3, 3], [2, 2, 3], [2, 2, 3, 3], [2, 3], [2, 3, 3], [3], [3, 3]]\n"
     ]
    }
   ],
   "source": [
    "def subsetsWithDup(nums):\n",
    "    nums.sort()\n",
    "    ans = []\n",
    "    _helperFun(0, nums, [], ans)\n",
    "    return ans\n",
    "    \n",
    "def _helperFun(ind, nums, curr, ans):\n",
    "    \n",
    "    ans.append(curr.copy())\n",
    "    \n",
    "    for i in range(ind, len(nums)):\n",
    "        \n",
    "        if i > ind and nums[i] == nums[i - 1]:\n",
    "            continue\n",
    "            \n",
    "        curr.append(nums[i])\n",
    "        _helperFun(i + 1, nums, curr, ans)\n",
    "        curr.pop()\n",
    "        \n",
    "nums = [1,2,2,2,3,3]\n",
    "print(subsetsWithDup(nums))\n"
   ]
  },
  {
   "cell_type": "markdown",
   "id": "6d7b7c8e",
   "metadata": {},
   "source": [
    "### Permutation\n",
    "\n",
    "    Input: nums = [1,2,3]\n",
    "    Output: [[1,2,3],[1,3,2],[2,1,3],[2,3,1],[3,1,2],[3,2,1]]\n",
    "    All the integers of nums are unique."
   ]
  },
  {
   "cell_type": "code",
   "execution_count": 63,
   "id": "f3404185",
   "metadata": {},
   "outputs": [
    {
     "name": "stdout",
     "output_type": "stream",
     "text": [
      "[[1, 2, 3], [1, 3, 2], [2, 1, 3], [2, 3, 1], [3, 1, 2], [3, 2, 1]]\n"
     ]
    }
   ],
   "source": [
    "def permutation1(nums):\n",
    "    ans = []\n",
    "    _helperPermute(nums, [], ans)\n",
    "    return ans\n",
    "\n",
    "def _helperPermute(nums, curr, ans):\n",
    "    \n",
    "    if len(curr) == len(nums):\n",
    "        ans.append(curr.copy())\n",
    "        return\n",
    "    for i in range(len(nums)):\n",
    "        if nums[i] not in curr:\n",
    "            curr.append(nums[i])\n",
    "            _helperPermute(nums, curr, ans)\n",
    "            curr.pop()\n",
    "nums = [1,2,3]\n",
    "print(permutation1(nums))"
   ]
  },
  {
   "cell_type": "code",
   "execution_count": 68,
   "id": "096861dd",
   "metadata": {},
   "outputs": [
    {
     "name": "stdout",
     "output_type": "stream",
     "text": [
      "0 [1, 2, 3]\n",
      "1 [1, 2, 3]\n",
      "2 [1, 2, 3]\n",
      "3 [1, 2, 3]\n",
      "2 [1, 3, 2]\n",
      "3 [1, 3, 2]\n",
      "1 [2, 1, 3]\n",
      "2 [2, 1, 3]\n",
      "3 [2, 1, 3]\n",
      "2 [2, 3, 1]\n",
      "3 [2, 3, 1]\n",
      "1 [3, 2, 1]\n",
      "2 [3, 2, 1]\n",
      "3 [3, 2, 1]\n",
      "2 [3, 1, 2]\n",
      "3 [3, 1, 2]\n",
      "[[1, 2, 3], [1, 3, 2], [2, 1, 3], [2, 3, 1], [3, 2, 1], [3, 1, 2]]\n"
     ]
    }
   ],
   "source": [
    "def permutation2(nums):\n",
    "    ans = []\n",
    "    _helperPermute2(0, nums, ans)\n",
    "    return ans\n",
    "\n",
    "def _helperPermute2(ind, nums, ans):\n",
    "#     print(ind, nums)\n",
    "    if ind == len(nums):\n",
    "        ans.append(nums.copy())\n",
    "        return\n",
    "    \n",
    "    for i in range(ind, len(nums)):\n",
    "        nums[ind], nums[i] = nums[i], nums[ind]\n",
    "        _helperPermute2(ind + 1, nums, ans)\n",
    "        nums[ind], nums[i] = nums[i], nums[ind]\n",
    "        \n",
    "\n",
    "nums = [1,2,3]\n",
    "print(permutation2(nums))"
   ]
  },
  {
   "cell_type": "markdown",
   "id": "b0994947",
   "metadata": {},
   "source": [
    "### N -Queens\n",
    "\n",
    "    Input: n = 4\n",
    "    Output: [[\".Q..\",\"...Q\",\"Q...\",\"..Q.\"],[\"..Q.\",\"Q...\",\"...Q\",\".Q..\"]]"
   ]
  },
  {
   "cell_type": "code",
   "execution_count": 46,
   "id": "0ebadae9",
   "metadata": {},
   "outputs": [
    {
     "name": "stdout",
     "output_type": "stream",
     "text": [
      "[['..Q.', 'Q...', '...Q', '.Q..'], ['.Q..', '...Q', 'Q...', '..Q.']]\n"
     ]
    }
   ],
   "source": [
    "def solveNQueens(n):\n",
    "    ans = []\n",
    "    board = [['.' for i in range(n)] for j in range(n)]\n",
    "    _solve(board, 0, n, ans)\n",
    "    return ans\n",
    "\n",
    "def isSafeToPlace(board, row, col, n):\n",
    "\n",
    "    tempRow = row\n",
    "    tempCol = col\n",
    "\n",
    "    for i in range(0, col):\n",
    "        if board[row][i] == 'Q':\n",
    "            return False\n",
    "        \n",
    "    row = tempRow\n",
    "    col = tempCol\n",
    "    while row >= 0 and col >= 0:\n",
    "        if board[row][col] == 'Q':\n",
    "            return False\n",
    "        row -= 1\n",
    "        col -= 1\n",
    "    \n",
    "    row = tempRow \n",
    "    col = tempCol\n",
    "    while row < n and col >= 0:\n",
    "        if board[row][col] == 'Q':\n",
    "            return False\n",
    "        row += 1\n",
    "        col -= 1\n",
    "    \n",
    "    return True\n",
    "\n",
    "    \n",
    "\n",
    "def _solve(board, col, n, ans):\n",
    "    if col == n:\n",
    "        ans.append([('').join(item.copy()) for item in board])\n",
    "        \n",
    "    for row in range(0, n):\n",
    "        if isSafeToPlace(board, row, col, n):\n",
    "            board[row][col] = 'Q'\n",
    "            _solve(board, col + 1, n, ans)\n",
    "            board[row][col] = '.'\n",
    "            \n",
    "        \n",
    "    \n",
    "print(solveNQueens(4))"
   ]
  },
  {
   "cell_type": "code",
   "execution_count": null,
   "id": "cf536871",
   "metadata": {},
   "outputs": [],
   "source": [
    "# b = copy.deepcopy(a)\n",
    "# b = [item[:] for item in a]\n",
    "# b = [item.copy() for item in a]\n",
    "# b = [list(item) for item in a]\n",
    "# b = [copy.copy(item) for item in a]\n",
    "# b = []; b.extens[a]\n",
    "\n",
    "\n",
    "# 10.59 sec (105.9us/itn) - copy.deepcopy(old_list)\n",
    "\n",
    "# 10.16 sec (101.6us/itn) - pure python Copy() method copying classes with deepcopy\n",
    "\n",
    "# 1.488 sec (14.88us/itn) - pure python Copy() method not copying classes (only dicts/lists/tuples)\n",
    "\n",
    "# 0.325 sec (3.25us/itn) - for item in old_list: new_list.append(item)\n",
    "\n",
    "# 0.217 sec (2.17us/itn) - [i for i in old_list] (a list comprehension)\n",
    "\n",
    "# 0.186 sec (1.86us/itn) - copy.copy(old_list)\n",
    "\n",
    "# 0.075 sec (0.75us/itn) - list(old_list)\n",
    "\n",
    "# 0.053 sec (0.53us/itn) - new_list = []; new_list.extend(old_list)\n",
    "\n",
    "# 0.039 sec (0.39us/itn) - old_list[:] (list slicing)"
   ]
  },
  {
   "cell_type": "markdown",
   "id": "c577081d",
   "metadata": {},
   "source": [
    "### 37. Sudoku Solver\n",
    "\n",
    "\n",
    "    Input: board = [[\"5\",\"3\",\".\",\".\",\"7\",\".\",\".\",\".\",\".\"],[\"6\",\".\",\".\",\"1\",\"9\",\"5\",\".\",\".\",\".\"],[\".\",\"9\",\"8\",\".\",\".\",\".\",\".\",\"6\",\".\"],[\"8\",\".\",\".\",\".\",\"6\",\".\",\".\",\".\",\"3\"],[\"4\",\".\",\".\",\"8\",\".\",\"3\",\".\",\".\",\"1\"],[\"7\",\".\",\".\",\".\",\"2\",\".\",\".\",\".\",\"6\"],[\".\",\"6\",\".\",\".\",\".\",\".\",\"2\",\"8\",\".\"],[\".\",\".\",\".\",\"4\",\"1\",\"9\",\".\",\".\",\"5\"],[\".\",\".\",\".\",\".\",\"8\",\".\",\".\",\"7\",\"9\"]]\n",
    "    Output: [[\"5\",\"3\",\"4\",\"6\",\"7\",\"8\",\"9\",\"1\",\"2\"],[\"6\",\"7\",\"2\",\"1\",\"9\",\"5\",\"3\",\"4\",\"8\"],[\"1\",\"9\",\"8\",\"3\",\"4\",\"2\",\"5\",\"6\",\"7\"],[\"8\",\"5\",\"9\",\"7\",\"6\",\"1\",\"4\",\"2\",\"3\"],[\"4\",\"2\",\"6\",\"8\",\"5\",\"3\",\"7\",\"9\",\"1\"],[\"7\",\"1\",\"3\",\"9\",\"2\",\"4\",\"8\",\"5\",\"6\"],[\"9\",\"6\",\"1\",\"5\",\"3\",\"7\",\"2\",\"8\",\"4\"],[\"2\",\"8\",\"7\",\"4\",\"1\",\"9\",\"6\",\"3\",\"5\"],[\"3\",\"4\",\"5\",\"2\",\"8\",\"6\",\"1\",\"7\",\"9\"]]"
   ]
  },
  {
   "cell_type": "code",
   "execution_count": 3,
   "id": "af172cfe",
   "metadata": {},
   "outputs": [
    {
     "name": "stdout",
     "output_type": "stream",
     "text": [
      "[['5', '3', '4', '6', '7', '8', '9', '1', '2'], ['6', '7', '2', '1', '9', '5', '3', '4', '8'], ['1', '9', '8', '3', '4', '2', '5', '6', '7'], ['8', '5', '9', '7', '6', '1', '4', '2', '3'], ['4', '2', '6', '8', '5', '3', '7', '9', '1'], ['7', '1', '3', '9', '2', '4', '8', '5', '6'], ['9', '6', '1', '5', '3', '7', '2', '8', '4'], ['2', '8', '7', '4', '1', '9', '6', '3', '5'], ['3', '4', '5', '2', '8', '6', '1', '7', '9']]\n"
     ]
    }
   ],
   "source": [
    "def solveSudoku(board):\n",
    "    solve(board)\n",
    "    \n",
    "def solve(board):\n",
    "    \n",
    "    for i in range(9):\n",
    "        for j in range(9):\n",
    "            \n",
    "            if board[i][j] == \".\": #IF empty found, try with number 1 to 9 which satisfy the condition\n",
    "                \n",
    "                for num in range(1, 10):\n",
    "                    \n",
    "                    if isValid(board, i, j, str(num)):\n",
    "                        board[i][j] = str(num)\n",
    "                        if solve(board): # if sudoku is solved we are returning true so that we don't back tract and remove \n",
    "                            #the already filled board. Hence this time return true\n",
    "                            return True\n",
    "                        else:\n",
    "                            board[i][j] = '.' #Backtrack if any time board is returned false meaning that can lead to a ans\n",
    "                return False #This means tried all 1 to 9 but none of them can be placed so return False\n",
    "    return True #This means no empty space found hence the sudoku is solved now and return true\n",
    "\n",
    "def isValid(board, row, col, num):\n",
    "    \n",
    "    for i in range(0, 9):\n",
    "        if board[row][i] == num: #check column wise\n",
    "            return False\n",
    "        \n",
    "        if board[i][col] == num: #check row wise\n",
    "            return False\n",
    "        \n",
    "        if board[(3 * (row // 3)) + i // 3][(3 * (col // 3)) + i % 3] == num:\n",
    "            return False\n",
    "        \n",
    "    return True\n",
    "        \n",
    "        \n",
    "    \n",
    "board = [\n",
    "    [\"5\",\"3\",\".\",\".\",\"7\",\".\",\".\",\".\",\".\"],\n",
    "    [\"6\",\".\",\".\",\"1\",\"9\",\"5\",\".\",\".\",\".\"],\n",
    "    [\".\",\"9\",\"8\",\".\",\".\",\".\",\".\",\"6\",\".\"],\n",
    "    [\"8\",\".\",\".\",\".\",\"6\",\".\",\".\",\".\",\"3\"],\n",
    "    [\"4\",\".\",\".\",\"8\",\".\",\"3\",\".\",\".\",\"1\"],\n",
    "    [\"7\",\".\",\".\",\".\",\"2\",\".\",\".\",\".\",\"6\"],\n",
    "    [\".\",\"6\",\".\",\".\",\".\",\".\",\"2\",\"8\",\".\"],\n",
    "    [\".\",\".\",\".\",\"4\",\"1\",\"9\",\".\",\".\",\"5\"],\n",
    "    [\".\",\".\",\".\",\".\",\"8\",\".\",\".\",\"7\",\"9\"]\n",
    "]\n",
    "solveSudoku(board)\n",
    "print(board)"
   ]
  },
  {
   "cell_type": "markdown",
   "id": "7a7c4fde",
   "metadata": {},
   "source": [
    "### Palindrome Partitioning"
   ]
  },
  {
   "cell_type": "code",
   "execution_count": 48,
   "id": "230e98b7",
   "metadata": {},
   "outputs": [
    {
     "data": {
      "text/plain": [
       "[['a', 'a', 'b', 'b', 'c', 'd', 'c'],\n",
       " ['a', 'a', 'b', 'b', 'cdc'],\n",
       " ['a', 'a', 'bb', 'c', 'd', 'c'],\n",
       " ['a', 'a', 'bb', 'cdc'],\n",
       " ['aa', 'b', 'b', 'c', 'd', 'c'],\n",
       " ['aa', 'b', 'b', 'cdc'],\n",
       " ['aa', 'bb', 'c', 'd', 'c'],\n",
       " ['aa', 'bb', 'cdc']]"
      ]
     },
     "execution_count": 48,
     "metadata": {},
     "output_type": "execute_result"
    }
   ],
   "source": [
    "def partition(s):\n",
    "    ans = []\n",
    "    \n",
    "    helperPartition(s, [], ans)\n",
    "    return ans\n",
    "\n",
    "def isPalindrome(s):\n",
    "#     print(s)\n",
    "    si = 0\n",
    "    li = len(s) - 1\n",
    "    \n",
    "    while si < li:\n",
    "        if s[si] != s[li]:\n",
    "            return False\n",
    "        si += 1\n",
    "        li -= 1\n",
    "    return True\n",
    "    \n",
    "def helperPartition(s, curr, ans):\n",
    "    if len(s) == 0:\n",
    "        ans.append(curr.copy())\n",
    "        return \n",
    "    \n",
    "    for i in range(0, len(s)):\n",
    "        \n",
    "        if isPalindrome(s[:i+1]):\n",
    "            curr.append(s[:i+1])\n",
    "            helperPartition(s[i+1:], curr, ans)\n",
    "            curr.pop()\n",
    "            \n",
    "    \n",
    "            \n",
    "partition('aabbcdc')           \n",
    "\n",
    "    "
   ]
  },
  {
   "cell_type": "code",
   "execution_count": 29,
   "id": "25b93926",
   "metadata": {},
   "outputs": [
    {
     "name": "stdout",
     "output_type": "stream",
     "text": [
      "a\n"
     ]
    }
   ],
   "source": [
    "u = 'a'\n",
    "print(u[:1])"
   ]
  },
  {
   "cell_type": "markdown",
   "id": "ed96fb52",
   "metadata": {},
   "source": [
    "### 60. Permutation Sequence\n"
   ]
  },
  {
   "cell_type": "code",
   "execution_count": 85,
   "id": "1651b3bf",
   "metadata": {},
   "outputs": [
    {
     "name": "stdout",
     "output_type": "stream",
     "text": [
      "[1, 2, 3, 4] 6\n",
      "1324\n"
     ]
    }
   ],
   "source": [
    "def permute(n, k):\n",
    "    ans = \"\"\n",
    "    fact = 1\n",
    "    nums = []\n",
    "    for i in range(1, n):\n",
    "        fact = fact * i\n",
    "        nums.append(i)\n",
    "    nums.append(n)\n",
    "    print(nums, fact)\n",
    "    k = k - 1\n",
    "    while True:\n",
    "        ans += str(nums[k // fact])\n",
    "        del nums[k // fact]\n",
    "        if len(nums) == 0:\n",
    "            break\n",
    "        k = k % fact\n",
    "        fact = fact // len(nums)\n",
    "        \n",
    "    return ans\n",
    "                #     ans = []\n",
    "#     _helperPermute(n, [], ans, k)\n",
    "#     print(ans)\n",
    "#     return \"\".join(str(item) for item in ans[0])\n",
    "    \n",
    "# def _helperPermute(n, curr, ans, k):\n",
    "\n",
    "#     if k == 0:\n",
    "#         return \n",
    "#     if len(curr) == n:\n",
    "#         ans.append(curr.copy())\n",
    "#         return\n",
    "        \n",
    "#     for i in range(1, n + 1):\n",
    "#         if i not in curr:\n",
    "#             curr.append(i)\n",
    "#             k -= 1\n",
    "#             _helperPermute(n, curr, ans, k)\n",
    "#             curr.pop()\n",
    "            \n",
    "            \n",
    "print(permute(4, 3))\n",
    "        "
   ]
  },
  {
   "cell_type": "markdown",
   "id": "44c0e5c9",
   "metadata": {},
   "source": [
    "### Merge Sort (2 Approaches)\n"
   ]
  },
  {
   "cell_type": "code",
   "execution_count": 89,
   "id": "6a866d10",
   "metadata": {},
   "outputs": [
    {
     "name": "stdout",
     "output_type": "stream",
     "text": [
      "[-1, 0, 1, 1, 2, 2, 2, 3, 6, 9]\n",
      "[3, 1, 0, 2, 1, 6, 2, 9, 2, -1]\n"
     ]
    }
   ],
   "source": [
    "def merge(l1, l2):\n",
    "    \n",
    "    k = 0\n",
    "    i = 0\n",
    "    j = 0\n",
    "    ans = []\n",
    "    \n",
    "    while i < len(l1) and j < len(l2):\n",
    "        \n",
    "        if l1[i] < l2[j]:\n",
    "            ans.append(l1[i])\n",
    "            i += 1\n",
    "        else:\n",
    "            ans.append(l2[j])\n",
    "            j += 1\n",
    "            \n",
    "    while i < len(l1):\n",
    "        ans.append(l1[i])\n",
    "        i += 1\n",
    "    \n",
    "    while j < len(l2):\n",
    "        ans.append(l2[j])\n",
    "        j += 1\n",
    "        \n",
    "    return ans\n",
    "            \n",
    "\n",
    "def mergeSort(arr):\n",
    "    \n",
    "    if len(arr) <= 1:\n",
    "        return arr\n",
    "    \n",
    "    mid = len(arr) // 2\n",
    "    \n",
    "    left = mergeSort(arr[:mid])\n",
    "    right = mergeSort(arr[mid:])\n",
    "    \n",
    "    return merge(left, right)\n",
    "\n",
    "arr = [3,1, 0 , 2, 1, 6, 2, 9, 2, -1]\n",
    "print(mergeSort(arr))\n",
    "print(arr)"
   ]
  },
  {
   "cell_type": "code",
   "execution_count": 108,
   "id": "eb8fafc4",
   "metadata": {},
   "outputs": [
    {
     "name": "stdout",
     "output_type": "stream",
     "text": [
      "[3, 1, 0, 2, 1, 6] 0 0 1\n",
      "[1, 3, 0, 2, 1, 6] 0 1 2\n",
      "[0, 1, 3, 2, 1, 6] 3 3 4\n",
      "[0, 1, 3, 1, 2, 6] 3 4 5\n",
      "[0, 1, 3, 1, 2, 6] 0 2 5\n",
      "None\n",
      "[0, 1, 1, 2, 3, 6]\n"
     ]
    }
   ],
   "source": [
    "def mergeSort2(arr):\n",
    "    \n",
    "    return _helperMergeSort(arr, 0 , len(arr) - 1)\n",
    "\n",
    "def _helperMergeSort(arr, si, ei):\n",
    "    \n",
    "    if si >= ei:\n",
    "        return arr\n",
    "    \n",
    "    mid = si + (ei - si) // 2\n",
    "    \n",
    "    _helperMergeSort(arr, si, mid)\n",
    "    _helperMergeSort(arr, mid + 1, ei)\n",
    "    \n",
    "    merge2(arr, si, mid, ei)\n",
    "    \n",
    "    \n",
    "def merge2(arr, si, mid, ei):\n",
    "    print(arr, si, mid, ei)\n",
    "    list1 = []\n",
    "    list2 = []\n",
    "    \n",
    "    for i in range(si, mid +1):\n",
    "        list1.append(arr[i])\n",
    "    \n",
    "    for j in range(mid + 1, ei + 1):\n",
    "        list2.append(arr[j])\n",
    "        \n",
    "\n",
    "    i = 0\n",
    "    j = 0\n",
    "    k = si\n",
    "    N1 = len(list1)\n",
    "    N2 = len(list2)\n",
    "    \n",
    "    \n",
    "    while i < N1 and j < N2:\n",
    "        if list1[i] < list2[j]:\n",
    "            arr[k] = list1[i]\n",
    "            i += 1\n",
    "        else:\n",
    "            arr[k] = list2[j]\n",
    "            j += 1\n",
    "        k += 1\n",
    "    \n",
    "    while i < N1:\n",
    "        arr[k] = list1[i]\n",
    "        i += 1\n",
    "        k += 1\n",
    "    \n",
    "    while j < N2:\n",
    "        arr[k] = list2[j]\n",
    "        k += 1\n",
    "        j += 1\n",
    "\n",
    "arr = [3,1, 0 , 2, 1, 6]\n",
    "print(mergeSort2(arr))\n",
    "print(arr)"
   ]
  },
  {
   "cell_type": "markdown",
   "id": "7b1279eb",
   "metadata": {},
   "source": [
    "### Count Inversion"
   ]
  },
  {
   "cell_type": "code",
   "execution_count": 163,
   "id": "4408830c",
   "metadata": {},
   "outputs": [
    {
     "name": "stdout",
     "output_type": "stream",
     "text": [
      "3\n",
      "[1, 2, 3]\n"
     ]
    }
   ],
   "source": [
    "def countInversion(arr, si, ei):\n",
    "    cnt = 0\n",
    "    if si >= ei:\n",
    "        return 0\n",
    "    \n",
    "    mid = si + (ei - si) // 2\n",
    "    \n",
    "    cnt += countInversion(arr, si, mid)\n",
    "    cnt += countInversion(arr, mid + 1, ei)\n",
    "    \n",
    "    cnt += merge3(arr, si, mid, ei)\n",
    "    return cnt\n",
    "    \n",
    "    \n",
    "def merge3(arr, si, mid, ei):\n",
    "    temp = []\n",
    "    left = si\n",
    "    right = mid + 1\n",
    "    cnt = 0\n",
    "    while left <= mid and right <= ei:\n",
    "        if arr[left] <= arr[right]:\n",
    "            temp.append(arr[left])\n",
    "            left += 1\n",
    "        else:\n",
    "            temp.append(arr[right])\n",
    "            cnt += (mid - left + 1)\n",
    "            right += 1\n",
    "            \n",
    "    while left <= mid:\n",
    "        temp.append(arr[left])\n",
    "        left += 1\n",
    "        \n",
    "    while right <= ei:\n",
    "        temp.append(arr[right])\n",
    "        right += 1\n",
    "        \n",
    "    for i in range(si, ei +1):\n",
    "        arr[i] = temp[i- si]\n",
    "        \n",
    "    return cnt\n",
    "        \n",
    "#     list1 = []\n",
    "#     list2 = []\n",
    "    \n",
    "#     for i in range(si, mid +1):\n",
    "#         list1.append(arr[i])\n",
    "    \n",
    "#     for j in range(mid + 1, ei + 1):\n",
    "#         list2.append(arr[j])\n",
    "        \n",
    "\n",
    "#     i = 0\n",
    "#     j = 0\n",
    "#     k = si\n",
    "#     N1 = len(list1)\n",
    "#     N2 = len(list2)\n",
    "    \n",
    "#     cnt = 0\n",
    "#     while i < N1 and j < N2:\n",
    "#         if list1[i] <= list2[j]:\n",
    "#             arr[k] = list1[i]\n",
    "#             i += 1\n",
    "#         else:\n",
    "#             arr[k] = list2[j]\n",
    "#             cnt += (mid - i + 1)\n",
    "#             j += 1\n",
    "#         k += 1\n",
    "    \n",
    "#     while i < N1:\n",
    "#         arr[k] = list1[i]\n",
    "#         i += 1\n",
    "#         k += 1\n",
    "    \n",
    "#     while j < N2:\n",
    "#         arr[k] = list2[j]\n",
    "#         k += 1\n",
    "#         j += 1\n",
    "#     return cnt\n",
    "\n",
    "arr = [3,2,1]\n",
    "print(countInversion(arr,0,len(arr)-1))\n",
    "print(arr)"
   ]
  },
  {
   "cell_type": "code",
   "execution_count": 154,
   "id": "0ea2b732",
   "metadata": {},
   "outputs": [
    {
     "name": "stdout",
     "output_type": "stream",
     "text": [
      "None\n",
      "[0, 1, 1, 2, 3, 6]\n"
     ]
    }
   ],
   "source": [
    "def partition(arr, si, ei):\n",
    "    pivot = arr[si]\n",
    "    i = si\n",
    "    j = ei\n",
    "    while i < j:\n",
    "        \n",
    "        while i < ei and pivot >= arr[i]:\n",
    "            i += 1\n",
    "        \n",
    "        while j > 0 and pivot < arr[j]:\n",
    "            j -= 1\n",
    "        if i > j:\n",
    "            break\n",
    "        \n",
    "        arr[i], arr[j] = arr[j], arr[i]\n",
    "\n",
    "    arr[si], arr[j] = arr[j], arr[si]\n",
    "    \n",
    "    return j\n",
    "    \n",
    "def quickSort22(arr, si, ei):\n",
    "    \n",
    "    if si >= ei:\n",
    "        return\n",
    "    \n",
    "    pivotI = partition(arr, si, ei)\n",
    "    \n",
    "    quickSort22(arr, si, pivotI - 1)\n",
    "    quickSort22(arr, pivotI + 1, ei)\n",
    "    \n",
    "arr = [3,1, 0 , 2, 1, 6]\n",
    "print(quickSort22(arr, 0, len(arr) - 1))\n",
    "print(arr)"
   ]
  },
  {
   "cell_type": "markdown",
   "id": "84d37b3c",
   "metadata": {},
   "source": [
    "# MAZE related problems\n"
   ]
  },
  {
   "cell_type": "markdown",
   "id": "32cc8bbe",
   "metadata": {},
   "source": [
    "### coun number of ways possible to reach to the end"
   ]
  },
  {
   "cell_type": "code",
   "execution_count": 138,
   "id": "9314db46",
   "metadata": {},
   "outputs": [
    {
     "name": "stdout",
     "output_type": "stream",
     "text": [
      "6\n",
      "DDRR\n",
      "D-DIAG-R\n",
      "DRDR\n",
      "DR-DIAG-\n",
      "DRRD\n",
      "-DIAG-DR\n",
      "-DIAG--DIAG-\n",
      "-DIAG-RD\n",
      "RDDR\n",
      "RD-DIAG-\n",
      "RDRD\n",
      "R-DIAG-D\n",
      "RRDD\n"
     ]
    }
   ],
   "source": [
    "def pathCount(r, c, n):\n",
    "    \n",
    "    if r > n:\n",
    "        return 0\n",
    "    if c > n:\n",
    "        return 0\n",
    "\n",
    "    if r == n and c == n:\n",
    "        return 1\n",
    "\n",
    "    left = pathCount(r + 1, c, n)\n",
    "    right = pathCount(r, c + 1, n)\n",
    "    \n",
    "    return left + right\n",
    "\n",
    "print(pathCount(1,1, 3))\n",
    "\n",
    "def pathprint(r, c, n, ans):\n",
    "    \n",
    "    if r > n:\n",
    "        return \n",
    "    if c > n:\n",
    "        return \n",
    "\n",
    "    if r == n and c == n:\n",
    "        print(ans)\n",
    "        return \n",
    "\n",
    "    pathprint(r + 1, c, n, ans + 'D')\n",
    "    pathprint(r, c + 1, n, ans + 'R')\n",
    "    \n",
    "    return \n",
    "\n",
    "# pathprint(1,1, 3, '')\n",
    "\n",
    "\n",
    "\n",
    "def pathPrintDiagonal(r, c, n, ans):\n",
    "    \n",
    "    if r > n:\n",
    "        return \n",
    "    if c > n:\n",
    "        return \n",
    "\n",
    "    if r == n and c == n:\n",
    "        print(ans)\n",
    "        return \n",
    "\n",
    "    pathPrintDiagonal(r + 1, c, n, ans + 'D')\n",
    "    if r < n and c < n:\n",
    "        pathPrintDiagonal(r + 1, c + 1, n, ans + '-DIAG-')\n",
    "    pathPrintDiagonal(r, c + 1, n, ans + 'R')\n",
    "\n",
    "    \n",
    "    return \n",
    "\n",
    "pathPrintDiagonal(1,1, 3, '')\n",
    "    "
   ]
  },
  {
   "cell_type": "code",
   "execution_count": 168,
   "id": "dc0152c5",
   "metadata": {},
   "outputs": [
    {
     "name": "stdout",
     "output_type": "stream",
     "text": [
      "DDRR\n",
      "RRDD\n",
      "None\n"
     ]
    }
   ],
   "source": [
    "def mazeWithObstacles(path, maze, r, c):\n",
    "    \n",
    "    if r == len(maze) -1 and c == len(maze[0]) -1:\n",
    "        print(path)\n",
    "        return\n",
    "    \n",
    "    if maze[r][c] == 1:\n",
    "        return\n",
    "    \n",
    "    if r < len(maze)-1:\n",
    "        mazeWithObstacles(path + 'D',maze, r + 1, c)\n",
    "    \n",
    "    if c < len(maze[0])-1:\n",
    "        mazeWithObstacles(path + 'R', maze, r, c + 1)\n",
    "\n",
    "\n",
    "# maze = [[1, 1, 1], [1, 0, 1], [1, 1, 1]]\n",
    "maze = [[0,0,0],[0,1,0],[0,0,0]]\n",
    "print(mazeWithObstacles('', maze, 0, 0 ))"
   ]
  },
  {
   "cell_type": "code",
   "execution_count": 179,
   "id": "27a735d4",
   "metadata": {},
   "outputs": [
    {
     "name": "stdout",
     "output_type": "stream",
     "text": [
      "2\n"
     ]
    }
   ],
   "source": [
    "def mazeWithObstaclesCount(maze, r, c):\n",
    "    ans = 0\n",
    "    M = (10**9) + 7\n",
    "\n",
    "    \n",
    "    if maze[r][c] == 1:\n",
    "        return 0\n",
    "    if r == len(maze) -1 and c == len(maze[0]) - 1:\n",
    "        return 1\n",
    "    \n",
    "    if r < len(maze)-1:\n",
    "        ans += mazeWithObstaclesCount(maze, r + 1, c) % M\n",
    "    \n",
    "    if c < len(maze[0])-1:\n",
    "        ans += mazeWithObstaclesCount(maze, r, c + 1) % M\n",
    "        \n",
    "    return ans % M\n",
    "\n",
    "maze = [[0,0,0],[0,1,0],[0,0,0]]\n",
    "# maze = [[0,0],[0,1]]\n",
    "# maze = [[0,0,0,0,0,1,0,1,0,0,0,0,1,0,0,0,0,0],[0,0,0,0,0,0,1,0,0,0,0,1,0,1,0,1,0,0],[1,0,0,0,0,0,1,0,0,0,0,0,1,0,1,1,0,1],[0,0,0,1,0,0,1,0,0,0,0,0,0,0,0,0,0,0],[0,0,0,0,0,1,0,0,0,0,0,0,0,0,0,0,0,0],[0,0,0,0,0,0,0,0,0,0,1,0,0,0,0,0,1,0],[0,0,0,0,0,1,0,0,0,0,1,1,0,1,0,0,0,0],[1,0,0,0,1,0,0,1,0,0,0,0,0,0,0,0,1,0],[0,0,0,0,1,0,0,0,1,0,0,0,1,0,0,0,0,0],[0,0,0,0,0,1,0,0,0,0,0,0,1,0,0,0,0,0],[0,0,0,0,0,0,0,0,0,0,0,0,0,0,0,0,0,0],[1,1,0,0,0,0,0,0,0,0,1,0,0,0,0,1,0,0],[0,0,1,0,1,0,0,0,0,0,0,1,0,0,0,0,0,0],[0,1,0,0,0,1,0,0,0,0,0,0,0,0,1,0,0,0],[0,0,1,0,0,0,0,1,0,0,0,0,0,1,0,0,0,1],[0,1,0,1,0,1,0,0,0,0,0,0,0,1,0,0,0,0],[0,0,0,0,0,0,0,0,0,0,0,0,1,0,0,0,0,1],[1,0,1,1,0,0,0,0,0,0,1,0,1,0,0,0,1,0],[0,0,0,1,0,0,0,0,1,1,1,0,0,1,0,1,1,0],[0,1,0,1,0,0,0,0,0,0,0,0,0,0,0,0,0,0],[0,1,1,0,0,1,0,0,0,0,0,0,0,1,1,0,0,0],[0,0,0,0,0,0,1,0,1,0,0,1,0,1,1,1,0,0],[0,0,0,1,0,0,0,0,0,0,0,0,0,0,1,0,1,1],[0,1,0,0,0,0,0,0,0,0,1,0,1,0,1,0,1,0],[1,0,0,1,0,1,0,0,1,0,0,0,0,0,0,0,0,0],[0,0,0,1,0,0,1,0,0,0,0,0,0,0,0,0,0,0],[0,1,0,0,0,0,0,1,0,0,0,0,0,0,1,1,1,0],[1,0,1,0,1,0,0,0,0,0,0,1,1,0,0,0,0,1],[1,0,0,0,0,0,1,1,0,0,0,1,0,0,0,0,0,0]]\n",
    "print(mazeWithObstaclesCount(maze, 0, 0))"
   ]
  },
  {
   "cell_type": "markdown",
   "id": "396fd871",
   "metadata": {},
   "source": [
    "### Traverse all direction in a Maze to reach destination (L,R,D,U)\n"
   ]
  },
  {
   "cell_type": "code",
   "execution_count": 186,
   "id": "a6f116d4",
   "metadata": {},
   "outputs": [
    {
     "name": "stdout",
     "output_type": "stream",
     "text": [
      "['DDRUURDD', 'DDRURD', 'DDRR', 'DRURDD', 'DRDR', 'DRRD', 'RDLDRR', 'RDDR', 'RDRD', 'RRDLLDRR', 'RRDLDR', 'RRDD']\n"
     ]
    }
   ],
   "source": [
    "def mazePrintAllPath(path, maze, r , c):\n",
    "    ans = []\n",
    "    if r == len(maze) - 1 and c == len(maze[0]) - 1:\n",
    "        ans.append(path)\n",
    "        return ans\n",
    "    \n",
    "    if not maze[r][c]:\n",
    "        return []\n",
    "    \n",
    "    maze[r][c] = False\n",
    "    if r > 0:\n",
    "        ans.extend(mazePrintAllPath(path + \"U\", maze, r - 1, c))\n",
    "    \n",
    "    if c > 0:\n",
    "        ans.extend(mazePrintAllPath(path + \"L\", maze, r, c - 1))\n",
    "    \n",
    "    if r < len(maze) - 1:\n",
    "        ans.extend(mazePrintAllPath(path + \"D\", maze, r+ 1, c))\n",
    "    \n",
    "    if c < len(maze[0]) -1:\n",
    "        ans.extend(mazePrintAllPath(path + \"R\", maze, r, c + 1))\n",
    "    \n",
    "    maze[r][c] = True\n",
    "    \n",
    "    return ans\n",
    "\n",
    "\n",
    "\n",
    "\n",
    "maze = [[1, 1, 1], [1, 1, 1], [1, 1, 1]]\n",
    "print(mazePrintAllPath('', maze, 0, 0 ))"
   ]
  },
  {
   "cell_type": "code",
   "execution_count": null,
   "id": "e3979139",
   "metadata": {},
   "outputs": [],
   "source": [
    "def findPath(m, n):\n",
    "    return _helper('', m, 0, 0)\n",
    "\n",
    "def _helper(path, maze, r, c):\n",
    "    ans = []\n",
    "    if maze[r][c] == 0:\n",
    "        return -1\n",
    "    if r == len(maze) - 1 and c == len(maze[0]) - 1:\n",
    "\n",
    "        ans.append(path)\n",
    "        return ans\n",
    "\n",
    "    if not maze[r][c]:\n",
    "        return []\n",
    "\n",
    "    maze[r][c] = 0\n",
    "    if r > 0:\n",
    "        if _helper(path + \"U\", maze, r - 1, c) != -1:\n",
    "            ans.extend(self._helper(path + \"U\", maze, r - 1, c))\n",
    "\n",
    "    if c > 0:\n",
    "        if _helper(path + \"L\", maze, r, c - 1) != -1:\n",
    "            ans.extend(self._helper(path + \"L\", maze, r, c - 1))\n",
    "\n",
    "    if r < len(maze) - 1:\n",
    "        if _helper(path + \"D\", maze, r+ 1, c) != -1:\n",
    "            ans.extend(self._helper(path + \"D\", maze, r+ 1, c))\n",
    "\n",
    "    if c < len(maze[0]) -1:\n",
    "        if _helper(path + \"R\", maze, r, c + 1) != -1:\n",
    "            ans.extend(self._helper(path + \"R\", maze, r, c + 1))\n",
    "\n",
    "    maze[r][c] = 1\n",
    "\n",
    "    return ans"
   ]
  }
 ],
 "metadata": {
  "kernelspec": {
   "display_name": "Python 3 (ipykernel)",
   "language": "python",
   "name": "python3"
  },
  "language_info": {
   "codemirror_mode": {
    "name": "ipython",
    "version": 3
   },
   "file_extension": ".py",
   "mimetype": "text/x-python",
   "name": "python",
   "nbconvert_exporter": "python",
   "pygments_lexer": "ipython3",
   "version": "3.10.0"
  }
 },
 "nbformat": 4,
 "nbformat_minor": 5
}
