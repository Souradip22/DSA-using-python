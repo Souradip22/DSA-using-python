{
 "cells": [
  {
   "cell_type": "markdown",
   "id": "1cee9f20",
   "metadata": {},
   "source": [
    "### 34. Find First and Last Position of Element in Sorted Array"
   ]
  },
  {
   "cell_type": "code",
   "execution_count": 4,
   "id": "33eb880d",
   "metadata": {},
   "outputs": [
    {
     "data": {
      "text/plain": [
       "[3, 4]"
      ]
     },
     "execution_count": 4,
     "metadata": {},
     "output_type": "execute_result"
    }
   ],
   "source": [
    "def searchRange(nums, target):\n",
    "\n",
    "    firstIndex = _helperSearchRange(nums, 0, len(nums) - 1, target, True)\n",
    "    lastIndex = _helperSearchRange(nums, 0, len(nums) - 1, target, False)\n",
    "\n",
    "    return [firstIndex, lastIndex]\n",
    "\n",
    "def _helperSearchRange(nums, si, ei, target, isFirstIndex):\n",
    "\n",
    "    ans = -1\n",
    "\n",
    "    while si <= ei:\n",
    "        mid = (si + ei) // 2\n",
    "\n",
    "        if nums[mid] < target:\n",
    "            si = mid + 1\n",
    "        elif nums[mid] > target:\n",
    "            ei = mid - 1\n",
    "        else:\n",
    "            ans = mid\n",
    "            if isFirstIndex:\n",
    "                ei = mid - 1\n",
    "            else:\n",
    "                si = mid + 1\n",
    "    return ans\n",
    "\n",
    "nums = [5,7,7,8,8,10]\n",
    "target = 8\n",
    "searchRange(nums, target)"
   ]
  },
  {
   "cell_type": "markdown",
   "id": "9bf444a3",
   "metadata": {},
   "source": [
    "### 33. Search in Rotated Sorted Array\n"
   ]
  },
  {
   "cell_type": "code",
   "execution_count": 37,
   "id": "0220ed6b",
   "metadata": {},
   "outputs": [
    {
     "data": {
      "text/plain": [
       "0"
      ]
     },
     "execution_count": 37,
     "metadata": {},
     "output_type": "execute_result"
    }
   ],
   "source": [
    "def search(nums, target):\n",
    "    \n",
    "    l = 0\n",
    "    h = len(nums) - 1\n",
    "    \n",
    "    while l <= h:\n",
    "        mid = (l + h) // 2\n",
    "        \n",
    "        if nums[mid] == target:\n",
    "            return mid\n",
    "        \n",
    "        # check if left side is sorted\n",
    "        if nums[l] <= nums[mid]:\n",
    "            \n",
    "            #check if target lies in this range \n",
    "            if target >= nums[l] and target <= nums[mid]:\n",
    "                h = mid - 1\n",
    "            else:\n",
    "                l = mid + 1\n",
    "        else:\n",
    "            if target > nums[mid]  and target <= nums[h]:\n",
    "                l = mid + 1\n",
    "            else:\n",
    "                h = mid - 1\n",
    "    return -1\n",
    "        \n",
    "  \n",
    "                \n",
    "nums = [4,5,6,1,2,3]\n",
    "target = 4\n",
    "search(nums, target)"
   ]
  },
  {
   "cell_type": "markdown",
   "id": "64b9bb5b",
   "metadata": {},
   "source": [
    "### 540. Single Element in a Sorted Array"
   ]
  },
  {
   "cell_type": "code",
   "execution_count": 36,
   "id": "2dff6a59",
   "metadata": {},
   "outputs": [
    {
     "data": {
      "text/plain": [
       "2"
      ]
     },
     "execution_count": 36,
     "metadata": {},
     "output_type": "execute_result"
    }
   ],
   "source": [
    "def singleNonDuplicate(nums):\n",
    "    if len(nums) <= 1:\n",
    "        return nums[0]\n",
    "    \n",
    "    # boundary checks\n",
    "    # if the first element is not equal to the second one, then return the first one\n",
    "    if nums[0] != nums[1]:\n",
    "        return nums[0]\n",
    "    \n",
    "    # if the last element is not equal to the second last one, then return the first one\n",
    "    if nums[-1] != nums[-2]:\n",
    "        return nums[-1]\n",
    "    \n",
    "    l = 0\n",
    "    h = len(nums) - 1\n",
    "    \n",
    "    while l <= h:\n",
    "        \n",
    "        mid = (l + h) // 2\n",
    "        \n",
    "        # property of unique element (not equal to the prev element and also not equal to the next element)\n",
    "        if  nums[mid] != nums[mid - 1] and nums[mid] != nums[mid + 1]:\n",
    "            return nums[mid]\n",
    "        \n",
    "        # if we are currently at odd index and current element is same as previous element then unique element is in the \n",
    "        # right side, this is becasue of the fact that:\n",
    "        # all the pairs starts with an even index and end with an odd index until the unique element appears\n",
    "        # other way, unique element is responsible for disruption in the order, so if there is any disruption changed the range accordingly\n",
    "        # so when current element is in odd index and the previous element is also the same (meaning till this point there is no \n",
    "        # unique element appeared, so next find in the range (mid+1) to h )\n",
    "        # likewise, when current element is in even index and the next element is also the same (meaning till this point there is no \n",
    "        # unique element appeared, so next find in the range (mid+1) to h )\n",
    "        if (mid % 2 == 0 and nums[mid] == nums[mid + 1]) or (mid % 2 == 1 and nums[mid] == nums[mid - 1]):\n",
    "            l = mid + 1\n",
    "        else:\n",
    "            h = mid - 1\n",
    "            \n",
    "    return -1\n",
    "\n",
    "    \n",
    "    \n",
    "nums = [1,1,2,3,3,4,4,8,8]\n",
    "singleNonDuplicate(nums)"
   ]
  },
  {
   "cell_type": "markdown",
   "id": "13e73cd9",
   "metadata": {},
   "source": [
    "### 81. Search in Rotated Sorted Array II"
   ]
  },
  {
   "cell_type": "code",
   "execution_count": 43,
   "id": "3e5f603a",
   "metadata": {},
   "outputs": [
    {
     "data": {
      "text/plain": [
       "True"
      ]
     },
     "execution_count": 43,
     "metadata": {},
     "output_type": "execute_result"
    }
   ],
   "source": [
    "def search(nums, target):\n",
    "    \n",
    "    l = 0\n",
    "    h = len(nums) - 1\n",
    "    \n",
    "    while l <= h:\n",
    "        mid = (l + h) // 2\n",
    "        \n",
    "        if nums[mid] == target:\n",
    "            return True\n",
    "        \n",
    "        # check if left side is sorted\n",
    "        if nums[l] < nums[mid]:\n",
    "            \n",
    "            #check if target lies in this range \n",
    "            if target >= nums[l] and target < nums[mid]:\n",
    "                h = mid - 1\n",
    "            else:\n",
    "                l = mid + 1\n",
    "        elif nums[l] == nums[mid] and nums[mid] == nums[h]:\n",
    "            l = l + 1\n",
    "        else:\n",
    "            if target > nums[mid]  and target <= nums[h]:\n",
    "                l = mid + 1\n",
    "            else:\n",
    "                h = mid - 1\n",
    "    return False\n",
    "    \n",
    "\n",
    "\n",
    "\n",
    "                \n",
    "# nums = [1,1,1,1,1,1,1,1,1,1,1,1,1,2,1,1,1,1,1]\n",
    "# target = 2 \n",
    "\n",
    "# nums = [1,1,1,1,1,1,1,1,1,13,1,1,1,1,1,1,1,1,1,1,1,1]\n",
    "# target = 13\n",
    "# nums = [1,0,1,1,1]\n",
    "# target = 0\n",
    "\n",
    "# nums = [1,3]\n",
    "# target = 3\n",
    "search(nums, target)"
   ]
  },
  {
   "cell_type": "markdown",
   "id": "fbe99eb5",
   "metadata": {},
   "source": [
    "### 153. Find Minimum in Rotated Sorted Array\n"
   ]
  },
  {
   "cell_type": "code",
   "execution_count": 69,
   "id": "23b5a877",
   "metadata": {},
   "outputs": [
    {
     "data": {
      "text/plain": [
       "1"
      ]
     },
     "execution_count": 69,
     "metadata": {},
     "output_type": "execute_result"
    }
   ],
   "source": [
    "def findMin(nums):\n",
    "    \n",
    "    if len(nums) <= 1:\n",
    "        return nums[0]\n",
    "    \n",
    "    l = 0\n",
    "    r = len(nums) - 1\n",
    "    \n",
    "    while l < r:\n",
    "        m = (l + r) // 2\n",
    "        \n",
    "        if nums[m] < nums[r]:\n",
    "            # m could be potential ans\n",
    "            r = m\n",
    "        else :\n",
    "            l = m + 1\n",
    "    return nums[r]\n",
    "\n",
    "\n",
    "\n",
    "\n",
    "nums = [3,4,5,1,2]\n",
    "# Output: 1\n",
    "findMin(nums)"
   ]
  },
  {
   "cell_type": "markdown",
   "id": "a91ea186",
   "metadata": {},
   "source": [
    "### 154. Find Minimum in Rotated Sorted Array II\n"
   ]
  },
  {
   "cell_type": "code",
   "execution_count": 60,
   "id": "ca95567c",
   "metadata": {},
   "outputs": [
    {
     "data": {
      "text/plain": [
       "0"
      ]
     },
     "execution_count": 60,
     "metadata": {},
     "output_type": "execute_result"
    }
   ],
   "source": [
    "def findMinWithDup(nums):\n",
    "    \n",
    "    if len(nums) <= 1:\n",
    "        return nums[0]\n",
    "    \n",
    "    l = 0\n",
    "    r = len(nums) - 1\n",
    "    \n",
    "    while l < r:\n",
    "        m = (l + r) // 2\n",
    "        \n",
    "        if nums[m] < nums[r]:\n",
    "            # m could be potential ans\n",
    "            r = m\n",
    "        elif nums[m] > nums[r]:\n",
    "            l = m + 1\n",
    "        else:\n",
    "            r = r-1\n",
    "            \n",
    "    return nums[r]\n",
    "\n",
    "\n",
    "nums = [1,0,1,1,1]\n",
    "# Output: 0\n",
    "\n",
    "findMinWithDup(nums)\n"
   ]
  },
  {
   "cell_type": "markdown",
   "id": "94442d63",
   "metadata": {},
   "source": [
    "### 162. Find Peak Element\n"
   ]
  },
  {
   "cell_type": "code",
   "execution_count": 50,
   "id": "3373cfa3",
   "metadata": {},
   "outputs": [
    {
     "data": {
      "text/plain": [
       "0"
      ]
     },
     "execution_count": 50,
     "metadata": {},
     "output_type": "execute_result"
    }
   ],
   "source": [
    "# Input: nums = [1,2,1,3,5,6,4]\n",
    "# Output: 5\n",
    "# Explanation: Your function can return either index number \n",
    "# 1 where the peak element is 2, or index number 5 where the peak element is 6.\n",
    "def findPeakElement(nums):\n",
    "    if len(nums) == 1:\n",
    "        return 0\n",
    "    \n",
    "    l = 0\n",
    "    h = len(nums) - 1\n",
    "    \n",
    "    while l <= h:\n",
    "        \n",
    "        mid = (l + h) // 2\n",
    "        \n",
    "        if mid > 0 and mid < len(nums) - 1:\n",
    "            \n",
    "            if nums[mid] > nums[mid+1] and nums[mid] > nums[mid-1]:\n",
    "                return mid\n",
    "            \n",
    "            elif nums[mid] < nums[mid+1]:\n",
    "                l = mid + 1\n",
    "            else:\n",
    "                h = mid - 1\n",
    "                \n",
    "        elif mid == 0:\n",
    "            if nums[mid] > nums[mid+1]:\n",
    "                return mid\n",
    "            else:\n",
    "                return mid + 1\n",
    "            \n",
    "        elif mid == len(nums) -1:\n",
    "            if nums[mid] > nums[mid-1]:\n",
    "                return mid\n",
    "            else:\n",
    "                return mid - 1\n",
    "            \n",
    "    return -1\n",
    "\n",
    "nums = [1]\n",
    "\n",
    "findPeakElement(nums)\n",
    "            \n",
    "    "
   ]
  },
  {
   "cell_type": "code",
   "execution_count": 52,
   "id": "a04c510d",
   "metadata": {},
   "outputs": [
    {
     "data": {
      "text/plain": [
       "5"
      ]
     },
     "execution_count": 52,
     "metadata": {},
     "output_type": "execute_result"
    }
   ],
   "source": [
    "def findPeakElement2(nums):\n",
    "    \n",
    "    start = 0\n",
    "    end = len(nums) - 1\n",
    "\n",
    "    while start < end:\n",
    "        mid = (start + end) // 2\n",
    "        #This means we are in the descending part of the numsay\n",
    "        if nums[mid] < nums[mid + 1]:\n",
    "            start = mid + 1\n",
    "\n",
    "        #This means we are in the ascending part of the numsay\n",
    "        if nums[mid] > nums[mid + 1]:\n",
    "            end = mid\n",
    "\n",
    "    #start or end both will have the index value of the peak value\n",
    "    # can return anything\n",
    "    return start;\n",
    "\n",
    "nums = [1,2,1,3,5,6,4]\n",
    "\n",
    "findPeakElement2(nums)\n"
   ]
  },
  {
   "cell_type": "markdown",
   "id": "8f78dcb8",
   "metadata": {},
   "source": [
    "### 1011. Capacity To Ship Packages Within D Days\n",
    "```\n",
    "Input: weights = [1,2,3,4,5,6,7,8,9,10], days = 5\n",
    "Output: 15\n",
    "Explanation: A ship capacity of 15 is the minimum to ship all the packages in 5 days like this:\n",
    "1st day: 1, 2, 3, 4, 5\n",
    "2nd day: 6, 7\n",
    "3rd day: 8\n",
    "4th day: 9\n",
    "5th day: 10\n",
    "\n",
    "Note that the cargo must be shipped in the order given, so using a ship of capacity 14 and splitting the packages into parts like (2, 3, 4, 5), (1, 6, 7), (8), (9), (10) is not allowed.\n",
    "```"
   ]
  },
  {
   "cell_type": "code",
   "execution_count": 17,
   "id": "f76df1b1",
   "metadata": {},
   "outputs": [
    {
     "name": "stdout",
     "output_type": "stream",
     "text": [
      "4 16\n",
      "2\n",
      "4 9\n",
      "3\n",
      "4 5\n",
      "5\n",
      "5 5\n",
      "4\n"
     ]
    },
    {
     "data": {
      "text/plain": [
       "6"
      ]
     },
     "execution_count": 17,
     "metadata": {},
     "output_type": "execute_result"
    }
   ],
   "source": [
    "def shipWithinDays(weights, days):\n",
    "    \n",
    "    low = 0\n",
    "    high = 0\n",
    "    ans = 0\n",
    "    \n",
    "    for i in weights:\n",
    "        if i > low:\n",
    "            low = i\n",
    "        high += i\n",
    "    while low <= high:\n",
    "        mid = (low + high) // 2\n",
    "        if isValid(weights, mid, days):\n",
    "            ans = mid\n",
    "            high = mid - 1\n",
    "        else:\n",
    "            low = mid + 1\n",
    "    return ans\n",
    "            \n",
    "def isValid(weights, mid, D):\n",
    "\n",
    "    lsum = 0\n",
    "    days = 1\n",
    "    for i in weights:\n",
    "        if lsum + i <= mid:\n",
    "            lsum += i\n",
    "        else:\n",
    "            lsum = i\n",
    "            days += 1\n",
    "    print(days)       \n",
    "    if days <= D:\n",
    "        return True\n",
    "    return False\n",
    "\n",
    "# weights = [1,2,3,4,5,6,7,8,9,10]\n",
    "# days = 5\n",
    "weights = [3,2,2,4,1,4]\n",
    "days = 3\n",
    "# Output: 6\n",
    "shipWithinDays(weights, days)"
   ]
  },
  {
   "cell_type": "markdown",
   "id": "9a2f9144",
   "metadata": {},
   "source": [
    "#### \n",
    "Given the number of bags,\n",
    "return the minimum capacity of each bag,\n",
    "so that we can put items one by one into all bags.\n",
    "\n",
    "We binary search the final result.\n",
    "The left bound is max(A),\n",
    "The right bound is sum(A).\n",
    "\n",
    "\n",
    "More Good Binary Search Problems\n",
    "Here are some similar binary search problems.\n",
    "Also find more explanations.\n",
    "Good luck and have fun.\n",
    "\n",
    "Minimum Number of Days to Make m Bouquets\n",
    "Find the Smallest Divisor Given a Threshold\n",
    "Divide Chocolate\n",
    "Capacity To Ship Packages In N Days\n",
    "Koko Eating Bananas\n",
    "Minimize Max Distance to Gas Station\n",
    "Split Array Largest Sum"
   ]
  },
  {
   "cell_type": "code",
   "execution_count": 19,
   "id": "8d624d3e",
   "metadata": {},
   "outputs": [
    {
     "data": {
      "text/plain": [
       "4"
      ]
     },
     "execution_count": 19,
     "metadata": {},
     "output_type": "execute_result"
    }
   ],
   "source": [
    "9 // 2"
   ]
  },
  {
   "cell_type": "code",
   "execution_count": 21,
   "id": "77030f71",
   "metadata": {},
   "outputs": [
    {
     "data": {
      "text/plain": [
       "5"
      ]
     },
     "execution_count": 21,
     "metadata": {},
     "output_type": "execute_result"
    }
   ],
   "source": [
    "import math\n",
    "math.ceil(9 / 2)"
   ]
  },
  {
   "cell_type": "code",
   "execution_count": null,
   "id": "cd6d6231",
   "metadata": {},
   "outputs": [],
   "source": []
  }
 ],
 "metadata": {
  "kernelspec": {
   "display_name": "Python 3 (ipykernel)",
   "language": "python",
   "name": "python3"
  },
  "language_info": {
   "codemirror_mode": {
    "name": "ipython",
    "version": 3
   },
   "file_extension": ".py",
   "mimetype": "text/x-python",
   "name": "python",
   "nbconvert_exporter": "python",
   "pygments_lexer": "ipython3",
   "version": "3.10.0"
  }
 },
 "nbformat": 4,
 "nbformat_minor": 5
}
