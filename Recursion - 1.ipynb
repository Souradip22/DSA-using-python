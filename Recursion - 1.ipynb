{
 "cells": [
  {
   "cell_type": "code",
   "execution_count": 1,
   "id": "dbdbed7e",
   "metadata": {},
   "outputs": [],
   "source": [
    "def fact(n):\n",
    "    if n == 0:\n",
    "        return 1\n",
    "    smallOutput = fact(n - 1)\n",
    "    output = smallOutput * n\n",
    "    return output\n"
   ]
  },
  {
   "cell_type": "code",
   "execution_count": 2,
   "id": "7808bbde",
   "metadata": {},
   "outputs": [],
   "source": [
    "def sum_n(n):\n",
    "    if n == 0:\n",
    "        return 0\n",
    "    smallOutput = sum_n(n - 1)\n",
    "    output = smallOutput + n\n",
    "    return output\n"
   ]
  },
  {
   "cell_type": "code",
   "execution_count": 3,
   "id": "6a7e23a8",
   "metadata": {},
   "outputs": [
    {
     "name": "stdout",
     "output_type": "stream",
     "text": [
      "5\n",
      "120\n",
      "15\n"
     ]
    }
   ],
   "source": [
    "n = int(input())\n",
    "print(fact(n))\n",
    "print(sum_n(n))\n",
    "\n"
   ]
  },
  {
   "cell_type": "code",
   "execution_count": 4,
   "id": "2e66238b",
   "metadata": {},
   "outputs": [
    {
     "name": "stdout",
     "output_type": "stream",
     "text": [
      "3 4\n",
      "81\n"
     ]
    }
   ],
   "source": [
    "x, n = input().split()\n",
    "x = int(x)\n",
    "n = int(n)\n",
    "\n",
    "def power(x, n):\n",
    "    if(n == 0):\n",
    "        return 1\n",
    "    return x * power(x, n-1)\n",
    "\n",
    "print(power(x, n))"
   ]
  },
  {
   "cell_type": "code",
   "execution_count": 5,
   "id": "8e2c6d8c",
   "metadata": {},
   "outputs": [],
   "source": [
    "def print_1_to_n(n):\n",
    "    if n == 0:\n",
    "        return \n",
    "    print_1_to_n(n - 1)\n",
    "    print(n)\n",
    "    return \n"
   ]
  },
  {
   "cell_type": "code",
   "execution_count": 6,
   "id": "7a400178",
   "metadata": {},
   "outputs": [
    {
     "name": "stdout",
     "output_type": "stream",
     "text": [
      "1\n",
      "2\n",
      "3\n",
      "4\n",
      "5\n"
     ]
    }
   ],
   "source": [
    "print_1_to_n(5)"
   ]
  },
  {
   "cell_type": "code",
   "execution_count": 7,
   "id": "d9fc17c6",
   "metadata": {},
   "outputs": [],
   "source": [
    "def print_n_to_1(n):\n",
    "    if n == 0:\n",
    "        return \n",
    "    print(n)\n",
    "    print_n_to_1(n - 1)\n",
    "    return"
   ]
  },
  {
   "cell_type": "code",
   "execution_count": 8,
   "id": "8fcf4fd5",
   "metadata": {},
   "outputs": [
    {
     "name": "stdout",
     "output_type": "stream",
     "text": [
      "5\n",
      "4\n",
      "3\n",
      "2\n",
      "1\n"
     ]
    }
   ],
   "source": [
    "print_n_to_1(5)"
   ]
  },
  {
   "cell_type": "code",
   "execution_count": 9,
   "id": "d0d43ae3",
   "metadata": {},
   "outputs": [],
   "source": [
    "#considering the fibonacci sersies start from 1 [1,1,2,3,5,8......]\n",
    "def fib(n):\n",
    "    if n == 1 or n == 2:\n",
    "        return 1\n",
    "    return fib(n - 1) + fib(n - 2)"
   ]
  },
  {
   "cell_type": "code",
   "execution_count": 11,
   "id": "a02bbf19",
   "metadata": {},
   "outputs": [
    {
     "data": {
      "text/plain": [
       "8"
      ]
     },
     "execution_count": 11,
     "metadata": {},
     "output_type": "execute_result"
    }
   ],
   "source": [
    "fib(6)"
   ]
  },
  {
   "cell_type": "code",
   "execution_count": 2,
   "id": "566f5b52",
   "metadata": {},
   "outputs": [],
   "source": [
    "def isSorted(a):\n",
    "    print(a)\n",
    "    l = len(a)\n",
    "    if l == 0 or l == 1:\n",
    "        return True\n",
    "    \n",
    "    if a[0] > a[1]:\n",
    "        return False\n",
    "    \n",
    "    b = a[1:]\n",
    "    isSmallListSorted = isSorted(b)\n",
    "    \n",
    "    return isSmallListSorted"
   ]
  },
  {
   "cell_type": "code",
   "execution_count": 3,
   "id": "cdb6d40c",
   "metadata": {},
   "outputs": [
    {
     "name": "stdout",
     "output_type": "stream",
     "text": [
      "[1, 2, 30, 4, 5, 6]\n",
      "[2, 30, 4, 5, 6]\n",
      "[30, 4, 5, 6]\n"
     ]
    },
    {
     "data": {
      "text/plain": [
       "False"
      ]
     },
     "execution_count": 3,
     "metadata": {},
     "output_type": "execute_result"
    }
   ],
   "source": [
    "isSorted([1,2,30,4,5,6])"
   ]
  },
  {
   "cell_type": "code",
   "execution_count": 39,
   "id": "c00676b0",
   "metadata": {},
   "outputs": [],
   "source": [
    "def isSortedUsingIndex(arr, si):\n",
    "    l = len(arr)\n",
    "    if si == l-1 or si == l:\n",
    "        return True\n",
    "    \n",
    "    if arr[si] > arr[si + 1]:\n",
    "        return False\n",
    "\n",
    "    isSmallListSorted = isSortedUsingIndex(arr, si + 1)\n",
    "    return isSmallListSorted"
   ]
  },
  {
   "cell_type": "code",
   "execution_count": 41,
   "id": "4e369d80",
   "metadata": {},
   "outputs": [
    {
     "data": {
      "text/plain": [
       "False"
      ]
     },
     "execution_count": 41,
     "metadata": {},
     "output_type": "execute_result"
    }
   ],
   "source": [
    "isSortedUsingIndex([1,2,30,4,5,6], 0)"
   ]
  },
  {
   "cell_type": "code",
   "execution_count": 8,
   "id": "ed8e338c",
   "metadata": {},
   "outputs": [
    {
     "name": "stdout",
     "output_type": "stream",
     "text": [
      "4\n",
      "1 2 3 4\n",
      "10\n"
     ]
    }
   ],
   "source": [
    "def sumArray(arr):\n",
    "    # Please add your code here\n",
    "    if len(arr) == 0:\n",
    "        return 0\n",
    "    if len(arr) == 1:\n",
    "        return arr[0]\n",
    "    \n",
    "    lsum = sumArray(arr[1:])\n",
    "    return arr[0] + lsum\n",
    "# Main\n",
    "from sys import setrecursionlimit\n",
    "setrecursionlimit(11000)\n",
    "n=int(input())\n",
    "arr=list(int(i) for i in input().strip().split(' '))\n",
    "print(sumArray(arr))"
   ]
  },
  {
   "cell_type": "code",
   "execution_count": 31,
   "id": "ff94cbc7",
   "metadata": {},
   "outputs": [
    {
     "name": "stdout",
     "output_type": "stream",
     "text": [
      "3\n",
      "3 4 7\n",
      "7\n",
      "true\n"
     ]
    }
   ],
   "source": [
    "def checkNumber(arr, x):\n",
    "    # Please add your code here\n",
    "    l = len(arr)\n",
    "    if l == 0:\n",
    "        return False;\n",
    "    if arr[0] == x:\n",
    "        return True\n",
    "    return checkNumber(arr[1:], x)\n",
    "\n",
    "# Main\n",
    "from sys import setrecursionlimit\n",
    "setrecursionlimit(11000)\n",
    "n=int(input())\n",
    "arr=list(int(i) for i in input().strip().split(' '))\n",
    "x=int(input())\n",
    "if checkNumber(arr, x):\n",
    "    print('true')\n",
    "else:\n",
    "    print('false')"
   ]
  },
  {
   "cell_type": "code",
   "execution_count": 60,
   "id": "ae868f70",
   "metadata": {},
   "outputs": [
    {
     "name": "stdout",
     "output_type": "stream",
     "text": [
      "44\n",
      "34 57 82 41 65 35 82 27 36 12 6 40 66 99 25 29 22 25 12 24 65 15 5 43 28 33 76 32 13 95 22 84 71 23 28 7 65 94 18 47 9 42 61 73 \n",
      "61\n",
      "42\n"
     ]
    }
   ],
   "source": [
    "def firstIndex(arr, x):\n",
    "    # Please add your code here\n",
    "    l = len(arr)\n",
    "    if l == 0:\n",
    "        return -1\n",
    "    if arr[0] == x:\n",
    "        return 0\n",
    "    indexFromSmallpart = firstIndex(arr[1:], x)\n",
    "    if indexFromSmallpart == -1:\n",
    "        return -1\n",
    "    return indexFromSmallpart + 1;\n",
    "    \n",
    "\n",
    "# Main\n",
    "from sys import setrecursionlimit\n",
    "setrecursionlimit(11000)\n",
    "n=int(input())\n",
    "arr=list(int(i) for i in input().strip().split(' '))\n",
    "x=int(input())\n",
    "print(firstIndex(arr, x))"
   ]
  },
  {
   "cell_type": "code",
   "execution_count": 10,
   "id": "46d43b16",
   "metadata": {},
   "outputs": [
    {
     "name": "stdout",
     "output_type": "stream",
     "text": [
      "5\n",
      "1 2 3 4 2 \n",
      "2\n",
      "1\n"
     ]
    }
   ],
   "source": [
    "def firstIndexBetter(arr, x):\n",
    "    # Please add your code here\n",
    "    l = len(arr)\n",
    "    if l == 0:\n",
    "        return -1\n",
    "    return firstIndexHelper(arr, x, 0);\n",
    "\n",
    "def firstIndexHelper(arr, x, si):\n",
    "    \n",
    "    if si == len(arr) - 1 and arr[si] != x:\n",
    "        return -1\n",
    "    if arr[si] == x:\n",
    "        return si\n",
    "    return firstIndexHelper(arr, x, si + 1)\n",
    "#     l = len(arr)\n",
    "#     if si == l:\n",
    "#         return -1\n",
    "#     if arr[si] == x:\n",
    "#         return si\n",
    "#     indexFromSmallpart = firstIndexHelper(arr, x, si+1)\n",
    "#     if indexFromSmallpart == -1:\n",
    "#         return -1\n",
    "#     return indexFromSmallpart;\n",
    "    \n",
    "\n",
    "# Main\n",
    "from sys import setrecursionlimit\n",
    "setrecursionlimit(11000)\n",
    "n=int(input())\n",
    "arr=list(int(i) for i in input().strip().split(' '))\n",
    "x=int(input())\n",
    "print(firstIndexBetter(arr, x))"
   ]
  },
  {
   "cell_type": "code",
   "execution_count": 71,
   "id": "bce2adfd",
   "metadata": {},
   "outputs": [
    {
     "name": "stdout",
     "output_type": "stream",
     "text": [
      "1\n",
      "1 2 4 5 6 7 8 9 2 6 9 0\n",
      "2\n",
      "8\n"
     ]
    }
   ],
   "source": [
    "def lastIndex(arr, x):\n",
    "    # Please add your code here\n",
    "    l = len(arr)\n",
    "    if l == 0:\n",
    "        return -1\n",
    "    indexFromSmallpart = lastIndex(arr[1:], x)\n",
    "    if indexFromSmallpart == -1:\n",
    "        if arr[0] == x:\n",
    "            return 0\n",
    "        return -1        \n",
    "    return indexFromSmallpart + 1;\n",
    "    \n",
    "\n",
    "# Main\n",
    "from sys import setrecursionlimit\n",
    "setrecursionlimit(11000)\n",
    "n=int(input())\n",
    "arr=list(int(i) for i in input().strip().split(' '))\n",
    "x=int(input())\n",
    "print(lastIndex(arr, x))"
   ]
  },
  {
   "cell_type": "code",
   "execution_count": 170,
   "id": "d4649d1f",
   "metadata": {},
   "outputs": [],
   "source": [
    "def _helperBS(arr, target):\n",
    "    start = 0\n",
    "    end = len(arr) - 1\n",
    "    \n",
    "    while start <= end:\n",
    "        mid = math.floor(start + (end - start)/2)\n",
    "        if arr[mid] < target:\n",
    "            start = mid + 1\n",
    "        elif arr[mid] > target:\n",
    "            end = mid - 1\n",
    "        else:\n",
    "            return mid\n",
    "    return -1\n",
    "\n"
   ]
  },
  {
   "cell_type": "code",
   "execution_count": 11,
   "id": "79d7249c",
   "metadata": {},
   "outputs": [
    {
     "name": "stdout",
     "output_type": "stream",
     "text": [
      "5\n",
      "1 2 3 2 1\n",
      "2\n",
      "3\n"
     ]
    }
   ],
   "source": [
    "def lastIndexBetter(arr, x):\n",
    "    # Please add your code here\n",
    "    l = len(arr)\n",
    "    if l == 0:\n",
    "        return -1\n",
    "    return lastIndexHelper(arr, x, l - 1);\n",
    "\n",
    "def lastIndexHelper(arr, x, li):\n",
    "    \n",
    "    if li == 0 and arr[li] != x:\n",
    "        return -1\n",
    "    if arr[li] == x:\n",
    "        return li\n",
    "    return lastIndexHelper(arr, x, li - 1)\n",
    "        \n",
    "    \n",
    "#     l = len(arr)\n",
    "#     if li == -1:\n",
    "#         return -1\n",
    "#     if arr[li] == x:\n",
    "#         return li\n",
    "    \n",
    "#     indexFromSmallpart = lastIndexHelper(arr, x, li-1)\n",
    "#     if indexFromSmallpart == -1:\n",
    "#         return -1\n",
    "#     return indexFromSmallpart;\n",
    "# Main\n",
    "from sys import setrecursionlimit\n",
    "setrecursionlimit(11000)\n",
    "n=int(input())\n",
    "arr=list(int(i) for i in input().strip().split(' '))\n",
    "x=int(input())\n",
    "print(lastIndexBetter(arr, x))"
   ]
  },
  {
   "cell_type": "code",
   "execution_count": 182,
   "id": "3ec44954",
   "metadata": {},
   "outputs": [],
   "source": [
    "import math\n",
    "\n",
    "def intersection(arr1, arr2) :\n",
    "   \n",
    "    arr1.sort()\n",
    "    arr2.sort()\n",
    "    \n",
    "    i = 0\n",
    "    j = 0\n",
    "    \n",
    "    while i < len(arr1) and j < len(arr2):\n",
    "        if arr1[i] < arr2[j]:\n",
    "            i = i+1\n",
    "        elif arr1[i] > arr2[j]:\n",
    "            j = j+1\n",
    "        else:\n",
    "            print(arr1[i],end=\" \")\n",
    "            i = i+1\n",
    "            j = j+1\n",
    "        \n"
   ]
  },
  {
   "cell_type": "code",
   "execution_count": 183,
   "id": "8658ed15",
   "metadata": {},
   "outputs": [
    {
     "name": "stdout",
     "output_type": "stream",
     "text": [
      "2 2 2 "
     ]
    }
   ],
   "source": [
    "intersection([2, 1, 2, 2],[2, 2, 2, 2])"
   ]
  },
  {
   "cell_type": "code",
   "execution_count": 184,
   "id": "0792d305",
   "metadata": {},
   "outputs": [
    {
     "name": "stdout",
     "output_type": "stream",
     "text": [
      "8 9 "
     ]
    }
   ],
   "source": [
    "intersection([6, 9, 8, 5], [9, 2, 4, 1, 8])"
   ]
  },
  {
   "cell_type": "code",
   "execution_count": 185,
   "id": "6e1a8601",
   "metadata": {},
   "outputs": [
    {
     "name": "stdout",
     "output_type": "stream",
     "text": [
      "10 "
     ]
    }
   ],
   "source": [
    "intersection([10, 10], [10])"
   ]
  },
  {
   "cell_type": "code",
   "execution_count": 186,
   "id": "2d63b197",
   "metadata": {},
   "outputs": [
    {
     "name": "stdout",
     "output_type": "stream",
     "text": [
      "1 "
     ]
    }
   ],
   "source": [
    "intersection([1, 2, 3, 4],[1, 1, 1, 1, 1])"
   ]
  },
  {
   "cell_type": "code",
   "execution_count": 187,
   "id": "705c3642",
   "metadata": {},
   "outputs": [
    {
     "name": "stdout",
     "output_type": "stream",
     "text": [
      "11 12 12 13 "
     ]
    }
   ],
   "source": [
    "intersection([11, 11, 12, 12, 13],[11, 12, 12, 13, 13])"
   ]
  },
  {
   "cell_type": "code",
   "execution_count": 192,
   "id": "0eb70ac2",
   "metadata": {},
   "outputs": [],
   "source": [
    "#O(N2)\n",
    "def arrayEquilibriumIndex(arr, n) :\n",
    "    for i in range(n):\n",
    "        leftSum = 0\n",
    "        rightSum = 0\n",
    "        for j in range(i):\n",
    "            leftSum += arr[j]\n",
    "        for j in range(i+1, n):\n",
    "            rightSum += arr[j]\n",
    "            \n",
    "        if leftSum == rightSum:\n",
    "            return i\n",
    "    return -1"
   ]
  },
  {
   "cell_type": "code",
   "execution_count": 197,
   "id": "0129a17d",
   "metadata": {},
   "outputs": [],
   "source": [
    "#O(N)\n",
    "def arrayEquilibriumIndexBetter(arr, n) :\n",
    "    sum = 0\n",
    "    leftSum = 0\n",
    "    for i in range(n):\n",
    "        sum += arr[i]\n",
    "    for i in range(n):\n",
    "        sum -= arr[i] # this is equivalent to right sum at i\n",
    "        if leftSum == sum:\n",
    "            return i\n",
    "        leftSum += arr[i]\n",
    "    return -1"
   ]
  },
  {
   "cell_type": "code",
   "execution_count": 198,
   "id": "007d1a9b",
   "metadata": {},
   "outputs": [
    {
     "data": {
      "text/plain": [
       "3"
      ]
     },
     "execution_count": 198,
     "metadata": {},
     "output_type": "execute_result"
    }
   ],
   "source": [
    "arr = [-7, 1, 5, 2, -4, 3, 0]\n",
    "# arrayEquilibriumIndex(arr, len(arr))\n",
    "arrayEquilibriumIndexBetter(arr, len(arr))"
   ]
  },
  {
   "cell_type": "code",
   "execution_count": 40,
   "id": "cade7dba",
   "metadata": {},
   "outputs": [],
   "source": [
    "def findUnique(arr, n):\n",
    "    res = {}\n",
    "    for i in range(n):\n",
    "        if not res.get(arr[i]):\n",
    "            res[arr[i]] = 1\n",
    "        else:\n",
    "            res[arr[i]] += 1\n",
    "            \n",
    "    for i in res:\n",
    "        if(res.get(i) == 1):\n",
    "            return i\n",
    "    return -1\n",
    "        \n",
    "    "
   ]
  },
  {
   "cell_type": "code",
   "execution_count": 41,
   "id": "84618615",
   "metadata": {},
   "outputs": [
    {
     "data": {
      "text/plain": [
       "10"
      ]
     },
     "execution_count": 41,
     "metadata": {},
     "output_type": "execute_result"
    }
   ],
   "source": [
    "arr = [1, 3, 1, 3, 6, 6, 7, 10, 7]\n",
    "findUnique(arr, len(arr))"
   ]
  },
  {
   "cell_type": "code",
   "execution_count": 45,
   "id": "3c419954",
   "metadata": {},
   "outputs": [],
   "source": [
    "'''You have been given an integer array/list(ARR) of size N which contains numbers from 0 to (N - 2). \n",
    "Each number is present at least once. That is, if N = 5, \n",
    "the array/list constitutes values ranging from 0 to 3, and among these, \n",
    "there is a single integer value that is present twice. \n",
    "You need to find and return that duplicate number present in the array.'''\n",
    "\n",
    "def findDuplicate(arr, n) :\n",
    "    res = {}\n",
    "    for i in range(n):\n",
    "        if not res.get(arr[i]):\n",
    "            res[arr[i]] = 1\n",
    "        else:\n",
    "            res[arr[i]] += 1\n",
    "    print(res)       \n",
    "    for i in res:\n",
    "        if(res.get(i) > 1):\n",
    "            return i\n",
    "    return -1\n",
    "    \n",
    "    \n",
    "    \n",
    "    \n",
    "    "
   ]
  },
  {
   "cell_type": "code",
   "execution_count": 47,
   "id": "fdf73ba9",
   "metadata": {},
   "outputs": [
    {
     "name": "stdout",
     "output_type": "stream",
     "text": [
      "{0: 1, 2: 2, 3: 1, 4: 1, 1: 1}\n"
     ]
    },
    {
     "data": {
      "text/plain": [
       "2"
      ]
     },
     "execution_count": 47,
     "metadata": {},
     "output_type": "execute_result"
    }
   ],
   "source": [
    "arr3 = [0, 7, 2, 5, 4, 7, 1, 3, 6]\n",
    "arr4 = [0, 2, 3, 4, 1, 2 ]\n",
    "findDuplicate(arr4, len(arr4))"
   ]
  },
  {
   "cell_type": "code",
   "execution_count": 111,
   "id": "083c2a9a",
   "metadata": {},
   "outputs": [],
   "source": [
    "'''You have been given an integer array/list(ARR) and a number 'num'. \n",
    "Find and return the total number of pairs in the array/list which sum to 'num'.\n",
    "'''\n",
    "\n",
    "# Make a hash table which will store the count of each element in the array.\n",
    "# Iterate the array for I in range 0 to n-1\n",
    "# If arr[i] is equal to k-arr[i], then add (count_of(k-arr[i])-1) to the answer.\n",
    "# If arr[i] is not equal to k-arr[i], then add (count_of(k-arr[i]) to the answer.\n",
    "# Return answer.\n",
    "\n",
    "def pairSum(arr, n, num):\n",
    "    obj = {}\n",
    "    count = 0\n",
    "    for i in range(n):\n",
    "        if not obj.get(arr[i]):\n",
    "            obj[arr[i]] = 1\n",
    "        else:\n",
    "            obj[arr[i]] += 1\n",
    "    print(obj)\n",
    "    for i in range(n):\n",
    "        if arr[i] == num - arr[i]:\n",
    "            count += obj.get(arr[i]) -1\n",
    "        else:\n",
    "            if obj.get(num - arr[i]):\n",
    "                count += obj.get(num - arr[i])\n",
    "    count = count /2\n",
    "    return count \n",
    " \n",
    "\n",
    "def getPairsCount(arr, n, sum):\n",
    " \n",
    "    m = [0] * 1000\n",
    " \n",
    "    # Store counts of all elements in map m\n",
    "    for i in range(0, n):\n",
    "        m[arr[i]] += 1\n",
    " \n",
    "    twice_count = 0\n",
    " \n",
    "    # Iterate through each element and increment\n",
    "    # the count (Notice that every pair is\n",
    "    # counted twice)\n",
    "    for i in range(0, n):\n",
    " \n",
    "        twice_count += m[sum - arr[i]]\n",
    " \n",
    "        # if (arr[i], arr[i]) pair satisfies the\n",
    "        # condition, then we need to ensure that\n",
    "        # the count is  decreased by one such\n",
    "        # that the (arr[i], arr[i]) pair is not\n",
    "        # considered\n",
    "        if (sum - arr[i] == arr[i]):\n",
    "            twice_count -= 1\n",
    " \n",
    "    # return the half of twice_count\n",
    "    return int(twice_count / 2)\n",
    "        \n"
   ]
  },
  {
   "cell_type": "code",
   "execution_count": 112,
   "id": "98214083",
   "metadata": {},
   "outputs": [
    {
     "data": {
      "text/plain": [
       "10"
      ]
     },
     "execution_count": 112,
     "metadata": {},
     "output_type": "execute_result"
    }
   ],
   "source": [
    "ps_arr1 = [1, 3, 6, 2, 5, 4, 3, 2, 4]\n",
    "ps_arr2 = [0, 6, 0, 0 ]\n",
    "ps_arr3 = [3, 3, 3, 3, 3]\n",
    "getPairsCount(ps_arr3, len(ps_arr3), 6)"
   ]
  },
  {
   "cell_type": "code",
   "execution_count": 119,
   "id": "6f95df5c",
   "metadata": {},
   "outputs": [],
   "source": [
    "def rotate(arr, n, d):\n",
    "    rev1 = _helperReverse(arr, 0, len(arr) - 1)\n",
    "    rev2 = _helperReverse(arr, 0, len(arr) - d - 1)\n",
    "    rev3 = _helperReverse(arr, len(arr) - d, len(arr) - 1)\n",
    "    return rev3\n",
    "    \n",
    "def _helperReverse(arr, start, end):\n",
    "    while start <= end:\n",
    "        temp = arr[end]\n",
    "        arr[end] = arr[start]\n",
    "        arr[start] = temp\n",
    "        start += 1\n",
    "        end -= 1\n",
    "    return arr"
   ]
  },
  {
   "cell_type": "code",
   "execution_count": 120,
   "id": "d2321f1e",
   "metadata": {},
   "outputs": [
    {
     "name": "stdout",
     "output_type": "stream",
     "text": [
      "[2, 5, 4, 3, 2, 4, 1, 3, 6]\n"
     ]
    }
   ],
   "source": [
    "rotate(ps_arr1, len(ps_arr1), 3)\n",
    "print(ps_arr1)"
   ]
  },
  {
   "cell_type": "code",
   "execution_count": 126,
   "id": "96cce324",
   "metadata": {},
   "outputs": [],
   "source": [
    "#Pair sum count SOLVE\n",
    "\n",
    "def pairSumCount(arr, n, target):\n",
    "    ANS = []\n",
    "    MAP = {}\n",
    "    KEYARR = []\n",
    "    count = 0\n",
    "    for i in range(n):\n",
    "        if not arr[i] in KEYARR:\n",
    "            KEYARR.append(arr[i])\n",
    "        if MAP.get(arr[i]):\n",
    "            MAP[arr[i]] += 1\n",
    "        else:\n",
    "            MAP[arr[i]] = 1\n",
    "    KEYARR.sort()\n",
    "    print(KEYARR, MAP)\n",
    "    for KEY in KEYARR:\n",
    "        if KEY + KEY == target:\n",
    "            count += 1\n",
    "            ANS.append([KEY, KEY])\n",
    "    LOW = 0\n",
    "    HIGH = len(KEYARR) - 1\n",
    "    while LOW < HIGH:\n",
    "        CURRSUM = KEYARR[LOW] + KEYARR[HIGH]\n",
    "        if CURRSUM == target:\n",
    "            count += 1\n",
    "            ANS.append([KEYARR[LOW] , KEYARR[HIGH]])\n",
    "            LOW += 1\n",
    "            HIGH -= 1\n",
    "        elif CURRSUM < target:\n",
    "            LOW += 1\n",
    "        else:\n",
    "            HIGH -= 1\n",
    "    return count\n",
    "            \n",
    "    "
   ]
  },
  {
   "cell_type": "code",
   "execution_count": 128,
   "id": "2829d3bd",
   "metadata": {},
   "outputs": [
    {
     "name": "stdout",
     "output_type": "stream",
     "text": [
      "[2] {2: 5}\n"
     ]
    },
    {
     "data": {
      "text/plain": [
       "1"
      ]
     },
     "execution_count": 128,
     "metadata": {},
     "output_type": "execute_result"
    }
   ],
   "source": [
    "psc_arr1 = [2,2,2,2,2]\n",
    "psc_arr2 = []\n",
    "psc_arr3 = []\n",
    "pairSumCount(psc_arr1, len(psc_arr1),4)"
   ]
  },
  {
   "cell_type": "code",
   "execution_count": 156,
   "id": "8e75dd33",
   "metadata": {},
   "outputs": [],
   "source": [
    "def pairSumCount2(arr, n, target):\n",
    "    ANS = []\n",
    "    MAP = {}\n",
    "    KEYARR = []\n",
    "    count = 0\n",
    "    \n",
    "    LOW = 0\n",
    "    HIGH = len(arr) - 1\n",
    "    arr.sort()\n",
    "    while LOW < HIGH:\n",
    "        \n",
    "        CURRSUM = arr[LOW] + arr[HIGH]\n",
    "        if CURRSUM == target:\n",
    "#             count += 1\n",
    "            count1 = arr.count(arr[LOW])\n",
    "            count2 = arr.count(arr[HIGH])\n",
    "            if arr[LOW] == arr[HIGH]:\n",
    "                cnt = count1 + count2 - 1\n",
    "                print(count1, count2)\n",
    "                count += (cnt * (cnt + 1)) / 2 \n",
    "            else:\n",
    "                print(count1, count2)\n",
    "                count += count1 * count2\n",
    "            LOW += 1\n",
    "            HIGH -= 1\n",
    "        elif CURRSUM < target:\n",
    "            LOW += 1\n",
    "        else:\n",
    "            HIGH -= 1\n",
    "   \n",
    "    return count"
   ]
  },
  {
   "cell_type": "code",
   "execution_count": 157,
   "id": "1051a25c",
   "metadata": {},
   "outputs": [
    {
     "name": "stdout",
     "output_type": "stream",
     "text": [
      "2 3\n",
      "2 3\n",
      "1 1\n"
     ]
    },
    {
     "data": {
      "text/plain": [
       "13"
      ]
     },
     "execution_count": 157,
     "metadata": {},
     "output_type": "execute_result"
    }
   ],
   "source": [
    "\n",
    "psc_arr2 = [1,3,3,4,5,8,9,9,9,15]\n",
    "pairSumCount2(psc_arr2, len(psc_arr2),12)\n",
    "# pairSumCount2(psc_arr1, len(psc_arr1),4)"
   ]
  },
  {
   "cell_type": "code",
   "execution_count": 154,
   "id": "5e7a30a9",
   "metadata": {},
   "outputs": [],
   "source": [
    "def findPairs(arr, sum):\n",
    "\n",
    "    arr.sort()\n",
    "    l = 0\n",
    "    r = len(arr) -1\n",
    "    count = 0\n",
    "    while l < r:\n",
    "        if arr[l] + arr[r] == sum:\n",
    "            count += 1\n",
    "            r -= 1\n",
    "        elif arr[l] + arr[r] > sum:\n",
    "            r -= 1\n",
    "        else:\n",
    "            l += 1\n",
    "      \n",
    "    return count;\n",
    "  "
   ]
  },
  {
   "cell_type": "code",
   "execution_count": 155,
   "id": "08d43749",
   "metadata": {},
   "outputs": [
    {
     "data": {
      "text/plain": [
       "4"
      ]
     },
     "execution_count": 155,
     "metadata": {},
     "output_type": "execute_result"
    }
   ],
   "source": [
    "psc_arr2 = [1,3,3,4,5,8,9,9,9,15]\n",
    "findPairs(psc_arr2, 12)"
   ]
  },
  {
   "cell_type": "code",
   "execution_count": 164,
   "id": "7c072e6a",
   "metadata": {},
   "outputs": [],
   "source": [
    "def find3Numbers(A, arr_size, sum):\n",
    " \n",
    "    # Sort the elements\n",
    "    A.sort()\n",
    " \n",
    "   \n",
    "    for i in range(0, arr_size-2):\n",
    "     \n",
    "        l = i + 1\n",
    "         \n",
    "        c = 0\n",
    "        r = arr_size-1\n",
    "        while (l < r):\n",
    "         \n",
    "            if( A[i] + A[l] + A[r] == sum):\n",
    "               \n",
    "                c += 1\n",
    "                i += 1\n",
    "                r -= 1\n",
    "             \n",
    "            elif (A[i] + A[l] + A[r] < sum):\n",
    "                l += 1\n",
    "            else: # A[i] + A[l] + A[r] > sum\n",
    "                r -= 1\n",
    "    return c"
   ]
  },
  {
   "cell_type": "code",
   "execution_count": 165,
   "id": "fe4e9669",
   "metadata": {},
   "outputs": [
    {
     "data": {
      "text/plain": [
       "0"
      ]
     },
     "execution_count": 165,
     "metadata": {},
     "output_type": "execute_result"
    }
   ],
   "source": [
    "A = [1, 2, 3, 4, 5, 6, 7 ]\n",
    "sum = 12\n",
    "arr_size = len(A)\n",
    " \n",
    "find3Numbers(A, arr_size, sum)"
   ]
  },
  {
   "cell_type": "code",
   "execution_count": 176,
   "id": "0ceaa603",
   "metadata": {},
   "outputs": [],
   "source": [
    "def finalPairSum(arr, target):\n",
    "    obj = {}\n",
    "    count = 0\n",
    "    for i in range(len(arr)):\n",
    "        val = target - arr[i]\n",
    "        if obj.get(val):\n",
    "            count += obj[val]\n",
    "        obj[arr[i]] += 1\n",
    "    return count"
   ]
  },
  {
   "cell_type": "code",
   "execution_count": 177,
   "id": "e322ff16",
   "metadata": {},
   "outputs": [
    {
     "ename": "KeyError",
     "evalue": "1",
     "output_type": "error",
     "traceback": [
      "\u001b[1;31m---------------------------------------------------------------------------\u001b[0m",
      "\u001b[1;31mKeyError\u001b[0m                                  Traceback (most recent call last)",
      "\u001b[1;32m~\\AppData\\Local\\Temp/ipykernel_21736/1637983865.py\u001b[0m in \u001b[0;36m<module>\u001b[1;34m\u001b[0m\n\u001b[1;32m----> 1\u001b[1;33m \u001b[0mfinalPairSum\u001b[0m\u001b[1;33m(\u001b[0m\u001b[1;33m[\u001b[0m\u001b[1;36m1\u001b[0m\u001b[1;33m,\u001b[0m\u001b[1;36m1\u001b[0m\u001b[1;33m,\u001b[0m\u001b[1;36m1\u001b[0m\u001b[1;33m,\u001b[0m\u001b[1;36m1\u001b[0m\u001b[1;33m]\u001b[0m\u001b[1;33m,\u001b[0m\u001b[1;36m2\u001b[0m\u001b[1;33m)\u001b[0m\u001b[1;33m\u001b[0m\u001b[1;33m\u001b[0m\u001b[0m\n\u001b[0m",
      "\u001b[1;32m~\\AppData\\Local\\Temp/ipykernel_21736/2981279239.py\u001b[0m in \u001b[0;36mfinalPairSum\u001b[1;34m(arr, target)\u001b[0m\n\u001b[0;32m      6\u001b[0m         \u001b[1;32mif\u001b[0m \u001b[0mobj\u001b[0m\u001b[1;33m.\u001b[0m\u001b[0mget\u001b[0m\u001b[1;33m(\u001b[0m\u001b[0mval\u001b[0m\u001b[1;33m)\u001b[0m\u001b[1;33m:\u001b[0m\u001b[1;33m\u001b[0m\u001b[1;33m\u001b[0m\u001b[0m\n\u001b[0;32m      7\u001b[0m             \u001b[0mcount\u001b[0m \u001b[1;33m+=\u001b[0m \u001b[0mobj\u001b[0m\u001b[1;33m[\u001b[0m\u001b[0mval\u001b[0m\u001b[1;33m]\u001b[0m\u001b[1;33m\u001b[0m\u001b[1;33m\u001b[0m\u001b[0m\n\u001b[1;32m----> 8\u001b[1;33m         \u001b[0mobj\u001b[0m\u001b[1;33m[\u001b[0m\u001b[0marr\u001b[0m\u001b[1;33m[\u001b[0m\u001b[0mi\u001b[0m\u001b[1;33m]\u001b[0m\u001b[1;33m]\u001b[0m \u001b[1;33m+=\u001b[0m \u001b[1;36m1\u001b[0m\u001b[1;33m\u001b[0m\u001b[1;33m\u001b[0m\u001b[0m\n\u001b[0m\u001b[0;32m      9\u001b[0m     \u001b[1;32mreturn\u001b[0m \u001b[0mcount\u001b[0m\u001b[1;33m\u001b[0m\u001b[1;33m\u001b[0m\u001b[0m\n",
      "\u001b[1;31mKeyError\u001b[0m: 1"
     ]
    }
   ],
   "source": [
    "finalPairSum([1,1,1,1],2)"
   ]
  },
  {
   "cell_type": "code",
   "execution_count": 184,
   "id": "5ec491a8",
   "metadata": {},
   "outputs": [],
   "source": [
    "def pairSum2(arr, n, num):\n",
    "    obj = {}\n",
    "    count = 0\n",
    "    for i in range(len(arr)):\n",
    "        val = num - arr[i]\n",
    "        if obj.get(val):\n",
    "            count += obj[val]\n",
    "        else:\n",
    "            obj[arr[i]] += 1\n",
    "    return count"
   ]
  },
  {
   "cell_type": "code",
   "execution_count": 185,
   "id": "be7ca8ea",
   "metadata": {},
   "outputs": [
    {
     "ename": "KeyError",
     "evalue": "1",
     "output_type": "error",
     "traceback": [
      "\u001b[1;31m---------------------------------------------------------------------------\u001b[0m",
      "\u001b[1;31mKeyError\u001b[0m                                  Traceback (most recent call last)",
      "\u001b[1;32m~\\AppData\\Local\\Temp/ipykernel_21736/2748680628.py\u001b[0m in \u001b[0;36m<module>\u001b[1;34m\u001b[0m\n\u001b[1;32m----> 1\u001b[1;33m \u001b[0mpairSum2\u001b[0m\u001b[1;33m(\u001b[0m\u001b[1;33m[\u001b[0m\u001b[1;36m1\u001b[0m\u001b[1;33m,\u001b[0m\u001b[1;36m1\u001b[0m\u001b[1;33m,\u001b[0m\u001b[1;36m1\u001b[0m\u001b[1;33m,\u001b[0m\u001b[1;36m1\u001b[0m\u001b[1;33m]\u001b[0m\u001b[1;33m,\u001b[0m\u001b[1;36m4\u001b[0m\u001b[1;33m,\u001b[0m\u001b[1;36m2\u001b[0m\u001b[1;33m)\u001b[0m\u001b[1;33m\u001b[0m\u001b[1;33m\u001b[0m\u001b[0m\n\u001b[0m",
      "\u001b[1;32m~\\AppData\\Local\\Temp/ipykernel_21736/613994624.py\u001b[0m in \u001b[0;36mpairSum2\u001b[1;34m(arr, n, num)\u001b[0m\n\u001b[0;32m      7\u001b[0m             \u001b[0mcount\u001b[0m \u001b[1;33m+=\u001b[0m \u001b[0mobj\u001b[0m\u001b[1;33m[\u001b[0m\u001b[0mval\u001b[0m\u001b[1;33m]\u001b[0m\u001b[1;33m\u001b[0m\u001b[1;33m\u001b[0m\u001b[0m\n\u001b[0;32m      8\u001b[0m         \u001b[1;32melse\u001b[0m\u001b[1;33m:\u001b[0m\u001b[1;33m\u001b[0m\u001b[1;33m\u001b[0m\u001b[0m\n\u001b[1;32m----> 9\u001b[1;33m             \u001b[0mobj\u001b[0m\u001b[1;33m[\u001b[0m\u001b[0marr\u001b[0m\u001b[1;33m[\u001b[0m\u001b[0mi\u001b[0m\u001b[1;33m]\u001b[0m\u001b[1;33m]\u001b[0m \u001b[1;33m+=\u001b[0m \u001b[1;36m1\u001b[0m\u001b[1;33m\u001b[0m\u001b[1;33m\u001b[0m\u001b[0m\n\u001b[0m\u001b[0;32m     10\u001b[0m     \u001b[1;32mreturn\u001b[0m \u001b[0mcount\u001b[0m\u001b[1;33m\u001b[0m\u001b[1;33m\u001b[0m\u001b[0m\n",
      "\u001b[1;31mKeyError\u001b[0m: 1"
     ]
    }
   ],
   "source": [
    "pairSum2([1,1,1,1],4,2)"
   ]
  },
  {
   "cell_type": "code",
   "execution_count": null,
   "id": "5b22f083",
   "metadata": {},
   "outputs": [],
   "source": []
  }
 ],
 "metadata": {
  "kernelspec": {
   "display_name": "Python 3 (ipykernel)",
   "language": "python",
   "name": "python3"
  },
  "language_info": {
   "codemirror_mode": {
    "name": "ipython",
    "version": 3
   },
   "file_extension": ".py",
   "mimetype": "text/x-python",
   "name": "python",
   "nbconvert_exporter": "python",
   "pygments_lexer": "ipython3",
   "version": "3.10.0"
  }
 },
 "nbformat": 4,
 "nbformat_minor": 5
}
