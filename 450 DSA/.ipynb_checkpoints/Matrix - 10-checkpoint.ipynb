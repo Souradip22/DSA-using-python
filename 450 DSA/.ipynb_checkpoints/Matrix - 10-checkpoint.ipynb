{
 "cells": [
  {
   "cell_type": "markdown",
   "id": "1912f5ff",
   "metadata": {},
   "source": [
    "### Spirally traversing a matrix"
   ]
  },
  {
   "cell_type": "code",
   "execution_count": 9,
   "id": "6c64a30c",
   "metadata": {},
   "outputs": [
    {
     "name": "stdout",
     "output_type": "stream",
     "text": [
      "[1, 2, 3, 4, 8, 12, 16, 15, 14, 13, 9, 5, 6, 7, 11, 10]\n"
     ]
    }
   ],
   "source": [
    "def spirallyTraverse(matrix, r, c): \n",
    "    \n",
    "    top = 0\n",
    "    left = 0\n",
    "    \n",
    "    right = c - 1\n",
    "    bottom = r - 1\n",
    "    direction = 0\n",
    "    res = []\n",
    "    \n",
    "    while top <= bottom and left <= right:\n",
    "        \n",
    "        if direction == 0:\n",
    "            for i in range(left, right + 1):\n",
    "                res.append(matrix[top][i])\n",
    "                \n",
    "            top += 1\n",
    "        \n",
    "        if direction == 1:\n",
    "            for i in range(top, bottom + 1):\n",
    "                res.append(matrix[i][right])\n",
    "                \n",
    "            right -= 1\n",
    "            \n",
    "        if direction == 2:\n",
    "            for i in range(right, left - 1, -1):\n",
    "                res.append(matrix[bottom][i])\n",
    "            \n",
    "            bottom -= 1\n",
    "                \n",
    "        if direction == 3:\n",
    "            for i in range(bottom, top - 1, - 1):\n",
    "                res.append(matrix[i][left])\n",
    "            \n",
    "            left += 1\n",
    "    \n",
    "        direction = (direction + 1) % 4\n",
    "        \n",
    "    return res\n",
    "    \n",
    "\n",
    "matrix = [[1, 2, 3, 4],\n",
    "          [5, 6, 7, 8],\n",
    "          [9, 10, 11, 12],\n",
    "          [13, 14, 15,16]]  \n",
    "r = 4\n",
    "c = 4\n",
    "print(spirallyTraverse(matrix, r, c))"
   ]
  },
  {
   "cell_type": "markdown",
   "id": "fd370e1e",
   "metadata": {},
   "source": [
    "### 74. Search a 2D Matrix"
   ]
  },
  {
   "cell_type": "code",
   "execution_count": 10,
   "id": "5e4e3b03",
   "metadata": {},
   "outputs": [
    {
     "name": "stdout",
     "output_type": "stream",
     "text": [
      "True\n"
     ]
    }
   ],
   "source": [
    "def searchMatrix(matrix, target):        \n",
    "    r = len(matrix)\n",
    "    c = len(matrix[0])\n",
    "\n",
    "    low = 0\n",
    "\n",
    "    high = (r * c) - 1\n",
    "\n",
    "    while low <= high:\n",
    "\n",
    "        mid = (low + high) // 2\n",
    "\n",
    "        row = mid // c\n",
    "        col = mid % c\n",
    "\n",
    "        if matrix[row][col] == target:\n",
    "            return True\n",
    "        elif matrix[row][col] < target:\n",
    "            low = mid + 1\n",
    "        else:\n",
    "            high = mid - 1\n",
    "    return False\n",
    "\n",
    "matrix = [[1,3,5,7],[10,11,16,20],[23,30,34,60]]\n",
    "target = 3\n",
    "print(searchMatrix(matrix, target))"
   ]
  },
  {
   "cell_type": "markdown",
   "id": "11b9ebbb",
   "metadata": {},
   "source": [
    "### Median in a row-wise sorted Matrix\n",
    "    Given thatn r*c always odd. \n",
    "    For a number to be median there should be exactly n/2 numbers present which are less than this number"
   ]
  },
  {
   "cell_type": "code",
   "execution_count": 46,
   "id": "f1460532",
   "metadata": {},
   "outputs": [
    {
     "name": "stdout",
     "output_type": "stream",
     "text": [
      "Approach 1 --> 5\n",
      "Approach 2 Using Binary Search --> 5\n"
     ]
    }
   ],
   "source": [
    "def median(matrix, r, c):\n",
    "    temp = []\n",
    "    for i in range(r):\n",
    "        for j in range(c):\n",
    "            temp.append(matrix[i][j])\n",
    "\n",
    "    temp.sort()\n",
    "    mid = len(temp) // 2\n",
    "    if len(temp) % 2 == 0:\n",
    "        return (temp[mid] + temp[mid- 1])/2\n",
    "    return temp[mid]\n",
    "\n",
    "def medianBinarySearch(matrix, r, c):\n",
    "    \n",
    "    lmin = float('inf')\n",
    "    lmax = float('-inf')\n",
    "    \n",
    "    \n",
    "    for i in range(r):\n",
    "        \n",
    "        lmin = min(matrix[i][0], lmin)\n",
    "        lmax = max(matrix[i][-1], lmax)\n",
    "    \n",
    "    \n",
    "    desiredCount = ((r * c)) / 2\n",
    "       \n",
    "    \n",
    "    while lmin <= lmax:\n",
    "        mid = (lmin + lmax) // 2\n",
    "        cnt = 0\n",
    "        for row in matrix:\n",
    "            cnt += countSmallerThanMid(row, mid, c)\n",
    "        \n",
    "        if cnt <= desiredCount:\n",
    "            lmin = mid + 1\n",
    "        else:\n",
    "            lmax = mid - 1\n",
    "            \n",
    "    return lmin\n",
    "\n",
    "def countSmallerThanMid(row, k, c):\n",
    "    \n",
    "    low = 0\n",
    "    high = c - 1\n",
    "    while low <= high:\n",
    "        mid = (low + high) // 2\n",
    "        \n",
    "        if row[mid] <= k:\n",
    "            low = mid + 1\n",
    "        else:\n",
    "            high = mid - 1\n",
    "    return low\n",
    "\n",
    "\n",
    "R = 3\n",
    "C = 3\n",
    "M = [[1, 3, 5], \n",
    "     [2, 6, 9], \n",
    "     [3, 6, 9]]\n",
    "print('Approach 1 -->',median(M, R, C))\n",
    "print('Approach 2 Using Binary Search -->',medianBinarySearch(M, R, C))"
   ]
  },
  {
   "cell_type": "markdown",
   "id": "a176bb9a",
   "metadata": {},
   "source": [
    "### Rotate a matrix by 90 degree in clockwise direction without using any extra space"
   ]
  },
  {
   "cell_type": "code",
   "execution_count": 25,
   "id": "f9597f27",
   "metadata": {},
   "outputs": [
    {
     "name": "stdout",
     "output_type": "stream",
     "text": [
      "[[13, 9, 5, 1], [14, 10, 6, 2], [15, 11, 7, 3], [16, 12, 8, 4]]\n",
      "None\n"
     ]
    }
   ],
   "source": [
    "def transPose(matrix):\n",
    "    r = len(matrix)\n",
    "    c = len(matrix[0])\n",
    "    j = 0\n",
    "    for i in range(r):\n",
    "        for j in range(i, c):\n",
    "            if i != j:\n",
    "                temp = matrix[i][j]\n",
    "                matrix[i][j] = matrix[j][i] \n",
    "                matrix[j][i] = temp\n",
    "                \n",
    "def reverseRow(row):\n",
    "    start = 0\n",
    "    end = len(row) - 1\n",
    "    while start <= end:\n",
    "        row[start], row[end] = row[end], row[start]\n",
    "        start += 1\n",
    "        end -= 1\n",
    "\n",
    "        \n",
    "    \n",
    "def rotateMatrix(matrix):\n",
    "    transPose(matrix)\n",
    "    for row in matrix:\n",
    "        reverseRow(row)\n",
    "\n",
    "    \n",
    "    \n",
    "matrix = [[1, 2, 3, 4],\n",
    "          [5, 6, 7, 8],\n",
    "          [9, 10, 11, 12],\n",
    "          [13, 14, 15, 16]] \n",
    "\n",
    "print(rotateMatrix(matrix))\n",
    "# 13 9 5 1 \n",
    "# 14 10 6 2 \n",
    "# 15 11 7 3 \n",
    "# 16 12 8 4"
   ]
  },
  {
   "cell_type": "markdown",
   "id": "f4cb8789",
   "metadata": {},
   "source": [
    "### Row with max 1s"
   ]
  },
  {
   "cell_type": "code",
   "execution_count": 31,
   "id": "9ccdf45b",
   "metadata": {},
   "outputs": [
    {
     "name": "stdout",
     "output_type": "stream",
     "text": [
      "2\n"
     ]
    }
   ],
   "source": [
    "def rowWithMax1s(arr, r, c):\n",
    "    ans = float('-inf')\n",
    "    index = -1\n",
    "\n",
    "    for i, el in enumerate(arr):\n",
    "        indexOf1 = el.index(1) if 1 in el else None\n",
    "        if indexOf1 != None:\n",
    "            countOf1 = len(el) - indexOf1\n",
    "            if countOf1 > ans:\n",
    "                ans = countOf1\n",
    "                index = i\n",
    "    return index\n",
    "    \n",
    "arr = [[0, 1, 1, 1],\n",
    "       [0, 0, 1, 1],\n",
    "       [1, 1, 1, 1],\n",
    "       [0, 0, 0, 0]]\n",
    "\n",
    "print(rowWithMax1s(arr, len(arr), len(arr[0])))"
   ]
  },
  {
   "cell_type": "markdown",
   "id": "ed13fa00",
   "metadata": {},
   "source": [
    "### Sorted matrix"
   ]
  },
  {
   "cell_type": "code",
   "execution_count": 48,
   "id": "ac994301",
   "metadata": {},
   "outputs": [
    {
     "name": "stdout",
     "output_type": "stream",
     "text": [
      "None\n",
      "[[10, 15, 20, 25], [27, 29, 30, 32], [33, 35, 37, 39], [40, 45, 48, 50]]\n"
     ]
    }
   ],
   "source": [
    "def sortedMatrix(matrix):\n",
    "    r = len(matrix)\n",
    "    c = len(matrix[0])\n",
    "    temp =[]\n",
    "    \n",
    "    for i in range(r):\n",
    "        for j in range(c):\n",
    "            temp.append(matrix[i][j])\n",
    "            \n",
    "    temp.sort()\n",
    "    \n",
    "    for i in range(len(temp)):\n",
    "        matrix[i//c][i%c] = temp[i]\n",
    "    \n",
    "    \n",
    "    \n",
    "matrix = [[10,20,30,40],\n",
    "          [15,25,35,45], \n",
    "          [27,29,37,48], \n",
    "          [32,33,39,50]]\n",
    "\n",
    "print(sortedMatrix(matrix))\n",
    "print(matrix)"
   ]
  },
  {
   "cell_type": "markdown",
   "id": "ae39760f",
   "metadata": {},
   "source": [
    "### Previous smaller element"
   ]
  },
  {
   "cell_type": "code",
   "execution_count": 80,
   "id": "2da387e3",
   "metadata": {},
   "outputs": [
    {
     "name": "stdout",
     "output_type": "stream",
     "text": [
      "[-1, -1, -1, -1, 4, 24, 24, -1]\n"
     ]
    }
   ],
   "source": [
    "def findPreviousSmaller(arr):\n",
    "    \n",
    "    stack = []\n",
    "    ans = []\n",
    "    \n",
    "    for i, el in enumerate(arr):\n",
    "        while len(stack):\n",
    "            if stack[-1] < el:\n",
    "                ans.append(stack[-1])\n",
    "                stack.append(el)\n",
    "                break\n",
    "            else:\n",
    "                stack.pop()\n",
    "                \n",
    "        if len(stack) == 0:\n",
    "            ans.append(-1)\n",
    "            stack.append(el)\n",
    "    return ans\n",
    "    \n",
    "    \n",
    "\n",
    "\n",
    "\n",
    "arr = [4, 10, 5, 8, 20, 15, 3, 12]\n",
    "arr = [1,6,2]\n",
    "arr = [1, 5, 0, 3, 4, 5]\n",
    "arr = [1]\n",
    "arr = [39, 27, 11, 4, 24, 32, 32, 1]\n",
    "print(findPreviousSmaller(arr))\n",
    "\n"
   ]
  },
  {
   "cell_type": "markdown",
   "id": "23151f0d",
   "metadata": {},
   "source": [
    "### Next Smaller Element"
   ]
  },
  {
   "cell_type": "code",
   "execution_count": 93,
   "id": "2eb2cf05",
   "metadata": {},
   "outputs": [
    {
     "name": "stdout",
     "output_type": "stream",
     "text": [
      "[3, 5, 3, 3, 15, 3, -1, -1]\n"
     ]
    }
   ],
   "source": [
    "def findNextSmaller(arr):\n",
    "    \n",
    "    stack = []\n",
    "    ans = []\n",
    "    \n",
    "    for i, el in enumerate(arr[::-1]):\n",
    "\n",
    "        while len(stack):\n",
    "            if stack[-1] < el:\n",
    "                ans.append(stack[-1])\n",
    "                stack.append(el)\n",
    "                break\n",
    "            else:\n",
    "                stack.pop()\n",
    "                \n",
    "        if len(stack) == 0:\n",
    "            ans.append(-1)\n",
    "            stack.append(el)\n",
    "    ans.reverse()\n",
    "    return ans\n",
    "    \n",
    "\n",
    "\n",
    "arr = [4, 10, 5, 8, 20, 15, 3, 12]\n",
    "# arr = [1,6,2]\n",
    "# arr = [1, 5, 0, 3, 4, 5]\n",
    "# arr = [1]\n",
    "# arr = [39, 27, 11, 4, 24, 32, 32, 1]\n",
    "print(findNextSmaller(arr))\n"
   ]
  },
  {
   "cell_type": "markdown",
   "id": "e7362677",
   "metadata": {},
   "source": [
    "### 84. Largest Rectangle in Histogram"
   ]
  },
  {
   "cell_type": "code",
   "execution_count": 128,
   "id": "f0ed724e",
   "metadata": {},
   "outputs": [
    {
     "name": "stdout",
     "output_type": "stream",
     "text": [
      "[-1, -1, -1, 2, 3, 2, 2, 6, 2] [1, 2, 9, 5, 5, 6, 9, 8, 9]\n",
      "12\n"
     ]
    }
   ],
   "source": [
    "def findPreviousSmallerIndex(arr):\n",
    "    \n",
    "    stack = []\n",
    "    ans = []\n",
    "    \n",
    "    for i, el in enumerate(arr):\n",
    "        while len(stack):\n",
    "            if arr[stack[-1]] < el:\n",
    "                ans.append(stack[-1])\n",
    "                stack.append(i)\n",
    "                break\n",
    "            else:\n",
    "                stack.pop()\n",
    "                \n",
    "        if len(stack) == 0:\n",
    "            ans.append(-1)\n",
    "            stack.append(i)\n",
    "    return ans\n",
    "\n",
    "def findNextSmallerIndex(arr):\n",
    "    \n",
    "    stack = []\n",
    "    ans = []\n",
    "    \n",
    "    j = len(arr) - 1\n",
    "    last = len(arr)\n",
    "    while j >= 0:\n",
    "        while len(stack):\n",
    "            if arr[stack[-1]] < arr[j]:\n",
    "                ans.append(stack[-1])\n",
    "                stack.append(j)\n",
    "                break\n",
    "            else:\n",
    "                stack.pop()\n",
    "                \n",
    "        if len(stack) == 0:\n",
    "            ans.append(last)\n",
    "            stack.append(j)\n",
    "    \n",
    "        j -= 1\n",
    "    ans.reverse()\n",
    "    return ans\n",
    "\n",
    "\n",
    "def largestRectangleArea(heights):\n",
    "    prev_small = findPreviousSmallerIndex(heights)\n",
    "    next_small = findNextSmallerIndex(heights)\n",
    "    print(prev_small, next_small)\n",
    "    ans = 0\n",
    "    for i in range(len(heights)):\n",
    "        area = (next_small[i] - prev_small[i] - 1) * heights[i]\n",
    "\n",
    "        ans = max(ans, area)\n",
    "    \n",
    "    return ans\n",
    "\n",
    "    \n",
    "heights = [2,1,5,6,2,3]\n",
    "heights = [2, 4]\n",
    "heights = [4, 2, 1, 5, 6, 3, 2, 4, 2]\n",
    "print(largestRectangleArea(heights))"
   ]
  },
  {
   "cell_type": "markdown",
   "id": "4f4b48c1",
   "metadata": {},
   "source": [
    "### 85. Maximal Rectangle"
   ]
  },
  {
   "cell_type": "code",
   "execution_count": 123,
   "id": "58fa8dc3",
   "metadata": {},
   "outputs": [
    {
     "name": "stdout",
     "output_type": "stream",
     "text": [
      "1\n"
     ]
    }
   ],
   "source": [
    "def maximalRectangle(matrix):\n",
    "    \n",
    "    a = [0] * len(matrix[0])\n",
    "    ans = 0\n",
    "    \n",
    "    for row in matrix:\n",
    "               \n",
    "        for i, el in enumerate(row):\n",
    "            \n",
    "            if int(el):\n",
    "                a[i] += int(el)\n",
    "            else:\n",
    "                a[i] = 0\n",
    "        \n",
    "        prev_small = findPreviousSmallerIndex(a)\n",
    "        next_small = findNextSmallerIndex(a)\n",
    "        \n",
    "        for i in range(len(a)):\n",
    "            area = (next_small[i] - prev_small[i] - 1) * a[i]\n",
    "            ans = max(ans, area)\n",
    "\n",
    "    return ans\n",
    "\n",
    "    \n",
    "matrix = [[\"1\",\"0\",\"1\",\"0\",\"0\"],[\"1\",\"0\",\"1\",\"1\",\"1\"],[\"1\",\"1\",\"1\",\"1\",\"1\"],[\"1\",\"0\",\"0\",\"1\",\"0\"]]\n",
    "matrix = [[\"1\"]]\n",
    "print(maximalRectangle(matrix))"
   ]
  },
  {
   "cell_type": "code",
   "execution_count": 124,
   "id": "130a20d2",
   "metadata": {},
   "outputs": [],
   "source": [
    "def maxArea(self,M, n, m):\n",
    "    area = self.getMaxArea(M[0],m)\n",
    "\n",
    "    for i in range(1,n):\n",
    "        for j in range(m):\n",
    "            if M[i][j] != 0:\n",
    "                M[i][j] = M[i][j] + M[i-1][j]\n",
    "            else:\n",
    "                M[i][j] = 0\n",
    "        area = max(area,self.getMaxArea(M[i],m))\n",
    "    return area\n",
    "\n",
    "\n",
    "\n",
    "def getMaxArea(self,histogram,n):\n",
    "    stack = []\n",
    "    maxarea = 0\n",
    "    i = 0\n",
    "    while i < n:\n",
    "        if len(stack) == 0 or histogram[stack[-1]] <= histogram[i]:\n",
    "            stack.append(i)\n",
    "            i +=1\n",
    "        else:\n",
    "            topofstack = stack.pop()\n",
    "            area = (histogram[topofstack] *((i-stack[-1]-1) if stack else i))\n",
    "            maxarea = max(area,maxarea)\n",
    "\n",
    "    while stack:\n",
    "        topofstack = stack.pop()\n",
    "        area = (histogram[topofstack] *((i-stack[-1]-1) if stack else i))\n",
    "        maxarea = max(area,maxarea)\n",
    "    return maxarea"
   ]
  },
  {
   "cell_type": "markdown",
   "id": "2388d3c4",
   "metadata": {},
   "source": [
    "### Common elements in all rows of a given matrix"
   ]
  },
  {
   "cell_type": "code",
   "execution_count": 161,
   "id": "64ef4729",
   "metadata": {},
   "outputs": [
    {
     "name": "stdout",
     "output_type": "stream",
     "text": [
      "[1, 8]\n"
     ]
    }
   ],
   "source": [
    "def commonElements(matrix):\n",
    "    hashMap = {}\n",
    "    res = []\n",
    "    \n",
    "    r = len(matrix)\n",
    "    c = len(matrix[0])\n",
    "    \n",
    "    for i in range(r):\n",
    "        matrix[i].sort()\n",
    "        matrix[i].append(-1)\n",
    "        for j in range(c):\n",
    "            if matrix[i][j] != matrix[i][j+1]:\n",
    "                hashMap[matrix[i][j]] = hashMap.get(matrix[i][j], 0) + 1\n",
    "                \n",
    "                \n",
    "    for key, value in hashMap.items():\n",
    "        if value % r == 0:\n",
    "            res.append(key)\n",
    "    return res\n",
    "        \n",
    "mat = [\n",
    "       [1, 2, 1, 4, 8],\n",
    "       [3, 7, 8, 5, 1],\n",
    "       [8, 7, 7, 3, 1],\n",
    "       [8, 1, 2, 7, 9],\n",
    "      ]\n",
    "print(commonElements(mat))"
   ]
  },
  {
   "cell_type": "markdown",
   "id": "5714db9f",
   "metadata": {},
   "source": [
    "### Find a specific pair in Matrix\n",
    "\n",
    "Given an n x n matrix mat[n][n] of integers, find the maximum value of mat(c, d) – mat(a, b) over all choices of indexes such that both c > a and d > b."
   ]
  },
  {
   "cell_type": "code",
   "execution_count": 172,
   "id": "e302c059",
   "metadata": {},
   "outputs": [
    {
     "name": "stdout",
     "output_type": "stream",
     "text": [
      "18\n",
      "18\n"
     ]
    }
   ],
   "source": [
    "def findMaxPairs(matrix):\n",
    "    \n",
    "    N = len(matrix)\n",
    "    ans = 0\n",
    "    for a in range(N - 1):\n",
    "        for b in range(N - 1):\n",
    "            for c in range(a + 1, N):\n",
    "                for d in range(b + 1, N):\n",
    "                    \n",
    "                    ans = max(ans, matrix[c][d] - matrix[a][b])\n",
    "    return ans\n",
    "\n",
    "def findMaxPairsOptimized(matrix):\n",
    "    \n",
    "    N = len(matrix)\n",
    "    dp = [[None for i in range(N)] for j in range(N)]\n",
    "    dp[0][0] = matrix[0][0]\n",
    "    \n",
    "    for i in range(1, N):\n",
    "        dp[i][0] = min(dp[i-1][0], matrix[i][0])\n",
    "\n",
    "    for j in range(1, N):\n",
    "        dp[0][j] = min(dp[0][j - 1], matrix[0][j])\n",
    "        \n",
    "\n",
    "    mx = float('-inf')\n",
    "    for i in range(1,N):\n",
    "        for j in range(1, N):\n",
    "            \n",
    "            mx = max(mx, matrix[i][j] - dp[i-1][j-1])\n",
    "            dp[i][j] = min(matrix[i][j], min(dp[i-1][j],dp[i][j-1]))\n",
    "\n",
    "    return mx\n",
    "    \n",
    "\n",
    "        \n",
    "    \n",
    "    \n",
    "mat =  [\n",
    "        [1, 2, -1, -4, -20],\n",
    "        [-8, -3, 4, 2, 1],\n",
    "        [3, 8, 6, 1, 3],\n",
    "        [-4, -1, 1, 7, -6 ],\n",
    "        [0, -4, 10, -5, 1 ]\n",
    "        ]\n",
    "\n",
    "print(findMaxPairs(mat))\n",
    "print(findMaxPairsOptimized(mat))\n",
    "    "
   ]
  },
  {
   "cell_type": "markdown",
   "id": "26d04843",
   "metadata": {},
   "source": [
    "### Kth smallest element in Matrix\n",
    "\n",
    "Given a N x N matrix, where every row and column is sorted in non-decreasing order. Find the kth smallest element in the matrix."
   ]
  },
  {
   "cell_type": "code",
   "execution_count": 221,
   "id": "5395614e",
   "metadata": {},
   "outputs": [
    {
     "name": "stdout",
     "output_type": "stream",
     "text": [
      "16 94 55 7\n",
      "16 55 35 4\n",
      "16 35 25 2\n",
      "26 35 30 4\n",
      "26 30 28 4\n",
      "26 28 27 3\n",
      "26 27 26 2\n",
      "27\n"
     ]
    }
   ],
   "source": [
    "def kthSmallest(mat, n, k):\n",
    "    \n",
    "    low = mat[0][0]\n",
    "    high = mat[-1][-1]\n",
    "    \n",
    "    while low < high:\n",
    "        mid = (low + high) // 2\n",
    "        \n",
    "        count = 0\n",
    "        j = n - 1\n",
    "        for i in range(0, n):\n",
    "#             while j  >= 0 and matrix[i][j] > mid:\n",
    "#                 j -= 1\n",
    "#             count += j + 1\n",
    "\n",
    "            j = 0\n",
    "            while j < n and mat[i][j] <= mid:\n",
    "                count += 1\n",
    "                j += 1\n",
    "            \n",
    "        print(low, high, mid, count)\n",
    "        if count < k:\n",
    "            low = mid + 1\n",
    "        else:\n",
    "            high = mid \n",
    "            \n",
    "    return low\n",
    "\n",
    "matrix = [\n",
    "        [16, 28, 60, 64],\n",
    "        [22, 41, 63, 91],\n",
    "        [27, 50, 87, 93],\n",
    "        [36, 78, 87, 94 ]]\n",
    "\n",
    "# matrix = [[11, 21, 31, 41],[16, 26, 36, 46],[25, 30, 38, 49],[33, 34, 40, 50]]\n",
    "K = 3\n",
    "print(kthSmallest(matrix, len(matrix), K))"
   ]
  },
  {
   "cell_type": "code",
   "execution_count": null,
   "id": "973a3b72",
   "metadata": {},
   "outputs": [],
   "source": [
    "16 94 55 7\n",
    "16 55 35 4\n",
    "16 35 25 2\n",
    "26 35 30 4\n",
    "26 30 28 4\n",
    "26 28 27 3\n",
    "26 27 26 2"
   ]
  }
 ],
 "metadata": {
  "kernelspec": {
   "display_name": "Python 3 (ipykernel)",
   "language": "python",
   "name": "python3"
  },
  "language_info": {
   "codemirror_mode": {
    "name": "ipython",
    "version": 3
   },
   "file_extension": ".py",
   "mimetype": "text/x-python",
   "name": "python",
   "nbconvert_exporter": "python",
   "pygments_lexer": "ipython3",
   "version": "3.10.0"
  }
 },
 "nbformat": 4,
 "nbformat_minor": 5
}
