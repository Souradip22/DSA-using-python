{
 "cells": [
  {
   "cell_type": "markdown",
   "id": "1cee9f20",
   "metadata": {},
   "source": [
    "### 34. Find First and Last Position of Element in Sorted Array"
   ]
  },
  {
   "cell_type": "code",
   "execution_count": 4,
   "id": "33eb880d",
   "metadata": {},
   "outputs": [
    {
     "data": {
      "text/plain": [
       "[3, 4]"
      ]
     },
     "execution_count": 4,
     "metadata": {},
     "output_type": "execute_result"
    }
   ],
   "source": [
    "def searchRange(nums, target):\n",
    "\n",
    "    firstIndex = _helperSearchRange(nums, 0, len(nums) - 1, target, True)\n",
    "    lastIndex = _helperSearchRange(nums, 0, len(nums) - 1, target, False)\n",
    "\n",
    "    return [firstIndex, lastIndex]\n",
    "\n",
    "def _helperSearchRange(nums, si, ei, target, isFirstIndex):\n",
    "\n",
    "    ans = -1\n",
    "\n",
    "    while si <= ei:\n",
    "        mid = (si + ei) // 2\n",
    "\n",
    "        if nums[mid] < target:\n",
    "            si = mid + 1\n",
    "        elif nums[mid] > target:\n",
    "            ei = mid - 1\n",
    "        else:\n",
    "            ans = mid\n",
    "            if isFirstIndex:\n",
    "                ei = mid - 1\n",
    "            else:\n",
    "                si = mid + 1\n",
    "    return ans\n",
    "\n",
    "nums = [5,7,7,8,8,10]\n",
    "target = 8\n",
    "searchRange(nums, target)"
   ]
  },
  {
   "cell_type": "markdown",
   "id": "9bf444a3",
   "metadata": {},
   "source": [
    "### 33. Search in Rotated Sorted Array\n"
   ]
  },
  {
   "cell_type": "code",
   "execution_count": 18,
   "id": "0220ed6b",
   "metadata": {},
   "outputs": [
    {
     "data": {
      "text/plain": [
       "2"
      ]
     },
     "execution_count": 18,
     "metadata": {},
     "output_type": "execute_result"
    }
   ],
   "source": [
    "def search(nums, target):\n",
    "  \n",
    "                \n",
    "                \n",
    "\n",
    "nums = [5,1,3]\n",
    "target = 3\n",
    "search(nums, target)"
   ]
  },
  {
   "cell_type": "markdown",
   "id": "64b9bb5b",
   "metadata": {},
   "source": [
    "### 540. Single Element in a Sorted Array"
   ]
  },
  {
   "cell_type": "code",
   "execution_count": 36,
   "id": "2dff6a59",
   "metadata": {},
   "outputs": [
    {
     "data": {
      "text/plain": [
       "2"
      ]
     },
     "execution_count": 36,
     "metadata": {},
     "output_type": "execute_result"
    }
   ],
   "source": [
    "def singleNonDuplicate(nums):\n",
    "    if len(nums) <= 1:\n",
    "        return nums[0]\n",
    "    \n",
    "    # boundary checks\n",
    "    # if the first element is not equal to the second one, then return the first one\n",
    "    if nums[0] != nums[1]:\n",
    "        return nums[0]\n",
    "    \n",
    "    # if the last element is not equal to the second last one, then return the first one\n",
    "    if nums[-1] != nums[-2]:\n",
    "        return nums[-1]\n",
    "    \n",
    "    l = 0\n",
    "    h = len(nums) - 1\n",
    "    \n",
    "    while l <= h:\n",
    "        \n",
    "        mid = (l + h) // 2\n",
    "        \n",
    "        # property of unique element (not equal to the prev element and also not equal to the next element)\n",
    "        if  nums[mid] != nums[mid - 1] and nums[mid] != nums[mid + 1]:\n",
    "            return nums[mid]\n",
    "        \n",
    "        # if we are currently at odd index and current element is same as previous element then unique element is in the \n",
    "        # right side, this is becasue of the fact that:\n",
    "        # all the pairs starts with an even index and end with an odd index until the unique element appears\n",
    "        # other way, unique element is responsible for disruption in the order, so if there is any disruption changed the range accordingly\n",
    "        # so when current element is in odd index and the previous element is also the same (meaning till this point there is no \n",
    "        # unique element appeared, so next find in the range (mid+1) to h )\n",
    "        # likewise, when current element is in even index and the next element is also the same (meaning till this point there is no \n",
    "        # unique element appeared, so next find in the range (mid+1) to h )\n",
    "        if (mid % 2 == 0 and nums[mid] == nums[mid + 1]) or (mid % 2 == 1 and nums[mid] == nums[mid - 1]):\n",
    "            l = mid + 1\n",
    "        else:\n",
    "            h = mid - 1\n",
    "            \n",
    "    return -1\n",
    "\n",
    "    \n",
    "    \n",
    "nums = [1,1,2,3,3,4,4,8,8]\n",
    "singleNonDuplicate(nums)"
   ]
  },
  {
   "cell_type": "markdown",
   "id": "13e73cd9",
   "metadata": {},
   "source": [
    "### 81. Search in Rotated Sorted Array II"
   ]
  },
  {
   "cell_type": "code",
   "execution_count": 28,
   "id": "3e5f603a",
   "metadata": {},
   "outputs": [
    {
     "data": {
      "text/plain": [
       "True"
      ]
     },
     "execution_count": 28,
     "metadata": {},
     "output_type": "execute_result"
    }
   ],
   "source": [
    "def search(nums, target):\n",
    "    \n",
    "\n",
    "\n",
    "\n",
    "                \n",
    "# nums = [1,1,1,1,1,1,1,1,1,1,1,1,1,2,1,1,1,1,1]\n",
    "# target = 2 \n",
    "\n",
    "# nums = [1,1,1,1,1,1,1,1,1,13,1,1,1,1,1,1,1,1,1,1,1,1]\n",
    "# target = 13\n",
    "# nums = [1,0,1,1,1]\n",
    "# target = 0\n",
    "\n",
    "# nums = [1,3]\n",
    "# target = 3\n",
    "search(nums, target)"
   ]
  },
  {
   "cell_type": "markdown",
   "id": "fbe99eb5",
   "metadata": {},
   "source": [
    "### 153. Find Minimum in Rotated Sorted Array\n"
   ]
  },
  {
   "cell_type": "code",
   "execution_count": 69,
   "id": "23b5a877",
   "metadata": {},
   "outputs": [
    {
     "data": {
      "text/plain": [
       "1"
      ]
     },
     "execution_count": 69,
     "metadata": {},
     "output_type": "execute_result"
    }
   ],
   "source": [
    "def findMin(nums):\n",
    "    \n",
    "    if len(nums) <= 1:\n",
    "        return nums[0]\n",
    "    \n",
    "    l = 0\n",
    "    r = len(nums) - 1\n",
    "    \n",
    "    while l < r:\n",
    "        m = (l + r) // 2\n",
    "        \n",
    "        if nums[m] < nums[r]:\n",
    "            # m could be potential ans\n",
    "            r = m\n",
    "        else :\n",
    "            l = m + 1\n",
    "    return nums[r]\n",
    "\n",
    "\n",
    "\n",
    "\n",
    "nums = [3,4,5,1,2]\n",
    "# Output: 1\n",
    "findMin(nums)"
   ]
  },
  {
   "cell_type": "markdown",
   "id": "a91ea186",
   "metadata": {},
   "source": [
    "### 154. Find Minimum in Rotated Sorted Array II\n"
   ]
  },
  {
   "cell_type": "code",
   "execution_count": 60,
   "id": "ca95567c",
   "metadata": {},
   "outputs": [
    {
     "data": {
      "text/plain": [
       "0"
      ]
     },
     "execution_count": 60,
     "metadata": {},
     "output_type": "execute_result"
    }
   ],
   "source": [
    "def findMinWithDup(nums):\n",
    "    \n",
    "    if len(nums) <= 1:\n",
    "        return nums[0]\n",
    "    \n",
    "    l = 0\n",
    "    r = len(nums) - 1\n",
    "    \n",
    "    while l < r:\n",
    "        m = (l + r) // 2\n",
    "        \n",
    "        if nums[m] < nums[r]:\n",
    "            # m could be potential ans\n",
    "            r = m\n",
    "        elif nums[m] > nums[r]:\n",
    "            l = m + 1\n",
    "        else:\n",
    "            r = r-1\n",
    "            \n",
    "    return nums[r]\n",
    "\n",
    "\n",
    "nums = [1,0,1,1,1]\n",
    "# Output: 0\n",
    "\n",
    "findMinWithDup(nums)\n"
   ]
  },
  {
   "cell_type": "code",
   "execution_count": null,
   "id": "97bc890d",
   "metadata": {},
   "outputs": [],
   "source": []
  }
 ],
 "metadata": {
  "kernelspec": {
   "display_name": "Python 3 (ipykernel)",
   "language": "python",
   "name": "python3"
  },
  "language_info": {
   "codemirror_mode": {
    "name": "ipython",
    "version": 3
   },
   "file_extension": ".py",
   "mimetype": "text/x-python",
   "name": "python",
   "nbconvert_exporter": "python",
   "pygments_lexer": "ipython3",
   "version": "3.10.0"
  }
 },
 "nbformat": 4,
 "nbformat_minor": 5
}
