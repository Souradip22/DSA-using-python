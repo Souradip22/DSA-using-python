{
 "cells": [
  {
   "cell_type": "code",
   "execution_count": null,
   "id": "e7fbb94a",
   "metadata": {},
   "outputs": [],
   "source": [
    "class ExpenseTracker:\n",
    "    \"\"\"this is a class to do expense tracking\"\"\"\n",
    "    \n",
    "    def __init__(self):\n",
    "        pass"
   ]
  },
  {
   "cell_type": "code",
   "execution_count": null,
   "id": "894e3cf6",
   "metadata": {},
   "outputs": [],
   "source": [
    "obj1 = ExpenseTracker()"
   ]
  },
  {
   "cell_type": "code",
   "execution_count": 31,
   "id": "95febdf4",
   "metadata": {},
   "outputs": [],
   "source": [
    "class ExpenseTracker:\n",
    "    \"\"\"this is a class to do expense tracking\"\"\"\n",
    "    #class attribute\n",
    "    expense_tracker_version = 0.1\n",
    "    \n",
    "    def __init__(self, tracker_category, opening_balance, budget):\n",
    "        #Instacne/Object attribute\n",
    "        self.tracker_category = tracker_category\n",
    "        self.opening_balance = opening_balance\n",
    "        self.budget = budget\n",
    "    \n",
    "    \n",
    "        "
   ]
  },
  {
   "cell_type": "code",
   "execution_count": 32,
   "id": "0266bca5",
   "metadata": {},
   "outputs": [],
   "source": [
    "home_tracker = ExpenseTracker(\"home\", 3000, 10000) "
   ]
  },
  {
   "cell_type": "code",
   "execution_count": 33,
   "id": "6e1c526e",
   "metadata": {},
   "outputs": [
    {
     "data": {
      "text/plain": [
       "'home'"
      ]
     },
     "execution_count": 33,
     "metadata": {},
     "output_type": "execute_result"
    }
   ],
   "source": [
    "home_tracker.tracker_category\n"
   ]
  },
  {
   "cell_type": "code",
   "execution_count": 34,
   "id": "9032f7bf",
   "metadata": {},
   "outputs": [],
   "source": [
    "shopping_tracker = ExpenseTracker(\"shooping\", 1000, 5000) \n"
   ]
  },
  {
   "cell_type": "code",
   "execution_count": 35,
   "id": "b2edbe10",
   "metadata": {},
   "outputs": [
    {
     "data": {
      "text/plain": [
       "'shooping'"
      ]
     },
     "execution_count": 35,
     "metadata": {},
     "output_type": "execute_result"
    }
   ],
   "source": [
    "shopping_tracker.tracker_category\n"
   ]
  },
  {
   "cell_type": "code",
   "execution_count": 36,
   "id": "e4feb3ba",
   "metadata": {},
   "outputs": [
    {
     "data": {
      "text/plain": [
       "0.1"
      ]
     },
     "execution_count": 36,
     "metadata": {},
     "output_type": "execute_result"
    }
   ],
   "source": [
    "home_tracker.expense_tracker_version\n"
   ]
  },
  {
   "cell_type": "code",
   "execution_count": 37,
   "id": "1c418a65",
   "metadata": {},
   "outputs": [
    {
     "data": {
      "text/plain": [
       "0.1"
      ]
     },
     "execution_count": 37,
     "metadata": {},
     "output_type": "execute_result"
    }
   ],
   "source": [
    "shopping_tracker.expense_tracker_version"
   ]
  },
  {
   "cell_type": "code",
   "execution_count": 38,
   "id": "4742a035",
   "metadata": {},
   "outputs": [
    {
     "data": {
      "text/plain": [
       "{'tracker_category': 'home', 'opening_balance': 3000, 'budget': 10000}"
      ]
     },
     "execution_count": 38,
     "metadata": {},
     "output_type": "execute_result"
    }
   ],
   "source": [
    "home_tracker.__dict__\n"
   ]
  },
  {
   "cell_type": "code",
   "execution_count": 39,
   "id": "2f3e8920",
   "metadata": {},
   "outputs": [
    {
     "data": {
      "text/plain": [
       "3000"
      ]
     },
     "execution_count": 39,
     "metadata": {},
     "output_type": "execute_result"
    }
   ],
   "source": [
    "getattr(home_tracker,'opening_balance')"
   ]
  },
  {
   "cell_type": "code",
   "execution_count": 40,
   "id": "2b69fa2e",
   "metadata": {},
   "outputs": [
    {
     "data": {
      "text/plain": [
       "False"
      ]
     },
     "execution_count": 40,
     "metadata": {},
     "output_type": "execute_result"
    }
   ],
   "source": [
    "hasattr(home_tracker,'opening_balanced')"
   ]
  },
  {
   "cell_type": "code",
   "execution_count": 41,
   "id": "3395a89c",
   "metadata": {},
   "outputs": [],
   "source": [
    "delattr(home_tracker, 'opening_balance')"
   ]
  },
  {
   "cell_type": "code",
   "execution_count": 42,
   "id": "9617aae7",
   "metadata": {},
   "outputs": [
    {
     "data": {
      "text/plain": [
       "{'tracker_category': 'home', 'budget': 10000}"
      ]
     },
     "execution_count": 42,
     "metadata": {},
     "output_type": "execute_result"
    }
   ],
   "source": [
    "home_tracker.__dict__\n"
   ]
  },
  {
   "cell_type": "code",
   "execution_count": 43,
   "id": "bd12c70d",
   "metadata": {},
   "outputs": [
    {
     "data": {
      "text/plain": [
       "0.1"
      ]
     },
     "execution_count": 43,
     "metadata": {},
     "output_type": "execute_result"
    }
   ],
   "source": [
    "ExpenseTracker.expense_tracker_version\n"
   ]
  },
  {
   "cell_type": "code",
   "execution_count": 44,
   "id": "a7e3cf2c",
   "metadata": {},
   "outputs": [],
   "source": [
    "home_tracker.expense_tracker_version = 0.2"
   ]
  },
  {
   "cell_type": "code",
   "execution_count": 46,
   "id": "3179fca7",
   "metadata": {},
   "outputs": [
    {
     "data": {
      "text/plain": [
       "0.2"
      ]
     },
     "execution_count": 46,
     "metadata": {},
     "output_type": "execute_result"
    }
   ],
   "source": [
    "home_tracker.expense_tracker_version"
   ]
  },
  {
   "cell_type": "code",
   "execution_count": 45,
   "id": "d0ded24e",
   "metadata": {},
   "outputs": [
    {
     "data": {
      "text/plain": [
       "0.1"
      ]
     },
     "execution_count": 45,
     "metadata": {},
     "output_type": "execute_result"
    }
   ],
   "source": [
    "shopping_tracker.expense_tracker_version"
   ]
  },
  {
   "cell_type": "code",
   "execution_count": 137,
   "id": "1398846c",
   "metadata": {},
   "outputs": [],
   "source": [
    "class ExpenseTracker:\n",
    "    \"\"\"this is a class to do expense tracking\"\"\"\n",
    "    # class attribute\n",
    "    expense_tracker_version = 0.1\n",
    "    \n",
    "    def __init__(self, tracker_category, opening_balance, budget):\n",
    "        #Instacne/Object attribute\n",
    "        \n",
    "        # Public Attributes\n",
    "        self.tracker_category = tracker_category\n",
    "        \n",
    "        # Private Attributes\n",
    "        self.__opening_balance = opening_balance\n",
    "        self.__budget = budget\n",
    "        \n",
    "    # instacne method\n",
    "    # Private method\n",
    "    def __get_original_balance(self):\n",
    "        return self.__opening_balance\n",
    "    \n",
    "    # instance method\n",
    "    def check_balance(self, limit = 1000):\n",
    "        if self.budget >= limit:\n",
    "            return True\n",
    "        else:\n",
    "            return \"Your opening bal is less than limit\"\n",
    "        \n",
    "    # static method\n",
    "    @staticmethod\n",
    "    def convert_amount(amount):\n",
    "        return float(amount)\n",
    "    \n",
    "    # Factory Method\n",
    "    # class method\n",
    "    @classmethod\n",
    "    def get_attributes(cls, diary_entry: str):\n",
    "        tracker_category, opening_balance, budget = diary_entry.split(\" \")\n",
    "        return ExpenseTracker(\n",
    "            tracker_category.capitalize(), \n",
    "            cls.convert_amount(opening_balance), \n",
    "            cls.convert_amount(budget)\n",
    "        )\n",
    "        "
   ]
  },
  {
   "cell_type": "code",
   "execution_count": 138,
   "id": "0ca210be",
   "metadata": {},
   "outputs": [],
   "source": [
    "home_tracker = ExpenseTracker(\"home\", 3000, 10000) "
   ]
  },
  {
   "cell_type": "code",
   "execution_count": 139,
   "id": "23c7a8c9",
   "metadata": {},
   "outputs": [
    {
     "data": {
      "text/plain": [
       "{'tracker_category': 'home',\n",
       " '_ExpenseTracker__opening_balance': 3000,\n",
       " '_ExpenseTracker__budget': 10000}"
      ]
     },
     "execution_count": 139,
     "metadata": {},
     "output_type": "execute_result"
    }
   ],
   "source": [
    "home_tracker.__dict__\n"
   ]
  },
  {
   "cell_type": "code",
   "execution_count": 140,
   "id": "c3b4ed81",
   "metadata": {},
   "outputs": [
    {
     "data": {
      "text/plain": [
       "'home'"
      ]
     },
     "execution_count": 140,
     "metadata": {},
     "output_type": "execute_result"
    }
   ],
   "source": [
    "home_tracker.tracker_category"
   ]
  },
  {
   "cell_type": "code",
   "execution_count": 141,
   "id": "6d9f9cb6",
   "metadata": {},
   "outputs": [
    {
     "ename": "AttributeError",
     "evalue": "'ExpenseTracker' object has no attribute '__opening_balance'",
     "output_type": "error",
     "traceback": [
      "\u001b[1;31m---------------------------------------------------------------------------\u001b[0m",
      "\u001b[1;31mAttributeError\u001b[0m                            Traceback (most recent call last)",
      "\u001b[1;32m~\\AppData\\Local\\Temp/ipykernel_2220/1234209502.py\u001b[0m in \u001b[0;36m<module>\u001b[1;34m\u001b[0m\n\u001b[1;32m----> 1\u001b[1;33m \u001b[0mhome_tracker\u001b[0m\u001b[1;33m.\u001b[0m\u001b[0m__opening_balance\u001b[0m\u001b[1;33m\u001b[0m\u001b[1;33m\u001b[0m\u001b[0m\n\u001b[0m",
      "\u001b[1;31mAttributeError\u001b[0m: 'ExpenseTracker' object has no attribute '__opening_balance'"
     ]
    }
   ],
   "source": [
    "home_tracker.__opening_balance"
   ]
  },
  {
   "cell_type": "code",
   "execution_count": 142,
   "id": "5f2ce106",
   "metadata": {},
   "outputs": [
    {
     "data": {
      "text/plain": [
       "3000"
      ]
     },
     "execution_count": 142,
     "metadata": {},
     "output_type": "execute_result"
    }
   ],
   "source": [
    "home_tracker._ExpenseTracker__opening_balance"
   ]
  },
  {
   "cell_type": "code",
   "execution_count": 143,
   "id": "06375302",
   "metadata": {},
   "outputs": [
    {
     "data": {
      "text/plain": [
       "3000"
      ]
     },
     "execution_count": 143,
     "metadata": {},
     "output_type": "execute_result"
    }
   ],
   "source": [
    "home_tracker._ExpenseTracker__get_original_balance()"
   ]
  },
  {
   "cell_type": "code",
   "execution_count": 123,
   "id": "357e0635",
   "metadata": {},
   "outputs": [],
   "source": [
    "# (\"home\", 0, 1000)  --> \"Home 0 1000\" Use of class method"
   ]
  },
  {
   "cell_type": "code",
   "execution_count": 124,
   "id": "f93c63ea",
   "metadata": {},
   "outputs": [
    {
     "data": {
      "text/plain": [
       "['Home', '0', '1000']"
      ]
     },
     "execution_count": 124,
     "metadata": {},
     "output_type": "execute_result"
    }
   ],
   "source": [
    "\"Home 0 1000\".split(\" \")"
   ]
  },
  {
   "cell_type": "code",
   "execution_count": 125,
   "id": "66024713",
   "metadata": {},
   "outputs": [
    {
     "data": {
      "text/plain": [
       "'Home'"
      ]
     },
     "execution_count": 125,
     "metadata": {},
     "output_type": "execute_result"
    }
   ],
   "source": [
    "\"home\".capitalize()"
   ]
  },
  {
   "cell_type": "code",
   "execution_count": 126,
   "id": "98d4522e",
   "metadata": {},
   "outputs": [],
   "source": [
    "ClassObject = ExpenseTracker.get_attributes(\"shopping 100 4000\")"
   ]
  },
  {
   "cell_type": "code",
   "execution_count": 127,
   "id": "0577574f",
   "metadata": {},
   "outputs": [
    {
     "data": {
      "text/plain": [
       "{'tracker_category': 'Shopping', 'opening_balance': 100.0, 'budget': 4000.0}"
      ]
     },
     "execution_count": 127,
     "metadata": {},
     "output_type": "execute_result"
    }
   ],
   "source": [
    "ClassObject.__dict__"
   ]
  },
  {
   "cell_type": "code",
   "execution_count": 128,
   "id": "f402e62e",
   "metadata": {},
   "outputs": [
    {
     "data": {
      "text/plain": [
       "'Shopping'"
      ]
     },
     "execution_count": 128,
     "metadata": {},
     "output_type": "execute_result"
    }
   ],
   "source": [
    "ClassObject.tracker_category"
   ]
  },
  {
   "cell_type": "code",
   "execution_count": null,
   "id": "b8c5593c",
   "metadata": {},
   "outputs": [],
   "source": []
  }
 ],
 "metadata": {
  "kernelspec": {
   "display_name": "Python 3 (ipykernel)",
   "language": "python",
   "name": "python3"
  },
  "language_info": {
   "codemirror_mode": {
    "name": "ipython",
    "version": 3
   },
   "file_extension": ".py",
   "mimetype": "text/x-python",
   "name": "python",
   "nbconvert_exporter": "python",
   "pygments_lexer": "ipython3",
   "version": "3.10.0"
  }
 },
 "nbformat": 4,
 "nbformat_minor": 5
}
