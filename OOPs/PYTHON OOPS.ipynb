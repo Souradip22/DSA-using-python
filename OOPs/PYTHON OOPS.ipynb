{
 "cells": [
  {
   "cell_type": "code",
   "execution_count": 14,
   "id": "cb439617",
   "metadata": {},
   "outputs": [],
   "source": [
    "class Polygon:\n",
    "    #class attr\n",
    "    temp = 10\n",
    "    def __init__(self, no_of_sides):\n",
    "        self.n = no_of_sides\n",
    "        self.sides = [0 for i in range(no_of_sides)]\n",
    "\n",
    "    def inputSides(self):\n",
    "        self.sides = [float(input(\"Enter side \"+str(i+1)+\" : \")) for i in range(self.n)]\n",
    "\n",
    "    def dispSides(self):\n",
    "        for i in range(self.n):\n",
    "            print(\"Side\",i+1,\"is\",self.sides[i])\n",
    "            \n",
    "class Triangle(Polygon):\n",
    "    \"\"\"\n",
    "    Multiline DOC\n",
    "    \"\"\"\n",
    "    def __init__(self):\n",
    "         # call super() function\n",
    "        super().__init__(3)\n",
    "#         Polygon.__init__(self,3) another way\n",
    "        print(\"Penguin is ready\")\n",
    "\n",
    "\n",
    "    def findArea(self):\n",
    "        a, b, c = self.sides\n",
    "        # calculate the semi-perimeter\n",
    "        s = (a + b + c) / 2\n",
    "        area = (s*(s-a)*(s-b)*(s-c)) ** 0.5\n",
    "        print('The area of the triangle is %0.2f' %area)"
   ]
  },
  {
   "cell_type": "code",
   "execution_count": 15,
   "id": "cf700830",
   "metadata": {},
   "outputs": [
    {
     "name": "stdout",
     "output_type": "stream",
     "text": [
      "Penguin is ready\n",
      "\n",
      "    Multiline DOC\n",
      "    \n",
      "CLASS ATTR is a 10\n",
      "CLASS ATTR 2 is a 10\n"
     ]
    }
   ],
   "source": [
    "s = Polygon(2)\n",
    "t = Triangle()\n",
    "print(Triangle.__doc__)\n",
    "# access the class attributes\n",
    "print(\"CLASS ATTR is a {}\".format(s.__class__.temp))\n",
    "print(\"CLASS ATTR 2 is a {}\".format(Polygon.temp))"
   ]
  },
  {
   "cell_type": "code",
   "execution_count": 16,
   "id": "bf7fd5f2",
   "metadata": {},
   "outputs": [
    {
     "name": "stdout",
     "output_type": "stream",
     "text": [
      "Enter side 1 : 3\n",
      "Enter side 2 : 4\n",
      "Enter side 3 : 5\n"
     ]
    }
   ],
   "source": [
    "t.inputSides()"
   ]
  },
  {
   "cell_type": "code",
   "execution_count": 17,
   "id": "dee61689",
   "metadata": {},
   "outputs": [
    {
     "name": "stdout",
     "output_type": "stream",
     "text": [
      "The area of the triangle is 6.00\n"
     ]
    }
   ],
   "source": [
    "t.findArea()"
   ]
  },
  {
   "cell_type": "code",
   "execution_count": 18,
   "id": "1f7cb8fb",
   "metadata": {},
   "outputs": [
    {
     "data": {
      "text/plain": [
       "True"
      ]
     },
     "execution_count": 18,
     "metadata": {},
     "output_type": "execute_result"
    }
   ],
   "source": [
    "isinstance(t,Triangle)"
   ]
  },
  {
   "cell_type": "code",
   "execution_count": 19,
   "id": "bf9aa709",
   "metadata": {},
   "outputs": [
    {
     "data": {
      "text/plain": [
       "True"
      ]
     },
     "execution_count": 19,
     "metadata": {},
     "output_type": "execute_result"
    }
   ],
   "source": [
    "isinstance(t,Polygon)"
   ]
  },
  {
   "cell_type": "code",
   "execution_count": 20,
   "id": "5a401453",
   "metadata": {},
   "outputs": [
    {
     "data": {
      "text/plain": [
       "False"
      ]
     },
     "execution_count": 20,
     "metadata": {},
     "output_type": "execute_result"
    }
   ],
   "source": [
    "isinstance(t,int)"
   ]
  },
  {
   "cell_type": "code",
   "execution_count": 21,
   "id": "90592077",
   "metadata": {},
   "outputs": [
    {
     "data": {
      "text/plain": [
       "True"
      ]
     },
     "execution_count": 21,
     "metadata": {},
     "output_type": "execute_result"
    }
   ],
   "source": [
    "isinstance(t,object)"
   ]
  },
  {
   "cell_type": "code",
   "execution_count": 22,
   "id": "b266d906",
   "metadata": {},
   "outputs": [
    {
     "data": {
      "text/plain": [
       "False"
      ]
     },
     "execution_count": 22,
     "metadata": {},
     "output_type": "execute_result"
    }
   ],
   "source": [
    "issubclass(Polygon,Triangle)\n"
   ]
  },
  {
   "cell_type": "code",
   "execution_count": 23,
   "id": "f1959b85",
   "metadata": {},
   "outputs": [
    {
     "data": {
      "text/plain": [
       "True"
      ]
     },
     "execution_count": 23,
     "metadata": {},
     "output_type": "execute_result"
    }
   ],
   "source": [
    "issubclass(Triangle,Polygon)"
   ]
  },
  {
   "cell_type": "markdown",
   "id": "00a0ae73",
   "metadata": {},
   "source": [
    "### Multiple Inheritance\n"
   ]
  },
  {
   "cell_type": "code",
   "execution_count": 24,
   "id": "76c11fbe",
   "metadata": {},
   "outputs": [],
   "source": [
    "class Base1:\n",
    "    pass\n",
    "\n",
    "class Base2:\n",
    "    pass\n",
    "\n",
    "class MultiDerived(Base1, Base2):\n",
    "    pass"
   ]
  },
  {
   "cell_type": "markdown",
   "id": "e85a56c8",
   "metadata": {},
   "source": [
    "### Multilevel Inheritance"
   ]
  },
  {
   "cell_type": "code",
   "execution_count": 25,
   "id": "976df223",
   "metadata": {},
   "outputs": [],
   "source": [
    "class Base:\n",
    "    pass\n",
    "\n",
    "class Derived1(Base):\n",
    "    pass\n",
    "\n",
    "class Derived2(Derived1):\n",
    "    pass"
   ]
  },
  {
   "cell_type": "code",
   "execution_count": 26,
   "id": "037d3351",
   "metadata": {},
   "outputs": [
    {
     "name": "stdout",
     "output_type": "stream",
     "text": [
      "True\n",
      "True\n",
      "True\n"
     ]
    }
   ],
   "source": [
    "# Output: True\n",
    "print(issubclass(list,object))\n",
    "\n",
    "# Output: True\n",
    "print(isinstance(5.5,object))\n",
    "\n",
    "# Output: True\n",
    "print(isinstance(\"Hello\",object))"
   ]
  },
  {
   "cell_type": "markdown",
   "id": "67436829",
   "metadata": {},
   "source": [
    "### Method Resolution Order (MRO)"
   ]
  },
  {
   "cell_type": "code",
   "execution_count": 30,
   "id": "c387dc14",
   "metadata": {},
   "outputs": [
    {
     "name": "stdout",
     "output_type": "stream",
     "text": [
      "(<class '__main__.MultiDerived'>, <class '__main__.Base1'>, <class '__main__.Base2'>, <class 'object'>)\n",
      "[<class '__main__.MultiDerived'>, <class '__main__.Base1'>, <class '__main__.Base2'>, <class 'object'>]\n"
     ]
    }
   ],
   "source": [
    "print(MultiDerived.__mro__)\n",
    "print(MultiDerived.mro())"
   ]
  },
  {
   "cell_type": "code",
   "execution_count": 31,
   "id": "76c80891",
   "metadata": {},
   "outputs": [
    {
     "data": {
      "text/plain": [
       "[__main__.Derived2, __main__.Derived1, __main__.Base, object]"
      ]
     },
     "execution_count": 31,
     "metadata": {},
     "output_type": "execute_result"
    }
   ],
   "source": [
    "Derived2.mro()"
   ]
  },
  {
   "cell_type": "code",
   "execution_count": 36,
   "id": "cfee29f4",
   "metadata": {},
   "outputs": [],
   "source": [
    "# Demonstration of MRO\n",
    "\n",
    "class X:\n",
    "    pass\n",
    "\n",
    "\n",
    "class Y:\n",
    "    pass\n",
    "\n",
    "\n",
    "class Z:\n",
    "    pass\n",
    "\n",
    "\n",
    "class A(X, Y):\n",
    "    pass\n",
    "\n",
    "\n",
    "class B(Y, Z):\n",
    "    pass\n",
    "\n",
    "\n",
    "class M(B, A, Z):\n",
    "    pass"
   ]
  },
  {
   "cell_type": "code",
   "execution_count": 37,
   "id": "15153cd4",
   "metadata": {},
   "outputs": [
    {
     "data": {
      "text/plain": [
       "[__main__.M,\n",
       " __main__.B,\n",
       " __main__.A,\n",
       " __main__.X,\n",
       " __main__.Y,\n",
       " __main__.Z,\n",
       " object]"
      ]
     },
     "execution_count": 37,
     "metadata": {},
     "output_type": "execute_result"
    }
   ],
   "source": [
    "M.mro()\n"
   ]
  },
  {
   "cell_type": "code",
   "execution_count": 39,
   "id": "852e22b4",
   "metadata": {},
   "outputs": [
    {
     "name": "stdout",
     "output_type": "stream",
     "text": [
      "Help on class Polygon in module __main__:\n",
      "\n",
      "class Polygon(builtins.object)\n",
      " |  Polygon(no_of_sides)\n",
      " |  \n",
      " |  Methods defined here:\n",
      " |  \n",
      " |  __init__(self, no_of_sides)\n",
      " |      Initialize self.  See help(type(self)) for accurate signature.\n",
      " |  \n",
      " |  dispSides(self)\n",
      " |  \n",
      " |  inputSides(self)\n",
      " |  \n",
      " |  ----------------------------------------------------------------------\n",
      " |  Data descriptors defined here:\n",
      " |  \n",
      " |  __dict__\n",
      " |      dictionary for instance variables (if defined)\n",
      " |  \n",
      " |  __weakref__\n",
      " |      list of weak references to the object (if defined)\n",
      " |  \n",
      " |  ----------------------------------------------------------------------\n",
      " |  Data and other attributes defined here:\n",
      " |  \n",
      " |  temp = 10\n",
      "\n"
     ]
    }
   ],
   "source": [
    "help(Polygon)"
   ]
  },
  {
   "cell_type": "markdown",
   "id": "ce4ce708",
   "metadata": {},
   "source": [
    "### Python Operator Overloading\n",
    "\n",
    "Python operators work for built-in classes. But the same operator behaves differently with different types. For example, the + operator will perform arithmetic addition on two numbers, merge two lists, or concatenate two strings"
   ]
  },
  {
   "cell_type": "code",
   "execution_count": 46,
   "id": "5abdb22e",
   "metadata": {},
   "outputs": [
    {
     "name": "stdout",
     "output_type": "stream",
     "text": [
      "<class '__main__.Point'>\n",
      "(1, 2)\n",
      "(1, 2) (1, 2)\n",
      "(3, 5)\n"
     ]
    }
   ],
   "source": [
    "class Point:\n",
    "    def __init__(self, x=0, y=0):\n",
    "        self.x = x\n",
    "        self.y = y\n",
    "        \n",
    "    def __str__(self):\n",
    "        return \"({0}, {1})\".format(self.x, self.y)\n",
    "    \n",
    "    def __add__(self, other):\n",
    "        x = self.x + other.x\n",
    "        y = self.y + other.y\n",
    "        return Point(x, y)\n",
    "\n",
    "print(Point)\n",
    "\n",
    "p1 = Point(1, 2)\n",
    "p2 = Point(2, 3)\n",
    "print(p1)\n",
    "print(str(p1) ,format(p1))\n",
    "print(p1+p2)\n",
    "#What actually happens is that, when you use p1 + p2, Python calls p1.__add__(p2) \n",
    "#which in turn is Point.__add__(p1,p2). After this, the addition operation is carried out the way we specified."
   ]
  },
  {
   "cell_type": "markdown",
   "id": "0164126d",
   "metadata": {},
   "source": [
    "<!-- Addition\tp1 + p2\tp1.__add__(p2)\n",
    "Subtraction\tp1 - p2\tp1.__sub__(p2)\n",
    "Multiplication\tp1 * p2\tp1.__mul__(p2)\n",
    "Power\tp1 ** p2\tp1.__pow__(p2)\n",
    "Division\tp1 / p2\tp1.__truediv__(p2)\n",
    "Floor Division\tp1 // p2\tp1.__floordiv__(p2)\n",
    "Remainder (modulo)\tp1 % p2\tp1.__mod__(p2)\n",
    "Bitwise Left Shift\tp1 << p2\tp1.__lshift__(p2)\n",
    "Bitwise Right Shift\tp1 >> p2\tp1.__rshift__(p2)\n",
    "Bitwise AND\tp1 & p2\tp1.__and__(p2)\n",
    "Bitwise OR\tp1 | p2\tp1.__or__(p2)\n",
    "Bitwise XOR\tp1 ^ p2\tp1.__xor__(p2)\n",
    "Bitwise NOT\t~p1\tp1.__invert__() -->"
   ]
  },
  {
   "cell_type": "code",
   "execution_count": 47,
   "id": "f8cdd763",
   "metadata": {},
   "outputs": [],
   "source": [
    "# Operator\tExpression\tInternally\n",
    "# Addition\tp1 + p2\tp1.__add__(p2)\n",
    "# Subtraction\tp1 - p2\tp1.__sub__(p2)\n",
    "# Multiplication\tp1 * p2\tp1.__mul__(p2)\n",
    "# Power\tp1 ** p2\tp1.__pow__(p2)\n",
    "# Division\tp1 / p2\tp1.__truediv__(p2)\n",
    "# Floor Division\tp1 // p2\tp1.__floordiv__(p2)\n",
    "# Remainder (modulo)\tp1 % p2\tp1.__mod__(p2)\n",
    "# Bitwise Left Shift\tp1 << p2\tp1.__lshift__(p2)\n",
    "# Bitwise Right Shift\tp1 >> p2\tp1.__rshift__(p2)\n",
    "# Bitwise AND\tp1 & p2\tp1.__and__(p2)\n",
    "# Bitwise OR\tp1 | p2\tp1.__or__(p2)\n",
    "# Bitwise XOR\tp1 ^ p2\tp1.__xor__(p2)\n",
    "# Bitwise NOT\t~p1\tp1.__invert__()"
   ]
  },
  {
   "cell_type": "code",
   "execution_count": 1,
   "id": "a54275b6",
   "metadata": {},
   "outputs": [],
   "source": [
    "# Less than\tp1 < p2\tp1.__lt__(p2)\n",
    "# Less than or equal to\tp1 <= p2\tp1.__le__(p2)\n",
    "# Equal to\tp1 == p2\tp1.__eq__(p2)\n",
    "# Not equal to\tp1 != p2\tp1.__ne__(p2)\n",
    "# Greater than\tp1 > p2\tp1.__gt__(p2)\n",
    "# Greater than or equal to\tp1 >= p2\tp1.__ge__(p2)"
   ]
  },
  {
   "cell_type": "markdown",
   "id": "3567df93",
   "metadata": {},
   "source": [
    "Python, being a particularly user-friendly language, provides the user with a feature that most languages usually do not. That is, creating properties of an object outside the class. Let’s see an example of this by extending the example of the Employee class we discussed above:"
   ]
  },
  {
   "cell_type": "markdown",
   "id": "b38ed211",
   "metadata": {},
   "source": [
    "#### Using class variables smartly#"
   ]
  },
  {
   "cell_type": "code",
   "execution_count": 1,
   "id": "053b9eca",
   "metadata": {},
   "outputs": [
    {
     "name": "stdout",
     "output_type": "stream",
     "text": [
      "Name: Mark\n",
      "Team Members:\n",
      "['Mark', 'Steve']\n",
      "\n",
      "Name: Steve\n",
      "Team Members:\n",
      "['Mark', 'Steve']\n"
     ]
    }
   ],
   "source": [
    "class Player:\n",
    "    teamName = 'Liverpool'      # class variables\n",
    "    teamMembers = []\n",
    "\n",
    "    def __init__(self, name):\n",
    "        self.name = name        # creating instance variables\n",
    "        self.formerTeams = []\n",
    "        self.teamMembers.append(self.name)\n",
    "\n",
    "\n",
    "p1 = Player('Mark')\n",
    "p2 = Player('Steve')\n",
    "\n",
    "print(\"Name:\", p1.name)\n",
    "print(\"Team Members:\")\n",
    "print(p1.teamMembers)\n",
    "print(\"\")\n",
    "print(\"Name:\", p2.name)\n",
    "print(\"Team Members:\")\n",
    "print(p2.teamMembers)\n"
   ]
  },
  {
   "cell_type": "markdown",
   "id": "d3edbdae",
   "metadata": {},
   "source": [
    "### Method Overloading"
   ]
  },
  {
   "cell_type": "markdown",
   "id": "5f4bddbd",
   "metadata": {},
   "source": [
    "Overloading refers to making a method perform different operations based on the nature of its arguments. Unlike in other programming languages, methods cannot be explicitly overloaded in Python but can be implicitly overloaded.\n",
    "\n",
    "In order to include optional arguments, we assign default values to those arguments rather than creating a duplicate method with the same name."
   ]
  },
  {
   "cell_type": "code",
   "execution_count": 3,
   "id": "582d5449",
   "metadata": {},
   "outputs": [
    {
     "name": "stdout",
     "output_type": "stream",
     "text": [
      "Demo 1\n",
      "a = 1\n",
      "b = 2\n",
      "c = 3\n",
      "d = 5\n",
      "e = None\n",
      "\n",
      "\n",
      "Demo 2\n",
      "a = 1\n",
      "b = 2\n",
      "c = 3\n",
      "d = 4\n",
      "e = None\n",
      "\n",
      "\n",
      "Demo 3\n",
      "a = 1\n",
      "b = 2\n",
      "c = 3\n",
      "d = 4\n",
      "e = 5\n"
     ]
    }
   ],
   "source": [
    "class Employee:\n",
    "    # defining the properties and assigning them None to the\n",
    "    def __init__(self, ID=None, salary=None, department=None):\n",
    "        self.ID = ID\n",
    "        self.salary = salary\n",
    "        self.department = department\n",
    "\n",
    "    # method overloading\n",
    "    def demo(self, a, b, c, d=5, e=None):\n",
    "        print(\"a =\", a)\n",
    "        print(\"b =\", b)\n",
    "        print(\"c =\", c)\n",
    "        print(\"d =\", d)\n",
    "        print(\"e =\", e)\n",
    "\n",
    "    def tax(self, title=None):\n",
    "        return (self.salary * 0.2)\n",
    "\n",
    "    def salaryPerDay(self):\n",
    "        return (self.salary / 30)\n",
    "\n",
    "\n",
    "# cerating an object of the Employee class\n",
    "Steve = Employee()\n",
    "\n",
    "# Printing properties of Steve\n",
    "print(\"Demo 1\")\n",
    "Steve.demo(1, 2, 3)\n",
    "print(\"\\n\")\n",
    "\n",
    "print(\"Demo 2\")\n",
    "Steve.demo(1, 2, 3, 4)\n",
    "print(\"\\n\")\n",
    "\n",
    "print(\"Demo 3\")\n",
    "Steve.demo(1, 2, 3, 4, 5)"
   ]
  },
  {
   "cell_type": "markdown",
   "id": "ae02a87a",
   "metadata": {},
   "source": [
    "#### Class Methods and Static Methods"
   ]
  },
  {
   "cell_type": "markdown",
   "id": "eb4f56dd",
   "metadata": {},
   "source": [
    "Note: Just like instance methods, all class methods have at least one argument, cls.\n",
    "\n",
    "\n",
    "Static methods are methods that are usually limited to class only and not their objects. They have no direct relation to class variables or instance variables. They are used as utility functions inside the class or when we do not want the inherited classes to modify a method definition\n",
    "\n",
    "\n",
    "Static methods do not know anything about the state of the class, i.e., they cannot modify class attributes. The purpose of a static method is to use its parameters and produce a useful result."
   ]
  },
  {
   "cell_type": "code",
   "execution_count": 7,
   "id": "9980c70f",
   "metadata": {},
   "outputs": [
    {
     "name": "stdout",
     "output_type": "stream",
     "text": [
      "I am a static method.\n",
      "I am a static method.\n",
      "Liverpool\n",
      "Liverpool\n"
     ]
    }
   ],
   "source": [
    "class Player:\n",
    "    teamName = 'Liverpool'  # class variables\n",
    "\n",
    "    def __init__(self, name):\n",
    "        self.name = name  # creating instance variables\n",
    "        \n",
    "    @classmethod\n",
    "    def getTeamName(cls):\n",
    "        return cls.teamName\n",
    "    \n",
    "    @staticmethod\n",
    "    def demo():\n",
    "        print(\"I am a static method.\")\n",
    "\n",
    "\n",
    "p1 = Player('lol')\n",
    "p1.demo()\n",
    "Player.demo()\n",
    "print(Player.getTeamName())\n",
    "print(p1.getTeamName())"
   ]
  },
  {
   "cell_type": "markdown",
   "id": "804f8fc7",
   "metadata": {},
   "source": [
    "When encapsulating classes, a good convention is to declare all variables of a class private. This will restrict direct access by the code outside that class.\n",
    "\n",
    "At this point, a question can be raised: If the methods and variables are encapsulated in a class, then how can they be used outside of that class?\n",
    "\n",
    "The answer to this is simple. One has to implement public methods to let the outside world communicate with this class. These methods are called getters and setters. We can also implement other custom methods."
   ]
  },
  {
   "cell_type": "markdown",
   "id": "aa18bef5",
   "metadata": {},
   "source": [
    "For encapsulating a class, all the properties should be private and any access to the properties should be through methods such as getters and setters.\n"
   ]
  },
  {
   "cell_type": "code",
   "execution_count": 8,
   "id": "484e8eb7",
   "metadata": {},
   "outputs": [
    {
     "name": "stdout",
     "output_type": "stream",
     "text": [
      "Name: Alex\n",
      "Roll Number: 3789\n"
     ]
    }
   ],
   "source": [
    "class Student:\n",
    "    __name = None\n",
    "    __rollNumber = None\n",
    "    \n",
    "    def setName(self, name):\n",
    "        self.__name = name\n",
    "\n",
    "    def getName(self):\n",
    "        return self.__name\n",
    "\n",
    "    def setRollNumber(self, rollNumber):\n",
    "        self.__rollNumber = rollNumber\n",
    "\n",
    "    def getRollNumber(self):\n",
    "        return self.__rollNumber\n",
    "\n",
    "\n",
    "demo1 = Student()\n",
    "demo1.setName(\"Alex\")\n",
    "print(\"Name:\", demo1.getName())\n",
    "demo1.setRollNumber(3789)\n",
    "print(\"Roll Number:\", demo1.getRollNumber())"
   ]
  },
  {
   "cell_type": "code",
   "execution_count": 9,
   "id": "0b693e1f",
   "metadata": {},
   "outputs": [
    {
     "name": "stdout",
     "output_type": "stream",
     "text": [
      "Harry Potter and the Chamber of Secrets\n"
     ]
    }
   ],
   "source": [
    "class Book:\n",
    "    def __init__(self, ID, title):\n",
    "        self.ID = ID\n",
    "        self.__title = title\n",
    "\n",
    "\n",
    "harry_potter = Book(3789, 'Harry Potter and the Chamber of Secrets')\n",
    "print(harry_potter._Book__title) "
   ]
  },
  {
   "cell_type": "markdown",
   "id": "c3437bac",
   "metadata": {},
   "source": [
    "Parent Class (Super Class or Base Class): This class allows the reuse of its public properties in another class.\n",
    "Child Class (Sub Class or Derived Class): This class inherits or extends the superclass\n",
    "\n",
    "The use of super() comes into play when we implement inheritance. It is used in a child class to refer to the parent class without explicitly naming it. It makes the code more manageable, and there is no need to know the name of the parent class to access its attributes\n"
   ]
  },
  {
   "cell_type": "code",
   "execution_count": 13,
   "id": "ba71697a",
   "metadata": {},
   "outputs": [
    {
     "name": "stdout",
     "output_type": "stream",
     "text": [
      "I am from the Vehicle Class\n",
      "Fuel cap from the Vehicle Class: 90\n",
      "Fuel cap from the Car Class: 50\n"
     ]
    }
   ],
   "source": [
    "class Vehicle:  # defining the parent class\n",
    "    fuelCap = 90\n",
    "    def display(self):  # defining display method in the parent class\n",
    "        print(\"I am from the Vehicle Class\")\n",
    "\n",
    "\n",
    "class Car(Vehicle):  # defining the child class\n",
    "    fuelCap = 50\n",
    "\n",
    "    def display(self):\n",
    "        super().display()\n",
    "        # accessing fuelCap from the Vehicle class using super()\n",
    "        print(\"Fuel cap from the Vehicle Class:\", super().fuelCap)\n",
    "\n",
    "        # accessing fuelCap from the Car class using self\n",
    "        print(\"Fuel cap from the Car Class:\", self.fuelCap)\n",
    "\n",
    "\n",
    "obj1 = Car()  # creating a car object\n",
    "obj1.display()  # calling the Car class method display()\n"
   ]
  },
  {
   "cell_type": "code",
   "execution_count": 14,
   "id": "b7ff45f9",
   "metadata": {},
   "outputs": [
    {
     "name": "stdout",
     "output_type": "stream",
     "text": [
      "Manufacturer: Suzuki\n",
      "Color: Grey\n",
      "Model: 2015\n",
      "Door: 4\n"
     ]
    }
   ],
   "source": [
    "class Vehicle:\n",
    "    def __init__(self, make, color, model):\n",
    "        self.make = make\n",
    "        self.color = color\n",
    "        self.model = model\n",
    "\n",
    "    def printDetails(self):\n",
    "        print(\"Manufacturer:\", self.make)\n",
    "        print(\"Color:\", self.color)\n",
    "        print(\"Model:\", self.model)\n",
    "\n",
    "\n",
    "class Car(Vehicle):\n",
    "    def __init__(self, make, color, model, doors):\n",
    "        super().__init__(make, color, model)\n",
    "        self.doors = doors\n",
    "\n",
    "    def printCarDetails(self):\n",
    "        self.printDetails()\n",
    "        print(\"Door:\", self.doors)\n",
    "\n",
    "\n",
    "obj1 = Car(\"Suzuki\", \"Grey\", \"2015\", 4)\n",
    "obj1.printCarDetails()"
   ]
  },
  {
   "cell_type": "markdown",
   "id": "d0719129",
   "metadata": {},
   "source": [
    "Single\n",
    "Multi-level\n",
    "Hierarchical\n",
    "Multiple\n",
    "Hybrid"
   ]
  },
  {
   "cell_type": "markdown",
   "id": "1a6b6367",
   "metadata": {},
   "source": [
    "##### Single\n"
   ]
  },
  {
   "cell_type": "code",
   "execution_count": 16,
   "id": "6bbeeff1",
   "metadata": {},
   "outputs": [
    {
     "name": "stdout",
     "output_type": "stream",
     "text": [
      "Top speed is set to 220\n",
      "Trunk is now open.\n"
     ]
    }
   ],
   "source": [
    "class Vehicle:  # parent class\n",
    "    def setTopSpeed(self, speed):  # defining the set\n",
    "        self.topSpeed = speed\n",
    "        print(\"Top speed is set to\", self.topSpeed)\n",
    "\n",
    "\n",
    "class Car(Vehicle):  # child class\n",
    "    def openTrunk(self):\n",
    "        print(\"Trunk is now open.\")\n",
    "\n",
    "\n",
    "corolla = Car()  # creating an object of the Car class\n",
    "corolla.setTopSpeed(220)  # accessing methods from the parent class\n",
    "corolla.openTrunk()  # accessing method from its own class"
   ]
  },
  {
   "cell_type": "markdown",
   "id": "4d4e4eb8",
   "metadata": {},
   "source": [
    "#### Multi-Level"
   ]
  },
  {
   "cell_type": "code",
   "execution_count": 17,
   "id": "892fe391",
   "metadata": {},
   "outputs": [
    {
     "name": "stdout",
     "output_type": "stream",
     "text": [
      "Top speed is set to 220\n",
      "Trunk is now open.\n",
      "Hybrid mode is now switched on.\n"
     ]
    }
   ],
   "source": [
    "class Vehicle:  # parent class\n",
    "    def setTopSpeed(self, speed):  # defining the set\n",
    "        self.topSpeed = speed\n",
    "        print(\"Top speed is set to\", self.topSpeed)\n",
    "\n",
    "\n",
    "class Car(Vehicle):  # child class of Vehicle\n",
    "    def openTrunk(self):\n",
    "        print(\"Trunk is now open.\")\n",
    "\n",
    "\n",
    "class Hybrid(Car):  # child class of Car\n",
    "    def turnOnHybrid(self):\n",
    "        print(\"Hybrid mode is now switched on.\")\n",
    "\n",
    "\n",
    "priusPrime = Hybrid()  # creating an object of the Hybrid class\n",
    "priusPrime.setTopSpeed(220)  # accessing methods from the parent class\n",
    "priusPrime.openTrunk()  # accessing method from the parent class\n",
    "priusPrime.turnOnHybrid()  # accessing method from the child class"
   ]
  },
  {
   "cell_type": "markdown",
   "id": "3de60d91",
   "metadata": {},
   "source": [
    "#### Hierarchical inheritance\n",
    "\n",
    "In hierarchical inheritance, more than one class extends, as per the requirement of the design, from the same base class. The common attributes of these child classes are implemented inside the base class"
   ]
  },
  {
   "cell_type": "code",
   "execution_count": 18,
   "id": "d0c771c0",
   "metadata": {},
   "outputs": [
    {
     "name": "stdout",
     "output_type": "stream",
     "text": [
      "Top speed is set to 220\n",
      "Top speed is set to 180\n"
     ]
    }
   ],
   "source": [
    "class Vehicle:  # parent class\n",
    "    def setTopSpeed(self, speed):  # defining the set\n",
    "        self.topSpeed = speed\n",
    "        print(\"Top speed is set to\", self.topSpeed)\n",
    "\n",
    "\n",
    "class Car(Vehicle):  # child class of Vehicle\n",
    "    pass\n",
    "\n",
    "\n",
    "class Truck(Vehicle):  # child class of Vehicle\n",
    "    pass\n",
    "\n",
    "\n",
    "corolla = Car()  # creating an object of the Car class\n",
    "corolla.setTopSpeed(220)  # accessing methods from the parent class\n",
    "\n",
    "volvo = Truck()  # creating an object of the Truck class\n",
    "volvo.setTopSpeed(180)  # accessing methods from the parent class"
   ]
  },
  {
   "cell_type": "markdown",
   "id": "dc9c949b",
   "metadata": {},
   "source": [
    "#### Multiple inheritance"
   ]
  },
  {
   "cell_type": "code",
   "execution_count": 19,
   "id": "ed3c316b",
   "metadata": {},
   "outputs": [
    {
     "name": "stdout",
     "output_type": "stream",
     "text": [
      "Tank Capacity: 20 Litres\n",
      "Charge Capacity: 250 W\n"
     ]
    }
   ],
   "source": [
    "class CombustionEngine():  \n",
    "    def setTankCapacity(self, tankCapacity):\n",
    "        self.tankCapacity = tankCapacity\n",
    "\n",
    "\n",
    "class ElectricEngine():  \n",
    "    def setChargeCapacity(self, chargeCapacity):\n",
    "        self.chargeCapacity = chargeCapacity\n",
    "\n",
    "# Child class inherited from CombustionEngine and ElectricEngine\n",
    "class HybridEngine(CombustionEngine, ElectricEngine):\n",
    "    def printDetails(self):\n",
    "        print(\"Tank Capacity:\", self.tankCapacity)\n",
    "        print(\"Charge Capacity:\", self.chargeCapacity)\n",
    "\n",
    "car = HybridEngine()\n",
    "car.setChargeCapacity(\"250 W\")\n",
    "car.setTankCapacity(\"20 Litres\")\n",
    "car.printDetails()"
   ]
  },
  {
   "cell_type": "markdown",
   "id": "268673f2",
   "metadata": {},
   "source": [
    "#### Hybrid"
   ]
  },
  {
   "cell_type": "code",
   "execution_count": 20,
   "id": "3af9a0b1",
   "metadata": {},
   "outputs": [
    {
     "name": "stdout",
     "output_type": "stream",
     "text": [
      "Tank Capacity: 20 Litres\n",
      "Charge Capacity: 250 W\n"
     ]
    }
   ],
   "source": [
    "class CombustionEngine():  \n",
    "    def setTankCapacity(self, tankCapacity):\n",
    "        self.tankCapacity = tankCapacity\n",
    "\n",
    "\n",
    "class ElectricEngine():  \n",
    "    def setChargeCapacity(self, chargeCapacity):\n",
    "        self.chargeCapacity = chargeCapacity\n",
    "\n",
    "# Child class inherited from CombustionEngine and ElectricEngine\n",
    "class HybridEngine(CombustionEngine, ElectricEngine):\n",
    "    def printDetails(self):\n",
    "        print(\"Tank Capacity:\", self.tankCapacity)\n",
    "        print(\"Charge Capacity:\", self.chargeCapacity)\n",
    "\n",
    "car = HybridEngine()\n",
    "car.setChargeCapacity(\"250 W\")\n",
    "car.setTankCapacity(\"20 Litres\")\n",
    "car.printDetails()"
   ]
  },
  {
   "cell_type": "markdown",
   "id": "6b3ebb10",
   "metadata": {},
   "source": [
    "Implementing Polymorphism Using Methods"
   ]
  },
  {
   "cell_type": "code",
   "execution_count": 21,
   "id": "82e60c91",
   "metadata": {},
   "outputs": [
    {
     "name": "stdout",
     "output_type": "stream",
     "text": [
      "Sides of a rectangle are 4\n",
      "Area of rectangle is: 60\n",
      "Sides of a circle are 0\n",
      "Area of circle is: 153.958\n"
     ]
    }
   ],
   "source": [
    "class Rectangle():\n",
    "\n",
    "    # initializer\n",
    "    def __init__(self, width=0, height=0):\n",
    "        self.width = width\n",
    "        self.height = height\n",
    "        self.sides = 4\n",
    "\n",
    "    # method to calculate Area\n",
    "    def getArea(self):\n",
    "        return (self.width * self.height)\n",
    "\n",
    "\n",
    "class Circle():\n",
    "    # initializer\n",
    "    def __init__(self, radius=0):\n",
    "        self.radius = radius\n",
    "        self.sides = 0\n",
    "\n",
    "    # method to calculate Area\n",
    "    def getArea(self):\n",
    "        return (self.radius * self.radius * 3.142)\n",
    "\n",
    "\n",
    "shapes = [Rectangle(6, 10), Circle(7)]\n",
    "print(\"Sides of a rectangle are\", str(shapes[0].sides))\n",
    "print(\"Area of rectangle is:\", str(shapes[0].getArea()))\n",
    "\n",
    "print(\"Sides of a circle are\", str(shapes[1].sides))\n",
    "print(\"Area of circle is:\", str(shapes[1].getArea()))"
   ]
  },
  {
   "cell_type": "code",
   "execution_count": 22,
   "id": "1cdd2996",
   "metadata": {},
   "outputs": [
    {
     "name": "stdout",
     "output_type": "stream",
     "text": [
      "Area of rectangle is: 60\n",
      "Area of circle is: 153.958\n"
     ]
    }
   ],
   "source": [
    "class Shape:\n",
    "    def __init__(self):  # initializing sides of all shapes to 0\n",
    "        self.sides = 0\n",
    "\n",
    "    def getArea(self):\n",
    "        pass\n",
    "\n",
    "\n",
    "class Rectangle(Shape):  # derived from Shape class\n",
    "    # initializer\n",
    "    def __init__(self, width=0, height=0):\n",
    "        self.width = width\n",
    "        self.height = height\n",
    "        self.sides = 4\n",
    "\n",
    "    # method to calculate Area\n",
    "    def getArea(self):\n",
    "        return (self.width * self.height)\n",
    "\n",
    "\n",
    "class Circle(Shape):  # derived from Shape class\n",
    "    # initializer\n",
    "    def __init__(self, radius=0):\n",
    "        self.radius = radius\n",
    "\n",
    "    # method to calculate Area\n",
    "    def getArea(self):\n",
    "        return (self.radius * self.radius * 3.142)\n",
    "\n",
    "\n",
    "shapes = [Rectangle(6, 10), Circle(7)]\n",
    "print(\"Area of rectangle is:\", str(shapes[0].getArea()))\n",
    "print(\"Area of circle is:\", str(shapes[1].getArea()))"
   ]
  },
  {
   "cell_type": "markdown",
   "id": "2d5a8dca",
   "metadata": {},
   "source": [
    "Advantages and key features of method overriding\n",
    "\n",
    "The derived classes can give their own specific implementations to inherited methods without modifying the parent class methods.\n",
    "\n",
    "For any method, a child class can use the implementation in the parent class or make its own implementation.\n",
    "\n",
    "Method overriding needs inheritance, and there should be at least one derived class to implement it.\n",
    "\n",
    "The methods in the derived classes usually have a dissimilar implementation."
   ]
  },
  {
   "cell_type": "markdown",
   "id": "7ee6e451",
   "metadata": {},
   "source": []
  },
  {
   "cell_type": "markdown",
   "id": "40df7030",
   "metadata": {},
   "source": [
    "### Operator Overloading\n",
    "\n",
    "    Operator\tMethod\n",
    "    +\t__add__ (self, other)\n",
    "    -\t__sub__ (self, other)\n",
    "    /\t__truediv__ (self, other)\n",
    "    *\t__mul__ (self, other)\n",
    "    <\t__lt__ (self, other)\n",
    "    >\t__gt__ (self, other)\n",
    "    ==\t__eq__ (self, other)"
   ]
  },
  {
   "cell_type": "code",
   "execution_count": 24,
   "id": "a578eb8b",
   "metadata": {},
   "outputs": [
    {
     "name": "stdout",
     "output_type": "stream",
     "text": [
      "real of obj3: 5\n",
      "imag of obj3: 12\n",
      "real of obj4: 1\n",
      "imag of obj4: 2\n"
     ]
    }
   ],
   "source": [
    "class Com:\n",
    "    def __init__(self, real=0, imag=0):\n",
    "        self.real = real\n",
    "        self.imag = imag\n",
    "\n",
    "    def __add__(self, other):  # overloading the `+` operator\n",
    "        temp = Com(self.real + other.real, self.imag + other.imag)\n",
    "        return temp\n",
    "\n",
    "    def __sub__(self, other):  # overloading the `-` operator\n",
    "        temp = Com(self.real - other.real, self.imag - other.imag)\n",
    "        return temp\n",
    "\n",
    "\n",
    "obj1 = Com(3, 7)\n",
    "obj2 = Com(2, 5)\n",
    "\n",
    "obj3 = obj1 + obj2\n",
    "obj4 = obj1 - obj2\n",
    "\n",
    "print(\"real of obj3:\", obj3.real)\n",
    "print(\"imag of obj3:\", obj3.imag)\n",
    "print(\"real of obj4:\", obj4.real)\n",
    "print(\"imag of obj4:\", obj4.imag)"
   ]
  },
  {
   "cell_type": "markdown",
   "id": "ad181db6",
   "metadata": {},
   "source": [
    "Abstract base classes define a set of methods and properties that a class must implement in order to be considered a duck-type instance of that class."
   ]
  },
  {
   "cell_type": "code",
   "execution_count": 25,
   "id": "2dbbeead",
   "metadata": {},
   "outputs": [
    {
     "ename": "TypeError",
     "evalue": "Can't instantiate abstract class Shape with abstract methods area, perimeter",
     "output_type": "error",
     "traceback": [
      "\u001b[1;31m---------------------------------------------------------------------------\u001b[0m",
      "\u001b[1;31mTypeError\u001b[0m                                 Traceback (most recent call last)",
      "\u001b[1;32m~\\AppData\\Local\\Temp/ipykernel_9020/2325722966.py\u001b[0m in \u001b[0;36m<module>\u001b[1;34m\u001b[0m\n\u001b[0;32m     23\u001b[0m \u001b[1;33m\u001b[0m\u001b[0m\n\u001b[0;32m     24\u001b[0m \u001b[1;33m\u001b[0m\u001b[0m\n\u001b[1;32m---> 25\u001b[1;33m \u001b[0mshape\u001b[0m \u001b[1;33m=\u001b[0m \u001b[0mShape\u001b[0m\u001b[1;33m(\u001b[0m\u001b[1;33m)\u001b[0m\u001b[1;33m\u001b[0m\u001b[1;33m\u001b[0m\u001b[0m\n\u001b[0m\u001b[0;32m     26\u001b[0m \u001b[1;31m# this code will not compile since Shape has abstract methods without\u001b[0m\u001b[1;33m\u001b[0m\u001b[1;33m\u001b[0m\u001b[0m\n\u001b[0;32m     27\u001b[0m \u001b[1;31m# method definitions in it\u001b[0m\u001b[1;33m\u001b[0m\u001b[1;33m\u001b[0m\u001b[0m\n",
      "\u001b[1;31mTypeError\u001b[0m: Can't instantiate abstract class Shape with abstract methods area, perimeter"
     ]
    }
   ],
   "source": [
    "from abc import ABC, abstractmethod\n",
    "\n",
    "\n",
    "class Shape(ABC):  # Shape is a child class of ABC\n",
    "    @abstractmethod\n",
    "    def area(self):\n",
    "        pass\n",
    "\n",
    "    @abstractmethod\n",
    "    def perimeter(self):\n",
    "        pass\n",
    "\n",
    "\n",
    "class Square(Shape):\n",
    "    def __init__(self, length):\n",
    "        self.length = length\n",
    "\n",
    "    def area(self):\n",
    "        return (self.length * self.length)\n",
    "\n",
    "    def perimeter(self):\n",
    "        return (4 * self.length)\n",
    "\n",
    "\n",
    "shape = Shape()\n",
    "# this code will not compile since Shape has abstract methods without\n",
    "# method definitions in it\n",
    "# When we define the methods, area and perimeter, in the child class Square, an object of Shape cannot be instantiated, but an object of Square can be.\n",
    "# We allow the user to have a free hand over the definition of the methods while also making sure that the methods are defined.\n",
    "# Note: Methods with @abstractmethod decorators must be defined in the child class."
   ]
  },
  {
   "cell_type": "markdown",
   "id": "3f548236",
   "metadata": {},
   "source": [
    "### Interaction between class objects"
   ]
  },
  {
   "cell_type": "markdown",
   "id": "98bb39b7",
   "metadata": {},
   "source": [
    "##### Aggregation\n",
    "\n",
    "The owner object could get deleted, but the owned object can continue to exist in the program. In aggregation, the parent only contains a reference to the child, which removes the child’s dependency.\n",
    "\n",
    "we will need object references to implement aggregation\n",
    "|\n"
   ]
  },
  {
   "cell_type": "code",
   "execution_count": 27,
   "id": "41f40896",
   "metadata": {},
   "outputs": [
    {
     "name": "stdout",
     "output_type": "stream",
     "text": [
      "Person Name: Joe\n",
      "Country Name: Wales\n",
      "Country Population 1500\n",
      "\n",
      "Country Name: Wales\n",
      "Country Population 1500\n"
     ]
    }
   ],
   "source": [
    "class Country:\n",
    "    def __init__(self, name=None, population=0):\n",
    "        self.name = name\n",
    "        self.population = population\n",
    "\n",
    "    def printDetails(self):\n",
    "        print(\"Country Name:\", self.name)\n",
    "        print(\"Country Population\", self.population)\n",
    "\n",
    "\n",
    "class Person:\n",
    "    def __init__(self, name, country):\n",
    "        self.name = name\n",
    "        self.country = country\n",
    "\n",
    "    def printDetails(self):\n",
    "        print(\"Person Name:\", self.name)\n",
    "        self.country.printDetails()\n",
    "\n",
    "\n",
    "c = Country(\"Wales\", 1500)\n",
    "p = Person(\"Joe\", c)\n",
    "p.printDetails()\n",
    "\n",
    "# deletes the object p\n",
    "del p\n",
    "print(\"\")\n",
    "c.printDetails()\n",
    "#As we can see, the Country object c lives on even after we delete the Person object p. \n",
    "#This creates a weaker relationship between the two classes."
   ]
  },
  {
   "cell_type": "markdown",
   "id": "4b7a233a",
   "metadata": {},
   "source": [
    "#### Composition\n",
    "\n",
    "Composition is the practice of accessing other class objects in your class. In such a scenario, the class which creates the object of the other class is known as the owner and is responsible for the lifetime of that object.\n",
    "\n",
    "Composition relationships are Part-of relationships where the part must constitute a segment of the whole object. We can achieve composition by adding smaller parts of other classes to make a complex unit.\n",
    "\n",
    "But what makes composition so unique?\n",
    "\n",
    "In composition, the lifetime of the owned object depends on the lifetime of the owner."
   ]
  },
  {
   "cell_type": "code",
   "execution_count": 29,
   "id": "835ad10c",
   "metadata": {},
   "outputs": [
    {
     "name": "stdout",
     "output_type": "stream",
     "text": [
      "Engine Details: 1600\n",
      "Number of tires: 4\n",
      "Number of doors: 2\n",
      "Car color: Grey\n"
     ]
    }
   ],
   "source": [
    "class Engine:\n",
    "    def __init__(self, capacity=0):\n",
    "        self.capacity = capacity\n",
    "\n",
    "    def printDetails(self):\n",
    "        print(\"Engine Details:\", self.capacity)\n",
    "\n",
    "\n",
    "class Tires:\n",
    "    def __init__(self, tires=0):\n",
    "        self.tires = tires\n",
    "\n",
    "    def printDetails(self):\n",
    "        print(\"Number of tires:\", self.tires)\n",
    "\n",
    "\n",
    "class Doors:\n",
    "    def __init__(self, doors=0):\n",
    "        self.doors = doors\n",
    "\n",
    "    def printDetails(self):\n",
    "        print(\"Number of doors:\", self.doors)\n",
    "\n",
    "\n",
    "class Car:\n",
    "    def __init__(self, eng, tr, dr, color):\n",
    "        self.eObj = Engine(eng)\n",
    "        self.tObj = Tires(tr)\n",
    "        self.dObj = Doors(dr)\n",
    "        self.color = color\n",
    "\n",
    "    def printDetails(self):\n",
    "        self.eObj.printDetails()\n",
    "        self.tObj.printDetails()\n",
    "        self.dObj.printDetails()\n",
    "        print(\"Car color:\", self.color)\n",
    "\n",
    "\n",
    "car = Car(1600, 4, 2, \"Grey\")\n",
    "car.printDetails()\n",
    "#We have created a Car class which contains the objects of Engine, Tires, and Doors classes. \n",
    "#Car class is responsible for their lifetime, i.e., when Car dies, so does tire, engine, and doors too."
   ]
  },
  {
   "cell_type": "code",
   "execution_count": 30,
   "id": "22e70ca2",
   "metadata": {},
   "outputs": [
    {
     "ename": "SyntaxError",
     "evalue": "invalid syntax. Perhaps you forgot a comma? (Temp/ipykernel_9020/4257644668.py, line 1)",
     "output_type": "error",
     "traceback": [
      "\u001b[1;36m  File \u001b[1;32m\"C:\\Users\\SCA22\\AppData\\Local\\Temp/ipykernel_9020/4257644668.py\"\u001b[1;36m, line \u001b[1;32m1\u001b[0m\n\u001b[1;33m    Association is the most basic way to relate classes without inheritance.\u001b[0m\n\u001b[1;37m    ^\u001b[0m\n\u001b[1;31mSyntaxError\u001b[0m\u001b[1;31m:\u001b[0m invalid syntax. Perhaps you forgot a comma?\n"
     ]
    }
   ],
   "source": [
    "Association is the most basic way to relate classes without inheritance."
   ]
  },
  {
   "cell_type": "code",
   "execution_count": 31,
   "id": "6b8500ae",
   "metadata": {},
   "outputs": [
    {
     "name": "stdout",
     "output_type": "stream",
     "text": [
      "Total players in mySchool: 4\n"
     ]
    }
   ],
   "source": [
    "class Player:\n",
    "    def __init__(self, ID, name, teamName):\n",
    "        self.ID = ID\n",
    "        self.name = name\n",
    "        self.teamName = teamName\n",
    "\n",
    "\n",
    "class Team:\n",
    "    def __init__(self, name):\n",
    "        self.name = name\n",
    "        self.players = []\n",
    "\n",
    "    def getNumberOfPlayers(self):\n",
    "        return len(self.players)\n",
    "\n",
    "    def addPlayer(self, player):\n",
    "        self.players.append(player)\n",
    "\n",
    "\n",
    "class School:\n",
    "    def __init__(self, name):\n",
    "        self.name = name\n",
    "        self.teams = []\n",
    "\n",
    "    def addTeam(self, team):\n",
    "        self.teams.append(team)\n",
    "\n",
    "    def getTotalPlayersInSchool(self):\n",
    "        length = 0\n",
    "        for n in self.teams:\n",
    "            length = length + (n.getNumberOfPlayers())\n",
    "        return length\n",
    "\n",
    "\n",
    "p1 = Player(1, \"Harris\", \"Red\")\n",
    "p2 = Player(2, \"Carol\", \"Red\")\n",
    "p3 = Player(1, \"Johnny\", \"Blue\")\n",
    "p4 = Player(2, \"Sarah\", \"Blue\")\n",
    "\n",
    "red_team = Team(\"Red Team\")\n",
    "red_team.addPlayer(p1)\n",
    "red_team.addPlayer(p2)\n",
    "\n",
    "blue_team = Team(\"Blue Team\")\n",
    "blue_team.addPlayer(p2)\n",
    "blue_team.addPlayer(p3)\n",
    "\n",
    "mySchool = School(\"My School\")\n",
    "mySchool.addTeam(red_team)\n",
    "mySchool.addTeam(blue_team)\n",
    "\n",
    "print(\"Total players in mySchool:\", mySchool.getTotalPlayersInSchool())"
   ]
  },
  {
   "cell_type": "code",
   "execution_count": 32,
   "id": "e07b3c80",
   "metadata": {},
   "outputs": [
    {
     "name": "stdout",
     "output_type": "stream",
     "text": [
      "obj.x =  16\n",
      "obj3.y = : 0\n",
      "obj4.x = : -4\n",
      "obj4.y =  0\n"
     ]
    }
   ],
   "source": [
    "class A:\n",
    "    def __init__(self, x=0, y=0):\n",
    "        self.x = x\n",
    "        self.y = y\n",
    "\n",
    "    def __add__(self, num):\n",
    "        return A((self.x + num.x) * 2)\n",
    "\n",
    "    def __sub__(self, num):  \n",
    "        return A((self.x - num.x) * 2)\n",
    "\n",
    "\n",
    "obj1 = A(3)\n",
    "obj2 = A(5)\n",
    "\n",
    "obj3 = obj1 + obj2\n",
    "obj4 = obj1 - obj2\n",
    "\n",
    "print(\"obj.x = \", obj3.x)\n",
    "print(\"obj3.y = :\", obj3.y)\n",
    "print(\"obj4.x = :\", obj4.x)\n",
    "print(\"obj4.y = \", obj4.y)"
   ]
  },
  {
   "cell_type": "code",
   "execution_count": null,
   "id": "652f755e",
   "metadata": {},
   "outputs": [],
   "source": []
  }
 ],
 "metadata": {
  "kernelspec": {
   "display_name": "Python 3 (ipykernel)",
   "language": "python",
   "name": "python3"
  },
  "language_info": {
   "codemirror_mode": {
    "name": "ipython",
    "version": 3
   },
   "file_extension": ".py",
   "mimetype": "text/x-python",
   "name": "python",
   "nbconvert_exporter": "python",
   "pygments_lexer": "ipython3",
   "version": "3.10.0"
  }
 },
 "nbformat": 4,
 "nbformat_minor": 5
}
