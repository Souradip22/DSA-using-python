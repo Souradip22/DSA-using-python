{
 "cells": [
  {
   "cell_type": "code",
   "execution_count": 56,
   "id": "e54616b9",
   "metadata": {},
   "outputs": [],
   "source": [
    "class BinaryTreeNode:\n",
    "    def __init__(self, data):\n",
    "        self.data = data\n",
    "        self.left = None\n",
    "        self.right = None\n",
    "\n",
    "def takeInput():\n",
    "    rootData = int(input())\n",
    "    if rootData == -1:\n",
    "        return None\n",
    "    rootNode = BinaryTreeNode(rootData)\n",
    "    leftNode = takeInput()\n",
    "    rightNode = takeInput()\n",
    "    \n",
    "    rootNode.left = leftNode\n",
    "    rootNode.right = rightNode\n",
    "    return rootNode\n",
    "\n",
    "def printBinaryTree(root):\n",
    "    \n",
    "    if root == None:\n",
    "        return\n",
    "    print(root.data, end = ' ')\n",
    "    if root.left:\n",
    "        print(\"L\", root.left.data, end = ':')\n",
    "    if root.right:\n",
    "        print(\"R\", root.right.data, end = ' ')\n",
    "    print()\n",
    "    printBinaryTree(root.left)\n",
    "    printBinaryTree(root.right)"
   ]
  },
  {
   "cell_type": "code",
   "execution_count": 57,
   "id": "ee4ae3e9",
   "metadata": {},
   "outputs": [
    {
     "name": "stdout",
     "output_type": "stream",
     "text": [
      "-1\n"
     ]
    }
   ],
   "source": [
    "BST1 = takeInput()"
   ]
  },
  {
   "cell_type": "markdown",
   "id": "c767817e",
   "metadata": {},
   "source": [
    "### Search IN BST\n"
   ]
  },
  {
   "cell_type": "code",
   "execution_count": 58,
   "id": "100d2175",
   "metadata": {},
   "outputs": [
    {
     "name": "stdout",
     "output_type": "stream",
     "text": [
      "False\n"
     ]
    }
   ],
   "source": [
    "def searchBST(root, val):\n",
    "    if root is None:\n",
    "        return False\n",
    "\n",
    "    if root.data == val:\n",
    "        return True\n",
    "\n",
    "    if root.data > val:\n",
    "        return searchBST(root.left, val)\n",
    "    else:\n",
    "        return searchBST(root.right, val)\n",
    "\n",
    "    return False\n",
    "\n",
    "print(searchBST(BST1, 33))"
   ]
  },
  {
   "cell_type": "code",
   "execution_count": 59,
   "id": "8ffc8537",
   "metadata": {},
   "outputs": [],
   "source": [
    "def elementsInRangeK1K2(root, k1, k2):\n",
    "    if root is None:\n",
    "        return None\n",
    "    \n",
    "    if root.data < k1:\n",
    "        elementsInRangeK1K2(root.right, k1, k2)\n",
    "    \n",
    "    elif root.data > k2:\n",
    "        elementsInRangeK1K2(root.left, k1, k2)\n",
    "    \n",
    "    else:\n",
    "        print(root.data)\n",
    "        elementsInRangeK1K2(root.left, k1, k2)\n",
    "        elementsInRangeK1K2(root.right, k1, k2)\n",
    "    \n",
    "    "
   ]
  },
  {
   "cell_type": "markdown",
   "id": "c456ad69",
   "metadata": {},
   "source": [
    "### Cnstruct BST from sorted array"
   ]
  },
  {
   "cell_type": "code",
   "execution_count": 60,
   "id": "1f759729",
   "metadata": {},
   "outputs": [],
   "source": [
    "def constructBST(lst):\n",
    "    if len(lst) <= 0:\n",
    "        return None\n",
    "    \n",
    "    mid = len(lst) // 2\n",
    "    rootNode = BinaryTreeNode(lst[mid])\n",
    "    \n",
    "    leftSide = constructBST(lst[:mid])\n",
    "    rightSide = constructBST(lst[mid + 1:])\n",
    "    \n",
    "    rootNode.left = leftSide\n",
    "    rootNode.right = rightSide\n",
    "    \n",
    "    return rootNode\n",
    "\n",
    "\n",
    "\n"
   ]
  },
  {
   "cell_type": "markdown",
   "id": "a852dd38",
   "metadata": {},
   "source": [
    "## CHECK IS BST [3 Different Approaches]\n"
   ]
  },
  {
   "cell_type": "code",
   "execution_count": 61,
   "id": "37b67903",
   "metadata": {},
   "outputs": [
    {
     "name": "stdout",
     "output_type": "stream",
     "text": [
      "4\n",
      "2\n",
      "1\n",
      "-1\n",
      "-1\n",
      "3\n",
      "-1\n",
      "-1\n",
      "6\n",
      "7\n",
      "-1\n",
      "-1\n",
      "8\n",
      "-1\n",
      "-1\n",
      "-1\n"
     ]
    }
   ],
   "source": [
    "inputTure = takeInput()\n",
    "inputFalse = takeInput()"
   ]
  },
  {
   "cell_type": "code",
   "execution_count": 73,
   "id": "0ad497ff",
   "metadata": {},
   "outputs": [
    {
     "name": "stdout",
     "output_type": "stream",
     "text": [
      "2\n",
      "1\n",
      "-1\n",
      "-1\n",
      "3\n",
      "-1\n",
      "-1\n",
      "True\n"
     ]
    }
   ],
   "source": [
    "def minTree(root):\n",
    "    if root is None:\n",
    "        return float('inf')\n",
    "    \n",
    "    leftSide = minTree(root.left)\n",
    "    rightSide = minTree(root.right)\n",
    "    \n",
    "    return min(root.data, leftSide, rightSide)\n",
    "\n",
    "def maxTree(root):\n",
    "    if root is None:\n",
    "        return float('-inf')\n",
    "    \n",
    "    leftSide = maxTree(root.left)\n",
    "    rightSide = maxTree(root.right)\n",
    "    \n",
    "    return max(root.data, leftSide, rightSide)\n",
    "    \n",
    "\n",
    "def isBST1(root):\n",
    "    if root is None:\n",
    "        return True\n",
    "    \n",
    "    leftMax = maxTree(root.left)\n",
    "    rightMin = minTree(root.right)\n",
    "    \n",
    "    if root.data <= leftMax or root.data >= rightMin:\n",
    "        return False\n",
    "\n",
    "    \n",
    "    isLeftBST = isBST(root.left)\n",
    "    isRightBST = isBST(root.right)\n",
    "    \n",
    "    return isLeftBST and isRightBST\n",
    "\n",
    "inp = takeInput()\n",
    "\n",
    "ans = isBST(inp)\n",
    "print(ans)"
   ]
  },
  {
   "cell_type": "code",
   "execution_count": 77,
   "id": "35398b32",
   "metadata": {},
   "outputs": [
    {
     "name": "stdout",
     "output_type": "stream",
     "text": [
      "(1, 3, True)\n"
     ]
    }
   ],
   "source": [
    "def isBST2(root):\n",
    "    if root is None:\n",
    "        return float('inf'), float('-inf'), True\n",
    "    \n",
    "    leftMin, leftMax, isLeftBST = isBST2(root.left)\n",
    "    rightMin, rightMax, isRightBST = isBST2(root.right)\n",
    "    \n",
    "    minimum = min(leftMin, rightMin, root.data)\n",
    "    maximum = max(leftMax, rightMax, root.data)\n",
    "    \n",
    "    isTreeBST = True\n",
    "    if root.data <= leftMax or root.data >= rightMin:\n",
    "        isTreeBST = False\n",
    "    if not(isLeftBST) or not(isRightBST):\n",
    "        isTreeBST = False\n",
    "        \n",
    "    return minimum, maximum, isTreeBST\n",
    "\n",
    "op = isBST2(inp)\n",
    "print(op)\n",
    "        "
   ]
  },
  {
   "cell_type": "code",
   "execution_count": 81,
   "id": "5e60d5b2",
   "metadata": {},
   "outputs": [
    {
     "name": "stdout",
     "output_type": "stream",
     "text": [
      "(True, 4, inf)\n"
     ]
    }
   ],
   "source": [
    "def isBST3(root, minRange, maxRange):\n",
    "    \n",
    "    if root is None:\n",
    "        return True, minRange, maxRange\n",
    "    \n",
    "    if root.data < minRange or root.data > maxRange:\n",
    "        return False\n",
    "    \n",
    "    isLeftSideWithInRange = isBST3(root.left, minRange, root.data - 1)\n",
    "    isRightSideWithInRange = isBST3(root.right, root.data + 1, maxRange)\n",
    "    \n",
    "    return isLeftSideWithInRange and isRightSideWithInRange\n",
    "\n",
    "\n",
    "op = isBST3(inp, float('-inf'), float('inf'))\n",
    "print(op)"
   ]
  },
  {
   "cell_type": "markdown",
   "id": "5f6d3585",
   "metadata": {},
   "source": [
    "### Root to Node path is Binary Tree [Not BST]"
   ]
  },
  {
   "cell_type": "code",
   "execution_count": 85,
   "id": "08c004c3",
   "metadata": {},
   "outputs": [
    {
     "name": "stdout",
     "output_type": "stream",
     "text": [
      "1\n",
      "2\n",
      "-1\n",
      "-1\n",
      "3\n",
      "4\n",
      "-1\n",
      "-1\n",
      "6\n",
      "5\n",
      "7\n",
      "-1\n",
      "-1\n",
      "8\n",
      "-1\n",
      "-1\n",
      "9\n",
      "-1\n",
      "-1\n",
      "[5, 6, 3, 1]\n"
     ]
    }
   ],
   "source": [
    "def findPath(root,data):\n",
    "    if root is None:\n",
    "        return None\n",
    "    if root.data == data:\n",
    "        ans = []\n",
    "        ans.append(root.data)\n",
    "        return ans\n",
    "    \n",
    "    leftSide = findPath(root.left, data)\n",
    "    if leftSide != None:\n",
    "        leftSide.append(root.data)\n",
    "        return leftSide\n",
    "    \n",
    "    rightSide = findPath(root.right, data)\n",
    "    \n",
    "    if rightSide != None:\n",
    "        rightSide.append(root.data)\n",
    "        return rightSide\n",
    "    return None\n",
    "\n",
    "pathIP = takeInput()\n",
    "path = findPath(pathIP,5)\n",
    "print(path)"
   ]
  },
  {
   "cell_type": "code",
   "execution_count": 86,
   "id": "53eb17e8",
   "metadata": {},
   "outputs": [],
   "source": [
    "def findPathBST(root,data):\n",
    "    if root is None:\n",
    "        return None\n",
    "    \n",
    "    if root.data == data:\n",
    "        ans = []\n",
    "        ans.append(root.data)\n",
    "        return ans\n",
    "    \n",
    "    if root.data > data:\n",
    "        leftSide = findPathBST(root.left, data)\n",
    "        if leftSide != None:\n",
    "            leftSide.append(root.data)\n",
    "            return leftSide\n",
    "    else:\n",
    "        rightSide = findPathBST(root.right, data)\n",
    "        if rightSide != None:\n",
    "            rightSide.append(root.data)\n",
    "            return rightSide\n",
    "    \n",
    "    return None\n",
    "        \n",
    "        "
   ]
  },
  {
   "cell_type": "code",
   "execution_count": 98,
   "id": "bd94c1dc",
   "metadata": {},
   "outputs": [],
   "source": [
    "class BST:\n",
    "    \n",
    "    def __init__(self):\n",
    "        self.root = None\n",
    "        self.numNodes = 0\n",
    "    \n",
    "    def printTreeHelper(self, root):\n",
    "        if root == None:\n",
    "            return\n",
    "        print(root.data, end = ' ')\n",
    "        if root.left:\n",
    "            print(\"L\", root.left.data, end = ':')\n",
    "        if root.right:\n",
    "            print(\"R\", root.right.data, end = ' ')\n",
    "        print()\n",
    "        self.printTreeHelper(root.left)\n",
    "        self.printTreeHelper(root.right)\n",
    "        \n",
    "    def printTree(self):\n",
    "        return self.printTreeHelper(self.root)\n",
    "\n",
    "    \n",
    "    def searchHelper(self, root, data):\n",
    "        if root is None:\n",
    "            return False\n",
    "        if root.data == data:\n",
    "            return True\n",
    "        if root.data > data:\n",
    "            return self.searchHelper(root.left, data)\n",
    "        else:\n",
    "            return self.searchHelper(root.right, data)\n",
    "        \n",
    "    def search(self, data):\n",
    "        return self.searchHelper(self.root, data)\n",
    "\n",
    "\n",
    "    def insertHelper(self, root, data):\n",
    "        if root is None:\n",
    "            return BinaryTreeNode(data)\n",
    "        \n",
    "        if root.data > data:\n",
    "            root.left = self.insertHelper(root.left, data)\n",
    "            return root\n",
    "        else:\n",
    "            root.right = self.insertHelper(root.right, data)\n",
    "            return root\n",
    "        \n",
    "    def insert(self, data):\n",
    "        self.numNodes += 1\n",
    "        self.root = self.insertHelper(self.root, data)\n",
    "\n",
    "    def minNode(self, root):\n",
    "        # as this is BST, we need to check only the left side (as we are trying to find min || \n",
    "        #minimum can only be on the left side)\n",
    "        if root is None:\n",
    "            return float('inf')\n",
    "        if root.left == None:\n",
    "            return root.data\n",
    "        return self.min(root.left)\n",
    "    \n",
    "    def deleteHelper(self, root, data):\n",
    "        if root is None:\n",
    "            return False, None\n",
    "        \n",
    "        if root.data > data:\n",
    "            deleted, newLeft = self.deleteHelper(root.left, data)\n",
    "            root.left = newLeft\n",
    "            return deleted, root\n",
    "        if root.data < data:\n",
    "            deleted, newRight = self.deleteHelper(root.right, data)\n",
    "            root.right = newRight\n",
    "            return deleted, root\n",
    "        if root.data == data:\n",
    "            #if root is leaf\n",
    "            if root.left == None and root.right == None:\n",
    "                return True, None\n",
    "            # if root has one child\n",
    "            if root.left == None:\n",
    "                return True, root.right\n",
    "            if root.right == None:\n",
    "                return True, root.left\n",
    "            # root has 2 children\n",
    "            # finding minimum node from root right side\n",
    "            replacement = self.minNode(root.right)\n",
    "            root.data = replacement\n",
    "            deleted, newRightNode = self.deleteHelper(root.right, replacement)# to remove the extra replcement we call on root.right\n",
    "            root.right = newRightNode\n",
    "            return True, root\n",
    "        \n",
    "        \n",
    "    def delete(self, data):\n",
    "        deleted, newRoot = self.deleteHelper(self.root, data)\n",
    "        if deleted:\n",
    "            self.numNodes -= 1\n",
    "        self.root = newRoot\n",
    "        return deleted\n",
    "\n",
    "    \n",
    "    def count(self):\n",
    "        return self.numNodes"
   ]
  },
  {
   "cell_type": "code",
   "execution_count": 100,
   "id": "7249dacb",
   "metadata": {},
   "outputs": [
    {
     "name": "stdout",
     "output_type": "stream",
     "text": [
      "- True\n",
      "False\n",
      "False\n",
      "True\n",
      "2\n",
      "12 L 5:\n",
      "5 \n"
     ]
    }
   ],
   "source": [
    "b = BST()\n",
    "b.insert(10)\n",
    "b.insert(5)\n",
    "b.insert(12)\n",
    "print('-',b.search(10))\n",
    "print(b.search(7))\n",
    "print(b.delete(4))\n",
    "print(b.delete(10))\n",
    "print(b.count())\n",
    "b.printTree()"
   ]
  },
  {
   "cell_type": "code",
   "execution_count": null,
   "id": "f04adf4e",
   "metadata": {},
   "outputs": [],
   "source": []
  }
 ],
 "metadata": {
  "kernelspec": {
   "display_name": "Python 3 (ipykernel)",
   "language": "python",
   "name": "python3"
  },
  "language_info": {
   "codemirror_mode": {
    "name": "ipython",
    "version": 3
   },
   "file_extension": ".py",
   "mimetype": "text/x-python",
   "name": "python",
   "nbconvert_exporter": "python",
   "pygments_lexer": "ipython3",
   "version": "3.10.0"
  }
 },
 "nbformat": 4,
 "nbformat_minor": 5
}
