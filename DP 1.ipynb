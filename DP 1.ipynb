{
 "cells": [
  {
   "cell_type": "code",
   "execution_count": 9,
   "id": "d0e0028d",
   "metadata": {},
   "outputs": [
    {
     "name": "stdout",
     "output_type": "stream",
     "text": [
      "100\n"
     ]
    },
    {
     "data": {
      "text/plain": [
       "354224848179261915075"
      ]
     },
     "execution_count": 9,
     "metadata": {},
     "output_type": "execute_result"
    }
   ],
   "source": [
    "def fibb(n, dp):\n",
    "    if n ==0 or n ==1:\n",
    "        return n\n",
    "    if dp[n-1] == -1:\n",
    "        ans1 = fibb(n - 1, dp)\n",
    "        dp[n - 1] = ans1\n",
    "    else:\n",
    "        ans1 = dp[n - 1]\n",
    "        \n",
    "    if dp[n - 2] == -1:\n",
    "        ans2 = fibb(n - 2, dp)\n",
    "        dp[n - 2] = ans2\n",
    "    else:\n",
    "        ans2 = dp[n - 2]\n",
    "\n",
    "    return ans1 + ans2\n",
    "\n",
    "inp = int(input())\n",
    "dp = [-1 for i in range(inp + 1)]\n",
    "fibb(inp, dp)\n"
   ]
  },
  {
   "cell_type": "code",
   "execution_count": 11,
   "id": "1e461f01",
   "metadata": {},
   "outputs": [
    {
     "name": "stdout",
     "output_type": "stream",
     "text": [
      "1000\n"
     ]
    },
    {
     "data": {
      "text/plain": [
       "43466557686937456435688527675040625802564660517371780402481729089536555417949051890403879840079255169295922593080322634775209689623239873322471161642996440906533187938298969649928516003704476137795166849228875"
      ]
     },
     "execution_count": 11,
     "metadata": {},
     "output_type": "execute_result"
    }
   ],
   "source": [
    "def fibbIterative(n):\n",
    "    dp = [0 for i in range(n + 1)]\n",
    "    dp[0] = 0\n",
    "    dp[1] = 1\n",
    "    i = 2\n",
    "    while i <= n:\n",
    "        dp[i] = dp[i - 1] + dp[i - 2]\n",
    "        i += 1\n",
    "    return dp[n]\n",
    "\n",
    "inp = int(input())\n",
    "fibbIterative(inp)"
   ]
  },
  {
   "cell_type": "code",
   "execution_count": null,
   "id": "1562c73f",
   "metadata": {},
   "outputs": [],
   "source": []
  }
 ],
 "metadata": {
  "kernelspec": {
   "display_name": "Python 3 (ipykernel)",
   "language": "python",
   "name": "python3"
  },
  "language_info": {
   "codemirror_mode": {
    "name": "ipython",
    "version": 3
   },
   "file_extension": ".py",
   "mimetype": "text/x-python",
   "name": "python",
   "nbconvert_exporter": "python",
   "pygments_lexer": "ipython3",
   "version": "3.10.0"
  }
 },
 "nbformat": 4,
 "nbformat_minor": 5
}
