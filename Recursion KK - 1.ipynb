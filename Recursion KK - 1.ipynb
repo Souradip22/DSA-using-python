{
 "cells": [
  {
   "cell_type": "code",
   "execution_count": 2,
   "id": "5e33c825",
   "metadata": {},
   "outputs": [
    {
     "name": "stdout",
     "output_type": "stream",
     "text": [
      "1\n",
      "2\n",
      "3\n",
      "4\n",
      "5\n"
     ]
    }
   ],
   "source": [
    "def print1toN(n):\n",
    "    if n == 0:\n",
    "        return\n",
    "    print1toN(n - 1)\n",
    "    print(n)\n",
    "\n",
    "print1toN(5)"
   ]
  },
  {
   "cell_type": "code",
   "execution_count": 4,
   "id": "4dc2f8d1",
   "metadata": {},
   "outputs": [
    {
     "name": "stdout",
     "output_type": "stream",
     "text": [
      "5\n",
      "4\n",
      "3\n",
      "2\n",
      "1\n"
     ]
    }
   ],
   "source": [
    "def printNto1(n):\n",
    "    if n == 0:\n",
    "        return\n",
    "    print(n)\n",
    "    printNto1(n - 1)\n",
    "    \n",
    "printNto1(5)"
   ]
  },
  {
   "cell_type": "code",
   "execution_count": 6,
   "id": "910e1805",
   "metadata": {},
   "outputs": [
    {
     "name": "stdout",
     "output_type": "stream",
     "text": [
      "5\n",
      "4\n",
      "3\n",
      "2\n",
      "1\n",
      "1\n",
      "2\n",
      "3\n",
      "4\n",
      "5\n"
     ]
    }
   ],
   "source": [
    "def printBoth(n):\n",
    "    if n == 0:\n",
    "        return\n",
    "    \n",
    "    print(n)\n",
    "    printBoth(n-1)\n",
    "    print(n)\n",
    "\n",
    "printBoth(5)    "
   ]
  },
  {
   "cell_type": "code",
   "execution_count": 7,
   "id": "db3010da",
   "metadata": {},
   "outputs": [
    {
     "name": "stdout",
     "output_type": "stream",
     "text": [
      "120\n"
     ]
    }
   ],
   "source": [
    "#factorial\n",
    "def fact(n):\n",
    "    if n == 0 or n == 1:\n",
    "        return 1\n",
    "    return n * fact(n - 1)\n",
    "\n",
    "ans = fact(5)\n",
    "print(ans)"
   ]
  },
  {
   "cell_type": "code",
   "execution_count": 13,
   "id": "71213dec",
   "metadata": {},
   "outputs": [
    {
     "name": "stdout",
     "output_type": "stream",
     "text": [
      "21\n"
     ]
    }
   ],
   "source": [
    "#sum of N Numbers\n",
    "def sumN(n):\n",
    "    if n == 0:\n",
    "        return 0\n",
    "    return n + sumN(n-1)\n",
    "\n",
    "ans = sumN(6)\n",
    "print(ans)"
   ]
  },
  {
   "cell_type": "code",
   "execution_count": 14,
   "id": "09c75634",
   "metadata": {},
   "outputs": [
    {
     "data": {
      "text/plain": [
       "15"
      ]
     },
     "execution_count": 14,
     "metadata": {},
     "output_type": "execute_result"
    }
   ],
   "source": [
    "#sum of digits\n",
    "def digitSum(n):\n",
    "    if n == 0:\n",
    "        return 0\n",
    "    rem = n % 10\n",
    "    return rem + digitSum(n // 10)\n",
    "\n",
    "digitSum(12345)"
   ]
  },
  {
   "cell_type": "code",
   "execution_count": 20,
   "id": "3d696ca0",
   "metadata": {},
   "outputs": [
    {
     "data": {
      "text/plain": [
       "120"
      ]
     },
     "execution_count": 20,
     "metadata": {},
     "output_type": "execute_result"
    }
   ],
   "source": [
    "#mul of digits\n",
    "\n",
    "def mulDigits(n):\n",
    "    if n == 0:\n",
    "        return 1\n",
    "    rem = n % 10\n",
    "    return rem * mulDigits(n // 10)\n",
    "\n",
    "mulDigits(12345)"
   ]
  },
  {
   "cell_type": "code",
   "execution_count": 29,
   "id": "a3977daf",
   "metadata": {},
   "outputs": [
    {
     "name": "stdout",
     "output_type": "stream",
     "text": [
      "54321\n"
     ]
    }
   ],
   "source": [
    "#Reverse a number\n",
    "import math\n",
    "def reverseNum(n):\n",
    "    if n == 0:\n",
    "        return 0\n",
    "    rem = n % 10\n",
    "    digits = int(math.floor(math.log10(n)+1))\n",
    "    return rem * int(math.pow(10, digits - 1)) + reverseNum(n // 10)\n",
    "\n",
    "ans = reverseNum(12345)\n",
    "print(ans)"
   ]
  },
  {
   "cell_type": "code",
   "execution_count": 31,
   "id": "39e46363",
   "metadata": {},
   "outputs": [
    {
     "data": {
      "text/plain": [
       "True"
      ]
     },
     "execution_count": 31,
     "metadata": {},
     "output_type": "execute_result"
    }
   ],
   "source": [
    "def isPalindrome(n):\n",
    "    return n == reverseNum(n)\n",
    "\n",
    "isPalindrome(12321)"
   ]
  },
  {
   "cell_type": "code",
   "execution_count": 37,
   "id": "4cbeaf71",
   "metadata": {},
   "outputs": [
    {
     "name": "stdout",
     "output_type": "stream",
     "text": [
      "6\n"
     ]
    }
   ],
   "source": [
    "#count zeroes\n",
    "\n",
    "def countZero(n, count):\n",
    "    \n",
    "    if n == 0:\n",
    "        return count\n",
    "    \n",
    "    rem = n % 10\n",
    "    if rem == 0:\n",
    "        return countZero(n // 10, count + 1)\n",
    "    return countZero(n // 10, count)\n",
    "\n",
    "ans = countZero(11200200200, 0)\n",
    "print(ans)\n",
    "        "
   ]
  },
  {
   "cell_type": "code",
   "execution_count": 46,
   "id": "39315f9e",
   "metadata": {},
   "outputs": [
    {
     "data": {
      "text/plain": [
       "True"
      ]
     },
     "execution_count": 46,
     "metadata": {},
     "output_type": "execute_result"
    }
   ],
   "source": [
    "#Array sorted or not\n",
    "def isArrSorted(arr):\n",
    "    if len(arr) <= 1:\n",
    "        return True\n",
    "    i = 0\n",
    "    if arr[i] <= arr[i+1]:\n",
    "        return isArrSorted(arr[1:])\n",
    "    return False\n",
    "\n",
    "isArrSorted([1,2,4,4,5])"
   ]
  },
  {
   "cell_type": "code",
   "execution_count": 58,
   "id": "89b788b1",
   "metadata": {},
   "outputs": [
    {
     "name": "stdout",
     "output_type": "stream",
     "text": [
      "3\n"
     ]
    }
   ],
   "source": [
    "#Linear Search Recursion || Find first index\n",
    "\n",
    "def linerSearchRec(arr, target, i):\n",
    "    if i > len(arr) -1:\n",
    "        return -1;\n",
    "    if arr[i] == target:\n",
    "        return i\n",
    "    else:\n",
    "        return linerSearchRec(arr, target, i + 1)\n",
    "\n",
    "print(linerSearchRec([1,2,3,4, 4,5], 4, 0))\n",
    "    "
   ]
  },
  {
   "cell_type": "code",
   "execution_count": 5,
   "id": "0870d3f3",
   "metadata": {},
   "outputs": [
    {
     "name": "stdout",
     "output_type": "stream",
     "text": [
      "4\n"
     ]
    }
   ],
   "source": [
    "def findLastIndex(arr, target, i):\n",
    "    \n",
    "    if i < 0:\n",
    "        return -1\n",
    "    \n",
    "    if arr[i] == target:\n",
    "        return i\n",
    "    return findLastIndex(arr, target, i - 1)\n",
    "\n",
    "print(findLastIndex([1,2,3,4,4,5], 4, 5))"
   ]
  },
  {
   "cell_type": "code",
   "execution_count": 6,
   "id": "5d3856a4",
   "metadata": {},
   "outputs": [],
   "source": [
    "#FIND BOTH FIRST AND LAST\n"
   ]
  },
  {
   "cell_type": "markdown",
   "id": "fb1d7bf2",
   "metadata": {},
   "source": [
    "### 1. Keep an outside Array and update that\n",
    "### 2. Pass a list as argument in the function call (Recommended)\n",
    "### 3. Create inside function body and while returning add the function to that list "
   ]
  },
  {
   "cell_type": "code",
   "execution_count": 16,
   "id": "804b4bca",
   "metadata": {},
   "outputs": [
    {
     "name": "stdout",
     "output_type": "stream",
     "text": [
      "[3, 4]\n"
     ]
    }
   ],
   "source": [
    "res = []\n",
    "def findBoth1(arr, target, i):\n",
    "    \n",
    "    if i > len(arr) - 1:\n",
    "        return -1\n",
    "    \n",
    "    if arr[i] == target:\n",
    "        res.append(i)\n",
    "    return findBoth1(arr, target, i + 1)\n",
    "    \n",
    "    \n",
    "findBoth1([1,2,3, 4, 4,5], 4, 0) \n",
    "print(res)"
   ]
  },
  {
   "cell_type": "code",
   "execution_count": 25,
   "id": "cce7d600",
   "metadata": {},
   "outputs": [
    {
     "name": "stdout",
     "output_type": "stream",
     "text": [
      "[3, 4]\n"
     ]
    }
   ],
   "source": [
    "def findBoth2(arr, target, i, res):\n",
    "    \n",
    "    if i > len(arr) - 1:\n",
    "        return res\n",
    "    \n",
    "    if arr[i] == target:\n",
    "        res.append(i)\n",
    "        \n",
    "    return findBoth2(arr, target, i + 1, res)\n",
    "    \n",
    "\n",
    "ans = findBoth2([1,2,3, 4, 4,5], 4, 0, []) \n",
    "print(ans)"
   ]
  },
  {
   "cell_type": "code",
   "execution_count": 89,
   "id": "1e6be3f0",
   "metadata": {
    "slideshow": {
     "slide_type": "fragment"
    }
   },
   "outputs": [
    {
     "name": "stdout",
     "output_type": "stream",
     "text": [
      "[3, 4]\n"
     ]
    }
   ],
   "source": [
    "def findBoth3(arr, target, i):\n",
    "    res = []\n",
    "    if i > len(arr) - 1:\n",
    "        return res\n",
    "    \n",
    "    if arr[i] == target:\n",
    "        res.append(i)\n",
    "        \n",
    "    outputFromBellowCalls = findBoth3(arr, target, i + 1)\n",
    "    \n",
    "    res.extend(outputFromBellowCalls)\n",
    "    \n",
    "    return res\n",
    "\n",
    "ans = findBoth3([1,2,3, 4, 4,5], 4, 0) \n",
    "print(ans)"
   ]
  },
  {
   "cell_type": "markdown",
   "id": "08288424",
   "metadata": {},
   "source": [
    "# Binary Search\n",
    "\n"
   ]
  },
  {
   "cell_type": "code",
   "execution_count": 2,
   "id": "c3619bda",
   "metadata": {},
   "outputs": [
    {
     "name": "stdout",
     "output_type": "stream",
     "text": [
      "5\n"
     ]
    }
   ],
   "source": [
    "def binarySearchRec(arr, target, si, ei):\n",
    "    \n",
    "    if si > ei: \n",
    "        return -1\n",
    "    \n",
    "    mid = (si + ei) // 2\n",
    "    \n",
    "    if arr[mid] == target:\n",
    "        return mid\n",
    "    elif arr[mid] > target:\n",
    "        return binarySearchRec(arr, target, si, mid - 1)\n",
    "    else:\n",
    "        return binarySearchRec(arr, target, mid + 1, ei)\n",
    "    \n",
    "arr = [1, 5, 6, 7, 8, 10, 21, 23]   \n",
    "print(binarySearchRec(arr, 10, 0, len(arr)-1))"
   ]
  },
  {
   "cell_type": "markdown",
   "id": "e5a23366",
   "metadata": {},
   "source": [
    "# Rotated Binary Search\n",
    "\n",
    "arr = [5, 6, 7 ,8 ,9, 1, 2, 3]; \n",
    "target = 7\n"
   ]
  },
  {
   "cell_type": "code",
   "execution_count": 44,
   "id": "7706cec9",
   "metadata": {},
   "outputs": [
    {
     "name": "stdout",
     "output_type": "stream",
     "text": [
      "5\n"
     ]
    }
   ],
   "source": [
    "def rotatedBinarySearch(arr, target, si, ei):\n",
    "    \n",
    "    if si > ei: \n",
    "        return -1\n",
    "    \n",
    "    mid = (si + ei) // 2\n",
    "    \n",
    "    if arr[mid] == target:\n",
    "        return mid\n",
    "    \n",
    "    if arr[si] <= arr[mid]:\n",
    "        if target >= arr[si] and target <= arr[ei]:\n",
    "            return rotatedBinarySearch(arr, target, si, mid - 1)\n",
    "        else:\n",
    "            return rotatedBinarySearch(arr, target, mid + 1, ei)\n",
    "        \n",
    "    return rotatedBinarySearch(arr, target, si, mid - 1)\n",
    "\n",
    "    \n",
    "arr =  [5, 6, 7 ,8 ,9, 1, 2, 3]   \n",
    "print(rotatedBinarySearch(arr, 1, 0, len(arr)-1))"
   ]
  },
  {
   "cell_type": "markdown",
   "id": "d0042b05",
   "metadata": {},
   "source": [
    "# Pattern + Bubble Sort + Selection Sort\n",
    "\n"
   ]
  },
  {
   "cell_type": "code",
   "execution_count": 5,
   "id": "a402cf76",
   "metadata": {},
   "outputs": [
    {
     "name": "stdout",
     "output_type": "stream",
     "text": [
      "****\n",
      "***\n",
      "**\n",
      "*\n"
     ]
    }
   ],
   "source": [
    "def pattern1(r, c):\n",
    "    if r == 0:\n",
    "        return \n",
    "    \n",
    "    if r > c:\n",
    "        print('*', end = \"\")\n",
    "        pattern1(r, c + 1)\n",
    "    else:\n",
    "        print()\n",
    "        pattern1(r - 1, 0)\n",
    "    \n",
    "\n",
    "        \n",
    "pattern1(4,0)\n",
    "        "
   ]
  },
  {
   "cell_type": "code",
   "execution_count": 20,
   "id": "5f1610ed",
   "metadata": {},
   "outputs": [
    {
     "name": "stdout",
     "output_type": "stream",
     "text": [
      "\n",
      "*\n",
      "**\n",
      "***\n",
      "****"
     ]
    }
   ],
   "source": [
    "def pattern2(r, c):\n",
    "    \n",
    "    if r <= 0:\n",
    "        return\n",
    "    \n",
    "    if c < r:\n",
    "        pattern2(r, c+1)\n",
    "        print('*', end = \"\")\n",
    "    else:\n",
    "        pattern2(r-1, 0)\n",
    "        print('')\n",
    "\n",
    "pattern2(4,0)"
   ]
  },
  {
   "cell_type": "code",
   "execution_count": 37,
   "id": "f634f16c",
   "metadata": {},
   "outputs": [
    {
     "name": "stdout",
     "output_type": "stream",
     "text": [
      "[1, 2, 2, 3, 5, 8, 8, 10, 200]\n"
     ]
    }
   ],
   "source": [
    "def bubble(arr, i, j):\n",
    "    #i value here start from last index and j is for inner loop\n",
    "    if i <= 0:\n",
    "        return\n",
    "    \n",
    "    if j < i:\n",
    "        if arr[j] > arr[j+1]:\n",
    "            #\n",
    "            [arr[j], arr[j+1]] = [arr[j+1], arr[j]]\n",
    "        bubble(arr, i, j+1)\n",
    "    else:\n",
    "#         one interation over and the large element at the last of the list, now decrease the i and reset j to 0\n",
    "        bubble(arr,i-1, 0)\n",
    "        \n",
    "arr = [1,2,8,2, 10, 200 ,5,8,3]\n",
    "\n",
    "bubble(arr, len(arr)-1, 0)\n",
    "print(arr)"
   ]
  },
  {
   "cell_type": "code",
   "execution_count": 39,
   "id": "7fba972e",
   "metadata": {},
   "outputs": [
    {
     "name": "stdout",
     "output_type": "stream",
     "text": [
      "[1, 2, 2, 3, 5, 8, 8, 10, 200]\n"
     ]
    }
   ],
   "source": [
    "def selection(arr, i, j, max_so_far):\n",
    "    \n",
    "    if i < 0:\n",
    "        return\n",
    "    \n",
    "    if j <= i:\n",
    "        if arr[j] > arr[max_so_far]:\n",
    "            max_so_far = j\n",
    "        return selection(arr, i, j+1, max_so_far)\n",
    "    else:\n",
    "        # one interation over and the large element at the last of the list, now decrease the i and reset j to 0 \n",
    "        # and max_so-far = 0; also here we need to swap becaus we have th max_so_far for the current iteration\n",
    "        [arr[max_so_far], arr[i]] = [arr[i], arr[max_so_far]]\n",
    "        return selection(arr,i-1, 0, 0)\n",
    "        \n",
    "arr = [1,2,8,2, 10, 200 ,5,8,3]\n",
    "\n",
    "selection(arr, len(arr)-1, 0, 0)\n",
    "print(arr)"
   ]
  },
  {
   "cell_type": "code",
   "execution_count": 48,
   "id": "4fc195c4",
   "metadata": {},
   "outputs": [
    {
     "name": "stdout",
     "output_type": "stream",
     "text": [
      "[1, 2, 2, 3, 5, 8, 8, 10, 200]\n"
     ]
    }
   ],
   "source": [
    "def mergeSort(arr):\n",
    "    if len(arr) <= 1:\n",
    "        return arr\n",
    "    \n",
    "    mid = len(arr) // 2\n",
    "    \n",
    "    left = arr[:mid]\n",
    "    right = arr[mid:] #including the mid\n",
    "\n",
    "    mergeSort(left)\n",
    "    mergeSort(right)\n",
    "    \n",
    "    mergeTwoList(arr, left, right)\n",
    "    \n",
    "    \n",
    "def mergeTwoList(arr, left, right):\n",
    "    \n",
    "    i = 0\n",
    "    j = 0\n",
    "    k = 0\n",
    "    \n",
    "    while i < len(left) and j < len(right):\n",
    "        if left[i] < right[j]:\n",
    "            arr[k] = left[i]\n",
    "            i += 1\n",
    "        else:\n",
    "            arr[k] = right[j]\n",
    "            j += 1\n",
    "        k += 1\n",
    "        \n",
    "        \n",
    "    while i < len(left):\n",
    "        arr[k] = left[i]\n",
    "        i += 1\n",
    "        k += 1\n",
    "    \n",
    "    while j < len(right):\n",
    "        arr[k] = right[j]\n",
    "        j += 1\n",
    "        k += 1\n",
    "    \n",
    "mergeSort([1,2,8,2, 10, 200 ,5,8,3])\n",
    "print(arr)"
   ]
  },
  {
   "cell_type": "code",
   "execution_count": 52,
   "id": "f28fa1fd",
   "metadata": {},
   "outputs": [
    {
     "name": "stdout",
     "output_type": "stream",
     "text": [
      "[1, 2]\n",
      "[3, 4]\n"
     ]
    }
   ],
   "source": [
    "arr = [1,2,3,4,5]\n",
    "\n",
    "print(arr[:2])\n",
    "print(arr[2:len(arr) - 1])"
   ]
  },
  {
   "cell_type": "code",
   "execution_count": 88,
   "id": "7e417e25",
   "metadata": {},
   "outputs": [
    {
     "name": "stdout",
     "output_type": "stream",
     "text": [
      "[1, 2, 2, 3, 5, 8, 8, 10, 11, 14, 77, 200]\n"
     ]
    }
   ],
   "source": [
    "def quickSort(arr, si, ei):\n",
    "    if si > ei:\n",
    "        return\n",
    "    \n",
    "    pivot_index = partition(arr, si, ei)\n",
    "    quickSort(arr, si, pivot_index - 1)\n",
    "    quickSort(arr, pivot_index + 1, ei)\n",
    "    \n",
    "\n",
    "def partition(arr, si, ei):\n",
    "    if si > ei:\n",
    "        return \n",
    "    \n",
    "    mid = (si + ei) // 2\n",
    "    #Assume first element is the pivot\n",
    "    pivot = arr[si]\n",
    "    \n",
    "    count_els = 0\n",
    "    \n",
    "    #find pivot index\n",
    "    #find the nums of element that are less than pivot\n",
    "    \n",
    "    for i in range(si, ei + 1):\n",
    "        if arr[i] < pivot:\n",
    "            count_els += 1\n",
    "            \n",
    "    arr[si + count_els], arr[si] = arr[si], arr[si + count_els]\n",
    "    \n",
    "    pivot_index = si + count_els\n",
    "    \n",
    "    i = si\n",
    "    j = ei\n",
    "    \n",
    "    while i < j:\n",
    "        \n",
    "        if arr[i] < pivot:\n",
    "            i += 1\n",
    "            \n",
    "        elif arr[j] >= pivot:\n",
    "            j -= 1\n",
    "            \n",
    "        else:\n",
    "            arr[i], arr[j] = arr[j], arr[i]\n",
    "            i += 1\n",
    "            j -= 1\n",
    "#     print(\"PIVOT\", pivot, \" INDEX \", pivot_index)\n",
    "\n",
    "    return pivot_index\n",
    "            \n",
    "arr = [11, 14, 77, 1,2,8,2, 10, 200 ,5,8,3]\n",
    "quickSort(arr, 0 , len(arr)-1)\n",
    "print(arr)\n",
    "            \n",
    "            "
   ]
  },
  {
   "cell_type": "code",
   "execution_count": null,
   "id": "3e761c4f",
   "metadata": {},
   "outputs": [],
   "source": []
  },
  {
   "cell_type": "code",
   "execution_count": null,
   "id": "4b45abf2",
   "metadata": {},
   "outputs": [],
   "source": []
  }
 ],
 "metadata": {
  "kernelspec": {
   "display_name": "Python 3 (ipykernel)",
   "language": "python",
   "name": "python3"
  },
  "language_info": {
   "codemirror_mode": {
    "name": "ipython",
    "version": 3
   },
   "file_extension": ".py",
   "mimetype": "text/x-python",
   "name": "python",
   "nbconvert_exporter": "python",
   "pygments_lexer": "ipython3",
   "version": "3.10.0"
  }
 },
 "nbformat": 4,
 "nbformat_minor": 5
}
