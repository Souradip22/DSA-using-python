{
 "cells": [
  {
   "cell_type": "markdown",
   "id": "9150f666",
   "metadata": {},
   "source": [
    "### 1002. Find Common Characters\n"
   ]
  },
  {
   "cell_type": "code",
   "execution_count": 4,
   "id": "d1aa306e",
   "metadata": {},
   "outputs": [
    {
     "name": "stdout",
     "output_type": "stream",
     "text": [
      "['l', 'l', 'e']\n"
     ]
    }
   ],
   "source": [
    "def commonChars(words):\n",
    "    check = list(words[0])\n",
    "\n",
    "    for el in words[1:]:\n",
    "\n",
    "        tmp = []\n",
    "\n",
    "        for c in el:\n",
    "            if c in check:\n",
    "                tmp.append(c)\n",
    "                check.remove(c)\n",
    "        check = tmp\n",
    "    return check\n",
    "\n",
    "words = [\"bella\",\"label\",\"roller\"]\n",
    "# Output: [\"e\",\"l\",\"l\"]\n",
    "print(commonChars(words))"
   ]
  },
  {
   "cell_type": "markdown",
   "id": "1e67e584",
   "metadata": {},
   "source": [
    "### Third Max "
   ]
  },
  {
   "cell_type": "code",
   "execution_count": 7,
   "id": "98cda73f",
   "metadata": {},
   "outputs": [
    {
     "name": "stdout",
     "output_type": "stream",
     "text": [
      "3\n"
     ]
    }
   ],
   "source": [
    "def thirdMax(nums):\n",
    "\n",
    "    max1 = float('-inf')\n",
    "    max2 = float('-inf')\n",
    "    max3 = float('-inf')\n",
    "    hashSet = set(nums)\n",
    "\n",
    "    for el in hashSet:\n",
    "\n",
    "        if el > max1:\n",
    "            temp = max2\n",
    "            max2 = max1\n",
    "            max3 = temp\n",
    "            max1 = el\n",
    "        elif el > max2:\n",
    "            temp = max2\n",
    "            max2 = el\n",
    "            max3 = temp\n",
    "\n",
    "        elif el > max3:\n",
    "            max3 = el\n",
    "    return max3 if max3 != float('-inf') else max(nums)\n",
    "\n",
    "print(thirdMax([2,2,3]))"
   ]
  },
  {
   "cell_type": "markdown",
   "id": "cbf7f737",
   "metadata": {},
   "source": [
    "### 448. Find All Numbers Disappeared in an Array\n",
    " "
   ]
  },
  {
   "cell_type": "code",
   "execution_count": 8,
   "id": "7d15ae5c",
   "metadata": {},
   "outputs": [
    {
     "name": "stdout",
     "output_type": "stream",
     "text": [
      "[5, 6]\n"
     ]
    }
   ],
   "source": [
    "def findDisappearedNumbers(nums):\n",
    "\n",
    "    i = 0\n",
    "    while i < len(nums):\n",
    "\n",
    "        correctIndex = nums[i] - 1\n",
    "\n",
    "        if nums[i] != nums[correctIndex]:\n",
    "\n",
    "            nums[i], nums[correctIndex] = nums[correctIndex], nums[i]\n",
    "\n",
    "        else: \n",
    "            i += 1\n",
    "\n",
    "    ans = []\n",
    "    for i in range(len(nums)):\n",
    "        if nums[i] != i + 1:\n",
    "            ans.append(i + 1)\n",
    "    return ans\n",
    "\n",
    "nums = [4,3,2,7,8,2,3,1]\n",
    "# Output: [5,6]\n",
    "print(findDisappearedNumbers(nums))"
   ]
  },
  {
   "cell_type": "markdown",
   "id": "e8eb0531",
   "metadata": {},
   "source": [
    "### 453. Minimum Moves to Equal Array Elements\n"
   ]
  },
  {
   "cell_type": "code",
   "execution_count": 2,
   "id": "f91a4484",
   "metadata": {},
   "outputs": [
    {
     "name": "stdout",
     "output_type": "stream",
     "text": [
      "999999999\n"
     ]
    }
   ],
   "source": [
    "def minMoves(nums):\n",
    "    min_num = min(nums)\n",
    "    moves = 0\n",
    "    for num in nums:\n",
    "        moves += num - min_num\n",
    "    return moves\n",
    "\n",
    "\n",
    "nums = [1,1,1000000000]\n",
    "print(minMoves(nums))"
   ]
  },
  {
   "cell_type": "markdown",
   "id": "9c291a9e",
   "metadata": {},
   "source": [
    "### 455. Assign Cookies"
   ]
  },
  {
   "cell_type": "code",
   "execution_count": 6,
   "id": "19f54833",
   "metadata": {},
   "outputs": [
    {
     "name": "stdout",
     "output_type": "stream",
     "text": [
      "2\n"
     ]
    }
   ],
   "source": [
    "def findContentChildren(g, s):\n",
    "    g.sort()\n",
    "    s.sort()\n",
    "    \n",
    "    i = 0\n",
    "    j = 0\n",
    "    \n",
    "    while i < len(g) and j < len(s):\n",
    "        \n",
    "        if g[i] <= s[j]:\n",
    "            i += 1\n",
    "        j += 1\n",
    "\n",
    "    return i\n",
    "\n",
    "g = [10,9,8,7]\n",
    "s = [5,6,7,8]\n",
    "print(findContentChildren(g, s))\n",
    "        "
   ]
  },
  {
   "cell_type": "markdown",
   "id": "9be79dad",
   "metadata": {},
   "source": [
    "### 697. Degree of an Array\n"
   ]
  },
  {
   "cell_type": "code",
   "execution_count": 7,
   "id": "1f7c36ad",
   "metadata": {},
   "outputs": [
    {
     "name": "stdout",
     "output_type": "stream",
     "text": [
      "6\n"
     ]
    }
   ],
   "source": [
    "def findShortestSubArray(nums):\n",
    "\n",
    "    max_freq = 0\n",
    "    hashMap = {}\n",
    "    deg = 0\n",
    "    for i in range(len(nums)):\n",
    "        if nums[i] in hashMap:\n",
    "            hashMap[nums[i]].append(i)\n",
    "            deg = max(deg, len(hashMap[nums[i]]))\n",
    "        else:\n",
    "            hashMap[nums[i]] = [i]\n",
    "    res = float('inf')\n",
    "    prevLen = 0\n",
    "    for item in hashMap:\n",
    "        currLen = len(hashMap[item])\n",
    "\n",
    "        if deg == currLen:\n",
    "            first = hashMap[item][0]\n",
    "            last = hashMap[item][-1]\n",
    "            res = min(res, last - first + 1)\n",
    "    return res if res != float('inf') else 1\n",
    "\n",
    "nums = [1,2,2,3,1,4,2]\n",
    "# Output: 6\n",
    "print(findShortestSubArray(nums))\n",
    "\n",
    "def findShortestSubArray(nums):\n",
    "\n",
    "    max_freq = 0\n",
    "    hashMap = {}\n",
    "    deg = 0\n",
    "    for i in range(len(nums)):\n",
    "        if nums[i] in hashMap:\n",
    "            hashMap[nums[i]].append(i)\n",
    "            deg = max(deg, len(hashMap[nums[i]]))\n",
    "        else:\n",
    "            hashMap[nums[i]] = [i]\n",
    "    res = float('inf')\n",
    "    prevLen = 0\n",
    "    for item in hashMap:\n",
    "        currLen = len(hashMap[item])\n",
    "\n",
    "        if deg == currLen:\n",
    "            first = hashMap[item][0]\n",
    "            last = hashMap[item][-1]\n",
    "            res = min(res, last - first + 1)\n",
    "    return res if res != float('inf') else 1"
   ]
  },
  {
   "cell_type": "markdown",
   "id": "d33386ce",
   "metadata": {},
   "source": [
    "### Plus One"
   ]
  },
  {
   "cell_type": "code",
   "execution_count": 8,
   "id": "f768644c",
   "metadata": {},
   "outputs": [
    {
     "name": "stdout",
     "output_type": "stream",
     "text": [
      "[1, 2, 4]\n"
     ]
    }
   ],
   "source": [
    "def plusOne(digits):\n",
    "    v = ''\n",
    "\n",
    "    for d in digits:\n",
    "        v += str(d)\n",
    "\n",
    "    return list(int(item) for item in str(int(v)+1))\n",
    "\n",
    "digits = [1,2,3]\n",
    "# Output: [1,2,4]\n",
    "\n",
    "print(plusOne(digits))"
   ]
  },
  {
   "cell_type": "markdown",
   "id": "761bfae8",
   "metadata": {},
   "source": [
    "### 136. Single Number"
   ]
  },
  {
   "cell_type": "code",
   "execution_count": 9,
   "id": "5dd04b71",
   "metadata": {},
   "outputs": [
    {
     "name": "stdout",
     "output_type": "stream",
     "text": [
      "4\n"
     ]
    }
   ],
   "source": [
    "def singleNumber(nums):\n",
    "    num = nums[0]\n",
    "    for i in range(1, len(nums)):\n",
    "        num = num ^ nums[i]\n",
    "    return num\n",
    "\n",
    "nums = [4,1,2,1,2]\n",
    "# Output: 4\n",
    "print(singleNumber(nums))"
   ]
  },
  {
   "cell_type": "markdown",
   "id": "85a6d018",
   "metadata": {},
   "source": [
    "### 260. Single Number III\n"
   ]
  },
  {
   "cell_type": "code",
   "execution_count": 6,
   "id": "d6fc55a6",
   "metadata": {},
   "outputs": [
    {
     "name": "stdout",
     "output_type": "stream",
     "text": [
      "[3, 5]\n"
     ]
    }
   ],
   "source": [
    "def singleNumber3(nums):\n",
    "     \n",
    "    # xor of all elements including the unique\n",
    "    xor = 0\n",
    "    for n in nums:\n",
    "        xor ^= n\n",
    "        \n",
    "    #look for first set bit \n",
    "    index = 0\n",
    "    while xor:\n",
    "        \n",
    "        if xor & 1:\n",
    "            break\n",
    "        index += 1\n",
    "        xor = xor >> 1\n",
    "    \n",
    "    el1 = 0\n",
    "    el2 = 0\n",
    "    # categorise the answer based on index where first set differ...this will help to categorise the elements in \n",
    "    # two halves...The duplicates will cancel out in each halves and only remaining with the unique els.\n",
    "    for n in nums:\n",
    "        \n",
    "        if n & (1 << index):\n",
    "            el1 ^= n\n",
    "        else:\n",
    "            el2 ^= n\n",
    "            \n",
    "    return [el1, el2]\n",
    "        \n",
    "\n",
    "\n",
    "\n",
    "nums = [1,2,1,3,2,5]\n",
    "# Output: [3,5]\n",
    "print(singleNumber3(nums))\n",
    "    "
   ]
  },
  {
   "cell_type": "markdown",
   "id": "9af2cd95",
   "metadata": {},
   "source": [
    "### 605. Can Place Flowers"
   ]
  },
  {
   "cell_type": "code",
   "execution_count": 21,
   "id": "3c5b9c6b",
   "metadata": {},
   "outputs": [
    {
     "name": "stdout",
     "output_type": "stream",
     "text": [
      "False\n"
     ]
    }
   ],
   "source": [
    "def canPlaceFlowers(bed, n):\n",
    "    \n",
    "    prev = None\n",
    "    for curr in range(len(bed)):\n",
    "        \n",
    "        if bed[curr] == 0:\n",
    "            \n",
    "            if (prev == None or bed[prev] == 0) and (curr + 1 == len(bed) or bed[curr + 1] == 0):\n",
    "                n -= 1\n",
    "                bed[curr] = 1\n",
    "        prev = curr\n",
    "\n",
    "    return n <= 0\n",
    "        \n",
    "\n",
    "\n",
    "bed = [1,0,0,0,1]\n",
    "n = 1\n",
    "\n",
    "bed = [0,0,1]\n",
    "n = 1\n",
    "\n",
    "bed = [1,0,0,0,1]\n",
    "n = 2\n",
    "\n",
    "# Output: true\n",
    "print(canPlaceFlowers(bed, n))"
   ]
  },
  {
   "cell_type": "markdown",
   "id": "fbc68c7b",
   "metadata": {},
   "source": [
    "### 37. Single Number II\n"
   ]
  },
  {
   "cell_type": "code",
   "execution_count": 65,
   "id": "701e2877",
   "metadata": {},
   "outputs": [
    {
     "name": "stdout",
     "output_type": "stream",
     "text": [
      "-4\n",
      "3\n"
     ]
    }
   ],
   "source": [
    "# def singleNumber2(nums):\n",
    "#     ans = 0  \n",
    "#     powerValue = 1\n",
    "#     for j in range(0, 32):\n",
    "#         countSetBit = 0\n",
    "#         for n in nums:\n",
    "#             if n & (1 << j):\n",
    "#                 countSetBit += 1\n",
    "#         if countSetBit % 3 == 1:\n",
    "#             ans |= powerValue\n",
    "#         powerValue = powerValue << 1\n",
    "            \n",
    "#     return ans\n",
    "def singleNumber2(nums):\n",
    "    \n",
    "    ans = 0\n",
    "    powerValue = 1\n",
    "    for j in range(0, 32):\n",
    "        \n",
    "        countSetBit = 0\n",
    "        for n in nums:\n",
    "            if n & (1 << j): # to check if jth bit is set\n",
    "                countSetBit += 1\n",
    "                \n",
    "        if countSetBit % 3 == 1: # if countSetBit reminder is 1 after taking modulo, means this extra set bit is coming from the single element present in the array\n",
    "            if j == 31:\n",
    "                ans -= 1 << 31 # To handle the negative cases\n",
    "            else:\n",
    "                ans += powerValue\n",
    "                \n",
    "        powerValue = powerValue << 1\n",
    "        \n",
    "    return ans\n",
    "\n",
    "\n",
    "\n",
    "nums = [2,2,2,3,5,5,5]\n",
    "nums = [0,1,0,1,0,1,99]\n",
    "nums = [-2,-2,1,1,4,1,4,4,-4,-2]\n",
    "# Output:3\n",
    "\n",
    "print(singleNumber2(nums))\n",
    "\n",
    "\n",
    "### Best Approach (No way, I can think off)\n",
    "# while iterating over nums, at any point\n",
    "# ones holds number appearing one time till that\n",
    "# twos holds the numbers that are appearing 2 times\n",
    "# numbers appearing 3 times will not be considered at any point of time\n",
    "def bestSingleNumber2(nums):\n",
    "    \n",
    "    ones = 0\n",
    "    twos = 0\n",
    "    \n",
    "    for n in nums:\n",
    "        ones = (ones ^ n) & ~twos\n",
    "        twos = (twos ^ n) & ~ones\n",
    "    return ones\n",
    "\n",
    "\n",
    "nums = [2,2,2,3,5,5,5]\n",
    "# nums = [0,1,0,1,0,1,99]\n",
    "# nums = [-2,-2,1,1,4,1,4,4,-4,-2]\n",
    "# Output:3\n",
    "\n",
    "print(bestSingleNumber2(nums))"
   ]
  },
  {
   "cell_type": "markdown",
   "id": "056d67ff",
   "metadata": {},
   "source": [
    "### 43. Multiply Strings\n"
   ]
  },
  {
   "cell_type": "code",
   "execution_count": 175,
   "id": "ad341237",
   "metadata": {},
   "outputs": [
    {
     "name": "stdout",
     "output_type": "stream",
     "text": [
      "121932631112635269\n"
     ]
    }
   ],
   "source": [
    "def multiply(num1, num2):\n",
    "    if len(num1) < len(num2):\n",
    "        return multiply(num2, num1)\n",
    "    numMap = {\n",
    "        \"0\" : 0,\n",
    "        \"1\" : 1,\n",
    "        \"2\" : 2,\n",
    "        \"3\" : 3,\n",
    "        \"4\" : 4,\n",
    "        \"5\" : 5,\n",
    "        \"6\" : 6,\n",
    "        \"7\" : 7,\n",
    "        \"8\" : 8,\n",
    "        \"9\" : 9\n",
    "    }\n",
    "\n",
    "    j = len(num2)\n",
    "    ans = 0\n",
    "    c1 = 1\n",
    "    while j:\n",
    "        lprod = 0\n",
    "        c = 1\n",
    "        carry = 0\n",
    "        for i in range(len(num1)-1, -1, -1):\n",
    "            n1 = numMap[num2[j - 1]]\n",
    "            n2 = numMap[num1[i]]\n",
    "            currProd = (n1 * n2) + carry\n",
    "            if i != 0 and currProd > 9:\n",
    "                lprod += ((currProd) % 10) * c\n",
    "                carry = (currProd) // 10\n",
    "            else:\n",
    "                carry = (currProd) // 10\n",
    "                lprod += (currProd * c )\n",
    "                \n",
    "            c *= 10\n",
    "        ans = ans + (lprod* c1)\n",
    "        c1 *= 10\n",
    "        j -= 1\n",
    "    return str(ans)\n",
    "    \n",
    "    \n",
    "num1 = \"25\"\n",
    "num2 = \"25\"\n",
    "\n",
    "num1 = \"123\"\n",
    "num2 = \"456\"\n",
    "\n",
    "num1 = \"212\"\n",
    "num2 = \"0\"\n",
    "\n",
    "num1 = \"123456789\"\n",
    "num2 = \"987654321\"\n",
    "\n",
    "# num1 = \"408\"\n",
    "# num2 = \"5\"\n",
    "# Output: \"56088\"\n",
    "print(multiply(num1, num2))"
   ]
  },
  {
   "cell_type": "markdown",
   "id": "192000d5",
   "metadata": {},
   "source": [
    "### 794. Valid Tic-Tac-Toe State\n"
   ]
  },
  {
   "cell_type": "code",
   "execution_count": 180,
   "id": "1eff2e1f",
   "metadata": {},
   "outputs": [
    {
     "name": "stdout",
     "output_type": "stream",
     "text": [
      "True\n"
     ]
    }
   ],
   "source": [
    "def validTicTacToe(board):\n",
    "    countX = 0\n",
    "\n",
    "    countO = 0\n",
    "\n",
    "    for i in range(3):\n",
    "        for j in range(3):\n",
    "\n",
    "            if board[i][j] == \"O\":\n",
    "                countO += 1\n",
    "            elif board[i][j] == \"X\":\n",
    "                countX += 1\n",
    "\n",
    "\n",
    "    if countO > countX:\n",
    "        return False\n",
    "\n",
    "    if countO + 1 < countX:\n",
    "        return False\n",
    "\n",
    "    if isPlayerWon(board, 'O'):\n",
    "\n",
    "        if isPlayerWon(board, 'X'):\n",
    "            return False # IF player O won then X cannot win\n",
    "        return countO == countX # player 0 can only win if both count is equal\n",
    "\n",
    "    if isPlayerWon(board, 'X') and countX != countO + 1:\n",
    "        return False # when X won the count should be countO + 1 else wrong board\n",
    "\n",
    "    return True\n",
    "\n",
    "\n",
    "def isPlayerWon(board, player):\n",
    "\n",
    "    for i in range(3):\n",
    "        # column wise\n",
    "        if board[i][0] == board[i][1] == board[i][2] == player:\n",
    "            return True\n",
    "        #row wise\n",
    "        if board[0][i] == board[1][i] == board[2][i] == player:\n",
    "            return True\n",
    "    if board[0][0] == board[1][1] == board[2][2] == player or board[2][0] == board[1][1] == board[0][2] == player:\n",
    "        return True\n",
    "\n",
    "    return False\n",
    "\n",
    "board = [\"XXX\",\"   \",\"OOO\"]\n",
    "# o/p = False\n",
    "board = [\"XXX\",\"   \",\"OO \"] #True\n",
    "print(validTicTacToe(board))"
   ]
  },
  {
   "cell_type": "markdown",
   "id": "364618c6",
   "metadata": {},
   "source": [
    "### 474. Ones and Zeroes (OPTIMIZATION NEEDED)\n",
    "\n",
    "    Input: strs = [\"10\",\"0001\",\"111001\",\"1\",\"0\"], m = 5, n = 3\n",
    "    Output: 4\n",
    "    Explanation: The largest subset with at most 5 0's and 3 1's is {\"10\", \"0001\", \"1\", \"0\"}, so the answer is 4.\n",
    "    Other valid but smaller subsets include {\"0001\", \"1\"} and {\"10\", \"1\", \"0\"}.\n",
    "    {\"111001\"} is an invalid subset because it contains 4 1's, greater than the maximum of 3.\n"
   ]
  },
  {
   "cell_type": "code",
   "execution_count": 186,
   "id": "fd67d163",
   "metadata": {},
   "outputs": [
    {
     "name": "stdout",
     "output_type": "stream",
     "text": [
      "2\n"
     ]
    }
   ],
   "source": [
    "def findMaxForm(strs, m, n):\n",
    "    \n",
    "    return _helper(0, strs, m, n)\n",
    "\n",
    "\n",
    "def _helper(i, strs, m, n):\n",
    "    res = 0\n",
    "    if i == len(strs):\n",
    "        return 0\n",
    "    if m == 0 and n == 0:\n",
    "        return 0\n",
    "    \n",
    "    count0 = strs[i].count(\"0\")\n",
    "    count1 = strs[i].count(\"1\")\n",
    "    \n",
    "    noTake = _helper(i + 1, strs, m, n)\n",
    "    take = 0\n",
    "    if count0 <= m and count1 <= n:\n",
    "        take = 1 + _helper(i + 1, strs, m - count0, n - count1)\n",
    "    \n",
    "    res = max(take, noTake)\n",
    "    return res\n",
    "\n",
    "\n",
    "\n",
    "strs = [\"10\",\"0001\",\"111001\",\"1\",\"0\"]\n",
    "m = 5\n",
    "n = 3\n",
    "# Output: 4\n",
    "\n",
    "strs = [\"10\",\"0\",\"1\"]\n",
    "m = 1\n",
    "n = 1\n",
    "# Output: 2\n",
    "\n",
    "\n",
    "print(findMaxForm(strs, m, n))\n"
   ]
  },
  {
   "cell_type": "code",
   "execution_count": null,
   "id": "73c36e4d",
   "metadata": {},
   "outputs": [],
   "source": []
  }
 ],
 "metadata": {
  "kernelspec": {
   "display_name": "Python 3 (ipykernel)",
   "language": "python",
   "name": "python3"
  },
  "language_info": {
   "codemirror_mode": {
    "name": "ipython",
    "version": 3
   },
   "file_extension": ".py",
   "mimetype": "text/x-python",
   "name": "python",
   "nbconvert_exporter": "python",
   "pygments_lexer": "ipython3",
   "version": "3.10.0"
  }
 },
 "nbformat": 4,
 "nbformat_minor": 5
}
