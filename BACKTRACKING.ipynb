{
 "cells": [
  {
   "cell_type": "markdown",
   "id": "c67b1f14",
   "metadata": {},
   "source": [
    "### Number of ways to go from one point to another in maze ( only right and down direction)\n"
   ]
  },
  {
   "cell_type": "code",
   "execution_count": 2,
   "id": "abcc85bd",
   "metadata": {},
   "outputs": [
    {
     "data": {
      "text/plain": [
       "6"
      ]
     },
     "execution_count": 2,
     "metadata": {},
     "output_type": "execute_result"
    }
   ],
   "source": [
    "def numberOfWays(r, c):\n",
    "    if r == 1 or c == 1:\n",
    "        return 1\n",
    "    left = numberOfWays(r - 1, c)\n",
    "    right = numberOfWays(r, c - 1)\n",
    "    return left + right\n",
    "\n",
    "numberOfWays(3, 3)"
   ]
  },
  {
   "cell_type": "code",
   "execution_count": 3,
   "id": "2a0192c2",
   "metadata": {},
   "outputs": [
    {
     "data": {
      "text/plain": [
       "['BBRR', 'BRBR', 'BRRB', 'RBBR', 'RBRB', 'RRBB']"
      ]
     },
     "execution_count": 3,
     "metadata": {},
     "output_type": "execute_result"
    }
   ],
   "source": [
    "def printPath(p, r, c):\n",
    "    ans = []\n",
    "    if r == 1 and c == 1:\n",
    "        ans.append(p)\n",
    "        return ans\n",
    "    if r > 1:\n",
    "        left = printPath(p + 'B', r - 1, c)\n",
    "        ans.extend(left)\n",
    "    if c > 1:\n",
    "        right = printPath(p + 'R', r, c - 1)\n",
    "        ans.extend(right)\n",
    "        \n",
    "    return ans\n",
    "\n",
    "printPath('',3, 3)"
   ]
  },
  {
   "cell_type": "code",
   "execution_count": 4,
   "id": "1430f85a",
   "metadata": {},
   "outputs": [
    {
     "data": {
      "text/plain": [
       "['BBRR',\n",
       " 'BRBR',\n",
       " 'BRRB',\n",
       " 'BRD',\n",
       " 'BDR',\n",
       " 'RBBR',\n",
       " 'RBRB',\n",
       " 'RBD',\n",
       " 'RRBB',\n",
       " 'RDB',\n",
       " 'DBR',\n",
       " 'DRB',\n",
       " 'DD']"
      ]
     },
     "execution_count": 4,
     "metadata": {},
     "output_type": "execute_result"
    }
   ],
   "source": [
    "def printPathDiagonal(p, r, c):\n",
    "    ans = []\n",
    "    if r == 1 and c == 1:\n",
    "        ans.append(p)\n",
    "        return ans\n",
    "    if r > 1:\n",
    "        left = printPathDiagonal(p + 'B', r - 1, c)\n",
    "        ans.extend(left)\n",
    "    if c > 1:\n",
    "        right = printPathDiagonal(p + 'R', r, c - 1)\n",
    "        ans.extend(right)\n",
    "    if r > 1 and c > 1:\n",
    "        diagonal = printPathDiagonal(p + 'D', r - 1, c - 1)\n",
    "        ans.extend(diagonal)\n",
    "        \n",
    "    return ans\n",
    "\n",
    "printPathDiagonal('',3, 3)"
   ]
  },
  {
   "cell_type": "code",
   "execution_count": 5,
   "id": "3f5c649c",
   "metadata": {},
   "outputs": [],
   "source": [
    "def createMaze(r,c):\n",
    "    return [[True for i in range(c)] for j in range(r)]"
   ]
  },
  {
   "cell_type": "code",
   "execution_count": 6,
   "id": "b509e892",
   "metadata": {},
   "outputs": [
    {
     "name": "stdout",
     "output_type": "stream",
     "text": [
      "[[True, True, True], [True, False, True], [True, True, True]]\n"
     ]
    },
    {
     "data": {
      "text/plain": [
       "['BBRR', 'RRBB']"
      ]
     },
     "execution_count": 6,
     "metadata": {},
     "output_type": "execute_result"
    }
   ],
   "source": [
    "maze1 = createMaze(3,3)\n",
    "\n",
    "#obstacles\n",
    "maze1[1][1] = False\n",
    "print(maze1)\n",
    "\n",
    "def printPathWithObs(p, r, c, maze):\n",
    "    ans = []\n",
    "    lr = len(maze) - 1\n",
    "    lc = len(maze[0]) - 1\n",
    "    if r == lr and c == lc:\n",
    "        ans.append(p)\n",
    "        return ans\n",
    "    \n",
    "    if not maze[r][c]:\n",
    "        return []\n",
    "    if r < lr:\n",
    "        left = printPathWithObs(p + 'B', r + 1, c, maze)\n",
    "        ans.extend(left)\n",
    "    if c < lc:\n",
    "        right = printPathWithObs(p + 'R', r, c + 1, maze)\n",
    "        ans.extend(right)\n",
    "        \n",
    "    return ans\n",
    "\n",
    "printPathWithObs('',0, 0, maze1)\n"
   ]
  },
  {
   "cell_type": "code",
   "execution_count": 7,
   "id": "555aadaa",
   "metadata": {},
   "outputs": [
    {
     "data": {
      "text/plain": [
       "True"
      ]
     },
     "execution_count": 7,
     "metadata": {},
     "output_type": "execute_result"
    }
   ],
   "source": [
    "1==1"
   ]
  },
  {
   "cell_type": "code",
   "execution_count": 8,
   "id": "12460adf",
   "metadata": {},
   "outputs": [
    {
     "data": {
      "text/plain": [
       "['RRDD',\n",
       " 'RRDLDR',\n",
       " 'RRDLLDRR',\n",
       " 'RDRD',\n",
       " 'RDDR',\n",
       " 'RDLDRR',\n",
       " 'DRURDD',\n",
       " 'DRRD',\n",
       " 'DRDR',\n",
       " 'DDRUURDD',\n",
       " 'DDRURD',\n",
       " 'DDRR']"
      ]
     },
     "execution_count": 8,
     "metadata": {},
     "output_type": "execute_result"
    }
   ],
   "source": [
    "def pathWithAllDirection(p, r, c, maze):\n",
    "    \n",
    "    lr = len(maze) - 1\n",
    "    lc = len(maze[0]) - 1\n",
    "    \n",
    "    ans = []\n",
    "    if r == lr and c == lc:\n",
    "        ans.append(p) \n",
    "        return ans\n",
    "    \n",
    "    if not maze[r][c]:\n",
    "        return []\n",
    "    \n",
    "    maze[r][c] = False\n",
    "    \n",
    "    if r > 0:\n",
    "        up = pathWithAllDirection(p + 'U', r - 1, c, maze)\n",
    "        ans.extend(up)\n",
    "    \n",
    "    if c < lc:\n",
    "        right = pathWithAllDirection(p + 'R', r, c + 1, maze)\n",
    "        ans.extend(right)\n",
    "    \n",
    "    if r < lr:\n",
    "        down = pathWithAllDirection(p + 'D', r + 1, c, maze)\n",
    "        ans.extend(down)\n",
    "    \n",
    "    if c > 0:\n",
    "        left = pathWithAllDirection(p + 'L', r, c - 1, maze)\n",
    "        ans.extend(left)\n",
    "    \n",
    "    maze[r][c] = True\n",
    "        \n",
    "    \n",
    "    return ans\n",
    "\n",
    "MAZE = createMaze(3,3)\n",
    "pathWithAllDirection('', 0, 0, MAZE)\n",
    "        \n"
   ]
  },
  {
   "cell_type": "code",
   "execution_count": 9,
   "id": "ab8da755",
   "metadata": {},
   "outputs": [
    {
     "name": "stdout",
     "output_type": "stream",
     "text": [
      "RRDD\n",
      "[1, 2, 3]\n",
      "[True, True, 4]\n",
      "[True, True, 5]\n",
      "\n",
      "RRDLDR\n",
      "[1, 2, 3]\n",
      "[True, 5, 4]\n",
      "[True, 6, 7]\n",
      "\n",
      "RRDLLDRR\n",
      "[1, 2, 3]\n",
      "[6, 5, 4]\n",
      "[7, 8, 9]\n",
      "\n",
      "RDRD\n",
      "[1, 2, 0]\n",
      "[0, 3, 4]\n",
      "[0, 0, 5]\n",
      "\n",
      "RDDR\n",
      "[1, 2, 0]\n",
      "[0, 3, 0]\n",
      "[0, 4, 5]\n",
      "\n",
      "RDLDRR\n",
      "[1, 2, 0]\n",
      "[4, 3, 0]\n",
      "[5, 6, 7]\n",
      "\n",
      "DRURDD\n",
      "[1, 4, 5]\n",
      "[2, 3, 6]\n",
      "[0, 0, 7]\n",
      "\n",
      "DRRD\n",
      "[1, 0, 0]\n",
      "[2, 3, 4]\n",
      "[0, 0, 5]\n",
      "\n",
      "DRDR\n",
      "[1, 0, 0]\n",
      "[2, 3, 0]\n",
      "[0, 4, 5]\n",
      "\n",
      "DDRUURDD\n",
      "[1, 6, 7]\n",
      "[2, 5, 8]\n",
      "[3, 4, 9]\n",
      "\n",
      "DDRURD\n",
      "[1, 0, 0]\n",
      "[2, 5, 6]\n",
      "[3, 4, 7]\n",
      "\n",
      "DDRR\n",
      "[1, 0, 0]\n",
      "[2, 0, 0]\n",
      "[3, 4, 5]\n",
      "\n"
     ]
    },
    {
     "data": {
      "text/plain": [
       "['RRDD',\n",
       " 'RRDLDR',\n",
       " 'RRDLLDRR',\n",
       " 'RDRD',\n",
       " 'RDDR',\n",
       " 'RDLDRR',\n",
       " 'DRURDD',\n",
       " 'DRRD',\n",
       " 'DRDR',\n",
       " 'DDRUURDD',\n",
       " 'DDRURD',\n",
       " 'DDRR']"
      ]
     },
     "execution_count": 9,
     "metadata": {},
     "output_type": "execute_result"
    }
   ],
   "source": [
    "def pathWithAllPrintPath(p, r, c, maze, path, step):\n",
    "    \n",
    "    lr = len(maze) - 1\n",
    "    lc = len(maze[0]) - 1\n",
    "    \n",
    "    ans = []\n",
    "    if r == lr and c == lc:\n",
    "        path[r][c] = step\n",
    "        print(p)\n",
    "        for i in path:\n",
    "            print(i)\n",
    "        print()\n",
    "        ans.append(p) \n",
    "        return ans\n",
    "    \n",
    "    if not maze[r][c]:\n",
    "        return []\n",
    "    \n",
    "    maze[r][c] = False\n",
    "    path[r][c] = step\n",
    "    \n",
    "    if r > 0:\n",
    "        up = pathWithAllPrintPath(p + 'U', r - 1, c, maze, path, step + 1)\n",
    "        ans.extend(up)\n",
    "    \n",
    "    if c < lc:\n",
    "        right = pathWithAllPrintPath(p + 'R', r, c + 1, maze, path, step + 1)\n",
    "        ans.extend(right)\n",
    "    \n",
    "    if r < lr:\n",
    "        down = pathWithAllPrintPath(p + 'D', r + 1, c, maze, path, step + 1)\n",
    "        ans.extend(down)\n",
    "    \n",
    "    if c > 0:\n",
    "        left = pathWithAllPrintPath(p + 'L', r, c - 1, maze, path, step + 1)\n",
    "        ans.extend(left)\n",
    "    \n",
    "    maze[r][c] = True\n",
    "    path[r][c] = 0\n",
    "    \n",
    "    return ans\n",
    "\n",
    "MAZE = createMaze(3,3)\n",
    "PATH = createMaze(3, 3)\n",
    "pathWithAllPrintPath('', 0, 0, MAZE, PATH, 1)"
   ]
  },
  {
   "cell_type": "code",
   "execution_count": 10,
   "id": "47d8e3ed",
   "metadata": {},
   "outputs": [],
   "source": [
    "def createBoard(r,c):\n",
    "    return [[False for i in range(c)] for j in range(r)]"
   ]
  },
  {
   "cell_type": "code",
   "execution_count": 11,
   "id": "55991992",
   "metadata": {},
   "outputs": [
    {
     "name": "stdout",
     "output_type": "stream",
     "text": [
      "K K K K K K K K K \n",
      "K K K K K K K K K \n",
      "K K K K K K K K K \n",
      "K K K K K K K K K \n",
      "K K K K K K K K K \n",
      "K K K K K K K K K \n",
      "K K K K K K K K K \n",
      "K K K K K K K K K \n",
      "K K K K K K K K K \n"
     ]
    }
   ],
   "source": [
    "\n",
    "\n",
    "def displayBoard(board):\n",
    "    \n",
    "    for row in board:\n",
    "        for el in row:\n",
    "            if el:\n",
    "                print(\"K\", end = \" \")\n",
    "            else:\n",
    "                print(\"X\", end = \" \")\n",
    "        print()\n",
    "displayBoard(board)"
   ]
  },
  {
   "cell_type": "markdown",
   "id": "5c1a1fae",
   "metadata": {},
   "source": [
    "# NQueens Problem"
   ]
  },
  {
   "cell_type": "code",
   "execution_count": 12,
   "id": "24d8c411",
   "metadata": {},
   "outputs": [
    {
     "name": "stdout",
     "output_type": "stream",
     "text": [
      "X K X X \n",
      "X X X K \n",
      "K X X X \n",
      "X X K X \n",
      "\n",
      "X X K X \n",
      "K X X X \n",
      "X X X K \n",
      "X K X X \n",
      "\n"
     ]
    },
    {
     "data": {
      "text/plain": [
       "2"
      ]
     },
     "execution_count": 12,
     "metadata": {},
     "output_type": "execute_result"
    }
   ],
   "source": [
    "\n",
    "def isSafe(board, row, col):\n",
    "    \n",
    "    # check vertically\n",
    "    for i in range(0, row):\n",
    "        if board[i][col]:\n",
    "            return False\n",
    "    \n",
    "    # check diagonal right ( r--, c++ ) to the top left corner\n",
    "    rightMax = min(row, len(board) - col - 1)\n",
    "    for i in range(1, rightMax+1):\n",
    "        if board[row - i][col + i]:\n",
    "            return False\n",
    "    \n",
    "    \n",
    "    # check diagonal left ( r--, c-- ) to the top left corner\n",
    "    leftMax = min(row, col)\n",
    "    for i in range(1, leftMax+1):\n",
    "        if board[row - i][col - i]:\n",
    "            return False      \n",
    "        \n",
    "    return True\n",
    "\n",
    "\n",
    "\n",
    "\n",
    "# this function will return the total number of ways that all Queen can be placed the board which matching the criteria\n",
    "def NQueens(board, row):\n",
    "    # when row becomes cross the board length we can have a potential answer\n",
    "    if row == len(board):\n",
    "        displayBoard(board)\n",
    "        print()\n",
    "        return 1\n",
    "    \n",
    "    count = 0\n",
    "    \n",
    "    for col in range(0, len(board)):\n",
    "        # for each row we need to see if the cell is safe to put it in the cell\n",
    "        if (isSafe(board, row, col)):\n",
    "            board[row][col] = True #Queen is placed, now call recursion in the next row\n",
    "            count += NQueens(board, row + 1)\n",
    "            board[row][col] = False # Restore the falue\n",
    "            \n",
    "    return count\n",
    "board = createBoard(4, 4)\n",
    "NQueens(board, 0)\n"
   ]
  },
  {
   "cell_type": "markdown",
   "id": "f8d11006",
   "metadata": {},
   "source": [
    "# NKnights problem"
   ]
  },
  {
   "cell_type": "code",
   "execution_count": 13,
   "id": "5b5750f4",
   "metadata": {},
   "outputs": [
    {
     "name": "stdout",
     "output_type": "stream",
     "text": [
      "K K K K \n",
      "X X X X \n",
      "X X X X \n",
      "K K K K \n",
      "\n",
      "K K X K \n",
      "K X X X \n",
      "X X X K \n",
      "K X K K \n",
      "\n",
      "K X K K \n",
      "X X X K \n",
      "K X X X \n",
      "K K X K \n",
      "\n",
      "K X K X \n",
      "X K X K \n",
      "K X K X \n",
      "X K X K \n",
      "\n",
      "K X X K \n",
      "K X X K \n",
      "K X X K \n",
      "K X X K \n",
      "\n",
      "X K X K \n",
      "K X K X \n",
      "X K X K \n",
      "K X K X \n",
      "\n"
     ]
    }
   ],
   "source": [
    "def isValid(board, row, col):\n",
    "    if (row >= 0 and row < len(board)) and (col >= 0 and col < len(board)):\n",
    "        return True\n",
    "    return False\n",
    "\n",
    "def isSafe2(board, row, col):\n",
    "    \n",
    "    if isValid(board, row - 2, col + 1):\n",
    "        if board[row - 2][col + 1]:\n",
    "            return False\n",
    "    \n",
    "    if isValid(board, row - 2, col - 1):\n",
    "        if board[row - 2][col - 1]:\n",
    "            return False\n",
    "        \n",
    "    if isValid(board, row - 1, col + 2):\n",
    "        if board[row - 1][col + 2]:\n",
    "            return False\n",
    "    \n",
    "    if isValid(board, row - 1, col - 2):\n",
    "        if board[row - 1][col - 2]:\n",
    "            return False\n",
    "\n",
    "    return True\n",
    "\n",
    "def NKnights(board, row, col, knightsCount):\n",
    "\n",
    "    if knightsCount == 0:\n",
    "        displayBoard(board)\n",
    "        print()\n",
    "        return\n",
    "    \n",
    "    if row == len(board) - 1 and col == len(board):\n",
    "        return\n",
    "    \n",
    "    if col == len(board):\n",
    "        NKnights(board, row + 1, 0, knightsCount)\n",
    "        return\n",
    "\n",
    "\n",
    "    if (isSafe2(board, row, col)):\n",
    "        board[row][col] = True \n",
    "        NKnights(board, row, col + 1, knightsCount - 1)\n",
    "        board[row][col] = False \n",
    "    \n",
    "    NKnights(board, row, col + 1, knightsCount)\n",
    "    return\n",
    "            \n",
    "   \n",
    "board = createBoard(4, 4)\n",
    "\n",
    "NKnights(board, 0, 0, 8)"
   ]
  },
  {
   "cell_type": "markdown",
   "id": "caadfaf2",
   "metadata": {},
   "source": [
    "# Sudoku Solver"
   ]
  },
  {
   "cell_type": "code",
   "execution_count": 15,
   "id": "497936ae",
   "metadata": {},
   "outputs": [
    {
     "name": "stdout",
     "output_type": "stream",
     "text": [
      "2 5 8 7 3 6 9 4 1 \n",
      "6 1 9 8 2 4 3 5 7 \n",
      "4 3 7 9 1 5 2 6 8 \n",
      "3 9 5 2 7 1 4 8 6 \n",
      "7 6 2 4 9 8 1 3 5 \n",
      "8 4 1 6 5 3 7 2 9 \n",
      "1 8 4 3 6 9 5 7 2 \n",
      "5 7 6 1 4 2 8 9 3 \n",
      "9 2 3 5 8 7 6 1 4 \n"
     ]
    }
   ],
   "source": [
    "import math\n",
    "def isSafeForSudoku(board, row, col, num):\n",
    "    \n",
    "    # check the entire row\n",
    "    for i in range(0, len(board)):\n",
    "        if board[row][i] == num:\n",
    "            return False\n",
    "        \n",
    "    # check the col\n",
    "    for i in range(0, len(board)):\n",
    "        if board[i][col] == num:\n",
    "            return False\n",
    "    \n",
    "    #check 3x3 vox\n",
    "    sqrt = int(math.sqrt(len(board)))\n",
    "    \n",
    "    rowStart = row - (row % sqrt)\n",
    "    rowEnd = rowStart + sqrt - 1\n",
    "    \n",
    "    colStart = col - (col % sqrt)\n",
    "    colEnd = colStart + sqrt - 1\n",
    "    \n",
    "    for i in range(rowStart, rowEnd + 1):\n",
    "        for j in range(colStart, colEnd + 1):\n",
    "            if board[i][j] == num:\n",
    "                return False\n",
    "            \n",
    "    return True #Number can be placed \n",
    "\n",
    "def solve(board):\n",
    "    n = len(board)\n",
    "    row = -1\n",
    "    col = -1\n",
    "    emptyLeft = True\n",
    "    \n",
    "    for i in range(0, n):\n",
    "        for j in range(0, n):\n",
    "            # if empty (0 means empty)\n",
    "            if board[i][j] == 0:\n",
    "                row = i\n",
    "                col = j\n",
    "                emptyLeft = False\n",
    "        # if you find some empty element in the row then break\n",
    "        if emptyLeft == False:\n",
    "            break\n",
    "            \n",
    "    if emptyLeft == True:\n",
    "        return True #Sudoku Solved\n",
    "    \n",
    "    for num in range(1, 10):\n",
    "        if isSafeForSudoku(board, row, col, num):\n",
    "            board[row][col] = num\n",
    "            \n",
    "            if solve(board):\n",
    "                return True\n",
    "            else:\n",
    "                board[row][col] = 0\n",
    "                \n",
    "    return False # Sudoku cannot be solved\n",
    "        \n",
    "'''0 means the cells where no value is assigned'''\n",
    "grid = [[2, 5, 0, 0, 3, 0, 9, 0, 1],\n",
    "        [0, 1, 0, 0, 0, 4, 0, 0, 0],\n",
    "    [4, 0, 7, 0, 0, 0, 2, 0, 8],\n",
    "    [0, 0, 5, 2, 0, 0, 0, 0, 0],\n",
    "    [0, 0, 0, 0, 9, 8, 1, 0, 0],\n",
    "    [0, 4, 0, 0, 0, 3, 0, 0, 0],\n",
    "    [0, 0, 0, 3, 6, 0, 0, 7, 2],\n",
    "    [0, 7, 0, 0, 0, 0, 0, 0, 3],\n",
    "    [9, 0, 3, 0, 0, 0, 6, 0, 4]]\n",
    "\n",
    "def displayGrid(grid):   \n",
    "    for row in grid:\n",
    "        for el in row:\n",
    "            print(el, end = \" \")\n",
    "        print()\n",
    "\n",
    "if (solve(grid)):\n",
    "    displayGrid(grid)\n",
    "else:\n",
    "    print(\"SUDOKU cannot be solved\")\n",
    "\n",
    "# ANSWER\n",
    "# 2 5 8 7 3 6 9 4 1\n",
    "# 6 1 9 8 2 4 3 5 7\n",
    "# 4 3 7 9 1 5 2 6 8\n",
    "# 3 9 5 2 7 1 4 8 6\n",
    "# 7 6 2 4 9 8 1 3 5\n",
    "# 8 4 1 6 5 3 7 2 9\n",
    "# 1 8 4 3 6 9 5 7 2\n",
    "# 5 7 6 1 4 2 8 9 3\n",
    "# 9 2 3 5 8 7 6 1 4\n",
    "    \n",
    "    "
   ]
  },
  {
   "cell_type": "markdown",
   "id": "43b8beb3",
   "metadata": {},
   "source": [
    "# LEETCODE version"
   ]
  },
  {
   "cell_type": "code",
   "execution_count": 16,
   "id": "c5ba9802",
   "metadata": {},
   "outputs": [
    {
     "name": "stdout",
     "output_type": "stream",
     "text": [
      "5 3 4 6 7 8 9 1 2 \n",
      "6 7 2 1 9 5 3 4 8 \n",
      "1 9 8 3 4 2 5 6 7 \n",
      "8 5 9 7 6 1 4 2 3 \n",
      "4 2 6 8 5 3 7 9 1 \n",
      "7 1 3 9 2 4 8 5 6 \n",
      "9 6 1 5 3 7 2 8 4 \n",
      "2 8 7 4 1 9 6 3 5 \n",
      "3 4 5 2 8 6 1 7 9 \n"
     ]
    }
   ],
   "source": [
    "def isSafeForSudoku(board, row, col, num):\n",
    "    # check the entire row\n",
    "    for i in range(0, len(board)):\n",
    "        if board[row][i] == num:\n",
    "            return False\n",
    "        \n",
    "    # check the col\n",
    "    for i in range(0, len(board)):\n",
    "        if board[i][col] == num:\n",
    "            return False\n",
    "    \n",
    "    #check 3x3 vox\n",
    "    sqrt = int(math.sqrt(len(board)))\n",
    "    \n",
    "    rowStart = row - (row % sqrt)\n",
    "    rowEnd = rowStart + sqrt - 1\n",
    "    \n",
    "    colStart = col - (col % sqrt)\n",
    "    colEnd = colStart + sqrt - 1\n",
    "    \n",
    "    for i in range(rowStart, rowEnd + 1):\n",
    "        for j in range(colStart, colEnd + 1):\n",
    "            if board[i][j] == num:\n",
    "                return False\n",
    "            \n",
    "    return True #Number can be placed \n",
    "\n",
    "def solveSudoku(board):\n",
    "    n = len(board)\n",
    "    row = -1\n",
    "    col = -1\n",
    "    emptyLeft = True\n",
    "    \n",
    "    for i in range(0, n):\n",
    "        for j in range(0, n):\n",
    "            # if empty (. means empty)\n",
    "            if board[i][j] == \".\":\n",
    "                row = i\n",
    "                col = j\n",
    "                emptyLeft = False\n",
    "        # if you find some empty element in the row then break\n",
    "        if emptyLeft == False:\n",
    "            break\n",
    "            \n",
    "    if emptyLeft == True:\n",
    "        return True #Sudoku Solved\n",
    "    \n",
    "    for num in range(1, 10):\n",
    "        if isSafeForSudoku(board, row, col, str(num)):\n",
    "            board[row][col] = str(num)\n",
    "            \n",
    "            if solveSudoku(board):\n",
    "                return True\n",
    "            else:\n",
    "                board[row][col] = \".\"\n",
    "                \n",
    "    return False # Sudoku cannot be solved\n",
    "        \n",
    "board = [\n",
    "    [\"5\",\"3\",\".\",\".\",\"7\",\".\",\".\",\".\",\".\"],\n",
    "    [\"6\",\".\",\".\",\"1\",\"9\",\"5\",\".\",\".\",\".\"],\n",
    "    [\".\",\"9\",\"8\",\".\",\".\",\".\",\".\",\"6\",\".\"],\n",
    "    [\"8\",\".\",\".\",\".\",\"6\",\".\",\".\",\".\",\"3\"],\n",
    "    [\"4\",\".\",\".\",\"8\",\".\",\"3\",\".\",\".\",\"1\"],\n",
    "    [\"7\",\".\",\".\",\".\",\"2\",\".\",\".\",\".\",\"6\"],\n",
    "    [\".\",\"6\",\".\",\".\",\".\",\".\",\"2\",\"8\",\".\"],\n",
    "    [\".\",\".\",\".\",\"4\",\"1\",\"9\",\".\",\".\",\"5\"],\n",
    "    [\".\",\".\",\".\",\".\",\"8\",\".\",\".\",\"7\",\"9\"]\n",
    "]\n",
    "\n",
    "\n",
    "def displayGrid(grid):   \n",
    "    for row in grid:\n",
    "        for el in row:\n",
    "            print(el, end = \" \")\n",
    "        print()\n",
    "\n",
    "if (solveSudoku(board)):\n",
    " \n",
    "    displayGrid(board)\n",
    "else:\n",
    "    print(\"SUDOKU cannot be solved\")"
   ]
  },
  {
   "cell_type": "markdown",
   "id": "b0faf9bf",
   "metadata": {},
   "source": [
    "### Leetocode 51 - N - Queens"
   ]
  },
  {
   "cell_type": "code",
   "execution_count": 17,
   "id": "c8eceee6",
   "metadata": {},
   "outputs": [],
   "source": [
    "# https://leetcode.com/problems/n-queens/\n",
    "# Input: n = 4\n",
    "# Output: [[\".Q..\",\"...Q\",\"Q...\",\"..Q.\"],[\"..Q.\",\"Q...\",\"...Q\",\".Q..\"]]\n",
    "# Explanation: There exist two distinct solutions to the 4-queens puzzle as shown above"
   ]
  },
  {
   "cell_type": "code",
   "execution_count": 74,
   "id": "7c730375",
   "metadata": {},
   "outputs": [
    {
     "data": {
      "text/plain": [
       "[]"
      ]
     },
     "execution_count": 74,
     "metadata": {},
     "output_type": "execute_result"
    }
   ],
   "source": [
    "def createBoard(n):\n",
    "    return [[ '.' for i in range(n)] for j in range(n)]\n",
    "\n",
    "def displayBoard(board):\n",
    "    ans = []\n",
    "    for row in board:\n",
    "        temp = ''\n",
    "        for el in row:\n",
    "            temp += el\n",
    "        ans.append(temp)\n",
    "    return ans\n",
    "            \n",
    "\n",
    "def isSafeToPlaceQueen(board, row, col):\n",
    "    # Vertical Traversing\n",
    "    for i in range(0, row):\n",
    "        if board[i][col] == 'Q':\n",
    "            return False\n",
    "        \n",
    "    # Diagonal Left Traversing\n",
    "    leftMax = min(row, col)\n",
    "    for i in range(1, leftMax + 1):\n",
    "        if board[row - i][col - i] == 'Q':\n",
    "            return False\n",
    "    \n",
    "    # Diagonal Right Traversing\n",
    "    rightMax = min(row, len(board) - col - 1)\n",
    "    for i in range(1, rightMax + 1):\n",
    "        if board[row - i][col + i] == 'Q':\n",
    "            return False\n",
    "    \n",
    "    return True\n",
    "    \n",
    "            \n",
    "def _helperNQueens(board, row):\n",
    "    ans = []\n",
    "    if row == len(board):\n",
    "        #found one possible answer\n",
    "        op = displayBoard(board)\n",
    "        ans.append(op)\n",
    "        return ans\n",
    "    \n",
    "    for col in range(0, len(board)):\n",
    "\n",
    "        if (isSafeToPlaceQueen(board, row, col)):\n",
    "            board[row][col] = 'Q'\n",
    "            smallAns = _helperNQueens(board, row + 1)\n",
    "            ans.extend(smallAns)\n",
    "            board[row][col] = '.'\n",
    "            \n",
    "    return ans\n",
    "            \n",
    "def solveNQueens(n):\n",
    "    emptyBoard = createBoard(n)\n",
    "    fillBoard = _helperNQueens(emptyBoard, 0)\n",
    "    return fillBoard\n",
    "    \n",
    "\n",
    "\n",
    "solveNQueens(3)\n",
    "# print(displayBoard(emptyBoard))\n",
    "# print(emptyBoard)"
   ]
  },
  {
   "cell_type": "markdown",
   "id": "6826ddf4",
   "metadata": {},
   "source": [
    "### Leetcode 52 - N - Queens - ii"
   ]
  },
  {
   "cell_type": "code",
   "execution_count": null,
   "id": "c46eea26",
   "metadata": {},
   "outputs": [],
   "source": [
    "# https://leetcode.com/problems/n-queens-ii/\n",
    "# Input: n = 4\n",
    "# Output: 2\n",
    "# Explanation: There are two distinct solutions to the 4-queens puzzle as shown."
   ]
  },
  {
   "cell_type": "code",
   "execution_count": 76,
   "id": "16bc99dc",
   "metadata": {},
   "outputs": [
    {
     "data": {
      "text/plain": [
       "0"
      ]
     },
     "execution_count": 76,
     "metadata": {},
     "output_type": "execute_result"
    }
   ],
   "source": [
    "def totalNQueens(n):\n",
    "    board = [[False for i in range(n)] for j in range(n)]\n",
    "\n",
    "    return _helperTotalNQueens(board, 0)\n",
    "\n",
    "\n",
    "def _helperTotalNQueens(board, row):\n",
    "    \n",
    "    count = 0\n",
    "    if row == len(board):\n",
    "        print(board)\n",
    "        count += 1\n",
    "        return count\n",
    "    \n",
    "    for col in range(0, len(board)):\n",
    "        \n",
    "        if isSafeToPlace(board, row, col):\n",
    "            board[row][col] = True\n",
    "            smallCount = _helperTotalNQueens(board, row + 1)\n",
    "            count += smallCount\n",
    "            board[row][col] = False\n",
    "    return count\n",
    "\n",
    "def isSafeToPlace(board, row, col):\n",
    "    \n",
    "    for i in range(0, row):\n",
    "        if board[i][col]:\n",
    "            return False\n",
    "    \n",
    "    leftDiagMax = min(row, col)\n",
    "    for i in range(1, leftDiagMax + 1):\n",
    "        if board[row - i][col - i]:\n",
    "            return False\n",
    "\n",
    "    rightDiagMax = min(row, len(board) - col - 1)\n",
    "    for i in range(1, rightDiagMax + 1):\n",
    "        if board[row - i][col + i]:\n",
    "            return False\n",
    "    \n",
    "    return True\n",
    "\n",
    "totalNQueens(3)\n",
    "        \n",
    "    "
   ]
  },
  {
   "cell_type": "markdown",
   "id": "7e7891c0",
   "metadata": {},
   "source": [
    "### LC - 39 - Combination Sum"
   ]
  },
  {
   "cell_type": "code",
   "execution_count": 77,
   "id": "186a0f64",
   "metadata": {},
   "outputs": [],
   "source": [
    "# Input: candidates = [2,3,6,7], target = 7\n",
    "# Output: [[2,2,3],[7]]\n",
    "# Explanation:\n",
    "# 2 and 3 are candidates, and 2 + 2 + 3 = 7. Note that 2 can be used multiple times.\n",
    "# 7 is a candidate, and 7 = 7.\n",
    "# These are the only two combinations.\n"
   ]
  },
  {
   "cell_type": "code",
   "execution_count": 7,
   "id": "868aa609",
   "metadata": {},
   "outputs": [
    {
     "data": {
      "text/plain": [
       "[[2, 2, 3], [7]]"
      ]
     },
     "execution_count": 7,
     "metadata": {},
     "output_type": "execute_result"
    }
   ],
   "source": [
    "def combinationSum(candidates, target):\n",
    "    result = []\n",
    "    _helperCombinationSum(0, candidates, target, [], result)\n",
    "    return result\n",
    "\n",
    "def _helperCombinationSum(index, candidates, target, ans, result):\n",
    "\n",
    "    if index == len(candidates):\n",
    "        if target == 0:\n",
    "            result.append(ans.copy())\n",
    "        return \n",
    " \n",
    "    if candidates[index] <= target:\n",
    "        ans.append(candidates[index])\n",
    "        _helperCombinationSum(index, candidates, target - candidates[index], ans, result)\n",
    "\n",
    "        ans.pop()\n",
    "    \n",
    "    _helperCombinationSum(index + 1, candidates, target , ans, result)\n",
    "\n",
    "\n",
    "candidates = [2,3,6,7]\n",
    "target = 7\n",
    "combinationSum(candidates, target)\n",
    "            "
   ]
  },
  {
   "cell_type": "code",
   "execution_count": 14,
   "id": "726fdf8b",
   "metadata": {},
   "outputs": [
    {
     "name": "stdout",
     "output_type": "stream",
     "text": [
      "4 1 [2, 2, 2]\n",
      "4 0 [2, 2, 3]\n",
      "4 3 [2, 2]\n",
      "4 2 [2, 3]\n",
      "4 5 [2]\n",
      "4 1 [3, 3]\n",
      "4 4 [3]\n",
      "4 1 [6]\n",
      "4 0 [7]\n",
      "4 7 []\n"
     ]
    },
    {
     "data": {
      "text/plain": [
       "[[2, 2, 3], [7]]"
      ]
     },
     "execution_count": 14,
     "metadata": {},
     "output_type": "execute_result"
    }
   ],
   "source": [
    "def combinationSum(candidates, target):\n",
    "    return _helperCombinationSum(0, candidates, target, [])\n",
    "\n",
    "\n",
    "def _helperCombinationSum(index, candidates, target, ans):\n",
    "    result = []\n",
    "    if index == len(candidates):\n",
    "        print(index, target, ans)\n",
    "        if target == 0:\n",
    "            result.append(ans.copy())\n",
    "        return result\n",
    " \n",
    "    if candidates[index] <= target:\n",
    "        ans.append(candidates[index])\n",
    "        smallOp = _helperCombinationSum(index, candidates, target - candidates[index], ans)\n",
    "        result.extend(smallOp)\n",
    "        ans.pop()\n",
    "    \n",
    "    smallOp2 = _helperCombinationSum(index + 1, candidates, target , ans)\n",
    "    result.extend(smallOp2)\n",
    "    \n",
    "    return result\n",
    "\n",
    "candidates = [2,3,6,7]\n",
    "target = 7\n",
    "combinationSum(candidates, target)"
   ]
  },
  {
   "cell_type": "code",
   "execution_count": null,
   "id": "0f9087f2",
   "metadata": {},
   "outputs": [],
   "source": []
  }
 ],
 "metadata": {
  "kernelspec": {
   "display_name": "Python 3 (ipykernel)",
   "language": "python",
   "name": "python3"
  },
  "language_info": {
   "codemirror_mode": {
    "name": "ipython",
    "version": 3
   },
   "file_extension": ".py",
   "mimetype": "text/x-python",
   "name": "python",
   "nbconvert_exporter": "python",
   "pygments_lexer": "ipython3",
   "version": "3.10.0"
  }
 },
 "nbformat": 4,
 "nbformat_minor": 5
}
