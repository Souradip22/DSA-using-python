{
 "cells": [
  {
   "cell_type": "markdown",
   "id": "581eb574",
   "metadata": {},
   "source": [
    "Two Sum\n",
    "\n",
    "    Input: nums = [2,7,11,15], target = 9\n",
    "    Output: [0,1]\n",
    "    Explanation: Because nums[0] + nums[1] == 9, we return [0, 1]."
   ]
  },
  {
   "cell_type": "code",
   "execution_count": 1,
   "id": "76f89c39",
   "metadata": {},
   "outputs": [
    {
     "name": "stdout",
     "output_type": "stream",
     "text": [
      "(0, 1)\n"
     ]
    }
   ],
   "source": [
    "def twoSum(nums, target):\n",
    "    hashMap = {}\n",
    "    \n",
    "    for i in range(len(nums)):\n",
    "        \n",
    "        if target - nums[i] in hashMap:\n",
    "            return [hashMap[target - nums[i]], i]\n",
    "        else:\n",
    "            hashMap[nums[i]] = i\n",
    "            \n",
    "    return -1\n",
    "\n",
    "print(twoSum([2,7,11,15], 9))"
   ]
  },
  {
   "cell_type": "markdown",
   "id": "4213393d",
   "metadata": {},
   "source": [
    "Two Sum II - Input Array Is Sorted\n",
    "\n",
    "    Input: numbers = [2,7,11,15], target = 9\n",
    "    Output: [1,2]\n",
    "    Explanation: The sum of 2 and 7 is 9. Therefore, index1 = 1, index2 = 2. We return [1, 2]."
   ]
  },
  {
   "cell_type": "code",
   "execution_count": 2,
   "id": "338883d2",
   "metadata": {},
   "outputs": [
    {
     "name": "stdout",
     "output_type": "stream",
     "text": [
      "[1, 2]\n"
     ]
    }
   ],
   "source": [
    "def twoSum2(nums, target):\n",
    "    \n",
    "    l = 0\n",
    "    r = len(nums) - 1\n",
    "    \n",
    "    while l < r:\n",
    "        \n",
    "        lsum = nums[l] + nums[r]\n",
    "        \n",
    "        if lsum == target:\n",
    "            return [l + 1, r + 1]\n",
    "        \n",
    "        if lsum < target:\n",
    "            l += 1\n",
    "        else:\n",
    "            r -= 1\n",
    "    return [-1, -1]\n",
    "\n",
    "#only constant extra space.\n",
    "numbers = [2,7,11,15]\n",
    "target = 9\n",
    "print(twoSum2(numbers, target))\n"
   ]
  },
  {
   "cell_type": "markdown",
   "id": "0609474c",
   "metadata": {},
   "source": [
    "Merge Sorted Array\n",
    "\n",
    "    Input: nums1 = [1,2,3,0,0,0], m = 3, nums2 = [2,5,6], n = 3\n",
    "    Output: [1,2,2,3,5,6]\n",
    "    Explanation: The arrays we are merging are [1,2,3] and [2,5,6].\n",
    "    The result of the merge is [1,2,2,3,5,6] with the underlined elements coming from nums1.\n",
    "    \n",
    "    "
   ]
  },
  {
   "cell_type": "code",
   "execution_count": 22,
   "id": "51d77c67",
   "metadata": {},
   "outputs": [
    {
     "name": "stdout",
     "output_type": "stream",
     "text": [
      "[1]\n"
     ]
    }
   ],
   "source": [
    "def merge(nums1, m, nums2, n):\n",
    "    \n",
    "    i = m - 1\n",
    "    j = n - 1\n",
    "    k = m + n - 1\n",
    "    \n",
    "    while i >= 0 and j >= 0:\n",
    "        if nums1[i] < nums2[j]:\n",
    "            nums1[k] = nums2[j]\n",
    "            j -= 1\n",
    "        else:\n",
    "            nums1[k] = nums1[i]\n",
    "            i -= 1\n",
    "        k -= 1  \n",
    "    while i >= 0:\n",
    "        nums1[k] = nums1[i]\n",
    "        i -= 1\n",
    "        k -= 1\n",
    "    \n",
    "    while j >= 0:\n",
    "        nums1[k] = nums2[j]\n",
    "        j -= 1\n",
    "        k -= 1\n",
    "    \n",
    "             \n",
    "    \n",
    "\n",
    "nums1 = [1,2,3,0,0,0]\n",
    "m = 3\n",
    "nums2 = [2,5,6]\n",
    "n = 3\n",
    "\n",
    "nums1 = [0]\n",
    "m = 0\n",
    "nums2 = [1]\n",
    "n = 1\n",
    "\n",
    "# nums1 = [4,5,6,0,0,0]\n",
    "# nums2 = [1,2,3]\n",
    "# m = 3\n",
    "# n = 3\n",
    "merge(nums1, m, nums2, n)\n",
    "print(nums1)"
   ]
  },
  {
   "cell_type": "markdown",
   "id": "61b0ff84",
   "metadata": {},
   "source": [
    "Pascal's Triangle II\n",
    "\n",
    "    Input: rowIndex = 3\n",
    "    Output: [1,3,3,1]"
   ]
  },
  {
   "cell_type": "code",
   "execution_count": 37,
   "id": "b7414b60",
   "metadata": {},
   "outputs": [
    {
     "name": "stdout",
     "output_type": "stream",
     "text": [
      "[[1], 0, 0, 0]\n",
      "[1, 3, 3, 1]\n"
     ]
    }
   ],
   "source": [
    "def pascalTriangle(rowIndex):\n",
    "    \n",
    "    res = [0] * (rowIndex + 1)\n",
    "    res[0] = [1]\n",
    "    \n",
    "    print(res)\n",
    "    \n",
    "    for i in range(1, rowIndex + 1):\n",
    "        \n",
    "        inner = [0] * (i + 1)\n",
    "        inner[0] = inner[-1] = 1\n",
    "        \n",
    "        for j in range(0, i ):\n",
    "            if j > 0:\n",
    "                inner[j] = res[i - 1][j - 1] + res[i - 1][j]\n",
    "            \n",
    "        res[i] = inner\n",
    "    \n",
    "    return res[rowIndex]\n",
    "    \n",
    "    \n",
    "print(pascalTriangle(3))"
   ]
  },
  {
   "cell_type": "markdown",
   "id": "de168fc9",
   "metadata": {},
   "source": [
    "121. Best Time to Buy and Sell Stock\n",
    "\n",
    "    Input: prices = [7,1,5,3,6,4]\n",
    "    Output: 5\n",
    "    Explanation: Buy on day 2 (price = 1) and sell on day 5 (price = 6), profit = 6-1 = 5.\n",
    "    Note that buying on day 2 and selling on day 1 is not allowed because you must buy before you sell."
   ]
  },
  {
   "cell_type": "code",
   "execution_count": 3,
   "id": "b3d55bc0",
   "metadata": {},
   "outputs": [
    {
     "name": "stdout",
     "output_type": "stream",
     "text": [
      "5\n"
     ]
    }
   ],
   "source": [
    "def maxProfit(prices):\n",
    "\n",
    "    minPrice = float('inf')\n",
    "    maxProfit = float('-inf')\n",
    "\n",
    "    for i in range(len(prices)):\n",
    "\n",
    "        minPrice = min(minPrice, prices[i])\n",
    "        maxProfit = max(maxProfit, prices[i] - minPrice)\n",
    "\n",
    "    return 0 if maxProfit == float('inf') else maxProfit  \n",
    "\n",
    "print(maxProfit([7,1,5,3,6,4]))"
   ]
  },
  {
   "cell_type": "markdown",
   "id": "25676e42",
   "metadata": {},
   "source": [
    "Best Time to Buy and Sell Stock II\n",
    "\n",
    "    Input: prices = [7,1,5,3,6,4]\n",
    "    Output: 7\n",
    "    Explanation: Buy on day 2 (price = 1) and sell on day 3 (price = 5), profit = 5-1 = 4.\n",
    "    Then buy on day 4 (price = 3) and sell on day 5 (price = 6), profit = 6-3 = 3.\n",
    "    Total profit is 4 + 3 = 7."
   ]
  },
  {
   "cell_type": "code",
   "execution_count": 4,
   "id": "fd8145ae",
   "metadata": {},
   "outputs": [
    {
     "name": "stdout",
     "output_type": "stream",
     "text": [
      "7\n"
     ]
    }
   ],
   "source": [
    "def maxProfit2(prices):\n",
    "    profit = 0\n",
    "\n",
    "    for i in range(1, len(prices)):\n",
    "        if prices[i] > prices[i - 1]:\n",
    "            profit += (prices[i] - prices[i - 1])\n",
    "    return profit\n",
    "\n",
    "print(maxProfit2([7,1,5,3,6,4]))"
   ]
  },
  {
   "cell_type": "markdown",
   "id": "27cb9f3f",
   "metadata": {},
   "source": [
    "Majority Element\n",
    "\n",
    "        Input: nums = [2,2,1,1,1,2,2]\n",
    "        Output: 2"
   ]
  },
  {
   "cell_type": "code",
   "execution_count": 8,
   "id": "3b812b15",
   "metadata": {},
   "outputs": [
    {
     "name": "stdout",
     "output_type": "stream",
     "text": [
      "2\n"
     ]
    }
   ],
   "source": [
    "def majorityElement(nums):\n",
    "    \n",
    "    count = 1\n",
    "    candidate = nums[0]\n",
    "    \n",
    "    for i in range(1, len(nums)):\n",
    "        \n",
    "        if count == 0:\n",
    "            candidate = nums[i]\n",
    "            \n",
    "        if nums[i] == candidate:\n",
    "            count += 1\n",
    "        else:\n",
    "            count -= 1\n",
    "        \n",
    "    return candidate\n",
    "\n",
    "print(majorityElement([2,2,1,1,1,2,2]))"
   ]
  },
  {
   "cell_type": "markdown",
   "id": "6a372ce5",
   "metadata": {},
   "source": [
    "Majority Element II\n",
    "\n",
    "\n",
    "    Given an integer array of size n, find all elements that appear more than ⌊ n/3 ⌋ times."
   ]
  },
  {
   "cell_type": "code",
   "execution_count": 12,
   "id": "cb1748f6",
   "metadata": {},
   "outputs": [
    {
     "name": "stdout",
     "output_type": "stream",
     "text": [
      "[1]\n",
      "[1]\n"
     ]
    }
   ],
   "source": [
    "def majorityElement2(nums):\n",
    "\n",
    "    # first job is to find potential candidate\n",
    "    count1 = 0\n",
    "    count2 = 0\n",
    "\n",
    "    candidate1 = 0\n",
    "    candidate2 = 0\n",
    "\n",
    "    for i in range(len(nums)):\n",
    "\n",
    "        if count1 == 0 and nums[i] != candidate2:\n",
    "            candidate1 = nums[i]\n",
    "        elif count2 == 0 and nums[i] != candidate1:\n",
    "            candidate2 = nums[i]\n",
    "\n",
    "        if candidate1 == nums[i]:\n",
    "            count1 += 1\n",
    "        elif candidate2 == nums[i]:\n",
    "            count2 += 1\n",
    "        else:\n",
    "            count1 -= 1\n",
    "            count2 -= 1\n",
    "\n",
    "\n",
    "    c1 = c2 = 0\n",
    "    ans = set()\n",
    "    # now we should loop again to see if the selected elements really are majority element or not\n",
    "    # meaning they appear N//3 times or not.\n",
    "    for i in range(len(nums)):\n",
    "        if nums[i] == candidate1:\n",
    "            c1 += 1\n",
    "        if nums[i] == candidate2:\n",
    "            c2 += 1\n",
    "\n",
    "    if c1 > len(nums) // 3:\n",
    "        ans.add(candidate1)\n",
    "\n",
    "    if c2 > len(nums) // 3:\n",
    "        ans.add(candidate2)\n",
    "\n",
    "    return list(ans)\n",
    "\n",
    "print(majorityElement2([4,2,1,1]))\n",
    "print(majorityElement2([2,1,1,3,1,4,5,6]))"
   ]
  },
  {
   "cell_type": "markdown",
   "id": "ce8b6637",
   "metadata": {},
   "source": [
    "Missing Ranges\n",
    "\n",
    "    Input:\n",
    "    nums = [0, 1, 3, 50, 75], lower = 0 and upper = 99\n",
    "    Output:\n",
    "    [\"2\", \"4->49\", \"51->74\", \"76->99\"]\n",
    "    Explanation:\n",
    "    in range[0,99],the missing range includes:range[2,2],range[4,49],range[51,74] and range[76,99]"
   ]
  },
  {
   "cell_type": "code",
   "execution_count": 14,
   "id": "f40c565b",
   "metadata": {},
   "outputs": [
    {
     "name": "stdout",
     "output_type": "stream",
     "text": [
      "['2', '4->49', '51->74', '76->99']\n"
     ]
    }
   ],
   "source": [
    "def find_missing_ranges(nums, lower, upper):\n",
    "\n",
    "    if len(nums) < 1:\n",
    "        if lower == upper:\n",
    "            return [str(lower)]\n",
    "        else:\n",
    "            return [str(lower) + '->' + str(upper)]\n",
    "\n",
    "    ans = []\n",
    "    if nums[0] > lower:\n",
    "        if nums[0] - 1 == lower:\n",
    "            ans.append(str(lower))\n",
    "        else:\n",
    "            ans.append(str(lower) + '->' + str(nums[0] - 1)  )\n",
    "\n",
    "    for i in range(0, len(nums) - 1):\n",
    "        if nums[i + 1] - nums[i] > 1:\n",
    "            start = nums[i] + 1\n",
    "            end = nums[i + 1] - 1\n",
    "            if start == end:\n",
    "                ans.append(str(start))\n",
    "            else:\n",
    "                ans.append(str(start) + \"->\" + str(end))\n",
    "\n",
    "\n",
    "    if nums[- 1] < upper:\n",
    "        if nums[-1] + 1 == upper:\n",
    "            ans.append(str(upper))\n",
    "        else:\n",
    "            ans.append(str(nums[-1] + 1) + '->' + str(upper))\n",
    "\n",
    "    return ans\n",
    "nums = [0, 1, 3, 50, 75]\n",
    "lower = 0\n",
    "upper = 99\n",
    "print(find_missing_ranges(nums, lower, upper))"
   ]
  },
  {
   "cell_type": "markdown",
   "id": "b447bcc6",
   "metadata": {},
   "source": [
    "3 SUM\n",
    "\n",
    "    Input: nums = [-1,0,1,2,-1,-4]\n",
    "    Output: [[-1,-1,2],[-1,0,1]]\n",
    "    Explanation: \n",
    "    nums[0] + nums[1] + nums[2] = (-1) + 0 + 1 = 0.\n",
    "    nums[1] + nums[2] + nums[4] = 0 + 1 + (-1) = 0.\n",
    "    nums[0] + nums[3] + nums[4] = (-1) + 2 + (-1) = 0.\n",
    "    The distinct triplets are [-1,0,1] and [-1,-1,2].\n",
    "    Notice that the order of the output and the order of the triplets does not matter."
   ]
  },
  {
   "cell_type": "code",
   "execution_count": 31,
   "id": "233268ec",
   "metadata": {},
   "outputs": [
    {
     "name": "stdout",
     "output_type": "stream",
     "text": [
      "1 2 5\n",
      "1 3 4\n",
      "2 3 4\n",
      "[(-1, -1, 2), (-1, 0, 1)]\n"
     ]
    }
   ],
   "source": [
    "def threeSum(nums):\n",
    "    nums.sort()\n",
    "    N = len(nums)\n",
    "\n",
    "    hashMap = {}\n",
    "    # for i in range(N):\n",
    "    #     hashMap[nums[i]] = i\n",
    "    # print(hashMap)\n",
    "    res = set()\n",
    "\n",
    "    for i in range(N - 2):\n",
    "        # if i > 0 and nums[i] == nums[i - 1]:\n",
    "        #     continue\n",
    "        for j in range(i + 1 , N - 1):\n",
    "            # if j > i and nums[j] == nums[j - 1]:\n",
    "            #     continue\n",
    "            for k in range(j + 1 , N):\n",
    "                # if k > j and nums[k] == nums[k - 1]:\n",
    "                #     continue\n",
    "                if nums[i] + nums[j] + nums[k] == 0  and not (i == j == k):\n",
    "#                     print([nums[i] , nums[j] , nums[k]], i, j, k)\n",
    "                    res.add(tuple([nums[i] , nums[j] , nums[k]]))\n",
    "\n",
    "\n",
    "                # print(nums[i], nums[j])\n",
    "\n",
    "                # if (- (nums[i] + nums[j])) in hashMap:\n",
    "                #     res.add([hashMap[- (nums[i] + nums[j])], nums[i], nums[j]])\n",
    "\n",
    "\n",
    "    return sorted(list(res))\n",
    "\n",
    "\n",
    "def threeSum2(nums):\n",
    "    nums.sort()\n",
    "    N = len(nums)\n",
    "    res = set()\n",
    "\n",
    "    for i in range(N - 2):\n",
    "        left = i + 1\n",
    "        right = N - 1\n",
    "        while left < right:\n",
    "            lsum = nums[i] + nums[left] + nums[right]\n",
    "            if lsum == 0:\n",
    "                res.add( tuple([nums[i] , nums[left] , nums[right]]) )\n",
    "                left += 1\n",
    "                right -= 1\n",
    "            elif lsum > 0:\n",
    "                right -= 1\n",
    "            else:\n",
    "                left += 1\n",
    "\n",
    "    return sorted(list(res))\n",
    "\n",
    "nums = [-1,0,1,2,-1,-4]\n",
    "# nums = [1,2,-2,-1]\n",
    "# print(threeSum(nums))\n",
    "print(threeSum2(nums))"
   ]
  },
  {
   "cell_type": "markdown",
   "id": "6601caef",
   "metadata": {},
   "source": [
    "3Sum Smaller\n",
    "\n",
    "    Input:  nums = [-2,0,1,3], target = 2\n",
    "    Output: 2\n",
    "    Explanation:\n",
    "    Because there are two triplets which sums are less than 2:\n",
    "    [-2, 0, 1]\n",
    "    [-2, 0, 3]"
   ]
  },
  {
   "cell_type": "code",
   "execution_count": 81,
   "id": "a1e14671",
   "metadata": {},
   "outputs": [
    {
     "name": "stdout",
     "output_type": "stream",
     "text": [
      "0 0 1 3\n",
      "2 0 2 3\n",
      "3\n"
     ]
    }
   ],
   "source": [
    "def threeSumSmaller(nums, target):\n",
    "    #sort\n",
    "    nums.sort()\n",
    "    N = len(nums)\n",
    "    res = set()\n",
    "    ans = 0\n",
    "\n",
    "    for i in range(N - 2):\n",
    "        left = i + 1\n",
    "        right = N - 1\n",
    "        \n",
    "        while left < right:\n",
    "            lsum = nums[i] + nums[left] + nums[right]\n",
    "            if lsum < target:\n",
    "                print(ans, i, left, right)\n",
    "                ans += right - left # as we need the count\n",
    "                left += 1\n",
    "            else:\n",
    "                right -= 1\n",
    "    \n",
    "    return ans\n",
    "\n",
    "# nums = [-2,0,1,3]\n",
    "# target = 2\n",
    "\n",
    "nums = [-2,0,-1,3]\n",
    "target = 2 \n",
    "#Output: 3 Because there are three triplets which sums are less than 2:\n",
    "# [-2, 0, -1]\n",
    "# [-2, 0, 3]\n",
    "# [-2, -1, 3]\n",
    "print(threeSumSmaller(nums, target))"
   ]
  },
  {
   "cell_type": "markdown",
   "id": "c0ee23e5",
   "metadata": {},
   "source": [
    "3Sum Closest\n",
    "\n",
    "\n",
    "    Input: nums = [-1,2,1,-4], target = 1\n",
    "    Output: 2\n",
    "    Explanation: The sum that is closest to the target is 2. (-1 + 2 + 1 = 2)"
   ]
  },
  {
   "cell_type": "code",
   "execution_count": 91,
   "id": "b87d94b1",
   "metadata": {},
   "outputs": [
    {
     "name": "stdout",
     "output_type": "stream",
     "text": [
      "0\n"
     ]
    }
   ],
   "source": [
    "\n",
    "def threeSumClosest(nums, target):\n",
    "    \n",
    "    nums.sort()\n",
    "    N = len(nums)\n",
    "    res = set()\n",
    "    ans = 0\n",
    "    minDiff = float('inf')\n",
    "\n",
    "    for i in range(N - 2):\n",
    "        left = i + 1\n",
    "        right = N - 1\n",
    "        \n",
    "        while left < right:\n",
    "            lsum = nums[i] + nums[left] + nums[right]\n",
    "            difference = lsum - target\n",
    "            if abs(difference) < minDiff:\n",
    "                ans = lsum\n",
    "                minDiff = abs(difference)\n",
    "#             print(lsum, nums[i] , nums[left] , nums[right])\n",
    "            if lsum < target:\n",
    "#                 print(ans, i, left, right)\n",
    "#                 ans += right - left # as we need the count\n",
    "                left += 1\n",
    "            else:\n",
    "                right -= 1\n",
    "    \n",
    "    return ans\n",
    "\n",
    "nums = [-1,2,1,-4]\n",
    "target = 1\n",
    "\n",
    "nums = [0,0,0]\n",
    "target = 1\n",
    "print(threeSumClosest(nums, target))\n"
   ]
  },
  {
   "cell_type": "markdown",
   "id": "e511b48c",
   "metadata": {},
   "source": [
    "4Sum\n",
    "\n",
    "    Input: nums = [1,0,-1,0,-2,2], target = 0\n",
    "    Output: [[-2,-1,1,2],[-2,0,0,2],[-1,0,0,1]]"
   ]
  },
  {
   "cell_type": "code",
   "execution_count": 84,
   "id": "06f61a42",
   "metadata": {},
   "outputs": [
    {
     "name": "stdout",
     "output_type": "stream",
     "text": [
      "[(-2, -1, 1, 2), (-2, 0, 0, 2), (-1, 0, 0, 1)]\n"
     ]
    }
   ],
   "source": [
    "def fourSum(nums, target):\n",
    "    \n",
    "    nums.sort()\n",
    "    N = len(nums)\n",
    "    res = set()\n",
    "\n",
    "    for i in range(N - 3):\n",
    "        for j in range(i + 1, N - 2):\n",
    "\n",
    "            left = j + 1\n",
    "            right = N - 1\n",
    "            while left < right:\n",
    "                lsum = nums[i] + nums[j] + nums[left] + nums[right]\n",
    "                if lsum == target:\n",
    "                    res.add( tuple([nums[i] , nums[j], nums[left] , nums[right]]) )\n",
    "                    left += 1\n",
    "                    right -= 1\n",
    "                elif lsum > target:\n",
    "                    right -= 1\n",
    "                else:\n",
    "                    left += 1\n",
    "\n",
    "    return sorted(list(res))\n",
    "\n",
    "nums = [1,0,-1,0,-2,2]\n",
    "target = 0\n",
    "print(fourSum(nums, target))"
   ]
  },
  {
   "cell_type": "markdown",
   "id": "8cb678db",
   "metadata": {},
   "source": [
    " Rotate Image\n",
    "\n",
    "\n",
    "        Input: matrix = [[1,2,3],[4,5,6],[7,8,9]]\n",
    "        Output: [[7,4,1],[8,5,2],[9,6,3]]"
   ]
  },
  {
   "cell_type": "code",
   "execution_count": 92,
   "id": "3babe2b3",
   "metadata": {},
   "outputs": [
    {
     "name": "stdout",
     "output_type": "stream",
     "text": [
      "[[7, 4, 1], [8, 5, 2], [9, 6, 3]]\n"
     ]
    }
   ],
   "source": [
    "def rotate(matrix):\n",
    "    r = len(matrix)\n",
    "    c = len(matrix[0])\n",
    "\n",
    "\n",
    "    for i in range(r):\n",
    "        for j in range(i, c):\n",
    "            if i != j:\n",
    "                matrix[i][j], matrix[j][i] = matrix[j][i], matrix[i][j]\n",
    "\n",
    "    for i in range(r):\n",
    "        reverse(matrix[i], 0, len(matrix[i]) - 1)\n",
    "\n",
    "\n",
    "def reverse(arr, start, end):\n",
    "\n",
    "    while start < end:\n",
    "        arr[start], arr[end] = arr[end], arr[start]\n",
    "        start += 1\n",
    "        end -= 1\n",
    "        \n",
    "matrix = [[1,2,3],[4,5,6],[7,8,9]]\n",
    "rotate(matrix)\n",
    "print(matrix)"
   ]
  },
  {
   "cell_type": "code",
   "execution_count": null,
   "id": "e2eeedfc",
   "metadata": {},
   "outputs": [],
   "source": []
  }
 ],
 "metadata": {
  "kernelspec": {
   "display_name": "Python 3 (ipykernel)",
   "language": "python",
   "name": "python3"
  },
  "language_info": {
   "codemirror_mode": {
    "name": "ipython",
    "version": 3
   },
   "file_extension": ".py",
   "mimetype": "text/x-python",
   "name": "python",
   "nbconvert_exporter": "python",
   "pygments_lexer": "ipython3",
   "version": "3.10.0"
  }
 },
 "nbformat": 4,
 "nbformat_minor": 5
}
