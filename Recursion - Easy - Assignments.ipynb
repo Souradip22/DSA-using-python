{
 "cells": [
  {
   "cell_type": "code",
   "execution_count": 51,
   "id": "75184104",
   "metadata": {},
   "outputs": [
    {
     "name": "stdout",
     "output_type": "stream",
     "text": [
      "[48]\n",
      "[20, 28]\n",
      "[8, 12, 16]\n",
      "[3, 5, 7, 9]\n",
      "[1, 2, 3, 4, 5]\n"
     ]
    }
   ],
   "source": [
    "# Sum triangle from array\n",
    "# Input : A = {1, 2, 3, 4, 5}\n",
    "# Output : [48]\n",
    "#          [20, 28] \n",
    "#          [8, 12, 16] \n",
    "#          [3, 5, 7, 9] \n",
    "#          [1, 2, 3, 4, 5] \n",
    "\n",
    "def sumTriangle(arr):\n",
    "    if len(arr) <= 0:\n",
    "        return\n",
    "    \n",
    "    temp = [0] * (len(arr) - 1)\n",
    "    \n",
    "    for i in range(len(arr) - 1):\n",
    "        temp[i] = arr[i] + arr[i+1]\n",
    " \n",
    "    sumTriangle(temp)\n",
    "    \n",
    "    print(arr)\n",
    "\n",
    "        \n",
    "A = [1,2,3,4,5]\n",
    "\n",
    "sumTriangle(A)\n"
   ]
  },
  {
   "cell_type": "code",
   "execution_count": 55,
   "id": "16b546af",
   "metadata": {},
   "outputs": [
    {
     "name": "stdout",
     "output_type": "stream",
     "text": [
      "-5 8\n"
     ]
    }
   ],
   "source": [
    "# Recursive Programs to find Minimum and Maximum elements of arra\n",
    "# Input: arr = {1, 4, 3, -5, -4, 8, 6};\n",
    "# Output: min = -5, max = 8\n",
    "\n",
    "def findMinMax(arr):\n",
    "    return _helperMinMax(arr, 0, 0)\n",
    "\n",
    "def _helperMinMax(arr, min_so_far, max_so_far):\n",
    "    if len(arr) <= 0:\n",
    "        return min_so_far, max_so_far\n",
    "    num = arr[0]\n",
    "    if num < min_so_far:\n",
    "        min_so_far = num\n",
    "    if num > max_so_far:\n",
    "        max_so_far = num\n",
    "    \n",
    "    return _helperMinMax(arr[1:], min_so_far, max_so_far)\n",
    "\n",
    "B = [1,4,3,-5,-4,8,6]\n",
    "min1, max1 = findMinMax(B)\n",
    "print(min1, max1)\n",
    "        \n",
    "    "
   ]
  },
  {
   "cell_type": "code",
   "execution_count": 83,
   "id": "9cb3561d",
   "metadata": {},
   "outputs": [
    {
     "name": "stdout",
     "output_type": "stream",
     "text": [
      "0\n"
     ]
    }
   ],
   "source": [
    "#Binary Search using recursion\n",
    "\n",
    "def binarySearch(arr,si, ei, target):\n",
    "    \n",
    "    if si > ei:\n",
    "        return -1\n",
    "    \n",
    "    mid = (si + ei) // 2\n",
    "    if arr[mid] == target:\n",
    "        return mid\n",
    "    elif arr[mid] > target:\n",
    "        return binarySearch(arr, si, mid - 1, target)\n",
    "    else:\n",
    "        return binarySearch(arr, mid + 1, ei, target)\n",
    "\n",
    "A = [1,2,3,4,5,6,7]\n",
    "\n",
    "ans = binarySearch(A,0,len(A)-1,1)\n",
    "\n",
    "print(ans)"
   ]
  },
  {
   "cell_type": "code",
   "execution_count": 91,
   "id": "bcd9f33a",
   "metadata": {},
   "outputs": [
    {
     "name": "stdout",
     "output_type": "stream",
     "text": [
      "S\n"
     ]
    }
   ],
   "source": [
    "# First uppercase letter in a string (Iterative and Recursive)\n",
    "# Input  : geekS\n",
    "# Output : S\n",
    "\n",
    "def firstUppercase(string):\n",
    "    if len(string) <= 0:\n",
    "        return -1\n",
    "    \n",
    "    ch = string[0]\n",
    "    \n",
    "    if ord(ch) >= 65 and ord(ch) <= 90:\n",
    "        return ch\n",
    "    \n",
    "    return firstUppercase(string[1:])\n",
    "\n",
    "print(firstUppercase('geekS'))\n"
   ]
  },
  {
   "cell_type": "code",
   "execution_count": 90,
   "id": "e72fbb6a",
   "metadata": {},
   "outputs": [
    {
     "data": {
      "text/plain": [
       "65"
      ]
     },
     "execution_count": 90,
     "metadata": {},
     "output_type": "execute_result"
    }
   ],
   "source": [
    "ord('A')\n",
    "# ord('Z')"
   ]
  },
  {
   "cell_type": "code",
   "execution_count": 93,
   "id": "f13d24aa",
   "metadata": {},
   "outputs": [
    {
     "name": "stdout",
     "output_type": "stream",
     "text": [
      "['o', 'l', 'l', 'e', 'h']\n"
     ]
    }
   ],
   "source": [
    "# Input: s = [\"h\",\"e\",\"l\",\"l\",\"o\"]\n",
    "# Output: [\"o\",\"l\",\"l\",\"e\",\"h\"]\n",
    "def revInPlace(arr, si, ei):\n",
    "    if si > ei:\n",
    "        return \n",
    "    \n",
    "    ch1 = arr[si]\n",
    "    ch2 = arr[ei]\n",
    "    arr[ei] = ch1\n",
    "    arr[si] = ch2\n",
    "    \n",
    "    revInPlace(arr, si+1, ei-1)\n",
    "    \n",
    "s = [\"h\",\"e\",\"l\",\"l\",\"o\"]    \n",
    "revInPlace(s, 0 , len(s)- 1)\n",
    "print(s)\n",
    "    \n",
    "    "
   ]
  },
  {
   "cell_type": "code",
   "execution_count": 96,
   "id": "571b533a",
   "metadata": {},
   "outputs": [
    {
     "name": "stdout",
     "output_type": "stream",
     "text": [
      "4\n",
      "86 77 15\n",
      "86\n",
      "93 35 86\n",
      "126\n",
      "92 49 21\n",
      "92\n",
      "62 27 90\n",
      "62\n"
     ]
    }
   ],
   "source": [
    "# 4\n",
    "# 86 77 15\n",
    "# 93 35 86\n",
    "# 92 49 21\n",
    "# 62 27 90\n",
    "def fibonacci(a, b, n):\n",
    "    if(n == 0):\n",
    "        return(a)\n",
    "    elif(n == 1):\n",
    "        return(b)\n",
    "    elif(n == 2):\n",
    "        return(a ^ b)\n",
    "    return(fibonacci(a, b, n % 3))\n",
    "\n",
    "T = int(input())\n",
    "for i in range(T):\n",
    "    a, b, n = [int(x) for x in input().split()]\n",
    "    print(fibonacci(a, b, n))"
   ]
  },
  {
   "cell_type": "code",
   "execution_count": 100,
   "id": "12fb7655",
   "metadata": {},
   "outputs": [
    {
     "name": "stdout",
     "output_type": "stream",
     "text": [
      "2\n"
     ]
    }
   ],
   "source": [
    "#  length of a string using recursion\n",
    "\n",
    "def strLength(string, count):\n",
    "    if len(string) == 0:\n",
    "        return count\n",
    "    count += 1\n",
    "    return strLength(string[1:], count)\n",
    "\n",
    "print(strLength('as',0))\n",
    "    \n",
    "    "
   ]
  },
  {
   "cell_type": "code",
   "execution_count": 108,
   "id": "dfbc65f5",
   "metadata": {},
   "outputs": [
    {
     "name": "stdout",
     "output_type": "stream",
     "text": [
      "6\n",
      "11\n",
      "19\n"
     ]
    }
   ],
   "source": [
    "# https://practice.geeksforgeeks.org/problems/geek-onacci-number/0/\n",
    "# Input:\n",
    "# 3\n",
    "# 1 3 2 4\n",
    "# 1 3 2 5\n",
    "# 1 3 2 6\n",
    "\n",
    "# Output:\n",
    "# 6\n",
    "# 11\n",
    "# 19\n",
    "def geek(A,B,C,n):\n",
    "    if n == 1 :\n",
    "        return A\n",
    "    if n == 2:\n",
    "        return B\n",
    "    if n == 3:\n",
    "        return C\n",
    "    return geek(A,B,C,n - 1) + geek(A,B,C,n - 2) + geek(A,B,C,n - 3)\n",
    "\n",
    "print(geek(1, 3, 2, 4))\n",
    "print(geek(1, 3, 2, 5))\n",
    "print(geek(1, 3, 2, 6))"
   ]
  },
  {
   "cell_type": "markdown",
   "id": "033626e0",
   "metadata": {},
   "source": [
    "### Recursive Bubble Sort "
   ]
  },
  {
   "cell_type": "code",
   "execution_count": 3,
   "id": "caef9591",
   "metadata": {},
   "outputs": [
    {
     "name": "stdout",
     "output_type": "stream",
     "text": [
      "[1, 2, 2, 3, 5, 8, 8, 10, 200]\n"
     ]
    }
   ],
   "source": [
    "\n",
    "def bubble(arr, i, j):\n",
    "\n",
    "    if i == 0:\n",
    "        return \n",
    "    \n",
    "    if i > j:\n",
    "        if arr[j] > arr[j + 1]:\n",
    "            [arr[j], arr[j+1]] = [arr[j+1], arr[j]]\n",
    "        bubble(arr, i, j + 1)\n",
    "    else:\n",
    "        bubble(arr, i - 1, 0)\n",
    "arr = [1,2,8,2, 10, 200 ,5,8,3]\n",
    "\n",
    "bubble(arr, len(arr)-1, 0)\n",
    "print(arr)"
   ]
  },
  {
   "cell_type": "markdown",
   "id": "7b0f3da9",
   "metadata": {},
   "source": [
    "### Recursive selection Sort"
   ]
  },
  {
   "cell_type": "code",
   "execution_count": 111,
   "id": "ba72ef01",
   "metadata": {},
   "outputs": [
    {
     "name": "stdout",
     "output_type": "stream",
     "text": [
      "[1, 2, 2, 3, 5, 8, 8, 10, 200]\n"
     ]
    }
   ],
   "source": [
    "\n",
    "\n",
    "def selection(arr, i, j, max_so_far):\n",
    "    \n",
    "    if i < 0:\n",
    "        return\n",
    "    \n",
    "    if j <= i:\n",
    "        if arr[j] > arr[max_so_far]:\n",
    "            max_so_far = j\n",
    "        return selection(arr, i, j+1, max_so_far)\n",
    "    else:\n",
    "        # one interation over and the large element at the last of the list, now decrease the i and reset j to 0 \n",
    "        # and max_so-far = 0; also here we need to swap becaus we have th max_so_far for the current iteration\n",
    "        [arr[max_so_far], arr[i]] = [arr[i], arr[max_so_far]]\n",
    "        return selection(arr,i-1, 0, 0)\n",
    "        \n",
    "arr = [1,2,8,2, 10, 200 ,5,8,3]\n",
    "\n",
    "selection(arr, len(arr)-1, 0, 0)\n",
    "print(arr)"
   ]
  },
  {
   "cell_type": "code",
   "execution_count": 114,
   "id": "3b7a98dc",
   "metadata": {},
   "outputs": [
    {
     "name": "stdout",
     "output_type": "stream",
     "text": [
      "15\n"
     ]
    }
   ],
   "source": [
    "# Sum of digit of a number using recursion\n",
    "def digitSum(num):\n",
    "\n",
    "    if num <= 0:\n",
    "        return 0\n",
    "    \n",
    "    return num % 10 + digitSum(num // 10)\n",
    "\n",
    "print(digitSum(12345))"
   ]
  },
  {
   "cell_type": "code",
   "execution_count": 118,
   "id": "572204ea",
   "metadata": {},
   "outputs": [
    {
     "name": "stdout",
     "output_type": "stream",
     "text": [
      "50000\n"
     ]
    }
   ],
   "source": [
    "# Product of 2 Numbers using Recursion\n",
    "# Input : x = 5, y = 2\n",
    "# Output : 10\n",
    "\n",
    "def product(x, y):\n",
    "    \n",
    "    if x < y:\n",
    "        return product(y,x)\n",
    "    \n",
    "    if x == 0 or y == 0:\n",
    "        return 0\n",
    "\n",
    "    return y + product(y,x-1)\n",
    "\n",
    "print(product(100,500))"
   ]
  },
  {
   "cell_type": "code",
   "execution_count": 132,
   "id": "0d823595",
   "metadata": {},
   "outputs": [
    {
     "name": "stdout",
     "output_type": "stream",
     "text": [
      "Yes\n"
     ]
    }
   ],
   "source": [
    "# Recursive program for prime number\n",
    "# Input : n = 11\n",
    "# Output : Yes\n",
    "\n",
    "# Input : n = 15\n",
    "# Output : No\n",
    "\n",
    "def isPrime(n, i):\n",
    "    if i == n:\n",
    "        return 'Yes'\n",
    "    \n",
    "    if n % i == 0:\n",
    "        return 'No'\n",
    "    \n",
    "    return isPrime(n, i+1)\n",
    "\n",
    "print(isPrime(17, 2))"
   ]
  },
  {
   "cell_type": "code",
   "execution_count": 133,
   "id": "617594e7",
   "metadata": {},
   "outputs": [
    {
     "name": "stdout",
     "output_type": "stream",
     "text": [
      "6\n"
     ]
    }
   ],
   "source": [
    "# Sum of natural numbers using recursion\n",
    "\n",
    "def sumN(n):\n",
    "    if n == 0:\n",
    "        return 0\n",
    "    return n + sumN(n-1)\n",
    "\n",
    "print(sumN(3))"
   ]
  },
  {
   "cell_type": "code",
   "execution_count": 141,
   "id": "31458580",
   "metadata": {},
   "outputs": [
    {
     "name": "stdout",
     "output_type": "stream",
     "text": [
      "False\n"
     ]
    }
   ],
   "source": [
    "# Power of two\n",
    "# Input: n = 16\n",
    "# Output: true\n",
    "# Explanation: 2^4 = 16\n",
    "def isPowerOfTwo( n: int) -> bool:\n",
    "    if n == 1:\n",
    "        return True\n",
    "    if n % 2 != 0 or n == 0:\n",
    "        return False\n",
    "    return self.isPowerOfTwo(n/2)\n",
    "# import math\n",
    "# def isPowerOfTwo(n):\n",
    "#     return _helper(n,0)\n",
    "\n",
    "# def _helper(n, i): \n",
    "#     p = math.pow(2,i)\n",
    "    \n",
    "#     if p > n:\n",
    "#         return False\n",
    "#     if p == n:\n",
    "#         return True\n",
    "#     return _helper(n,i+1)\n",
    "\n",
    "print(isPowerOfTwo(3))\n",
    "    "
   ]
  },
  {
   "cell_type": "code",
   "execution_count": 146,
   "id": "e5a0aa6b",
   "metadata": {},
   "outputs": [
    {
     "name": "stdout",
     "output_type": "stream",
     "text": [
      "True\n"
     ]
    }
   ],
   "source": [
    "def isPowerOfThree(n):\n",
    "    if n == 1:\n",
    "        return True\n",
    "    if n % 3 != 0 or n == 0:\n",
    "        return False\n",
    "    return isPowerOfThree(n/3)\n",
    "\n",
    "print(isPowerOfThree(3))"
   ]
  },
  {
   "cell_type": "code",
   "execution_count": 151,
   "id": "7fa571bb",
   "metadata": {},
   "outputs": [
    {
     "name": "stdout",
     "output_type": "stream",
     "text": [
      "False\n"
     ]
    }
   ],
   "source": [
    "def isPowerOfFour(n):\n",
    "    if n == 1:\n",
    "        return True\n",
    "    if n % 4 != 0 or n == 0:\n",
    "        return False\n",
    "    return isPowerOfFour(n/4)\n",
    "\n",
    "print(isPowerOfFour(56))"
   ]
  },
  {
   "cell_type": "code",
   "execution_count": 152,
   "id": "2e7c0018",
   "metadata": {},
   "outputs": [
    {
     "name": "stdout",
     "output_type": "stream",
     "text": [
      "120\n"
     ]
    }
   ],
   "source": [
    "def fact(n):\n",
    "    if n <= 1:\n",
    "        return 1\n",
    "    return n * fact(n-1)\n",
    "\n",
    "print(fact(5))"
   ]
  },
  {
   "cell_type": "markdown",
   "id": "0138ff5d",
   "metadata": {},
   "source": [
    "### Program to check if an array is sorted or not (Recursive)\n"
   ]
  },
  {
   "cell_type": "code",
   "execution_count": 157,
   "id": "3be192e3",
   "metadata": {},
   "outputs": [
    {
     "name": "stdout",
     "output_type": "stream",
     "text": [
      "False\n"
     ]
    }
   ],
   "source": [
    "def isSorted(arr):\n",
    "    if len(arr) <= 1:\n",
    "        return True\n",
    "    i = 0\n",
    "    if arr[i] > arr[i+1]:\n",
    "        return False\n",
    "    return isSorted(arr[1:])\n",
    "\n",
    "print(isSorted([20, 21, 45, 89, 99, 90]))"
   ]
  },
  {
   "cell_type": "markdown",
   "id": "aaa2a7e8",
   "metadata": {},
   "source": [
    "### Given an integer num, return the number of steps to reduce it to zero.\n",
    "\n",
    "##### In one step, if the current number is even, you have to divide it by 2, otherwise, you have to subtract 1 from it."
   ]
  },
  {
   "cell_type": "code",
   "execution_count": 160,
   "id": "4b45ff27",
   "metadata": {},
   "outputs": [
    {
     "name": "stdout",
     "output_type": "stream",
     "text": [
      "6\n"
     ]
    }
   ],
   "source": [
    "def numberOfSteps(num):\n",
    "    return _helperSteps(num, 0)\n",
    "\n",
    "def _helperSteps(num, step):\n",
    "    if num == 0:\n",
    "        return step\n",
    "    \n",
    "    if num % 2 == 0:\n",
    "        step += 1\n",
    "        return _helperSteps(num / 2, step)\n",
    "    else:\n",
    "        step += 1\n",
    "        return _helperSteps(num - 1, step )\n",
    "    \n",
    "print(numberOfSteps(14))"
   ]
  },
  {
   "cell_type": "markdown",
   "id": "68c44596",
   "metadata": {},
   "source": [
    "### Check for balanced parenthesis without using stack"
   ]
  },
  {
   "cell_type": "code",
   "execution_count": 165,
   "id": "51ad6e23",
   "metadata": {},
   "outputs": [
    {
     "name": "stdout",
     "output_type": "stream",
     "text": [
      "True\n"
     ]
    }
   ],
   "source": [
    "def findClosing(c):\n",
    "    if c == '(':\n",
    "        return ')'\n",
    "    elif c == '{':\n",
    "        return '}'\n",
    "    elif c == '[':\n",
    "        return ']'\n",
    "    return -1\n",
    "\n",
    "def isBalanced(expr, n):\n",
    "    \n",
    "    #Base conditions\n",
    "    if n == 0:\n",
    "        return True\n",
    "    if n == 1:\n",
    "        return False\n",
    "    \n",
    "    if expr[0] == ')'  or expr[0] == '}' or expr[0] == ']':\n",
    "        return False\n",
    "    \n",
    "    count = 0\n",
    "    closing = findClosing(expr[0])\n",
    "    \n",
    "    for i in range(1, n):\n",
    "        if expr[i] == expr[0]:\n",
    "            count += 1\n",
    "        if expr[i] == closing:\n",
    "            if count == 0:\n",
    "                break\n",
    "            count -= 1\n",
    "    \n",
    "    if i == n:\n",
    "        return False\n",
    "    \n",
    "    # If closing bracket was next\n",
    "    # to open\n",
    "    if i == 1:\n",
    "        return isBalanced(expr[2:], n - 2)\n",
    " \n",
    "    # If closing bracket was somewhere\n",
    "    # in middle.\n",
    "    return isBalanced(expr[1:], i - 1) and \\\n",
    "           isBalanced(expr[i + 1:], n - i - 1)\n",
    "\n",
    "expr = \"((()))\"\n",
    "print(isBalanced(expr, len(expr)))\n",
    "        "
   ]
  },
  {
   "cell_type": "markdown",
   "id": "da46e668",
   "metadata": {},
   "source": [
    "### Remove all consecutive duplicates from the string\n"
   ]
  },
  {
   "cell_type": "code",
   "execution_count": 169,
   "id": "dfa0fc46",
   "metadata": {},
   "outputs": [
    {
     "name": "stdout",
     "output_type": "stream",
     "text": [
      "ab\n"
     ]
    }
   ],
   "source": [
    "def removeDup(string):\n",
    "    if len(string) <= 1:\n",
    "        return string\n",
    "\n",
    "    if string[0] == string[1]:\n",
    "        return removeDup(string[1:])\n",
    "    else:\n",
    "        return string[0] + removeDup(string[1:])\n",
    "    \n",
    "print(removeDup('aaaaaaaabbbbbbbbbb'))\n",
    "\n"
   ]
  },
  {
   "cell_type": "markdown",
   "id": "7c9df3b2",
   "metadata": {},
   "source": [
    "### FIND ALL DUPLICATES IN AN ARRAY (1 <= nums[i] <= n)"
   ]
  },
  {
   "cell_type": "code",
   "execution_count": 180,
   "id": "992f4a17",
   "metadata": {},
   "outputs": [
    {
     "name": "stdout",
     "output_type": "stream",
     "text": [
      "[1, 2]\n"
     ]
    }
   ],
   "source": [
    "\n",
    "def findDuplicates(arr):\n",
    "    i = 0\n",
    "    res = []\n",
    "    while i < len(arr):\n",
    "\n",
    "        indexToCheck = abs(arr[i]) - 1\n",
    "        \n",
    "        if arr[indexToCheck] > 0:\n",
    "            arr[indexToCheck] = arr[indexToCheck] * -1\n",
    "        else:\n",
    "            res.append(indexToCheck)\n",
    "            \n",
    "        i += 1\n",
    "    \n",
    "    \n",
    "    return res\n",
    "\n",
    "print(findDuplicates([4,3,2,7,8,2,3,1]))\n",
    "        \n",
    "        \n",
    "        \n",
    "        \n",
    "        "
   ]
  },
  {
   "cell_type": "markdown",
   "id": "e5d303f6",
   "metadata": {},
   "source": [
    "### Given a string, print all possible palindromic partitions"
   ]
  },
  {
   "cell_type": "code",
   "execution_count": 197,
   "id": "d72b168b",
   "metadata": {},
   "outputs": [
    {
     "name": "stdout",
     "output_type": "stream",
     "text": [
      "nitin\n",
      "niin\n",
      "nin\n",
      "ntn\n",
      "nin\n",
      "nn\n",
      "n\n",
      "iti\n",
      "ii\n",
      "i\n",
      "t\n",
      "i\n",
      "n\n",
      "\n"
     ]
    }
   ],
   "source": [
    "# def subset(p, up):\n",
    "#     ans = []\n",
    "#     if len(up) == 0:\n",
    "#         ans.append(p)\n",
    "#         return ans\n",
    "    \n",
    "#     ch = up[0]\n",
    "    \n",
    "#     left = subset(p+ch, up[1:])\n",
    "#     right = subset(p, up[1:])\n",
    "    \n",
    "#     left.extend(right)\n",
    "    \n",
    "#     return left\n",
    "    \n",
    "# subset('', 'abc')\n",
    "\n",
    "def isPalindrome(s):\n",
    "    if len(s) <= 1:\n",
    "        return True\n",
    "    \n",
    "    if s[0] != s[len(s) - 1]:\n",
    "        return False\n",
    "    return isPalindrome(s[1:len(s) - 1])\n",
    "        \n",
    "def subset(p, up):\n",
    "    if len(up) == 0:\n",
    "#         print(p)\n",
    "        if isPalindrome(p):\n",
    "            print(p)\n",
    "        return \n",
    "    \n",
    "    ch = up[0]\n",
    "    \n",
    "    subset(p+ch, up[1:])\n",
    "    subset(p, up[1:])\n",
    "subset('', 'nitin')\n",
    "# print(isPalindrome('nitin'))"
   ]
  },
  {
   "cell_type": "code",
   "execution_count": null,
   "id": "26249941",
   "metadata": {},
   "outputs": [],
   "source": []
  }
 ],
 "metadata": {
  "kernelspec": {
   "display_name": "Python 3 (ipykernel)",
   "language": "python",
   "name": "python3"
  },
  "language_info": {
   "codemirror_mode": {
    "name": "ipython",
    "version": 3
   },
   "file_extension": ".py",
   "mimetype": "text/x-python",
   "name": "python",
   "nbconvert_exporter": "python",
   "pygments_lexer": "ipython3",
   "version": "3.10.0"
  }
 },
 "nbformat": 4,
 "nbformat_minor": 5
}
