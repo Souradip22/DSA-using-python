{
 "cells": [
  {
   "cell_type": "markdown",
   "id": "263f6030",
   "metadata": {},
   "source": [
    "# Maximum sum subarray of size k\n",
    "```\n",
    "Input  : arr[] = {100, 200, 300, 400}\n",
    "         k = 2\n",
    "Output : 700\n",
    "\n",
    "Input  : arr[] = {1, 4, 2, 10, 23, 3, 1, 0, 20}\n",
    "         k = 4 \n",
    "Output : 39\n",
    "We get maximum sum by adding subarray {4, 2, 10, 23}\n",
    "of size 4.\n",
    "\n",
    "Input  : arr[] = {2, 3}\n",
    "         k = 3\n",
    "Output : Invalid\n",
    "There is no subarray of size 3 as size of whole\n",
    "array is 2. \n",
    "\n",
    "```"
   ]
  },
  {
   "cell_type": "code",
   "execution_count": 4,
   "id": "12899f78",
   "metadata": {},
   "outputs": [
    {
     "data": {
      "text/plain": [
       "39"
      ]
     },
     "execution_count": 4,
     "metadata": {},
     "output_type": "execute_result"
    }
   ],
   "source": [
    "def maxSum(arr, k):\n",
    "    N = len(arr)\n",
    "    i = 0\n",
    "    j = 0\n",
    "    lsum = 0\n",
    "    maxsum = 0\n",
    "    \n",
    "    while j < N:\n",
    "        \n",
    "        lsum += arr[j]\n",
    "        \n",
    "        if (j - i + 1) < k:\n",
    "            j += 1\n",
    "        elif (j - i + 1) == k:\n",
    "            maxsum = max(lsum, maxsum)\n",
    "            lsum = lsum - arr[i]\n",
    "            i += 1\n",
    "            j += 1\n",
    "    return maxsum\n",
    "  \n",
    "arr = [2, 5, 1, 8, 2, 9, 1]\n",
    "k = 3\n",
    "arr = [1, 4, 2, 10, 23, 3, 1, 0, 20]\n",
    "k = 4\n",
    "maxSum(arr, k)"
   ]
  },
  {
   "cell_type": "markdown",
   "id": "f58e1c55",
   "metadata": {},
   "source": [
    "# First Negetive integer in every window size of K\n",
    "```\n",
    "Input : arr[] = {-8, 2, 3, -6, 10}, k = 2\n",
    "Output : -8 0 -6 -6\n",
    "First negative integer for each window of size k\n",
    "{-8, 2} = -8\n",
    "{2, 3} = 0 (does not contain a negative integer)\n",
    "{3, -6} = -6\n",
    "{-6, 10} = -6\n",
    "\n",
    "Input : arr[] = {12, -1, -7, 8, -15, 30, 16, 28} , k = 3\n",
    "Output : -1 -1 -7 -15 -15 0\n",
    "```"
   ]
  },
  {
   "cell_type": "code",
   "execution_count": 25,
   "id": "dca49de3",
   "metadata": {},
   "outputs": [
    {
     "data": {
      "text/plain": [
       "[-8, -6, -6]"
      ]
     },
     "execution_count": 25,
     "metadata": {},
     "output_type": "execute_result"
    }
   ],
   "source": [
    "def firstNegetive(arr, k):\n",
    "    N = len(arr)\n",
    "    i = 0\n",
    "    j = 0\n",
    "    lNegList = []\n",
    "    res = []\n",
    "    \n",
    "    while j < N:\n",
    "        \n",
    "        if arr[j] < 0:\n",
    "            lNegList.append(arr[j])\n",
    "        \n",
    "        if (j - i + 1) < k:\n",
    "            j += 1\n",
    "        elif (j - i + 1) == k:\n",
    "            # calculation when we get the window\n",
    "            if len(lNegList) == 0:\n",
    "                res.append(0)\n",
    "            else:\n",
    "                res.append(lNegList[0])\n",
    "                \n",
    "            #calculation for sliding the window\n",
    "            if len(lNegList) >= 1 and  arr[i] == lNegList[0]:\n",
    "                lNegList.pop(0)\n",
    "            i += 1\n",
    "            j += 1\n",
    "    return res\n",
    "  \n",
    "arr = [-8, 2, 3, -6, 10]\n",
    "# k = 2\n",
    "# arr = [12, -1, -7, 8, -15, 30, 16, 28]\n",
    "# k = 3\n",
    "firstNegetive(arr, k)"
   ]
  },
  {
   "cell_type": "code",
   "execution_count": 11,
   "id": "a478f673",
   "metadata": {},
   "outputs": [
    {
     "name": "stdout",
     "output_type": "stream",
     "text": [
      "[2, 4]\n"
     ]
    }
   ],
   "source": [
    "l = [1,2,4]\n",
    "l.pop(0)\n",
    "print(l)"
   ]
  },
  {
   "cell_type": "code",
   "execution_count": null,
   "id": "286a9ea9",
   "metadata": {},
   "outputs": [],
   "source": []
  }
 ],
 "metadata": {
  "kernelspec": {
   "display_name": "Python 3 (ipykernel)",
   "language": "python",
   "name": "python3"
  },
  "language_info": {
   "codemirror_mode": {
    "name": "ipython",
    "version": 3
   },
   "file_extension": ".py",
   "mimetype": "text/x-python",
   "name": "python",
   "nbconvert_exporter": "python",
   "pygments_lexer": "ipython3",
   "version": "3.10.0"
  }
 },
 "nbformat": 4,
 "nbformat_minor": 5
}
