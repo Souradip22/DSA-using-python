{
 "cells": [
  {
   "cell_type": "markdown",
   "id": "30b885e8",
   "metadata": {},
   "source": [
    "704. Binary Search\n",
    "\n",
    "    Input: nums = [-1,0,3,5,9,12], target = 9\n",
    "    Output: 4\n",
    "    Explanation: 9 exists in nums and its index is 4"
   ]
  },
  {
   "cell_type": "code",
   "execution_count": 8,
   "id": "06ec1e2a",
   "metadata": {},
   "outputs": [
    {
     "name": "stdout",
     "output_type": "stream",
     "text": [
      "4\n"
     ]
    }
   ],
   "source": [
    "def binarySearch(nums, k):\n",
    "    \n",
    "    l = 0\n",
    "    h = len(nums) - 1\n",
    "    \n",
    "    while l <= h:\n",
    "        \n",
    "        mid = ((l + (h-l)//2))\n",
    "        if nums[mid] == k:\n",
    "            return mid\n",
    "        elif nums[mid] > k:\n",
    "            h = mid - 1\n",
    "        else:\n",
    "            l = mid + 1\n",
    "    return - 1\n",
    "\n",
    "nums = [-1,0,3,5,9,12]\n",
    "k = 9            \n",
    "print(binarySearch(nums, k))"
   ]
  },
  {
   "cell_type": "markdown",
   "id": "b48f759f",
   "metadata": {},
   "source": [
    "Lower Bound  \n",
    "\n",
    "arr[ind] >= target\n"
   ]
  },
  {
   "cell_type": "code",
   "execution_count": 11,
   "id": "5a63ea58",
   "metadata": {},
   "outputs": [
    {
     "name": "stdout",
     "output_type": "stream",
     "text": [
      "0\n"
     ]
    }
   ],
   "source": [
    "def lowerBound(arr, n, x):\n",
    "    # Write your code here\n",
    "    low = 0\n",
    "    high = n - 1\n",
    "    ans = n\n",
    "\n",
    "    while low <= high:\n",
    "\n",
    "        mid = low + (high - low)//2\n",
    "        if arr[mid] >= x:\n",
    "            ans = mid\n",
    "            high = mid - 1\n",
    "        else:\n",
    "            low = mid + 1\n",
    "    \n",
    "    return ans\n",
    "\n",
    "arr = [1,2,2,3]\n",
    "n = 4\n",
    "x = 1\n",
    "print(lowerBound(arr, n, x))\n"
   ]
  },
  {
   "cell_type": "markdown",
   "id": "2b5482a9",
   "metadata": {},
   "source": [
    "Upper Bound\n",
    "\n",
    "arr[ind] > target"
   ]
  },
  {
   "cell_type": "code",
   "execution_count": 12,
   "id": "606a0173",
   "metadata": {},
   "outputs": [
    {
     "name": "stdout",
     "output_type": "stream",
     "text": [
      "1\n"
     ]
    }
   ],
   "source": [
    "def upperBound(arr, n, x):\n",
    "    low = 0\n",
    "    high = n - 1\n",
    "    ans = n\n",
    "\n",
    "    while low <= high:\n",
    "\n",
    "        mid = low + (high - low)//2\n",
    "        if arr[mid] > x:\n",
    "            ans = mid\n",
    "            high = mid - 1\n",
    "        else:\n",
    "            low = mid + 1\n",
    "    \n",
    "    return ans\n",
    "\n",
    "arr = [1,2,2,3]\n",
    "n = 4\n",
    "x = 1\n",
    "print(upperBound(arr, n, x))"
   ]
  },
  {
   "cell_type": "markdown",
   "id": "193dd0c9",
   "metadata": {},
   "source": [
    "Search Insert Postion (Lower Bound)"
   ]
  },
  {
   "cell_type": "code",
   "execution_count": 13,
   "id": "c609e3d3",
   "metadata": {},
   "outputs": [
    {
     "name": "stdout",
     "output_type": "stream",
     "text": [
      "4\n"
     ]
    }
   ],
   "source": [
    "def searchInsert(arr, x):\n",
    "    n = len(arr)\n",
    "    low = 0\n",
    "    high = n - 1\n",
    "    ans = n\n",
    "\n",
    "    while low <= high:\n",
    "\n",
    "        mid = low + (high - low)//2\n",
    "        if arr[mid] >= x:\n",
    "            ans = mid\n",
    "            high = mid - 1\n",
    "        else:\n",
    "            low = mid + 1\n",
    "\n",
    "    return ans\n",
    "\n",
    "arr = [1,2,2,3]\n",
    "x = 4\n",
    "print(searchInsert(arr, x))"
   ]
  },
  {
   "cell_type": "markdown",
   "id": "4831a04c",
   "metadata": {},
   "source": [
    "ceil and Floor\n",
    "\n",
    "    Input: arr[] = {1, 2, 8, 10, 10, 12, 19}, x = 5\n",
    "    Output: 2\n",
    "    Explanation: 2 is the largest element in \n",
    "    arr[] smaller than 5\n",
    "\n",
    "    Input: arr[] = {1, 2, 8, 10, 10, 12, 19}, x = 20\n",
    "    Output: 19\n",
    "    Explanation: 19 is the largest element in\n",
    "    arr[] smaller than 20"
   ]
  },
  {
   "cell_type": "code",
   "execution_count": 22,
   "id": "36695b4a",
   "metadata": {},
   "outputs": [
    {
     "name": "stdout",
     "output_type": "stream",
     "text": [
      "Floor not exist\n",
      "CEIL 1\n"
     ]
    }
   ],
   "source": [
    "def findFloor(arr, n, x):\n",
    "    low = 0\n",
    "    high = n - 1\n",
    "    ans = -1\n",
    "\n",
    "    while low <= high:\n",
    "\n",
    "        mid = low + (high - low)//2\n",
    "        if arr[mid] <= x:\n",
    "            ans = arr[mid]\n",
    "            low = mid + 1\n",
    "            \n",
    "        else:\n",
    "            high = mid - 1\n",
    "    \n",
    "    return ans\n",
    "\n",
    "def findFloorAndCeil(arr, x):\n",
    "    N = len(arr)\n",
    "    floor = findFloor(arr, N, x)\n",
    "    ceil = lowerBound(arr, N, x)\n",
    "    \n",
    "    if floor != -1:\n",
    "        print(\"FLOOR\", floor)\n",
    "    else:\n",
    "        print('Floor not exist')\n",
    "        \n",
    "    if ceil != N:\n",
    "        print('CEIL', arr[ceil])\n",
    "    else:\n",
    "        print('Ceil not exist')\n",
    "        \n",
    "arr = [1, 2, 8, 10, 10, 12, 19]\n",
    "x = 0\n",
    "findFloorAndCeil(arr, x)"
   ]
  },
  {
   "cell_type": "markdown",
   "id": "349b77ee",
   "metadata": {},
   "source": [
    "Find First and Last Position of Element in Sorted Array\n",
    "\n",
    "    Input: nums = [5,7,7,8,8,10], target = 8\n",
    "    Output: [3,4]\n",
    "\n",
    "First position = LowerBound (But need additional check to make sure if the element is actually equals to target)\n",
    "Last position = UpperBound - 1 (Same additional check is needed here also)\n"
   ]
  },
  {
   "cell_type": "code",
   "execution_count": 31,
   "id": "4866306a",
   "metadata": {},
   "outputs": [
    {
     "name": "stdout",
     "output_type": "stream",
     "text": [
      "[3, 4]\n"
     ]
    }
   ],
   "source": [
    "def _helperBS(nums, k, isFirst):\n",
    "    \n",
    "    low = 0\n",
    "    high = len(nums) - 1\n",
    "    \n",
    "    ans = -1\n",
    "    while low <= high:\n",
    "        \n",
    "        mid = low + (high - low)//2\n",
    "        if nums[mid] == k:\n",
    "            ans = mid\n",
    "            if isFirst:\n",
    "                high = mid - 1\n",
    "            else:\n",
    "                low = mid + 1\n",
    "        elif nums[mid] < k:\n",
    "            low = mid + 1\n",
    "        else:\n",
    "            high = mid - 1\n",
    "    return ans\n",
    "    \n",
    "def searchRange(nums, target):\n",
    "    firstI = _helperBS(nums, target, True)\n",
    "    secondI = _helperBS(nums, target, False)\n",
    "    \n",
    "    return [firstI, secondI]\n",
    "    \n",
    "nums = [5,7,7,8,8,10]\n",
    "target = 8\n",
    "print(searchRange(nums, target))\n",
    "    "
   ]
  },
  {
   "cell_type": "markdown",
   "id": "4fac6242",
   "metadata": {},
   "source": [
    "Number of occurrence\n",
    "\n",
    "    Input: arr = [4, 4, 8, 8, 8, 15, 16, 23, 23, 42], target = 8\n",
    "    Output: 3"
   ]
  },
  {
   "cell_type": "code",
   "execution_count": 43,
   "id": "268b5317",
   "metadata": {},
   "outputs": [
    {
     "name": "stdout",
     "output_type": "stream",
     "text": [
      "6 6\n",
      "1\n"
     ]
    }
   ],
   "source": [
    "def count(arr, n, x):\n",
    "    firstI = _helperBS(arr, x, True)\n",
    "    secondI = _helperBS(arr, x, False)\n",
    "    print(firstI, secondI)\n",
    "    if firstI != -1 and secondI != -1:\n",
    "        return secondI - firstI + 1\n",
    "    if firstI == secondI and firstI != -1:\n",
    "        return 1\n",
    "    return 0\n",
    "\n",
    "\n",
    "\n",
    "arr = [4, 4, 8, 8, 8, 15, 16, 23, 23, 42]\n",
    "target = 16\n",
    "print(count(arr, len(arr), target))"
   ]
  },
  {
   "cell_type": "markdown",
   "id": "3cca48e8",
   "metadata": {},
   "source": [
    "33. Search in Rotated Sorted Array\n",
    "\n",
    "    Input: nums = [4,5,6,7,0,1,2], target = 0\n",
    "    Output: 4"
   ]
  },
  {
   "cell_type": "code",
   "execution_count": 54,
   "id": "7c38e319",
   "metadata": {},
   "outputs": [
    {
     "name": "stdout",
     "output_type": "stream",
     "text": [
      "4\n"
     ]
    }
   ],
   "source": [
    "def searchRotate(nums, k):\n",
    "    \n",
    "    low = 0\n",
    "    high = len(nums) - 1\n",
    "    \n",
    "    while low <= high:\n",
    "        \n",
    "        mid = low + (high - low)//2\n",
    "        \n",
    "        if nums[mid] == k:\n",
    "            return mid\n",
    "        \n",
    "        isLeftSorted = nums[low] <= nums[mid]\n",
    "#         print(isLeftSorted, mid)\n",
    "        \n",
    "        if isLeftSorted:\n",
    "            #check if target present in this range\n",
    "            if nums[low] <= k and k <= nums[mid]:\n",
    "                high = mid - 1\n",
    "            else:\n",
    "                low = mid + 1\n",
    "        else:\n",
    "            if nums[mid] <= k and k <= nums[high]:\n",
    "                low = mid + 1\n",
    "            else:\n",
    "                high = mid - 1\n",
    "    return -1\n",
    "                \n",
    "    \n",
    "\n",
    "nums = [4,5,6,7,0,1,2]\n",
    "k = 0\n",
    "\n",
    "# nums = [3,1]\n",
    "# k = 1\n",
    "print(searchRotate(nums, k))"
   ]
  },
  {
   "cell_type": "markdown",
   "id": "633fa9cf",
   "metadata": {},
   "source": [
    "81. Search in Rotated Sorted Array II\n",
    "\n",
    "    Input: nums = [2,5,6,0,0,1,2], target = 0\n",
    "    Output: true\n",
    "    "
   ]
  },
  {
   "cell_type": "code",
   "execution_count": 64,
   "id": "38f5f45f",
   "metadata": {},
   "outputs": [
    {
     "name": "stdout",
     "output_type": "stream",
     "text": [
      "6 0\n",
      "6 4\n",
      "True\n"
     ]
    }
   ],
   "source": [
    "def searchRotate2(nums, k):\n",
    "    \n",
    "    low = 0\n",
    "    high = len(nums) - 1\n",
    "    \n",
    "    while low <= high:\n",
    "        \n",
    "        mid = low + (high - low)//2\n",
    "        \n",
    "        if nums[mid] == k:\n",
    "            return True\n",
    "        \n",
    "        if nums[low] == nums[high] == nums[mid]:\n",
    "            low += 1\n",
    "            high -= 1\n",
    "            continue\n",
    "        print(high, low)\n",
    "        isLeftSorted = nums[low] <= nums[mid]\n",
    "#         print(isLeftSorted, mid)\n",
    "        \n",
    "        if isLeftSorted:\n",
    "            #check if target present in this range\n",
    "            if nums[low] <= k and k <= nums[mid]:\n",
    "                high = mid - 1\n",
    "            else:\n",
    "                low = mid + 1\n",
    "        else:\n",
    "            if nums[mid] <= k and k <= nums[high]:\n",
    "                low = mid + 1\n",
    "            else:\n",
    "                high = mid - 1\n",
    "    return False\n",
    "                \n",
    "    \n",
    "\n",
    "nums = [4,5,6,7,0,1,2]\n",
    "k = 0\n",
    "\n",
    "# nums = [3,1,2,3,3,3,3]\n",
    "# k = 2\n",
    "\n",
    "# nums = [1,1,1,1,1,1,1,1,1,13,1,1,1,1,1,1,1,1,1,1,1,1]\n",
    "# k = 13\n",
    "print(searchRotate2(nums, k))"
   ]
  },
  {
   "cell_type": "markdown",
   "id": "f1a26484",
   "metadata": {},
   "source": [
    "153. Find Minimum in Rotated Sorted Array\n",
    "\n",
    "    Input: nums = [3,4,5,1,2]\n",
    "    Output: 1\n",
    "    Explanation: The original array was [1,2,3,4,5] rotated 3 times."
   ]
  },
  {
   "cell_type": "code",
   "execution_count": 67,
   "id": "1db479b5",
   "metadata": {},
   "outputs": [
    {
     "name": "stdout",
     "output_type": "stream",
     "text": [
      "1\n"
     ]
    }
   ],
   "source": [
    "def findMin(nums):\n",
    "    \n",
    "    low = 0\n",
    "    high = len(nums) - 1\n",
    "    ans = float('inf')\n",
    "    \n",
    "    while low <= high:\n",
    "        \n",
    "        mid = low + (high - low)//2\n",
    "\n",
    "        isLeftSorted = nums[low] <= nums[mid]\n",
    "        \n",
    "        if isLeftSorted:\n",
    "            ans = min(nums[low], ans)\n",
    "            low = mid + 1\n",
    "        else:\n",
    "            ans = min(nums[mid], ans)\n",
    "            high = mid - 1\n",
    "            \n",
    "    return ans\n",
    "                \n",
    "    \n",
    "\n",
    "nums = [3,4,5,1,2]\n",
    "print(findMin(nums))"
   ]
  },
  {
   "cell_type": "markdown",
   "id": "6a7974ba",
   "metadata": {},
   "source": [
    "Find how many times has an array been rotated (eqv to find min element index in roated array)"
   ]
  },
  {
   "cell_type": "code",
   "execution_count": 75,
   "id": "05ab88c6",
   "metadata": {},
   "outputs": [
    {
     "name": "stdout",
     "output_type": "stream",
     "text": [
      "1\n",
      "3\n"
     ]
    }
   ],
   "source": [
    "def findKRotation(nums):\n",
    "        \n",
    "    low = 0\n",
    "    high = len(nums) - 1\n",
    "    ans = float('inf')\n",
    "    id = -1\n",
    "    \n",
    "    while low <= high:\n",
    "        \n",
    "        mid = low + (high - low)//2\n",
    "\n",
    "        isLeftSorted = nums[low] <= nums[mid]\n",
    "        \n",
    "        if isLeftSorted:\n",
    "            if nums[low] < ans:\n",
    "                ans = nums[low]\n",
    "                id = low\n",
    "            low = mid + 1\n",
    "        else:\n",
    "            if nums[mid] < ans:\n",
    "                ans = nums[mid]\n",
    "                id = mid\n",
    "            high = mid - 1\n",
    "  \n",
    "    return id\n",
    "\n",
    "\n",
    "nums = [3,4,5,1,2]\n",
    "print(findKRotation(nums))\n",
    "    "
   ]
  },
  {
   "cell_type": "markdown",
   "id": "2010b5c3",
   "metadata": {},
   "source": [
    "540. Single Element in a Sorted Array\n",
    "\n",
    "    Input: nums = [3,3,7,7,10,11,11]\n",
    "    Output: 10\n"
   ]
  },
  {
   "cell_type": "code",
   "execution_count": 98,
   "id": "cb7d6b79",
   "metadata": {},
   "outputs": [
    {
     "name": "stdout",
     "output_type": "stream",
     "text": [
      "10\n"
     ]
    }
   ],
   "source": [
    "def singleNonDuplicate(nums):\n",
    "    N = len(nums)\n",
    "    if len(nums) == 1:\n",
    "        return nums[0]\n",
    "    if nums[0] != nums[1]:\n",
    "        return nums[0]\n",
    "    if nums[N - 1] != nums[N - 2]:\n",
    "        return nums[N - 1]\n",
    "    \n",
    "    low = 1\n",
    "    high = N - 2\n",
    "    \n",
    "    while low <= high:\n",
    "        \n",
    "        mid = low + (high - low) // 2\n",
    "        \n",
    "        if nums[mid - 1] != nums[mid] and nums[mid] != nums[mid + 1]:\n",
    "            return nums[mid]\n",
    "        if nums[mid - 1] == nums[mid]:\n",
    "            if (mid - 1) % 2 == 0:\n",
    "                low = mid + 1\n",
    "            else:\n",
    "                high = mid - 1\n",
    "        if nums[mid] == nums[mid +1]:\n",
    "            if (mid + 1) % 2 == 0:\n",
    "                high = mid - 1\n",
    "                \n",
    "            else:\n",
    "                low = mid + 1\n",
    "\n",
    "    \n",
    "    return -1 \n",
    "#     \n",
    "nums = [3,3,7,7,10,11,11]\n",
    "# nums = [1,1,2,3,3,4,4,8,8]\n",
    "nums = [7,7,10,11,11,12,12]\n",
    "print(singleNonDuplicate(nums))\n"
   ]
  },
  {
   "cell_type": "markdown",
   "id": "735ea82d",
   "metadata": {},
   "source": [
    "Find Peak Element\n",
    "\n",
    "    Input: nums = [1,2,1,3,5,6,4]\n",
    "    Output: 5\n",
    "    Explanation: Your function can return either index number 1 where the peak element is 2, or index number 5 where the peak element is 6."
   ]
  },
  {
   "cell_type": "code",
   "execution_count": 106,
   "id": "2d11e380",
   "metadata": {},
   "outputs": [
    {
     "name": "stdout",
     "output_type": "stream",
     "text": [
      "here 5\n",
      "5\n"
     ]
    }
   ],
   "source": [
    "def findPeakElement(nums):\n",
    "    \n",
    "    if len(nums) == 1:\n",
    "        return 0\n",
    "    N = len(nums)\n",
    "    if nums[0] > nums[1]:\n",
    "        return 0\n",
    "    if nums[N - 1] > nums[N - 2]:\n",
    "        return N - 1\n",
    "    \n",
    "    low = 1\n",
    "    high = N - 2\n",
    "    \n",
    "    while low <= high:\n",
    "        \n",
    "        mid = low + (high - low) // 2\n",
    "        \n",
    "        if nums[mid - 1] < nums[mid] and nums[mid] > nums[mid+ 1]:\n",
    "\n",
    "            return mid\n",
    "        elif nums[mid - 1] < nums[mid]:\n",
    "            low = mid + 1\n",
    "        elif nums[mid + 1]  < nums[mid]:\n",
    "            high = mid - 1\n",
    "        else:\n",
    "#             low = mid + 1\n",
    "            high = mid - 1\n",
    "    return -1\n",
    "\n",
    "nums = [1,2,1,3,5,6,4]\n",
    "print(findPeakElement(nums))"
   ]
  },
  {
   "cell_type": "markdown",
   "id": "3f1cb5f1",
   "metadata": {},
   "source": [
    "Square Root of a number"
   ]
  },
  {
   "cell_type": "code",
   "execution_count": 110,
   "id": "c158f80e",
   "metadata": {},
   "outputs": [
    {
     "name": "stdout",
     "output_type": "stream",
     "text": [
      "4\n"
     ]
    }
   ],
   "source": [
    "def floorSqrt(n):\n",
    "    \n",
    "    low = 1\n",
    "    high = n\n",
    "    ans = 1\n",
    "    while low <= high:\n",
    "        \n",
    "        mid = low + (high - low) // 2\n",
    "        \n",
    "        if mid * mid <= n:\n",
    "            ans = mid\n",
    "            low = mid + 1\n",
    "        else:\n",
    "            high = mid - 1\n",
    "            \n",
    "    return ans\n",
    "\n",
    "print(floorSqrt(24))\n",
    "    "
   ]
  },
  {
   "cell_type": "markdown",
   "id": "4af6765e",
   "metadata": {},
   "source": [
    "Find Nth Root Of M"
   ]
  },
  {
   "cell_type": "code",
   "execution_count": 125,
   "id": "e148ebbd",
   "metadata": {},
   "outputs": [
    {
     "name": "stdout",
     "output_type": "stream",
     "text": [
      "8\n"
     ]
    }
   ],
   "source": [
    "def NthRoot(n, m):\n",
    "    # Write Your Code Here\n",
    "    low = 1\n",
    "    high = m\n",
    "\n",
    "    while low <= high:\n",
    "        mid = low + (high - low) // 2\n",
    "        tmp = _helper(n, m, mid)\n",
    "        if tmp == 1:\n",
    "            return mid\n",
    "        elif tmp == 0:\n",
    "            low = mid + 1\n",
    "        else:\n",
    "            high = mid - 1\n",
    "\n",
    "    return -1\n",
    "\n",
    "\n",
    "def _helper(n, m, mid):\n",
    "\n",
    "    ans = 1\n",
    "    for i in range(1, n + 1):\n",
    "        ans *= mid\n",
    "        if ans > m: #help us to eliminate all the numbers greater than\n",
    "            return 2\n",
    "    if ans == m:\n",
    "        return 1\n",
    "    return 0\n",
    "\n",
    "n = 3\n",
    "m = 27\n",
    "\n",
    "n = 5 \n",
    "m = 32768\n",
    "print(NthRoot(n , m))"
   ]
  },
  {
   "cell_type": "markdown",
   "id": "c7c612b9",
   "metadata": {},
   "source": [
    "875. Koko Eating Bananas\n",
    "\n",
    "\n",
    "        Input: piles = [3,6,7,11], h = 8\n",
    "        Output: 4"
   ]
  },
  {
   "cell_type": "code",
   "execution_count": 128,
   "id": "ab45cade",
   "metadata": {},
   "outputs": [
    {
     "name": "stdout",
     "output_type": "stream",
     "text": [
      "2\n"
     ]
    }
   ],
   "source": [
    "def minEatingSpeed(piles, h):\n",
    "    \n",
    "    low = 1\n",
    "    high = max(piles)\n",
    "    ans = high\n",
    "    \n",
    "    while low <= high:\n",
    "        \n",
    "        mid = low + (high - low) // 2\n",
    "        \n",
    "        if canEat(piles, mid, h):\n",
    "            ans = min(ans, mid)\n",
    "            high = mid - 1\n",
    "        else:\n",
    "            low = mid + 1\n",
    "    return ans\n",
    "\n",
    "import math\n",
    "def canEat(piles, speed, threshold):\n",
    "    tmp = 0\n",
    "    for p in piles:\n",
    "        tmp += math.ceil(p / speed)\n",
    "        \n",
    "    if tmp > threshold:\n",
    "        return False\n",
    "    return True\n",
    "\n",
    "piles = [3,6,7,11]\n",
    "h = 8\n",
    "\n",
    "piles = [312884470]\n",
    "h = 312884469\n",
    "print(minEatingSpeed(piles, h))\n",
    "    "
   ]
  },
  {
   "cell_type": "markdown",
   "id": "7ef00fb9",
   "metadata": {},
   "source": [
    "1011. Capacity To Ship Packages Within D Days\n",
    "\n",
    "    \n",
    "    Input: weights = [1,2,3,4,5,6,7,8,9,10], days = 5"
   ]
  },
  {
   "cell_type": "code",
   "execution_count": 130,
   "id": "3e5f7ea0",
   "metadata": {},
   "outputs": [
    {
     "name": "stdout",
     "output_type": "stream",
     "text": [
      "10 3\n",
      "6 3\n",
      "4 3\n",
      "5 3\n",
      "6\n"
     ]
    }
   ],
   "source": [
    "def shipWithinDays(weights, days):\n",
    "\n",
    "    low = max(weights)\n",
    "    high = sum(weights)\n",
    "    ans = -1\n",
    "    while low <= high:\n",
    "\n",
    "        mid = low + (high - low) // 2\n",
    "\n",
    "        if canTransportWithinDays(weights, days, mid):\n",
    "            ans = mid\n",
    "            high = mid - 1\n",
    "        else:\n",
    "            low = mid + 1\n",
    "\n",
    "    return ans\n",
    "\n",
    "def canTransportWithinDays(weights, days, capacity):\n",
    "\n",
    "    lsum = 0\n",
    "    tmpDays = 1\n",
    "    for w in weights:\n",
    "\n",
    "        lsum += w\n",
    "\n",
    "        if lsum > capacity:\n",
    "            lsum = w\n",
    "            tmpDays += 1\n",
    "\n",
    "    if tmpDays <= days:\n",
    "        return True\n",
    "    return False\n",
    "\n",
    "weights = [1,2,3,4,5,6,7,8,9,10]\n",
    "days = 5\n",
    "\n",
    "weights = [3,2,2,4,1,4]\n",
    "days = 3\n",
    "print(shipWithinDays(weights, days))"
   ]
  },
  {
   "cell_type": "markdown",
   "id": "7aef354b",
   "metadata": {},
   "source": [
    "1482. Minimum Number of Days to Make m Bouquets\n",
    "\n",
    "    Input: bloomDay = [1,10,3,10,2], m = 3, k = 1\n",
    "    Output: 3\n",
    "    Explanation: Let us see what happened in the first three days. x means flower bloomed and _ means flower did not bloom in the garden.\n",
    "    We need 3 bouquets each should contain 1 flower.\n",
    "    After day 1: [x, _, _, _, _]   // we can only make one bouquet.\n",
    "    After day 2: [x, _, _, _, x]   // we can only make two bouquets.\n",
    "    After day 3: [x, _, x, _, x]   // we can make 3 bouquets. The answer is 3."
   ]
  },
  {
   "cell_type": "code",
   "execution_count": 143,
   "id": "071f120c",
   "metadata": {},
   "outputs": [
    {
     "name": "stdout",
     "output_type": "stream",
     "text": [
      "3\n"
     ]
    }
   ],
   "source": [
    "def minDays(bloomDay, m, k):\n",
    "\n",
    "    N = len(bloomDay)\n",
    "\n",
    "    if m * k > N:\n",
    "        return -1\n",
    "\n",
    "    low = min(bloomDay)\n",
    "    high = max(bloomDay)\n",
    "    ans = -1\n",
    "    while low <= high:\n",
    "\n",
    "        mid = low + (high - low) // 2\n",
    "\n",
    "        if canMake(bloomDay, m, k, mid):\n",
    "            ans = mid\n",
    "            high = mid - 1\n",
    "        else:\n",
    "            low = mid + 1\n",
    "\n",
    "    return ans\n",
    "\n",
    "def canMake(bloomDay, m, k, day):\n",
    "\n",
    "    count = 0\n",
    "    tmp = k\n",
    "    for b in bloomDay:\n",
    "        \n",
    "        if day >= b: #bloomed and can be used\n",
    "            k -= 1\n",
    "            if k == 0:\n",
    "                count += 1\n",
    "                k = tmp\n",
    "        else:\n",
    "            k = tmp\n",
    "        \n",
    "    \n",
    "    if m <= count:\n",
    "        return True\n",
    "    return False\n",
    "\n",
    "bloomDay = [1,10,3,10,2]\n",
    "m = 3\n",
    "k = 1\n",
    "\n",
    "# bloomDay = [7,7,7,7,12,7,7]\n",
    "# m = 2\n",
    "# k = 3\n",
    "print(minDays(bloomDay, m, k))"
   ]
  },
  {
   "cell_type": "markdown",
   "id": "b169a8c0",
   "metadata": {},
   "source": [
    "1283. Find the Smallest Divisor Given a Threshold\n",
    "\n",
    "\n",
    "        Input: nums = [1,2,5,9], threshold = 6\n",
    "        Output: 5\n",
    "        Explanation: We can get a sum to 17 (1+2+5+9) if the divisor is 1. \n",
    "        If the divisor is 4 we can get a sum of 7 (1+1+2+3) and if the divisor is 5 the sum will be 5 (1+1+1+2)."
   ]
  },
  {
   "cell_type": "code",
   "execution_count": 145,
   "id": "56df54c9",
   "metadata": {},
   "outputs": [
    {
     "name": "stdout",
     "output_type": "stream",
     "text": [
      "44\n"
     ]
    }
   ],
   "source": [
    "def smallestDivisor(nums, limit):\n",
    "    \n",
    "    low = 1\n",
    "    high = max(nums)\n",
    "    \n",
    "    while low <= high:\n",
    "        \n",
    "        mid = low + (high - low)//2\n",
    "        \n",
    "        if isValid(nums, mid, limit):\n",
    "            ans = mid\n",
    "            high = mid - 1\n",
    "        else:\n",
    "            low = mid + 1\n",
    "    return ans\n",
    "            \n",
    "def isValid(nums, divisor, limit):\n",
    "    lsum = 0\n",
    "    for n in nums:\n",
    "        lsum += math.ceil(n/divisor)\n",
    "    \n",
    "    if lsum <= limit:\n",
    "        return True\n",
    "    return False\n",
    "\n",
    "\n",
    "nums = [1,2,5,9]\n",
    "limit = 6\n",
    "\n",
    "nums = [44,22,33,11,1]\n",
    "limit = 5\n",
    "\n",
    "print(smallestDivisor(nums, limit))"
   ]
  },
  {
   "cell_type": "markdown",
   "id": "1a92283d",
   "metadata": {},
   "source": [
    "1539. Kth Missing Positive Number\n",
    "\n",
    "\n",
    "    Input: arr = [2,3,4,7,11], k = 5\n",
    "    Output: 9\n",
    "    Explanation: The missing positive integers are [1,5,6,8,9,10,12,13,...]. The 5th missing positive integer is 9."
   ]
  },
  {
   "cell_type": "code",
   "execution_count": 159,
   "id": "5d7b0b84",
   "metadata": {},
   "outputs": [
    {
     "name": "stdout",
     "output_type": "stream",
     "text": [
      "0 2\n",
      "3\n"
     ]
    }
   ],
   "source": [
    "def findKthPositive(arr, k):\n",
    "    N = len(arr)\n",
    "    low = 1\n",
    "    high = arr[N-1] - N\n",
    "    low = 0\n",
    "    high = N - 1\n",
    "    print(low, high)\n",
    "    while low <= high:\n",
    "        mid = low + (high - low) // 2\n",
    "        missingAtMid = arr[mid] - (mid + 1)\n",
    "\n",
    "        if missingAtMid < k:\n",
    "            low = mid + 1\n",
    "        else:\n",
    "            high = mid - 1\n",
    "    misAtHigh = arr[high] - (high + 1)    \n",
    "    return arr[high] + (k - misAtHigh)\n",
    "    \n",
    "arr = [2,3,4,7,11]\n",
    "k = 5   \n",
    "\n",
    "\n",
    "arr = [4,7,9]\n",
    "k = 3 # in this case high will be -1, but it still work \n",
    "#because wehat are are really doing is\n",
    "# ans = arr[high] + k - misAtHigh and we know misAtHigh = arr[high] - (high + 1) so, after replacing:\n",
    "# ans = arr[high] + k - (arr[high] - (high + 1))\n",
    "# ans = arr[high] + k - arr[high] + high + 1)\n",
    "# ans = k + high + 1 , replacing low = high + 1\n",
    "# ans = k + low\n",
    "print(findKthPositive(arr, k))\n",
    "            "
   ]
  },
  {
   "cell_type": "markdown",
   "id": "beeef73b",
   "metadata": {},
   "source": [
    "Allocate Books"
   ]
  },
  {
   "cell_type": "code",
   "execution_count": 185,
   "id": "faff4dac",
   "metadata": {},
   "outputs": [
    {
     "name": "stdout",
     "output_type": "stream",
     "text": [
      "71\n"
     ]
    }
   ],
   "source": [
    "def findPages(arr, n, m):\n",
    "    \n",
    "    low = max(arr)\n",
    "    high = sum(arr)\n",
    "    \n",
    "    ans = -1\n",
    "    \n",
    "    while low <= high:\n",
    "        \n",
    "        mid = low + (high - low)//2\n",
    "        if isPossible(arr, mid) <=  m:\n",
    "            ans = mid\n",
    "            high = mid - 1\n",
    "            \n",
    "        else:\n",
    "            low = mid + 1\n",
    "            \n",
    "\n",
    "    return ans\n",
    "    \n",
    "def isPossible(arr, pages):\n",
    "    stu = 1\n",
    "    lPages = 0\n",
    "    for p in arr:\n",
    "        if lPages + p <= pages:\n",
    "            lPages += p\n",
    "        else:\n",
    "            stu += 1\n",
    "            lPages = p\n",
    "    return stu\n",
    "        \n",
    "        \n",
    "    \n",
    "    \n",
    "    \n",
    "    \n",
    "arr = [25, 46, 28,49]\n",
    "n = 4\n",
    "m = 2\n",
    "\n",
    "    \n",
    "arr = [25, 46, 28,49,24]\n",
    "n = 5\n",
    "m = 4\n",
    "print(findPages(arr, n, m))"
   ]
  },
  {
   "cell_type": "markdown",
   "id": "96b6e035",
   "metadata": {},
   "source": [
    "Aggressive Cows"
   ]
  },
  {
   "cell_type": "code",
   "execution_count": 211,
   "id": "d16666c3",
   "metadata": {},
   "outputs": [
    {
     "name": "stdout",
     "output_type": "stream",
     "text": [
      "2 5\n",
      "4 2\n",
      "4 3\n",
      "3 4\n",
      "3\n"
     ]
    }
   ],
   "source": [
    "def aggressiveCows(stalls, k):\n",
    "    stalls.sort()\n",
    "    \n",
    "    low = 1\n",
    "    high = stalls[-1] - stalls[0]\n",
    "    \n",
    "    ans = -1\n",
    "    \n",
    "    while low <= high:\n",
    "        mid = low + (high - low) // 2\n",
    "        if cowCanPlace(stalls, mid) >= k:\n",
    "            ans = mid\n",
    "            low = mid + 1 \n",
    "        else:\n",
    "            high = mid - 1\n",
    "            \n",
    "    return ans\n",
    "            \n",
    "            \n",
    "def cowCanPlace(stalls, dist):\n",
    "    \n",
    "    prev = stalls[0]\n",
    "    tmp = 1\n",
    "    for curr in stalls[1:]:\n",
    "        if curr - prev >= dist:\n",
    "            tmp += 1\n",
    "            prev = curr\n",
    "    return tmp\n",
    "\n",
    "stalls = [0,3,4,7,10,9]\n",
    "k = 4\n",
    "\n",
    "# stalls = [1,2,3,4,6]\n",
    "# k = 2\n",
    "print(aggressiveCows(stalls, k))\n",
    "        \n",
    "    \n",
    "    \n",
    "    \n",
    "    \n",
    "    \n",
    "    \n",
    "    \n",
    "    "
   ]
  },
  {
   "cell_type": "markdown",
   "id": "1b74a65d",
   "metadata": {},
   "source": [
    "Painter's Partition Problem"
   ]
  },
  {
   "cell_type": "code",
   "execution_count": 212,
   "id": "fd5470a2",
   "metadata": {},
   "outputs": [
    {
     "name": "stdout",
     "output_type": "stream",
     "text": [
      "60\n"
     ]
    }
   ],
   "source": [
    "def findLargestMinDistance(boards:list, k:int):\n",
    "    low = max(boards)\n",
    "    high = sum(boards)\n",
    "    ans = -1\n",
    "    while low <= high:\n",
    "\n",
    "        mid = low + (high - low) // 2\n",
    "\n",
    "        if canTransportWithinDays(boards, k, mid):\n",
    "            ans = mid\n",
    "            high = mid - 1\n",
    "        else:\n",
    "            low = mid + 1\n",
    "\n",
    "    return ans\n",
    "\n",
    "def canTransportWithinDays(weights, days, capacity):\n",
    "\n",
    "    lsum = 0\n",
    "    tmpDays = 1\n",
    "    for w in weights:\n",
    "\n",
    "        lsum += w\n",
    "\n",
    "        if lsum > capacity:\n",
    "            lsum = w\n",
    "            tmpDays += 1\n",
    "\n",
    "    if tmpDays <= days:\n",
    "        return True\n",
    "    return False\n",
    "\n",
    "boards = [10,20,30,40]\n",
    "k = 2\n",
    "print(findLargestMinDistance(boards, k))\n"
   ]
  },
  {
   "cell_type": "markdown",
   "id": "23fffe8e",
   "metadata": {},
   "source": [
    "Median of Two Sorted Arrays (Hard)\n",
    "\n",
    "    Approach 1. Merge and calculate Median\n",
    "    Approach 2. Make partition on smallest array and try to construct the valid left arr\n"
   ]
  },
  {
   "cell_type": "code",
   "execution_count": 220,
   "id": "7ff6bac8",
   "metadata": {},
   "outputs": [
    {
     "name": "stdout",
     "output_type": "stream",
     "text": [
      "1\n",
      "2.5\n"
     ]
    }
   ],
   "source": [
    "def _helperMerge(arr1, arr2):\n",
    "    N1 = len(arr1)\n",
    "    N2 = len(arr2)\n",
    "    \n",
    "    i = j = 0\n",
    "    res = []\n",
    "    \n",
    "    while i < N1 and j < N2:\n",
    "        if arr1[i] < arr2[j]:\n",
    "            res.append(arr1[i])\n",
    "            i += 1\n",
    "        else:\n",
    "            res.append(arr2[j])\n",
    "            j += 1\n",
    "    while i < N1:\n",
    "        res.append(arr1[i])\n",
    "        i += 1\n",
    "    \n",
    "    while j < N2:\n",
    "        res.append(arr2[j])\n",
    "        j += 1\n",
    "    return res\n",
    "    \n",
    "    \n",
    "def findMedianSortedArrays(arr1, arr2):\n",
    "    \n",
    "    mergeList = _helperMerge(arr1, arr2)\n",
    "\n",
    "    N = len(mergeList)\n",
    "    low = 0\n",
    "    high = N - 1\n",
    "    \n",
    "    mid = low + (high - low) // 2\n",
    "    print(mid)\n",
    "    if N % 2 == 0:\n",
    "        return (mergeList[mid] + mergeList[mid+1]) / 2\n",
    "    return mergeList[mid]\n",
    "\n",
    "nums1 = [1,3]\n",
    "nums2 = [2]\n",
    "# Output: 2.00000\n",
    "\n",
    "nums1 = [1,2]\n",
    "nums2 = [3,4]\n",
    "print(findMedianSortedArrays(nums1, nums2))"
   ]
  },
  {
   "cell_type": "code",
   "execution_count": 246,
   "id": "175a6d45",
   "metadata": {},
   "outputs": [
    {
     "name": "stdout",
     "output_type": "stream",
     "text": [
      "5.0\n"
     ]
    }
   ],
   "source": [
    "def findMedian(arr1, arr2):\n",
    "    \n",
    "    N1 = len(arr1)\n",
    "    N2 = len(arr2)\n",
    "    \n",
    "    if N1 > N2:\n",
    "        return findMedian(arr2, arr1)\n",
    "    \n",
    "    \n",
    "    low = 0\n",
    "    high = N1\n",
    "    # minimum wan choose 0 element or choose all the elements\n",
    "    N = N1 + N2\n",
    "    mergeMid = N // 2\n",
    "    \n",
    "    isOdd = N % 2 == 1\n",
    "    \n",
    "    while low <= high:\n",
    "        \n",
    "        cut1 = (low + high) // 2\n",
    "        cut2 = (N1 + N2 + 1) // 2 - cut1\n",
    "        \n",
    "        l1 = float('-inf') if cut1 == 0 else arr1[cut1 - 1]\n",
    "        l2 = float('-inf') if cut2 == 0 else arr2[cut2 - 1]\n",
    "        \n",
    "        r1 = float('inf') if cut1 == N1 else arr1[cut1]\n",
    "        r2 = float('inf') if cut2 == N2 else arr2[cut2]\n",
    "        \n",
    "\n",
    "        if l1 <= r2 and l2 <= r1:\n",
    "            if isOdd:\n",
    "                return max(l1, l2)\n",
    "            return (max(l1, l2) + min(r1, r2)) / 2\n",
    "        \n",
    "        if l1 > r2:\n",
    "            high = cut1 - 1\n",
    "        else:\n",
    "            low = cut1 + 1\n",
    "    return 0.0\n",
    "        \n",
    "nums1 = [1,3,4,7,10,12]\n",
    "nums2 = [2,3,6,15]\n",
    "\n",
    "# nums1 = [1,3]\n",
    "# nums2 = [2]\n",
    "print(findMedian(nums1, nums2))   \n",
    "    \n",
    "    "
   ]
  },
  {
   "cell_type": "markdown",
   "id": "f28dd447",
   "metadata": {},
   "source": [
    "K-th Element of Two Sorted Arrays\n"
   ]
  },
  {
   "cell_type": "code",
   "execution_count": 267,
   "id": "c6ef055c",
   "metadata": {},
   "outputs": [
    {
     "name": "stdout",
     "output_type": "stream",
     "text": [
      "100\n"
     ]
    }
   ],
   "source": [
    "def kthElement(arr1, arr2, k):\n",
    "    \n",
    "    N1 = len(arr1)\n",
    "    N2 = len(arr2)\n",
    "    \n",
    "    if N1 > N2:\n",
    "        return kthElement(arr2, arr1, k)\n",
    "    \n",
    "    low = max(0, k - N2) # edge cases\n",
    "    high = min(N1, k) # edge cases\n",
    "    \n",
    "    while low <= high:\n",
    "        \n",
    "        cut1 = low + (high - low) // 2\n",
    "        cut2 = k - cut1\n",
    "\n",
    "        l1 = float('-inf') if cut1 == 0 else arr1[cut1 - 1]\n",
    "        l2 = float('-inf') if cut2 == 0 else arr2[cut2 - 1]\n",
    "        \n",
    "        r1 = float('inf') if cut1 == N1 else arr1[cut1]\n",
    "        r2 = float('inf') if cut2 == N2 else arr2[cut2]\n",
    "        \n",
    "        if l1 <= r2 and l2 <= r1:\n",
    "            return max(l1, l2)\n",
    "        elif l1 > r2:\n",
    "            high = cut1 - 1\n",
    "        else:\n",
    "            low = cut1 + 1\n",
    "    return -1\n",
    "\n",
    "arr1 = [2,3,45]\n",
    "arr2 = [4,6,7,8]\n",
    "k = 4\n",
    "\n",
    "arr1 = [76, 94, 100]\n",
    "arr2 = [5, 5, 9, 11, 31, 36, 68, 71, 75, 100]\n",
    "k = 12\n",
    "print(kthElement(arr1, arr2, k))\n",
    "\n"
   ]
  },
  {
   "cell_type": "markdown",
   "id": "74202317",
   "metadata": {},
   "source": [
    "74. Search a 2D Matrix\n",
    "\n",
    "        Input: matrix = [[1,3,5,7],[10,11,16,20],[23,30,34,60]], target = 3\n",
    "        Output: true\n"
   ]
  },
  {
   "cell_type": "code",
   "execution_count": 268,
   "id": "f50c720a",
   "metadata": {},
   "outputs": [
    {
     "name": "stdout",
     "output_type": "stream",
     "text": [
      "True\n"
     ]
    }
   ],
   "source": [
    "def searchMatrix(matrix, target):\n",
    "\n",
    "    row = len(matrix)\n",
    "    col = len(matrix[0])\n",
    "\n",
    "    low = 0\n",
    "    high = (row * col) - 1\n",
    "\n",
    "    while low <= high:\n",
    "\n",
    "        mid = low + (high - low) // 2\n",
    "\n",
    "        r = mid // col\n",
    "        c = mid % col\n",
    "\n",
    "        if matrix[r][c] == target:\n",
    "            return True\n",
    "\n",
    "        elif matrix[r][c] < target:\n",
    "            low = mid + 1\n",
    "        else:\n",
    "            high = mid - 1\n",
    "    return False\n",
    "\n",
    "\n",
    "\n",
    "matrix = [[1,3,5,7],[10,11,16,20],[23,30,34,60]]\n",
    "target = 3\n",
    "# Output: true\n",
    "print(searchMatrix(matrix, target))"
   ]
  },
  {
   "cell_type": "markdown",
   "id": "7455caee",
   "metadata": {},
   "source": [
    "Row with max 1s"
   ]
  },
  {
   "cell_type": "code",
   "execution_count": 279,
   "id": "de9c7873",
   "metadata": {},
   "outputs": [
    {
     "name": "stdout",
     "output_type": "stream",
     "text": [
      "2\n"
     ]
    }
   ],
   "source": [
    "def rowWithMax1s(matrix,n,m):\n",
    "\n",
    "    maxCount = 0\n",
    "    ans = -1\n",
    "\n",
    "    for i in range(n):\n",
    "        \n",
    "        low = 0\n",
    "        high = m - 1\n",
    "        curr = -1\n",
    "        oneCount = 0\n",
    "        while low <= high:\n",
    "            mid = low + (high - low) // 2\n",
    "            if matrix[i][mid] == 1:\n",
    "                curr = mid\n",
    "                high = mid - 1\n",
    "            else:\n",
    "                low = mid + 1\n",
    "        if curr != -1:\n",
    "            oneCount = m - curr\n",
    "\n",
    "        if oneCount > maxCount:\n",
    "            ans = i\n",
    "            maxCount = oneCount\n",
    "\n",
    "    #    Return the row with maximum number of ones.\n",
    "    return ans\n",
    "\n",
    "matrix = [[1,0,0],[0,0,1],[1,1,0]]\n",
    "n = len(matrix)\n",
    "m = len(matrix[0])\n",
    "print(rowWithMax1s(matrix,n,m))"
   ]
  },
  {
   "cell_type": "markdown",
   "id": "37e9ed74",
   "metadata": {},
   "source": [
    "240. Search a 2D Matrix II\n"
   ]
  },
  {
   "cell_type": "code",
   "execution_count": 298,
   "id": "8ae905ee",
   "metadata": {},
   "outputs": [
    {
     "name": "stdout",
     "output_type": "stream",
     "text": [
      "True\n"
     ]
    }
   ],
   "source": [
    "def searchMatrix2(matrix, target):\n",
    "    row = len(matrix)\n",
    "    col = len(matrix[0])\n",
    "\n",
    "    low = 0\n",
    "    high = row - 1\n",
    "\n",
    "    while low <= high:\n",
    "        midRow = matrix[low]\n",
    "\n",
    "        #check if target in between\n",
    "        if midRow[0] <= target <= midRow[-1]:\n",
    "\n",
    "            tempLow = 0\n",
    "            tempHigh = col - 1\n",
    "\n",
    "            while tempLow <= tempHigh:\n",
    "\n",
    "                tempMid = tempLow + (tempHigh - tempLow) // 2\n",
    "\n",
    "                if midRow[tempMid] == target:\n",
    "                    return True\n",
    "                if target > midRow[tempMid]:\n",
    "                    tempLow = tempMid + 1\n",
    "                else:\n",
    "                    tempHigh = tempMid - 1\n",
    "        low += 1\n",
    "\n",
    "    return False\n",
    "\n",
    "matrix = [[1,4,7,11,15],[2,5,8,12,19],[3,6,9,16,22],[10,13,14,17,24],[18,21,23,26,30]]\n",
    "target = 30\n",
    "# Output: true\n",
    "print(searchMatrix2(matrix, target))"
   ]
  },
  {
   "cell_type": "markdown",
   "id": "c39b8076",
   "metadata": {},
   "source": [
    "### 1901. Find a Peak Element II (NOT SOLVED)\n",
    "\n",
    "    A peak element in a 2D grid is an element that is strictly greater than all of its adjacent neighbors to the left, right, top, and bottom.\n",
    "\n",
    "    Input: mat = [[10,20,15],[21,30,14],[7,16,32]]\n",
    "    Output: [1,1]\n",
    "    Explanation: Both 30 and 32 are peak elements so [1,1] and [2,2] are both acceptable answers.\n",
    "\n"
   ]
  },
  {
   "cell_type": "code",
   "execution_count": 346,
   "id": "fd37628f",
   "metadata": {},
   "outputs": [
    {
     "name": "stdout",
     "output_type": "stream",
     "text": [
      "[2, 12]\n"
     ]
    }
   ],
   "source": [
    "def findPeakGrid(matrix):\n",
    "    def _helperPeak(nums):\n",
    "        low = 0\n",
    "        high = len(nums) - 1\n",
    "\n",
    "        while low <= high:\n",
    "            mid = low + (high - low) // 2\n",
    "\n",
    "            if (mid == 0 or nums[mid] >= nums[mid - 1]) and (mid == len(nums) - 1 or nums[mid] >= nums[mid + 1]):\n",
    "                return mid\n",
    "            elif mid > 0 and nums[mid - 1] > nums[mid]:\n",
    "                high = mid - 1\n",
    "            else:\n",
    "                low = mid + 1\n",
    "\n",
    "        return -1\n",
    "\n",
    "    rows = len(matrix)\n",
    "    cols = len(matrix[0])\n",
    "\n",
    "    left = 0\n",
    "    right = cols - 1\n",
    "\n",
    "    while left <= right:\n",
    "        mid_col = left + (right - left) // 2\n",
    "\n",
    "        # Find the global maximum in the current column mid_col\n",
    "        global_max_row = _helperPeak([matrix[i][mid_col] for i in range(rows)])\n",
    "\n",
    "        peak_el = matrix[global_max_row][mid_col]\n",
    "\n",
    "        prev_el = float('-inf') if global_max_row == 0 else matrix[global_max_row - 1][mid_col]\n",
    "        next_el = float('-inf') if global_max_row == rows - 1 else matrix[global_max_row + 1][mid_col]\n",
    "\n",
    "        if prev_el < peak_el and peak_el > next_el:\n",
    "            return [global_max_row, mid_col]\n",
    "        elif mid_col > 0 and matrix[global_max_row][mid_col - 1] > peak_el:\n",
    "            right = mid_col - 1\n",
    "        else:\n",
    "            left = mid_col + 1\n",
    "\n",
    "    return [-1, -1]\n",
    "\n",
    " \n",
    "matrix = [[10,20,15],[21,30,14],[7,16,32]]\n",
    "\n",
    "matrix = [[30,41,24,11,24],[23,14,43,18,45],[44,42,5,39,41],[11,35,47,16,11],[30,25,18,41,45]]\n",
    "\n",
    "matrix = [\n",
    "    [72,85,92,63,20,25,38,28,8,75,95,70,8,96,41,8,7,75,62,65,68,21,8,66,11],\n",
    "    [24,9,77,9,87,31,52,16,73,32,75,77,6,80,11,54,85,73,67,41,34,27,86,92,41],\n",
    "    [31,34,51,17,86,83,39,59,41,97,10,2,59,73,13,10,69,28,65,34,17,45,9,32,48],\n",
    "    [37,21,57,70,91,39,79,84,68,2,86,71,39,85,14,18,34,15,14,96,71,20,35,37,78],\n",
    "    [27,92,44,27,88,82,34,65,63,33,7,12,82,55,36,6,1,43,99,17,82,34,21,95,57],\n",
    "    [71,91,55,72,2,15,10,89,20,70,5,48,75,71,19,56,17,6,40,47,6,46,27,88,32],\n",
    "    [86,14,46,100,72,53,80,96,31,21,23,53,4,23,95,43,53,86,95,32,35,21,90,14,49],\n",
    "    [5,61,29,26,59,45,40,30,29,4,85,25,52,43,36,9,99,36,45,83,66,52,87,69,43],\n",
    "    [4,15,34,23,75,34,5,14,77,56,45,94,41,56,78,66,15,50,74,25,33,6,91,56,1],\n",
    "    [67,69,88,93,95,86,26,47,56,9,86,43,80,41,85,16,93,39,65,40,86,53,42,52,90],\n",
    "    [38,71,17,25,54,49,87,96,23,79,73,39,52,71,1,39,37,27,56,75,78,84,60,57,87],\n",
    "    [28,66,61,95,22,85,11,37,66,85,82,80,43,12,97,31,87,40,29,26,19,4,6,32,61],\n",
    "    [79,99,10,59,54,81,74,25,92,90,50,64,52,32,19,84,89,1,97,99,14,100,55,29,23],\n",
    "    [90,67,60,7,72,32,16,59,18,60,86,68,72,77,41,97,57,79,93,65,55,71,58,21,96],\n",
    "    [61,58,34,97,32,82,36,99,100,67,63,81,31,36,57,10,92,37,31,35,43,41,70,11,18],\n",
    "    [20,30,50,89,20,91,28,9,54,53,43,70,60,54,8,27,54,50,99,75,90,3,98,74,49],\n",
    "    [62,1,46,39,97,50,54,69,96,95,70,78,29,63,29,35,56,63,4,50,44,86,87,52,93],\n",
    "    [22,60,17,80,69,4,51,76,73,85,4,11,83,55,18,60,24,7,34,49,42,28,59,42,44],\n",
    "    [98,49,36,97,54,33,11,61,3,96,70,7,45,29,84,9,100,84,6,97,4,32,26,3,80],\n",
    "    [20,31,17,61,86,15,73,28,60,90,33,99,48,22,78,96,92,15,100,21,40,14,75,4,40],\n",
    "    [74,87,49,51,92,26,10,76,89,81,32,14,90,99,39,88,77,16,73,6,45,69,55,85,48],\n",
    "    [9,65,83,44,2,54,63,14,56,47,82,59,91,20,56,23,94,67,84,35,79,100,62,60,56],\n",
    "    [94,76,35,42,32,12,36,58,32,97,60,73,79,86,49,44,4,64,42,24,63,28,46,34,44],\n",
    "    [36,77,90,36,72,2,67,25,11,31,93,53,63,72,98,31,89,61,83,92,58,3,12,38,29]\n",
    "]\n",
    "# matrix = [[10,30,40,50,20],[1,3,2,500,4]]\n",
    "# [1,3]\n",
    "print(findPeakGrid(matrix))"
   ]
  },
  {
   "cell_type": "markdown",
   "id": "f33945e7",
   "metadata": {},
   "source": [
    "\n"
   ]
  },
  {
   "cell_type": "code",
   "execution_count": 350,
   "id": "fdb393c1",
   "metadata": {},
   "outputs": [
    {
     "name": "stdout",
     "output_type": "stream",
     "text": [
      "5\n"
     ]
    }
   ],
   "source": [
    "def findMedian(A):\n",
    "    low, high = 1, 10**9\n",
    "    n, m = len(A), len(A[0])\n",
    "    while low <= high:\n",
    "        mid = (low + high) // 2\n",
    "        cnt = 0\n",
    "        for i in range(n):\n",
    "            tmp = countSmallerthanEqualToMid(A[i], mid)\n",
    "#             print(tmp, A[i], mid)\n",
    "            cnt += countSmallerthanEqualToMid(A[i], mid)\n",
    "        if cnt <= (n * m) // 2:\n",
    "            low = mid + 1\n",
    "        else:\n",
    "            high = mid - 1\n",
    "    return low\n",
    "def countSmallerthanEqualToMid(row, mid):\n",
    "    low, high = 0, len(row) - 1\n",
    "    ans = -1\n",
    "    while low <= high:\n",
    "        md = (low + high) // 2\n",
    "        if row[md] <= mid:\n",
    "            ans = md\n",
    "            low = md + 1\n",
    "        else:\n",
    "            high = md - 1\n",
    "    return ans + 1\n",
    "\n",
    "A = [   [1, 3, 5],\n",
    "        [2, 6, 9],\n",
    "        [3, 6, 9]   ] \n",
    "\n",
    "print(findMedian(A))"
   ]
  },
  {
   "cell_type": "code",
   "execution_count": null,
   "id": "4e5c21ea",
   "metadata": {},
   "outputs": [],
   "source": []
  },
  {
   "cell_type": "code",
   "execution_count": null,
   "id": "79b316af",
   "metadata": {},
   "outputs": [],
   "source": []
  },
  {
   "cell_type": "code",
   "execution_count": null,
   "id": "fbe374a6",
   "metadata": {},
   "outputs": [],
   "source": []
  },
  {
   "cell_type": "code",
   "execution_count": null,
   "id": "d28fc43a",
   "metadata": {},
   "outputs": [],
   "source": []
  }
 ],
 "metadata": {
  "kernelspec": {
   "display_name": "Python 3 (ipykernel)",
   "language": "python",
   "name": "python3"
  },
  "language_info": {
   "codemirror_mode": {
    "name": "ipython",
    "version": 3
   },
   "file_extension": ".py",
   "mimetype": "text/x-python",
   "name": "python",
   "nbconvert_exporter": "python",
   "pygments_lexer": "ipython3",
   "version": "3.10.0"
  }
 },
 "nbformat": 4,
 "nbformat_minor": 5
}
