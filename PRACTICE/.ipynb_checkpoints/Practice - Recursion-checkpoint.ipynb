{
 "cells": [
  {
   "cell_type": "code",
   "execution_count": 8,
   "id": "5066c753",
   "metadata": {},
   "outputs": [
    {
     "name": "stdout",
     "output_type": "stream",
     "text": [
      "Move Disk 1 from SRC to DEST\n",
      "Move Disk 2 from SRC to AUX\n",
      "Move Disk 1 from DEST to AUX\n",
      "Move Disk 3 from SRC to DEST\n",
      "Move Disk 1 from AUX to SRC\n",
      "Move Disk 2 from AUX to DEST\n",
      "Move Disk 1 from SRC to DEST\n"
     ]
    }
   ],
   "source": [
    "def towerOfHanoi(n):\n",
    "    # Write your code here\n",
    "    # Return a 2-D array\n",
    "    return _helperHanoi('SRC', 'DEST', 'AUX', n)\n",
    "\n",
    "def _helperHanoi(S, D, A, n):\n",
    "\n",
    "    if n == 1:\n",
    "        print('Move Disk 1 from ' + S + ' to ' + D)\n",
    "        return\n",
    "    \n",
    "    _helperHanoi(S, A, D, n - 1)\n",
    "    print('Move Disk ' + str(n) + ' from ' + S + ' to ' + D)\n",
    "    _helperHanoi(A, D, S, n - 1)\n",
    "    \n",
    "towerOfHanoi(3)"
   ]
  },
  {
   "cell_type": "code",
   "execution_count": 9,
   "id": "4c808834",
   "metadata": {},
   "outputs": [
    {
     "name": "stdout",
     "output_type": "stream",
     "text": [
      "[[1, 2], [1, 3], [2, 3], [1, 2], [3, 1], [3, 2], [1, 2]]\n"
     ]
    }
   ],
   "source": [
    "def towerOfHanoi(n):\n",
    "    # Write your code here\n",
    "    # Return a 2-D array\n",
    "    ans = []\n",
    "    _helperHanoi(1, 2, 3, n, ans)\n",
    "    return ans\n",
    "\n",
    "def _helperHanoi(S, D, A, n, ans):\n",
    "\n",
    "    if n == 1:\n",
    "        ans.append([S, D])\n",
    "#         print('Move Disk 1 from ' + S + ' to ' + D)\n",
    "        return\n",
    "    \n",
    "    _helperHanoi(S, A, D, n - 1, ans)\n",
    "    ans.append([S, D])\n",
    "#     print('Move Disk ' + str(n) + ' from ' + S + ' to ' + D)\n",
    "    _helperHanoi(A, D, S, n - 1, ans)\n",
    "    \n",
    "print(towerOfHanoi(3))\n",
    "\n",
    "\n",
    "# you can move the topmost disk from rod 1 to rod 2. Then move the remaining disk from rod1 to rod 3. \n",
    "# Now move the disk in rod 2 to rod 3. . \n",
    "# One of the correct ways to return the output is { { 1, 2 }, { 1, 3 }, { 2, 3 } }."
   ]
  },
  {
   "cell_type": "code",
   "execution_count": 19,
   "id": "761e95e8",
   "metadata": {},
   "outputs": [
    {
     "name": "stdout",
     "output_type": "stream",
     "text": [
      "12586269025\n"
     ]
    }
   ],
   "source": [
    "def countDistinctWayToClimbStair(nStairs):\n",
    "\n",
    "    #   Write your code here\n",
    "    dp = [-1 for _ in range(nStairs + 1)]\n",
    "    return _helperFunc(nStairs, dp)\n",
    "\n",
    "def _helperFunc(ind, dp):\n",
    "\n",
    "    if ind <= 1:\n",
    "        return 1\n",
    "    if dp[ind] != -1:\n",
    "        return dp[ind]\n",
    "    left = _helperFunc(ind - 1, dp)\n",
    "    right = _helperFunc(ind - 2, dp)\n",
    "    dp[ind] = left + right\n",
    "    return dp[ind]\n",
    "\n",
    "print(countDistinctWayToClimbStair(49))"
   ]
  },
  {
   "cell_type": "code",
   "execution_count": 21,
   "id": "e45fccc1",
   "metadata": {},
   "outputs": [
    {
     "name": "stdout",
     "output_type": "stream",
     "text": [
      "Yes\n"
     ]
    }
   ],
   "source": [
    "def combSum(ARR, B):\n",
    "\t# Write your code here\n",
    "\tans = []\n",
    "\t_helperComb(0, ARR, B, [], ans)\n",
    "\tif len(ans):\n",
    "\t\treturn 'Yes'\n",
    "\treturn 'No'\n",
    "\n",
    "def _helperComb(ind, arr, k, curr, ans):\n",
    "\n",
    "\tif k == 0:\n",
    "\t\tans.append(curr[:])\n",
    "\n",
    "\t\treturn\n",
    "\n",
    "\tif ind == len(arr):\n",
    "\t\tif k == 0:\n",
    "\t\t\tans.append(curr[:])\n",
    "\n",
    "\t\treturn\n",
    "\t\n",
    "\t_helperComb(ind + 1, arr, k, curr, ans)\n",
    "\tif arr[ind] <= k:\n",
    "\t\tcurr.append(arr[ind])\n",
    "\t\t_helperComb(ind, arr, k - arr[ind], curr, ans)\n",
    "\t\tcurr.pop()\n",
    "\n",
    "ARR = [1, 2, 3]\n",
    "B = 3\n",
    "print(combSum(ARR, B))"
   ]
  },
  {
   "cell_type": "code",
   "execution_count": 62,
   "id": "a58d05fd",
   "metadata": {},
   "outputs": [
    {
     "name": "stdout",
     "output_type": "stream",
     "text": [
      "[[1, 1, 6], [1, 2, 5], [1, 7], [2, 6]]\n"
     ]
    }
   ],
   "source": [
    "def combSum2(ARR, B):\n",
    "    # Write your code here\n",
    "    ARR.sort()\n",
    "    ans = []\n",
    "    _helperComb2(0, ARR, B, [], ans)\n",
    "    return ans\n",
    "\n",
    "def _helperComb2(ind, arr, k, curr, ans):\n",
    "    if k == 0:\n",
    "        ans.append(curr[:])\n",
    "        return\n",
    "\n",
    "    if ind == len(arr):\n",
    "        if k == 0:\n",
    "            ans.append(curr[:])\n",
    "        return\n",
    "    \n",
    "    for i in range(ind, len(arr)):\n",
    "        if i > ind and arr[i] == arr[i - 1]:\n",
    "            continue\n",
    "\n",
    "        if arr[i] <= k:\n",
    "            curr.append(arr[i])\n",
    "            _helperComb2(i + 1, arr, k - arr[i], curr, ans)\n",
    "            curr.pop()\n",
    "\n",
    "\n",
    "    \n",
    "\n",
    "ARR = [10,1,2,7,6,1,5]\n",
    "B = 8\n",
    "# ARR = [1,2,2,2,5]\n",
    "# B = 5\n",
    "# candidates = [10,1,2,7,6,1,5], target = 8\n",
    "print(combSum2(ARR, B))"
   ]
  },
  {
   "cell_type": "code",
   "execution_count": 71,
   "id": "5f5c09f8",
   "metadata": {},
   "outputs": [
    {
     "name": "stdout",
     "output_type": "stream",
     "text": [
      "0 []\n",
      "1 [1]\n",
      "2 [1, 2]\n",
      "3 [1, 2, 3]\n",
      "3 [1, 3]\n",
      "2 [1, 3, 2]\n",
      "2 [2]\n",
      "1 [2, 1]\n",
      "3 [2, 1, 3]\n",
      "3 [2, 3]\n",
      "1 [2, 3, 1]\n",
      "3 [3]\n",
      "1 [3, 1]\n",
      "2 [3, 1, 2]\n",
      "2 [3, 2]\n",
      "1 [3, 2, 1]\n",
      "[[1, 2, 3], [1, 3, 2], [2, 1, 3], [2, 3, 1], [3, 1, 2], [3, 2, 1]]\n"
     ]
    }
   ],
   "source": [
    "def permutations(vec, size):\n",
    "    # Write your code here.\n",
    "    ans = []\n",
    "    _helperFunc(0, vec, [], ans, size)\n",
    "    return ans\n",
    "\n",
    "def _helperFunc(ind, arr, curr, ans, n):\n",
    "\n",
    "    if len(curr) == n:\n",
    "        ans.append(curr.copy())\n",
    "        return\n",
    "\n",
    "    for i in range(0, n):\n",
    "        if arr[i] not in curr:\n",
    "            curr.append(arr[i])\n",
    "            _helperFunc(i + 1, arr, curr, ans, n)\n",
    "            curr.pop()\n",
    "            \n",
    "print(permutations([1,2,3], 3))"
   ]
  },
  {
   "cell_type": "markdown",
   "id": "2a30ddb6",
   "metadata": {},
   "source": [
    "    Input: n = 4\n",
    "    Output: [[\".Q..\",\"...Q\",\"Q...\",\"..Q.\"],[\"..Q.\",\"Q...\",\"...Q\",\".Q..\"]]\n",
    "    Explanation: There exist two distinct solutions to the 4-queens puzzle as shown above\n",
    "\n",
    "N Queens Problem"
   ]
  },
  {
   "cell_type": "code",
   "execution_count": 34,
   "id": "95b84d5e",
   "metadata": {},
   "outputs": [
    {
     "name": "stdout",
     "output_type": "stream",
     "text": [
      "[['..Q.', 'Q...', '...Q', '.Q..'], ['.Q..', '...Q', 'Q...', '..Q.']]\n"
     ]
    }
   ],
   "source": [
    "def solveNQueens(n):\n",
    "    ans = []\n",
    "    board = [['.' for i in range(n)] for j in range(n)]\n",
    "    solve(0, board, ans, n, n)\n",
    "    return ans\n",
    "    \n",
    "def solve(col, board, ans, n, k):\n",
    "    \n",
    "    if col == n:\n",
    "        if k == 0:\n",
    "            temp = []\n",
    "            for item in board:\n",
    "                temp.append(''.join(item))\n",
    "                \n",
    "            ans.append(temp.copy())\n",
    "        return\n",
    "    for row in range(0, n):\n",
    "        canPlace = canPlaceQ(row, col, board)\n",
    "        if canPlace:\n",
    "            board[row][col] = 'Q'\n",
    "            solve(col + 1, board, ans, n, k-1)\n",
    "            board[row][col] = '.'\n",
    "            \n",
    "def canPlaceQ(row, col, board):\n",
    "\n",
    "    for c in range(col):\n",
    "        if board[row][c] == 'Q':\n",
    "            return False\n",
    "        \n",
    "    i = row + 1\n",
    "    j = col - 1\n",
    "    while i < n and j >= 0:\n",
    "        if board[i][j] == 'Q':\n",
    "            return False\n",
    "        i += 1\n",
    "        j -= 1\n",
    "        \n",
    "    i = row - 1\n",
    "    j = col - 1\n",
    "    while i >= 0 and j >= 0:\n",
    "        if board[i][j] == 'Q':\n",
    "            return False\n",
    "        i -= 1\n",
    "        j -= 1\n",
    "        \n",
    "    return True\n",
    "    \n",
    "n = 4\n",
    "print(solveNQueens(n))"
   ]
  },
  {
   "cell_type": "markdown",
   "id": "e15986ef",
   "metadata": {},
   "source": [
    "        Input: board = [[\"5\",\"3\",\".\",\".\",\"7\",\".\",\".\",\".\",\".\"],[\"6\",\".\",\".\",\"1\",\"9\",\"5\",\".\",\".\",\".\"],[\".\",\"9\",\"8\",\".\",\".\",\".\",\".\",\"6\",\".\"],[\"8\",\".\",\".\",\".\",\"6\",\".\",\".\",\".\",\"3\"],[\"4\",\".\",\".\",\"8\",\".\",\"3\",\".\",\".\",\"1\"],[\"7\",\".\",\".\",\".\",\"2\",\".\",\".\",\".\",\"6\"],[\".\",\"6\",\".\",\".\",\".\",\".\",\"2\",\"8\",\".\"],[\".\",\".\",\".\",\"4\",\"1\",\"9\",\".\",\".\",\"5\"],[\".\",\".\",\".\",\".\",\"8\",\".\",\".\",\"7\",\"9\"]]\n",
    "        Output: [[\"5\",\"3\",\"4\",\"6\",\"7\",\"8\",\"9\",\"1\",\"2\"],[\"6\",\"7\",\"2\",\"1\",\"9\",\"5\",\"3\",\"4\",\"8\"],[\"1\",\"9\",\"8\",\"3\",\"4\",\"2\",\"5\",\"6\",\"7\"],[\"8\",\"5\",\"9\",\"7\",\"6\",\"1\",\"4\",\"2\",\"3\"],[\"4\",\"2\",\"6\",\"8\",\"5\",\"3\",\"7\",\"9\",\"1\"],[\"7\",\"1\",\"3\",\"9\",\"2\",\"4\",\"8\",\"5\",\"6\"],[\"9\",\"6\",\"1\",\"5\",\"3\",\"7\",\"2\",\"8\",\"4\"],[\"2\",\"8\",\"7\",\"4\",\"1\",\"9\",\"6\",\"3\",\"5\"],[\"3\",\"4\",\"5\",\"2\",\"8\",\"6\",\"1\",\"7\",\"9\"]]\n",
    "        Explanation: The input board is shown above and the only valid solution is shown below:"
   ]
  },
  {
   "cell_type": "code",
   "execution_count": 3,
   "id": "9f2d08bc",
   "metadata": {},
   "outputs": [
    {
     "name": "stdout",
     "output_type": "stream",
     "text": [
      "[['5', '3', '4', '6', '7', '8', '9', '1', '2'], ['6', '7', '2', '1', '9', '5', '3', '4', '8'], ['1', '9', '8', '3', '4', '2', '5', '6', '7'], ['8', '5', '9', '7', '6', '1', '4', '2', '3'], ['4', '2', '6', '8', '5', '3', '7', '9', '1'], ['7', '1', '3', '9', '2', '4', '8', '5', '6'], ['9', '6', '1', '5', '3', '7', '2', '8', '4'], ['2', '8', '7', '4', '1', '9', '6', '3', '5'], ['3', '4', '5', '2', '8', '6', '1', '7', '9']]\n"
     ]
    }
   ],
   "source": [
    "def solveSudoku(board):\n",
    "\n",
    "    for i in range(0, 9):\n",
    "        for j in range(0, 9):\n",
    "            if board[i][j] == \".\":\n",
    "                for num in range(1, 10):\n",
    "                    strN = str(num)\n",
    "                    if canPlace(strN, i, j, board):\n",
    "                        board[i][j] = strN\n",
    "                        if solveSudoku(board):\n",
    "                            return True\n",
    "                        board[i][j] = '.'\n",
    "                        \n",
    "                return False #This means tried all 1 to 9 but none of them can be placed so return False\n",
    "    return True\n",
    "\n",
    "def canPlace(strN, row, col, board):\n",
    "    for i in range(0, 9):\n",
    "        if board[row][i] == strN:\n",
    "            return False\n",
    "        if board[i][col] == strN:\n",
    "            return False\n",
    "        if board[3 * (row // 3) + (i // 3)][3 * (col // 3) + (i % 3)] == strN:\n",
    "            return False\n",
    "    return True\n",
    "\n",
    "board = [[\"5\",\"3\",\".\",\".\",\"7\",\".\",\".\",\".\",\".\"],[\"6\",\".\",\".\",\"1\",\"9\",\"5\",\".\",\".\",\".\"],[\".\",\"9\",\"8\",\".\",\".\",\".\",\".\",\"6\",\".\"],[\"8\",\".\",\".\",\".\",\"6\",\".\",\".\",\".\",\"3\"],[\"4\",\".\",\".\",\"8\",\".\",\"3\",\".\",\".\",\"1\"],[\"7\",\".\",\".\",\".\",\"2\",\".\",\".\",\".\",\"6\"],[\".\",\"6\",\".\",\".\",\".\",\".\",\"2\",\"8\",\".\"],[\".\",\".\",\".\",\"4\",\"1\",\"9\",\".\",\".\",\"5\"],[\".\",\".\",\".\",\".\",\"8\",\".\",\".\",\"7\",\"9\"]]\n",
    "\n",
    "solveSudoku(board)\n",
    "print(board)"
   ]
  },
  {
   "cell_type": "code",
   "execution_count": 44,
   "id": "b5932564",
   "metadata": {},
   "outputs": [
    {
     "name": "stdout",
     "output_type": "stream",
     "text": [
      "5\n",
      "2\n",
      "1\n",
      "1\n",
      "1\n",
      "2\n",
      "1\n",
      "1\n",
      "1\n",
      "[0, 1, 1, 2, 5, 6, 8, 8, 33, 66]\n",
      "[5, 8, 2, 0, 6, 1, 66, 33, 8, 1]\n",
      "ERROR! Session/line number was not unique in database. History logging moved to new session 273\n"
     ]
    }
   ],
   "source": [
    "def merge(left, right):\n",
    "    i = 0\n",
    "    j = 0\n",
    "    k = 0\n",
    "    \n",
    "    n1 = len(left)\n",
    "    n2 = len(right)\n",
    "    res = [0 for _ in range(n1 + n2)]\n",
    "    \n",
    "    while i < n1 and j < n2:\n",
    "        if left[i] < right[j]:\n",
    "            res[k] = left[i]\n",
    "            i += 1\n",
    "        else:\n",
    "            res[k] = right[j]\n",
    "            j += 1\n",
    "        k += 1\n",
    "    while i < n1:\n",
    "        res[k] = left[i]\n",
    "        k += 1\n",
    "        i += 1\n",
    "        \n",
    "    while j < n2:\n",
    "        res[k] = right[j]\n",
    "        k += 1\n",
    "        j += 1\n",
    "    return res\n",
    "        \n",
    "\n",
    "def mergeSort(arr):\n",
    "    if len(arr) == 1:\n",
    "        return arr\n",
    "    mid = len(arr) // 2\n",
    "    print(mid)\n",
    "    left = mergeSort(arr[:mid])\n",
    "\n",
    "    right = mergeSort(arr[mid:])\n",
    "\n",
    "    return merge(left, right)\n",
    "\n",
    "arr = [5,8,2,0,6,1,66,33,8,1]\n",
    "# arr = [5,4,3,2,1]\n",
    "print(mergeSort(arr))\n",
    "print(arr)"
   ]
  },
  {
   "cell_type": "code",
   "execution_count": null,
   "id": "aaf707fd",
   "metadata": {},
   "outputs": [],
   "source": [
    "def mergeSort2(si, ei, arr):\n",
    "    if si >= ei:\n",
    "        return\n",
    "    \n",
    "    mid =  si + (ei - si) // 2\n",
    "    mergeSort2(si, mid, arr)\n",
    "    mergeSort2(mid + 1, ei, arr)\n",
    "    \n",
    "    mergeList(si, ei, mid, arr)\n",
    "    \n",
    "def mergeList(si, ei, mid, arr):\n",
    "    left = []\n",
    "    for i in range(si, mid + 1):\n",
    "        left.append(arr[i])\n",
    "        \n",
    "    right = []\n",
    "    for j in range(mid + 1, ei + 1):\n",
    "        right.append(arr[j])\n",
    "        \n",
    "    n1 = len(left)\n",
    "    n2 = len(right)\n",
    "    k = si\n",
    "    i = 0\n",
    "    j = 0\n",
    "    while i < n1 and j < n2:\n",
    "        if left[i] < right[j]:\n",
    "            arr[k] = left[i]\n",
    "            i += 1\n",
    "        else:\n",
    "            arr[k] = right[j]\n",
    "            j += 1\n",
    "        k += 1\n",
    "    while i < n1:\n",
    "        arr[k] = left[i]\n",
    "        k += 1\n",
    "        i += 1\n",
    "        \n",
    "    while j < n2:\n",
    "        arr[k] = right[j]\n",
    "        k += 1\n",
    "        j += 1\n",
    "    \n",
    "    \n",
    "arr = [5,8,2,0,6,1,66,33,8,1]\n",
    "# arr = [3,1,0,2,1,6]\n",
    "print(mergeSort2(0, len(arr) - 1, arr))\n",
    "print(arr)\n",
    "    \n"
   ]
  },
  {
   "cell_type": "code",
   "execution_count": null,
   "id": "d9c4ef90",
   "metadata": {},
   "outputs": [],
   "source": [
    "def quickSort(si, ei, arr):\n",
    "    \n",
    "    if si >= ei:\n",
    "        \n",
    "    "
   ]
  }
 ],
 "metadata": {
  "kernelspec": {
   "display_name": "Python 3 (ipykernel)",
   "language": "python",
   "name": "python3"
  },
  "language_info": {
   "codemirror_mode": {
    "name": "ipython",
    "version": 3
   },
   "file_extension": ".py",
   "mimetype": "text/x-python",
   "name": "python",
   "nbconvert_exporter": "python",
   "pygments_lexer": "ipython3",
   "version": "3.10.0"
  }
 },
 "nbformat": 4,
 "nbformat_minor": 5
}
