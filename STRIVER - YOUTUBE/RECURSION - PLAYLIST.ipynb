{
 "cells": [
  {
   "cell_type": "markdown",
   "id": "14e15f0d",
   "metadata": {},
   "source": [
    "### Take and No_Take method"
   ]
  },
  {
   "cell_type": "markdown",
   "id": "f1a3ff5e",
   "metadata": {},
   "source": [
    "#### print all subsequences"
   ]
  },
  {
   "cell_type": "code",
   "execution_count": 7,
   "id": "5a0c3d8b",
   "metadata": {},
   "outputs": [
    {
     "name": "stdout",
     "output_type": "stream",
     "text": [
      "[3, 1, 2]\n",
      "[3, 1]\n",
      "[3, 2]\n",
      "[3]\n",
      "[1, 2]\n",
      "[1]\n",
      "[2]\n",
      "[]\n"
     ]
    }
   ],
   "source": [
    "def printSubsequence(ind, arr, inp):\n",
    "    \n",
    "    if ind >= len(inp):\n",
    "        print(arr)\n",
    "        return\n",
    "    \n",
    "    arr.append(inp[ind]) \n",
    "    printSubsequence(ind + 1, arr, inp)\n",
    "    \n",
    "    arr.pop(-1)\n",
    "    printSubsequence(ind + 1, arr, inp)\n",
    "    \n",
    "inp = [3, 1, 2]\n",
    "printSubsequence(0, [], inp)"
   ]
  },
  {
   "cell_type": "code",
   "execution_count": 8,
   "id": "ce2369b0",
   "metadata": {},
   "outputs": [
    {
     "name": "stdout",
     "output_type": "stream",
     "text": [
      "\n",
      "c\n",
      "b\n",
      "bc\n",
      "a\n",
      "ac\n",
      "ab\n",
      "abc\n"
     ]
    }
   ],
   "source": [
    "def subset1(p, up):\n",
    "    if len(up) == 0:\n",
    "        print(p)\n",
    "        return \n",
    "    \n",
    "    ch = up[0]\n",
    "    \n",
    "    subset1(p, up[1:])\n",
    "    subset1(p+ch, up[1:])\n",
    "    \n",
    "subset1('','abc')"
   ]
  },
  {
   "cell_type": "markdown",
   "id": "9ad15b45",
   "metadata": {},
   "source": [
    "#### printing subsequences whose sum in k\n"
   ]
  },
  {
   "cell_type": "code",
   "execution_count": 15,
   "id": "8151b011",
   "metadata": {},
   "outputs": [
    {
     "name": "stdout",
     "output_type": "stream",
     "text": [
      "[1, 2, 1]\n"
     ]
    }
   ],
   "source": [
    "def printSeqSum(ind, arr, inp, lsum, target):\n",
    "    if ind >= len(inp):\n",
    "        if lsum == target:\n",
    "            print(arr)\n",
    "        return\n",
    "    \n",
    "    lsum = lsum + inp[ind]\n",
    "    arr.append(inp[ind]) \n",
    "    printSeqSum(ind + 1, arr, inp, lsum, target)\n",
    "    \n",
    "    \n",
    "    lsum = lsum - inp[ind]\n",
    "    arr.pop(-1)\n",
    "    printSeqSum(ind + 1, arr, inp, lsum, target)\n",
    "\n",
    "inp = [1, 2, 1]\n",
    "printSeqSum(0, [], inp, 0, 4)\n",
    "    \n",
    "    "
   ]
  },
  {
   "cell_type": "markdown",
   "id": "5f6b6777",
   "metadata": {},
   "source": [
    "### Pattern 1: Return the first matching condition"
   ]
  },
  {
   "cell_type": "code",
   "execution_count": 16,
   "id": "7906d09c",
   "metadata": {},
   "outputs": [
    {
     "name": "stdout",
     "output_type": "stream",
     "text": [
      "[1, 1]\n"
     ]
    },
    {
     "data": {
      "text/plain": [
       "True"
      ]
     },
     "execution_count": 16,
     "metadata": {},
     "output_type": "execute_result"
    }
   ],
   "source": [
    "def printSeqSumFirst(ind, arr, inp, lsum, target):\n",
    "    if ind >= len(inp):\n",
    "        if lsum == target:\n",
    "            print(arr)\n",
    "            return True\n",
    "        return False\n",
    "    \n",
    "    lsum = lsum + inp[ind]\n",
    "    arr.append(inp[ind]) \n",
    "    if printSeqSumFirst(ind + 1, arr, inp, lsum, target) == True:\n",
    "        return True\n",
    "      \n",
    "    \n",
    "    lsum = lsum - inp[ind]\n",
    "    arr.pop(-1)\n",
    "    if printSeqSumFirst(ind + 1, arr, inp, lsum, target) == True:\n",
    "        return True\n",
    "    return False\n",
    "\n",
    "inp = [1, 2, 1]\n",
    "printSeqSumFirst(0, [], inp, 0, 2)"
   ]
  },
  {
   "cell_type": "markdown",
   "id": "74a94170",
   "metadata": {},
   "source": [
    "### Pattern 2: Return the count of matching condition"
   ]
  },
  {
   "cell_type": "code",
   "execution_count": 22,
   "id": "dd2ca91f",
   "metadata": {},
   "outputs": [
    {
     "data": {
      "text/plain": [
       "2"
      ]
     },
     "execution_count": 22,
     "metadata": {},
     "output_type": "execute_result"
    }
   ],
   "source": [
    "def printSeqSumCount(ind, arr, inp, lsum, target):\n",
    "    if ind >= len(inp):\n",
    "        if lsum == target:\n",
    "#             print(arr)\n",
    "            return 1\n",
    "        return 0\n",
    "    \n",
    "    lsum = lsum + inp[ind]\n",
    "    arr.append(inp[ind]) \n",
    "    left = printSeqSumCount(ind + 1, arr, inp, lsum, target)\n",
    "    \n",
    "    lsum = lsum - inp[ind]\n",
    "    arr.pop(-1)\n",
    "    right = printSeqSumCount(ind + 1, arr, inp, lsum, target)\n",
    "    return left + right\n",
    "\n",
    "inp = [1, 2, 1]\n",
    "printSeqSumCount(0, [], inp, 0, 3)"
   ]
  },
  {
   "cell_type": "markdown",
   "id": "f956fb9b",
   "metadata": {},
   "source": [
    "### L8. Combination Sum | Recursion | Leetcode\n",
    "\n",
    "    Input: candidates = [2,3,6,7], target = 7\n",
    "    Output: [[2,2,3],[7]]"
   ]
  },
  {
   "cell_type": "code",
   "execution_count": 60,
   "id": "1778fa07",
   "metadata": {},
   "outputs": [
    {
     "ename": "UnboundLocalError",
     "evalue": "local variable 'left' referenced before assignment",
     "output_type": "error",
     "traceback": [
      "\u001b[1;31m---------------------------------------------------------------------------\u001b[0m",
      "\u001b[1;31mUnboundLocalError\u001b[0m                         Traceback (most recent call last)",
      "\u001b[1;32m~\\AppData\\Local\\Temp/ipykernel_16508/537283751.py\u001b[0m in \u001b[0;36m<module>\u001b[1;34m\u001b[0m\n\u001b[0;32m     26\u001b[0m \u001b[0mtarget\u001b[0m \u001b[1;33m=\u001b[0m \u001b[1;36m7\u001b[0m\u001b[1;33m\u001b[0m\u001b[1;33m\u001b[0m\u001b[0m\n\u001b[0;32m     27\u001b[0m \u001b[1;33m\u001b[0m\u001b[0m\n\u001b[1;32m---> 28\u001b[1;33m \u001b[0mcombinationSum\u001b[0m\u001b[1;33m(\u001b[0m\u001b[0mcandidates\u001b[0m\u001b[1;33m,\u001b[0m \u001b[0mtarget\u001b[0m\u001b[1;33m)\u001b[0m\u001b[1;33m\u001b[0m\u001b[1;33m\u001b[0m\u001b[0m\n\u001b[0m\u001b[0;32m     29\u001b[0m \u001b[1;33m\u001b[0m\u001b[0m\n",
      "\u001b[1;32m~\\AppData\\Local\\Temp/ipykernel_16508/537283751.py\u001b[0m in \u001b[0;36mcombinationSum\u001b[1;34m(candidates, target)\u001b[0m\n\u001b[0;32m      2\u001b[0m     \u001b[0mN\u001b[0m \u001b[1;33m=\u001b[0m \u001b[0mlen\u001b[0m\u001b[1;33m(\u001b[0m\u001b[0mcandidates\u001b[0m\u001b[1;33m)\u001b[0m\u001b[1;33m\u001b[0m\u001b[1;33m\u001b[0m\u001b[0m\n\u001b[0;32m      3\u001b[0m \u001b[1;33m\u001b[0m\u001b[0m\n\u001b[1;32m----> 4\u001b[1;33m     \u001b[1;32mreturn\u001b[0m \u001b[0m_helperCombinationSum\u001b[0m\u001b[1;33m(\u001b[0m\u001b[0mcandidates\u001b[0m\u001b[1;33m,\u001b[0m \u001b[0mtarget\u001b[0m\u001b[1;33m,\u001b[0m \u001b[0mN\u001b[0m\u001b[1;33m,\u001b[0m \u001b[1;36m0\u001b[0m\u001b[1;33m,\u001b[0m \u001b[1;33m[\u001b[0m\u001b[1;33m]\u001b[0m\u001b[1;33m)\u001b[0m\u001b[1;33m\u001b[0m\u001b[1;33m\u001b[0m\u001b[0m\n\u001b[0m\u001b[0;32m      5\u001b[0m \u001b[1;33m\u001b[0m\u001b[0m\n\u001b[0;32m      6\u001b[0m \u001b[1;32mdef\u001b[0m \u001b[0m_helperCombinationSum\u001b[0m\u001b[1;33m(\u001b[0m\u001b[0mcandidates\u001b[0m\u001b[1;33m,\u001b[0m \u001b[0mtarget\u001b[0m\u001b[1;33m,\u001b[0m \u001b[0mN\u001b[0m\u001b[1;33m,\u001b[0m \u001b[0mind\u001b[0m\u001b[1;33m,\u001b[0m \u001b[0mds\u001b[0m\u001b[1;33m)\u001b[0m\u001b[1;33m:\u001b[0m\u001b[1;33m\u001b[0m\u001b[1;33m\u001b[0m\u001b[0m\n",
      "\u001b[1;32m~\\AppData\\Local\\Temp/ipykernel_16508/537283751.py\u001b[0m in \u001b[0;36m_helperCombinationSum\u001b[1;34m(candidates, target, N, ind, ds)\u001b[0m\n\u001b[0;32m     16\u001b[0m         \u001b[0mtarget\u001b[0m \u001b[1;33m=\u001b[0m \u001b[0mtarget\u001b[0m \u001b[1;33m-\u001b[0m \u001b[0mcandidates\u001b[0m\u001b[1;33m[\u001b[0m\u001b[0mind\u001b[0m\u001b[1;33m]\u001b[0m\u001b[1;33m\u001b[0m\u001b[1;33m\u001b[0m\u001b[0m\n\u001b[0;32m     17\u001b[0m         \u001b[0mds\u001b[0m\u001b[1;33m.\u001b[0m\u001b[0mappend\u001b[0m\u001b[1;33m(\u001b[0m\u001b[0mcandidates\u001b[0m\u001b[1;33m[\u001b[0m\u001b[0mind\u001b[0m\u001b[1;33m]\u001b[0m\u001b[1;33m)\u001b[0m\u001b[1;33m\u001b[0m\u001b[1;33m\u001b[0m\u001b[0m\n\u001b[1;32m---> 18\u001b[1;33m         \u001b[0mleft\u001b[0m \u001b[1;33m=\u001b[0m \u001b[0m_helperCombinationSum\u001b[0m\u001b[1;33m(\u001b[0m\u001b[0mcandidates\u001b[0m\u001b[1;33m,\u001b[0m \u001b[0mtarget\u001b[0m\u001b[1;33m,\u001b[0m \u001b[0mN\u001b[0m\u001b[1;33m,\u001b[0m \u001b[0mind\u001b[0m\u001b[1;33m,\u001b[0m \u001b[0mds\u001b[0m\u001b[1;33m)\u001b[0m\u001b[1;33m\u001b[0m\u001b[1;33m\u001b[0m\u001b[0m\n\u001b[0m\u001b[0;32m     19\u001b[0m         \u001b[0mds\u001b[0m\u001b[1;33m.\u001b[0m\u001b[0mpop\u001b[0m\u001b[1;33m(\u001b[0m\u001b[1;33m)\u001b[0m\u001b[1;33m\u001b[0m\u001b[1;33m\u001b[0m\u001b[0m\n\u001b[0;32m     20\u001b[0m         \u001b[0mtarget\u001b[0m \u001b[1;33m=\u001b[0m \u001b[0mtarget\u001b[0m \u001b[1;33m+\u001b[0m \u001b[0mcandidates\u001b[0m\u001b[1;33m[\u001b[0m\u001b[0mind\u001b[0m\u001b[1;33m]\u001b[0m\u001b[1;33m\u001b[0m\u001b[1;33m\u001b[0m\u001b[0m\n",
      "\u001b[1;32m~\\AppData\\Local\\Temp/ipykernel_16508/537283751.py\u001b[0m in \u001b[0;36m_helperCombinationSum\u001b[1;34m(candidates, target, N, ind, ds)\u001b[0m\n\u001b[0;32m     16\u001b[0m         \u001b[0mtarget\u001b[0m \u001b[1;33m=\u001b[0m \u001b[0mtarget\u001b[0m \u001b[1;33m-\u001b[0m \u001b[0mcandidates\u001b[0m\u001b[1;33m[\u001b[0m\u001b[0mind\u001b[0m\u001b[1;33m]\u001b[0m\u001b[1;33m\u001b[0m\u001b[1;33m\u001b[0m\u001b[0m\n\u001b[0;32m     17\u001b[0m         \u001b[0mds\u001b[0m\u001b[1;33m.\u001b[0m\u001b[0mappend\u001b[0m\u001b[1;33m(\u001b[0m\u001b[0mcandidates\u001b[0m\u001b[1;33m[\u001b[0m\u001b[0mind\u001b[0m\u001b[1;33m]\u001b[0m\u001b[1;33m)\u001b[0m\u001b[1;33m\u001b[0m\u001b[1;33m\u001b[0m\u001b[0m\n\u001b[1;32m---> 18\u001b[1;33m         \u001b[0mleft\u001b[0m \u001b[1;33m=\u001b[0m \u001b[0m_helperCombinationSum\u001b[0m\u001b[1;33m(\u001b[0m\u001b[0mcandidates\u001b[0m\u001b[1;33m,\u001b[0m \u001b[0mtarget\u001b[0m\u001b[1;33m,\u001b[0m \u001b[0mN\u001b[0m\u001b[1;33m,\u001b[0m \u001b[0mind\u001b[0m\u001b[1;33m,\u001b[0m \u001b[0mds\u001b[0m\u001b[1;33m)\u001b[0m\u001b[1;33m\u001b[0m\u001b[1;33m\u001b[0m\u001b[0m\n\u001b[0m\u001b[0;32m     19\u001b[0m         \u001b[0mds\u001b[0m\u001b[1;33m.\u001b[0m\u001b[0mpop\u001b[0m\u001b[1;33m(\u001b[0m\u001b[1;33m)\u001b[0m\u001b[1;33m\u001b[0m\u001b[1;33m\u001b[0m\u001b[0m\n\u001b[0;32m     20\u001b[0m         \u001b[0mtarget\u001b[0m \u001b[1;33m=\u001b[0m \u001b[0mtarget\u001b[0m \u001b[1;33m+\u001b[0m \u001b[0mcandidates\u001b[0m\u001b[1;33m[\u001b[0m\u001b[0mind\u001b[0m\u001b[1;33m]\u001b[0m\u001b[1;33m\u001b[0m\u001b[1;33m\u001b[0m\u001b[0m\n",
      "\u001b[1;32m~\\AppData\\Local\\Temp/ipykernel_16508/537283751.py\u001b[0m in \u001b[0;36m_helperCombinationSum\u001b[1;34m(candidates, target, N, ind, ds)\u001b[0m\n\u001b[0;32m     16\u001b[0m         \u001b[0mtarget\u001b[0m \u001b[1;33m=\u001b[0m \u001b[0mtarget\u001b[0m \u001b[1;33m-\u001b[0m \u001b[0mcandidates\u001b[0m\u001b[1;33m[\u001b[0m\u001b[0mind\u001b[0m\u001b[1;33m]\u001b[0m\u001b[1;33m\u001b[0m\u001b[1;33m\u001b[0m\u001b[0m\n\u001b[0;32m     17\u001b[0m         \u001b[0mds\u001b[0m\u001b[1;33m.\u001b[0m\u001b[0mappend\u001b[0m\u001b[1;33m(\u001b[0m\u001b[0mcandidates\u001b[0m\u001b[1;33m[\u001b[0m\u001b[0mind\u001b[0m\u001b[1;33m]\u001b[0m\u001b[1;33m)\u001b[0m\u001b[1;33m\u001b[0m\u001b[1;33m\u001b[0m\u001b[0m\n\u001b[1;32m---> 18\u001b[1;33m         \u001b[0mleft\u001b[0m \u001b[1;33m=\u001b[0m \u001b[0m_helperCombinationSum\u001b[0m\u001b[1;33m(\u001b[0m\u001b[0mcandidates\u001b[0m\u001b[1;33m,\u001b[0m \u001b[0mtarget\u001b[0m\u001b[1;33m,\u001b[0m \u001b[0mN\u001b[0m\u001b[1;33m,\u001b[0m \u001b[0mind\u001b[0m\u001b[1;33m,\u001b[0m \u001b[0mds\u001b[0m\u001b[1;33m)\u001b[0m\u001b[1;33m\u001b[0m\u001b[1;33m\u001b[0m\u001b[0m\n\u001b[0m\u001b[0;32m     19\u001b[0m         \u001b[0mds\u001b[0m\u001b[1;33m.\u001b[0m\u001b[0mpop\u001b[0m\u001b[1;33m(\u001b[0m\u001b[1;33m)\u001b[0m\u001b[1;33m\u001b[0m\u001b[1;33m\u001b[0m\u001b[0m\n\u001b[0;32m     20\u001b[0m         \u001b[0mtarget\u001b[0m \u001b[1;33m=\u001b[0m \u001b[0mtarget\u001b[0m \u001b[1;33m+\u001b[0m \u001b[0mcandidates\u001b[0m\u001b[1;33m[\u001b[0m\u001b[0mind\u001b[0m\u001b[1;33m]\u001b[0m\u001b[1;33m\u001b[0m\u001b[1;33m\u001b[0m\u001b[0m\n",
      "\u001b[1;32m~\\AppData\\Local\\Temp/ipykernel_16508/537283751.py\u001b[0m in \u001b[0;36m_helperCombinationSum\u001b[1;34m(candidates, target, N, ind, ds)\u001b[0m\n\u001b[0;32m     20\u001b[0m         \u001b[0mtarget\u001b[0m \u001b[1;33m=\u001b[0m \u001b[0mtarget\u001b[0m \u001b[1;33m+\u001b[0m \u001b[0mcandidates\u001b[0m\u001b[1;33m[\u001b[0m\u001b[0mind\u001b[0m\u001b[1;33m]\u001b[0m\u001b[1;33m\u001b[0m\u001b[1;33m\u001b[0m\u001b[0m\n\u001b[0;32m     21\u001b[0m \u001b[1;33m\u001b[0m\u001b[0m\n\u001b[1;32m---> 22\u001b[1;33m     \u001b[0mright\u001b[0m \u001b[1;33m=\u001b[0m \u001b[0m_helperCombinationSum\u001b[0m\u001b[1;33m(\u001b[0m\u001b[0mcandidates\u001b[0m\u001b[1;33m,\u001b[0m \u001b[0mtarget\u001b[0m\u001b[1;33m,\u001b[0m \u001b[0mN\u001b[0m\u001b[1;33m,\u001b[0m \u001b[0mind\u001b[0m \u001b[1;33m+\u001b[0m \u001b[1;36m1\u001b[0m\u001b[1;33m,\u001b[0m \u001b[0mds\u001b[0m\u001b[1;33m)\u001b[0m\u001b[1;33m\u001b[0m\u001b[1;33m\u001b[0m\u001b[0m\n\u001b[0m\u001b[0;32m     23\u001b[0m     \u001b[1;32mreturn\u001b[0m \u001b[0mleft\u001b[0m\u001b[1;33m.\u001b[0m\u001b[0mconcat\u001b[0m\u001b[1;33m(\u001b[0m\u001b[0mright\u001b[0m\u001b[1;33m)\u001b[0m\u001b[1;33m\u001b[0m\u001b[1;33m\u001b[0m\u001b[0m\n\u001b[0;32m     24\u001b[0m \u001b[1;33m\u001b[0m\u001b[0m\n",
      "\u001b[1;32m~\\AppData\\Local\\Temp/ipykernel_16508/537283751.py\u001b[0m in \u001b[0;36m_helperCombinationSum\u001b[1;34m(candidates, target, N, ind, ds)\u001b[0m\n\u001b[0;32m     20\u001b[0m         \u001b[0mtarget\u001b[0m \u001b[1;33m=\u001b[0m \u001b[0mtarget\u001b[0m \u001b[1;33m+\u001b[0m \u001b[0mcandidates\u001b[0m\u001b[1;33m[\u001b[0m\u001b[0mind\u001b[0m\u001b[1;33m]\u001b[0m\u001b[1;33m\u001b[0m\u001b[1;33m\u001b[0m\u001b[0m\n\u001b[0;32m     21\u001b[0m \u001b[1;33m\u001b[0m\u001b[0m\n\u001b[1;32m---> 22\u001b[1;33m     \u001b[0mright\u001b[0m \u001b[1;33m=\u001b[0m \u001b[0m_helperCombinationSum\u001b[0m\u001b[1;33m(\u001b[0m\u001b[0mcandidates\u001b[0m\u001b[1;33m,\u001b[0m \u001b[0mtarget\u001b[0m\u001b[1;33m,\u001b[0m \u001b[0mN\u001b[0m\u001b[1;33m,\u001b[0m \u001b[0mind\u001b[0m \u001b[1;33m+\u001b[0m \u001b[1;36m1\u001b[0m\u001b[1;33m,\u001b[0m \u001b[0mds\u001b[0m\u001b[1;33m)\u001b[0m\u001b[1;33m\u001b[0m\u001b[1;33m\u001b[0m\u001b[0m\n\u001b[0m\u001b[0;32m     23\u001b[0m     \u001b[1;32mreturn\u001b[0m \u001b[0mleft\u001b[0m\u001b[1;33m.\u001b[0m\u001b[0mconcat\u001b[0m\u001b[1;33m(\u001b[0m\u001b[0mright\u001b[0m\u001b[1;33m)\u001b[0m\u001b[1;33m\u001b[0m\u001b[1;33m\u001b[0m\u001b[0m\n\u001b[0;32m     24\u001b[0m \u001b[1;33m\u001b[0m\u001b[0m\n",
      "\u001b[1;32m~\\AppData\\Local\\Temp/ipykernel_16508/537283751.py\u001b[0m in \u001b[0;36m_helperCombinationSum\u001b[1;34m(candidates, target, N, ind, ds)\u001b[0m\n\u001b[0;32m     20\u001b[0m         \u001b[0mtarget\u001b[0m \u001b[1;33m=\u001b[0m \u001b[0mtarget\u001b[0m \u001b[1;33m+\u001b[0m \u001b[0mcandidates\u001b[0m\u001b[1;33m[\u001b[0m\u001b[0mind\u001b[0m\u001b[1;33m]\u001b[0m\u001b[1;33m\u001b[0m\u001b[1;33m\u001b[0m\u001b[0m\n\u001b[0;32m     21\u001b[0m \u001b[1;33m\u001b[0m\u001b[0m\n\u001b[1;32m---> 22\u001b[1;33m     \u001b[0mright\u001b[0m \u001b[1;33m=\u001b[0m \u001b[0m_helperCombinationSum\u001b[0m\u001b[1;33m(\u001b[0m\u001b[0mcandidates\u001b[0m\u001b[1;33m,\u001b[0m \u001b[0mtarget\u001b[0m\u001b[1;33m,\u001b[0m \u001b[0mN\u001b[0m\u001b[1;33m,\u001b[0m \u001b[0mind\u001b[0m \u001b[1;33m+\u001b[0m \u001b[1;36m1\u001b[0m\u001b[1;33m,\u001b[0m \u001b[0mds\u001b[0m\u001b[1;33m)\u001b[0m\u001b[1;33m\u001b[0m\u001b[1;33m\u001b[0m\u001b[0m\n\u001b[0m\u001b[0;32m     23\u001b[0m     \u001b[1;32mreturn\u001b[0m \u001b[0mleft\u001b[0m\u001b[1;33m.\u001b[0m\u001b[0mconcat\u001b[0m\u001b[1;33m(\u001b[0m\u001b[0mright\u001b[0m\u001b[1;33m)\u001b[0m\u001b[1;33m\u001b[0m\u001b[1;33m\u001b[0m\u001b[0m\n\u001b[0;32m     24\u001b[0m \u001b[1;33m\u001b[0m\u001b[0m\n",
      "\u001b[1;32m~\\AppData\\Local\\Temp/ipykernel_16508/537283751.py\u001b[0m in \u001b[0;36m_helperCombinationSum\u001b[1;34m(candidates, target, N, ind, ds)\u001b[0m\n\u001b[0;32m     21\u001b[0m \u001b[1;33m\u001b[0m\u001b[0m\n\u001b[0;32m     22\u001b[0m     \u001b[0mright\u001b[0m \u001b[1;33m=\u001b[0m \u001b[0m_helperCombinationSum\u001b[0m\u001b[1;33m(\u001b[0m\u001b[0mcandidates\u001b[0m\u001b[1;33m,\u001b[0m \u001b[0mtarget\u001b[0m\u001b[1;33m,\u001b[0m \u001b[0mN\u001b[0m\u001b[1;33m,\u001b[0m \u001b[0mind\u001b[0m \u001b[1;33m+\u001b[0m \u001b[1;36m1\u001b[0m\u001b[1;33m,\u001b[0m \u001b[0mds\u001b[0m\u001b[1;33m)\u001b[0m\u001b[1;33m\u001b[0m\u001b[1;33m\u001b[0m\u001b[0m\n\u001b[1;32m---> 23\u001b[1;33m     \u001b[1;32mreturn\u001b[0m \u001b[0mleft\u001b[0m\u001b[1;33m.\u001b[0m\u001b[0mconcat\u001b[0m\u001b[1;33m(\u001b[0m\u001b[0mright\u001b[0m\u001b[1;33m)\u001b[0m\u001b[1;33m\u001b[0m\u001b[1;33m\u001b[0m\u001b[0m\n\u001b[0m\u001b[0;32m     24\u001b[0m \u001b[1;33m\u001b[0m\u001b[0m\n\u001b[0;32m     25\u001b[0m \u001b[0mcandidates\u001b[0m \u001b[1;33m=\u001b[0m \u001b[1;33m[\u001b[0m\u001b[1;36m2\u001b[0m\u001b[1;33m,\u001b[0m\u001b[1;36m3\u001b[0m\u001b[1;33m,\u001b[0m\u001b[1;36m6\u001b[0m\u001b[1;33m,\u001b[0m\u001b[1;36m7\u001b[0m\u001b[1;33m]\u001b[0m\u001b[1;33m\u001b[0m\u001b[1;33m\u001b[0m\u001b[0m\n",
      "\u001b[1;31mUnboundLocalError\u001b[0m: local variable 'left' referenced before assignment"
     ]
    }
   ],
   "source": [
    "def combinationSum(candidates, target):\n",
    "    N = len(candidates)\n",
    "    \n",
    "    return _helperCombinationSum(candidates, target, N, 0, [])\n",
    "\n",
    "def _helperCombinationSum(candidates, target, N, ind, ds):\n",
    "    \n",
    "    if ind == N:\n",
    "        if target == 0:\n",
    "#             print(ds)\n",
    "            return ds\n",
    "        else:\n",
    "            return []\n",
    "    \n",
    "    if candidates[ind] <= target:\n",
    "        target = target - candidates[ind]\n",
    "        ds.append(candidates[ind])\n",
    "        left = _helperCombinationSum(candidates, target, N, ind, ds)\n",
    "        ds.pop()\n",
    "        target = target + candidates[ind]\n",
    "\n",
    "    right = _helperCombinationSum(candidates, target, N, ind + 1, ds)\n",
    "    return left.concat(right)\n",
    "\n",
    "candidates = [2,3,6,7]\n",
    "target = 7\n",
    "\n",
    "combinationSum(candidates, target)\n",
    "    "
   ]
  },
  {
   "cell_type": "code",
   "execution_count": 54,
   "id": "7049ca04",
   "metadata": {},
   "outputs": [
    {
     "data": {
      "text/plain": [
       "3"
      ]
     },
     "execution_count": 54,
     "metadata": {},
     "output_type": "execute_result"
    }
   ],
   "source": [
    "arr = [1,2,3]\n",
    "arr.pop(-1)"
   ]
  },
  {
   "cell_type": "code",
   "execution_count": 65,
   "id": "ea6f594b",
   "metadata": {},
   "outputs": [
    {
     "name": "stdout",
     "output_type": "stream",
     "text": [
      "DS [2, 2, 3]\n",
      "DS [7]\n"
     ]
    },
    {
     "data": {
      "text/plain": [
       "[]"
      ]
     },
     "execution_count": 65,
     "metadata": {},
     "output_type": "execute_result"
    }
   ],
   "source": [
    "\n",
    "def combinationSum(candidates, target):\n",
    "    ans = []\n",
    "    _helperFun(candidates, target, 0, [], ans)\n",
    "    return ans\n",
    "\n",
    "def _helperFun(candidates, target, ind, ds, ans):\n",
    "    if ind >= len(candidates):\n",
    "        if target == 0:\n",
    "            print('DS',ds)\n",
    "            return\n",
    "        return \n",
    "\n",
    "    if candidates[ind] <= target:\n",
    "        ds.append(candidates[ind])\n",
    "        target = target - candidates[ind]\n",
    "        _helperFun(candidates, target, ind, ds, ans)\n",
    "        target = target + candidates[ind]\n",
    "        ds.pop()\n",
    "\n",
    "    _helperFun(candidates, target, ind + 1, ds, ans)\n",
    "\n",
    "candidates = [2,3,6,7]\n",
    "target = 7  \n",
    "combinationSum(candidates, target)"
   ]
  },
  {
   "cell_type": "markdown",
   "id": "fdeb92d4",
   "metadata": {},
   "source": [
    "### 40. Combination Sum II"
   ]
  },
  {
   "cell_type": "code",
   "execution_count": 100,
   "id": "cf23d49e",
   "metadata": {},
   "outputs": [
    {
     "name": "stdout",
     "output_type": "stream",
     "text": [
      "0 4 []\n",
      "1 3 [1]\n",
      "2 2 [1, 1]\n",
      "3 1 [1, 1, 1]\n",
      "4 0 [1, 1, 2]\n",
      "-->  [1, 1, 2]\n",
      "4 1 [1, 2]\n",
      "4 2 [2]\n",
      "5 0 [2, 2]\n",
      "-->  [2, 2]\n"
     ]
    }
   ],
   "source": [
    "def combinationSum2(candidates, target):\n",
    "    candidates.sort()\n",
    "    ans = []\n",
    "    N = len(candidates)\n",
    "    _helperFun2(candidates, target, 0, N, [], ans)\n",
    "    \n",
    "def _helperFun2(candidates, target, ind, N, ds, ans):\n",
    "    print(ind, target, ds)\n",
    "    \n",
    "#     if target == 0:\n",
    "#         print('--> ', ds)\n",
    "#         return\n",
    "\n",
    "    if target == 0:\n",
    "        print('--> ', ds)\n",
    "        return\n",
    "    \n",
    "    \n",
    "    for i in range(ind, N):\n",
    "        if i > ind and candidates[i] == candidates[i - 1]:\n",
    "            continue\n",
    "#         if ds and ds.pop() != candidates[ind]:\n",
    "        if candidates[i] <= target:\n",
    "            target = target - candidates[i]\n",
    "            ds.append(candidates[i])\n",
    "            _helperFun2(candidates, target, i + 1, N, ds, ans)\n",
    "            target = target + candidates[i]\n",
    "            ds.pop()\n",
    "        else:\n",
    "            break\n",
    "\n",
    "            \n",
    "            \n",
    "candidates = [1, 1, 1, 2, 2]\n",
    "target = 4  \n",
    "combinationSum2(candidates, target)\n",
    "    \n",
    "    "
   ]
  },
  {
   "cell_type": "markdown",
   "id": "00055c7f",
   "metadata": {},
   "source": [
    "### Given a list arr of N integers, print sums of all subsets in it\n",
    "\n",
    "    Input:\n",
    "    N = 2\n",
    "    arr[] = {2, 3}\n",
    "    Output:\n",
    "    0 2 3 5\n",
    "    Explanation:\n",
    "    When no elements is taken then Sum = 0.\n",
    "    When only 2 is taken then Sum = 2.\n",
    "    When only 3 is taken then Sum = 3.\n",
    "    When element 2 and 3 are taken then \n",
    "    Sum = 2+3 = 5\n"
   ]
  },
  {
   "cell_type": "code",
   "execution_count": 111,
   "id": "6f8c3871",
   "metadata": {},
   "outputs": [
    {
     "data": {
      "text/plain": [
       "[0, 2, 3, 5]"
      ]
     },
     "execution_count": 111,
     "metadata": {},
     "output_type": "execute_result"
    }
   ],
   "source": [
    "def subsetSums(arr, N):\n",
    "    ans = []\n",
    "    _helperSum(arr, N, 0, 0, ans)\n",
    "    return sorted(ans)\n",
    "    \n",
    "def _helperSum(arr, N, ind, lsum, ans):\n",
    "    \n",
    "    if ind >= N:\n",
    "        ans.append(lsum)\n",
    "        return \n",
    "    \n",
    "    lsum += arr[ind]\n",
    "    _helperSum(arr, N, ind + 1, lsum, ans)\n",
    "    \n",
    "    lsum -= arr[ind]\n",
    "    _helperSum(arr, N, ind + 1, lsum, ans)\n",
    "\n",
    "arr = [2, 3]\n",
    "N = 2\n",
    "subsetSums(arr, N)"
   ]
  },
  {
   "cell_type": "markdown",
   "id": "5b9292b3",
   "metadata": {},
   "source": [
    "\n"
   ]
  },
  {
   "cell_type": "markdown",
   "id": "ee005445",
   "metadata": {},
   "source": [
    "### 90. Subsets II"
   ]
  },
  {
   "cell_type": "code",
   "execution_count": 141,
   "id": "046b0a9b",
   "metadata": {},
   "outputs": [
    {
     "data": {
      "text/plain": [
       "[[],\n",
       " [1],\n",
       " [1, 4],\n",
       " [1, 4, 4],\n",
       " [1, 4, 4, 4],\n",
       " [1, 4, 4, 4, 4],\n",
       " [4],\n",
       " [4, 4],\n",
       " [4, 4, 4],\n",
       " [4, 4, 4, 4]]"
      ]
     },
     "execution_count": 141,
     "metadata": {},
     "output_type": "execute_result"
    }
   ],
   "source": [
    "def subsetsWithDup(arr):\n",
    "    ans = []\n",
    "    _helperSubset(arr, len(arr) - 1, 0, [], ans)\n",
    "    return sorted(ans)\n",
    "    \n",
    "def _helperSubset(arr, N, ind, ds, ans):\n",
    "    if ind > N:\n",
    "        try:\n",
    "            index_value = ans.index(sorted(ds.copy()))\n",
    "        except ValueError:\n",
    "            index_value = -1\n",
    "            \n",
    "        if (index_value == -1):\n",
    "            ans.append(sorted(ds.copy()))\n",
    "        return \n",
    "    \n",
    "    ds.append(arr[ind])\n",
    "    _helperSubset(arr, N, ind + 1, ds, ans)\n",
    "    \n",
    "    ds.pop()\n",
    "    _helperSubset(arr, N, ind + 1, ds, ans)\n",
    "\n",
    "arr = [1,2,2]\n",
    "arr = [4,4,4,1,4] #[[],[1],[1,4],[1,4,4],[1,4,4,4],[1,4,4,4,4],[4],[4,4],[4,4,4],[4,4,4,4]]\n",
    "subsetsWithDup(arr)"
   ]
  },
  {
   "cell_type": "code",
   "execution_count": null,
   "id": "ad97634f",
   "metadata": {},
   "outputs": [],
   "source": []
  },
  {
   "cell_type": "code",
   "execution_count": null,
   "id": "f93153e0",
   "metadata": {},
   "outputs": [],
   "source": []
  },
  {
   "cell_type": "code",
   "execution_count": null,
   "id": "4b34a4ee",
   "metadata": {},
   "outputs": [],
   "source": []
  }
 ],
 "metadata": {
  "kernelspec": {
   "display_name": "Python 3 (ipykernel)",
   "language": "python",
   "name": "python3"
  },
  "language_info": {
   "codemirror_mode": {
    "name": "ipython",
    "version": 3
   },
   "file_extension": ".py",
   "mimetype": "text/x-python",
   "name": "python",
   "nbconvert_exporter": "python",
   "pygments_lexer": "ipython3",
   "version": "3.10.0"
  }
 },
 "nbformat": 4,
 "nbformat_minor": 5
}
