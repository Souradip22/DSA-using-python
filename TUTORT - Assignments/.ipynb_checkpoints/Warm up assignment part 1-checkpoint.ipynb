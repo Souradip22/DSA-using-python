{
 "cells": [
  {
   "cell_type": "markdown",
   "id": "d5c6a56b",
   "metadata": {},
   "source": [
    "#### Q1. Given an array of N integers. Your task is to print the sum of all of the integers.\n",
    "    Input:\n",
    "    4\n",
    "    1 2 3 4\n",
    "    Output:\n",
    "    10\n"
   ]
  },
  {
   "cell_type": "code",
   "execution_count": 3,
   "id": "5481e950",
   "metadata": {},
   "outputs": [
    {
     "name": "stdout",
     "output_type": "stream",
     "text": [
      "10\n"
     ]
    }
   ],
   "source": [
    "def findSum(arr):\n",
    "    lsum = 0\n",
    "    for i in range(len(arr)):\n",
    "        lsum += arr[i]\n",
    "    return lsum\n",
    "\n",
    "arr = [1,2,3,4]\n",
    "print(findSum(arr))"
   ]
  },
  {
   "cell_type": "markdown",
   "id": "74f5b9ee",
   "metadata": {},
   "source": [
    "#### Q2. Given an array A[] of N integers and an index Key. Your task is to print the element present at index key in the array.\n",
    "    Example 1:\n",
    "    Input:\n",
    "    5 2\n",
    "    10 20 30 40 50\n",
    "    Output:\n",
    "    30"
   ]
  },
  {
   "cell_type": "code",
   "execution_count": 7,
   "id": "285d52cf",
   "metadata": {},
   "outputs": [
    {
     "name": "stdout",
     "output_type": "stream",
     "text": [
      "30\n"
     ]
    }
   ],
   "source": [
    "def getElementByIndex(arr, index):\n",
    "    \n",
    "    \n",
    "    for i in range(len(arr)):\n",
    "        if i == index:\n",
    "            return arr[i]\n",
    "    return -1\n",
    "\n",
    "print(getElementByIndex([10, 20, 30, 40, 50], 2))\n",
    "    "
   ]
  },
  {
   "cell_type": "markdown",
   "id": "7216b47b",
   "metadata": {},
   "source": [
    "#### Q3. Given an sorted array A of size N. Find number of elements which are less than or equal to given element X.\n",
    "    Example 1:\n",
    "    Input:\n",
    "    N = 6\n",
    "    A[] = {1, 2, 4, 5, 8, 10}\n",
    "    X = 9\n",
    "    Output:\n",
    "    5\n"
   ]
  },
  {
   "cell_type": "code",
   "execution_count": 23,
   "id": "a681b9e8",
   "metadata": {},
   "outputs": [
    {
     "name": "stdout",
     "output_type": "stream",
     "text": [
      "4\n",
      "4\n"
     ]
    }
   ],
   "source": [
    "def countLessOrEqualElements(arr, x):\n",
    "    count = 0\n",
    "    for i in range(len(arr)):\n",
    "        if arr[i] <= x:\n",
    "            count += 1\n",
    "    return count\n",
    "\n",
    "print(countLessOrEqualElements([1, 2, 4, 5, 8, 10], 5))\n",
    "\n",
    "# Using binary search\n",
    "def countLessOrEqualElements2(arr, x):\n",
    "    left = 0\n",
    "    right = len(arr) - 1\n",
    "    \n",
    "    while left < right:\n",
    "        \n",
    "        mid = left + (right - left)//2\n",
    "        \n",
    "        if arr[mid] <= x:\n",
    "            left = mid + 1\n",
    "        else:\n",
    "            right = mid\n",
    "    return left\n",
    "\n",
    "print(countLessOrEqualElements2([1, 2, 4, 5, 8, 10], 5))\n"
   ]
  },
  {
   "cell_type": "markdown",
   "id": "3fbbc531",
   "metadata": {},
   "source": [
    "#### Q4. You are given an array A of size N. You need to print elements of A in alternate order (startingfrom index 0).\n",
    "    Example 1:\n",
    "    Input:\n",
    "    N = 4\n",
    "    A[] = {1, 2, 3, 4}\n",
    "    Output:\n",
    "    1 3\n"
   ]
  },
  {
   "cell_type": "code",
   "execution_count": 24,
   "id": "5f2df733",
   "metadata": {},
   "outputs": [
    {
     "name": "stdout",
     "output_type": "stream",
     "text": [
      "1\n",
      "3\n"
     ]
    }
   ],
   "source": [
    "def printAlt(arr):\n",
    "    \n",
    "    for i in range(0, len(arr), 2):\n",
    "        print(arr[i])\n",
    "\n",
    "printAlt([1, 2, 3, 4])"
   ]
  },
  {
   "cell_type": "markdown",
   "id": "eefcef19",
   "metadata": {},
   "source": [
    "#### Q5. Given an array Arr of N positive integers. Your task is to find the elements whose value is equal to that of its index value ( Consider 1-based indexing ).\n",
    "    Example 1:\n",
    "    Input:\n",
    "    N = 5\n",
    "    Arr[] = {15, 2, 45, 12, 7}\n",
    "    Output: 2\n",
    "    Explanation: Only Arr[2] = 2 exists here."
   ]
  },
  {
   "cell_type": "code",
   "execution_count": 27,
   "id": "e476ba63",
   "metadata": {},
   "outputs": [
    {
     "name": "stdout",
     "output_type": "stream",
     "text": [
      "[2, 5]\n",
      "[1]\n"
     ]
    }
   ],
   "source": [
    "def findElements(arr):\n",
    "    res  =[]\n",
    "    for i in range(len(arr)):\n",
    "        if i + 1 == arr[i]:\n",
    "            res.append(arr[i])\n",
    "    return res\n",
    "\n",
    "print(findElements([15, 2, 45, 12, 5]))\n",
    "print(findElements([1]))"
   ]
  },
  {
   "cell_type": "markdown",
   "id": "6658de36",
   "metadata": {},
   "source": [
    "#### Q6. Given an array of size N and you have to tell whether the array is perfect or not. An array is said to be perfect if it's reverse array matches the original array. If the array is perfect then print\n",
    "    \"PERFECT\" else print \"NOT PERFECT\".\n",
    "    Example 1:\n",
    "    Input : Arr[] = {1, 2, 3, 2, 1}\n",
    "    Output : PERFECT\n",
    "    Explanation:\n",
    "    Here we can see we have [1, 2, 3, 2, 1]\n",
    "    if we reverse it we can find [1, 2, 3, 2, 1]\n",
    "    which is the same as before.\n",
    "    So, the answer is PERFECT."
   ]
  },
  {
   "cell_type": "code",
   "execution_count": 32,
   "id": "c6ebcff2",
   "metadata": {},
   "outputs": [
    {
     "name": "stdout",
     "output_type": "stream",
     "text": [
      "PERFECT\n"
     ]
    }
   ],
   "source": [
    "def isArrPerfect(arr):\n",
    "    left = 0\n",
    "    right = len(arr) - 1\n",
    "    \n",
    "    while left < right:\n",
    "        \n",
    "        if arr[left] != arr[right]:\n",
    "            return 'NOT PERFECT'\n",
    "        else:\n",
    "            left += 1\n",
    "            right -= 1\n",
    "    return 'PERFECT'\n",
    "\n",
    "print(isArrPerfect([1,2,1]))\n",
    "            \n",
    "        "
   ]
  },
  {
   "cell_type": "markdown",
   "id": "32ee4113",
   "metadata": {},
   "source": [
    "#### Q7. Given an array of length N, at each step it is reduced by 1 element. In the first step the maximum element would be removed, while in the second step minimum element of the remaining array would be removed, in the third step again the maximum and so on. Continue this till the array contains only 1 element. And find the final element remaining in the array.\n",
    "    Example 1:\n",
    "    Input:\n",
    "    N = 7\n",
    "    A[] = {7, 8, 3, 4, 2, 9, 5}\n",
    "    Ouput:\n",
    "    5\n",
    "    Explanation:\n",
    "    In first step '9' would be removed, in 2nd step\n",
    "    '2' will be removed, in third step '8' will be\n",
    "    removed and so on. So the last remaining\n",
    "    element would be '5'.\n",
    "\n"
   ]
  },
  {
   "cell_type": "code",
   "execution_count": 41,
   "id": "df046132",
   "metadata": {},
   "outputs": [
    {
     "name": "stdout",
     "output_type": "stream",
     "text": [
      "5\n",
      "4\n"
     ]
    }
   ],
   "source": [
    "def findRemElement(arr):\n",
    "    arr.sort()\n",
    "    N = len(arr)\n",
    "    if N % 2 == 0:\n",
    "        return arr[N//2 - 1]\n",
    "    else:\n",
    "        return arr[N//2]\n",
    "    return arr\n",
    "print(findRemElement([7, 8, 3, 4, 2, 9, 5]))\n",
    "print(findRemElement([8, 1, 2, 9, 4, 3, 7, 5]))"
   ]
  },
  {
   "cell_type": "markdown",
   "id": "2b4aa8f4",
   "metadata": {},
   "source": [
    "#### Q8. Given an array of N distinct elements, the task is to find all elements in array except two greatest elements in sorted order.\n",
    "    Example 1:\n",
    "    Input :\n",
    "    a[] = {2, 8, 7, 1, 5}\n",
    "    Output :\n",
    "    1 2 5\n",
    "    Explanation :\n",
    "    The output three elements have two or\n",
    "    more greater elements.\n",
    "    Example 2:\n",
    "    Input :\n",
    "    a[] = {7, -2, 3, 4, 9, -1}\n",
    "    Output :\n",
    "    -2 -1 3 4"
   ]
  },
  {
   "cell_type": "code",
   "execution_count": 47,
   "id": "a2d717d2",
   "metadata": {},
   "outputs": [
    {
     "name": "stdout",
     "output_type": "stream",
     "text": [
      "[1, 2, 5]\n",
      "[-2, -1, 3, 4]\n",
      "[-2]\n"
     ]
    }
   ],
   "source": [
    "#Easy approach\n",
    "\n",
    "def arrDistinctElemetns(arr):\n",
    "    arr.sort()\n",
    "    N = len(arr)\n",
    "    \n",
    "    return arr[:N - 2] if len(arr) > 2 else None\n",
    "\n",
    "print(arrDistinctElemetns([2, 8, 7, 1, 5]))\n",
    "print(arrDistinctElemetns([7, -2, 3, 4, 9, -1]))\n",
    "print(arrDistinctElemetns([7, -2, 1]))"
   ]
  },
  {
   "cell_type": "markdown",
   "id": "8829b741",
   "metadata": {},
   "source": [
    "#### Q9. Write a program to find the sum of the given series 1+2+3+ . . . . . .(N terms)\n",
    "    Example 1:\n",
    "    Input:\n",
    "    N = 1\n",
    "    Output: 1\n",
    "    Explanation: For n = 1, sum will be 1.\n",
    "    Example 2:\n",
    "    Input:\n",
    "    N = 5\n",
    "    Output: 15\n",
    "    Explanation: For n = 5, sum will be 1\n",
    "    + 2 + 3 + 4 + 5 = 15.\n"
   ]
  },
  {
   "cell_type": "code",
   "execution_count": 55,
   "id": "588900c6",
   "metadata": {},
   "outputs": [
    {
     "name": "stdout",
     "output_type": "stream",
     "text": [
      "15\n",
      "6\n"
     ]
    }
   ],
   "source": [
    "def findSeriesSum(N):\n",
    "    return (N * (N + 1))//2\n",
    "\n",
    "def findSeriesSum2(N):\n",
    "    lsum = 0\n",
    "    for i in range(1, N + 1):\n",
    "        lsum += i\n",
    "    return lsum\n",
    "\n",
    "print(findSeriesSum(5))\n",
    "print(findSeriesSum(3))"
   ]
  },
  {
   "cell_type": "markdown",
   "id": "f16771bd",
   "metadata": {},
   "source": [
    "#### Q10. Given a number N. Your task is to check whether it is fascinating or not. Fascinating Number: When a number(should contain 3 digits or more) is multiplied by 2 and 3 ,and when both these products are concatenated with the original number, then it results in all digits from 1 to 9 present exactly once.\n",
    "    Example 1:\n",
    "    Input:\n",
    "    N = 192\n",
    "    Output: Fascinating\n",
    "    Explanation: After multiplication with 2\n",
    "    and 3, and concatenating with original\n",
    "    number, number will become 192384576\n",
    "    which contains all digits from 1 to 9.\n",
    "\n"
   ]
  },
  {
   "cell_type": "code",
   "execution_count": 97,
   "id": "66ebfad1",
   "metadata": {},
   "outputs": [
    {
     "name": "stdout",
     "output_type": "stream",
     "text": [
      "True\n",
      "False\n"
     ]
    }
   ],
   "source": [
    "def fascinatingNum(num):\n",
    "    \n",
    "    \n",
    "    if len(str(num)) < 3:\n",
    "        return False\n",
    "    mul2 = num * 2\n",
    "    mul3 = num * 3\n",
    "    finalNum= str(num) + str(mul2) + str(mul3)\n",
    "    hashMap = {}\n",
    "    \n",
    "    for i in range(len(finalNum)):\n",
    "        hashMap[finalNum[i]] = hashMap.get(finalNum[i], 0) + 1\n",
    "        \n",
    "    for i in range(1, 10):\n",
    "        if str(i) not in finalNum or hashMap.get(str(i), 0) > 1:\n",
    "            return False\n",
    "        \n",
    "    return True\n",
    "\n",
    "print(fascinatingNum(192)) \n",
    "print(fascinatingNum(853)) \n",
    "    \n"
   ]
  },
  {
   "cell_type": "code",
   "execution_count": 63,
   "id": "5539c4a1",
   "metadata": {},
   "outputs": [
    {
     "name": "stdout",
     "output_type": "stream",
     "text": [
      "384\n",
      "576\n"
     ]
    }
   ],
   "source": [
    "print(192 * 2)\n",
    "print(192 * 3)"
   ]
  },
  {
   "cell_type": "markdown",
   "id": "8b4fefb2",
   "metadata": {},
   "source": [
    "#### Bonus Question\n",
    "    Given an array of even size N, task is to find minimum value that can be added to an element so that\n",
    "    array become balanced. An array is balanced if the sum of the left half of the array elements is equal\n",
    "    to the sum of right half.\n",
    "    Example 1:\n",
    "    Input:\n",
    "    N = 4\n",
    "    arr[] = {1, 5, 3, 2}\n",
    "    Output: 1\n",
    "    Explanation:\n",
    "    Sum of first 2 elements is 1 + 5 = 6,\n",
    "    Sum of last 2 elements is 3 + 2 = 5,\n",
    "    To make the array balanced you can add 1."
   ]
  },
  {
   "cell_type": "code",
   "execution_count": 102,
   "id": "9d9560ed",
   "metadata": {},
   "outputs": [
    {
     "name": "stdout",
     "output_type": "stream",
     "text": [
      "1\n",
      "2\n"
     ]
    }
   ],
   "source": [
    "def balancedArr(arr):\n",
    "    \n",
    "    N = len(arr)\n",
    "    \n",
    "    mid = N //2\n",
    "    \n",
    "    return abs(sum(arr[:mid]) - sum(arr[mid:]))\n",
    "\n",
    "print(balancedArr([1, 5, 3, 2]))\n",
    "print(balancedArr([1, 2, 1, 2, 1, 3]))"
   ]
  },
  {
   "cell_type": "code",
   "execution_count": null,
   "id": "279cc166",
   "metadata": {},
   "outputs": [],
   "source": []
  }
 ],
 "metadata": {
  "kernelspec": {
   "display_name": "Python 3 (ipykernel)",
   "language": "python",
   "name": "python3"
  },
  "language_info": {
   "codemirror_mode": {
    "name": "ipython",
    "version": 3
   },
   "file_extension": ".py",
   "mimetype": "text/x-python",
   "name": "python",
   "nbconvert_exporter": "python",
   "pygments_lexer": "ipython3",
   "version": "3.10.0"
  }
 },
 "nbformat": 4,
 "nbformat_minor": 5
}
