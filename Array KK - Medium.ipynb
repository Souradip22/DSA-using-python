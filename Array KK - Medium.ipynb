{
 "cells": [
  {
   "cell_type": "markdown",
   "id": "d8b8dd19",
   "metadata": {},
   "source": [
    "### 54. Spiral Matrix"
   ]
  },
  {
   "cell_type": "code",
   "execution_count": 29,
   "id": "9e5cf540",
   "metadata": {},
   "outputs": [
    {
     "name": "stdout",
     "output_type": "stream",
     "text": [
      "1\n",
      "1\n",
      "[1, 2, 3, 6, 9, 8, 7, 4, 5]\n"
     ]
    }
   ],
   "source": [
    "# Input: matrix = [[1,2,3],[4,5,6],[7,8,9]]\n",
    "# Output: [1,2,3,6,9,8,7,4,5]\n",
    "\n",
    "def spiralOrder(matrix):\n",
    "    ans = []\n",
    "    top = 0\n",
    "    left = 0\n",
    "    bottom = len(matrix) - 1\n",
    "    right = len(matrix[0]) - 1\n",
    "    \n",
    "    direc = 0\n",
    "    \n",
    "    while top <= bottom and left <= right:\n",
    "        \n",
    "        if direc == 0:\n",
    "            for i in range(top, right + 1):\n",
    "                ans.append(matrix[top][i])\n",
    "            top += 1\n",
    "            \n",
    "        elif direc == 1:\n",
    "            for i in range(top, bottom + 1):\n",
    "                ans.append(matrix[i][right])\n",
    "                print('1',)\n",
    "            right -= 1\n",
    "            \n",
    "        elif direc == 2:\n",
    "            for i in range(right, left - 1, -1):\n",
    "                ans.append(matrix[bottom][i])\n",
    "            bottom -= 1\n",
    "            \n",
    "        elif direc == 3:\n",
    "            for i in range(bottom, top - 1, -1):\n",
    "                ans.append(matrix[i][left])\n",
    "            left += 1\n",
    "        direc = (direc + 1) % 4\n",
    "    \n",
    "    return ans\n",
    "    \n",
    "matrix = [[1,2,3],[4,5,6],[7,8,9]]\n",
    "print(spiralOrder(matrix))"
   ]
  },
  {
   "cell_type": "code",
   "execution_count": 25,
   "id": "51dc457a",
   "metadata": {},
   "outputs": [
    {
     "name": "stdout",
     "output_type": "stream",
     "text": [
      "1\n",
      "0\n"
     ]
    }
   ],
   "source": [
    "for i in range(1,0 - 1, -1):\n",
    "    print(i)"
   ]
  },
  {
   "cell_type": "markdown",
   "id": "b31d4e0c",
   "metadata": {},
   "source": [
    "### 59. Spiral Matrix II\n",
    "#### Given a positive integer n, generate an n x n matrix filled with elements from 1 to n2 in spiral order."
   ]
  },
  {
   "cell_type": "code",
   "execution_count": 34,
   "id": "fc1bece3",
   "metadata": {},
   "outputs": [
    {
     "name": "stdout",
     "output_type": "stream",
     "text": [
      "[[1]]\n"
     ]
    }
   ],
   "source": [
    "# Input: n = 3\n",
    "# Output: [[1,2,3],[8,9,4],[7,6,5]]\n",
    "\n",
    "\n",
    "def generateMatrix(n):\n",
    "    matrix = [ [0 for i in range(n)] for j in range(n)]\n",
    "    top = 0\n",
    "    left = 0\n",
    "    bottom = n - 1\n",
    "    right = n - 1\n",
    "    count = 1\n",
    "    direc = 0\n",
    "    \n",
    "    while top <= bottom and left <= right:\n",
    "        \n",
    "        if direc == 0:\n",
    "            for i in range(top, right + 1):\n",
    "                matrix[top][i] = count\n",
    "                count += 1\n",
    "            top += 1\n",
    "            \n",
    "        elif direc == 1:\n",
    "            for i in range(top, bottom + 1):\n",
    "                matrix[i][right] = count\n",
    "                count += 1\n",
    "            right -= 1\n",
    "            \n",
    "        elif direc == 2:\n",
    "            for i in range(right, left - 1, -1):\n",
    "                matrix[bottom][i] = count\n",
    "                count += 1\n",
    "            bottom -= 1\n",
    "            \n",
    "        elif direc == 3:\n",
    "            for i in range(bottom, top - 1, -1):\n",
    "                matrix[i][left] = count\n",
    "                count += 1  \n",
    "            left += 1\n",
    "            \n",
    "        direc = (direc + 1) % 4\n",
    "        \n",
    "    return matrix\n",
    "print(generateMatrix(1))\n",
    "    "
   ]
  },
  {
   "cell_type": "code",
   "execution_count": 32,
   "id": "5892a20e",
   "metadata": {},
   "outputs": [
    {
     "name": "stdout",
     "output_type": "stream",
     "text": [
      "[[0, 0, 0], [0, 0, 0], [0, 0, 0]]\n"
     ]
    }
   ],
   "source": [
    "res = [ [0 for i in range(3)] for j in range(3)]\n",
    "print(res)"
   ]
  },
  {
   "cell_type": "markdown",
   "id": "8c09964b",
   "metadata": {},
   "source": [
    "### 34. Find First and Last Position of Element in Sorted Array\n"
   ]
  },
  {
   "cell_type": "code",
   "execution_count": 22,
   "id": "449cfe9b",
   "metadata": {},
   "outputs": [
    {
     "data": {
      "text/plain": [
       "[1, 2]"
      ]
     },
     "execution_count": 22,
     "metadata": {},
     "output_type": "execute_result"
    }
   ],
   "source": [
    "def searchRange(nums, target):\n",
    "    \n",
    "    firstIndex = binarySearchRec(nums, target, 0, len(nums) - 1,  True, -1)\n",
    "    lastIndex = binarySearchRec(nums, target, 0, len(nums) - 1,  False, -1)\n",
    "    \n",
    "    return [firstIndex, lastIndex]\n",
    "    \n",
    "\n",
    "def binarySearchRec(arr, target, si, ei, isFirstIndex, ans):\n",
    "    \n",
    "    if si > ei: \n",
    "        return ans\n",
    "    \n",
    "    mid = (si + ei) // 2\n",
    "    \n",
    "    if arr[mid] == target:\n",
    "       \n",
    "        ans = mid \n",
    "        if isFirstIndex:\n",
    "            ei = mid - 1\n",
    "        else:\n",
    "            si = mid + 1\n",
    "        return binarySearchRec(arr, target, si, ei, isFirstIndex, ans)\n",
    "    elif arr[mid] > target:\n",
    "        return binarySearchRec(arr, target, si, mid - 1, isFirstIndex, ans)\n",
    "    else:\n",
    "        return binarySearchRec(arr, target, mid + 1, ei, isFirstIndex, ans)\n",
    "    \n",
    "\n",
    "# Input: nums = [5,7,7,8,8,10], target = 8\n",
    "# Output: [3,4]\n",
    "nums = [5,7,7,8,8,10]\n",
    "target = 7\n",
    "searchRange(nums, target)\n",
    "\n"
   ]
  },
  {
   "cell_type": "markdown",
   "id": "ebd94cf1",
   "metadata": {},
   "source": [
    "### 238. Product of Array Except Self"
   ]
  },
  {
   "cell_type": "code",
   "execution_count": 46,
   "id": "ba5ffb83",
   "metadata": {},
   "outputs": [
    {
     "data": {
      "text/plain": [
       "[24, 12, 8, 6]"
      ]
     },
     "execution_count": 46,
     "metadata": {},
     "output_type": "execute_result"
    }
   ],
   "source": [
    "# Input: nums = [1,2,3,4]\n",
    "# Output: [24,12,8,6]\n",
    "def productExceptSelf(nums):\n",
    "    \n",
    "    answers = [0 for i in range(len(nums))]\n",
    "    \n",
    "    def mul(list1):\n",
    "        result = 1\n",
    "        for x in list1:\n",
    "             result = result * x\n",
    "        return result\n",
    "    \n",
    "    for i in range(len(nums)):\n",
    "        answers[i] = mul(nums[:i]) *  mul(nums[i + 1:len(nums)])\n",
    "    \n",
    "    \n",
    "    return answers\n",
    "nums = [1,2,3,4]\n",
    "productExceptSelf(nums)"
   ]
  },
  {
   "cell_type": "code",
   "execution_count": 2,
   "id": "38ee880c",
   "metadata": {},
   "outputs": [
    {
     "name": "stdout",
     "output_type": "stream",
     "text": [
      "[1, 5, 10, 30]\n",
      "30 1\n",
      "10 4\n",
      "5 12\n",
      "1 24\n"
     ]
    },
    {
     "data": {
      "text/plain": [
       "[24, 60, 40, 30]"
      ]
     },
     "execution_count": 2,
     "metadata": {},
     "output_type": "execute_result"
    }
   ],
   "source": [
    "def productExceptSelf(nums):\n",
    "        p = 1\n",
    "        n = len(nums)\n",
    "        output = []\n",
    "        for i in range(0,n):\n",
    "            output.append(p)\n",
    "            p = p * nums[i]\n",
    "        p = 1\n",
    "        print(output)\n",
    "        for i in range(n-1,-1,-1):\n",
    "            print(output[i], p)\n",
    "            output[i] = output[i] * p\n",
    "            p = p * nums[i]\n",
    "        return output\n",
    "    \n",
    "nums = [5,2,3,4]\n",
    "productExceptSelf(nums)"
   ]
  },
  {
   "cell_type": "code",
   "execution_count": 85,
   "id": "76d3f3c3",
   "metadata": {},
   "outputs": [
    {
     "name": "stdout",
     "output_type": "stream",
     "text": [
      "i 0\n",
      "i 1\n",
      "i 3\n",
      "i 5\n",
      "4\n",
      "[1, 1, 2, 3, 2, 3]\n"
     ]
    }
   ],
   "source": [
    "# Input: nums = [1,1,1,2,2,3]\n",
    "# Output: 5, nums = [1,1,2,2,3,_]\n",
    "# Explanation: Your function should return k = 5, with the first five elements of nums being 1, 1, 2, 2 and 3 respectively.\n",
    "# It does not matter what you leave beyond the returned k (hence they are underscores)\n",
    "\n",
    "def removeDuplicates(nums):\n",
    "        k = 0\n",
    "        for i in range(0,len(nums)):\n",
    "            if i > 1 :\n",
    "                if nums[i] == nums[i-1] and nums[i] == nums[i-2]:\n",
    "                    nums[k] = nums[i]\n",
    "                    continue\n",
    "            print('i', i)\n",
    "            nums[k] = nums[i]\n",
    "            k += 1 \n",
    "        \n",
    "        return k\n",
    "nums = [1,1,1,2,2,3]   \n",
    "print(removeDuplicates(nums))\n",
    "print(nums)"
   ]
  },
  {
   "cell_type": "code",
   "execution_count": 128,
   "id": "987c4c0e",
   "metadata": {},
   "outputs": [
    {
     "data": {
      "text/plain": [
       "True"
      ]
     },
     "execution_count": 128,
     "metadata": {},
     "output_type": "execute_result"
    }
   ],
   "source": [
    "# Input: matrix = [[1,3,5,7],[10,11,16,20],[23,30,34,60]], target = 3\n",
    "# Output: true\n",
    "\n",
    "\n",
    "def searchMatrix(matrix, target):\n",
    "    i = 0;\n",
    "    j = len(matrix[0]) - 1\n",
    " \n",
    "    while i < len(matrix) and j >= 0:\n",
    "        if matrix[i][j] > target :\n",
    "            j = j - 1\n",
    "        elif matrix[i][j] < target :\n",
    "            i = i + 1\n",
    "        elif matrix[i][j] == target:\n",
    "            return True\n",
    "    return False\n",
    "\n",
    "# matrix = [[1,3,5,7],[10,11,16,20],[23,30,34,60]]\n",
    "# target = 60\n",
    "\n",
    "matrix = [[1]]\n",
    "target = 1\n",
    "searchMatrix(matrix, target)\n",
    "\n"
   ]
  },
  {
   "cell_type": "code",
   "execution_count": 172,
   "id": "b4bf3ccf",
   "metadata": {},
   "outputs": [
    {
     "name": "stdout",
     "output_type": "stream",
     "text": [
      "0 0 0\n"
     ]
    },
    {
     "data": {
      "text/plain": [
       "False"
      ]
     },
     "execution_count": 172,
     "metadata": {},
     "output_type": "execute_result"
    }
   ],
   "source": [
    "def searchMatrix2(matrix, target):\n",
    "    if len(matrix) == 0:\n",
    "        return false\n",
    "    \n",
    "    low = 0\n",
    "    high = (len(matrix) * len(matrix[0])) - 1\n",
    "    \n",
    "    while low <= high:\n",
    "        mid = (low + high) // 2\n",
    "        i = mid // len(matrix[0])\n",
    "        j = mid % len(matrix[0])\n",
    "        print(mid, i, j)\n",
    "        if matrix[i][j] > target :\n",
    "            high = mid - 1\n",
    "        elif matrix[i][j] < target :\n",
    "            low = mid + 1\n",
    "        elif matrix[i][j] == target:\n",
    "            return True\n",
    "    return False\n",
    "\n",
    "\n",
    "# matrix = [[1,3,5,7],[10,11,16,20],[23,30,34,60]]\n",
    "# target = 0\n",
    "\n",
    "matrix =[[1],[3]]\n",
    "target = 0\n",
    "searchMatrix2(matrix, target)"
   ]
  },
  {
   "cell_type": "code",
   "execution_count": 192,
   "id": "d08c997e",
   "metadata": {},
   "outputs": [
    {
     "name": "stdout",
     "output_type": "stream",
     "text": [
      "[0, 0, 1, 1, 2, 2]\n"
     ]
    }
   ],
   "source": [
    "def sortColors(nums):\n",
    "\n",
    "    if len(nums) <= 1:\n",
    "        return nums\n",
    "    \n",
    "    mid = len(nums) // 2\n",
    "\n",
    "    left = nums[:mid]\n",
    "    right = nums[mid:]\n",
    "    \n",
    "    sortColors(left)\n",
    "    sortColors(right)\n",
    "    \n",
    "    mergeTwo(nums, left, right)\n",
    "\n",
    "def mergeTwo(nums, arr1, arr2):\n",
    "    \n",
    "    i = 0\n",
    "    j = 0\n",
    "    k = 0\n",
    "    \n",
    "    while i < len(arr1) and j < len(arr2):\n",
    "        if arr1[i] < arr2[j]:\n",
    "            nums[k] = arr1[i]\n",
    "            i += 1\n",
    "        else:\n",
    "            nums[k] = arr2[j]\n",
    "            j += 1\n",
    "        k += 1\n",
    "            \n",
    "    while i < len(arr1):\n",
    "        nums[k] = arr1[i]\n",
    "        i += 1\n",
    "        k += 1\n",
    "    while j < len(arr2):\n",
    "        nums[k] = arr2[j]\n",
    "        j += 1\n",
    "        k += 1\n",
    "# Input: nums = [2,0,2,1,1,0]\n",
    "# Output: [0,0,1,1,2,2]  \n",
    "nums = [2,0,2,1,1,0]\n",
    "sortColors(nums)\n",
    "print(nums)\n",
    "        "
   ]
  },
  {
   "cell_type": "code",
   "execution_count": 12,
   "id": "b55d3802",
   "metadata": {},
   "outputs": [
    {
     "data": {
      "text/plain": [
       "3"
      ]
     },
     "execution_count": 12,
     "metadata": {},
     "output_type": "execute_result"
    }
   ],
   "source": [
    "def tripletSum(arr, n, num) :\n",
    "    count = 0\n",
    "    for i in range(0, n-1):\n",
    "        # Find pair in subarray A[i + 1..n-1]\n",
    "        # with sum equal to sum - A[i]\n",
    "        s = set()\n",
    "        curr_sum = num - arr[i]\n",
    "        for j in range(i + 1, n):\n",
    "            if (curr_sum - arr[j]) in s:\n",
    "                count += 1\n",
    "            s.add(arr[j])\n",
    "\n",
    "    return count\n",
    "\n",
    "    \n",
    "# nums = [2, -5, 8, -6, 0, 5, 10, 11, -3]\n",
    "# target = 10\n",
    "\n",
    "nums = [6, 1, 6, 5, 3, 2, 5, 0, 5, 6, 0] \n",
    "target = 5\n",
    "\n",
    "find3Numbers(nums, len(nums), target)"
   ]
  },
  {
   "cell_type": "code",
   "execution_count": 41,
   "id": "959c3ea0",
   "metadata": {},
   "outputs": [
    {
     "data": {
      "text/plain": [
       "5"
      ]
     },
     "execution_count": 41,
     "metadata": {},
     "output_type": "execute_result"
    }
   ],
   "source": [
    "def pairSum(arr, n, num):\n",
    "    obj = {}\n",
    "    count = 0\n",
    "    for i in range(0,n):\n",
    "        complement = num - arr[i]\n",
    "        if complement:\n",
    "            count += 1\n",
    "        else:\n",
    "            obj[arr[i]] = i + 1\n",
    "            print(obj)\n",
    "#     print(obj)   \n",
    "    return count\n",
    "\n",
    "nums = [3, 3, 3, 3, 3]\n",
    "target = 6\n",
    "pairSum(nums, len(nums), target)"
   ]
  },
  {
   "cell_type": "markdown",
   "id": "ac51cd63",
   "metadata": {},
   "source": [
    "### 18. 4Sum"
   ]
  },
  {
   "cell_type": "code",
   "execution_count": 61,
   "id": "30367e12",
   "metadata": {},
   "outputs": [
    {
     "data": {
      "text/plain": [
       "[[-2, -1, 1, 2], [-1, 0, 0, 1], [-2, 0, 0, 2]]"
      ]
     },
     "execution_count": 61,
     "metadata": {},
     "output_type": "execute_result"
    }
   ],
   "source": [
    "def fourSum(nums, target):\n",
    "    nums.sort()\n",
    "    N = len(nums)\n",
    "    res = set()\n",
    "    ans = []\n",
    "    \n",
    "    for i in range(0, N - 3):\n",
    "        if i > 0 and nums[i] == nums[i - 1]: \n",
    "            continue\n",
    "        for j in range(i + 1, N - 2):\n",
    "            if j > i + 1 and nums[j] == nums[j - 1]: \n",
    "                continue\n",
    "            for k in range(j + 1, N - 1):\n",
    "                if k > j + 1 and nums[k] == nums[k - 1]: \n",
    "                    continue\n",
    "                for l in range(k + 1, N):\n",
    "                    if l > k + 1 and nums[l] == nums[l - 1]: \n",
    "                        continue\n",
    "                    lsum = nums[i] + nums[j] + nums[k] + nums[l]  \n",
    "                    \n",
    "                    if lsum > target:\n",
    "                        break\n",
    "                    if lsum == target:\n",
    "                        res.add((nums[i] , nums[j] , nums[k] , nums[l]))\n",
    "    \n",
    "    for i in res:\n",
    "        ans.append(list(i))\n",
    "        \n",
    "    return ans\n",
    "\n",
    "\n",
    "\n",
    "def fourSum2(nums, target):\n",
    "    nums.sort()\n",
    "    N = len(nums)\n",
    "    res = set()\n",
    "    ans = []\n",
    "    \n",
    "    for i in range(0, N - 3):\n",
    "        if i > 0 and nums[i] == nums[i - 1]: \n",
    "            continue\n",
    "        for j in range(i + 1, N - 2):\n",
    "            if j > i + 1 and nums[j] == nums[j - 1]: \n",
    "                continue\n",
    "                \n",
    "            left = j + 1\n",
    "            right = N - 1\n",
    "            \n",
    "            while left < right :\n",
    "                \n",
    "                lsum = nums[i] + nums[j] + nums[left] + nums[right]\n",
    "                if lsum > target:\n",
    "                    right -= 1\n",
    "                elif lsum == target:\n",
    "                    res.add((nums[i] , nums[j] , nums[left] , nums[right]))\n",
    "                    left += 1 \n",
    "                else:\n",
    "                    left += 1\n",
    "                    \n",
    "\n",
    "    for i in res:\n",
    "        ans.append(list(i))\n",
    "        \n",
    "    return ans\n",
    "        \n",
    "                        \n",
    "\n",
    "\n",
    "nums = [1,0,-1,0,-2,2]\n",
    "target = 0\n",
    "# Output: [[-2,-1,1,2],[-2,0,0,2],[-1,0,0,1]]\n",
    "\n",
    "fourSum2(nums, target)"
   ]
  },
  {
   "cell_type": "markdown",
   "id": "ebd4088e",
   "metadata": {},
   "source": [
    "### 15. 3Sum\n"
   ]
  },
  {
   "cell_type": "code",
   "execution_count": 63,
   "id": "6a7fba44",
   "metadata": {},
   "outputs": [
    {
     "data": {
      "text/plain": [
       "[[-1, 0, 1], [-1, -1, 2]]"
      ]
     },
     "execution_count": 63,
     "metadata": {},
     "output_type": "execute_result"
    }
   ],
   "source": [
    "def threeSum(nums, target):\n",
    "    nums.sort()\n",
    "    N = len(nums)\n",
    "    res = set()\n",
    "    ans = []\n",
    "    \n",
    "    for i in range(0, N-2):\n",
    "        if i > 0 and nums[i] == nums[i - 1]: \n",
    "                continue\n",
    "        left = i + 1\n",
    "        right = N - 1\n",
    "        \n",
    "        while left < right:\n",
    "            \n",
    "            lsum = nums[i] + nums[left] + nums[right]\n",
    "            \n",
    "            if lsum > target:\n",
    "                right -= 1\n",
    "                \n",
    "            elif lsum == target:\n",
    "                res.add((nums[i] , nums[left] , nums[right]))\n",
    "                left += 1\n",
    "            else:\n",
    "                left += 1\n",
    "    for i in res:\n",
    "        ans.append(list(i))\n",
    "        \n",
    "    return ans\n",
    "        \n",
    "\n",
    "\n",
    "\n",
    "nums = [-1,0,1,2,-1,-4]\n",
    "target = 0\n",
    "threeSum(nums, target)\n",
    "# Output: [[-1,-1,2],[-1,0,1]]"
   ]
  },
  {
   "cell_type": "code",
   "execution_count": 1,
   "id": "8f255c18",
   "metadata": {},
   "outputs": [
    {
     "data": {
      "text/plain": [
       "[0, 0, 0, 0, 0]"
      ]
     },
     "execution_count": 1,
     "metadata": {},
     "output_type": "execute_result"
    }
   ],
   "source": [
    "[0] * 5\n"
   ]
  },
  {
   "cell_type": "code",
   "execution_count": 11,
   "id": "a3c2157d",
   "metadata": {},
   "outputs": [
    {
     "name": "stdout",
     "output_type": "stream",
     "text": [
      "[[1], [1, 1], [1, 2, 1], [1, 3, 3, 1], [1, 4, 6, 4, 1]]\n"
     ]
    }
   ],
   "source": [
    "\n",
    "def generate(numRows):\n",
    "\n",
    "    res = [0] * numRows\n",
    "    for i in range(numRows):\n",
    "\n",
    "        inner = [0] * (i + 1)\n",
    "        inner[0] = inner[-1] = 1 #first and last element is 1\n",
    "\n",
    "        for j in range(1, i):\n",
    "            inner[j] = res[i-1][j-1]  + res[i-1][j]\n",
    "\n",
    "        res[i] = inner\n",
    "\n",
    "    return res\n",
    "\n",
    "print(generate(5))\n",
    "        "
   ]
  },
  {
   "cell_type": "code",
   "execution_count": 63,
   "id": "eaf9a793",
   "metadata": {},
   "outputs": [
    {
     "name": "stdout",
     "output_type": "stream",
     "text": [
      "[[0, 0, 0, 0], [0, 4, 5, 0], [0, 3, 1, 0]]\n"
     ]
    }
   ],
   "source": [
    "def setZeroes(matrix):\n",
    "    \n",
    "    r = len(matrix)\n",
    "    c = len(matrix[0])\n",
    "    \n",
    "    \n",
    "    for i in range(r):\n",
    "        for j in range(c):\n",
    "            if matrix[i][j] == 0:\n",
    "                left = 0\n",
    "                top = 0\n",
    "                while left < c:\n",
    "                    if matrix[i][left] != 0:\n",
    "                        matrix[i][left] = -1\n",
    "                    left += 1\n",
    "                while top < r:\n",
    "                    if matrix[top][j] != 0:\n",
    "                        matrix[top][j] = -1\n",
    "                    top += 1\n",
    "    for i in range(r):\n",
    "        for j in range(c):\n",
    "            if matrix[i][j] == -1:\n",
    "                matrix[i][j] = 0\n",
    "    \n",
    "    return matrix\n",
    "\n",
    "matrix = [[0,1,2,0],[3,4,5,2],[1,3,1,5]]\n",
    "# matrix = [[1,1,1],[1,0,1],[1,1,1]]\n",
    "# Output: [[0,0,0,0],[0,4,5,0],[0,3,1,0]]\n",
    "\n",
    "# matrix = [[1,1,1,1],[1,0,1,1],[1,1,0,1],[0,1,1,1]]\n",
    "\n",
    "# print(setZeroes(matrix))\n",
    "\n",
    "def setZeroes2(matrix):\n",
    "    \n",
    "    r = len(matrix)\n",
    "    c = len(matrix[0])\n",
    "    \n",
    "    row = [0] * r\n",
    "    col = [0] * c\n",
    "    \n",
    "    for i in range(r):\n",
    "        for j in range(c):\n",
    "            if matrix[i][j] == 0:\n",
    "                row[i] = 'a'\n",
    "                col[j] = 'a'\n",
    "    for i in range(r):\n",
    "        for j in range(c):\n",
    "            if row[i] == 'a' or col[j] == 'a':\n",
    "                matrix[i][j] = 0\n",
    "    \n",
    "    return matrix\n",
    "\n",
    "# print(setZeroes2(matrix))\n",
    "\n",
    "\n",
    "def setZeroes3(matrix):\n",
    "    \n",
    "    r = len(matrix)\n",
    "    c = len(matrix[0])\n",
    "    col0 = 1\n",
    "     \n",
    "    \n",
    "    #mark first row and col by traversing the matrix (make sure to check the j = 0 then change the col0 variable, this is becasue\n",
    "    # the matrix[0][0] will be part of row array)\n",
    "    for i in range(r):\n",
    "        for j in range(c):\n",
    "            if matrix[i][j] == 0:\n",
    "                \n",
    "                #make row array (which is in the matrix itself matrix[i])\n",
    "                matrix[i][0] = 0\n",
    "                \n",
    "                if j != 0:\n",
    "                    matrix[0][j] = 0\n",
    "                else:\n",
    "                    col0 = 0\n",
    "                    \n",
    "    #now change the remaining part of the array based on these two array\n",
    "    for i in range(1, r):\n",
    "        for j in range(1, c):\n",
    "            if matrix[i][j] != 0:\n",
    "                if matrix[i][0] == 0 or matrix[0][j] == 0: #check what row array or column array contains\n",
    "                    matrix[i][j] = 0\n",
    "    \n",
    "    # check for the first for column array\n",
    "    if matrix[0][0] == 0:\n",
    "        for i in range(c):\n",
    "            matrix[0][i] = 0\n",
    "            \n",
    "    #check for first col\n",
    "    if col0 == 0:\n",
    "        for j in range(r):\n",
    "            matrix[j][0] = 0\n",
    "\n",
    "    \n",
    "    return matrix\n",
    "\n",
    "print(setZeroes3(matrix))\n",
    "\n"
   ]
  },
  {
   "cell_type": "markdown",
   "id": "b97fe35f",
   "metadata": {},
   "source": [
    "### Kadane's Algo"
   ]
  },
  {
   "cell_type": "code",
   "execution_count": 84,
   "id": "5d9c0faa",
   "metadata": {},
   "outputs": [
    {
     "name": "stdout",
     "output_type": "stream",
     "text": [
      "[1, 1]\n"
     ]
    }
   ],
   "source": [
    "def maxSubArrsum(arr):\n",
    "    \n",
    "    lsum = arr[0]\n",
    "    currSum = arr[0]\n",
    "    for i in range(1, len(arr)):\n",
    "        \n",
    "        currSum = max(arr[i], currSum + arr[i])\n",
    "        lsum = max(lsum, currSum)\n",
    "        \n",
    "    return lsum\n",
    "\n",
    "def maxSubArrsum2(arr):\n",
    "    \n",
    "    lsum = 0\n",
    "    maxSum = float('-inf')\n",
    "    \n",
    "    for i in range(len(arr)):\n",
    "        lsum += arr[i]\n",
    "        \n",
    "        maxSum = max(lsum, maxSum)\n",
    "            \n",
    "        if lsum  < 0:\n",
    "            lsum = 0\n",
    "            \n",
    "#     Note: In some cases, the question might say to consider the sum of the empty subarray while solving this problem. So, in these cases, before returning the answer we will compare the maximum subarray sum calculated with 0(i.e. The sum of an empty subarray is 0). And after that, we will return the maximum one.\n",
    "# For e.g. if the given array is {-1, -4, -5}, the answer will be 0 instead of -1 in this case\n",
    "    if maxSum < 0:\n",
    "        maxSum = 0\n",
    "    return maxSum\n",
    "\n",
    "def maxSubArrsum3(arr):\n",
    "    \n",
    "    lsum = 0\n",
    "    maxSum = float('-inf')\n",
    "    \n",
    "    start = 0\n",
    "    ansStart = ansEnd = -1\n",
    "    \n",
    "    for i in range(len(arr)):\n",
    "        if lsum == 0:\n",
    "            start = i #start index\n",
    "        lsum += arr[i]\n",
    "        \n",
    "        if lsum > maxSum:\n",
    "            maxSum = lsum\n",
    "            \n",
    "            ansStart = start\n",
    "            ansEnd = i\n",
    "            \n",
    "        if lsum  < 0:\n",
    "            lsum = 0\n",
    "            \n",
    "#     Note: In some cases, the question might say to consider the sum of the empty subarray while solving this problem. So, in these cases, before returning the answer we will compare the maximum subarray sum calculated with 0(i.e. The sum of an empty subarray is 0). And after that, we will return the maximum one.\n",
    "# For e.g. if the given array is {-1, -4, -5}, the answer will be 0 instead of -1 in this case\n",
    "#     if maxSum < 0:\n",
    "#         maxSum = 0\n",
    "    return [ansStart, ansEnd]\n",
    "        \n",
    "        \n",
    "    \n",
    "\n",
    "arr = [-2,1,-3,4,-1,2,1,-5,4] \n",
    "arr = [-4,-1,-5]\n",
    "\n",
    "# Output: 6 \n",
    "print(maxSubArrsum3(arr))"
   ]
  },
  {
   "cell_type": "markdown",
   "id": "039f6ea6",
   "metadata": {},
   "source": [
    "### Sort Colors"
   ]
  },
  {
   "cell_type": "code",
   "execution_count": 90,
   "id": "0ef5eb55",
   "metadata": {},
   "outputs": [
    {
     "name": "stdout",
     "output_type": "stream",
     "text": [
      "2 5 4\n",
      "[0, 0, 1, 1, 1, 2, 2, 2]\n"
     ]
    }
   ],
   "source": [
    "# Input: nums = [2,0,2,1,1,0]\n",
    "# Output: [0,0,1,1,2,2]\n",
    "\n",
    "def sortColors(nums):\n",
    "    \n",
    "    l0 = 0\n",
    "    l1 = 0\n",
    "    l2 = len(nums) - 1\n",
    "    \n",
    "    while l1 <= l2:\n",
    "        \n",
    "        if nums[l1] == 0:\n",
    "            nums[l0], nums[l1] = nums[l1], nums[l0]\n",
    "            l0 += 1\n",
    "            l1 += 1\n",
    "        elif nums[l1] == 1:\n",
    "            l1 += 1\n",
    "        else:\n",
    "            nums[l1], nums[l2] = nums[l2], nums[l1]\n",
    "            l2 -= 1\n",
    "    print(l0, l1, l2)\n",
    "    return nums\n",
    "            \n",
    "    \n",
    "    \n",
    "# nums = [2,0,2,1,1,0]\n",
    "nums = [2,1,2,0,1,0,2,1]\n",
    "print(sortColors(nums))\n"
   ]
  },
  {
   "cell_type": "markdown",
   "id": "8dc1b4ff",
   "metadata": {},
   "source": [
    "### stock buy and sell"
   ]
  },
  {
   "cell_type": "code",
   "execution_count": 93,
   "id": "9229375f",
   "metadata": {},
   "outputs": [
    {
     "name": "stdout",
     "output_type": "stream",
     "text": [
      "0\n"
     ]
    }
   ],
   "source": [
    "# Input: prices = [7,1,5,3,6,4]\n",
    "# Output: 5\n",
    "# Explanation: Buy on day 2 (price = 1) and \n",
    "# sell on day 5 (price = 6), profit = 6-1 = 5.\n",
    "\n",
    "# Note: That buying on day 2 and selling on day 1 \n",
    "# is not allowed because you must buy before \n",
    "# you sell.\n",
    "\n",
    "def stockBuy1(prices):\n",
    "    \n",
    "    minPrice = float('inf')\n",
    "    maxProfit = float('-inf')\n",
    "    \n",
    "    for i in range(len(prices)):\n",
    "        \n",
    "        minPrice = min(minPrice, prices[i])\n",
    "        \n",
    "        maxProfit = max(maxProfit, prices[i] - minPrice)\n",
    "    return maxProfit\n",
    "    \n",
    "\n",
    "    \n",
    "prices = [7,1,5,3,6,4]\n",
    "prices = [7,6,4,3,1]\n",
    "print(stockBuy1(prices))"
   ]
  },
  {
   "cell_type": "code",
   "execution_count": null,
   "id": "420134e7",
   "metadata": {},
   "outputs": [],
   "source": []
  }
 ],
 "metadata": {
  "kernelspec": {
   "display_name": "Python 3 (ipykernel)",
   "language": "python",
   "name": "python3"
  },
  "language_info": {
   "codemirror_mode": {
    "name": "ipython",
    "version": 3
   },
   "file_extension": ".py",
   "mimetype": "text/x-python",
   "name": "python",
   "nbconvert_exporter": "python",
   "pygments_lexer": "ipython3",
   "version": "3.10.0"
  }
 },
 "nbformat": 4,
 "nbformat_minor": 5
}
