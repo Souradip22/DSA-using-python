{
 "cells": [
  {
   "cell_type": "markdown",
   "id": "a6ff259f",
   "metadata": {},
   "source": [
    "# Longest palindromic substring\n",
    "\n"
   ]
  },
  {
   "cell_type": "code",
   "execution_count": 17,
   "id": "f71b2da3",
   "metadata": {},
   "outputs": [
    {
     "data": {
      "text/plain": [
       "'bb'"
      ]
     },
     "execution_count": 17,
     "metadata": {},
     "output_type": "execute_result"
    }
   ],
   "source": [
    "def longestPalindrom(string):\n",
    "    maxstr = ''\n",
    "    substr = ''\n",
    "    \n",
    "    for i in range(1, len(string)):\n",
    "  \n",
    "        # handle odd cases\n",
    "        low = i\n",
    "        high = i\n",
    "        \n",
    "        while low >= 0 and high < len(string):\n",
    "            if string[low] == string[high]:\n",
    "                low -= 1\n",
    "                high += 1\n",
    "            else:\n",
    "                break\n",
    "            \n",
    "            if low == -1 or high == len(string):\n",
    "                break\n",
    "        \n",
    "        substr = string[low + 1: high]\n",
    "        if len(substr) > len(maxstr):\n",
    "            maxstr = substr\n",
    "            \n",
    "            \n",
    "        \n",
    "        # handle even cases\n",
    "        low = i - 1\n",
    "        high = i\n",
    "        \n",
    "        while low >= 0 and high < len(string):\n",
    "            \n",
    "            if string[low] == string[high]:\n",
    "                low -= 1\n",
    "                high += 1\n",
    "            else:\n",
    "                break\n",
    "            \n",
    "            if low == -1 or high == len(string):\n",
    "                break\n",
    "        \n",
    "        substr = string[low + 1: high]\n",
    "        if len(substr) > len(maxstr):\n",
    "            maxstr = substr\n",
    "    \n",
    "    return maxstr\n",
    "     \n",
    "\n",
    "s = 'abcdeffedghi'\n",
    "# s = \"babad\"\n",
    "s = \"cbbd\"\n",
    "longestPalindrom(s)"
   ]
  },
  {
   "cell_type": "markdown",
   "id": "5c5c5fac",
   "metadata": {},
   "source": [
    "# 3. Longest Substring Without Repeating Characters\n",
    "\n",
    "```\n",
    "Input: s = \"abcabcbb\"\n",
    "Output: 3\n",
    "Explanation: The answer is \"abc\", with the length of 3.\n",
    "```"
   ]
  },
  {
   "cell_type": "code",
   "execution_count": 18,
   "id": "955e751b",
   "metadata": {},
   "outputs": [
    {
     "data": {
      "text/plain": [
       "'cabcbb'"
      ]
     },
     "execution_count": 18,
     "metadata": {},
     "output_type": "execute_result"
    }
   ],
   "source": [
    "def longestSubstring(string):\n",
    "    maxstr = ''\n",
    "    substr = ''\n",
    "    \n",
    "    for i in range(1, len(string)):\n",
    "  \n",
    "        # handle odd cases\n",
    "        low = i\n",
    "        high = i\n",
    "        \n",
    "        while low >= 0 and high < len(string):\n",
    "            if string[low] != string[high]:\n",
    "                low -= 1\n",
    "                high += 1\n",
    "            else:\n",
    "                break\n",
    "            \n",
    "            if low == -1 or high == len(string):\n",
    "                break\n",
    "        \n",
    "        substr = string[low + 1: high]\n",
    "        if len(substr) > len(maxstr):\n",
    "            maxstr = substr\n",
    "            \n",
    "            \n",
    "        \n",
    "        # handle even cases\n",
    "        low = i - 1\n",
    "        high = i\n",
    "        \n",
    "        while low >= 0 and high < len(string):\n",
    "            \n",
    "            if string[low] != string[high]:\n",
    "                low -= 1\n",
    "                high += 1\n",
    "            else:\n",
    "                break\n",
    "            \n",
    "            if low == -1 or high == len(string):\n",
    "                break\n",
    "        \n",
    "        substr = string[low + 1: high]\n",
    "        if len(substr) > len(maxstr):\n",
    "            maxstr = substr\n",
    "    \n",
    "    return maxstr\n",
    "     \n",
    "\n",
    "s = \"abcabcbb\"\n",
    "# s = \"babad\"\n",
    "\n",
    "longestSubstring(s)"
   ]
  },
  {
   "cell_type": "markdown",
   "id": "5d09a313",
   "metadata": {},
   "source": [
    "# 316. Remove Duplicate Letters\n",
    "\n",
    "```\n",
    "Input: s = \"bcabc\"\n",
    "Output: \"abc\"\n",
    "\n",
    "```"
   ]
  },
  {
   "cell_type": "code",
   "execution_count": null,
   "id": "393c78a4",
   "metadata": {},
   "outputs": [],
   "source": []
  },
  {
   "cell_type": "markdown",
   "id": "79fe9fa6",
   "metadata": {},
   "source": [
    "# Count Occurrences of Anagrams\n",
    "```\n",
    "Input : forxxorfxdofr\n",
    "        for\n",
    "Output : 3\n",
    "Explanation : Anagrams of the word for - for, orf, \n",
    "ofr appear in the text and hence the count is 3.\n",
    "\n",
    "Input : aabaabaa\n",
    "        aaba\n",
    "Output : 4\n",
    "Explanation : Anagrams of the word aaba - aaba, \n",
    "abaa each appear twice in the text and hence the\n",
    "count is 4.\n",
    "```"
   ]
  },
  {
   "cell_type": "code",
   "execution_count": 19,
   "id": "66ed1324",
   "metadata": {},
   "outputs": [
    {
     "data": {
      "text/plain": [
       "4"
      ]
     },
     "execution_count": 19,
     "metadata": {},
     "output_type": "execute_result"
    }
   ],
   "source": [
    "def countAnagrams(s, ptr):\n",
    "    dict1 = {}\n",
    "    count_distinct = 0\n",
    "    \n",
    "    for i in ptr:\n",
    "        if i in dict1:\n",
    "            dict1[i] += 1\n",
    "        else:\n",
    "            dict1[i] = 1\n",
    "    count_distinct = len(dict1)\n",
    "    \n",
    "    i = 0\n",
    "    j = 0\n",
    "    N = len(s)\n",
    "    k = len(ptr)\n",
    "    res = 0\n",
    "    \n",
    "    while j < N:\n",
    "        #if present in map then decrease it's count\n",
    "        if s[j] in dict1:\n",
    "            dict1[s[j]] -= 1\n",
    "            # if occurance of any element becomes 0 that means the ditinct number has to be reduced also\n",
    "            if dict1[s[j]] == 0:\n",
    "                count_distinct -= 1\n",
    "\n",
    "        if j - i + 1 < k:\n",
    "            j += 1\n",
    "        \n",
    "        elif j - i + 1 == k:\n",
    "            if count_distinct == 0:\n",
    "                res += 1\n",
    "             \n",
    "            # before sliding the window we need to revert back the changes what we did for the ith element (current i \n",
    "            # previous j) as we that particular element is no longer part of the newly created window \n",
    "            # so basically we need to perform the reverese operation of what we did before\n",
    "            # add it to the dict and and if the occurance of the element becomes 1 than need to update the distinct count\n",
    "            # we use disticnt count, so that we do not have to iterate over it again again during computing the res\n",
    "            # that process can be done in constant time just by checking\n",
    "            if s[i] in dict1:\n",
    "                dict1[s[i]] += 1\n",
    "                \n",
    "                if dict1[s[i]] == 1:\n",
    "                    count_distinct += 1\n",
    "\n",
    "            i += 1\n",
    "            j += 1\n",
    "    return res\n",
    "            \n",
    "\n",
    "    \n",
    "s = 'forxxorfxdofr'\n",
    "# ptr = 'for'\n",
    "s = 'aabaabaa'\n",
    "ptr = 'aaba'\n",
    "countAnagrams(s, ptr)"
   ]
  },
  {
   "cell_type": "markdown",
   "id": "8a8cbdba",
   "metadata": {},
   "source": [
    "### Different ways of reverse a string (Strings are immutable)"
   ]
  },
  {
   "cell_type": "code",
   "execution_count": 21,
   "id": "f14daaa2",
   "metadata": {},
   "outputs": [],
   "source": [
    "def reverse(s):\n",
    "  str = \"\"\n",
    "  for i in s:\n",
    "    str = i + str\n",
    "  return str\n",
    "\n",
    "def reverse(s):\n",
    "    if len(s) == 0:\n",
    "        return s\n",
    "    else:\n",
    "        return reverse(s[1:]) + s[0]\n",
    "    \n",
    "def reverse(string):\n",
    "    string = string[::-1]\n",
    "    return string"
   ]
  },
  {
   "cell_type": "markdown",
   "id": "4a0b13b6",
   "metadata": {},
   "source": [
    "### Reorder the given string to form a K-concatenated string"
   ]
  },
  {
   "cell_type": "code",
   "execution_count": 11,
   "id": "def47d9a",
   "metadata": {},
   "outputs": [
    {
     "name": "stdout",
     "output_type": "stream",
     "text": [
      "{'g': 2, 'k': 2, 'e': 4}\n"
     ]
    },
    {
     "data": {
      "text/plain": [
       "'gkeegkee'"
      ]
     },
     "execution_count": 11,
     "metadata": {},
     "output_type": "execute_result"
    }
   ],
   "source": [
    "def kStringGenerate(st, k):\n",
    "    if len(st) % k != 0:\n",
    "        return False\n",
    "    hashMap = {}\n",
    "    \n",
    "    for s in st:\n",
    "        hashMap[s] = hashMap.get(s, 0) + 1\n",
    "        \n",
    "    print(hashMap)\n",
    "    single_copy = \"\"\n",
    "    \n",
    "    for ch, frequency in hashMap.items():\n",
    "        if ((frequency % k) != 0):\n",
    "                ans = \"Not Possible\"\n",
    "                return ans\n",
    "            \n",
    "        # ch character occurs (frequency/k) times in a\n",
    "        # single copy of k-string\n",
    "        total_occurrences = (frequency // k)\n",
    "\n",
    "        for j in range(total_occurrences):\n",
    "            single_copy += ch\n",
    "            \n",
    "            \n",
    "    kString = \"\"\n",
    " \n",
    "    # append the single copy formed k times\n",
    "    for i in range(k):\n",
    "        kString += single_copy\n",
    "    return kString\n",
    "\n",
    "st = \"gkeekgee\"\n",
    "k=2 \n",
    "kStringGenerate(st, k)"
   ]
  },
  {
   "cell_type": "markdown",
   "id": "3762d6cc",
   "metadata": {},
   "source": [
    "### 49. Group Anagrams"
   ]
  },
  {
   "cell_type": "code",
   "execution_count": 19,
   "id": "a7572b07",
   "metadata": {},
   "outputs": [
    {
     "name": "stdout",
     "output_type": "stream",
     "text": [
      "aet eat\n",
      "aet tea\n",
      "ant tan\n",
      "aet ate\n",
      "ant nat\n",
      "abt bat\n"
     ]
    },
    {
     "data": {
      "text/plain": [
       "dict_values([['eat', 'tea', 'ate'], ['tan', 'nat'], ['bat']])"
      ]
     },
     "execution_count": 19,
     "metadata": {},
     "output_type": "execute_result"
    }
   ],
   "source": [
    "def groupAnagrams(strs):\n",
    "    hashMap = {}\n",
    "    \n",
    "    for s in strs:\n",
    "        so = ''.join(sorted(s))\n",
    "        print(so, s)\n",
    "        if so in hashMap:\n",
    "            hashMap[so].append(s)\n",
    "        else:\n",
    "            hashMap[so] = [s]\n",
    "    return hashMap.values()\n",
    "\n",
    "\n",
    "strs = [\"eat\",\"tea\",\"tan\",\"ate\",\"nat\",\"bat\"]\n",
    "groupAnagrams(strs)\n",
    "# Output: [[\"bat\"],[\"nat\",\"tan\"],[\"ate\",\"eat\",\"tea\"]]"
   ]
  },
  {
   "cell_type": "markdown",
   "id": "5c42d546",
   "metadata": {},
   "source": [
    "## Rabin Karp Algorithm for pattern matching"
   ]
  },
  {
   "cell_type": "code",
   "execution_count": 28,
   "id": "18a3192f",
   "metadata": {},
   "outputs": [
    {
     "name": "stdout",
     "output_type": "stream",
     "text": [
      "5\n",
      "49 75\n",
      "0 4\n",
      "3 4\n",
      "Pattern is found at position: 11\n"
     ]
    }
   ],
   "source": [
    "# d be the number of characters in the input set\n",
    "d = 256\n",
    "\n",
    "\n",
    "def rabinKarpStringMatch(pattern, text):\n",
    "    # A prime number\n",
    "    q = 101\n",
    "    m = len(pattern)\n",
    "    n = len(text)\n",
    "    p = 0    # hash value for pattern\n",
    "    t = 0    # hash value for txt\n",
    "    h = 1\n",
    "    \n",
    "    # The value of h would be \"pow(d, M-1)%q\"\n",
    "    for i in range(m-1):\n",
    "        h = (h*d) % q\n",
    "        \n",
    "    print(h)\n",
    "    # Calculate hash value for pattern and text for first window\n",
    "    for i in range(m):\n",
    "        p = (d*p + ord(pattern[i])) % q\n",
    "        t = (d*t + ord(text[i])) % q\n",
    "        \n",
    "    print(p, t)\n",
    "        \n",
    "    for i in range(n-m+1):\n",
    "        if p == t:\n",
    "            for j in range(m):\n",
    "                if text[i+j] != pattern[j]:\n",
    "                    break\n",
    "            print(j, m)\n",
    "            j += 1\n",
    "            if j == m:\n",
    "                print(\"Pattern is found at position: \" + str(i+1))\n",
    "\n",
    "        if i < n-m:\n",
    "            t = (d*(t-ord(text[i])*h) + ord(text[i+m])) % q\n",
    "\n",
    "            if t < 0:\n",
    "                t = t+q\n",
    "\n",
    "pattern = \"TEST\"\n",
    "text = \"THIS IS A TEST TEXT\"\n",
    "rabinKarpStringMatch(pattern, text)"
   ]
  },
  {
   "cell_type": "markdown",
   "id": "8b3ce8fe",
   "metadata": {},
   "source": [
    "### 718. Maximum Length of Repeated Subarray\n",
    "### Longest Common Substring | DP-29"
   ]
  },
  {
   "cell_type": "code",
   "execution_count": 33,
   "id": "b800850b",
   "metadata": {},
   "outputs": [
    {
     "data": {
      "text/plain": [
       "3"
      ]
     },
     "execution_count": 33,
     "metadata": {},
     "output_type": "execute_result"
    }
   ],
   "source": [
    "def findLength(nums1, nums2):\n",
    "    \n",
    "    n = len(nums1)\n",
    "    m = len(nums2)\n",
    "    \n",
    "    if n == 0 or m == 0:\n",
    "        return 0\n",
    "    if n == 1 and m == 1:\n",
    "        if nums1[0] == nums2[0]:\n",
    "            return 1\n",
    "        else:\n",
    "            return 0\n",
    "    dp = [[0 for _ in range(m+1)] for _ in range(n+1)]\n",
    "    ans = 0\n",
    "    \n",
    "    for i in range(1, n + 1):\n",
    "        for j in range(1, m + 1):\n",
    "            \n",
    "            if nums1[i-1] == nums2[j-1]:\n",
    "                dp[i][j] = 1 + dp[i-1][j-1]\n",
    "                ans = max(ans, dp[i][j])\n",
    "    \n",
    "    return ans\n",
    "\n",
    "nums1 = [1,2,3,2,1]\n",
    "nums2 = [3,2,1,4,7]\n",
    "\n",
    "findLength(nums1, nums2)\n",
    "    \n"
   ]
  },
  {
   "cell_type": "markdown",
   "id": "be63a1d8",
   "metadata": {},
   "source": [
    "### Longest Common Substring | DP-29"
   ]
  },
  {
   "cell_type": "code",
   "execution_count": 64,
   "id": "90fc7942",
   "metadata": {},
   "outputs": [
    {
     "data": {
      "text/plain": [
       "5"
      ]
     },
     "execution_count": 64,
     "metadata": {},
     "output_type": "execute_result"
    }
   ],
   "source": [
    "def findLengthSubstring(x, y):\n",
    "    \n",
    "    n = len(x)\n",
    "    m = len(y)\n",
    "    \n",
    "    if n == 0 or m == 0:\n",
    "        return 0\n",
    "    if n == 1 and m == 1:\n",
    "        if x[0] == y[0]:\n",
    "            return 1\n",
    "        else:\n",
    "            return 0\n",
    "    dp = [[0 for _ in range(m+1)] for _ in range(n+1)]\n",
    "    ans = 0\n",
    "    x1 = None\n",
    "    y1 = None\n",
    "    \n",
    "    for i in range(1, n + 1):\n",
    "        for j in range(1, m + 1):\n",
    "            \n",
    "            if x[i-1] == y[j-1]:\n",
    "                dp[i][j] = 1 + dp[i-1][j-1]\n",
    "                if ans < dp[i][j]:\n",
    "                    ans = dp[i][j]\n",
    "                    x1 = i\n",
    "                    y1 = j\n",
    "    res = ans\n",
    "#     print(x1, y1)\n",
    "#     ans = []\n",
    "#     s = ''\n",
    "#     while x1 > 0:\n",
    "#         s += x[x1-1]\n",
    "#         x1 -= 1\n",
    "            \n",
    "#     s = s[::-1]\n",
    "    return ans\n",
    "\n",
    "\n",
    "x = \"GeeksforGeeks\"\n",
    "y = \"GeeksQuiz\" \n",
    "# x = \"ABCDGH\"\n",
    "# y = \"ACDGHR\"\n",
    "findLengthSubstring(x, y)"
   ]
  },
  {
   "cell_type": "code",
   "execution_count": null,
   "id": "00360c2a",
   "metadata": {},
   "outputs": [],
   "source": [
    "Building Heap from Array"
   ]
  }
 ],
 "metadata": {
  "kernelspec": {
   "display_name": "Python 3 (ipykernel)",
   "language": "python",
   "name": "python3"
  },
  "language_info": {
   "codemirror_mode": {
    "name": "ipython",
    "version": 3
   },
   "file_extension": ".py",
   "mimetype": "text/x-python",
   "name": "python",
   "nbconvert_exporter": "python",
   "pygments_lexer": "ipython3",
   "version": "3.10.0"
  }
 },
 "nbformat": 4,
 "nbformat_minor": 5
}
