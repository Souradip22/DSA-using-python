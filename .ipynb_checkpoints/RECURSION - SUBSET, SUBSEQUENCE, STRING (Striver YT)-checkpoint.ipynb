{
 "cells": [
  {
   "cell_type": "code",
   "execution_count": 20,
   "id": "0f34a362",
   "metadata": {},
   "outputs": [
    {
     "name": "stdout",
     "output_type": "stream",
     "text": [
      "bsdssd\n"
     ]
    }
   ],
   "source": [
    "#remove all occurance of a's\n",
    "def removeA(processed, unprocessed):\n",
    "    if len(unprocessed) == 0:\n",
    "        return processed\n",
    "    \n",
    "    ch = unprocessed[0]\n",
    "\n",
    "    if ch == 'a':\n",
    "        return removeA(processed, unprocessed[1:])\n",
    "    else:\n",
    "        return removeA(processed + ch, unprocessed[1:])\n",
    "\n",
    "ans = removeA(\"\", \"absdasasda\")        \n",
    "print(ans)\n",
    "    \n",
    "    \n",
    "    "
   ]
  },
  {
   "cell_type": "code",
   "execution_count": 37,
   "id": "068253b6",
   "metadata": {},
   "outputs": [
    {
     "name": "stdout",
     "output_type": "stream",
     "text": [
      "bsdssd\n"
     ]
    }
   ],
   "source": [
    "def removeA2(string):\n",
    "    if len(string) == 0:\n",
    "        return string\n",
    "    \n",
    "    ch = string[0]\n",
    "    if ch == 'a':\n",
    "        return removeA2(string[1:])\n",
    "    else:\n",
    "        return ch + removeA2(string[1:])\n",
    "    \n",
    "ans = removeA2(\"absdasasda\")        \n",
    "print(ans)"
   ]
  },
  {
   "cell_type": "code",
   "execution_count": 32,
   "id": "f5fac58b",
   "metadata": {},
   "outputs": [
    {
     "name": "stdout",
     "output_type": "stream",
     "text": [
      "absdassda\n"
     ]
    }
   ],
   "source": [
    "def removeApple(processed, unprocessed):\n",
    "    if len(unprocessed) == 0:\n",
    "        return processed\n",
    "    \n",
    "    ch = unprocessed[0]\n",
    "\n",
    "    if unprocessed.startswith('apple'):\n",
    "        return removeApple(processed, unprocessed[5:])\n",
    "    else:\n",
    "        return removeApple(processed + ch, unprocessed[1:])\n",
    "\n",
    "ans = removeApple(\"\", \"absdasapplesda\")        \n",
    "print(ans)"
   ]
  },
  {
   "cell_type": "code",
   "execution_count": 9,
   "id": "56310c7d",
   "metadata": {},
   "outputs": [
    {
     "name": "stdout",
     "output_type": "stream",
     "text": [
      "-----  abc\n",
      "-----  bc\n",
      "-----  c\n",
      "-----  \n",
      "\n",
      "----- c \n",
      "c\n",
      "----- b c\n",
      "----- b \n",
      "b\n",
      "----- bc \n",
      "bc\n",
      "----- a bc\n",
      "----- a c\n",
      "----- a \n",
      "a\n",
      "----- ac \n",
      "ac\n",
      "----- ab c\n",
      "----- ab \n",
      "ab\n",
      "----- abc \n",
      "abc\n"
     ]
    }
   ],
   "source": [
    "def subset1(p, up):\n",
    "    print('-----',p, up)\n",
    "    if len(up) == 0:\n",
    "        print(p)\n",
    "        return \n",
    "    \n",
    "    ch = up[0]\n",
    "    \n",
    "    subset1(p, up[1:])\n",
    "    subset1(p+ch, up[1:])\n",
    "    \n",
    "subset1('','abc')\n",
    "    \n",
    "    "
   ]
  },
  {
   "cell_type": "code",
   "execution_count": 46,
   "id": "ef46fb83",
   "metadata": {},
   "outputs": [
    {
     "name": "stdout",
     "output_type": "stream",
     "text": [
      "['', 'c', 'b', 'bc', 'a', 'ac', 'ab', 'abc']\n"
     ]
    }
   ],
   "source": [
    "def subset2(p, up, arr):\n",
    "    if len(up) == 0:\n",
    "        arr.append(p)\n",
    "        return arr\n",
    "    \n",
    "    ch = up[0]\n",
    "    \n",
    "    subset2(p, up[1:], arr)\n",
    "    subset2(p+ch, up[1:], arr)\n",
    "\n",
    "res = []\n",
    "subset2('','abc', res)\n",
    "print(res)\n",
    "    "
   ]
  },
  {
   "cell_type": "code",
   "execution_count": null,
   "id": "06ab52e4",
   "metadata": {},
   "outputs": [],
   "source": []
  },
  {
   "cell_type": "code",
   "execution_count": 57,
   "id": "c2dd67c3",
   "metadata": {},
   "outputs": [
    {
     "name": "stdout",
     "output_type": "stream",
     "text": [
      "[] ['c']\n",
      "['b'] ['bc']\n",
      "['c'] ['b', 'bc']\n",
      "['a'] ['ac']\n",
      "['ab'] ['abc']\n",
      "['a', 'ac'] ['ab', 'abc']\n",
      "['c', 'b', 'bc'] ['a', 'ac', 'ab', 'abc']\n",
      "['c', 'b', 'bc', 'a', 'ac', 'ab', 'abc']\n"
     ]
    }
   ],
   "source": [
    "def subset3(p, up):\n",
    "    ans = []\n",
    "    if len(up) == 0:\n",
    "        if p != '':\n",
    "            ans.append(p)\n",
    "        return ans\n",
    "    \n",
    "    ch = up[0]\n",
    "    \n",
    "    left = subset3(p, up[1:])\n",
    "    right = subset3(p+ch, up[1:])\n",
    "    print(left, right)\n",
    "    left.extend(right)\n",
    "    \n",
    "    return left\n",
    "\n",
    "res = subset3('','abc')\n",
    "print(res)"
   ]
  },
  {
   "cell_type": "code",
   "execution_count": 65,
   "id": "6de2e867",
   "metadata": {},
   "outputs": [
    {
     "name": "stdout",
     "output_type": "stream",
     "text": [
      "[] [3]\n",
      "[2] [23]\n",
      "[3] [2, 23]\n",
      "[1] [13]\n",
      "[12] [123]\n",
      "[1, 13] [12, 123]\n",
      "[3, 2, 23] [1, 13, 12, 123]\n",
      "[3, 2, 23, 1, 13, 12, 123]\n"
     ]
    }
   ],
   "source": [
    "def subSetNum(p, up):\n",
    "    ans = []\n",
    "    if len(up) == 0:\n",
    "        if p != '':\n",
    "            ans.append(int(p))\n",
    "        return ans\n",
    "    \n",
    "    ch = up[0]\n",
    "    \n",
    "    left = subSetNum(p, up[1:])\n",
    "    right = subSetNum(p+ch, up[1:])\n",
    "    print(left, right)\n",
    "    left.extend(right)\n",
    "    \n",
    "    return left\n",
    "\n",
    "res = subSetNum('','123')\n",
    "print(res)"
   ]
  },
  {
   "cell_type": "code",
   "execution_count": 95,
   "id": "f8c3150c",
   "metadata": {},
   "outputs": [
    {
     "name": "stdout",
     "output_type": "stream",
     "text": [
      "[234, 134, 124, 123]\n"
     ]
    }
   ],
   "source": [
    "# Python program to get all subsets of given size of a set\n",
    "# numbers = [1, 2, 3, 4]\n",
    "#     n = 3\n",
    "\n",
    "def subSetNumFromArr(nums,n):\n",
    "    return subSetNum2('', str(nums), 3)\n",
    "\n",
    "def subSetNum2(p, up, n):\n",
    "    print\n",
    "    ans = []\n",
    "    if len(up) == 0:\n",
    "        if len(p) == n:\n",
    "            ans.append(int(p))\n",
    "        return ans\n",
    "    \n",
    "    ch = up[0]\n",
    "    \n",
    "    left = subSetNum2(p, up[1:],n)\n",
    "    right = subSetNum2(p+ch, up[1:],n)\n",
    "\n",
    "    left.extend(right)\n",
    "    \n",
    "    return left\n",
    "\n",
    "res = subSetNumFromArr(1234, 3)\n",
    "print(res)"
   ]
  },
  {
   "cell_type": "markdown",
   "id": "f41dae4b",
   "metadata": {},
   "source": [
    "### Given an integer array nums of unique elements, return all possible subsets (the power set).\n",
    "\n",
    "### The solution set must not contain duplicate subsets. Return the solution in any order.\n",
    "```\n",
    "Input: nums = [1,2,3] \n",
    "Output: [[],[1],[2],[1,2],[3],[1,3],[2,3],[1,2,3]]\n",
    "```"
   ]
  },
  {
   "cell_type": "code",
   "execution_count": 15,
   "id": "40de1a66",
   "metadata": {},
   "outputs": [
    {
     "name": "stdout",
     "output_type": "stream",
     "text": [
      "[[], [3], [2], [2, 3], [1], [1, 3], [1, 2], [1, 2, 3]]\n"
     ]
    }
   ],
   "source": [
    "def subsets(nums):\n",
    "    ans = []\n",
    "    _helper(0, [], nums, ans)\n",
    "    return ans\n",
    "    \n",
    "def _helper(ind, curr, nums, ans):\n",
    "    if ind >= len(nums):\n",
    "        ans.append(curr.copy())\n",
    "        return\n",
    "    \n",
    "    _helper(ind + 1, curr, nums, ans)\n",
    "    curr.append(nums[ind])\n",
    "    _helper(ind + 1, curr, nums, ans)\n",
    "    curr.pop()\n",
    "    \n",
    "    \n",
    "    \n",
    "print(subsets([1,2,3]))\n",
    "    "
   ]
  },
  {
   "cell_type": "code",
   "execution_count": 13,
   "id": "ab079ff4",
   "metadata": {},
   "outputs": [
    {
     "name": "stdout",
     "output_type": "stream",
     "text": [
      "[[], [1], [1, 2], [1, 2, 3], [1, 3], [2], [2, 3], [3]]\n"
     ]
    }
   ],
   "source": [
    "def subsets(nums):\n",
    "    subsets_list = []\n",
    "    _helper([], 0, nums, subsets_list)\n",
    "    return subsets_list\n",
    "\n",
    "def _helper(curr, index, nums, ans):\n",
    "    ans.append(curr.copy())\n",
    "\n",
    "    for i in range(index, len(nums)):\n",
    "        curr.append(nums[i])\n",
    "        _helper(curr, i + 1, nums, ans)\n",
    "        curr.pop()\n",
    "\n",
    "nums = [1, 2, 3]\n",
    "result = subsets(nums)\n",
    "print(result)"
   ]
  },
  {
   "cell_type": "markdown",
   "id": "72400362",
   "metadata": {},
   "source": [
    "### Print all subseq whose sum is equals to k\n",
    "\n",
    "\n",
    "    nums = [1,2,1] k = 2 \n",
    "    answer [1,1] [2]"
   ]
  },
  {
   "cell_type": "code",
   "execution_count": 22,
   "id": "69492075",
   "metadata": {},
   "outputs": [
    {
     "name": "stdout",
     "output_type": "stream",
     "text": [
      "[[1, 1], [2]]\n"
     ]
    }
   ],
   "source": [
    "def subseqSumK(nums, k):\n",
    "    ans = []\n",
    "    _helperSumk(0, [], nums, 0, k, ans)\n",
    "    return ans\n",
    "    \n",
    "def _helperSumk(ind, curr, nums, lsum, k, ans):\n",
    "    \n",
    "    if ind == len(nums):\n",
    "        if lsum == k:\n",
    "            ans.append(curr.copy())\n",
    "        return\n",
    "    \n",
    "    curr.append(nums[ind])\n",
    "    lsum += nums[ind]\n",
    "    _helperSumk(ind + 1, curr, nums, lsum, k, ans)\n",
    "    \n",
    "    curr.pop()\n",
    "    lsum -= nums[ind]\n",
    "    _helperSumk(ind + 1, curr, nums, lsum, k, ans)\n",
    "\n",
    "\n",
    "nums = [1,2,1]\n",
    "k = 2\n",
    "print(subseqSumK(nums, k))\n",
    "    \n",
    "    "
   ]
  },
  {
   "cell_type": "markdown",
   "id": "8dfa45e3",
   "metadata": {},
   "source": [
    "### Print only one subseq for which sum is equals to k"
   ]
  },
  {
   "cell_type": "code",
   "execution_count": 24,
   "id": "8a24d09a",
   "metadata": {},
   "outputs": [
    {
     "name": "stdout",
     "output_type": "stream",
     "text": [
      "[[1, 1]]\n"
     ]
    }
   ],
   "source": [
    "def oneSeq(nums, k):\n",
    "    ans = []\n",
    "    _helperOneSeq(0, [], nums, 0, k, ans)\n",
    "    return ans\n",
    "    \n",
    "def _helperOneSeq(ind, curr, nums, lsum, k, ans):\n",
    "    \n",
    "    if ind == len(nums):\n",
    "        if lsum == k:\n",
    "            ans.append(curr.copy())\n",
    "            return True\n",
    "        return False\n",
    "    \n",
    "    curr.append(nums[ind])\n",
    "    lsum += nums[ind]\n",
    "    if _helperOneSeq(ind + 1, curr, nums, lsum, k, ans):\n",
    "        return True\n",
    "    \n",
    "    curr.pop()\n",
    "    lsum -= nums[ind]\n",
    "    if _helperOneSeq(ind + 1, curr, nums, lsum, k, ans):\n",
    "        return True\n",
    "    \n",
    "    return False\n",
    "\n",
    "\n",
    "nums = [1,2,1]\n",
    "k = 2\n",
    "print(oneSeq(nums, k))\n",
    "    "
   ]
  },
  {
   "cell_type": "markdown",
   "id": "016a032e",
   "metadata": {},
   "source": [
    "### Print subseq count whose given sum equals to k\n"
   ]
  },
  {
   "cell_type": "code",
   "execution_count": 25,
   "id": "f50d9334",
   "metadata": {},
   "outputs": [
    {
     "name": "stdout",
     "output_type": "stream",
     "text": [
      "2\n"
     ]
    }
   ],
   "source": [
    "def subseqCount(nums, k):\n",
    "\n",
    "    return _helperCount(0,nums, 0, k)\n",
    "    \n",
    "def _helperCount(ind, nums, lsum, k):\n",
    "    \n",
    "    if ind == len(nums):\n",
    "        if lsum == k:\n",
    "            return 1\n",
    "        return 0\n",
    "    \n",
    "    lsum += nums[ind]\n",
    "    left = _helperCount(ind + 1, nums, lsum, k)\n",
    "\n",
    "    lsum -= nums[ind]\n",
    "    right =  _helperCount(ind + 1, nums, lsum, k)\n",
    "    \n",
    "    return left + right\n",
    "\n",
    "nums = [1,2,1]\n",
    "k = 2\n",
    "print(subseqCount(nums, k))"
   ]
  },
  {
   "cell_type": "markdown",
   "id": "8d8c02d4",
   "metadata": {},
   "source": [
    "### Quick Sort\n"
   ]
  },
  {
   "cell_type": "code",
   "execution_count": 36,
   "id": "56ef8cd6",
   "metadata": {},
   "outputs": [
    {
     "name": "stdout",
     "output_type": "stream",
     "text": [
      "3 [2, 3, 1, 4, 8, 6, 5]\n",
      "1 [1, 2, 3, 4, 8, 6, 5]\n",
      "6 [1, 2, 3, 4, 5, 6, 8]\n",
      "4 [1, 2, 3, 4, 5, 6, 8]\n",
      "[1, 2, 3, 4, 5, 6, 8]\n"
     ]
    }
   ],
   "source": [
    "# this would give me the pivot index in the sorted arr\n",
    "def partition(arr, low, high):\n",
    "    # Select the pivot element (in this example, the first element)\n",
    "    pivot = arr[low]\n",
    "    \n",
    "    # Initialize the left and right pointers\n",
    "    i = low\n",
    "    j = high\n",
    "    \n",
    "    while i < j:\n",
    "        # Find element on the left side greater than to pivot\n",
    "        while arr[i] <= pivot and i < high:\n",
    "            i += 1\n",
    "        \n",
    "        # Find element on the right side smaller than or equal to pivot\n",
    "        while arr[j] > pivot and j > low:\n",
    "            j -= 1\n",
    "        \n",
    "        # Swap arr[i] and arr[j]\n",
    "        if i < j:\n",
    "            arr[i], arr[j] = arr[j], arr[i]\n",
    "    \n",
    "    arr[low], arr[j] = arr[j], arr[low]\n",
    "    return j\n",
    "    \n",
    "    \n",
    "    \n",
    "def quickSort(arr, si, ei):\n",
    "    \n",
    "    if si >= ei:\n",
    "        return\n",
    "    \n",
    "    pivotIndex = partition(arr, si, ei)\n",
    "    print(pivotIndex, arr)\n",
    "    quickSort(arr, si, pivotIndex - 1)\n",
    "    quickSort(arr, pivotIndex + 1, ei)\n",
    "    \n",
    "arr = [4,3,5,6,8,2,1]\n",
    "quickSort(arr, 0, 6)\n",
    "print(arr)\n",
    "    "
   ]
  },
  {
   "cell_type": "markdown",
   "id": "6952afa3",
   "metadata": {},
   "source": [
    "### Combination Sum 1 \n"
   ]
  },
  {
   "cell_type": "code",
   "execution_count": 37,
   "id": "46d02806",
   "metadata": {},
   "outputs": [
    {
     "name": "stdout",
     "output_type": "stream",
     "text": [
      "[[2, 2, 3], [7]]\n"
     ]
    }
   ],
   "source": [
    "def combinationSum(candidates, target):\n",
    "    ans = []\n",
    "    _helperComSum(0, [], target, candidates, ans)\n",
    "    return ans\n",
    "\n",
    "def _helperComSum(ind, curr, target, candidates, ans):\n",
    "\n",
    "    if target == 0:\n",
    "        ans.append(curr.copy())\n",
    "        return\n",
    "\n",
    "    if ind == len(candidates):\n",
    "        if target == 0:\n",
    "            ans.append(curr.copy())\n",
    "\n",
    "        return\n",
    "\n",
    "    if candidates[ind] <= target:\n",
    "        curr.append(candidates[ind])\n",
    "        _helperComSum(ind, curr, target - candidates[ind], candidates, ans)\n",
    "        curr.pop()\n",
    "\n",
    "    _helperComSum(ind + 1, curr, target, candidates, ans)\n",
    "    \n",
    "\n",
    "candidates = [2,3,6,7]\n",
    "target = 7\n",
    "# Output: [[2,2,3],[7]]\n",
    "print(combinationSum(candidates, target))"
   ]
  },
  {
   "cell_type": "markdown",
   "id": "3b0efa33",
   "metadata": {},
   "source": [
    "### 40. Combination Sum II\n",
    "\n",
    "    Input: candidates = [10,1,2,7,6,1,5], target = 8\n",
    "    Output: \n",
    "    [\n",
    "    [1,1,6],\n",
    "    [1,2,5],\n",
    "    [1,7],\n",
    "    [2,6]\n",
    "    ]"
   ]
  },
  {
   "cell_type": "code",
   "execution_count": 50,
   "id": "dfa3388f",
   "metadata": {},
   "outputs": [
    {
     "name": "stdout",
     "output_type": "stream",
     "text": [
      "[[1, 1, 2], [2, 2]]\n"
     ]
    }
   ],
   "source": [
    "def combinationSum2(candidates, target):\n",
    "    candidates.sort()\n",
    "    ans = []\n",
    "    _helperComSum2(0, [], target, candidates, ans)\n",
    "    return ans\n",
    "\n",
    "def _helperComSum2(ind, curr, target, candidates, ans):\n",
    "\n",
    "    if target == 0:\n",
    "        ans.append(curr.copy())\n",
    "        return\n",
    "\n",
    "    if ind >= len(candidates):\n",
    "        if target == 0:\n",
    "            ans.append(curr.copy())\n",
    "\n",
    "        return\n",
    "\n",
    "    for i in range(ind, len(candidates)):\n",
    "        \n",
    "        if i > ind and candidates[i] == candidates[i - 1]:\n",
    "            continue\n",
    "        \n",
    "        if candidates[i] <= target:\n",
    "            curr.append(candidates[i])\n",
    "            _helperComSum2(i + 1, curr, target - candidates[i], candidates, ans)\n",
    "            curr.pop()\n",
    "        else: \n",
    "            break\n",
    "\n",
    "\n",
    "\n",
    "\n",
    "candidates = [10,1,2,7,6,1,5]\n",
    "target = 8\n",
    "\n",
    "candidates = [1,1,1,2,2]\n",
    "target = 4\n",
    "\n",
    "print(combinationSum2(candidates, target))\n"
   ]
  },
  {
   "cell_type": "markdown",
   "id": "bca4b2b7",
   "metadata": {},
   "source": [
    "### Given a list arr of N integers, print sums of all subsets in it.\n",
    "\n",
    "\n",
    "    Input:\n",
    "    N = 2\n",
    "    arr[] = {2, 3}\n",
    "    Output:\n",
    "    0 2 3 5"
   ]
  },
  {
   "cell_type": "code",
   "execution_count": 59,
   "id": "aedc4d5c",
   "metadata": {},
   "outputs": [
    {
     "name": "stdout",
     "output_type": "stream",
     "text": [
      "[0, 1, 2, 3, 3, 4, 5, 6]\n"
     ]
    }
   ],
   "source": [
    "def subsetSums(arr, N):\n",
    "    ans = []\n",
    "    _helperSetSum(0, arr, N, 0, ans)\n",
    "    return sorted(ans)\n",
    "    \n",
    "def _helperSetSum(ind, arr, N, lsum, ans):\n",
    "    \n",
    "    if ind == N:\n",
    "        ans.append(lsum)\n",
    "        return\n",
    "    \n",
    "#     lsum += arr[ind]\n",
    "    _helperSetSum(ind + 1, arr, N, lsum + arr[ind], ans)\n",
    "    \n",
    "#     lsum -= arr[ind]\n",
    "    _helperSetSum(ind + 1, arr, N, lsum, ans)\n",
    "    \n",
    "    \n",
    "arr = [3,1,2]\n",
    "N = 3\n",
    "print(subsetSums(arr, N))\n",
    "    "
   ]
  },
  {
   "cell_type": "markdown",
   "id": "dd15ba91",
   "metadata": {},
   "source": [
    "90. Subsets II\n",
    "\n",
    "\n",
    "    Input: nums = [1,2,2]\n",
    "    Output: [[],[1],[1,2],[1,2,2],[2],[2,2]]"
   ]
  },
  {
   "cell_type": "code",
   "execution_count": 62,
   "id": "910ce308",
   "metadata": {},
   "outputs": [
    {
     "name": "stdout",
     "output_type": "stream",
     "text": [
      "[[], [1], [1, 2], [1, 2, 2], [1, 2, 2, 2], [1, 2, 2, 2, 3], [1, 2, 2, 2, 3, 3], [1, 2, 2, 3], [1, 2, 2, 3, 3], [1, 2, 3], [1, 2, 3, 3], [1, 3], [1, 3, 3], [2], [2, 2], [2, 2, 2], [2, 2, 2, 3], [2, 2, 2, 3, 3], [2, 2, 3], [2, 2, 3, 3], [2, 3], [2, 3, 3], [3], [3, 3]]\n"
     ]
    }
   ],
   "source": [
    "def subsetsWithDup(nums):\n",
    "    nums.sort()\n",
    "    ans = []\n",
    "    _helperFun(0, nums, [], ans)\n",
    "    return ans\n",
    "    \n",
    "def _helperFun(ind, nums, curr, ans):\n",
    "    \n",
    "    ans.append(curr.copy())\n",
    "    \n",
    "    for i in range(ind, len(nums)):\n",
    "        \n",
    "        if i > ind and nums[i] == nums[i - 1]:\n",
    "            continue\n",
    "            \n",
    "        curr.append(nums[i])\n",
    "        _helperFun(i + 1, nums, curr, ans)\n",
    "        curr.pop()\n",
    "        \n",
    "nums = [1,2,2,2,3,3]\n",
    "print(subsetsWithDup(nums))\n"
   ]
  },
  {
   "cell_type": "markdown",
   "id": "6d7b7c8e",
   "metadata": {},
   "source": [
    "### Permutation\n",
    "\n",
    "    Input: nums = [1,2,3]\n",
    "    Output: [[1,2,3],[1,3,2],[2,1,3],[2,3,1],[3,1,2],[3,2,1]]\n",
    "    All the integers of nums are unique."
   ]
  },
  {
   "cell_type": "code",
   "execution_count": 63,
   "id": "f3404185",
   "metadata": {},
   "outputs": [
    {
     "name": "stdout",
     "output_type": "stream",
     "text": [
      "[[1, 2, 3], [1, 3, 2], [2, 1, 3], [2, 3, 1], [3, 1, 2], [3, 2, 1]]\n"
     ]
    }
   ],
   "source": [
    "def permutation1(nums):\n",
    "    ans = []\n",
    "    _helperPermute(nums, [], ans)\n",
    "    return ans\n",
    "\n",
    "def _helperPermute(nums, curr, ans):\n",
    "    \n",
    "    if len(curr) == len(nums):\n",
    "        ans.append(curr.copy())\n",
    "        return\n",
    "    for i in range(len(nums)):\n",
    "        if nums[i] not in curr:\n",
    "            curr.append(nums[i])\n",
    "            _helperPermute(nums, curr, ans)\n",
    "            curr.pop()\n",
    "nums = [1,2,3]\n",
    "print(permutation1(nums))"
   ]
  },
  {
   "cell_type": "code",
   "execution_count": 68,
   "id": "096861dd",
   "metadata": {},
   "outputs": [
    {
     "name": "stdout",
     "output_type": "stream",
     "text": [
      "0 [1, 2, 3]\n",
      "1 [1, 2, 3]\n",
      "2 [1, 2, 3]\n",
      "3 [1, 2, 3]\n",
      "2 [1, 3, 2]\n",
      "3 [1, 3, 2]\n",
      "1 [2, 1, 3]\n",
      "2 [2, 1, 3]\n",
      "3 [2, 1, 3]\n",
      "2 [2, 3, 1]\n",
      "3 [2, 3, 1]\n",
      "1 [3, 2, 1]\n",
      "2 [3, 2, 1]\n",
      "3 [3, 2, 1]\n",
      "2 [3, 1, 2]\n",
      "3 [3, 1, 2]\n",
      "[[1, 2, 3], [1, 3, 2], [2, 1, 3], [2, 3, 1], [3, 2, 1], [3, 1, 2]]\n"
     ]
    }
   ],
   "source": [
    "def permutation2(nums):\n",
    "    ans = []\n",
    "    _helperPermute2(0, nums, ans)\n",
    "    return ans\n",
    "\n",
    "def _helperPermute2(ind, nums, ans):\n",
    "#     print(ind, nums)\n",
    "    if ind == len(nums):\n",
    "        ans.append(nums.copy())\n",
    "        return\n",
    "    \n",
    "    for i in range(ind, len(nums)):\n",
    "        nums[ind], nums[i] = nums[i], nums[ind]\n",
    "        _helperPermute2(ind + 1, nums, ans)\n",
    "        nums[ind], nums[i] = nums[i], nums[ind]\n",
    "        \n",
    "\n",
    "nums = [1,2,3]\n",
    "print(permutation2(nums))"
   ]
  },
  {
   "cell_type": "markdown",
   "id": "526c0d22",
   "metadata": {},
   "source": [
    "### N -Queens\n",
    "\n",
    "    Input: n = 4\n",
    "    Output: [[\".Q..\",\"...Q\",\"Q...\",\"..Q.\"],[\"..Q.\",\"Q...\",\"...Q\",\".Q..\"]]"
   ]
  },
  {
   "cell_type": "code",
   "execution_count": null,
   "id": "0ebadae9",
   "metadata": {},
   "outputs": [],
   "source": [
    "def solveNQueens(n):\n",
    "\n",
    "    board = [['.' for i in range(n)] for j in range(n)]\n",
    "    print(board)\n",
    "    \n",
    "print(solveNQueens(4))"
   ]
  },
  {
   "cell_type": "code",
   "execution_count": null,
   "id": "cf536871",
   "metadata": {},
   "outputs": [],
   "source": []
  },
  {
   "cell_type": "code",
   "execution_count": null,
   "id": "b07ca5eb",
   "metadata": {},
   "outputs": [],
   "source": []
  },
  {
   "cell_type": "code",
   "execution_count": null,
   "id": "af172cfe",
   "metadata": {},
   "outputs": [],
   "source": []
  }
 ],
 "metadata": {
  "kernelspec": {
   "display_name": "Python 3 (ipykernel)",
   "language": "python",
   "name": "python3"
  },
  "language_info": {
   "codemirror_mode": {
    "name": "ipython",
    "version": 3
   },
   "file_extension": ".py",
   "mimetype": "text/x-python",
   "name": "python",
   "nbconvert_exporter": "python",
   "pygments_lexer": "ipython3",
   "version": "3.10.0"
  }
 },
 "nbformat": 4,
 "nbformat_minor": 5
}
