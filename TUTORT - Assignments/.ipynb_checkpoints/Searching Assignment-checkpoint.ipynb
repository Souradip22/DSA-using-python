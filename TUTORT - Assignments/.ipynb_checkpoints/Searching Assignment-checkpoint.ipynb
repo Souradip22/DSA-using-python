{
 "cells": [
  {
   "cell_type": "markdown",
   "id": "f70dd1fd",
   "metadata": {},
   "source": [
    "https://leetcode.com/problems/search-in-rotated-sorted-array/"
   ]
  },
  {
   "cell_type": "code",
   "execution_count": 1,
   "id": "1d60ae2c",
   "metadata": {},
   "outputs": [
    {
     "name": "stdout",
     "output_type": "stream",
     "text": [
      "4\n"
     ]
    }
   ],
   "source": [
    "def search(nums,k):\n",
    "    low = 0\n",
    "    high = len(nums) - 1\n",
    "\n",
    "    while low <= high:\n",
    "\n",
    "        mid = low + (high - low)//2\n",
    "\n",
    "        if nums[mid] == k:\n",
    "            return mid\n",
    "\n",
    "        isLeftSorted = nums[low] <= nums[mid]\n",
    "\n",
    "        if isLeftSorted:\n",
    "            #check if target present in this range\n",
    "            if nums[low] <= k and k <= nums[mid]:\n",
    "                high = mid - 1\n",
    "            else:\n",
    "                low = mid + 1\n",
    "        else:\n",
    "            if nums[mid] <= k and k <= nums[high]:\n",
    "                low = mid + 1\n",
    "            else:\n",
    "                high = mid - 1\n",
    "    return -1\n",
    "\n",
    "nums = [4,5,6,7,0,1,2]\n",
    "k = 0\n",
    "# Output: 4\n",
    "print(search(nums,k))"
   ]
  },
  {
   "cell_type": "markdown",
   "id": "2227341d",
   "metadata": {},
   "source": [
    "https://leetcode.com/problems/search-in-rotated-sorted-array-ii/\n"
   ]
  },
  {
   "cell_type": "code",
   "execution_count": 2,
   "id": "fac75a4c",
   "metadata": {},
   "outputs": [
    {
     "name": "stdout",
     "output_type": "stream",
     "text": [
      "True\n"
     ]
    }
   ],
   "source": [
    "def search(nums, k):\n",
    "    low = 0\n",
    "    high = len(nums) - 1\n",
    "\n",
    "    while low <= high:\n",
    "\n",
    "        mid = low + (high - low)//2\n",
    "\n",
    "        if nums[mid] == k:\n",
    "            return True\n",
    "\n",
    "\n",
    "\n",
    "        isLeftSorted = nums[low] <= nums[mid]\n",
    "        if nums[low] == nums[high] == nums[mid]:\n",
    "            low += 1\n",
    "            high -= 1\n",
    "            continue\n",
    "\n",
    "#         print(isLeftSorted, mid)\n",
    "\n",
    "        if isLeftSorted:\n",
    "            #check if target present in this range\n",
    "            if nums[low] <= k and k <= nums[mid]:\n",
    "                high = mid - 1\n",
    "            else:\n",
    "                low = mid + 1\n",
    "        else:\n",
    "            if nums[mid] <= k and k <= nums[high]:\n",
    "                low = mid + 1\n",
    "            else:\n",
    "                high = mid - 1\n",
    "    return False\n",
    "\n",
    "nums = [2,5,6,0,0,1,2]\n",
    "k = 0\n",
    "# Output: true\n",
    "print(search(nums, k))"
   ]
  },
  {
   "cell_type": "markdown",
   "id": "2355a4fc",
   "metadata": {},
   "source": [
    "https://leetcode.com/problems/find-minimum-in-rotated-sorted-array/"
   ]
  },
  {
   "cell_type": "code",
   "execution_count": 3,
   "id": "63ae2f5f",
   "metadata": {},
   "outputs": [
    {
     "name": "stdout",
     "output_type": "stream",
     "text": [
      "1\n"
     ]
    }
   ],
   "source": [
    "def findMin(nums):\n",
    "    low = 0\n",
    "    high = len(nums) - 1\n",
    "    ans = float('inf')\n",
    "\n",
    "    while low <= high:\n",
    "\n",
    "        mid = low + (high - low)//2\n",
    "\n",
    "        isLeftSorted = nums[low] <= nums[mid]\n",
    "\n",
    "        if isLeftSorted:\n",
    "            ans = min(nums[low], ans)\n",
    "            low = mid + 1\n",
    "        else:\n",
    "            ans = min(nums[mid], ans)\n",
    "            high = mid - 1\n",
    "\n",
    "    return ans\n",
    "\n",
    "nums = [3,4,5,1,2]\n",
    "# Output: 1\n",
    "print(findMin(nums))"
   ]
  },
  {
   "cell_type": "markdown",
   "id": "37c23187",
   "metadata": {},
   "source": [
    "https://leetcode.com/problems/find-minimum-in-rotated-sorted-array-ii/"
   ]
  },
  {
   "cell_type": "code",
   "execution_count": 4,
   "id": "a8279ef5",
   "metadata": {},
   "outputs": [
    {
     "name": "stdout",
     "output_type": "stream",
     "text": [
      "0\n"
     ]
    }
   ],
   "source": [
    "def findMin2(nums):\n",
    "    if len(nums) <= 1:\n",
    "        return nums[0]\n",
    "\n",
    "    l = 0\n",
    "    r = len(nums) - 1\n",
    "\n",
    "    while l < r:\n",
    "        m = (l + r) // 2\n",
    "\n",
    "        if nums[m] < nums[r]:\n",
    "            # m could be potential ans\n",
    "            r = m\n",
    "        elif nums[m] > nums[r]:\n",
    "            l = m + 1\n",
    "        else:\n",
    "            r = r-1\n",
    "\n",
    "    return nums[r]\n",
    "\n",
    "nums = [2,2,2,0,1]\n",
    "# Output: 0\n",
    "print(findMin2(nums))"
   ]
  },
  {
   "cell_type": "markdown",
   "id": "380ac3e7",
   "metadata": {},
   "source": [
    "https://leetcode.com/problems/search-a-2d-matrix/"
   ]
  },
  {
   "cell_type": "code",
   "execution_count": 7,
   "id": "b11c74ff",
   "metadata": {},
   "outputs": [
    {
     "name": "stdout",
     "output_type": "stream",
     "text": [
      "True\n"
     ]
    }
   ],
   "source": [
    "def searchMatrix(matrix, target):\n",
    "\n",
    "    row = len(matrix)\n",
    "    col = len(matrix[0])\n",
    "\n",
    "    low = 0\n",
    "    high = (row * col) - 1\n",
    "\n",
    "    while low <= high:\n",
    "\n",
    "        mid = low + (high - low) // 2\n",
    "\n",
    "        r = mid // col\n",
    "        c = mid % col\n",
    "\n",
    "        if matrix[r][c] == target:\n",
    "            return True\n",
    "\n",
    "        elif matrix[r][c] < target:\n",
    "            low = mid + 1\n",
    "        else:\n",
    "            high = mid - 1\n",
    "    return False\n",
    "\n",
    "matrix = [[1,3,5,7],[10,11,16,20],[23,30,34,60]]\n",
    "target = 3\n",
    "# Output: true\n",
    "print(searchMatrix(matrix, target))"
   ]
  },
  {
   "cell_type": "markdown",
   "id": "5a4de6f1",
   "metadata": {},
   "source": [
    "https://leetcode.com/problems/search-a-2d-matrix-ii/"
   ]
  },
  {
   "cell_type": "code",
   "execution_count": 8,
   "id": "2b98de15",
   "metadata": {},
   "outputs": [
    {
     "name": "stdout",
     "output_type": "stream",
     "text": [
      "True\n"
     ]
    }
   ],
   "source": [
    "def searchMatrix2(matrix, target):\n",
    "\n",
    "    row = len(matrix)\n",
    "    col = len(matrix[0])\n",
    "\n",
    "    low = 0\n",
    "    high = row - 1\n",
    "\n",
    "    while low <= high:\n",
    "\n",
    "        mid = low + (high - low) // 2\n",
    "\n",
    "        midRow = matrix[low]\n",
    "\n",
    "        #check if target in between\n",
    "        if midRow[0] <= target <= midRow[-1]:\n",
    "\n",
    "            tempLow = 0\n",
    "            tempHigh = col - 1\n",
    "\n",
    "            while tempLow <= tempHigh:\n",
    "\n",
    "                tempMid = tempLow + (tempHigh - tempLow) // 2\n",
    "\n",
    "                if midRow[tempMid] == target:\n",
    "                    return True\n",
    "                if target > midRow[tempMid]:\n",
    "                    tempLow = tempMid + 1\n",
    "                else:\n",
    "                    tempHigh = tempMid - 1\n",
    "        low += 1\n",
    "\n",
    "    return False\n",
    "\n",
    "matrix = [[1,4,7,11,15],[2,5,8,12,19],[3,6,9,16,22],[10,13,14,17,24],[18,21,23,26,30]]\n",
    "target = 5\n",
    "# Output: true\n",
    "print(searchMatrix2(matrix, target))"
   ]
  },
  {
   "cell_type": "markdown",
   "id": "5524ec61",
   "metadata": {},
   "source": [
    "https://leetcode.com/problems/find-peak-element/"
   ]
  },
  {
   "cell_type": "code",
   "execution_count": 9,
   "id": "6901c388",
   "metadata": {},
   "outputs": [
    {
     "name": "stdout",
     "output_type": "stream",
     "text": [
      "5\n"
     ]
    }
   ],
   "source": [
    "def findPeakElement(nums):\n",
    "\n",
    "    if len(nums) == 1:\n",
    "        return 0\n",
    "    N = len(nums)\n",
    "    if nums[0] > nums[1]:\n",
    "        return 0\n",
    "    if nums[N - 1] > nums[N - 2]:\n",
    "        return N - 1\n",
    "\n",
    "    low = 1\n",
    "    high = N - 2\n",
    "\n",
    "    while low <= high:\n",
    "\n",
    "        mid = low + (high - low) // 2\n",
    "\n",
    "        if nums[mid - 1] < nums[mid] and nums[mid] > nums[mid+ 1]:\n",
    "\n",
    "            return mid\n",
    "        elif nums[mid - 1] < nums[mid]:\n",
    "            low = mid + 1\n",
    "        elif nums[mid + 1]  < nums[mid]:\n",
    "            high = mid - 1\n",
    "        else:\n",
    "#             low = mid + 1\n",
    "            high = mid - 1\n",
    "    return -1\n",
    "\n",
    "nums = [1,2,1,3,5,6,4]\n",
    "# Output: 5\n",
    "print(findPeakElement(nums))"
   ]
  },
  {
   "cell_type": "markdown",
   "id": "3ed679af",
   "metadata": {},
   "source": [
    "https://leetcode.com/problems/peak-index-in-a-mountain-array/description/"
   ]
  },
  {
   "cell_type": "code",
   "execution_count": 11,
   "id": "faccd627",
   "metadata": {},
   "outputs": [
    {
     "name": "stdout",
     "output_type": "stream",
     "text": [
      "1\n"
     ]
    }
   ],
   "source": [
    "def peakIndexInMountainArray(arr):\n",
    "    left = 0\n",
    "    right = len(arr) - 1\n",
    "\n",
    "    while left < right:\n",
    "        mid = (left + right) // 2\n",
    "\n",
    "        if arr[mid]> arr[mid + 1]:\n",
    "            right = mid\n",
    "        else:\n",
    "            left = mid + 1\n",
    "\n",
    "    return left\n",
    "\n",
    "arr = [0,10,5,2]\n",
    "# Output: 1\n",
    "print(peakIndexInMountainArray(arr))"
   ]
  },
  {
   "cell_type": "markdown",
   "id": "592e137f",
   "metadata": {},
   "source": [
    "https://leetcode.com/problems/random-pick-with-weight/"
   ]
  },
  {
   "cell_type": "code",
   "execution_count": null,
   "id": "6c3bd789",
   "metadata": {},
   "outputs": [],
   "source": [
    "import random\n",
    "\n",
    "class Solution:\n",
    "    def __init__(self, w: List[int]):\n",
    "        self.w = w\n",
    "        denom = sum(self.w)\n",
    "        for i in range(len(self.w)):\n",
    "            self.w[i] = self.w[i] / denom\n",
    "        for i in range(1,len(self.w)):\n",
    "            self.w[i] += self.w[i-1]\n",
    "        \n",
    "    def pickIndex(self) -> int:\n",
    "        N = random.uniform(0,1)\n",
    "      \n",
    "        flag = 1\n",
    "        index = -1\n",
    "        while flag:\n",
    "            index +=1 \n",
    "            if N <= self.w[index]:\n",
    "                flag = 0\n",
    "        return index\n",
    "        "
   ]
  }
 ],
 "metadata": {
  "kernelspec": {
   "display_name": "Python 3 (ipykernel)",
   "language": "python",
   "name": "python3"
  },
  "language_info": {
   "codemirror_mode": {
    "name": "ipython",
    "version": 3
   },
   "file_extension": ".py",
   "mimetype": "text/x-python",
   "name": "python",
   "nbconvert_exporter": "python",
   "pygments_lexer": "ipython3",
   "version": "3.10.0"
  }
 },
 "nbformat": 4,
 "nbformat_minor": 5
}
