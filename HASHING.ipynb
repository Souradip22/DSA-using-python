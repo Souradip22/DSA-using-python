{
 "cells": [
  {
   "cell_type": "code",
   "execution_count": 39,
   "id": "ff67fb0c",
   "metadata": {},
   "outputs": [],
   "source": [
    "class MapNode:\n",
    "    def __init__(self, key, value):\n",
    "        self.key = key\n",
    "        self.value = value\n",
    "        self.next = None\n",
    "\n",
    "class HashMap:\n",
    "    def __init__(self):\n",
    "        self.bucketSize = 5\n",
    "        self.bucket = [None for i in range(self.bucketSize)]\n",
    "        self.count = 0\n",
    "        \n",
    "    def getBucketIndex(self, hc):\n",
    "        bucketIndex = abs(hc) % self.bucketSize\n",
    "        return bucketIndex\n",
    "    \n",
    "    def size(self):\n",
    "        return self.count\n",
    "    \n",
    "    def search(self, key):\n",
    "        hc = hash(key)\n",
    "        bucketIndex = self.getBucketIndex(abs(hc))\n",
    "        head = self.bucket[bucketIndex]\n",
    "        \n",
    "        while head is not None:\n",
    "            if head.key == key:\n",
    "                return head.value\n",
    "            head = head.next\n",
    "        return None\n",
    "    # Time   Complexity\n",
    "    # Calculating HC --> O(l)\n",
    "    # iterating on LL --> O(n)\n",
    "    # O(l) << O(n)\n",
    "    # O(n) needs to be improved\n",
    "    def insert(self, key, value):\n",
    "        \n",
    "        hc = hash(key)\n",
    "        bucketIndex = self.getBucketIndex(abs(hc))\n",
    "        \n",
    "        head = self.bucket[bucketIndex]\n",
    "        \n",
    "        while head is not None:\n",
    "            # if existing node found in that bucketIndex just update the value\n",
    "            if head.key == key:\n",
    "                head.value = value\n",
    "                return\n",
    "            head = head.next\n",
    "        # if this is a new entry\n",
    "        head = self.bucket[bucketIndex]\n",
    "        newNode = MapNode(key, value)\n",
    "        newNode.next = head\n",
    "        self.bucket[bucketIndex] = newNode\n",
    "        self.count += 1\n",
    "        loadFactor = self.count/self.bucketSize\n",
    "        print(loadFactor, self.bucketSize)\n",
    "        if loadFactor >= 0.7:\n",
    "            self.reHash()\n",
    "    \n",
    "    def reHash(self):\n",
    "        #store the refrenc eto bucket in temp variable\n",
    "        temp = self.bucket\n",
    "        # create a new bucket with size of 2 * previous bucket size and store it in the self.bucket\n",
    "        self.bucket = [None for i in range(2 * self.bucketSize)]\n",
    "        # also set the count to 0\n",
    "        self.count = 0\n",
    "        self.bucketSize = 2 * self.bucketSize\n",
    "        # now we have to copy each linked list from the temp bucket and insert it in the new self.bucket\n",
    "        for head in temp:\n",
    "            while head is not None:\n",
    "                self.insert(head.key, head.value)\n",
    "                head = head.next\n",
    "                \n",
    "    def getLoadFactor(self):\n",
    "#         print(self.count, self.bucketSize)\n",
    "        return self.count/self.bucketSize\n",
    "    \n",
    "    def remove(self, key):\n",
    "        hc = hash(key)\n",
    "        bucketIndex = self.getBucketIndex(abs(hc))\n",
    "        head = self.bucket[bucketIndex]\n",
    "        prev = None\n",
    "        while head is not None:\n",
    "            if head.key == key:\n",
    "                # when prev is none: that means we are trying to remove the first element in the LL so we will say current \n",
    "                # bucketIndex should point to the next to head\n",
    "                if prev == None:\n",
    "                    self.buckets[index] = head.next \n",
    "                else:\n",
    "                    prev.next = head.next\n",
    "                self.count -= 1\n",
    "                return head.value \n",
    "            prev = head\n",
    "            head = head.next\n",
    "        return None\n",
    "                \n",
    "        \n",
    "    "
   ]
  },
  {
   "cell_type": "code",
   "execution_count": 40,
   "id": "5cc4543f",
   "metadata": {},
   "outputs": [
    {
     "name": "stdout",
     "output_type": "stream",
     "text": [
      "0.2 5\n",
      "0.4 5\n",
      "0.6 5\n",
      "0.8 5\n",
      "0.1 10\n",
      "0.2 10\n",
      "0.3 10\n",
      "0.4 10\n",
      "0.5 10\n",
      "0.6 10\n",
      "0.7 10\n",
      "0.05 20\n",
      "0.1 20\n",
      "0.15 20\n",
      "0.2 20\n",
      "0.25 20\n",
      "0.3 20\n",
      "0.35 20\n",
      "0.4 20\n",
      "0.45 20\n",
      "0.5 20\n",
      "abc0 0\n",
      "abc1 1\n",
      "abc2 2\n",
      "abc3 3\n",
      "abc4 4\n",
      "abc5 5\n",
      "abc6 6\n",
      "abc7 7\n",
      "abc8 8\n",
      "abc9 9\n",
      "LF : 0.5\n",
      "BUCKET SIZE : 10\n"
     ]
    }
   ],
   "source": [
    "m = HashMap()\n",
    "# m.insert('SCA', 22)\n",
    "# print(m.search('SCA'))\n",
    "# print(m.size())\n",
    "# m.insert('Rohan', 55)\n",
    "# print(m.size())\n",
    "# m.insert('SCA', 24)\n",
    "# print(m.size())\n",
    "# print(m.search('SCA'))\n",
    "# print(m.search('Rohan'))\n",
    "for i in range(10):\n",
    "    m.insert('abc' + str(i), i)\n",
    "    \n",
    "for i in range(10):\n",
    "    print('abc' + str(i), m.search('abc' + str(i)))\n",
    "    \n",
    "    \n",
    "print('LF : ' + str(m.getLoadFactor()))\n",
    "print('BUCKET SIZE : ' + str(m.size()))\n",
    "\n"
   ]
  },
  {
   "cell_type": "code",
   "execution_count": 43,
   "id": "a5b5fc8d",
   "metadata": {},
   "outputs": [
    {
     "name": "stdout",
     "output_type": "stream",
     "text": [
      "1 2 3\n"
     ]
    }
   ],
   "source": [
    "arr = [1,2,3]\n",
    "print(*arr)"
   ]
  },
  {
   "cell_type": "markdown",
   "id": "f48af5ec",
   "metadata": {},
   "source": [
    "### Find whether an array is subset of another array\n"
   ]
  },
  {
   "cell_type": "code",
   "execution_count": 4,
   "id": "fa0a42a7",
   "metadata": {},
   "outputs": [
    {
     "data": {
      "text/plain": [
       "True"
      ]
     },
     "execution_count": 4,
     "metadata": {},
     "output_type": "execute_result"
    }
   ],
   "source": [
    "# Input: arr1[] = {11, 1, 13, 21, 3, 7}, arr2[] = {11, 3, 7, 1} \n",
    "# Output: arr2[] is a subset of arr1[]\n",
    "\n",
    "def isArrSubset(arr1, arr2):\n",
    "    \n",
    "    hashSet = set()\n",
    "    \n",
    "    for i in range(len(arr1)):\n",
    "        hashSet.add(arr1[i])\n",
    "        \n",
    "    for i in range(len(arr2)):\n",
    "        if arr2[i] in hashSet:\n",
    "            continue\n",
    "        else:\n",
    "            return False\n",
    "    return True\n",
    "\n",
    "arr1 = [11, 1, 13, 21, 3, 7]\n",
    "arr2 = [11, 3, 7, 1]\n",
    "\n",
    "isArrSubset(arr1, arr2)"
   ]
  },
  {
   "cell_type": "markdown",
   "id": "5c293ab4",
   "metadata": {},
   "source": [
    "### Union and Intersection of two linked lists | Set-3 (Hashing)"
   ]
  },
  {
   "cell_type": "code",
   "execution_count": null,
   "id": "850547d9",
   "metadata": {},
   "outputs": [],
   "source": []
  },
  {
   "cell_type": "markdown",
   "id": "0c0a9031",
   "metadata": {},
   "source": [
    "### Given an array A[] and a number x, check for pair in A[] with sum as x (aka Two Sum)"
   ]
  },
  {
   "cell_type": "code",
   "execution_count": 7,
   "id": "3820d348",
   "metadata": {},
   "outputs": [
    {
     "data": {
      "text/plain": [
       "True"
      ]
     },
     "execution_count": 7,
     "metadata": {},
     "output_type": "execute_result"
    }
   ],
   "source": [
    "def twoSum(A, n):\n",
    "    \n",
    "    A.sort()\n",
    "    \n",
    "    l = 0\n",
    "    r = len(A) - 1\n",
    "    \n",
    "    while l < r:\n",
    "        if (A[l] + A[r] == n):\n",
    "            return True\n",
    "        elif (A[l] + A[r]) < n:\n",
    "            l += 1\n",
    "        else:\n",
    "            r -= 1\n",
    "    return False\n",
    "\n",
    "\n",
    "A = [1, 4, 45, 6, 10, -8]\n",
    "n = 16\n",
    "twoSum(A,n)"
   ]
  },
  {
   "cell_type": "code",
   "execution_count": 9,
   "id": "55fdafdb",
   "metadata": {},
   "outputs": [
    {
     "name": "stdout",
     "output_type": "stream",
     "text": [
      "10 6\n"
     ]
    }
   ],
   "source": [
    "# Initialize an empty hash table s.\n",
    "# Do following for each element A[i] in A[] \n",
    "# If s[x – A[i]] is set then print the pair (A[i], x – A[i])\n",
    "# Insert A[i] into s.\n",
    "def twoSum2(A, n):\n",
    "    s = {}\n",
    "    for i in range(len(A)):\n",
    "        if s.get(n - A[i]):\n",
    "            print(A[i], n - A[i])\n",
    "        else:\n",
    "            s[A[i]] = i\n",
    "            \n",
    "            \n",
    "\n",
    "A = [1, 4, 45, 6, 10, -8]\n",
    "n = 16\n",
    "twoSum2(A,n)\n",
    "        "
   ]
  },
  {
   "cell_type": "markdown",
   "id": "dd2a93bf",
   "metadata": {},
   "source": [
    "### Minimum delete operations to make all elements of array same"
   ]
  },
  {
   "cell_type": "code",
   "execution_count": 10,
   "id": "b4b259cb",
   "metadata": {},
   "outputs": [],
   "source": [
    "# Input: arr[] = {4, 3, 4, 4, 2, 4}\n",
    "# Output: 2\n",
    "# After deleting 2 and 3 from array, array becomes \n",
    "# arr[] = {4, 4, 4, 4} \n",
    "\n",
    "# Input: arr[] = {1, 2, 3, 4, 5}\n",
    "# Output: 4\n",
    "# We can delete any four elements from array."
   ]
  },
  {
   "cell_type": "code",
   "execution_count": 15,
   "id": "e17b0ddb",
   "metadata": {},
   "outputs": [
    {
     "data": {
      "text/plain": [
       "2"
      ]
     },
     "execution_count": 15,
     "metadata": {},
     "output_type": "execute_result"
    }
   ],
   "source": [
    "def minDelete(arr):\n",
    "    \n",
    "    freq = {}\n",
    "    \n",
    "    for i in range(len(arr)):\n",
    "        if arr[i] in freq:\n",
    "            freq[arr[i]] += 1\n",
    "        else:\n",
    "            freq[arr[i]] = 1\n",
    "            \n",
    "    max_freq = 0\n",
    "    for i, j in freq.items():\n",
    "        max_freq = max(max_freq, j)\n",
    "            \n",
    "    return len(arr) - max_freq\n",
    "arr = [4, 3, 4, 4, 2, 4]   \n",
    "minDelete(arr)"
   ]
  },
  {
   "cell_type": "markdown",
   "id": "f6e51b40",
   "metadata": {},
   "source": [
    "### Minimum operation to make all elements equal in array\n",
    "Input : arr[] = {1, 2, 3, 4}\n",
    "Output : 3\n",
    "Since all elements are different, \n",
    "we need to perform at least three\n",
    "operations to make them same. For\n",
    "example, we can make them all 1\n",
    "by doing three subtractions. Or make\n",
    "them all 3 by doing three additions.\n",
    "\n",
    "Input : arr[] = {1, 1, 1, 1}\n",
    "Output : 0 "
   ]
  },
  {
   "cell_type": "code",
   "execution_count": 21,
   "id": "165b35b9",
   "metadata": {},
   "outputs": [
    {
     "data": {
      "text/plain": [
       "5"
      ]
     },
     "execution_count": 21,
     "metadata": {},
     "output_type": "execute_result"
    }
   ],
   "source": [
    "from collections import defaultdict\n",
    "\n",
    "def minOperation(arr):\n",
    "    \n",
    "    Hash = defaultdict(lambda:0)\n",
    "\n",
    "    for i in range(len(arr)):\n",
    "        Hash[arr[i]] += 1\n",
    "  \n",
    "    # find the max_freq\n",
    "    max_count = 0\n",
    "    for i, j in Hash.items():\n",
    "        max_count = max(max_count, j)\n",
    "        \n",
    "    return len(arr) - max_count\n",
    "\n",
    "arr = [1, 3, 5, 7, 9, 11]\n",
    "minOperation(arr)\n",
    "        \n",
    "    "
   ]
  },
  {
   "cell_type": "markdown",
   "id": "c23218a3",
   "metadata": {},
   "source": [
    "### Maximum distance between two occurrences of same element in array"
   ]
  },
  {
   "cell_type": "code",
   "execution_count": 25,
   "id": "d72b7925",
   "metadata": {},
   "outputs": [
    {
     "name": "stdout",
     "output_type": "stream",
     "text": [
      "{3: 0, 2: 1, 1: 2, 4: 5, 5: 6, 8: 7, 6: 8, 7: 9}\n"
     ]
    },
    {
     "data": {
      "text/plain": [
       "10"
      ]
     },
     "execution_count": 25,
     "metadata": {},
     "output_type": "execute_result"
    }
   ],
   "source": [
    "\n",
    "# Input : arr[] = {3, 2, 1, 2, 1, 4, 5, 8, 6, 7, 4, 2}\n",
    "# Output: 10\n",
    "# // maximum distance for 2 is 11-1 = 10 \n",
    "# // maximum distance for 1 is 4-2 = 2 \n",
    "# // maximum distance for 4 is 10-5 = 5 \n",
    "def findMaxDistance(arr):\n",
    "    max_so_far = 0\n",
    "    hashMap = {}\n",
    "    \n",
    "    for i in range(len(arr)):\n",
    "        # get the maximum of currentIndex and oldIndex [NoticeWe are not updating the value]\n",
    "        if hashMap.get(arr[i]):\n",
    "            oldIndex = hashMap.get(arr[i])\n",
    "            max_so_far = max(max_so_far, i - oldIndex)\n",
    "        else:\n",
    "            # store the initial localtion\n",
    "            hashMap[arr[i]] = i\n",
    "    print(hashMap)\n",
    "    return max_so_far\n",
    "            \n",
    "arr = [3, 2, 1, 2, 1, 4, 5, 8, 6, 7, 4, 2]\n",
    "findMaxDistance(arr)\n",
    "        \n",
    "            "
   ]
  },
  {
   "cell_type": "markdown",
   "id": "9fa96665",
   "metadata": {},
   "source": [
    "### Count maximum points on same line"
   ]
  },
  {
   "cell_type": "code",
   "execution_count": 26,
   "id": "9ff9b758",
   "metadata": {},
   "outputs": [
    {
     "name": "stdout",
     "output_type": "stream",
     "text": [
      "4\n"
     ]
    }
   ],
   "source": [
    "# Input : points[] = {-1, 1}, {0, 0}, {1, 1}, \n",
    "#                     {2, 2}, {3, 3}, {3, 4} \n",
    "# Output : 4\n",
    "# Then maximum number of point which lie on same\n",
    "# line are 4, those point are {0, 0}, {1, 1}, {2, 2},\n",
    "# {3, 3}\n",
    "\n",
    "\n",
    "# python3 program to find maximum number of 2D points that lie on the same line.\n",
    " \n",
    "from collections import defaultdict\n",
    "from math import gcd\n",
    "from typing import DefaultDict, List, Tuple\n",
    " \n",
    "IntPair = Tuple[int, int]\n",
    " \n",
    " \n",
    "def normalized_slope(a: IntPair, b: IntPair) -> IntPair:\n",
    "    \"\"\"\n",
    "    Returns normalized (rise, run) tuple. We won't return the actual rise/run\n",
    "    result in order to avoid floating point math, which leads to faulty\n",
    "    comparisons.\n",
    " \n",
    "    See\n",
    "    https://en.wikipedia.org/wiki/Floating-point_arithmetic#Accuracy_problems\n",
    "    \"\"\"\n",
    "    run = b[0] - a[0]\n",
    " \n",
    "    # normalize undefined slopes to (1, 0)\n",
    "    if run == 0:\n",
    "        return (1, 0)\n",
    " \n",
    "    # normalize to left-to-right\n",
    "    if run < 0:\n",
    "        a, b = b, a\n",
    "        run = b[0] - a[0]\n",
    " \n",
    "    rise = b[1] - a[1]\n",
    "    # Normalize by greatest common divisor.\n",
    "    # math.gcd only works on positive numbers.\n",
    "    gcd_ = gcd(abs(rise), run)\n",
    "    return (\n",
    "        rise // gcd_,\n",
    "        run // gcd_,\n",
    "    )\n",
    " \n",
    " \n",
    "def maximum_points_on_same_line(points: List[List[int]]) -> int:\n",
    "    # You need at least 3 points to potentially have non-collinear points.\n",
    "    # For [0, 2] points, all points are on the same line.\n",
    "    if len(points) < 3:\n",
    "        return len(points)\n",
    " \n",
    "    # Note that every line we find will have at least 2 points.\n",
    "    # There will be at least one line because len(points) >= 3.\n",
    "    # Therefore, it's safe to initialize to 0.\n",
    "    max_val = 0\n",
    " \n",
    "    for a_index in range(0, len(points) - 1):\n",
    "        # All lines in this iteration go through point a.\n",
    "        # Note that lines a-b and a-c cannot be parallel.\n",
    "        # Therefore, if lines a-b and a-c have the same slope, they're the same\n",
    "        # line.\n",
    "        a = tuple(points[a_index])\n",
    "        # Fresh lines already have a, so default=1\n",
    "        slope_counts: DefaultDict[IntPair, int] = defaultdict(lambda: 1)\n",
    " \n",
    "        for b_index in range(a_index + 1, len(points)):\n",
    "            b = tuple(points[b_index])\n",
    "            slope_counts[normalized_slope(a, b)] += 1\n",
    " \n",
    "        max_val = max(\n",
    "            max_val,\n",
    "            max(slope_counts.values()),\n",
    "        )\n",
    " \n",
    "    return max_val\n",
    " \n",
    " \n",
    "print(maximum_points_on_same_line([\n",
    "    [-1, 1],\n",
    "    [0, 0],\n",
    "    [1, 1],\n",
    "    [2, 2],\n",
    "    [3, 3],\n",
    "    [3, 4],\n",
    "]))"
   ]
  },
  {
   "cell_type": "markdown",
   "id": "2c31379a",
   "metadata": {},
   "source": [
    "## LC - 149"
   ]
  },
  {
   "cell_type": "code",
   "execution_count": 45,
   "id": "87cbe9e2",
   "metadata": {},
   "outputs": [
    {
     "data": {
      "text/plain": [
       "3"
      ]
     },
     "execution_count": 45,
     "metadata": {},
     "output_type": "execute_result"
    }
   ],
   "source": [
    "def chekIfAllAreOnSame(points):\n",
    "    \n",
    "    if len(points) < 3:\n",
    "        return len(points)\n",
    "    \n",
    "    max_val = 0\n",
    "    slope_counts = defaultdict(lambda:0)\n",
    "    \n",
    "    x_diff = abs(points[1][0] - points[0][0])\n",
    "    y_diff = abs(points[1][1] - points[0][1])\n",
    " \n",
    "    for i in range(2, len(points)):\n",
    "        curr_x_diff = abs(points[i][0] - points[i - 1][0])\n",
    "        curr_y_diff = abs(points[i][1] - points[i - 1][1]) \n",
    "        \n",
    "        if curr_y_diff * x_diff != curr_x_diff * x_diff:\n",
    "            return False\n",
    "    return True\n",
    "\n",
    "chekIfAllAreOnSame([\n",
    "    [1,1],[2,2],[1,2],[3,3],[2,3]\n",
    "])\n",
    "\n",
    "def maxPointsOnSameLine(points):\n",
    "    \n",
    "    if len(points) < 3:\n",
    "        return len(points)\n",
    "    # it means we have atleast 2 points to draw a stragiht line \n",
    "    max_points = 2\n",
    "    for i in range(0, len(points)):\n",
    "        for j in range(i + 1, len(points)):\n",
    "            total = 2\n",
    "            for k in range(0, len(points)):\n",
    "#                 i = x1, y1\n",
    "#                 j = x2, y2\n",
    "#                 k = x3, y3\n",
    "# Formula is   -> (y2 - y1) * (x3 - x2) = (y3 - y2) * (x2 - x1)\n",
    "                if (k != i and k != j):\n",
    "        \n",
    "                    if ( (points[j][1] - points[i][1]) * (points[k][0] - points[j][0]) == \n",
    "                        (points[k][1] - points[j][1]) * (points[j][0] - points[i][0]) ):\n",
    "                        total += 1\n",
    "            max_points = max(max_points, total)\n",
    "    return max_points\n",
    "\n",
    "maxPointsOnSameLine([\n",
    "    [1,1],[2,2],[1,2],[3,3],[2,3]\n",
    "])\n",
    "\n",
    "                \n",
    "    "
   ]
  },
  {
   "cell_type": "markdown",
   "id": "5fd0299c",
   "metadata": {},
   "source": [
    "### Check if a given array contains duplicate elements within k distance from each other"
   ]
  },
  {
   "cell_type": "code",
   "execution_count": 37,
   "id": "ad86fab2",
   "metadata": {},
   "outputs": [
    {
     "name": "stdout",
     "output_type": "stream",
     "text": [
      "3 1 0 0\n"
     ]
    },
    {
     "data": {
      "text/plain": [
       "True"
      ]
     },
     "execution_count": 37,
     "metadata": {},
     "output_type": "execute_result"
    }
   ],
   "source": [
    "# Input: k = 3, arr[] = {1, 2, 3, 4, 1, 2, 3, 4}\n",
    "# Output: false\n",
    "# All duplicates are more than k distance away.\n",
    "\n",
    "# Input: k = 3, arr[] = {1, 2, 3, 1, 4, 5}\n",
    "# Output: true\n",
    "# 1 is repeated at distance 3.\n",
    "\n",
    "# Input: k = 3, arr[] = {1, 2, 3, 4, 5}\n",
    "# Output: false\n",
    "\n",
    "# Input: k = 3, arr[] = {1, 2, 3, 4, 4}\n",
    "# Output: true\n",
    "\n",
    "def deupAtK(k, arr):\n",
    "    \n",
    "    hashMap = {}\n",
    "    \n",
    "    for i in range(len(arr)):\n",
    "        \n",
    "        if arr[i] in hashMap:\n",
    "            initialIndex = hashMap[arr[i]]\n",
    "            print(i, arr[i], initialIndex, (i - k))\n",
    "            if initialIndex == abs(k - i):\n",
    "                return True\n",
    "            \n",
    "        else:\n",
    "            #store the initial \n",
    "            hashMap[arr[i]] = i\n",
    "    return False\n",
    "k = 3\n",
    "arr = [1, 2, 3, 4, 1, 2, 3, 4]\n",
    "arr = [1, 2, 3, 1, 4, 5]\n",
    "deupAtK(k, arr)"
   ]
  },
  {
   "cell_type": "markdown",
   "id": "03a8fa5a",
   "metadata": {},
   "source": [
    "### Find Itinerary from a given list of tickets"
   ]
  },
  {
   "cell_type": "code",
   "execution_count": 54,
   "id": "fdddfa7d",
   "metadata": {},
   "outputs": [
    {
     "name": "stdout",
     "output_type": "stream",
     "text": [
      "bombay -> delhi\n",
      "delhi -> goa\n",
      "goa -> chennai\n",
      "chennai -> bangalore\n"
     ]
    }
   ],
   "source": [
    "def findItinerary(tickets):\n",
    "    \n",
    "    reverse_dict = {}\n",
    "    for i in tickets:\n",
    "        reverse_dict[tickets[i]] = i\n",
    "\n",
    "    starting_point = None\n",
    "    for i in reverse_dict:\n",
    "        if reverse_dict[i] not in reverse_dict:\n",
    "            starting_point = reverse_dict[i]\n",
    "            break\n",
    "    while starting_point in tickets:\n",
    "        print(starting_point, '->', tickets[starting_point])\n",
    "        starting_point = tickets[starting_point]\n",
    "    \n",
    "    \n",
    "\n",
    "input_dict = {\n",
    "    \"chennai\" : \"bangalore\",\n",
    "    \"bombay\" : \"delhi\",\n",
    "    \"goa\" : \"chennai\",\n",
    "    \"delhi\" : \"goa\"\n",
    "}\n",
    "findItinerary(input_dict)"
   ]
  },
  {
   "cell_type": "code",
   "execution_count": null,
   "id": "b539c7bc",
   "metadata": {},
   "outputs": [],
   "source": []
  }
 ],
 "metadata": {
  "kernelspec": {
   "display_name": "Python 3 (ipykernel)",
   "language": "python",
   "name": "python3"
  },
  "language_info": {
   "codemirror_mode": {
    "name": "ipython",
    "version": 3
   },
   "file_extension": ".py",
   "mimetype": "text/x-python",
   "name": "python",
   "nbconvert_exporter": "python",
   "pygments_lexer": "ipython3",
   "version": "3.10.0"
  }
 },
 "nbformat": 4,
 "nbformat_minor": 5
}
