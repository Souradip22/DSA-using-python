{
 "cells": [
  {
   "cell_type": "markdown",
   "id": "acd04aae",
   "metadata": {},
   "source": [
    "### Take and No_Take method"
   ]
  },
  {
   "cell_type": "markdown",
   "id": "e9208bf9",
   "metadata": {},
   "source": [
    "#### print all subsequences"
   ]
  },
  {
   "cell_type": "code",
   "execution_count": 7,
   "id": "54f450f5",
   "metadata": {},
   "outputs": [
    {
     "name": "stdout",
     "output_type": "stream",
     "text": [
      "[3, 1, 2]\n",
      "[3, 1]\n",
      "[3, 2]\n",
      "[3]\n",
      "[1, 2]\n",
      "[1]\n",
      "[2]\n",
      "[]\n"
     ]
    }
   ],
   "source": [
    "def printSubsequence(ind, arr, inp):\n",
    "    \n",
    "    if ind >= len(inp):\n",
    "        print(arr)\n",
    "        return\n",
    "    \n",
    "    arr.append(inp[ind]) \n",
    "    printSubsequence(ind + 1, arr, inp)\n",
    "    \n",
    "    arr.pop(-1)\n",
    "    printSubsequence(ind + 1, arr, inp)\n",
    "    \n",
    "inp = [3, 1, 2]\n",
    "printSubsequence(0, [], inp)"
   ]
  },
  {
   "cell_type": "code",
   "execution_count": 8,
   "id": "9f536146",
   "metadata": {},
   "outputs": [
    {
     "name": "stdout",
     "output_type": "stream",
     "text": [
      "\n",
      "c\n",
      "b\n",
      "bc\n",
      "a\n",
      "ac\n",
      "ab\n",
      "abc\n"
     ]
    }
   ],
   "source": [
    "def subset1(p, up):\n",
    "    if len(up) == 0:\n",
    "        print(p)\n",
    "        return \n",
    "    \n",
    "    ch = up[0]\n",
    "    \n",
    "    subset1(p, up[1:])\n",
    "    subset1(p+ch, up[1:])\n",
    "    \n",
    "subset1('','abc')"
   ]
  },
  {
   "cell_type": "markdown",
   "id": "bcfcad52",
   "metadata": {},
   "source": [
    "#### printing subsequences whose sum in k\n"
   ]
  },
  {
   "cell_type": "code",
   "execution_count": 15,
   "id": "1a5df042",
   "metadata": {},
   "outputs": [
    {
     "name": "stdout",
     "output_type": "stream",
     "text": [
      "[1, 2, 1]\n"
     ]
    }
   ],
   "source": [
    "def printSeqSum(ind, arr, inp, lsum, target):\n",
    "    if ind >= len(inp):\n",
    "        if lsum == target:\n",
    "            print(arr)\n",
    "        return\n",
    "    \n",
    "    lsum = lsum + inp[ind]\n",
    "    arr.append(inp[ind]) \n",
    "    printSeqSum(ind + 1, arr, inp, lsum, target)\n",
    "    \n",
    "    \n",
    "    lsum = lsum - inp[ind]\n",
    "    arr.pop(-1)\n",
    "    printSeqSum(ind + 1, arr, inp, lsum, target)\n",
    "\n",
    "inp = [1, 2, 1]\n",
    "printSeqSum(0, [], inp, 0, 4)\n",
    "    \n",
    "    "
   ]
  },
  {
   "cell_type": "markdown",
   "id": "1b08991c",
   "metadata": {},
   "source": [
    "### Pattern 1: Return the first matching condition"
   ]
  },
  {
   "cell_type": "code",
   "execution_count": 16,
   "id": "1b178153",
   "metadata": {},
   "outputs": [
    {
     "name": "stdout",
     "output_type": "stream",
     "text": [
      "[1, 1]\n"
     ]
    },
    {
     "data": {
      "text/plain": [
       "True"
      ]
     },
     "execution_count": 16,
     "metadata": {},
     "output_type": "execute_result"
    }
   ],
   "source": [
    "def printSeqSumFirst(ind, arr, inp, lsum, target):\n",
    "    if ind >= len(inp):\n",
    "        if lsum == target:\n",
    "            print(arr)\n",
    "            return True\n",
    "        return False\n",
    "    \n",
    "    lsum = lsum + inp[ind]\n",
    "    arr.append(inp[ind]) \n",
    "    if printSeqSumFirst(ind + 1, arr, inp, lsum, target) == True:\n",
    "        return True\n",
    "      \n",
    "    \n",
    "    lsum = lsum - inp[ind]\n",
    "    arr.pop(-1)\n",
    "    if printSeqSumFirst(ind + 1, arr, inp, lsum, target) == True:\n",
    "        return True\n",
    "    return False\n",
    "\n",
    "inp = [1, 2, 1]\n",
    "printSeqSumFirst(0, [], inp, 0, 2)"
   ]
  },
  {
   "cell_type": "markdown",
   "id": "964953cf",
   "metadata": {},
   "source": [
    "### Pattern 2: Return the count of matching condition"
   ]
  },
  {
   "cell_type": "code",
   "execution_count": 22,
   "id": "cb272e3b",
   "metadata": {},
   "outputs": [
    {
     "data": {
      "text/plain": [
       "2"
      ]
     },
     "execution_count": 22,
     "metadata": {},
     "output_type": "execute_result"
    }
   ],
   "source": [
    "def printSeqSumCount(ind, arr, inp, lsum, target):\n",
    "    if ind >= len(inp):\n",
    "        if lsum == target:\n",
    "#             print(arr)\n",
    "            return 1\n",
    "        return 0\n",
    "    \n",
    "    lsum = lsum + inp[ind]\n",
    "    arr.append(inp[ind]) \n",
    "    left = printSeqSumCount(ind + 1, arr, inp, lsum, target)\n",
    "    \n",
    "    lsum = lsum - inp[ind]\n",
    "    arr.pop(-1)\n",
    "    right = printSeqSumCount(ind + 1, arr, inp, lsum, target)\n",
    "    return left + right\n",
    "\n",
    "inp = [1, 2, 1]\n",
    "printSeqSumCount(0, [], inp, 0, 3)"
   ]
  },
  {
   "cell_type": "markdown",
   "id": "ab98db61",
   "metadata": {},
   "source": []
  }
 ],
 "metadata": {
  "kernelspec": {
   "display_name": "Python 3 (ipykernel)",
   "language": "python",
   "name": "python3"
  },
  "language_info": {
   "codemirror_mode": {
    "name": "ipython",
    "version": 3
   },
   "file_extension": ".py",
   "mimetype": "text/x-python",
   "name": "python",
   "nbconvert_exporter": "python",
   "pygments_lexer": "ipython3",
   "version": "3.10.0"
  }
 },
 "nbformat": 4,
 "nbformat_minor": 5
}
