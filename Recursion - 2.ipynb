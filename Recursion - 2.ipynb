{
 "cells": [
  {
   "cell_type": "code",
   "execution_count": 1,
   "id": "11b92580",
   "metadata": {},
   "outputs": [
    {
     "data": {
      "text/plain": [
       "'daxdxxd'"
      ]
     },
     "execution_count": 1,
     "metadata": {},
     "output_type": "execute_result"
    }
   ],
   "source": [
    "def replaceChar(s, a , b):\n",
    "    if len(s) == 0:\n",
    "        return \"\"\n",
    "    smallOp = replaceChar(s[1:], a, b)\n",
    "    if s[0] == a:\n",
    "        return b + smallOp\n",
    "    return s[0] + smallOp\n",
    "replaceChar(\"dacdxcd\", 'c', 'x')\n",
    "\n"
   ]
  },
  {
   "cell_type": "code",
   "execution_count": 6,
   "id": "d5f28043",
   "metadata": {},
   "outputs": [
    {
     "data": {
      "text/plain": [
       "''"
      ]
     },
     "execution_count": 6,
     "metadata": {},
     "output_type": "execute_result"
    }
   ],
   "source": [
    "def removeX(s): \n",
    "\n",
    "removeX(\"xx\")"
   ]
  },
  {
   "cell_type": "code",
   "execution_count": 27,
   "id": "cda5c54d",
   "metadata": {},
   "outputs": [
    {
     "name": "stdout",
     "output_type": "stream",
     "text": [
      "pippppiiiipip p i\n",
      "ppppiiiipip p p\n",
      "pppiiiipip p p\n",
      "ppiiiipip p p\n",
      "piiiipip p i\n",
      "iiipip i i\n",
      "iipip i i\n",
      "ipip i p\n",
      "pip p i\n"
     ]
    },
    {
     "data": {
      "text/plain": [
       "'3.14ppp3.14iii3.14p'"
      ]
     },
     "execution_count": 27,
     "metadata": {},
     "output_type": "execute_result"
    }
   ],
   "source": [
    "def replacePi(s):\n",
    "    \n",
    "    if len(s) == 0 or len(s) == 1:\n",
    "        return s\n",
    "    print(s, s[0], s[1])\n",
    "    if s[0] == 'p' and s[1] == 'i':\n",
    "        smallOutput = replacePi(s[2:])\n",
    "        return '3.14' + smallOutput\n",
    "    else:\n",
    "        smallOutput = replacePi(s[1:])\n",
    "        return s[0] + smallOutput\n",
    "    \n",
    "#     if len(s) == 0:\n",
    "#         return \"\"\n",
    "    \n",
    "#     smallOp = replacePi(s[1:])\n",
    "    \n",
    "#     if len(s) >= 2:\n",
    "#         if s[0] == 'p' and s[1] == 'i':\n",
    "#             return '3.14' + smallOp[1:]\n",
    "#         else:\n",
    "#             return s[0] + smallOp\n",
    "#     else:\n",
    "#         return s[0] + smallOp\n",
    "        \n",
    "    \n",
    "replacePi('pippppiiiipip')"
   ]
  },
  {
   "cell_type": "code",
   "execution_count": 25,
   "id": "fb6417fb",
   "metadata": {},
   "outputs": [
    {
     "ename": "IndexError",
     "evalue": "string index out of range",
     "output_type": "error",
     "traceback": [
      "\u001b[1;31m---------------------------------------------------------------------------\u001b[0m",
      "\u001b[1;31mIndexError\u001b[0m                                Traceback (most recent call last)",
      "\u001b[1;32m~\\AppData\\Local\\Temp/ipykernel_9704/1508407023.py\u001b[0m in \u001b[0;36m<module>\u001b[1;34m\u001b[0m\n\u001b[0;32m      1\u001b[0m \u001b[0mtest\u001b[0m \u001b[1;33m=\u001b[0m \u001b[1;34m'a'\u001b[0m\u001b[1;33m\u001b[0m\u001b[1;33m\u001b[0m\u001b[0m\n\u001b[1;32m----> 2\u001b[1;33m \u001b[1;32mif\u001b[0m \u001b[0mtest\u001b[0m\u001b[1;33m[\u001b[0m\u001b[1;36m0\u001b[0m\u001b[1;33m]\u001b[0m \u001b[1;33m==\u001b[0m \u001b[1;34m'a'\u001b[0m \u001b[1;32mand\u001b[0m \u001b[0mtest\u001b[0m\u001b[1;33m[\u001b[0m\u001b[1;36m1\u001b[0m\u001b[1;33m]\u001b[0m \u001b[1;33m==\u001b[0m \u001b[1;34m'i'\u001b[0m\u001b[1;33m:\u001b[0m\u001b[1;33m\u001b[0m\u001b[1;33m\u001b[0m\u001b[0m\n\u001b[0m\u001b[0;32m      3\u001b[0m     \u001b[0mprint\u001b[0m\u001b[1;33m(\u001b[0m\u001b[1;34m'no'\u001b[0m\u001b[1;33m)\u001b[0m\u001b[1;33m\u001b[0m\u001b[1;33m\u001b[0m\u001b[0m\n",
      "\u001b[1;31mIndexError\u001b[0m: string index out of range"
     ]
    }
   ],
   "source": [
    "test = 'a'\n",
    "if test[0] == 'a' and test[1] == 'i':\n",
    "    print('no')"
   ]
  },
  {
   "cell_type": "code",
   "execution_count": 15,
   "id": "85bc1217",
   "metadata": {},
   "outputs": [
    {
     "name": "stdout",
     "output_type": "stream",
     "text": [
      "1\n"
     ]
    }
   ],
   "source": [
    "def binarySearch(arr, x, si, ei):\n",
    "    if si > ei:\n",
    "        return -1\n",
    "    \n",
    "    mid = (si + ei) // 2\n",
    "    \n",
    "    if arr[mid] == x:\n",
    "        return mid\n",
    "    if arr[mid] > x :\n",
    "        return binarySearch(arr, x, si, mid - 1)\n",
    "    if arr[mid] < x:\n",
    "        return binarySearch(arr, x, mid + 1, ei )\n",
    "    \n",
    "res = binarySearch([1, 3, 7, 9, 11, 33, 88], 3, 0, 6)\n",
    "print(res)"
   ]
  },
  {
   "cell_type": "code",
   "execution_count": 29,
   "id": "8febfd64",
   "metadata": {},
   "outputs": [
    {
     "data": {
      "text/plain": [
       "'abcba'"
      ]
     },
     "execution_count": 29,
     "metadata": {},
     "output_type": "execute_result"
    }
   ],
   "source": [
    "# aabccba\n",
    "# --> abcba\n",
    "def removeDuplicates(s):\n",
    "    \n",
    "    if len(s) == 0 or len(s) == 1:\n",
    "        return s\n",
    "    \n",
    "    smallOp = removeDuplicates(s[1:])\n",
    "    \n",
    "    if s[0] == s[1]:\n",
    "        return smallOp\n",
    "    else:\n",
    "        return s[0] + smallOp\n",
    "\n",
    "    \n",
    "#     if len(s) == 0 or len(s) == 1:\n",
    "#         return s\n",
    "    \n",
    "#     if s[0] == s[1]:\n",
    "#         smallOutput = removeDuplicates(s[1:])\n",
    "#         return smallOutput\n",
    "#     else:\n",
    "#         smallOutput = removeDuplicates(s[1:])\n",
    "#         return s[0] + smallOutput\n",
    "\n",
    "removeDuplicates('baaabbsbbahsahbahshhbhsjjjj')\n",
    "removeDuplicates('aabccba')"
   ]
  },
  {
   "cell_type": "code",
   "execution_count": 64,
   "id": "4035e3bd",
   "metadata": {},
   "outputs": [
    {
     "name": "stdout",
     "output_type": "stream",
     "text": [
      "[3, 2] [1, 5, 4]\n",
      "[3] [2]\n",
      "[1] [5, 4]\n",
      "[5] [4]\n",
      "[1, 2, 3, 4, 5]\n"
     ]
    }
   ],
   "source": [
    "def mergeSort(arr):\n",
    "    if len(arr) == 0 or len(arr) == 1:\n",
    "        return arr\n",
    "\n",
    "    mid = len(arr) // 2\n",
    "    \n",
    "    left = arr[:mid]\n",
    "    right = arr[mid:]\n",
    "    \n",
    "    mergeSort(left)\n",
    "    mergeSort(right)\n",
    "    \n",
    "\n",
    "    mergeTwoList(left, right, arr)\n",
    "\n",
    "\n",
    "\n",
    "def mergeTwoList(list1, list2, arr):\n",
    "    i = 0\n",
    "    j = 0\n",
    "    k = 0\n",
    "    \n",
    "    while i < len(list1) and j < len(list2):\n",
    "        if list1[i] < list2[j]:\n",
    "            arr[k] = list1[i]\n",
    "            i += 1\n",
    "        else:\n",
    "            arr[k] = list2[j]\n",
    "            j += 1\n",
    "        k += 1\n",
    "            \n",
    "    while i < len(list1):\n",
    "        arr[k] = list1[i]\n",
    "        i += 1\n",
    "        k += 1\n",
    "        \n",
    "    while j < len(list2):\n",
    "        arr[k] = list2[j]\n",
    "        j += 1\n",
    "        k += 1\n",
    "actual = [3, 2, 1, 5, 4]\n",
    "mergeSort(actual)\n",
    "print(actual)\n",
    "    \n",
    "    \n",
    "    "
   ]
  },
  {
   "cell_type": "code",
   "execution_count": 98,
   "id": "8c7ce80b",
   "metadata": {},
   "outputs": [
    {
     "name": "stdout",
     "output_type": "stream",
     "text": [
      "[2, 1, 5, 2, 3] 0 5\n",
      "[2, 1] 0 2\n",
      "[2] 0 1\n",
      "[1] 0 1\n",
      "[5, 2, 3] 0 3\n",
      "[5] 0 1\n",
      "[2, 3] 0 2\n",
      "[2] 0 1\n",
      "[3] 0 1\n",
      "[1, 2, 2, 3, 5]\n"
     ]
    }
   ],
   "source": [
    "def mergeSort2(arr, start, end):\n",
    "    print(arr, start, end)\n",
    "#     if start < 0 or end < 0:\n",
    "#         return \n",
    "    if len(arr) == 0 or len(arr) == 1:\n",
    "        return arr\n",
    "    \n",
    "    mid = len(arr)//2\n",
    "    \n",
    "    a1 = arr[:mid]\n",
    "    a2 = arr[mid:]\n",
    "\n",
    "    mergeSort2(a1, 0, len(a1))\n",
    "    mergeSort2(a2, 0, len(a2))\n",
    "    \n",
    "    mergeTwoList2(a1, a2, arr)\n",
    "    \n",
    "\n",
    "    \n",
    "def mergeTwoList2(list1, list2, arr):\n",
    "    i = 0\n",
    "    j = 0\n",
    "    k = 0\n",
    "    \n",
    "    while i < len(list1) and j < len(list2):\n",
    "        if list1[i] < list2[j]:\n",
    "            arr[k] = list1[i]\n",
    "            i += 1\n",
    "        else:\n",
    "            arr[k] = list2[j]\n",
    "            j += 1\n",
    "        k += 1\n",
    "            \n",
    "    while i < len(list1):\n",
    "        arr[k] = list1[i]\n",
    "        i += 1\n",
    "        k += 1\n",
    "        \n",
    "    while j < len(list2):\n",
    "        arr[k] = list2[j]\n",
    "        j += 1\n",
    "        k += 1\n",
    "        \n",
    "actual = [2,1,5,2,3]\n",
    "mergeSort2(actual, 0 , 5)\n",
    "print(actual)\n",
    "    "
   ]
  },
  {
   "cell_type": "code",
   "execution_count": 106,
   "id": "7a423f0e",
   "metadata": {},
   "outputs": [],
   "source": [
    "def quickSort(arr, start, end):\n",
    "    if start >= end:\n",
    "        return\n",
    "    pivot_index = partition(arr, start, end)\n",
    "    quickSort(arr, start, pivot_index - 1)\n",
    "    quickSort(arr, pivot_index + 1, end)\n",
    "    \n",
    "\n",
    "def partition(arr, si , ei):\n",
    "#     CONSIDERING FIRST ELEMENT AS THE PIVOT ELEMENT\n",
    "    pivot = arr[si]\n",
    "    \n",
    "    count_for_els_less_than_pivot = 0\n",
    "    \n",
    "    for i in range(si, ei + 1):\n",
    "        if arr[i] < pivot:\n",
    "            count_for_els_less_than_pivot += 1\n",
    "            \n",
    "#     NOW PLACE THE PIVOT AT CORRECT INDEX\n",
    "    arr[si + count_for_els_less_than_pivot] , arr[si] = arr[si], arr[si + count_for_els_less_than_pivot]\n",
    "    \n",
    "#     SO NOW PIVOT INDEX\n",
    "    pivot_index = si + count_for_els_less_than_pivot\n",
    "    \n",
    "#     NOW ARRAGE THE OTHER ELEMENTS BASED ON PIVOT | pivot < el goes to left and pivot >= goes to right\n",
    "\n",
    "    i = si\n",
    "    j = ei\n",
    "#     When it reaches to else block, IT MEANS we need to swap becasu the element is not at correct place\n",
    "    while i < j:\n",
    "        if arr[i] < pivot:\n",
    "            i += 1\n",
    "        elif arr[j] >= pivot:\n",
    "            j -= 1\n",
    "        else:\n",
    "            arr[i], arr[j] = arr[j] , arr[i]\n",
    "            i += 1\n",
    "            j -= 1\n",
    "            \n",
    "    return pivot_index\n",
    "    \n",
    "            "
   ]
  },
  {
   "cell_type": "code",
   "execution_count": 107,
   "id": "abcc4070",
   "metadata": {},
   "outputs": [
    {
     "data": {
      "text/plain": [
       "[1, 2, 3, 4, 5, 6, 7, 8, 9, 10]"
      ]
     },
     "execution_count": 107,
     "metadata": {},
     "output_type": "execute_result"
    }
   ],
   "source": [
    "a = [6, 5, 4, 3, 2, 1, 7, 8, 9, 10]\n",
    "quickSort(a, 0, len(a) - 1)\n",
    "a\n"
   ]
  },
  {
   "cell_type": "code",
   "execution_count": 39,
   "id": "7a5b9b40",
   "metadata": {},
   "outputs": [],
   "source": [
    "# def tower_hanoi(n , a, b, c):\n",
    "#     if n == 1:\n",
    "#         print(\"Move 1st disk from \", a, \" to \", c)\n",
    "#         return\n",
    "#     tower_hanoi(n-1, a, c, b)\n",
    "#     print(\"Move \" , n ,\"th disk from \", a, \" to \", c)\n",
    "#     tower_hanoi(n-1, b, a, c)\n",
    "    \n",
    "    \n",
    "def towerOfHanoi(N, fromRod, toRod, auxRod):\n",
    "    \n",
    "    print(N, fromRod, toRod, auxRod)\n",
    "    \n",
    "    if N == 1: # if there is only one rod move directly to the dest rod\n",
    "        print('Move Disk 1 from: ' + fromRod + ' to: ' + toRod)\n",
    "        return\n",
    "    \n",
    "    towerOfHanoi(N - 1, fromRod, auxRod, toRod)\n",
    "    print('Move Disk: '+ str(N) + ' from: ' + fromRod + ' to: ' + toRod)\n",
    "    towerOfHanoi(N - 1, auxRod, toRod, fromRod)"
   ]
  },
  {
   "cell_type": "code",
   "execution_count": 40,
   "id": "1f4222d9",
   "metadata": {},
   "outputs": [
    {
     "name": "stdout",
     "output_type": "stream",
     "text": [
      "3 A C B\n",
      "2 A B C\n",
      "1 A C B\n",
      "Move Disk 1 from: A to: C\n",
      "Move Disk: 2 from: A to: B\n",
      "1 C B A\n",
      "Move Disk 1 from: C to: B\n",
      "Move Disk: 3 from: A to: C\n",
      "2 B C A\n",
      "1 B A C\n",
      "Move Disk 1 from: B to: A\n",
      "Move Disk: 2 from: B to: C\n",
      "1 A C B\n",
      "Move Disk 1 from: A to: C\n"
     ]
    }
   ],
   "source": [
    "towerOfHanoi(3, \"A\", \"C\", \"B\")"
   ]
  },
  {
   "cell_type": "code",
   "execution_count": null,
   "id": "acdfdf4c",
   "metadata": {},
   "outputs": [],
   "source": []
  }
 ],
 "metadata": {
  "kernelspec": {
   "display_name": "Python 3 (ipykernel)",
   "language": "python",
   "name": "python3"
  },
  "language_info": {
   "codemirror_mode": {
    "name": "ipython",
    "version": 3
   },
   "file_extension": ".py",
   "mimetype": "text/x-python",
   "name": "python",
   "nbconvert_exporter": "python",
   "pygments_lexer": "ipython3",
   "version": "3.10.0"
  }
 },
 "nbformat": 4,
 "nbformat_minor": 5
}
