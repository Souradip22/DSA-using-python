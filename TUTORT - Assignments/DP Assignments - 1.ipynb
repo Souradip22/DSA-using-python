{
 "cells": [
  {
   "cell_type": "markdown",
   "id": "18a3ae59",
   "metadata": {},
   "source": [
    "### List of Problems\n",
    "\n",
    "    1. https://leetcode.com/problems/decode-ways/\n",
    "\n",
    "    2. https://leetcode.com/problems/decode-ways-ii/\n",
    "\n",
    "    3. https://leetcode.com/problems/longest-palindromic-substring/\n",
    "\n",
    "    4. https://leetcode.com/problems/longest-palindromic-subsequence/\n",
    "\n",
    "    5. https://leetcode.com/problems/maximum-subarray/\n",
    "\n",
    "    6. https://leetcode.com/problems/maximum-product-subarray/\n",
    "\n",
    "    7. https://leetcode.com/problems/longest-turbulent-subarray/\n",
    "\n",
    "    8. https://leetcode.com/problems/best-time-to-buy-and-sell-stock/\n",
    "\n",
    "    9. https://leetcode.com/problems/best-time-to-buy-and-sell-stock-ii/\n",
    "\n",
    "    10. https://leetcode.com/problems/best-time-to-buy-and-sell-stock-with-cooldown/\n",
    "\n",
    "    11. https://leetcode.com/problems/best-time-to-buy-and-sell-stock-iii/\n",
    "\n",
    "    12. https://leetcode.com/problems/maximal-square/\n",
    "\n",
    "    13. https://leetcode.com/problems/word-break/\n",
    "\n",
    "    14. https://leetcode.com/problems/coin-change/\n",
    "\n",
    "    15. https://leetcode.com/problems/regular-expression-matching/\n",
    "\n",
    "    16. https://leetcode.com/problems/minimum-path-sum/\n",
    "\n",
    "    17. https://leetcode.com/problems/longest-string-chain/\n",
    "\n",
    "    18. https://leetcode.com/problems/largest-sum-of-averages/\n",
    "\n",
    "    19. https://leetcode.com/problems/longest-arithmetic-subsequence/\n",
    "\n",
    "    20. https://leetcode.com/problems/maximum-length-of-repeated-subarray/\n",
    "\n",
    "    21. https://leetcode.com/problems/longest-increasing-subsequence/\n",
    "\n",
    "    22. https://leetcode.com/problems/word-break/\n",
    "\n",
    "    23. https://leetcode.com/problems/increasing-triplet-subsequence/\n",
    "\n",
    "    24. https://leetcode.com/problems/maximum-length-of-pair-chain/\n",
    "\n",
    "    25. https://leetcode.com/problems/number-of-longest-increasing-subsequence/\n",
    "\n"
   ]
  },
  {
   "cell_type": "code",
   "execution_count": null,
   "id": "414c32a8",
   "metadata": {},
   "outputs": [],
   "source": [
    "\n"
   ]
  },
  {
   "cell_type": "code",
   "execution_count": null,
   "id": "23c00044",
   "metadata": {},
   "outputs": [],
   "source": []
  },
  {
   "cell_type": "markdown",
   "id": "7ea5a102",
   "metadata": {},
   "source": [
    "Q3 - Longest Palindromic Substring"
   ]
  },
  {
   "cell_type": "code",
   "execution_count": 2,
   "id": "bee068e2",
   "metadata": {},
   "outputs": [],
   "source": [
    "def longestPalindrome(self, s: str) -> str:\n",
    "        global_str = ''\n",
    "        N = len(s)\n",
    "\n",
    "        for i in range(N):\n",
    "\n",
    "            low = i\n",
    "            high = i\n",
    "\n",
    "            while low >= 0 and high < N:\n",
    "\n",
    "                if s[low] == s[high]:\n",
    "                    low -= 1\n",
    "                    high += 1\n",
    "                else:\n",
    "                    break\n",
    "\n",
    "            substr = s[low + 1: high]\n",
    "\n",
    "            if len(substr) > len(global_str):\n",
    "                global_str = substr\n",
    "\n",
    "            \n",
    "            low = i\n",
    "            high = i + 1\n",
    "\n",
    "            while low >= 0 and high < N:\n",
    "\n",
    "                if s[low] == s[high]:\n",
    "                    low -= 1\n",
    "                    high += 1\n",
    "                else:\n",
    "                    break\n",
    "\n",
    "            substr = s[low + 1: high]\n",
    "\n",
    "            if len(substr) > len(global_str):\n",
    "                global_str = substr\n",
    "\n",
    "        return global_str"
   ]
  },
  {
   "cell_type": "markdown",
   "id": "69743c26",
   "metadata": {},
   "source": [
    "Q4 - Longest Palindromic Subsequence"
   ]
  },
  {
   "cell_type": "code",
   "execution_count": 3,
   "id": "8b5ce57a",
   "metadata": {},
   "outputs": [],
   "source": [
    "def longestPalindromeSubseq(self, s: str) -> int:\n",
    "    revStr = \"\".join(reversed(s))\n",
    "    n = len(s)\n",
    "    dp = [[0 for _ in range(n + 1)] for _ in range(n + 1)]\n",
    "\n",
    "    for ind1 in range(1, n + 1):\n",
    "        for ind2 in range(1, n + 1):\n",
    "            if s[ind1 - 1] == revStr[ind2 - 1]:\n",
    "                dp[ind1][ind2] = 1 + dp[ind1 - 1][ind2 - 1]\n",
    "            else:\n",
    "                dp[ind1][ind2] = max(dp[ind1 - 1][ind2], dp[ind1][ind2 - 1])\n",
    "    return dp[n][n]"
   ]
  },
  {
   "cell_type": "markdown",
   "id": "05d0a66d",
   "metadata": {},
   "source": [
    "Q5 - Maximum Subarray"
   ]
  },
  {
   "cell_type": "code",
   "execution_count": 5,
   "id": "722a7684",
   "metadata": {},
   "outputs": [],
   "source": [
    "def maxSubArray(self, arr) -> int:\n",
    "\n",
    "    largestSum = float('-inf')\n",
    "\n",
    "    lsum = 0\n",
    "\n",
    "    for i in range(len(arr)):\n",
    "        lsum += arr[i]\n",
    "\n",
    "        if lsum > largestSum:\n",
    "            largestSum = lsum\n",
    "        if lsum < 0:\n",
    "            lsum = 0\n",
    "    return largestSum\n"
   ]
  },
  {
   "cell_type": "markdown",
   "id": "09caee8f",
   "metadata": {},
   "source": [
    "Q6 - Maximum Product Subarray"
   ]
  },
  {
   "cell_type": "code",
   "execution_count": 7,
   "id": "1732895f",
   "metadata": {},
   "outputs": [],
   "source": [
    "def maxProduct(self, arr) -> int:\n",
    "    prefixMul = 1\n",
    "    suffixMul = 1\n",
    "\n",
    "    global_max = max(arr)\n",
    "    n = len(arr)\n",
    "\n",
    "    for i in range(n):\n",
    "\n",
    "        if prefixMul == 0:\n",
    "            prefixMul = 1\n",
    "        if suffixMul == 0:\n",
    "            suffixMul = 1\n",
    "        prefixMul *= arr[i]\n",
    "        suffixMul *= arr[n - i - 1]\n",
    "\n",
    "        global_max = max(global_max, prefixMul, suffixMul)\n",
    "\n",
    "    return global_max"
   ]
  },
  {
   "cell_type": "code",
   "execution_count": null,
   "id": "d534580f",
   "metadata": {},
   "outputs": [],
   "source": [
    "Q7 - "
   ]
  }
 ],
 "metadata": {
  "kernelspec": {
   "display_name": "Python 3 (ipykernel)",
   "language": "python",
   "name": "python3"
  },
  "language_info": {
   "codemirror_mode": {
    "name": "ipython",
    "version": 3
   },
   "file_extension": ".py",
   "mimetype": "text/x-python",
   "name": "python",
   "nbconvert_exporter": "python",
   "pygments_lexer": "ipython3",
   "version": "3.10.0"
  }
 },
 "nbformat": 4,
 "nbformat_minor": 5
}
