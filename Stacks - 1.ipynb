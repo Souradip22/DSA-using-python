{
 "cells": [
  {
   "cell_type": "code",
   "execution_count": 2,
   "id": "23f3c616",
   "metadata": {},
   "outputs": [],
   "source": [
    "#Using Array\n",
    "class Stack:\n",
    "    \n",
    "    def __init__(self):\n",
    "        self.__data = []\n",
    "        \n",
    "    def push(self, item):\n",
    "        self.__data.append(item)\n",
    "        \n",
    "    def pop(self):\n",
    "        if self.isEmpty():\n",
    "            print(\"Stack is Empty\")\n",
    "            return\n",
    "        return self.__data.pop()\n",
    "        \n",
    "    def top(self):\n",
    "        if self.isEmpty():\n",
    "            print(\"Stack is Empty\")\n",
    "            return\n",
    "        return self.__data[len(self.__data) - 1]\n",
    "        \n",
    "    def size(self):\n",
    "        return len(self.__data)\n",
    "        \n",
    "    def isEmpty(self):\n",
    "        return self.size() == 0\n",
    "            \n",
    "            \n",
    "        \n",
    "    "
   ]
  },
  {
   "cell_type": "code",
   "execution_count": 4,
   "id": "d2de089f",
   "metadata": {},
   "outputs": [
    {
     "data": {
      "text/plain": [
       "15"
      ]
     },
     "execution_count": 4,
     "metadata": {},
     "output_type": "execute_result"
    }
   ],
   "source": [
    "s = Stack()\n",
    "s.push(11)\n",
    "s.push(12)\n",
    "s.push(15)\n",
    "\n",
    "# while s.isEmpty() is False:\n",
    "#     print(s.pop())\n",
    "s.top()"
   ]
  },
  {
   "cell_type": "code",
   "execution_count": 39,
   "id": "42d8349c",
   "metadata": {},
   "outputs": [],
   "source": [
    "class Node :\n",
    "\n",
    "    def __init__(self, data) :\n",
    "        self.data = data\n",
    "        self.next = None\n",
    "\n",
    "\n",
    "class Stack :\n",
    "\n",
    "        #Define data members and __init__()\n",
    "    \n",
    "    def __init__(self):\n",
    "        self.size = 0\n",
    "        self.head = None\n",
    "\n",
    "    '''----------------- Public Functions of Stack -----------------'''\n",
    "\n",
    "\n",
    "    def getSize(self) :\n",
    "        return self.size\n",
    "        #Implement the getSize() function\n",
    "\n",
    "\n",
    "\n",
    "    def isEmpty(self) :\n",
    "        return self.size == 0\n",
    "        #Implement the isEmpty() function\n",
    "\n",
    "\n",
    "\n",
    "    def push(self, data) :\n",
    "        newNode = Node(data)\n",
    "        if self.head is None:\n",
    "            self.head = newNode\n",
    "        else:\n",
    "            newNode.next = self.head\n",
    "            self.head = newNode\n",
    "        self.size += 1\n",
    "        return \n",
    "        #Implement the push(element) function\n",
    "\n",
    "\n",
    "\n",
    "    def pop(self) :\n",
    "        if self.size == 0:\n",
    "            return -1\n",
    "        if self.head is None:\n",
    "            print('Stack is Empty')\n",
    "            return\n",
    "        else:\n",
    "            delNode = self.head\n",
    "            self.head = self.head.next\n",
    "            \n",
    "        self.size -= 1\n",
    "        return delNode.data\n",
    "        #Implement the pop() function\n",
    "\n",
    "\n",
    "\n",
    "    def top(self) :\n",
    "        if self.size == 0:\n",
    "            return -1\n",
    "        return self.head.data"
   ]
  },
  {
   "cell_type": "code",
   "execution_count": 40,
   "id": "a07f1bae",
   "metadata": {},
   "outputs": [
    {
     "name": "stdout",
     "output_type": "stream",
     "text": [
      "3\n",
      "0\n"
     ]
    }
   ],
   "source": [
    "s1 = Stack()\n",
    "s1.push(1)\n",
    "s1.push(2)\n",
    "s1.push(3)\n",
    "print(s1.size)\n",
    "s1.pop()\n",
    "s1.pop()\n",
    "s1.pop()\n",
    "s1.pop()\n",
    "s1.pop()\n",
    "print(s1.size)\n"
   ]
  },
  {
   "cell_type": "code",
   "execution_count": 43,
   "id": "f48271ef",
   "metadata": {},
   "outputs": [
    {
     "name": "stdout",
     "output_type": "stream",
     "text": [
      "4\n",
      "3\n",
      "2\n",
      "1\n"
     ]
    }
   ],
   "source": [
    "#FIFO \n",
    "import queue \n",
    "\n",
    "#inbuilt queue\n",
    "# q = queue.Queue()\n",
    "# q.put(1)\n",
    "# q.put(2)\n",
    "# q.put(3)\n",
    "# q.put(4)\n",
    "\n",
    "# while not q.empty():\n",
    "#     print(q.get())\n",
    "\n",
    "#inbuilt stack or simply list\n",
    "q = queue.LifoQueue()\n",
    "q.put(1)\n",
    "q.put(2)\n",
    "q.put(3)\n",
    "q.put(4)\n",
    "\n",
    "\n",
    "while not q.empty():\n",
    "    print(q.get())\n"
   ]
  },
  {
   "cell_type": "code",
   "execution_count": null,
   "id": "5829763d",
   "metadata": {},
   "outputs": [],
   "source": [
    "# import queue\n",
    "\n",
    "\n",
    "# def isBalanced(expression):\n",
    "#     s = queue.LifoQueue()\n",
    "    \n",
    "#     for i in expression:\n",
    "#         if i == '(':\n",
    "#             s.put(i)\n",
    "#         if i == ')':\n",
    "#             if s.get() != '(':\n",
    "#                 return 'true'\n",
    "#             else:\n",
    "#                 return 'false'\n",
    "#     return 'false'\n",
    "\n",
    "# print(isBalanced('()()'))\n",
    "\n",
    "    "
   ]
  },
  {
   "cell_type": "code",
   "execution_count": 21,
   "id": "2dd716e1",
   "metadata": {},
   "outputs": [],
   "source": [
    "def isBalanced(string):\n",
    "    s = []\n",
    "    \n",
    "    for char in string:\n",
    "        if char in '({[':\n",
    "            s.append(char)\n",
    "        elif char == ')':\n",
    "            if not s or s[-1] != '(':\n",
    "                return False\n",
    "            s.pop()\n",
    "        elif char ==  '}':\n",
    "            if not s or s[-1] != '{':\n",
    "                return False\n",
    "            s.pop()\n",
    "        elif char == ']':\n",
    "            print('here2')\n",
    "            if not s or s[-1] != '[':\n",
    "                return False\n",
    "            s.pop()\n",
    "    if not s:\n",
    "        return True\n",
    "    return False\n",
    "        \n",
    "            \n",
    "    "
   ]
  },
  {
   "cell_type": "code",
   "execution_count": 22,
   "id": "923f6964",
   "metadata": {},
   "outputs": [
    {
     "name": "stdout",
     "output_type": "stream",
     "text": [
      "here2\n"
     ]
    },
    {
     "data": {
      "text/plain": [
       "False"
      ]
     },
     "execution_count": 22,
     "metadata": {},
     "output_type": "execute_result"
    }
   ],
   "source": [
    "isBalanced('(]')"
   ]
  },
  {
   "cell_type": "code",
   "execution_count": 7,
   "id": "b24ee8b4",
   "metadata": {},
   "outputs": [],
   "source": [
    "def reverseStack(inputStack, extraStack) :\n",
    "    \n",
    "    while len(inputStack) != 1:\n",
    "        el = inputStack.pop()\n",
    "        extraStack.append(el)\n",
    "        \n",
    "    lastElement = inputStack.pop()\n",
    "    \n",
    "    while len(extraStack) != 0:\n",
    "        el = extraStack.pop()\n",
    "        inputStack.append(el)\n",
    "        \n",
    "    reverseStack(inputStack, extraStack)\n",
    "    inputStack.append(lastElement)\n",
    "    \n",
    "    return inputStack\n",
    "    \n",
    "    "
   ]
  },
  {
   "cell_type": "code",
   "execution_count": 91,
   "id": "88d17a2c",
   "metadata": {},
   "outputs": [],
   "source": [
    "def checkRedundantBrackets(expression) :\n",
    "    s = []\n",
    "    counter = 0\n",
    "    \n",
    "    for char in expression:\n",
    "        \n",
    "        if char not in ')}]':\n",
    "            s.append(char)\n",
    "        elif char == ')':\n",
    "            counter = 0\n",
    "            while len(s) != 0:\n",
    "                rem = s.pop()\n",
    "                if rem != '(':\n",
    "                    counter += 1\n",
    "                if rem == '(':\n",
    "                    print(counter)\n",
    "                    if counter == 0 or counter == 1:\n",
    "                        return True\n",
    "                    break\n",
    "    \n",
    "    return False"
   ]
  },
  {
   "cell_type": "code",
   "execution_count": 92,
   "id": "1e70be26",
   "metadata": {},
   "outputs": [
    {
     "name": "stdout",
     "output_type": "stream",
     "text": [
      "5\n",
      "0\n"
     ]
    },
    {
     "data": {
      "text/plain": [
       "True"
      ]
     },
     "execution_count": 92,
     "metadata": {},
     "output_type": "execute_result"
    }
   ],
   "source": [
    "# a+(b)+c\n",
    "checkRedundantBrackets('(a+b*((a/c-d)))')"
   ]
  },
  {
   "cell_type": "code",
   "execution_count": 116,
   "id": "38b40505",
   "metadata": {},
   "outputs": [
    {
     "data": {
      "text/plain": [
       "[1, 2, 3, 4, 1, 1, 2, 8]"
      ]
     },
     "execution_count": 116,
     "metadata": {},
     "output_type": "execute_result"
    }
   ],
   "source": [
    "# 60 70 80 100 90 75 80 120\n",
    "# 1 2 3 4 1 1 2 8 (output)\n",
    "def stockSpan(price, n) :\n",
    "    res = []\n",
    "    for i in range(n):\n",
    "        counter = 1\n",
    "        j = i\n",
    "        while j > 0:\n",
    "            if price[i] > price[j-1]:\n",
    "                counter += 1\n",
    "            else:\n",
    "                break\n",
    "            j -= 1\n",
    "        res.append(counter)\n",
    "    return res\n",
    "        \n",
    "arr = [60, 70, 80, 100, 90, 75, 80, 120]      \n",
    "stockSpan(arr, len(arr))"
   ]
  },
  {
   "cell_type": "code",
   "execution_count": 122,
   "id": "04b68c93",
   "metadata": {},
   "outputs": [
    {
     "data": {
      "text/plain": [
       "2"
      ]
     },
     "execution_count": 122,
     "metadata": {},
     "output_type": "execute_result"
    }
   ],
   "source": [
    "def countBracketReversals(inputString) :\n",
    "    stack = []\n",
    "    if len(inputString) % 2 != 0:\n",
    "        return -1\n",
    "    \n",
    "    for char in inputString:\n",
    "        \n",
    "        if char == '{':\n",
    "            stack.append(char)\n",
    "        elif char == '}':\n",
    "            if len(stack) == 0:\n",
    "                stack.append(char)\n",
    "                \n",
    "            elif len(stack) > 0 and stack[-1] == '{':\n",
    "                stack.pop()\n",
    "                \n",
    "            elif len(stack) > 0 and stack[-1] != '{':\n",
    "                stack.append(char)\n",
    "    count = 0\n",
    "    while len(stack) > 0:\n",
    "        c1 = stack.pop()\n",
    "        c2 = stack.pop()\n",
    "        \n",
    "        if c1 == c2:\n",
    "            count += 1\n",
    "        else:\n",
    "            count += 2\n",
    "        \n",
    "    return count\n",
    "    \n",
    "    # Your code goes here\n",
    "    \n",
    "countBracketReversals('{{}}{{{{')"
   ]
  },
  {
   "cell_type": "code",
   "execution_count": 117,
   "id": "0ed25132",
   "metadata": {},
   "outputs": [
    {
     "name": "stdout",
     "output_type": "stream",
     "text": [
      "5\n"
     ]
    }
   ],
   "source": []
  },
  {
   "cell_type": "code",
   "execution_count": 1,
   "id": "e3b690e2",
   "metadata": {},
   "outputs": [
    {
     "data": {
      "text/plain": [
       "4"
      ]
     },
     "execution_count": 1,
     "metadata": {},
     "output_type": "execute_result"
    }
   ],
   "source": [
    "int('04')"
   ]
  },
  {
   "cell_type": "code",
   "execution_count": 2,
   "id": "b7a6a114",
   "metadata": {},
   "outputs": [
    {
     "data": {
      "text/plain": [
       "0"
      ]
     },
     "execution_count": 2,
     "metadata": {},
     "output_type": "execute_result"
    }
   ],
   "source": [
    "int('00')"
   ]
  },
  {
   "cell_type": "code",
   "execution_count": 7,
   "id": "b279c69f",
   "metadata": {},
   "outputs": [
    {
     "name": "stdout",
     "output_type": "stream",
     "text": [
      "2\n",
      "4\n",
      "0\n"
     ]
    },
    {
     "data": {
      "text/plain": [
       "2"
      ]
     },
     "execution_count": 7,
     "metadata": {},
     "output_type": "execute_result"
    }
   ],
   "source": [
    "def divisorSubstrings(num, k):\n",
    "\n",
    "    strNum = str(num)\n",
    "    if len(strNum) < k:\n",
    "        return 0\n",
    "    count = 0\n",
    "\n",
    "    for i in range(0, len(strNum) + 1 - k):\n",
    "        subStr = strNum[i: i + k]\n",
    "        print(subStr)\n",
    "        if int(subStr) != 0:\n",
    "            if num % int(subStr) == 0 :\n",
    "                count += 1\n",
    "\n",
    "    return count\n",
    "\n",
    "divisorSubstrings(240, 1)"
   ]
  },
  {
   "cell_type": "code",
   "execution_count": 8,
   "id": "3b9778f7",
   "metadata": {},
   "outputs": [
    {
     "data": {
      "text/plain": [
       "True"
      ]
     },
     "execution_count": 8,
     "metadata": {},
     "output_type": "execute_result"
    }
   ],
   "source": [
    "2 in [1,2,3]"
   ]
  },
  {
   "cell_type": "code",
   "execution_count": null,
   "id": "96cc332c",
   "metadata": {},
   "outputs": [],
   "source": []
  }
 ],
 "metadata": {
  "kernelspec": {
   "display_name": "Python 3 (ipykernel)",
   "language": "python",
   "name": "python3"
  },
  "language_info": {
   "codemirror_mode": {
    "name": "ipython",
    "version": 3
   },
   "file_extension": ".py",
   "mimetype": "text/x-python",
   "name": "python",
   "nbconvert_exporter": "python",
   "pygments_lexer": "ipython3",
   "version": "3.10.0"
  }
 },
 "nbformat": 4,
 "nbformat_minor": 5
}
