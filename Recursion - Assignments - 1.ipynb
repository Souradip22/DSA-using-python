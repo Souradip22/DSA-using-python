{
 "cells": [
  {
   "cell_type": "code",
   "execution_count": 17,
   "id": "f8477951",
   "metadata": {},
   "outputs": [
    {
     "name": "stdout",
     "output_type": "stream",
     "text": [
      "3\n",
      "1.87500\n"
     ]
    }
   ],
   "source": [
    "\n",
    "# 1 + 1/2 + 1/4 + 1/8 + ... + 1/(2^k) \n",
    "def geometricSum(k):\n",
    "    if k == 0:\n",
    "        return 1\n",
    "    return 1 / pow(2, k) + geometricSum( k - 1)\n",
    "\n",
    "# Main\n",
    "num = int(input())\n",
    "ans = geometricSum(num)\n",
    "print(format(ans, '.5f'))"
   ]
  },
  {
   "cell_type": "code",
   "execution_count": 20,
   "id": "a6a11e4b",
   "metadata": {},
   "outputs": [
    {
     "name": "stdout",
     "output_type": "stream",
     "text": [
      "racecar\n",
      "true\n"
     ]
    }
   ],
   "source": [
    "def checkPalindrome(str1, si, ei): \n",
    "    if si == ei:\n",
    "        return 'true'\n",
    "    if str1[si] != str1[ei]:\n",
    "        return 'false'\n",
    "    if si < ei + 1:\n",
    "        return checkPalindrome(str1, si + 1, ei - 1)\n",
    "    return 'true'\n",
    "# Main\n",
    "string = input()\n",
    "print(checkPalindrome(string, 0, len(string) - 1))"
   ]
  },
  {
   "cell_type": "code",
   "execution_count": 22,
   "id": "6c1d789d",
   "metadata": {},
   "outputs": [
    {
     "name": "stdout",
     "output_type": "stream",
     "text": [
      "12345\n",
      "15\n"
     ]
    }
   ],
   "source": [
    "\n",
    "# 1 + 1/2 + 1/4 + 1/8 + ... + 1/(2^k) \n",
    "def sumofDigits(num):\n",
    "    if num < 10:\n",
    "        return num\n",
    "    return num % 10 + sumofDigits(num // 10)\n",
    "\n",
    "# Main\n",
    "num = int(input())\n",
    "ans = sumofDigits(num)\n",
    "print(ans)"
   ]
  },
  {
   "cell_type": "code",
   "execution_count": 3,
   "id": "bf607b24",
   "metadata": {},
   "outputs": [
    {
     "name": "stdout",
     "output_type": "stream",
     "text": [
      "4\n",
      "3\n",
      "4 3\n",
      "4 2\n",
      "4 1\n",
      "4 0\n",
      "12\n"
     ]
    }
   ],
   "source": [
    "def multipication(x , y):\n",
    "    print(x,y)\n",
    "    if x < y:\n",
    "        return multipication(y, x)\n",
    "    elif y != 0:\n",
    "        return (x + multipication(x, y - 1))\n",
    "    else:\n",
    "        return 0\n",
    "\n",
    "# Main\n",
    "m = int(input())\n",
    "n = int(input())\n",
    "ans = multipication(m, n)\n",
    "print(ans)\n"
   ]
  },
  {
   "cell_type": "code",
   "execution_count": 29,
   "id": "4208cf26",
   "metadata": {},
   "outputs": [
    {
     "name": "stdout",
     "output_type": "stream",
     "text": [
      "1010\n",
      "2\n",
      "2020\n",
      "3\n"
     ]
    }
   ],
   "source": [
    "\n",
    "def countZeroes(num):\n",
    "    \n",
    "    if num == 0:\n",
    "        return 1;\n",
    "\n",
    "    if num > 0:\n",
    "        if num % 10 == 0:\n",
    "            return 1 + countZeroes(num // 10)\n",
    "        else:\n",
    "            return countZeroes(num // 10)\n",
    "        \n",
    "count=0\n",
    "def count_digit(num):\n",
    "    if num == 0:\n",
    "        return 1\n",
    "\n",
    "    global count\n",
    "    if (num > 0):\n",
    "        if(num % 10 == 0):\n",
    "            count +=1\n",
    "        count_digit(num // 10)\n",
    "    return count\n",
    "\n",
    "num = int(input())\n",
    "ans = count_digit(num)\n",
    "print(ans)\n",
    "\n",
    "num = int(input())\n",
    "ans = countZeroes(num)\n",
    "\n",
    "print(ans)"
   ]
  },
  {
   "cell_type": "code",
   "execution_count": 36,
   "id": "e1969a40",
   "metadata": {},
   "outputs": [
    {
     "name": "stdout",
     "output_type": "stream",
     "text": [
      "1234\n",
      "1234\n"
     ]
    }
   ],
   "source": [
    "def stringToInt(str1):\n",
    "    #if length is 1, then need to return that num\n",
    "    if len(str1) == 1:\n",
    "        return ord(str1[0]) - ord('0')\n",
    "    #Get the substring for recusrion call\n",
    "    y = stringToInt(str1[1:])\n",
    "    \n",
    "    #Get the first digit\n",
    "    x = ord(str1[0]) - ord('0')\n",
    "    \n",
    "    x = (x * (10 ** (len(str1) - 1))) + y\n",
    "    \n",
    "    return int(x)\n",
    "    \n",
    "# Main\n",
    "string = input()\n",
    "ans = stringToInt(string)\n",
    "print(ans)"
   ]
  },
  {
   "cell_type": "code",
   "execution_count": 30,
   "id": "25c08352",
   "metadata": {},
   "outputs": [
    {
     "data": {
      "text/plain": [
       "48"
      ]
     },
     "execution_count": 30,
     "metadata": {},
     "output_type": "execute_result"
    }
   ],
   "source": [
    "ord('0')"
   ]
  },
  {
   "cell_type": "code",
   "execution_count": 40,
   "id": "b1e380ca",
   "metadata": {},
   "outputs": [
    {
     "name": "stdout",
     "output_type": "stream",
     "text": [
      "aaaa\n",
      "a*a*a*a\n"
     ]
    }
   ],
   "source": [
    "def pairStar(str1):\n",
    "    #if length is 1, then need to return that num\n",
    "    if len(str1) == 1:\n",
    "        return str1\n",
    "    \n",
    "    if str1[0] = 'a' and str1[1] = 'b' and st1[2]:\n",
    "        return \n",
    "    \n",
    "    if str1[0] == str1[1]:\n",
    "        return str1[0] + '*'  + pairStar(str1[1:])\n",
    "    else:\n",
    "        return str1[0] + pairStar(str1[1:])\n",
    "    \n",
    "    \n",
    "# Main\n",
    "string = input()\n",
    "ans = pairStar(string)\n",
    "print(ans)\n"
   ]
  },
  {
   "cell_type": "code",
   "execution_count": 42,
   "id": "1cdaf1ad",
   "metadata": {},
   "outputs": [
    {
     "name": "stdout",
     "output_type": "stream",
     "text": [
      "abcs\n",
      "False\n"
     ]
    }
   ],
   "source": [
    "\n",
    "def checkAB(s):\n",
    "\n",
    "    # Check for the validity of the input\n",
    "    if len(s) == 0 or s[0] != 'a':\n",
    "        return False\n",
    "\n",
    "    def loop(val):\n",
    "        # Done processing, all is well\n",
    "        if len(val) == 0:  \n",
    "            return True\n",
    "\n",
    "        # If the first char is a, recurse using the rest of the string\n",
    "        if val[0] == 'a':\n",
    "            return loop(val[1:])\n",
    "\n",
    "        # If there are 3 chars, it can not be bbb\n",
    "        if len(val) > 2 and val[0] == 'b' and val[1] == 'b' and val[2] == 'b':\n",
    "            return False\n",
    "\n",
    "        # If there is a single value left, and that is b it is not ok\n",
    "        if len(val) == 1 and val[0] == 'b':\n",
    "            return False\n",
    "\n",
    "        # If we have bb, recurse using the rest of the string\n",
    "        if val[0] == 'b' and val[1] == 'b':\n",
    "            return loop(val[2:])\n",
    "\n",
    "        # In any other case\n",
    "        else:\n",
    "            return False\n",
    "    return loop(s)\n",
    "    \n",
    "# Main\n",
    "string = input()\n",
    "ans = checkAB(string)\n",
    "print(ans)"
   ]
  },
  {
   "cell_type": "code",
   "execution_count": 44,
   "id": "f53e885f",
   "metadata": {},
   "outputs": [
    {
     "name": "stdout",
     "output_type": "stream",
     "text": [
      "abba\n",
      "true\n"
     ]
    }
   ],
   "source": [
    "\n",
    "def checkABBetter(s):\n",
    "    if len(s) == 0:\n",
    "        return 'true'\n",
    "    \n",
    "    if s[0] == 'a':\n",
    "        if len(s[1:]) > 1 and s[1:3] =='bb':\n",
    "            return checkABBetter(s[3:])\n",
    "        else:\n",
    "            return checkABBetter(s[1:])\n",
    "    else:\n",
    "        return 'false'\n",
    "    \n",
    "\n",
    "# Main\n",
    "string = input()\n",
    "ans = checkABBetter(string)\n",
    "print(ans)"
   ]
  },
  {
   "cell_type": "code",
   "execution_count": 1,
   "id": "229e9ec4",
   "metadata": {},
   "outputs": [
    {
     "name": "stdout",
     "output_type": "stream",
     "text": [
      "5\n",
      "13\n"
     ]
    }
   ],
   "source": [
    "def staircase(num):\n",
    "    if num == 0 or num == 1:\n",
    "        return 1\n",
    "    \n",
    "    if num == 3:\n",
    "        return 4\n",
    "    \n",
    "    if num == 2:\n",
    "        return 2\n",
    "    \n",
    "    \n",
    "    x = staircase(num - 1)\n",
    "    y = staircase(num - 2)\n",
    "    z = staircase(num - 3)\n",
    "    \n",
    "    return x + y + z\n",
    "\n",
    "# Main\n",
    "\n",
    "n = int(input())\n",
    "ans = staircase(n)\n",
    "print(ans)"
   ]
  },
  {
   "cell_type": "code",
   "execution_count": null,
   "id": "2be84d0f",
   "metadata": {},
   "outputs": [],
   "source": []
  }
 ],
 "metadata": {
  "kernelspec": {
   "display_name": "Python 3 (ipykernel)",
   "language": "python",
   "name": "python3"
  },
  "language_info": {
   "codemirror_mode": {
    "name": "ipython",
    "version": 3
   },
   "file_extension": ".py",
   "mimetype": "text/x-python",
   "name": "python",
   "nbconvert_exporter": "python",
   "pygments_lexer": "ipython3",
   "version": "3.10.0"
  }
 },
 "nbformat": 4,
 "nbformat_minor": 5
}
