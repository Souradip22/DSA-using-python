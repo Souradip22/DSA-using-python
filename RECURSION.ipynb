{
 "cells": [
  {
   "cell_type": "markdown",
   "id": "b682b6bb",
   "metadata": {},
   "source": [
    "### Print 1 to N and N to 1 "
   ]
  },
  {
   "cell_type": "code",
   "execution_count": 1,
   "id": "ec3a478c",
   "metadata": {},
   "outputs": [
    {
     "name": "stdout",
     "output_type": "stream",
     "text": [
      "1\n",
      "2\n",
      "3\n",
      "4\n",
      "5\n"
     ]
    }
   ],
   "source": [
    "def print1ToN(n):\n",
    "    if n == 0:\n",
    "        return\n",
    "    print1ToN(n - 1)\n",
    "    print(n)\n",
    "\n",
    "print1ToN(5)"
   ]
  },
  {
   "cell_type": "code",
   "execution_count": 2,
   "id": "6704bde8",
   "metadata": {},
   "outputs": [
    {
     "name": "stdout",
     "output_type": "stream",
     "text": [
      "6\n",
      "5\n",
      "4\n",
      "3\n",
      "2\n",
      "1\n"
     ]
    }
   ],
   "source": [
    "def printNto1(n):\n",
    "    if n == 0:\n",
    "        return \n",
    "    print(n)\n",
    "    printNto1(n - 1)\n",
    "    \n",
    "printNto1(6)\n"
   ]
  },
  {
   "cell_type": "markdown",
   "id": "2588b99a",
   "metadata": {},
   "source": [
    "## Insert in sorted array"
   ]
  },
  {
   "cell_type": "code",
   "execution_count": 7,
   "id": "353463ab",
   "metadata": {},
   "outputs": [
    {
     "name": "stdout",
     "output_type": "stream",
     "text": [
      "8\n",
      "[0, 1, 2, 5, 8]\n"
     ]
    }
   ],
   "source": [
    "def insertEl(arr, el):\n",
    "    # base condition, if arr is empty or the last element is lesser than the element to be inserted \n",
    "    if len(arr) == 0 or arr[-1] <= el:\n",
    "        arr.append(el)\n",
    "        return\n",
    "    \n",
    "    lastEl = arr.pop()\n",
    "    insertEl(arr, el)\n",
    "    \n",
    "    arr.append(lastEl)\n",
    "\n",
    "\n",
    "ARR = [0, 1, 5, 8]\n",
    "print(ARR[-1])\n",
    "insertEl(ARR, 2)\n",
    "print(ARR)\n",
    "    \n",
    "        \n",
    "    "
   ]
  },
  {
   "cell_type": "markdown",
   "id": "27261907",
   "metadata": {},
   "source": [
    "### Sort an Array"
   ]
  },
  {
   "cell_type": "code",
   "execution_count": 49,
   "id": "0e082d16",
   "metadata": {},
   "outputs": [
    {
     "name": "stdout",
     "output_type": "stream",
     "text": [
      "[2, 3, 4, 5, 6, 7, 9]\n"
     ]
    }
   ],
   "source": [
    "def sortArr(arr):\n",
    "    if len(arr) == 1:\n",
    "        return\n",
    "    \n",
    "    lastEl = arr.pop()\n",
    "    sortArr(arr)\n",
    "\n",
    "    insertEl(arr, lastEl)\n",
    "    \n",
    "ARR = [2, 3, 7, 6, 4, 5, 9]\n",
    "sortArr(ARR)\n",
    "print(ARR)"
   ]
  },
  {
   "cell_type": "code",
   "execution_count": 18,
   "id": "2e1c3ee3",
   "metadata": {},
   "outputs": [
    {
     "name": "stdout",
     "output_type": "stream",
     "text": [
      "[0, 1, 2, 3, 4, 5, 6, 7, 9]\n"
     ]
    }
   ],
   "source": [
    "def bubbleSort(arr, n):\n",
    "    \n",
    "    if n == 1:\n",
    "        return\n",
    "    \n",
    "    for i in range(0, n - 1):\n",
    "        if arr[i] > arr[i + 1]:\n",
    "            arr[i] , arr[i + 1] = arr[i + 1], arr[i]\n",
    "      \n",
    "    bubbleSort(arr, n - 1)\n",
    "\n",
    "    \n",
    "ARR = [2, 3, 7, 6, 1, 4, 5, 0, 9]\n",
    "bubbleSort(ARR, len(ARR))\n",
    "print(ARR)"
   ]
  },
  {
   "cell_type": "markdown",
   "id": "3f2c76ee",
   "metadata": {},
   "source": [
    "### Print Factorial of a number"
   ]
  },
  {
   "cell_type": "code",
   "execution_count": 22,
   "id": "8415adc7",
   "metadata": {},
   "outputs": [
    {
     "name": "stdout",
     "output_type": "stream",
     "text": [
      "720\n"
     ]
    }
   ],
   "source": [
    "def fact(n):\n",
    "    if n == 0 or n == 1:\n",
    "        return 1\n",
    "    \n",
    "    smallerOutput = fact(n - 1)\n",
    "    return n * smallerOutput\n",
    "\n",
    "print(fact(6))"
   ]
  },
  {
   "cell_type": "markdown",
   "id": "3f109e94",
   "metadata": {},
   "source": [
    "### Sum of N numbers"
   ]
  },
  {
   "cell_type": "code",
   "execution_count": 23,
   "id": "a6cea96b",
   "metadata": {},
   "outputs": [
    {
     "name": "stdout",
     "output_type": "stream",
     "text": [
      "15\n"
     ]
    }
   ],
   "source": [
    "def sumN(n):\n",
    "    if n == 1:\n",
    "        return 1\n",
    "    return n + sumN(n-1)\n",
    "print(sumN(5))"
   ]
  },
  {
   "cell_type": "markdown",
   "id": "a7a0f58f",
   "metadata": {},
   "source": [
    "### Sum of digits"
   ]
  },
  {
   "cell_type": "code",
   "execution_count": 33,
   "id": "4ae101b3",
   "metadata": {},
   "outputs": [
    {
     "name": "stdout",
     "output_type": "stream",
     "text": [
      "8\n"
     ]
    }
   ],
   "source": [
    "import math\n",
    "def sumDigit(num):\n",
    "    if num == 0:\n",
    "        return 0\n",
    "    \n",
    "    digits = int(math.log10(num) + 1)\n",
    "    \n",
    "    if digits == 1:\n",
    "        return num\n",
    "    rem = num % 10\n",
    "    return rem + sumDigit(num // 10)\n",
    "\n",
    "print(sumDigit(3140))"
   ]
  },
  {
   "cell_type": "markdown",
   "id": "2dd962eb",
   "metadata": {},
   "source": [
    "### Prod of digits\n"
   ]
  },
  {
   "cell_type": "code",
   "execution_count": 38,
   "id": "27f26de3",
   "metadata": {},
   "outputs": [
    {
     "name": "stdout",
     "output_type": "stream",
     "text": [
      "120\n"
     ]
    }
   ],
   "source": [
    "def prodDigits(num):\n",
    "    if num == 0:\n",
    "        return 0\n",
    "    \n",
    "    digits = int(math.log10(num) + 1)\n",
    "    if digits == 1:\n",
    "        return num\n",
    "    rem = num % 10\n",
    "    return rem * prodDigits(num // 10)\n",
    "\n",
    "print(prodDigits(1546))"
   ]
  },
  {
   "cell_type": "markdown",
   "id": "cb2c814a",
   "metadata": {},
   "source": [
    "### Reverse a Number"
   ]
  },
  {
   "cell_type": "code",
   "execution_count": 45,
   "id": "799d419f",
   "metadata": {},
   "outputs": [
    {
     "name": "stdout",
     "output_type": "stream",
     "text": [
      "21\n"
     ]
    }
   ],
   "source": [
    "def revNum(num):\n",
    "    if num == 0:\n",
    "        return 0\n",
    "    \n",
    "    digits = int(math.log10(num) + 1)\n",
    "    return int((num % 10) * math.pow(10, digits-1) + revNum(num // 10))\n",
    "\n",
    "print(revNum(12))\n",
    "    \n",
    "    "
   ]
  },
  {
   "cell_type": "markdown",
   "id": "cf6948cc",
   "metadata": {},
   "source": [
    "### Palindrome Number\n"
   ]
  },
  {
   "cell_type": "code",
   "execution_count": 48,
   "id": "e5c98e45",
   "metadata": {},
   "outputs": [
    {
     "name": "stdout",
     "output_type": "stream",
     "text": [
      "True\n"
     ]
    }
   ],
   "source": [
    "def palindromeNum(num): \n",
    "    return revNum(num) == num\n",
    "\n",
    "print(palindromeNum(1234321))"
   ]
  },
  {
   "cell_type": "markdown",
   "id": "93b1e630",
   "metadata": {},
   "source": [
    "### Palindrome String"
   ]
  },
  {
   "cell_type": "code",
   "execution_count": 56,
   "id": "ee1cfe20",
   "metadata": {},
   "outputs": [
    {
     "name": "stdout",
     "output_type": "stream",
     "text": [
      "True\n"
     ]
    }
   ],
   "source": [
    "def revString(s):\n",
    "    if len(s) == 1:\n",
    "        return s\n",
    "    return s[-1] + revString(s[:-1])\n",
    "\n",
    "def palindromeStr(s):\n",
    "    return revString(s) == s\n",
    "\n",
    "print(palindromeStr('malayalam'))"
   ]
  },
  {
   "cell_type": "markdown",
   "id": "4bac22b6",
   "metadata": {},
   "source": [
    "### Count 0's\n"
   ]
  },
  {
   "cell_type": "code",
   "execution_count": 61,
   "id": "4c5942ab",
   "metadata": {},
   "outputs": [
    {
     "name": "stdout",
     "output_type": "stream",
     "text": [
      "4\n"
     ]
    }
   ],
   "source": [
    "def countZeros(num):\n",
    "    \n",
    "    return _helperCountZeroes(num, 0)\n",
    "\n",
    "def _helperCountZeroes(num, count):\n",
    "    if (num == 0):\n",
    "        return count\n",
    "    \n",
    "    if (num % 10) == 0:\n",
    "        count += 1\n",
    "        return _helperCountZeroes(num // 10, count)\n",
    "    else:\n",
    "        return _helperCountZeroes(num // 10, count)\n",
    "    \n",
    "print(countZeros(12340000))"
   ]
  },
  {
   "cell_type": "markdown",
   "id": "4fd8a0c6",
   "metadata": {},
   "source": [
    "### array sorted or not"
   ]
  },
  {
   "cell_type": "code",
   "execution_count": 82,
   "id": "27ab01cf",
   "metadata": {},
   "outputs": [
    {
     "name": "stdout",
     "output_type": "stream",
     "text": [
      "False\n"
     ]
    }
   ],
   "source": [
    "def isArrSorted(arr, i):\n",
    "    if len(arr)-1 == i:\n",
    "        return True\n",
    "\n",
    "    if (arr[i] <= arr[i+1]):\n",
    "        i += 1\n",
    "        return isArrSorted(arr, i)\n",
    "    \n",
    "    return False\n",
    "\n",
    "print(isArrSorted([1,2,3,4,6,7,7,8, 0], 0))"
   ]
  },
  {
   "cell_type": "markdown",
   "id": "b44d93c0",
   "metadata": {},
   "source": [
    "### Linear Search"
   ]
  },
  {
   "cell_type": "code",
   "execution_count": 92,
   "id": "91f726bb",
   "metadata": {},
   "outputs": [
    {
     "name": "stdout",
     "output_type": "stream",
     "text": [
      "1\n"
     ]
    }
   ],
   "source": [
    "def linearSearch(arr, i, target):\n",
    "    if i == len(arr):\n",
    "        return -1\n",
    "    \n",
    "    n = arr[i]\n",
    "    \n",
    "    if (n == target):\n",
    "        return i\n",
    "    \n",
    "    i += 1\n",
    "    return linearSearch(arr, i, target)\n",
    "\n",
    "print(linearSearch([1,4, 67,2, 1,7], 0, 4))"
   ]
  },
  {
   "cell_type": "markdown",
   "id": "cb85be24",
   "metadata": {},
   "source": [
    "### First Index\n"
   ]
  },
  {
   "cell_type": "markdown",
   "id": "8df500b5",
   "metadata": {},
   "source": [
    "### Find Last Index"
   ]
  },
  {
   "cell_type": "code",
   "execution_count": 96,
   "id": "2114ca55",
   "metadata": {},
   "outputs": [
    {
     "name": "stdout",
     "output_type": "stream",
     "text": [
      "4\n"
     ]
    }
   ],
   "source": [
    "def findLastIndex(arr, i, target):\n",
    "    \n",
    "    if i < 0:\n",
    "        return -1\n",
    "    \n",
    "    n = arr[i]\n",
    "    \n",
    "    if n == target:\n",
    "        return i\n",
    "    \n",
    "    i -= 1\n",
    "    return findLastIndex(arr, i, target)\n",
    "\n",
    "print(findLastIndex([1,4, 67,2, 1,7], 5, 1))"
   ]
  },
  {
   "cell_type": "markdown",
   "id": "78a669a4",
   "metadata": {},
   "source": [
    "### Find All"
   ]
  },
  {
   "cell_type": "code",
   "execution_count": 124,
   "id": "c6098e0d",
   "metadata": {},
   "outputs": [
    {
     "name": "stdout",
     "output_type": "stream",
     "text": [
      "[3, 4, 5]\n"
     ]
    }
   ],
   "source": [
    "def findAll(arr, target, index):\n",
    "    ans = []\n",
    "\n",
    "    if index > len(arr)-1:\n",
    "        return ans\n",
    "    \n",
    "    if arr[index] == target:\n",
    "        ans.append(index)\n",
    "\n",
    "    index += 1\n",
    "    smallerOutput = findBoth(arr, target, index)\n",
    "    ans.extend(smallerOutput)\n",
    "    return ans\n",
    "    \n",
    "print(findBoth([1,2,3,4,4, 4, 8], 4, 0))"
   ]
  },
  {
   "cell_type": "markdown",
   "id": "02bc7470",
   "metadata": {},
   "source": [
    "### Binary Search (Recursion)"
   ]
  },
  {
   "cell_type": "code",
   "execution_count": 128,
   "id": "7ba11a8f",
   "metadata": {},
   "outputs": [
    {
     "name": "stdout",
     "output_type": "stream",
     "text": [
      "[1, 2, 3, 4, 5]\n",
      "[3, 4, 5]\n",
      "1\n"
     ]
    }
   ],
   "source": [
    "def binarySearch(arr, target):\n",
    "    print(arr)\n",
    "    if len(arr) <= 0:\n",
    "        return -1\n",
    "    \n",
    "    mid = len(arr) // 2\n",
    "    if arr[mid] == target:\n",
    "        return mid\n",
    "    \n",
    "    if arr[mid] < target:\n",
    "        return binarySearch(arr[mid:], target)\n",
    "    else:\n",
    "        return binarySearch(arr[:mid], target)\n",
    "    \n",
    "print(binarySearch([1,2,3,4,5], 4))"
   ]
  },
  {
   "cell_type": "code",
   "execution_count": 132,
   "id": "220cfad8",
   "metadata": {},
   "outputs": [
    {
     "name": "stdout",
     "output_type": "stream",
     "text": [
      "4\n"
     ]
    }
   ],
   "source": [
    "def binarySearch2(arr, target):\n",
    "    si = 0\n",
    "    ei = len(arr) - 1\n",
    "    \n",
    "    return _helperBinarySearch(arr, target, si, ei)\n",
    "\n",
    "def _helperBinarySearch(arr, target, si, ei):\n",
    "    if si > ei:\n",
    "        return -1\n",
    "    \n",
    "    \n",
    "    mid = (si + ei) // 2\n",
    "    \n",
    "    if arr[mid] == target:\n",
    "        return mid\n",
    "    \n",
    "    if arr[mid] < target:\n",
    "        return _helperBinarySearch(arr, target, mid + 1 , ei)\n",
    "    else:\n",
    "        return _helperBinarySearch(arr, target, si, mid)\n",
    "    \n",
    "print(binarySearch2([1,2,3,4,5], 5))\n",
    "    "
   ]
  },
  {
   "cell_type": "code",
   "execution_count": 146,
   "id": "7e3ec6ab",
   "metadata": {},
   "outputs": [
    {
     "name": "stdout",
     "output_type": "stream",
     "text": [
      "0\n"
     ]
    }
   ],
   "source": [
    "def rotatedBinarySearch(arr, target):\n",
    "    si = 0\n",
    "    ei = len(arr) - 1\n",
    "    \n",
    "    return _helperRotatedSearch(arr, target, si, ei)\n",
    "\n",
    "def _helperRotatedSearch(arr, target, si, ei):\n",
    "    if si > ei:\n",
    "        return -1\n",
    "    \n",
    "    mid = (si + ei) // 2\n",
    "    if arr[mid] == target:\n",
    "        return mid\n",
    "    if arr[si] <= arr[mid]:\n",
    "        if target >= arr[si] and target <= arr[mid]:\n",
    "            return _helperRotatedSearch(arr, target, si, mid - 1)\n",
    "        return _helperRotatedSearch(arr, target, mid + 1, ei)\n",
    "        \n",
    "    return _helperRotatedSearch(arr, target, si + 1, ei)\n",
    "#     return _helperRotatedSearch(arr, target, si , ei - 1)\n",
    "\n",
    "print(rotatedBinarySearch([4,5,6,1,2,3], 4))"
   ]
  },
  {
   "cell_type": "markdown",
   "id": "13066938",
   "metadata": {},
   "source": [
    "### Pattern 1 using recursion\n"
   ]
  },
  {
   "cell_type": "code",
   "execution_count": 148,
   "id": "1d16453c",
   "metadata": {},
   "outputs": [
    {
     "name": "stdout",
     "output_type": "stream",
     "text": [
      "* * * \n",
      "* * \n",
      "* \n"
     ]
    }
   ],
   "source": [
    "def pattern1(r, c):\n",
    "    if r == 0:\n",
    "        return\n",
    "    \n",
    "    \n",
    "    if r > c:\n",
    "        print('*', end = \" \")\n",
    "        pattern1(r, c + 1)\n",
    "    else:\n",
    "        print()\n",
    "        pattern1(r-1, 0)\n",
    "        \n",
    "pattern1(3, 0)"
   ]
  },
  {
   "cell_type": "code",
   "execution_count": 157,
   "id": "8f192dd7",
   "metadata": {},
   "outputs": [
    {
     "name": "stdout",
     "output_type": "stream",
     "text": [
      "\n",
      "* \n",
      "* * \n",
      "* * * "
     ]
    }
   ],
   "source": [
    "def pattern2(r, c):\n",
    "    if r == 0:\n",
    "        return\n",
    "    \n",
    "    \n",
    "    if c < r:\n",
    "        pattern2(r, c + 1)\n",
    "        print('*', end = \" \")\n",
    "        \n",
    "    else:\n",
    "        pattern2(r-1, 0)\n",
    "        print()\n",
    "        \n",
    "        \n",
    "pattern2(3, 0)"
   ]
  },
  {
   "cell_type": "markdown",
   "id": "2c58906c",
   "metadata": {},
   "source": [
    "### Bubble sort"
   ]
  },
  {
   "cell_type": "code",
   "execution_count": 194,
   "id": "cb0f1b4c",
   "metadata": {},
   "outputs": [
    {
     "name": "stdout",
     "output_type": "stream",
     "text": [
      "[0, 1, 2, 3, 8, 9]\n"
     ]
    }
   ],
   "source": [
    "def bubbleSortRec(arr, n):\n",
    "    \n",
    "    if n == 0:\n",
    "        return\n",
    "    \n",
    "    for i in range(0, n):\n",
    "        if arr[i] > arr[i+1]:\n",
    "            arr[i], arr[i+1] = arr[i+1], arr[i]\n",
    "    \n",
    "    bubbleSortRec(arr, n - 1)\n",
    "    \n",
    "ARR2 = [2,9,3,8,1,0]\n",
    "\n",
    "bubbleSortRec(ARR2, len(ARR2)-1)\n",
    "print(ARR2)\n",
    "    "
   ]
  },
  {
   "cell_type": "markdown",
   "id": "5159dd5d",
   "metadata": {},
   "source": [
    "### Selection Sort"
   ]
  },
  {
   "cell_type": "code",
   "execution_count": 175,
   "id": "08e0b75f",
   "metadata": {},
   "outputs": [
    {
     "name": "stdout",
     "output_type": "stream",
     "text": [
      "[0, 1, 2, 4, 5, 8]\n"
     ]
    }
   ],
   "source": [
    "def getMaxIndex(arr, start, end, max_index):\n",
    "    if start > end:\n",
    "        return max_index\n",
    "    \n",
    "    if arr[start] > arr[max_index]:\n",
    "        max_index = start\n",
    "        start += 1\n",
    "        return getMaxIndex(arr, start, end, max_index)\n",
    "    else:\n",
    "        start += 1\n",
    "        return getMaxIndex(arr, start, end, max_index)\n",
    "        \n",
    "\n",
    "    \n",
    "def selectionSortRec(arr, n):\n",
    " \n",
    "    if n == 0:\n",
    "        return\n",
    "    # n will be len(arr) - i\n",
    "    max_i = getMaxIndex(arr, 0, n, 0)\n",
    "\n",
    "    arr[max_i], arr[n] = arr[n], arr[max_i]\n",
    "    \n",
    "    selectionSortRec(arr, n - 1)\n",
    "\n",
    "ARR3 = [1,2,8,4,0,5]\n",
    "selectionSortRec(ARR3, len(ARR3)-1)\n",
    "print(ARR3)\n",
    "    \n",
    "    "
   ]
  },
  {
   "cell_type": "markdown",
   "id": "64fc1b07",
   "metadata": {},
   "source": [
    "### Insertion Sort"
   ]
  },
  {
   "cell_type": "code",
   "execution_count": 191,
   "id": "885a5bd7",
   "metadata": {},
   "outputs": [
    {
     "name": "stdout",
     "output_type": "stream",
     "text": [
      "[0, 1, 2, 3, 8, 9]\n"
     ]
    }
   ],
   "source": [
    "def insertionSort(arr, n):\n",
    "    \n",
    "    for i in range(0, n):\n",
    "        for j in range(i+1, 0, -1):\n",
    "            if arr[j] < arr[j-1]:\n",
    "                arr[j], arr[j-1] = arr[j-1], arr[j]\n",
    "            else:\n",
    "                break\n",
    "ARR4 =  [1,2,8,4,0,5]\n",
    "# insertionSort(ARR4, len(ARR4)-1)\n",
    "# print(ARR4)\n",
    "\n",
    "\n",
    "def insertionSortRec(arr, n):\n",
    "    \n",
    "    if n == len(arr) -1:\n",
    "        return\n",
    "    \n",
    "    for j in range(n+1, 0, -1):\n",
    "        if arr[j] < arr[j-1]:\n",
    "            arr[j], arr[j-1] = arr[j-1], arr[j]\n",
    "        else:\n",
    "            break\n",
    "    \n",
    "    insertionSortRec(arr, n + 1)\n",
    "    \n",
    "ARR2 = [2,9,3,8,1,0]\n",
    "\n",
    "insertionSortRec(ARR2, 0)\n",
    "print(ARR2)"
   ]
  },
  {
   "cell_type": "markdown",
   "id": "170d9fc0",
   "metadata": {},
   "source": [
    "### Merge Sort"
   ]
  },
  {
   "cell_type": "code",
   "execution_count": 202,
   "id": "b10c3d9e",
   "metadata": {},
   "outputs": [
    {
     "name": "stdout",
     "output_type": "stream",
     "text": [
      "[0, 1, 2, 3, 8, 9]\n"
     ]
    }
   ],
   "source": [
    "def mergeList(arr, left, right):\n",
    "    i = 0\n",
    "    j = 0\n",
    "    k = 0\n",
    "    \n",
    "    while i < len(left) and j < len(right):\n",
    "        if left[i] < right[j]:\n",
    "            arr[k] = left[i]\n",
    "            i += 1\n",
    "        else:\n",
    "            arr[k] = right[j]\n",
    "            j += 1\n",
    "        k += 1\n",
    "     \n",
    "    while i < len(left):\n",
    "        arr[k] = left[i]\n",
    "        i += 1\n",
    "        k += 1\n",
    "     \n",
    "    while j < len(right):\n",
    "        arr[k] = right[j]\n",
    "        j += 1\n",
    "        k += 1\n",
    "        \n",
    "\n",
    "def mergeSort(arr):\n",
    "    if len(arr) == 1:\n",
    "        return arr\n",
    "    \n",
    "    mid = len(arr) // 2\n",
    "    \n",
    "    left = arr[:mid]\n",
    "    right = arr[mid:]\n",
    "    \n",
    "    mergeSort(left)\n",
    "    mergeSort(right)\n",
    "\n",
    "    mergeList(arr, left, right)\n",
    "\n",
    "    \n",
    "ARR0 = [2,9,3,8,1,0]\n",
    "mergeSort(ARR0)\n",
    "print(ARR0)"
   ]
  },
  {
   "cell_type": "markdown",
   "id": "bca63b8b",
   "metadata": {},
   "source": [
    "### Quick Sort\n"
   ]
  },
  {
   "cell_type": "code",
   "execution_count": null,
   "id": "d7955de4",
   "metadata": {},
   "outputs": [],
   "source": []
  },
  {
   "cell_type": "markdown",
   "id": "f73ff78d",
   "metadata": {},
   "source": [
    "### Remove all Occurance of a's\n"
   ]
  },
  {
   "cell_type": "code",
   "execution_count": 203,
   "id": "7db9ea33",
   "metadata": {},
   "outputs": [
    {
     "name": "stdout",
     "output_type": "stream",
     "text": [
      "bcbb\n"
     ]
    }
   ],
   "source": [
    "def removeA(p, up):\n",
    "    if len(up) == 0:\n",
    "        return p\n",
    "    \n",
    "    ch = up[0]\n",
    "    \n",
    "    if ch == 'a':\n",
    "        return removeA(p, up[1:])\n",
    "    else:\n",
    "        return removeA(p + ch, up[1:])\n",
    "\n",
    "print(removeA('', 'abcbba'))"
   ]
  },
  {
   "cell_type": "markdown",
   "id": "a7e18a77",
   "metadata": {},
   "source": [
    "### Skip an entire string\n"
   ]
  },
  {
   "cell_type": "code",
   "execution_count": 212,
   "id": "004a754e",
   "metadata": {},
   "outputs": [
    {
     "name": "stdout",
     "output_type": "stream",
     "text": [
      "uio\n"
     ]
    }
   ],
   "source": [
    "def skipApple(p, up):\n",
    "    \n",
    "    if len(up) == 0:\n",
    "        return p\n",
    "    \n",
    "    word = up[:5]\n",
    "    if word == 'apple':\n",
    "        return skipApple(p, up[5:])\n",
    "    else:\n",
    "        return skipApple(p+up[0], up[1:])\n",
    "    \n",
    "print(skipApple('', 'appleuio'))\n",
    "        "
   ]
  },
  {
   "cell_type": "markdown",
   "id": "cd834c97",
   "metadata": {},
   "source": [
    "### subseq\n"
   ]
  },
  {
   "cell_type": "code",
   "execution_count": 217,
   "id": "bbf26811",
   "metadata": {},
   "outputs": [
    {
     "name": "stdout",
     "output_type": "stream",
     "text": [
      "abc\n",
      "ab\n",
      "ac\n",
      "a\n",
      "bc\n",
      "b\n",
      "c\n",
      "\n"
     ]
    }
   ],
   "source": [
    "def subseq(p, up):\n",
    "    if len(up) == 0:\n",
    "        print(p)\n",
    "        return\n",
    "\n",
    "    \n",
    "    ch = up[0]\n",
    "    subseq(p + ch, up[1:])\n",
    "    subseq(p, up[1:])\n",
    "\n",
    "    \n",
    "subseq('', 'abc')"
   ]
  },
  {
   "cell_type": "code",
   "execution_count": 235,
   "id": "55868614",
   "metadata": {},
   "outputs": [
    {
     "data": {
      "text/plain": [
       "['abc', 'ab', 'ac', 'a', 'bc', 'b', 'c', '']"
      ]
     },
     "execution_count": 235,
     "metadata": {},
     "output_type": "execute_result"
    }
   ],
   "source": [
    "def subseq2(p, up, ans):\n",
    "    if len(up) == 0:\n",
    "        ans.append(p)\n",
    "        return ans\n",
    "\n",
    "    \n",
    "    ch = up[0]\n",
    "    subseq2(p + ch, up[1:], ans)\n",
    "    subseq2(p, up[1:], ans)\n",
    "    return ans\n",
    "    \n",
    "\n",
    "subseq2('', 'abc', [])\n"
   ]
  },
  {
   "cell_type": "code",
   "execution_count": 223,
   "id": "f60cceee",
   "metadata": {},
   "outputs": [
    {
     "data": {
      "text/plain": [
       "['abc', 'ab', 'ac', 'a', 'bc', 'b', 'c', '']"
      ]
     },
     "execution_count": 223,
     "metadata": {},
     "output_type": "execute_result"
    }
   ],
   "source": [
    "def subseqFINAL(p, up):\n",
    "    \n",
    "    ans = []\n",
    "    \n",
    "    if len(up) == 0:\n",
    "        ans.append(p)\n",
    "        return ans\n",
    "\n",
    "    \n",
    "    ch = up[0]\n",
    "    op1 = subseqFINAL(p + ch, up[1:] )\n",
    "    op2 = subseqFINAL(p, up[1:])\n",
    "    \n",
    "    ans.extend(op1)\n",
    "    ans.extend(op2)\n",
    "    return ans\n",
    "\n",
    "\n",
    "subseqFINAL('', 'abc')"
   ]
  },
  {
   "cell_type": "code",
   "execution_count": 230,
   "id": "c484576c",
   "metadata": {},
   "outputs": [
    {
     "name": "stdout",
     "output_type": "stream",
     "text": [
      "cba\n",
      "bca\n",
      "bac\n",
      "cab\n",
      "acb\n",
      "abc\n"
     ]
    }
   ],
   "source": [
    "def permutation(p, up):\n",
    "    \n",
    "    if len(up) == 0:\n",
    "        print(p)\n",
    "        return \n",
    "    \n",
    "    ch = up[0]\n",
    "\n",
    "    # no of recursion called is depend on the processed length\n",
    "    for i in range(0, len(p)+1):\n",
    "        f = p[0:i]\n",
    "        s = p[i:]\n",
    "        permutation(f+ch+s, up[1:])\n",
    "        \n",
    "permutation('', 'abc')"
   ]
  },
  {
   "cell_type": "code",
   "execution_count": 232,
   "id": "41aab482",
   "metadata": {},
   "outputs": [
    {
     "data": {
      "text/plain": [
       "['cba', 'bca', 'bac', 'cab', 'acb', 'abc']"
      ]
     },
     "execution_count": 232,
     "metadata": {},
     "output_type": "execute_result"
    }
   ],
   "source": [
    "def permutation2(p, up):\n",
    "    ans = []\n",
    "    if len(up) == 0:\n",
    "        ans.append(p)\n",
    "        return ans\n",
    "    \n",
    "    ch = up[0]\n",
    "\n",
    "    # no of recursion called is depend on the processed length\n",
    "    for i in range(0, len(p)+1):\n",
    "        f = p[0:i]\n",
    "        s = p[i:]\n",
    "        small = permutation2(f+ch+s, up[1:])\n",
    "        ans.extend(small)\n",
    "        \n",
    "    return ans\n",
    "permutation2('', 'abc')"
   ]
  },
  {
   "cell_type": "code",
   "execution_count": 236,
   "id": "a28b727d",
   "metadata": {},
   "outputs": [
    {
     "data": {
      "text/plain": [
       "6"
      ]
     },
     "execution_count": 236,
     "metadata": {},
     "output_type": "execute_result"
    }
   ],
   "source": [
    "def returnCount(p, up):\n",
    "    count = 0\n",
    "    if len(up) == 0:\n",
    "        return 1\n",
    "    \n",
    "    ch = up[0]\n",
    "\n",
    "    # no of recursion called is depend on the processed length\n",
    "    for i in range(0, len(p)+1):\n",
    "        f = p[0:i]\n",
    "        s = p[i:]\n",
    "        count = count + returnCount(f+ch+s, up[1:])\n",
    "        \n",
    "    return count\n",
    "returnCount('', 'abc')"
   ]
  },
  {
   "cell_type": "code",
   "execution_count": 243,
   "id": "0b9970ad",
   "metadata": {},
   "outputs": [
    {
     "data": {
      "text/plain": [
       "'b'"
      ]
     },
     "execution_count": 243,
     "metadata": {},
     "output_type": "execute_result"
    }
   ],
   "source": [
    "chr(ord('a') + 1)"
   ]
  },
  {
   "cell_type": "code",
   "execution_count": 244,
   "id": "46dc5d98",
   "metadata": {},
   "outputs": [
    {
     "data": {
      "text/plain": [
       "2"
      ]
     },
     "execution_count": 244,
     "metadata": {},
     "output_type": "execute_result"
    }
   ],
   "source": [
    "int('2')"
   ]
  },
  {
   "cell_type": "code",
   "execution_count": 247,
   "id": "be21171c",
   "metadata": {},
   "outputs": [
    {
     "name": "stdout",
     "output_type": "stream",
     "text": [
      "ad\n",
      "ae\n",
      "af\n",
      "bd\n",
      "be\n",
      "bf\n",
      "cd\n",
      "ce\n",
      "cf\n"
     ]
    }
   ],
   "source": [
    "def dialPad(p, up):\n",
    "    if len(up) == 0:\n",
    "        print(p)\n",
    "        return\n",
    "    #'12' consider '1' --> 1\n",
    "    digit = int(up[0])\n",
    "    \n",
    "    for i in range((digit - 1) * 3, digit * 3):\n",
    "        ch = chr(ord('a') + i)\n",
    "        dialPad(p + ch, up[1:])\n",
    "        \n",
    "dialPad('', '12')\n",
    "        "
   ]
  },
  {
   "cell_type": "code",
   "execution_count": 248,
   "id": "5047afe0",
   "metadata": {},
   "outputs": [
    {
     "data": {
      "text/plain": [
       "['ad', 'ae', 'af', 'bd', 'be', 'bf', 'cd', 'ce', 'cf']"
      ]
     },
     "execution_count": 248,
     "metadata": {},
     "output_type": "execute_result"
    }
   ],
   "source": [
    "def dialPad2(p, up):\n",
    "    ans = []\n",
    "    if len(up) == 0:\n",
    "        ans.append(p)\n",
    "        return ans\n",
    "    #'12' consider '1' --> 1\n",
    "    digit = int(up[0])\n",
    "    \n",
    "    for i in range((digit - 1) * 3, digit * 3):\n",
    "        ch = chr(ord('a') + i)\n",
    "        smallOutput = dialPad2(p + ch, up[1:])\n",
    "        ans.extend(smallOutput)\n",
    "        \n",
    "    return ans\n",
    "        \n",
    "dialPad2('', '12')"
   ]
  },
  {
   "cell_type": "code",
   "execution_count": 254,
   "id": "e3181e9d",
   "metadata": {},
   "outputs": [
    {
     "data": {
      "text/plain": [
       "['dd', 'de', 'df', 'ed', 'ee', 'ef', 'fd', 'fe', 'ff']"
      ]
     },
     "execution_count": 254,
     "metadata": {},
     "output_type": "execute_result"
    }
   ],
   "source": [
    "\n",
    "# 2 to 9\n",
    "\n",
    "def dialPadFINAL(p, up):\n",
    "    phones =[\"\", \"\", \"abc\", \"def\", \"ghi\", \"jkl\", \"mno\", \"pqrs\", \"tuv\", \"wxyz\"]\n",
    "    ans = []\n",
    "    if len(up) == 0:\n",
    "        ans.append(p)\n",
    "        return ans\n",
    "    #'23' consider '2' --> 2\n",
    "    digit = int(up[0])\n",
    "    s = phones[digit]\n",
    "    \n",
    "    for i in range(0, len(s)):\n",
    "        ch = s[i]\n",
    "        smallOutput = dialPadFINAL(p + ch, up[1:])\n",
    "        ans.extend(smallOutput)\n",
    "        \n",
    "    return ans\n",
    "        \n",
    "dialPadFINAL('', '')"
   ]
  },
  {
   "cell_type": "code",
   "execution_count": 255,
   "id": "b7958925",
   "metadata": {},
   "outputs": [
    {
     "data": {
      "text/plain": [
       "'123'"
      ]
     },
     "execution_count": 255,
     "metadata": {},
     "output_type": "execute_result"
    }
   ],
   "source": [
    "str(123)"
   ]
  },
  {
   "cell_type": "code",
   "execution_count": 297,
   "id": "60ad7ae1",
   "metadata": {},
   "outputs": [
    {
     "name": "stdout",
     "output_type": "stream",
     "text": [
      "1111\n",
      "112\n",
      "121\n",
      "13\n",
      "211\n",
      "22\n",
      "31\n",
      "4\n"
     ]
    }
   ],
   "source": [
    "def diceThrown(p, up):\n",
    "    if up == 0:\n",
    "        print(p)\n",
    "        return \n",
    "    # 1 to 6 total\n",
    "    for i in range(1, 7):\n",
    "        if i <= up:\n",
    "            diceThrown(p + str(i), up - i)\n",
    "        \n",
    "diceThrown('',4)    \n"
   ]
  },
  {
   "cell_type": "code",
   "execution_count": 301,
   "id": "7454073d",
   "metadata": {},
   "outputs": [
    {
     "data": {
      "text/plain": [
       "['1111', '112', '121', '13', '211', '22', '31', '4']"
      ]
     },
     "execution_count": 301,
     "metadata": {},
     "output_type": "execute_result"
    }
   ],
   "source": [
    "def diceThrown2(p, up):\n",
    "    ans = []\n",
    "    if up == 0:\n",
    "        ans.append(p)\n",
    "        return ans\n",
    "    # 1 to 6 total\n",
    "    for i in range(1, 7):\n",
    "        if i <= up:\n",
    "            op = diceThrown2(p + str(i), up - i)\n",
    "            ans.extend(op)\n",
    "    return ans\n",
    "\n",
    "        \n",
    "diceThrown2('',4)  "
   ]
  },
  {
   "cell_type": "code",
   "execution_count": 305,
   "id": "8b158a38",
   "metadata": {},
   "outputs": [
    {
     "data": {
      "text/plain": [
       "['11111',\n",
       " '1112',\n",
       " '1121',\n",
       " '113',\n",
       " '1211',\n",
       " '122',\n",
       " '131',\n",
       " '14',\n",
       " '2111',\n",
       " '212',\n",
       " '221',\n",
       " '23',\n",
       " '311',\n",
       " '32',\n",
       " '41']"
      ]
     },
     "execution_count": 305,
     "metadata": {},
     "output_type": "execute_result"
    }
   ],
   "source": [
    "def diceThrownFace(p, up, face):\n",
    "    ans = []\n",
    "    if up == 0:\n",
    "        ans.append(p)\n",
    "        return ans\n",
    "    \n",
    "    for i in range(1, face+1):\n",
    "        if i <= up:\n",
    "            op = diceThrownFace(p + str(i), up - i, face)\n",
    "            ans.extend(op)\n",
    "    return ans\n",
    "\n",
    "        \n",
    "diceThrownFace('',5, 4)"
   ]
  },
  {
   "cell_type": "code",
   "execution_count": null,
   "id": "f9fdd887",
   "metadata": {},
   "outputs": [],
   "source": []
  }
 ],
 "metadata": {
  "kernelspec": {
   "display_name": "Python 3 (ipykernel)",
   "language": "python",
   "name": "python3"
  },
  "language_info": {
   "codemirror_mode": {
    "name": "ipython",
    "version": 3
   },
   "file_extension": ".py",
   "mimetype": "text/x-python",
   "name": "python",
   "nbconvert_exporter": "python",
   "pygments_lexer": "ipython3",
   "version": "3.10.0"
  }
 },
 "nbformat": 4,
 "nbformat_minor": 5
}
