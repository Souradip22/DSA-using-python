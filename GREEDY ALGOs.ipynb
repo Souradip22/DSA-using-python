{
 "cells": [
  {
   "cell_type": "code",
   "execution_count": 1,
   "id": "ad78a210",
   "metadata": {},
   "outputs": [
    {
     "name": "stdout",
     "output_type": "stream",
     "text": [
      "[{'weight': 5, 'price': 20}, {'weight': 10, 'price': 21}, {'weight': 10, 'price': 10}]\n"
     ]
    }
   ],
   "source": [
    "list = [\n",
    "    {\"weight\":10, \"price\": 10},\n",
    "    {\"weight\":5, \"price\":20},\n",
    "    {\"weight\": 10, \"price\": 21}\n",
    "]\n",
    "\n",
    "def compare(left, right):\n",
    "    if left['weight'] < right['weight']: #prioritize smaller weight\n",
    "        return -1\n",
    "    elif left['weight'] == right['weight']:\n",
    "        if left['price'] > right['price']: #but prioritize bigger prices\n",
    "            return -1\n",
    "        elif left['price'] == right['price']:\n",
    "            return 0\n",
    "        else:\n",
    "            return 1\n",
    "    else:\n",
    "        return 1\n",
    "\n",
    "from functools import cmp_to_key\n",
    "sorted_list = sorted(list, key=cmp_to_key(compare), reverse=False)\n",
    "print(sorted_list)"
   ]
  },
  {
   "cell_type": "markdown",
   "id": "980567a4",
   "metadata": {},
   "source": [
    "### Minimum Number of Platforms Required for a Railway/Bus Station\n",
    " "
   ]
  },
  {
   "cell_type": "code",
   "execution_count": 5,
   "id": "11574e85",
   "metadata": {},
   "outputs": [
    {
     "data": {
      "text/plain": [
       "3"
      ]
     },
     "execution_count": 5,
     "metadata": {},
     "output_type": "execute_result"
    }
   ],
   "source": [
    "def findMinPlatform(ARR, DEP, n):\n",
    "    #sort both of arrival time list and dep time list\n",
    "    ARR.sort()\n",
    "    DEP.sort()\n",
    "    \n",
    "    platform = 1\n",
    "    max_platform = 1\n",
    "    i = 1\n",
    "    j = 0\n",
    "    \n",
    "    while i < n and j < n :\n",
    "        # given condition that\n",
    "        if ARR[i] <= DEP[j]:\n",
    "            platform += 1\n",
    "            i += 1\n",
    "        \n",
    "        else:\n",
    "            platform -= 1\n",
    "            j += 1\n",
    "            \n",
    "        if platform >= max_platform:\n",
    "            max_platform = platform\n",
    "   \n",
    "    return max_platform\n",
    "\n",
    "\n",
    "\n",
    "    \n",
    "# arr = [900, 940, 950, 1100, 1500, 1800]\n",
    "# dep = [910, 1200, 1120, 1130, 1900, 2000]\n",
    "\n",
    "arr = [120, 50, 550, 200, 700, 850]\n",
    "dep = [600, 550, 700, 500, 900, 1000]\n",
    "\n",
    "findMinPlatform(arr, dep, len(arr)-1)"
   ]
  },
  {
   "cell_type": "markdown",
   "id": "24c0e837",
   "metadata": {},
   "source": [
    "### N meetings in one room\n",
    "### https://practice.geeksforgeeks.org/problems/n-meetings-in-one-room-1587115620/1\n"
   ]
  },
  {
   "cell_type": "markdown",
   "id": "0d0aa948",
   "metadata": {},
   "source": [
    "```\n",
    "Input:\n",
    "N = 6\n",
    "start[] = {1,3,0,5,8,5}\n",
    "end[] =  {2,4,6,7,9,9}\n",
    "Output: \n",
    "4\n",
    "Explanation:\n",
    "Maximum four meetings can be held with\n",
    "given start and end timings.\n",
    "The meetings are - (1, 2),(3, 4), (5,7) and (8,9)\n",
    "\n",
    "Note: Start time of one chosen meeting can't be equal to the end time of the other chosen meeting\n",
    "```"
   ]
  },
  {
   "cell_type": "code",
   "execution_count": 40,
   "id": "23528e0b",
   "metadata": {},
   "outputs": [
    {
     "data": {
      "text/plain": [
       "[1, 3, 5, 4]"
      ]
     },
     "execution_count": 40,
     "metadata": {},
     "output_type": "execute_result"
    }
   ],
   "source": [
    "#sort the meetings in their given finished time and \n",
    "from functools import cmp_to_key\n",
    "def comparetor(left, right):\n",
    "    if left[1] > right[1]:\n",
    "        return 1\n",
    "    elif left[1] < right[1]:\n",
    "        return -1\n",
    "    else:\n",
    "        if left[2] > right[2]:\n",
    "            return 1\n",
    "        else:\n",
    "            return -1\n",
    "        return 0\n",
    "        \n",
    "def findMeeting(start, end):\n",
    "    #creating the ds start + end + position(meeting ID) with asc order of end time\n",
    "    meet = []\n",
    "    for i in range(0, len(end)):\n",
    "        meet.append((start[i], end[i], i + 1))\n",
    "        \n",
    "    meet.sort(key = cmp_to_key(comparetor))\n",
    "    res_meeting_ids = []\n",
    "\n",
    "    #First meeting will always take place\n",
    "    res_meeting_ids.append(meet[0][2]) #append the first meeting id\n",
    "    last_meeting_endTime = meet[0][1]  #update the variable with first meeting end time\n",
    "    \n",
    "    # At any point a meeting can happen only if the start time of the current meeting is greater than the \n",
    "    # last meeting end time\n",
    "    # start from second meeting as we wlready considered the first one\n",
    "    for i in range(1, len(start)):\n",
    "        # if current meeting start time is greater than the last meeting end time then only it can happen\n",
    "        if meet[i][0] > last_meeting_endTime:\n",
    "            res_meeting_ids.append(meet[i][2])\n",
    "            last_meeting_endTime = meet[i][1]\n",
    "            \n",
    "    return res_meeting_ids\n",
    "        \n",
    "\n",
    "    \n",
    "start =   [1, 0, 3, 8, 5, 8]\n",
    "end   =   [2, 6, 4, 9, 7, 9]\n",
    "        \n",
    "findMeeting(start, end)  "
   ]
  },
  {
   "cell_type": "markdown",
   "id": "282389a0",
   "metadata": {},
   "source": [
    "### JOB Sequencing Problem\n",
    "\n",
    "```\n",
    "Input:  Five Jobs with following\n",
    "deadlines and profits\n",
    "JobID   Deadline  Profit\n",
    "  a       2        100\n",
    "  b       1        19\n",
    "  c       2        27\n",
    "  d       1        25\n",
    "  e       3        15\n",
    "Output: Following is maximum \n",
    "profit sequence of jobs\n",
    "        c, a, e\n",
    "```\n",
    "\n"
   ]
  },
  {
   "cell_type": "code",
   "execution_count": 74,
   "id": "cfae2943",
   "metadata": {},
   "outputs": [
    {
     "data": {
      "text/plain": [
       "['c', 'a', 'e']"
      ]
     },
     "execution_count": 74,
     "metadata": {},
     "output_type": "execute_result"
    }
   ],
   "source": [
    "#first sort the profit according to profit\n",
    "# 1) Sort all jobs in decreasing order of profit. \n",
    "# 2) Iterate on jobs in decreasing order of profit.For each job , do the following : \n",
    "# a)Find a time slot i, such that slot is empty and i < deadline and i is greatest.Put the job in \n",
    "# this slot and mark this slot filled. \n",
    "# b)If no such i exists, then ignore the job. \n",
    "from functools import cmp_to_key\n",
    "\n",
    "def comparetor(left, right):\n",
    "    if left[2] > right[2]:\n",
    "        return 1\n",
    "    elif left[2] < right[2]:\n",
    "        return -1\n",
    "    else:\n",
    "        return 0\n",
    "    \n",
    "def comparetor2(left, right):\n",
    "    if left[1] > right[1]:\n",
    "        return 1\n",
    "    elif left[1] < right[1]:\n",
    "        return -1\n",
    "    else:\n",
    "        return 0\n",
    "\n",
    "def jobSequencing(arr):\n",
    "    \n",
    "    arr.sort(key = cmp_to_key(comparetor), reverse = True)\n",
    "    # arr will be now desc order of profit, because we want to perform the job which has high profit first\n",
    "    \n",
    "    max_deadline = max(arr, key = cmp_to_key(comparetor2))[1]\n",
    "    \n",
    "    lseq = [-1] * max_deadline\n",
    "\n",
    "    tprofit = 0\n",
    "    job = [''] * max_deadline\n",
    "\n",
    "    \n",
    "    for i in range(0, len(arr)):\n",
    "        # for any job we will look for the deadline if that is possible in the deadline just add it there \n",
    "        # if that slow is not available check the slot before that and place it there\n",
    "        # if we alocate the job then no need to check for any other slots for that particular id and move to the next id, \n",
    "        # that is why we break if we alocate a slot for that job\n",
    "        for j in range(arr[i][1] - 1, -1, -1):\n",
    "            if lseq[j] == -1:\n",
    "                lseq[j] = arr[i][0]\n",
    "                tprofit += arr[i][2]\n",
    "                job[j] = arr[i][0]\n",
    "                break    \n",
    "    return job\n",
    "\n",
    "\n",
    "arr = [['a', 2, 100],  # Job Array\n",
    "       ['b', 1, 19],\n",
    "       ['c', 2, 27],\n",
    "       ['d', 1, 25],\n",
    "       ['e', 3, 15]]\n",
    "\n",
    "jobSequencing(arr)"
   ]
  },
  {
   "cell_type": "markdown",
   "id": "a1e50304",
   "metadata": {},
   "source": [
    "### Fractional Knapsack\n",
    "```\n",
    "Given weights and values of N items, we need to put these items in a knapsack of capacity W to get the maximum total value in the knapsack.\n",
    "Note: Unlike 0/1 knapsack, you are allowed to break the item.\n",
    "\n",
    "N = 3, W = 50\n",
    "values[] = {60,100,120}\n",
    "weight[] = {10,20,30}\n",
    "Output:\n",
    "240.00\n",
    "Explanation:Total maximum value of item\n",
    "we can have is 240.00 from the given\n",
    "capacity of sack.\n",
    "```"
   ]
  },
  {
   "cell_type": "code",
   "execution_count": 108,
   "id": "9e837a77",
   "metadata": {},
   "outputs": [
    {
     "name": "stdout",
     "output_type": "stream",
     "text": [
      "[10, 60] [20, 100]\n"
     ]
    },
    {
     "data": {
      "text/plain": [
       "160.0"
      ]
     },
     "execution_count": 108,
     "metadata": {},
     "output_type": "execute_result"
    }
   ],
   "source": [
    "\n",
    "from functools import cmp_to_key\n",
    "def comparetor(left, right):\n",
    "    print(left, right)\n",
    "    f1 = right[1] // right[0]\n",
    "    f2 = left[1] // left[0]\n",
    "    \n",
    "    if f2 > f1:\n",
    "        return 1\n",
    "    elif f2 < f1:\n",
    "        return -1\n",
    "    else:\n",
    "        return 0\n",
    "        \n",
    "def fractionalKnapsack(items, w):\n",
    "    \n",
    "    items.sort(key = cmp_to_key(comparetor), reverse = True)\n",
    "    \n",
    "    curr_w = 0\n",
    "    profit = 0.0\n",
    "    \n",
    "    for i in range(len(items)):\n",
    "        \n",
    "        if curr_w + items[i][0] <= w:\n",
    "            curr_w += items[i][0]\n",
    "            profit += items[i][1]\n",
    "            \n",
    "        else:\n",
    "            rem = w - curr_w\n",
    "            profit += (items[i][1] // items[i][0]) * rem\n",
    "            break\n",
    "            \n",
    "    return profit\n",
    "# N = 2, \n",
    "W = 50\n",
    "# values[] = {60,100}\n",
    "# weight[] = {10,20}\n",
    "Items = [[10, 60], [20, 100]]\n",
    "\n",
    "# values = [60,100,120]\n",
    "# weight = [10,20,30]\n",
    "# Items = [[10, 60], [20, 100], [30, 120]]\n",
    "# W = 50\n",
    "fractionalKnapsack(Items, W)\n"
   ]
  },
  {
   "cell_type": "markdown",
   "id": "7f3a712e",
   "metadata": {},
   "source": [
    "### Greedy Algorithm to find Minimum number of Coins"
   ]
  },
  {
   "cell_type": "markdown",
   "id": "874eff0e",
   "metadata": {},
   "source": [
    "```\n",
    "Input: V = 70\n",
    "Output: 2\n",
    "We need a 50 Rs note and a 20 Rs note.\n",
    "\n",
    "Input: V = 121\n",
    "Output: 3\n",
    "We need a 100 Rs note, a 20 Rs note and a 1 Rs coin\n",
    "```\n",
    "<!-- Input: coins = [1,2,5], amount = 11\n",
    "Output: 3\n",
    "Explanation: 11 = 5 + 5 + 1 -->\n",
    "\n",
    "<!-- Input: coins = [1], amount = 0\n",
    "Output: 0 -->"
   ]
  },
  {
   "cell_type": "code",
   "execution_count": 109,
   "id": "a1b27c25",
   "metadata": {},
   "outputs": [
    {
     "data": {
      "text/plain": [
       "3"
      ]
     },
     "execution_count": 109,
     "metadata": {},
     "output_type": "execute_result"
    }
   ],
   "source": [
    "def minCoin(v, coin_arr):\n",
    "    coin_arr.sort()\n",
    "    count = 0\n",
    "    \n",
    "    i = len(coin_arr) - 1\n",
    "    \n",
    "    while i >= 0:\n",
    "        \n",
    "        while coin_arr[i] <= v:\n",
    "            v -= coin_arr[i]\n",
    "            count += 1\n",
    "        \n",
    "        i -= 1\n",
    "       \n",
    "    if v == 0:\n",
    "        return count\n",
    "    return -1\n",
    "    \n",
    "# coin_arr = [1, 2, 5, 10, 20, 50, 100, 500, 1000]\n",
    "# V = 121\n",
    "\n",
    "coins = [1,2,5]\n",
    "amount = 11\n",
    "\n",
    "# coins = [1]\n",
    "# amount = 0\n",
    "\n",
    "# coins = [2]\n",
    "# amount = 3\n",
    "# Output: -1\n",
    "\n",
    "# coins = [2,5,10,1]\n",
    "# amount = 27\n",
    "\n",
    "# coins = [186,419,83,408]\n",
    "# amount = 6249\n",
    "minCoin(amount,coins)\n",
    "    "
   ]
  },
  {
   "cell_type": "markdown",
   "id": "4285a7cb",
   "metadata": {},
   "source": [
    "### Capacity to ship packages within D days\n"
   ]
  },
  {
   "cell_type": "code",
   "execution_count": 133,
   "id": "70403187",
   "metadata": {},
   "outputs": [
    {
     "data": {
      "text/plain": [
       "6"
      ]
     },
     "execution_count": 133,
     "metadata": {},
     "output_type": "execute_result"
    }
   ],
   "source": [
    "def findMinBoatCapacity(weights, days):\n",
    "    #  Range for minimum boat capacity --> max(weights) <= boat_capacity <= sum(weights)\n",
    "    # find the range\n",
    "    l = 0\n",
    "    h = 0\n",
    "    ans = 0\n",
    "    for i in weights:\n",
    "        h += i\n",
    "        if l < i:\n",
    "            l = i\n",
    "\n",
    "    \n",
    "    while l <= h:\n",
    "        mid = (l + h) // 2\n",
    "        \n",
    "        if canTransfer(weights, mid, days):\n",
    "            ans = mid\n",
    "            h = mid - 1\n",
    "        else:\n",
    "            l = mid + 1\n",
    "            \n",
    "    return ans\n",
    "\n",
    "def canTransfer(weights, curr_cap, days):\n",
    "\n",
    "    lDays = 1\n",
    "    lWeightSum = 0\n",
    "    \n",
    "    for i in weights:\n",
    "        \n",
    "        if lWeightSum + i <= curr_cap:\n",
    "            lWeightSum += i\n",
    "            \n",
    "        else:\n",
    "            # this means we are going to next day, so the lWeight sum will be the current i\n",
    "            lDays += 1\n",
    "            lWeightSum = i\n",
    "            \n",
    "    if lDays <= days:\n",
    "        return True\n",
    "    return False\n",
    "            \n",
    "#     print(lWeightSum, lDays)\n",
    "# w = [1,2,3,4,5,6,7,8,9,10]\n",
    "# d = 5\n",
    "\n",
    "w = [3,2,2,4,1,4]\n",
    "d = 3\n",
    "# w = [3, 2, 2, 4, 1, 4]\n",
    "# d = 3\n",
    "    \n",
    "findMinBoatCapacity(w, d)"
   ]
  },
  {
   "cell_type": "code",
   "execution_count": null,
   "id": "c741c41b",
   "metadata": {},
   "outputs": [],
   "source": []
  },
  {
   "cell_type": "code",
   "execution_count": null,
   "id": "5b8beddd",
   "metadata": {},
   "outputs": [],
   "source": []
  }
 ],
 "metadata": {
  "kernelspec": {
   "display_name": "Python 3 (ipykernel)",
   "language": "python",
   "name": "python3"
  },
  "language_info": {
   "codemirror_mode": {
    "name": "ipython",
    "version": 3
   },
   "file_extension": ".py",
   "mimetype": "text/x-python",
   "name": "python",
   "nbconvert_exporter": "python",
   "pygments_lexer": "ipython3",
   "version": "3.10.0"
  }
 },
 "nbformat": 4,
 "nbformat_minor": 5
}
