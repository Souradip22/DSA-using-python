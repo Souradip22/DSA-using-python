{
 "cells": [
  {
   "cell_type": "markdown",
   "id": "1c50939d",
   "metadata": {},
   "source": [
    "### Print 1 to N and N to 1 "
   ]
  },
  {
   "cell_type": "code",
   "execution_count": 1,
   "id": "8333ebe8",
   "metadata": {},
   "outputs": [
    {
     "name": "stdout",
     "output_type": "stream",
     "text": [
      "1\n",
      "2\n",
      "3\n",
      "4\n",
      "5\n"
     ]
    }
   ],
   "source": [
    "def print1ToN(n):\n",
    "    if n == 0:\n",
    "        return\n",
    "    print1ToN(n - 1)\n",
    "    print(n)\n",
    "\n",
    "print1ToN(5)"
   ]
  },
  {
   "cell_type": "code",
   "execution_count": 2,
   "id": "5617a049",
   "metadata": {},
   "outputs": [
    {
     "name": "stdout",
     "output_type": "stream",
     "text": [
      "6\n",
      "5\n",
      "4\n",
      "3\n",
      "2\n",
      "1\n"
     ]
    }
   ],
   "source": [
    "def printNto1(n):\n",
    "    if n == 0:\n",
    "        return \n",
    "    print(n)\n",
    "    printNto1(n - 1)\n",
    "    \n",
    "printNto1(6)\n"
   ]
  },
  {
   "cell_type": "markdown",
   "id": "d397ae3d",
   "metadata": {},
   "source": [
    "## Insert in sorted array"
   ]
  },
  {
   "cell_type": "code",
   "execution_count": 7,
   "id": "168a9f59",
   "metadata": {},
   "outputs": [
    {
     "name": "stdout",
     "output_type": "stream",
     "text": [
      "8\n",
      "[0, 1, 2, 5, 8]\n"
     ]
    }
   ],
   "source": [
    "def insertEl(arr, el):\n",
    "    # base condition, if arr is empty or the last element is lesser than the element to be inserted \n",
    "    if len(arr) == 0 or arr[-1] <= el:\n",
    "        arr.append(el)\n",
    "        return\n",
    "    \n",
    "    lastEl = arr.pop()\n",
    "    insertEl(arr, el)\n",
    "    \n",
    "    arr.append(lastEl)\n",
    "\n",
    "\n",
    "ARR = [0, 1, 5, 8]\n",
    "print(ARR[-1])\n",
    "insertEl(ARR, 2)\n",
    "print(ARR)\n",
    "    \n",
    "        \n",
    "    "
   ]
  },
  {
   "cell_type": "markdown",
   "id": "d7de5609",
   "metadata": {},
   "source": [
    "### Sort an Array"
   ]
  },
  {
   "cell_type": "code",
   "execution_count": 49,
   "id": "b55b9678",
   "metadata": {},
   "outputs": [
    {
     "name": "stdout",
     "output_type": "stream",
     "text": [
      "[2, 3, 4, 5, 6, 7, 9]\n"
     ]
    }
   ],
   "source": [
    "def sortArr(arr):\n",
    "    if len(arr) == 1:\n",
    "        return\n",
    "    \n",
    "    lastEl = arr.pop()\n",
    "    sortArr(arr)\n",
    "\n",
    "    insertEl(arr, lastEl)\n",
    "    \n",
    "ARR = [2, 3, 7, 6, 4, 5, 9]\n",
    "sortArr(ARR)\n",
    "print(ARR)"
   ]
  },
  {
   "cell_type": "code",
   "execution_count": 18,
   "id": "5bad4c43",
   "metadata": {},
   "outputs": [
    {
     "name": "stdout",
     "output_type": "stream",
     "text": [
      "[0, 1, 2, 3, 4, 5, 6, 7, 9]\n"
     ]
    }
   ],
   "source": [
    "def bubbleSort(arr, n):\n",
    "    \n",
    "    if n == 1:\n",
    "        return\n",
    "    \n",
    "    for i in range(0, n - 1):\n",
    "        if arr[i] > arr[i + 1]:\n",
    "            arr[i] , arr[i + 1] = arr[i + 1], arr[i]\n",
    "      \n",
    "    bubbleSort(arr, n - 1)\n",
    "\n",
    "    \n",
    "ARR = [2, 3, 7, 6, 1, 4, 5, 0, 9]\n",
    "bubbleSort(ARR, len(ARR))\n",
    "print(ARR)"
   ]
  },
  {
   "cell_type": "markdown",
   "id": "d193caec",
   "metadata": {},
   "source": [
    "### Print Factorial of a number"
   ]
  },
  {
   "cell_type": "code",
   "execution_count": 22,
   "id": "bfe0a54b",
   "metadata": {},
   "outputs": [
    {
     "name": "stdout",
     "output_type": "stream",
     "text": [
      "720\n"
     ]
    }
   ],
   "source": [
    "def fact(n):\n",
    "    if n == 0 or n == 1:\n",
    "        return 1\n",
    "    \n",
    "    smallerOutput = fact(n - 1)\n",
    "    return n * smallerOutput\n",
    "\n",
    "print(fact(6))"
   ]
  },
  {
   "cell_type": "markdown",
   "id": "1f92635d",
   "metadata": {},
   "source": [
    "### Sum of N numbers"
   ]
  },
  {
   "cell_type": "code",
   "execution_count": 23,
   "id": "9f827285",
   "metadata": {},
   "outputs": [
    {
     "name": "stdout",
     "output_type": "stream",
     "text": [
      "15\n"
     ]
    }
   ],
   "source": [
    "def sumN(n):\n",
    "    if n == 1:\n",
    "        return 1\n",
    "    return n + sumN(n-1)\n",
    "print(sumN(5))"
   ]
  },
  {
   "cell_type": "markdown",
   "id": "1b8c2a44",
   "metadata": {},
   "source": [
    "### Sum of digits"
   ]
  },
  {
   "cell_type": "code",
   "execution_count": 33,
   "id": "e2a662df",
   "metadata": {},
   "outputs": [
    {
     "name": "stdout",
     "output_type": "stream",
     "text": [
      "8\n"
     ]
    }
   ],
   "source": [
    "import math\n",
    "def sumDigit(num):\n",
    "    if num == 0:\n",
    "        return 0\n",
    "    \n",
    "    digits = int(math.log10(num) + 1)\n",
    "    \n",
    "    if digits == 1:\n",
    "        return num\n",
    "    rem = num % 10\n",
    "    return rem + sumDigit(num // 10)\n",
    "\n",
    "print(sumDigit(3140))"
   ]
  },
  {
   "cell_type": "markdown",
   "id": "fcd1aa8b",
   "metadata": {},
   "source": [
    "### Prod of digits\n"
   ]
  },
  {
   "cell_type": "code",
   "execution_count": 38,
   "id": "f78e6fa0",
   "metadata": {},
   "outputs": [
    {
     "name": "stdout",
     "output_type": "stream",
     "text": [
      "120\n"
     ]
    }
   ],
   "source": [
    "def prodDigits(num):\n",
    "    if num == 0:\n",
    "        return 0\n",
    "    \n",
    "    digits = int(math.log10(num) + 1)\n",
    "    if digits == 1:\n",
    "        return num\n",
    "    rem = num % 10\n",
    "    return rem * prodDigits(num // 10)\n",
    "\n",
    "print(prodDigits(1546))"
   ]
  },
  {
   "cell_type": "markdown",
   "id": "9cf8d57b",
   "metadata": {},
   "source": [
    "### Reverse a Number"
   ]
  },
  {
   "cell_type": "code",
   "execution_count": 45,
   "id": "98d2e6a7",
   "metadata": {},
   "outputs": [
    {
     "name": "stdout",
     "output_type": "stream",
     "text": [
      "21\n"
     ]
    }
   ],
   "source": [
    "def revNum(num):\n",
    "    if num == 0:\n",
    "        return 0\n",
    "    \n",
    "    digits = int(math.log10(num) + 1)\n",
    "    return int((num % 10) * math.pow(10, digits-1) + revNum(num // 10))\n",
    "\n",
    "print(revNum(12))\n",
    "    \n",
    "    "
   ]
  },
  {
   "cell_type": "markdown",
   "id": "d390e9e0",
   "metadata": {},
   "source": [
    "### Palindrome Number\n"
   ]
  },
  {
   "cell_type": "code",
   "execution_count": 48,
   "id": "b4ae0f16",
   "metadata": {},
   "outputs": [
    {
     "name": "stdout",
     "output_type": "stream",
     "text": [
      "True\n"
     ]
    }
   ],
   "source": [
    "def palindromeNum(num): \n",
    "    return revNum(num) == num\n",
    "\n",
    "print(palindromeNum(1234321))"
   ]
  },
  {
   "cell_type": "markdown",
   "id": "87013562",
   "metadata": {},
   "source": [
    "### Palindrome String"
   ]
  },
  {
   "cell_type": "code",
   "execution_count": 56,
   "id": "b82b32a9",
   "metadata": {},
   "outputs": [
    {
     "name": "stdout",
     "output_type": "stream",
     "text": [
      "True\n"
     ]
    }
   ],
   "source": [
    "def revString(s):\n",
    "    if len(s) == 1:\n",
    "        return s\n",
    "    return s[-1] + revString(s[:-1])\n",
    "\n",
    "def palindromeStr(s):\n",
    "    return revString(s) == s\n",
    "\n",
    "print(palindromeStr('malayalam'))"
   ]
  },
  {
   "cell_type": "markdown",
   "id": "30646699",
   "metadata": {},
   "source": [
    "### Count 0's\n"
   ]
  },
  {
   "cell_type": "code",
   "execution_count": 61,
   "id": "0717c072",
   "metadata": {},
   "outputs": [
    {
     "name": "stdout",
     "output_type": "stream",
     "text": [
      "4\n"
     ]
    }
   ],
   "source": [
    "def countZeros(num):\n",
    "    \n",
    "    return _helperCountZeroes(num, 0)\n",
    "\n",
    "def _helperCountZeroes(num, count):\n",
    "    if (num == 0):\n",
    "        return count\n",
    "    \n",
    "    if (num % 10) == 0:\n",
    "        count += 1\n",
    "        return _helperCountZeroes(num // 10, count)\n",
    "    else:\n",
    "        return _helperCountZeroes(num // 10, count)\n",
    "    \n",
    "print(countZeros(12340000))"
   ]
  },
  {
   "cell_type": "markdown",
   "id": "755d1126",
   "metadata": {},
   "source": [
    "### array sorted or not"
   ]
  },
  {
   "cell_type": "code",
   "execution_count": 82,
   "id": "10dcbecd",
   "metadata": {},
   "outputs": [
    {
     "name": "stdout",
     "output_type": "stream",
     "text": [
      "False\n"
     ]
    }
   ],
   "source": [
    "def isArrSorted(arr, i):\n",
    "    if len(arr)-1 == i:\n",
    "        return True\n",
    "\n",
    "    if (arr[i] <= arr[i+1]):\n",
    "        i += 1\n",
    "        return isArrSorted(arr, i)\n",
    "    \n",
    "    return False\n",
    "\n",
    "print(isArrSorted([1,2,3,4,6,7,7,8, 0], 0))"
   ]
  },
  {
   "cell_type": "markdown",
   "id": "3eb0578d",
   "metadata": {},
   "source": [
    "### Linear Search"
   ]
  },
  {
   "cell_type": "code",
   "execution_count": 92,
   "id": "fe3b5309",
   "metadata": {},
   "outputs": [
    {
     "name": "stdout",
     "output_type": "stream",
     "text": [
      "1\n"
     ]
    }
   ],
   "source": [
    "def linearSearch(arr, i, target):\n",
    "    if i == len(arr):\n",
    "        return -1\n",
    "    \n",
    "    n = arr[i]\n",
    "    \n",
    "    if (n == target):\n",
    "        return i\n",
    "    \n",
    "    i += 1\n",
    "    return linearSearch(arr, i, target)\n",
    "\n",
    "print(linearSearch([1,4, 67,2, 1,7], 0, 4))"
   ]
  },
  {
   "cell_type": "markdown",
   "id": "6014ee02",
   "metadata": {},
   "source": [
    "### First Index\n"
   ]
  },
  {
   "cell_type": "markdown",
   "id": "64e4672d",
   "metadata": {},
   "source": [
    "### Find Last Index"
   ]
  },
  {
   "cell_type": "code",
   "execution_count": 96,
   "id": "6ae5c879",
   "metadata": {},
   "outputs": [
    {
     "name": "stdout",
     "output_type": "stream",
     "text": [
      "4\n"
     ]
    }
   ],
   "source": [
    "def findLastIndex(arr, i, target):\n",
    "    \n",
    "    if i < 0:\n",
    "        return -1\n",
    "    \n",
    "    n = arr[i]\n",
    "    \n",
    "    if n == target:\n",
    "        return i\n",
    "    \n",
    "    i -= 1\n",
    "    return findLastIndex(arr, i, target)\n",
    "\n",
    "print(findLastIndex([1,4, 67,2, 1,7], 5, 1))"
   ]
  },
  {
   "cell_type": "markdown",
   "id": "8469e897",
   "metadata": {},
   "source": [
    "### Find All"
   ]
  },
  {
   "cell_type": "code",
   "execution_count": 124,
   "id": "efde8b2e",
   "metadata": {},
   "outputs": [
    {
     "name": "stdout",
     "output_type": "stream",
     "text": [
      "[3, 4, 5]\n"
     ]
    }
   ],
   "source": [
    "def findAll(arr, target, index):\n",
    "    ans = []\n",
    "\n",
    "    if index > len(arr)-1:\n",
    "        return ans\n",
    "    \n",
    "    if arr[index] == target:\n",
    "        ans.append(index)\n",
    "\n",
    "    index += 1\n",
    "    smallerOutput = findBoth(arr, target, index)\n",
    "    ans.extend(smallerOutput)\n",
    "    return ans\n",
    "    \n",
    "print(findBoth([1,2,3,4,4, 4, 8], 4, 0))"
   ]
  },
  {
   "cell_type": "markdown",
   "id": "3e9b575c",
   "metadata": {},
   "source": [
    "### Binary Search (Recursion)"
   ]
  },
  {
   "cell_type": "code",
   "execution_count": 128,
   "id": "afa2c5d1",
   "metadata": {},
   "outputs": [
    {
     "name": "stdout",
     "output_type": "stream",
     "text": [
      "[1, 2, 3, 4, 5]\n",
      "[3, 4, 5]\n",
      "1\n"
     ]
    }
   ],
   "source": [
    "def binarySearch(arr, target):\n",
    "    print(arr)\n",
    "    if len(arr) <= 0:\n",
    "        return -1\n",
    "    \n",
    "    mid = len(arr) // 2\n",
    "    if arr[mid] == target:\n",
    "        return mid\n",
    "    \n",
    "    if arr[mid] < target:\n",
    "        return binarySearch(arr[mid:], target)\n",
    "    else:\n",
    "        return binarySearch(arr[:mid], target)\n",
    "    \n",
    "print(binarySearch([1,2,3,4,5], 4))"
   ]
  },
  {
   "cell_type": "code",
   "execution_count": 132,
   "id": "1d150602",
   "metadata": {},
   "outputs": [
    {
     "name": "stdout",
     "output_type": "stream",
     "text": [
      "4\n"
     ]
    }
   ],
   "source": [
    "def binarySearch2(arr, target):\n",
    "    si = 0\n",
    "    ei = len(arr) - 1\n",
    "    \n",
    "    return _helperBinarySearch(arr, target, si, ei)\n",
    "\n",
    "def _helperBinarySearch(arr, target, si, ei):\n",
    "    if si > ei:\n",
    "        return -1\n",
    "    \n",
    "    \n",
    "    mid = (si + ei) // 2\n",
    "    \n",
    "    if arr[mid] == target:\n",
    "        return mid\n",
    "    \n",
    "    if arr[mid] < target:\n",
    "        return _helperBinarySearch(arr, target, mid + 1 , ei)\n",
    "    else:\n",
    "        return _helperBinarySearch(arr, target, si, mid)\n",
    "    \n",
    "print(binarySearch2([1,2,3,4,5], 5))\n",
    "    "
   ]
  },
  {
   "cell_type": "code",
   "execution_count": 146,
   "id": "8ca238fc",
   "metadata": {},
   "outputs": [
    {
     "name": "stdout",
     "output_type": "stream",
     "text": [
      "0\n"
     ]
    }
   ],
   "source": [
    "def rotatedBinarySearch(arr, target):\n",
    "    si = 0\n",
    "    ei = len(arr) - 1\n",
    "    \n",
    "    return _helperRotatedSearch(arr, target, si, ei)\n",
    "\n",
    "def _helperRotatedSearch(arr, target, si, ei):\n",
    "    if si > ei:\n",
    "        return -1\n",
    "    \n",
    "    mid = (si + ei) // 2\n",
    "    if arr[mid] == target:\n",
    "        return mid\n",
    "    if arr[si] <= arr[mid]:\n",
    "        if target >= arr[si] and target <= arr[mid]:\n",
    "            return _helperRotatedSearch(arr, target, si, mid - 1)\n",
    "        return _helperRotatedSearch(arr, target, mid + 1, ei)\n",
    "        \n",
    "    return _helperRotatedSearch(arr, target, si + 1, ei)\n",
    "#     return _helperRotatedSearch(arr, target, si , ei - 1)\n",
    "\n",
    "print(rotatedBinarySearch([4,5,6,1,2,3], 4))"
   ]
  },
  {
   "cell_type": "markdown",
   "id": "5b600a1e",
   "metadata": {},
   "source": [
    "### Pattern 1 using recursion\n"
   ]
  },
  {
   "cell_type": "code",
   "execution_count": 148,
   "id": "c2c5e6b1",
   "metadata": {},
   "outputs": [
    {
     "name": "stdout",
     "output_type": "stream",
     "text": [
      "* * * \n",
      "* * \n",
      "* \n"
     ]
    }
   ],
   "source": [
    "def pattern1(r, c):\n",
    "    if r == 0:\n",
    "        return\n",
    "    \n",
    "    \n",
    "    if r > c:\n",
    "        print('*', end = \" \")\n",
    "        pattern1(r, c + 1)\n",
    "    else:\n",
    "        print()\n",
    "        pattern1(r-1, 0)\n",
    "        \n",
    "pattern1(3, 0)"
   ]
  },
  {
   "cell_type": "code",
   "execution_count": 157,
   "id": "a97f3ce2",
   "metadata": {},
   "outputs": [
    {
     "name": "stdout",
     "output_type": "stream",
     "text": [
      "\n",
      "* \n",
      "* * \n",
      "* * * "
     ]
    }
   ],
   "source": [
    "def pattern2(r, c):\n",
    "    if r == 0:\n",
    "        return\n",
    "    \n",
    "    \n",
    "    if c < r:\n",
    "        pattern2(r, c + 1)\n",
    "        print('*', end = \" \")\n",
    "        \n",
    "    else:\n",
    "        pattern2(r-1, 0)\n",
    "        print()\n",
    "        \n",
    "        \n",
    "pattern2(3, 0)"
   ]
  },
  {
   "cell_type": "markdown",
   "id": "6b1a9301",
   "metadata": {},
   "source": [
    "### Bubble sort"
   ]
  },
  {
   "cell_type": "code",
   "execution_count": 194,
   "id": "1a9a66bb",
   "metadata": {},
   "outputs": [
    {
     "name": "stdout",
     "output_type": "stream",
     "text": [
      "[0, 1, 2, 3, 8, 9]\n"
     ]
    }
   ],
   "source": [
    "def bubbleSortRec(arr, n):\n",
    "    \n",
    "    if n == 0:\n",
    "        return\n",
    "    \n",
    "    for i in range(0, n):\n",
    "        if arr[i] > arr[i+1]:\n",
    "            arr[i], arr[i+1] = arr[i+1], arr[i]\n",
    "    \n",
    "    bubbleSortRec(arr, n - 1)\n",
    "    \n",
    "ARR2 = [2,9,3,8,1,0]\n",
    "\n",
    "bubbleSortRec(ARR2, len(ARR2)-1)\n",
    "print(ARR2)\n",
    "    "
   ]
  },
  {
   "cell_type": "markdown",
   "id": "aa3648c9",
   "metadata": {},
   "source": [
    "### Selection Sort"
   ]
  },
  {
   "cell_type": "code",
   "execution_count": 175,
   "id": "86f7928c",
   "metadata": {},
   "outputs": [
    {
     "name": "stdout",
     "output_type": "stream",
     "text": [
      "[0, 1, 2, 4, 5, 8]\n"
     ]
    }
   ],
   "source": [
    "def getMaxIndex(arr, start, end, max_index):\n",
    "    if start > end:\n",
    "        return max_index\n",
    "    \n",
    "    if arr[start] > arr[max_index]:\n",
    "        max_index = start\n",
    "        start += 1\n",
    "        return getMaxIndex(arr, start, end, max_index)\n",
    "    else:\n",
    "        start += 1\n",
    "        return getMaxIndex(arr, start, end, max_index)\n",
    "        \n",
    "\n",
    "    \n",
    "def selectionSortRec(arr, n):\n",
    " \n",
    "    if n == 0:\n",
    "        return\n",
    "    # n will be len(arr) - i\n",
    "    max_i = getMaxIndex(arr, 0, n, 0)\n",
    "\n",
    "    arr[max_i], arr[n] = arr[n], arr[max_i]\n",
    "    \n",
    "    selectionSortRec(arr, n - 1)\n",
    "\n",
    "ARR3 = [1,2,8,4,0,5]\n",
    "selectionSortRec(ARR3, len(ARR3)-1)\n",
    "print(ARR3)\n",
    "    \n",
    "    "
   ]
  },
  {
   "cell_type": "markdown",
   "id": "2962bf3e",
   "metadata": {},
   "source": [
    "### Insertion Sort"
   ]
  },
  {
   "cell_type": "code",
   "execution_count": 191,
   "id": "1dfec494",
   "metadata": {},
   "outputs": [
    {
     "name": "stdout",
     "output_type": "stream",
     "text": [
      "[0, 1, 2, 3, 8, 9]\n"
     ]
    }
   ],
   "source": [
    "def insertionSort(arr, n):\n",
    "    \n",
    "    for i in range(0, n):\n",
    "        for j in range(i+1, 0, -1):\n",
    "            if arr[j] < arr[j-1]:\n",
    "                arr[j], arr[j-1] = arr[j-1], arr[j]\n",
    "            else:\n",
    "                break\n",
    "ARR4 =  [1,2,8,4,0,5]\n",
    "# insertionSort(ARR4, len(ARR4)-1)\n",
    "# print(ARR4)\n",
    "\n",
    "\n",
    "def insertionSortRec(arr, n):\n",
    "    \n",
    "    if n == len(arr) -1:\n",
    "        return\n",
    "    \n",
    "    for j in range(n+1, 0, -1):\n",
    "        if arr[j] < arr[j-1]:\n",
    "            arr[j], arr[j-1] = arr[j-1], arr[j]\n",
    "        else:\n",
    "            break\n",
    "    \n",
    "    insertionSortRec(arr, n + 1)\n",
    "    \n",
    "ARR2 = [2,9,3,8,1,0]\n",
    "\n",
    "insertionSortRec(ARR2, 0)\n",
    "print(ARR2)"
   ]
  },
  {
   "cell_type": "markdown",
   "id": "8c4ea340",
   "metadata": {},
   "source": [
    "### Merge Sort"
   ]
  },
  {
   "cell_type": "code",
   "execution_count": 202,
   "id": "63d53374",
   "metadata": {},
   "outputs": [
    {
     "name": "stdout",
     "output_type": "stream",
     "text": [
      "[0, 1, 2, 3, 8, 9]\n"
     ]
    }
   ],
   "source": [
    "def mergeList(arr, left, right):\n",
    "    i = 0\n",
    "    j = 0\n",
    "    k = 0\n",
    "    \n",
    "    while i < len(left) and j < len(right):\n",
    "        if left[i] < right[j]:\n",
    "            arr[k] = left[i]\n",
    "            i += 1\n",
    "        else:\n",
    "            arr[k] = right[j]\n",
    "            j += 1\n",
    "        k += 1\n",
    "     \n",
    "    while i < len(left):\n",
    "        arr[k] = left[i]\n",
    "        i += 1\n",
    "        k += 1\n",
    "     \n",
    "    while j < len(right):\n",
    "        arr[k] = right[j]\n",
    "        j += 1\n",
    "        k += 1\n",
    "        \n",
    "\n",
    "def mergeSort(arr):\n",
    "    if len(arr) == 1:\n",
    "        return arr\n",
    "    \n",
    "    mid = len(arr) // 2\n",
    "    \n",
    "    left = arr[:mid]\n",
    "    right = arr[mid:]\n",
    "    \n",
    "    mergeSort(left)\n",
    "    mergeSort(right)\n",
    "\n",
    "    mergeList(arr, left, right)\n",
    "\n",
    "    \n",
    "ARR0 = [2,9,3,8,1,0]\n",
    "mergeSort(ARR0)\n",
    "print(ARR0)"
   ]
  },
  {
   "cell_type": "markdown",
   "id": "e41595aa",
   "metadata": {},
   "source": [
    "### Quick Sort\n"
   ]
  },
  {
   "cell_type": "code",
   "execution_count": null,
   "id": "9d6b5cdb",
   "metadata": {},
   "outputs": [],
   "source": []
  },
  {
   "cell_type": "markdown",
   "id": "b766f2fe",
   "metadata": {},
   "source": [
    "### Remove all Occurance of a's\n"
   ]
  },
  {
   "cell_type": "code",
   "execution_count": 203,
   "id": "b0e279b7",
   "metadata": {},
   "outputs": [
    {
     "name": "stdout",
     "output_type": "stream",
     "text": [
      "bcbb\n"
     ]
    }
   ],
   "source": [
    "def removeA(p, up):\n",
    "    if len(up) == 0:\n",
    "        return p\n",
    "    \n",
    "    ch = up[0]\n",
    "    \n",
    "    if ch == 'a':\n",
    "        return removeA(p, up[1:])\n",
    "    else:\n",
    "        return removeA(p + ch, up[1:])\n",
    "\n",
    "print(removeA('', 'abcbba'))"
   ]
  },
  {
   "cell_type": "markdown",
   "id": "82364305",
   "metadata": {},
   "source": [
    "### Skip an entire string\n"
   ]
  },
  {
   "cell_type": "code",
   "execution_count": 212,
   "id": "e15fafbc",
   "metadata": {},
   "outputs": [
    {
     "name": "stdout",
     "output_type": "stream",
     "text": [
      "uio\n"
     ]
    }
   ],
   "source": [
    "def skipApple(p, up):\n",
    "    \n",
    "    if len(up) == 0:\n",
    "        return p\n",
    "    \n",
    "    word = up[:5]\n",
    "    if word == 'apple':\n",
    "        return skipApple(p, up[5:])\n",
    "    else:\n",
    "        return skipApple(p+up[0], up[1:])\n",
    "    \n",
    "print(skipApple('', 'appleuio'))\n",
    "        "
   ]
  },
  {
   "cell_type": "markdown",
   "id": "9b2cacd3",
   "metadata": {},
   "source": [
    "### subseq\n"
   ]
  },
  {
   "cell_type": "code",
   "execution_count": 217,
   "id": "340fca13",
   "metadata": {},
   "outputs": [
    {
     "name": "stdout",
     "output_type": "stream",
     "text": [
      "abc\n",
      "ab\n",
      "ac\n",
      "a\n",
      "bc\n",
      "b\n",
      "c\n",
      "\n"
     ]
    }
   ],
   "source": [
    "def subseq(p, up):\n",
    "    if len(up) == 0:\n",
    "        print(p)\n",
    "        return\n",
    "\n",
    "    \n",
    "    ch = up[0]\n",
    "    subseq(p + ch, up[1:])\n",
    "    subseq(p, up[1:])\n",
    "\n",
    "    \n",
    "subseq('', 'abc')"
   ]
  },
  {
   "cell_type": "code",
   "execution_count": 235,
   "id": "ece80cf1",
   "metadata": {},
   "outputs": [
    {
     "data": {
      "text/plain": [
       "['abc', 'ab', 'ac', 'a', 'bc', 'b', 'c', '']"
      ]
     },
     "execution_count": 235,
     "metadata": {},
     "output_type": "execute_result"
    }
   ],
   "source": [
    "def subseq2(p, up, ans):\n",
    "    if len(up) == 0:\n",
    "        ans.append(p)\n",
    "        return ans\n",
    "\n",
    "    \n",
    "    ch = up[0]\n",
    "    subseq2(p + ch, up[1:], ans)\n",
    "    subseq2(p, up[1:], ans)\n",
    "    return ans\n",
    "    \n",
    "\n",
    "subseq2('', 'abc', [])\n"
   ]
  },
  {
   "cell_type": "code",
   "execution_count": 223,
   "id": "8ab89ab6",
   "metadata": {},
   "outputs": [
    {
     "data": {
      "text/plain": [
       "['abc', 'ab', 'ac', 'a', 'bc', 'b', 'c', '']"
      ]
     },
     "execution_count": 223,
     "metadata": {},
     "output_type": "execute_result"
    }
   ],
   "source": [
    "def subseqFINAL(p, up):\n",
    "    \n",
    "    ans = []\n",
    "    \n",
    "    if len(up) == 0:\n",
    "        ans.append(p)\n",
    "        return ans\n",
    "\n",
    "    \n",
    "    ch = up[0]\n",
    "    op1 = subseqFINAL(p + ch, up[1:] )\n",
    "    op2 = subseqFINAL(p, up[1:])\n",
    "    \n",
    "    ans.extend(op1)\n",
    "    ans.extend(op2)\n",
    "    return ans\n",
    "\n",
    "\n",
    "subseqFINAL('', 'abc')"
   ]
  },
  {
   "cell_type": "code",
   "execution_count": 230,
   "id": "58fe013c",
   "metadata": {},
   "outputs": [
    {
     "name": "stdout",
     "output_type": "stream",
     "text": [
      "cba\n",
      "bca\n",
      "bac\n",
      "cab\n",
      "acb\n",
      "abc\n"
     ]
    }
   ],
   "source": [
    "def permutation(p, up):\n",
    "    \n",
    "    if len(up) == 0:\n",
    "        print(p)\n",
    "        return \n",
    "    \n",
    "    ch = up[0]\n",
    "\n",
    "    # no of recursion called is depend on the processed length\n",
    "    for i in range(0, len(p)+1):\n",
    "        f = p[0:i]\n",
    "        s = p[i:]\n",
    "        permutation(f+ch+s, up[1:])\n",
    "        \n",
    "permutation('', 'abc')"
   ]
  },
  {
   "cell_type": "code",
   "execution_count": 232,
   "id": "9bf3c77c",
   "metadata": {},
   "outputs": [
    {
     "data": {
      "text/plain": [
       "['cba', 'bca', 'bac', 'cab', 'acb', 'abc']"
      ]
     },
     "execution_count": 232,
     "metadata": {},
     "output_type": "execute_result"
    }
   ],
   "source": [
    "def permutation2(p, up):\n",
    "    ans = []\n",
    "    if len(up) == 0:\n",
    "        ans.append(p)\n",
    "        return ans\n",
    "    \n",
    "    ch = up[0]\n",
    "\n",
    "    # no of recursion called is depend on the processed length\n",
    "    for i in range(0, len(p)+1):\n",
    "        f = p[0:i]\n",
    "        s = p[i:]\n",
    "        small = permutation2(f+ch+s, up[1:])\n",
    "        ans.extend(small)\n",
    "        \n",
    "    return ans\n",
    "permutation2('', 'abc')"
   ]
  },
  {
   "cell_type": "code",
   "execution_count": 236,
   "id": "c6186439",
   "metadata": {},
   "outputs": [
    {
     "data": {
      "text/plain": [
       "6"
      ]
     },
     "execution_count": 236,
     "metadata": {},
     "output_type": "execute_result"
    }
   ],
   "source": [
    "def returnCount(p, up):\n",
    "    count = 0\n",
    "    if len(up) == 0:\n",
    "        return 1\n",
    "    \n",
    "    ch = up[0]\n",
    "\n",
    "    # no of recursion called is depend on the processed length\n",
    "    for i in range(0, len(p)+1):\n",
    "        f = p[0:i]\n",
    "        s = p[i:]\n",
    "        count = count + returnCount(f+ch+s, up[1:])\n",
    "        \n",
    "    return count\n",
    "returnCount('', 'abc')"
   ]
  },
  {
   "cell_type": "code",
   "execution_count": 243,
   "id": "0b398af2",
   "metadata": {},
   "outputs": [
    {
     "data": {
      "text/plain": [
       "'b'"
      ]
     },
     "execution_count": 243,
     "metadata": {},
     "output_type": "execute_result"
    }
   ],
   "source": [
    "chr(ord('a') + 1)"
   ]
  },
  {
   "cell_type": "code",
   "execution_count": 244,
   "id": "e6a7db4c",
   "metadata": {},
   "outputs": [
    {
     "data": {
      "text/plain": [
       "2"
      ]
     },
     "execution_count": 244,
     "metadata": {},
     "output_type": "execute_result"
    }
   ],
   "source": [
    "int('2')"
   ]
  },
  {
   "cell_type": "code",
   "execution_count": 247,
   "id": "4b56862c",
   "metadata": {},
   "outputs": [
    {
     "name": "stdout",
     "output_type": "stream",
     "text": [
      "ad\n",
      "ae\n",
      "af\n",
      "bd\n",
      "be\n",
      "bf\n",
      "cd\n",
      "ce\n",
      "cf\n"
     ]
    }
   ],
   "source": [
    "def dialPad(p, up):\n",
    "    if len(up) == 0:\n",
    "        print(p)\n",
    "        return\n",
    "    #'12' consider '1' --> 1\n",
    "    digit = int(up[0])\n",
    "    \n",
    "    for i in range((digit - 1) * 3, digit * 3):\n",
    "        ch = chr(ord('a') + i)\n",
    "        dialPad(p + ch, up[1:])\n",
    "        \n",
    "dialPad('', '12')\n",
    "        "
   ]
  },
  {
   "cell_type": "code",
   "execution_count": 248,
   "id": "c038b4c5",
   "metadata": {},
   "outputs": [
    {
     "data": {
      "text/plain": [
       "['ad', 'ae', 'af', 'bd', 'be', 'bf', 'cd', 'ce', 'cf']"
      ]
     },
     "execution_count": 248,
     "metadata": {},
     "output_type": "execute_result"
    }
   ],
   "source": [
    "def dialPad2(p, up):\n",
    "    ans = []\n",
    "    if len(up) == 0:\n",
    "        ans.append(p)\n",
    "        return ans\n",
    "    #'12' consider '1' --> 1\n",
    "    digit = int(up[0])\n",
    "    \n",
    "    for i in range((digit - 1) * 3, digit * 3):\n",
    "        ch = chr(ord('a') + i)\n",
    "        smallOutput = dialPad2(p + ch, up[1:])\n",
    "        ans.extend(smallOutput)\n",
    "        \n",
    "    return ans\n",
    "        \n",
    "dialPad2('', '12')"
   ]
  },
  {
   "cell_type": "code",
   "execution_count": 254,
   "id": "2d939083",
   "metadata": {},
   "outputs": [
    {
     "data": {
      "text/plain": [
       "['dd', 'de', 'df', 'ed', 'ee', 'ef', 'fd', 'fe', 'ff']"
      ]
     },
     "execution_count": 254,
     "metadata": {},
     "output_type": "execute_result"
    }
   ],
   "source": [
    "\n",
    "# 2 to 9\n",
    "\n",
    "def dialPadFINAL(p, up):\n",
    "    phones =[\"\", \"\", \"abc\", \"def\", \"ghi\", \"jkl\", \"mno\", \"pqrs\", \"tuv\", \"wxyz\"]\n",
    "    ans = []\n",
    "    if len(up) == 0:\n",
    "        ans.append(p)\n",
    "        return ans\n",
    "    #'23' consider '2' --> 2\n",
    "    digit = int(up[0])\n",
    "    s = phones[digit]\n",
    "    \n",
    "    for i in range(0, len(s)):\n",
    "        ch = s[i]\n",
    "        smallOutput = dialPadFINAL(p + ch, up[1:])\n",
    "        ans.extend(smallOutput)\n",
    "        \n",
    "    return ans\n",
    "        \n",
    "dialPadFINAL('', '')"
   ]
  },
  {
   "cell_type": "code",
   "execution_count": 255,
   "id": "d59c0e2c",
   "metadata": {},
   "outputs": [
    {
     "data": {
      "text/plain": [
       "'123'"
      ]
     },
     "execution_count": 255,
     "metadata": {},
     "output_type": "execute_result"
    }
   ],
   "source": [
    "str(123)"
   ]
  },
  {
   "cell_type": "code",
   "execution_count": 297,
   "id": "bf4e32f1",
   "metadata": {},
   "outputs": [
    {
     "name": "stdout",
     "output_type": "stream",
     "text": [
      "1111\n",
      "112\n",
      "121\n",
      "13\n",
      "211\n",
      "22\n",
      "31\n",
      "4\n"
     ]
    }
   ],
   "source": [
    "def diceThrown(p, up):\n",
    "    if up == 0:\n",
    "        print(p)\n",
    "        return \n",
    "    # 1 to 6 total\n",
    "    for i in range(1, 7):\n",
    "        if i <= up:\n",
    "            diceThrown(p + str(i), up - i)\n",
    "        \n",
    "diceThrown('',4)    \n"
   ]
  },
  {
   "cell_type": "code",
   "execution_count": 301,
   "id": "4aa71eef",
   "metadata": {},
   "outputs": [
    {
     "data": {
      "text/plain": [
       "['1111', '112', '121', '13', '211', '22', '31', '4']"
      ]
     },
     "execution_count": 301,
     "metadata": {},
     "output_type": "execute_result"
    }
   ],
   "source": [
    "def diceThrown2(p, up):\n",
    "    ans = []\n",
    "    if up == 0:\n",
    "        ans.append(p)\n",
    "        return ans\n",
    "    # 1 to 6 total\n",
    "    for i in range(1, 7):\n",
    "        if i <= up:\n",
    "            op = diceThrown2(p + str(i), up - i)\n",
    "            ans.extend(op)\n",
    "    return ans\n",
    "\n",
    "        \n",
    "diceThrown2('',4)  "
   ]
  },
  {
   "cell_type": "code",
   "execution_count": 303,
   "id": "e0e3b587",
   "metadata": {},
   "outputs": [
    {
     "data": {
      "text/plain": [
       "['11111111',\n",
       " '1111112',\n",
       " '1111121',\n",
       " '111113',\n",
       " '1111211',\n",
       " '111122',\n",
       " '111131',\n",
       " '11114',\n",
       " '1112111',\n",
       " '111212',\n",
       " '111221',\n",
       " '11123',\n",
       " '111311',\n",
       " '11132',\n",
       " '11141',\n",
       " '1115',\n",
       " '1121111',\n",
       " '112112',\n",
       " '112121',\n",
       " '11213',\n",
       " '112211',\n",
       " '11222',\n",
       " '11231',\n",
       " '1124',\n",
       " '113111',\n",
       " '11312',\n",
       " '11321',\n",
       " '1133',\n",
       " '11411',\n",
       " '1142',\n",
       " '1151',\n",
       " '116',\n",
       " '1211111',\n",
       " '121112',\n",
       " '121121',\n",
       " '12113',\n",
       " '121211',\n",
       " '12122',\n",
       " '12131',\n",
       " '1214',\n",
       " '122111',\n",
       " '12212',\n",
       " '12221',\n",
       " '1223',\n",
       " '12311',\n",
       " '1232',\n",
       " '1241',\n",
       " '125',\n",
       " '131111',\n",
       " '13112',\n",
       " '13121',\n",
       " '1313',\n",
       " '13211',\n",
       " '1322',\n",
       " '1331',\n",
       " '134',\n",
       " '14111',\n",
       " '1412',\n",
       " '1421',\n",
       " '143',\n",
       " '1511',\n",
       " '152',\n",
       " '161',\n",
       " '17',\n",
       " '2111111',\n",
       " '211112',\n",
       " '211121',\n",
       " '21113',\n",
       " '211211',\n",
       " '21122',\n",
       " '21131',\n",
       " '2114',\n",
       " '212111',\n",
       " '21212',\n",
       " '21221',\n",
       " '2123',\n",
       " '21311',\n",
       " '2132',\n",
       " '2141',\n",
       " '215',\n",
       " '221111',\n",
       " '22112',\n",
       " '22121',\n",
       " '2213',\n",
       " '22211',\n",
       " '2222',\n",
       " '2231',\n",
       " '224',\n",
       " '23111',\n",
       " '2312',\n",
       " '2321',\n",
       " '233',\n",
       " '2411',\n",
       " '242',\n",
       " '251',\n",
       " '26',\n",
       " '311111',\n",
       " '31112',\n",
       " '31121',\n",
       " '3113',\n",
       " '31211',\n",
       " '3122',\n",
       " '3131',\n",
       " '314',\n",
       " '32111',\n",
       " '3212',\n",
       " '3221',\n",
       " '323',\n",
       " '3311',\n",
       " '332',\n",
       " '341',\n",
       " '35',\n",
       " '41111',\n",
       " '4112',\n",
       " '4121',\n",
       " '413',\n",
       " '4211',\n",
       " '422',\n",
       " '431',\n",
       " '44',\n",
       " '5111',\n",
       " '512',\n",
       " '521',\n",
       " '53',\n",
       " '611',\n",
       " '62',\n",
       " '71',\n",
       " '8']"
      ]
     },
     "execution_count": 303,
     "metadata": {},
     "output_type": "execute_result"
    }
   ],
   "source": [
    "def diceThrownFace(p, up, face):\n",
    "    ans = []\n",
    "    if up == 0:\n",
    "        ans.append(p)\n",
    "        return ans\n",
    "    \n",
    "    for i in range(1, face+1):\n",
    "        if i <= up:\n",
    "            op = diceThrownFace(p + str(i), up - i, face)\n",
    "            ans.extend(op)\n",
    "    return ans\n",
    "\n",
    "        \n",
    "diceThrownFace('',8, 8)"
   ]
  },
  {
   "cell_type": "code",
   "execution_count": null,
   "id": "7404b9df",
   "metadata": {},
   "outputs": [],
   "source": []
  }
 ],
 "metadata": {
  "kernelspec": {
   "display_name": "Python 3 (ipykernel)",
   "language": "python",
   "name": "python3"
  },
  "language_info": {
   "codemirror_mode": {
    "name": "ipython",
    "version": 3
   },
   "file_extension": ".py",
   "mimetype": "text/x-python",
   "name": "python",
   "nbconvert_exporter": "python",
   "pygments_lexer": "ipython3",
   "version": "3.10.0"
  }
 },
 "nbformat": 4,
 "nbformat_minor": 5
}
