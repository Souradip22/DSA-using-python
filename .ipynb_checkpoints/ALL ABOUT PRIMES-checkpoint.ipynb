{
 "cells": [
  {
   "cell_type": "code",
   "execution_count": 42,
   "id": "09589df6",
   "metadata": {},
   "outputs": [
    {
     "name": "stdout",
     "output_type": "stream",
     "text": [
      "664579\n"
     ]
    }
   ],
   "source": [
    "l=[1 for i in range(1000001)]\n",
    "for j in range(2,1000001):\n",
    "    if l[j]==1:\n",
    "        for k in range(j*j,1000001,j):\n",
    "            l[k]=0\n",
    "p=[]\n",
    "for i in range(2,1000001):\n",
    "    if l[i]==1:\n",
    "        p.append(i)\n",
    "t=int(input())\n",
    "while(t):\n",
    "    t=t-1\n",
    "    n=int(input())\n",
    "    print(p[n-1])\n"
   ]
  },
  {
   "cell_type": "code",
   "execution_count": null,
   "id": "42f56839",
   "metadata": {},
   "outputs": [],
   "source": []
  }
 ],
 "metadata": {
  "kernelspec": {
   "display_name": "Python 3 (ipykernel)",
   "language": "python",
   "name": "python3"
  },
  "language_info": {
   "codemirror_mode": {
    "name": "ipython",
    "version": 3
   },
   "file_extension": ".py",
   "mimetype": "text/x-python",
   "name": "python",
   "nbconvert_exporter": "python",
   "pygments_lexer": "ipython3",
   "version": "3.10.0"
  }
 },
 "nbformat": 4,
 "nbformat_minor": 5
}
