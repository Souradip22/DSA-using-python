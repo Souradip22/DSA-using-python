{
 "cells": [
  {
   "cell_type": "markdown",
   "id": "d3715eda",
   "metadata": {},
   "source": [
    "Happy Number\n",
    "\n",
    "    Input: n = 19\n",
    "    Output: true\n",
    "    Explanation:\n",
    "    12 + 92 = 82\n",
    "    82 + 22 = 68\n",
    "    62 + 82 = 100\n",
    "    12 + 02 + 02 = 1"
   ]
  },
  {
   "cell_type": "code",
   "execution_count": 9,
   "id": "d6df4408",
   "metadata": {},
   "outputs": [
    {
     "name": "stdout",
     "output_type": "stream",
     "text": [
      "True\n",
      "False\n"
     ]
    }
   ],
   "source": [
    "def findDigitSquare(num):\n",
    "    lsum = 0\n",
    "    while num:\n",
    "        \n",
    "        rem = num % 10\n",
    "        lsum += rem * rem\n",
    "        num = num //10\n",
    "    return lsum\n",
    "\n",
    "        \n",
    "def isHappyNumber(n):\n",
    "    hashMap = {}\n",
    "    \n",
    "    while n:\n",
    "        num = n\n",
    "        lsum = findDigitSquare(num)\n",
    "        \n",
    "        if lsum == 1:\n",
    "            return True\n",
    "        \n",
    "        if lsum in hashMap:\n",
    "            return False\n",
    "        else:\n",
    "            hashMap[lsum] = True\n",
    "        \n",
    "        n = lsum\n",
    "    return False\n",
    "\n",
    "\n",
    "print(isHappyNumber(19))\n",
    "print(isHappyNumber(2))\n",
    "    \n"
   ]
  },
  {
   "cell_type": "markdown",
   "id": "8f25f0ee",
   "metadata": {},
   "source": [
    "Power of Two\n",
    "\n",
    "    Input: n = 16\n",
    "    Output: true\n",
    "    Explanation: 24 = 16"
   ]
  },
  {
   "cell_type": "code",
   "execution_count": 27,
   "id": "f4766b73",
   "metadata": {},
   "outputs": [
    {
     "name": "stdout",
     "output_type": "stream",
     "text": [
      "False\n"
     ]
    }
   ],
   "source": [
    "       \n",
    "def isPowerOfTwo(n):\n",
    "\n",
    "    for i in range(n//2 + 1):\n",
    "        p = pow(2,i)\n",
    "        if p == n:\n",
    "            return True\n",
    "        if p > n:\n",
    "            return False\n",
    "    return False\n",
    "        \n",
    "print(isPowerOfTwo(3))\n",
    "    "
   ]
  },
  {
   "cell_type": "markdown",
   "id": "dd198413",
   "metadata": {},
   "source": [
    "Valid Anagram\n",
    "\n",
    "    Input: s = \"anagram\", t = \"nagaram\"\n",
    "    Output: true"
   ]
  },
  {
   "cell_type": "code",
   "execution_count": 40,
   "id": "e40bf01b",
   "metadata": {},
   "outputs": [
    {
     "name": "stdout",
     "output_type": "stream",
     "text": [
      "False\n"
     ]
    }
   ],
   "source": [
    "def isAnagram(s, t):\n",
    "    hashMap = {}\n",
    "    for i in s:\n",
    "        uniVal = ord(i)\n",
    "        if 65 <= uniVal <= 90 or 97 <= uniVal <= 122:\n",
    "            hashMap[i] = hashMap.get(i, 0) + 1\n",
    "            \n",
    "    for j in t:\n",
    "        uniVal = ord(i)\n",
    "        if 65 <= uniVal <= 90 or 97 <= uniVal <= 122:\n",
    "            hashMap[j] = hashMap.get(j, 0) - 1\n",
    "    \n",
    "    for k in hashMap:\n",
    "        if hashMap[k] != 0:\n",
    "            return False\n",
    "    return True\n",
    "s = \"anagram\"\n",
    "t = \"nagarame\"\n",
    "print(isAnagram(s, t))\n",
    "        "
   ]
  },
  {
   "cell_type": "markdown",
   "id": "8d686e23",
   "metadata": {},
   "source": [
    "Ugly Number\n",
    "\n",
    "An ugly number is a positive integer whose prime factors are limited to 2, 3, and 5.\n",
    "An ugly number is a positive integer which does not have a prime factor other than 2, 3, and 5."
   ]
  },
  {
   "cell_type": "code",
   "execution_count": 71,
   "id": "de48bd28",
   "metadata": {},
   "outputs": [
    {
     "name": "stdout",
     "output_type": "stream",
     "text": [
      "1.0\n",
      "True\n"
     ]
    }
   ],
   "source": [
    "def maxDividend(devidend, devisor):\n",
    "    \n",
    "    while devidend % devisor == 0:\n",
    "        devidend = devidend / devisor\n",
    "        \n",
    "    return devidend\n",
    "def isUgly(n):\n",
    "    n = maxDividend(n, 2)\n",
    "    n = maxDividend(n, 3)\n",
    "    n = maxDividend(n, 5)\n",
    "    \n",
    "    if n == 1:\n",
    "        return True\n",
    "    return False\n",
    "    \n",
    "print(isUgly(8))\n"
   ]
  },
  {
   "cell_type": "markdown",
   "id": "c194fb5e",
   "metadata": {},
   "source": [
    "Third Maximum Number\n",
    "\n",
    "    Given an integer array nums, return the third distinct maximum number in this array. If the third maximum does not exist, return the maximum number.\n",
    "    nums = [3,2,1,3,2,1]\n",
    "    op = 1"
   ]
  },
  {
   "cell_type": "code",
   "execution_count": 80,
   "id": "41f2750f",
   "metadata": {},
   "outputs": [
    {
     "name": "stdout",
     "output_type": "stream",
     "text": [
      "1\n",
      "1\n"
     ]
    }
   ],
   "source": [
    "def thirdDistictMaxNumber(nums):\n",
    "    max1 = float('-inf')\n",
    "    max2 = float('-inf')\n",
    "    max3 = float('-inf')\n",
    "    nums.sort()\n",
    "\n",
    "    for i in range(len(nums)):\n",
    "        if i < len(nums)-1:\n",
    "            if nums[i] == nums[i+1]:\n",
    "                continue\n",
    "\n",
    "        if nums[i] > max1:\n",
    "            max3 = max2\n",
    "            max2 = max1\n",
    "            max1 = nums[i]\n",
    "        elif nums[i] > max2:\n",
    "            max3 = max2\n",
    "            max2 = nums[i]\n",
    "        elif nums[i] > max3:\n",
    "            max3 = nums[i]\n",
    "\n",
    "    if max3 == float('-inf'):\n",
    "        return max(max2, max1)\n",
    "    return max3\n",
    "\n",
    "print(thirdDistictMaxNumber([3,2,1,3,2,1]))\n",
    "\n",
    "# How to solve this in O(N)?? using hashSet to remove the duplicates\n",
    "def thirdDistictMaxNumber2(nums):\n",
    "    max1 = float('-inf')\n",
    "    max2 = float('-inf')\n",
    "    max3 = float('-inf')\n",
    "    hashSet = set(nums)\n",
    "\n",
    "    for el in hashSet:\n",
    "        if el > max1:\n",
    "            max3 = max2\n",
    "            max2 = max1\n",
    "            max1 = el\n",
    "        elif el > max2:\n",
    "            max3 = max2\n",
    "            max2 = el\n",
    "        elif el > max3:\n",
    "            max3 = el\n",
    "\n",
    "    if max3 == float('-inf'):\n",
    "        return max(max2, max1)\n",
    "    return max3  \n",
    "print(thirdDistictMaxNumber2([3,2,1,3,2,1]))\n",
    "\n",
    "\n",
    "\n",
    "    "
   ]
  },
  {
   "cell_type": "markdown",
   "id": "e0bdb5e6",
   "metadata": {},
   "source": [
    "Reverse Vowels of a String\n",
    "\n",
    "    Input: s = \"leetcode\"\n",
    "    Output: \"leotcede\""
   ]
  },
  {
   "cell_type": "code",
   "execution_count": 89,
   "id": "3a573b6e",
   "metadata": {},
   "outputs": [
    {
     "name": "stdout",
     "output_type": "stream",
     "text": [
      "leotcede\n"
     ]
    }
   ],
   "source": [
    "def reverseVowels(s):\n",
    "    vowels = list('aAeEiIoOuU')\n",
    "    temp = []\n",
    "    \n",
    "    for i in s:\n",
    "        if i in vowels:\n",
    "            temp.append(i) # to store the vowels present in the input string\n",
    "            \n",
    "    lastIndex = len(temp) - 1\n",
    "    res = []\n",
    "    \n",
    "    # iterate once again\n",
    "    for i in s:\n",
    "        if i in vowels:\n",
    "            res.append(temp[lastIndex])\n",
    "            lastIndex -= 1\n",
    "        else:\n",
    "            res.append(i)\n",
    "\n",
    "    return \"\".join(res)\n",
    "\n",
    "# Using two pointer\n",
    "def reverseVowels2(s):\n",
    "    vowels = list('aAeEiIoOuU')\n",
    "    s = list(s)\n",
    "    pt1 = 0\n",
    "    pt2 = len(s) - 1\n",
    "    \n",
    "    while pt1 < pt2:\n",
    "        \n",
    "        if s[pt1] in vowels and s[pt2] in vowels:\n",
    "            \n",
    "            s[pt1], s[pt2] = s[pt2], s[pt1]\n",
    "            pt1 += 1\n",
    "            pt2 -= 1\n",
    "            \n",
    "        if s[pt1] not in vowels:\n",
    "            pt1 += 1\n",
    "            \n",
    "        if s[pt2] not in vowels:\n",
    "            pt2 -= 1\n",
    "            \n",
    "    return \"\".join(s)\n",
    "\n",
    "# Follow Up : Can it be done in constant space?  \n",
    "\n",
    "print(reverseVowels2('leetcode'))\n",
    "        \n"
   ]
  },
  {
   "cell_type": "markdown",
   "id": "7f38f014",
   "metadata": {},
   "source": [
    "Find the Difference\n",
    "\n",
    "    Input: s = \"abcd\", t = \"abcde\"\n",
    "    Output: \"e\"\n",
    "    Explanation: 'e' is the letter that was added.\n",
    "\n"
   ]
  },
  {
   "cell_type": "code",
   "execution_count": 102,
   "id": "332dd728",
   "metadata": {},
   "outputs": [
    {
     "name": "stdout",
     "output_type": "stream",
     "text": [
      "e\n"
     ]
    }
   ],
   "source": [
    "def findTheDifference(s, t):\n",
    "    \n",
    "    hashMap = {}\n",
    "    \n",
    "    for i in s:\n",
    "        hashMap[i] = hashMap.get(i, 0) + 1\n",
    "        \n",
    "    for j in t:\n",
    "        if hashMap.get(j, 0) == 0:\n",
    "            return j\n",
    "        else:\n",
    "            hashMap[j] -= 1\n",
    "        \n",
    "s = \"abcd\"\n",
    "t = \"abcde\"\n",
    "print(findTheDifference(s, t))\n",
    "    "
   ]
  },
  {
   "cell_type": "markdown",
   "id": "b1fa316b",
   "metadata": {},
   "source": [
    "Add Digits  \n",
    "\n",
    "        Input: num = 38\n",
    "        Output: 2\n",
    "        Explanation: The process is\n",
    "        38 --> 3 + 8 --> 11\n",
    "        11 --> 1 + 1 --> 2 \n",
    "        Since 2 has only one digit, return it."
   ]
  },
  {
   "cell_type": "code",
   "execution_count": 110,
   "id": "a1cf594b",
   "metadata": {},
   "outputs": [
    {
     "name": "stdout",
     "output_type": "stream",
     "text": [
      "2\n"
     ]
    }
   ],
   "source": [
    "def sumDigit(num):\n",
    "    ls = 0\n",
    "    while num:\n",
    "        rem = num % 10\n",
    "        ls += rem\n",
    "        num //= 10\n",
    "    return ls\n",
    "\n",
    "def addDigits(num):\n",
    "    hashMap = {}\n",
    "    while num:\n",
    "        \n",
    "        lsum = 0\n",
    "\n",
    "        lsum = sumDigit(num)\n",
    "\n",
    "        if len(str(lsum)) <= 1:\n",
    "            return lsum\n",
    "        \n",
    "        if lsum not in hashMap:\n",
    "            hashMap[lsum] = True\n",
    "        else:\n",
    "            return 0\n",
    "\n",
    "        num = lsum\n",
    "        \n",
    "    return 0\n",
    "    \n",
    "# Follow up: Could you do it without any loop/recursion in O(1) runtime?\n",
    "print(addDigits(38))"
   ]
  },
  {
   "cell_type": "markdown",
   "id": "7664e663",
   "metadata": {},
   "source": [
    " Sum of Digits of String After Convert\n",
    "\n",
    "\n",
    "        Input: s = \"iiii\", k = 1\n",
    "        Output: 36\n",
    "        Explanation: The operations are as follows:\n",
    "        - Convert: \"iiii\" ➝ \"(9)(9)(9)(9)\" ➝ \"9999\" ➝ 9999\n",
    "        - Transform #1: 9999 ➝ 9 + 9 + 9 + 9 ➝ 36\n",
    "        Thus the resulting integer is 36."
   ]
  },
  {
   "cell_type": "code",
   "execution_count": 141,
   "id": "99a8c501",
   "metadata": {},
   "outputs": [
    {
     "name": "stdout",
     "output_type": "stream",
     "text": [
      "79\n"
     ]
    }
   ],
   "source": [
    "\n",
    "def getLucky2(s, t):\n",
    "    s = \"\".join(str(ord(i) - 96) for i in s)\n",
    "    for j in range(k):\n",
    "        s = str(sum(int(x) for x in s))\n",
    "    return int(s)\n",
    "\n",
    "s = \"hvmhoasabaymnmsd\"\n",
    "k = 1\n",
    "print(getLucky2(s, k))"
   ]
  },
  {
   "cell_type": "code",
   "execution_count": 116,
   "id": "82758c57",
   "metadata": {},
   "outputs": [
    {
     "data": {
      "text/plain": [
       "26"
      ]
     },
     "execution_count": 116,
     "metadata": {},
     "output_type": "execute_result"
    }
   ],
   "source": [
    "ord('z') -96"
   ]
  },
  {
   "cell_type": "code",
   "execution_count": null,
   "id": "f3ab88c0",
   "metadata": {},
   "outputs": [],
   "source": []
  }
 ],
 "metadata": {
  "kernelspec": {
   "display_name": "Python 3 (ipykernel)",
   "language": "python",
   "name": "python3"
  },
  "language_info": {
   "codemirror_mode": {
    "name": "ipython",
    "version": 3
   },
   "file_extension": ".py",
   "mimetype": "text/x-python",
   "name": "python",
   "nbconvert_exporter": "python",
   "pygments_lexer": "ipython3",
   "version": "3.10.0"
  }
 },
 "nbformat": 4,
 "nbformat_minor": 5
}
