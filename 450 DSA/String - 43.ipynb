{
 "cells": [
  {
   "cell_type": "markdown",
   "id": "cd7d7d0d",
   "metadata": {},
   "source": [
    "### Reverse String"
   ]
  },
  {
   "cell_type": "code",
   "execution_count": 1,
   "id": "68a95912",
   "metadata": {},
   "outputs": [],
   "source": [
    "def reverseString(s):\n",
    "\n",
    "    si = 0\n",
    "    ei = len(s) - 1\n",
    "\n",
    "    while si < ei:\n",
    "\n",
    "        temp = s[si]\n",
    "        s[si] = s[ei]\n",
    "        s[ei] = temp\n",
    "\n",
    "        si += 1\n",
    "        ei -= 1"
   ]
  },
  {
   "cell_type": "markdown",
   "id": "890958a8",
   "metadata": {},
   "source": [
    "### Is Palidrome"
   ]
  },
  {
   "cell_type": "code",
   "execution_count": 5,
   "id": "e020d1b4",
   "metadata": {},
   "outputs": [
    {
     "name": "stdout",
     "output_type": "stream",
     "text": [
      "True\n"
     ]
    }
   ],
   "source": [
    "def reverse(s):\n",
    "    ls = \"\"\n",
    "    for i in s:\n",
    "        ls = i + ls\n",
    "    return ls\n",
    "\n",
    "def isPalindrome(s):\n",
    "    \n",
    "    rev = reverse(s)\n",
    "    return s == rev\n",
    "print(isPalindrome('aba'))"
   ]
  },
  {
   "cell_type": "markdown",
   "id": "77a5bca4",
   "metadata": {},
   "source": [
    "### Print all the duplicates in the input string\n"
   ]
  },
  {
   "cell_type": "code",
   "execution_count": 6,
   "id": "9d4d13f1",
   "metadata": {},
   "outputs": [
    {
     "name": "stdout",
     "output_type": "stream",
     "text": [
      "b\n"
     ]
    }
   ],
   "source": [
    "def findDuplicates(s):\n",
    "    \n",
    "    temp = [0] * 26\n",
    "    \n",
    "    for ch in s:\n",
    "        temp[ord(ch) - 97] += 1\n",
    "    \n",
    "    for i, a in enumerate(temp):\n",
    "        if a > 1:\n",
    "            print(chr(i + 97))\n",
    "\n",
    "findDuplicates('abbbcd')"
   ]
  },
  {
   "cell_type": "code",
   "execution_count": 7,
   "id": "50e65a62",
   "metadata": {},
   "outputs": [
    {
     "data": {
      "text/plain": [
       "97"
      ]
     },
     "execution_count": 7,
     "metadata": {},
     "output_type": "execute_result"
    }
   ],
   "source": [
    "ord('a')"
   ]
  },
  {
   "cell_type": "code",
   "execution_count": 8,
   "id": "1ab13fc1",
   "metadata": {},
   "outputs": [
    {
     "data": {
      "text/plain": [
       "'a'"
      ]
     },
     "execution_count": 8,
     "metadata": {},
     "output_type": "execute_result"
    }
   ],
   "source": [
    "chr(97)"
   ]
  },
  {
   "cell_type": "markdown",
   "id": "a7fff9e2",
   "metadata": {},
   "source": [
    "### A Program to check if strings are rotations of each other or not"
   ]
  },
  {
   "cell_type": "code",
   "execution_count": 14,
   "id": "f617aa0b",
   "metadata": {},
   "outputs": [
    {
     "name": "stdout",
     "output_type": "stream",
     "text": [
      "True\n"
     ]
    }
   ],
   "source": [
    "def areRotations(s1, s2):\n",
    "    if s1 == s2 or len(s1) != len(s2):\n",
    "        return False\n",
    "    s1 = s1 * 2\n",
    "    \n",
    "    \n",
    "    if s1.count(s2):\n",
    "        return True\n",
    "    return False\n",
    "    \n",
    "s1 = 'ABCD'\n",
    "s2 = 'CDAB'\n",
    "print(areRotations(s1, s2))"
   ]
  },
  {
   "cell_type": "markdown",
   "id": "7487ca31",
   "metadata": {},
   "source": [
    "### if a string is the valid shuffle of two other strings \n",
    "        1XY2 is a valid shuffle of XY and 12\n",
    "        Y1X2 is a valid shuffle of XY and 12     \n",
    "        Y21XX is not a valid shuffle of XY and 12"
   ]
  },
  {
   "cell_type": "code",
   "execution_count": 26,
   "id": "94b515ed",
   "metadata": {},
   "outputs": [
    {
     "name": "stdout",
     "output_type": "stream",
     "text": [
      "1XY2 is a valid shuffle of XY and 12\n",
      "Y1X2 is a valid shuffle of XY and 12\n",
      "Y21XX is not a valid shuffle of XY and 12\n"
     ]
    }
   ],
   "source": [
    "def shuffleCheck(first, second, result):\n",
    "    \n",
    "    first = \"\".join(sorted(list(first))) \n",
    "    second = \"\".join(sorted(list(second))) \n",
    "    result = \"\".join(sorted(list(result))) \n",
    "\n",
    "    i = j = k =  0\n",
    "\n",
    "    while k != len(result):\n",
    "        \n",
    "        if i < len(first) and first[i] == result[k]:\n",
    "            i += 1\n",
    "        \n",
    "        elif j < len(second) and second[j] == result[k]:\n",
    "            j += 1\n",
    "        else:\n",
    "            return False\n",
    "        k += 1\n",
    "    \n",
    "    if i < len(first) or j < len(second):\n",
    "        return False\n",
    "    return True\n",
    "\n",
    "def checkLength(first, second, result):\n",
    "    \n",
    "    if len(first) + len(second) != len(result):\n",
    "        return False\n",
    "    return True\n",
    "\n",
    "\n",
    "first = \"XY\"\n",
    "second = \"12\"\n",
    "results = [\"1XY2\", \"Y1X2\", \"Y21XX\"]\n",
    "\n",
    "for result in results:\n",
    "    if checkLength(first, second, result) and shuffleCheck(first, second, result):\n",
    "        print(result + \" is a valid shuffle of \" + first + \" and \" + second)\n",
    "    else:\n",
    "        print(result + \" is not a valid shuffle of \" + first + \" and \" + second)"
   ]
  },
  {
   "cell_type": "code",
   "execution_count": 28,
   "id": "865ca0a4",
   "metadata": {},
   "outputs": [
    {
     "name": "stdout",
     "output_type": "stream",
     "text": [
      "aaabdoss\n"
     ]
    }
   ],
   "source": [
    "first = 'abosadas'\n",
    "first = \"\".join(sorted(list(first))) \n",
    "print(first)"
   ]
  },
  {
   "cell_type": "markdown",
   "id": "ff53ec64",
   "metadata": {},
   "source": [
    "### 38. Count and Say (very Bad Like and Dislike ratio)"
   ]
  },
  {
   "cell_type": "code",
   "execution_count": null,
   "id": "bea4d28b",
   "metadata": {},
   "outputs": [],
   "source": []
  },
  {
   "cell_type": "markdown",
   "id": "a0809f53",
   "metadata": {},
   "source": [
    "### Longest Palindrome in a String"
   ]
  },
  {
   "cell_type": "code",
   "execution_count": 85,
   "id": "5161377f",
   "metadata": {},
   "outputs": [
    {
     "name": "stdout",
     "output_type": "stream",
     "text": [
      "aabbaa\n"
     ]
    }
   ],
   "source": [
    "def longestPalin(s):\n",
    "    \n",
    "    global_str = ''\n",
    "    \n",
    "    N = len(s)\n",
    "    \n",
    "    \n",
    "    for i in range(0, len(s)):\n",
    "        \n",
    "        j = i\n",
    "        k = i\n",
    "        \n",
    "        while j >= 0 and k <= N - 1:\n",
    "            if s[j] == s[k]:\n",
    "                j -= 1\n",
    "                k += 1\n",
    "            else:\n",
    "                j += 1\n",
    "                k -= 1\n",
    "                break\n",
    "                \n",
    "            \n",
    "            if j < 0 or k >= N:\n",
    "                j += 1\n",
    "                k -= 1\n",
    "                break\n",
    "                \n",
    "        \n",
    "        subStr = s[j: k + 1]\n",
    "        \n",
    "        if len(subStr) > len(global_str):\n",
    "            global_str = subStr\n",
    "            \n",
    "            \n",
    "        j = i\n",
    "        k = i + 1\n",
    "        \n",
    "        while j >= 0 and k <= N - 1:\n",
    "            if s[j] == s[k]:\n",
    "                j -= 1\n",
    "                k += 1\n",
    "            else:\n",
    "                j += 1\n",
    "                k -= 1\n",
    "                break\n",
    "            \n",
    "            if j < 0 or k >= N:\n",
    "                j += 1\n",
    "                k -= 1\n",
    "                break\n",
    "                \n",
    "                \n",
    "        subStr = s[j: k + 1]\n",
    "        \n",
    "        if len(subStr) > len(global_str):\n",
    "            global_str = subStr\n",
    "            \n",
    "    return global_str\n",
    "            \n",
    "        \n",
    "            \n",
    "            \n",
    "    \n",
    "    \n",
    "s = \"aaaabbaa\"\n",
    "# s = \"babad\"\n",
    "# s ='b'\n",
    "#bab\n",
    "# Output: aabbaa\n",
    "\n",
    "print(longestPalin(s))"
   ]
  },
  {
   "cell_type": "markdown",
   "id": "7f8301ed",
   "metadata": {},
   "source": [
    "### Print all subsequences of a string"
   ]
  },
  {
   "cell_type": "code",
   "execution_count": 86,
   "id": "df319d86",
   "metadata": {},
   "outputs": [
    {
     "name": "stdout",
     "output_type": "stream",
     "text": [
      "abc\n",
      "ab\n",
      "ac\n",
      "a\n",
      "bc\n",
      "b\n",
      "c\n",
      "\n",
      "None\n"
     ]
    }
   ],
   "source": [
    "def allSubseq(p, up):\n",
    "    \n",
    "    if len(up) == 0:\n",
    "        print(p)\n",
    "        return p\n",
    "    ch = up[0]\n",
    "    allSubseq(p + ch, up[1:])\n",
    "    allSubseq(p, up[1:])\n",
    "    \n",
    "print(allSubseq('', 'abc'))\n",
    "    "
   ]
  },
  {
   "cell_type": "markdown",
   "id": "89d66a67",
   "metadata": {},
   "source": [
    "### Permutations of a given string"
   ]
  },
  {
   "cell_type": "code",
   "execution_count": 102,
   "id": "1c0bce6a",
   "metadata": {},
   "outputs": [
    {
     "name": "stdout",
     "output_type": "stream",
     "text": [
      "None\n",
      "['ABB', 'BAB', 'BBA']\n"
     ]
    }
   ],
   "source": [
    "def find_permutation(p, up, result):\n",
    "\n",
    "    if len(up) == 0:\n",
    "        result.add(p)\n",
    "        return \n",
    "    ch = up[0]\n",
    "    \n",
    "    for i in range(len(p)):\n",
    "        f = p[:i]\n",
    "        s = p[i:]\n",
    "        find_permutation(f + ch + s, up[1:], result)\n",
    "        \n",
    "    find_permutation(p + ch, up[1:], result)\n",
    "    \n",
    "result = set()       \n",
    "print(find_permutation('','ABB', result))\n",
    "print(sorted(result))\n",
    "# ABC ACB BAC BCA CAB CBA ?? How do we get it lixicographical order????\n",
    "    "
   ]
  },
  {
   "cell_type": "markdown",
   "id": "f3b363f0",
   "metadata": {},
   "source": [
    "### Split the Binary string into two substring with equal 0’s and 1’s"
   ]
  },
  {
   "cell_type": "code",
   "execution_count": 18,
   "id": "8ad2e0b3",
   "metadata": {},
   "outputs": [
    {
     "name": "stdout",
     "output_type": "stream",
     "text": [
      "-1\n"
     ]
    }
   ],
   "source": [
    "def maxSUbstr(s):\n",
    "    countZeroes = 0\n",
    "    countOnes = 0\n",
    "    ans = 0\n",
    "    for i in range(len(s)):\n",
    "        \n",
    "        if s[i] == '0':\n",
    "            countZeroes += 1\n",
    "        if s[i] == '1':\n",
    "            countOnes += 1\n",
    "            \n",
    "        if countOnes == countZeroes:\n",
    "            ans += 1\n",
    "            countOnes = 0\n",
    "            countZeroes = 0\n",
    "    if countZeroes != countOnes:\n",
    "        return -1\n",
    "    return ans\n",
    "    \n",
    "    \n",
    "S = \"0100110101\"\n",
    "# S = \"0111100010\"\n",
    "# S = \"00011\"\n",
    "S = \"001110010\" #-1\n",
    "# Output: 3\n",
    "print(maxSUbstr(S))"
   ]
  },
  {
   "cell_type": "code",
   "execution_count": null,
   "id": "4a7d77f9",
   "metadata": {},
   "outputs": [],
   "source": []
  },
  {
   "cell_type": "code",
   "execution_count": null,
   "id": "46ee4c17",
   "metadata": {},
   "outputs": [],
   "source": []
  },
  {
   "cell_type": "code",
   "execution_count": null,
   "id": "e89a79b3",
   "metadata": {},
   "outputs": [],
   "source": []
  },
  {
   "cell_type": "markdown",
   "id": "97c2669e",
   "metadata": {},
   "source": [
    "### Next Permutation\n"
   ]
  },
  {
   "cell_type": "code",
   "execution_count": 73,
   "id": "a8aa87bc",
   "metadata": {},
   "outputs": [
    {
     "name": "stdout",
     "output_type": "stream",
     "text": [
      "None\n",
      "[1, 1]\n"
     ]
    }
   ],
   "source": [
    "def nextPermutation(arr):\n",
    "    if len(arr) <= 1:\n",
    "        return arr\n",
    "    \n",
    "    ind1 = len(arr) - 2\n",
    "    while ind1 >= 0 and arr[ind1] >= arr[ind1 + 1]:\n",
    "        ind1 -= 1\n",
    "\n",
    "    if ind1 >= 0:\n",
    "        ind2 = len(arr) - 1\n",
    "        while arr[ind1] >= arr[ind2]:\n",
    "            ind2 -= 1\n",
    "        arr[ind1], arr[ind2] = arr[ind2], arr[ind1]\n",
    "        \n",
    "    start = ind1 + 1\n",
    "    end = len(arr) - 1\n",
    "    while start <= end:\n",
    "        \n",
    "        temp = arr[start]\n",
    "        arr[start] = arr[end]\n",
    "        arr[end] = temp\n",
    "        \n",
    "        start += 1\n",
    "        end -= 1\n",
    "        \n",
    "    \n",
    "arr = [1, 2, 3, 6, 5, 4]\n",
    "arr = [3, 2, 1]\n",
    "arr = [1,1]\n",
    "# arr = [1,2]\n",
    "# arr = [1,5,1]\n",
    "# arr = [1,2,3]\n",
    "print(nextPermutation(arr))\n",
    "print(arr)\n"
   ]
  },
  {
   "cell_type": "code",
   "execution_count": 75,
   "id": "08d2eaed",
   "metadata": {},
   "outputs": [
    {
     "ename": "TypeError",
     "evalue": "unsupported operand type(s) for -: 'str' and 'str'",
     "output_type": "error",
     "traceback": [
      "\u001b[1;31m---------------------------------------------------------------------------\u001b[0m",
      "\u001b[1;31mTypeError\u001b[0m                                 Traceback (most recent call last)",
      "\u001b[1;32m~\\AppData\\Local\\Temp/ipykernel_4700/3473218526.py\u001b[0m in \u001b[0;36m<module>\u001b[1;34m\u001b[0m\n\u001b[1;32m----> 1\u001b[1;33m \u001b[1;34m'b'\u001b[0m \u001b[1;33m-\u001b[0m \u001b[1;34m'a'\u001b[0m \u001b[1;33m+\u001b[0m \u001b[1;36m1\u001b[0m\u001b[1;33m\u001b[0m\u001b[1;33m\u001b[0m\u001b[0m\n\u001b[0m",
      "\u001b[1;31mTypeError\u001b[0m: unsupported operand type(s) for -: 'str' and 'str'"
     ]
    }
   ],
   "source": [
    "'b' - 'a' + 1"
   ]
  },
  {
   "cell_type": "markdown",
   "id": "1d287391",
   "metadata": {},
   "source": [
    "### Rabin Karp Algorithm\n"
   ]
  },
  {
   "cell_type": "code",
   "execution_count": 128,
   "id": "0e321c51",
   "metadata": {},
   "outputs": [
    {
     "name": "stdout",
     "output_type": "stream",
     "text": [
      "2\n"
     ]
    }
   ],
   "source": [
    "import math\n",
    "def search(txt, pat):\n",
    "    occurances = []\n",
    "    N = len(txt)\n",
    "    M = len(pat)\n",
    "    \n",
    "    if M > N:\n",
    "        return -1\n",
    "    \n",
    "    # consider taking a prime number for taking the modulo\n",
    "    largePrime = 101\n",
    "    base = 256\n",
    "    \n",
    "    # hash value for pattern and first window\n",
    "    targetHashCode = 0\n",
    "    hashCode = 0\n",
    "    \n",
    "    # calculate the power for most significant digit\n",
    "    # let's say pattern is 'abc' and if we also consider base to be 10 (a = 1, b = 2, .... j = 1)\n",
    "    # calulate the HashValue as follows:\n",
    "    # code(a) * base ^ (M - 1) + code(b) * base ^ (M -2) + code(c) * base ^ (M) # M is the pattern length, in this case it's 3\n",
    "    \n",
    "    # Next we will calculate this value --> base ^ (M - 1) and store it in a variable but this value can be very large\n",
    "    # so we will take a mod value\n",
    "    # this will help us later to calculate the hash Values\n",
    "    significantVal = 1\n",
    "    for i in range(0, M - 1):\n",
    "        significantVal = (base * significantVal) % largePrime\n",
    "        \n",
    "\n",
    "    #Next calculate the hashValue for pattern ans first window of the text\n",
    "    for i in range(0, M):\n",
    "        targetHashCode = ((targetHashCode * base) + ord(pat[i])) % largePrime\n",
    "        hashCode = ((hashCode * base) + ord(txt[i])) % largePrime\n",
    "    \n",
    "    if targetHashCode == hashCode:\n",
    "            return 0;\n",
    "    \n",
    "    # why N-M?\n",
    "    # no point running this loop at the end, because if any pattern present that has a length of M. if we go beyond N - M then\n",
    "    # then we will end up having less than < M digits\n",
    "    for i in range(1, N - M + 1):\n",
    "        \n",
    "        # remove the first digit and multiply it with base\n",
    "            hashCode = (hashCode - ord(txt[i - 1]) * significantVal) % largePrime\n",
    "            # add the next element\n",
    "            hashCode = (hashCode * base + ord(txt[i + M - 1])) % largePrime \n",
    "            \n",
    "            if hashCode < 0:\n",
    "                hashCode += base\n",
    "            \n",
    "            if hashCode == targetHashCode:\n",
    "                if txt[i: i + M + 1] == pat:\n",
    "                    return i\n",
    "    return -1\n",
    "\n",
    "            \n",
    "            \n",
    "\n",
    "    \n",
    "txt = \"abc\"\n",
    "pat = \"c\"\n",
    "\n",
    "print(search(txt, pat))\n"
   ]
  },
  {
   "cell_type": "code",
   "execution_count": null,
   "id": "de7a0f0d",
   "metadata": {},
   "outputs": [],
   "source": [
    "#         int M = source.length();\n",
    "#         int N = target.length();\n",
    "#         if (M < N)\n",
    "#             return -1;\n",
    "#         long preCompute = 1;\n",
    "#         // to compute the mod of remove digits, base^(N-1) % q\n",
    "#         long hSource = 0;\n",
    "#         long hTarget = 0;\n",
    "#         long d = 31; // base\n",
    "#         long q = 1000000000000000003L; // hash table size\n",
    "\n",
    "#         for (int i = 0; i < N - 1; i++) {\n",
    "#             preCompute = (preCompute * d) % q; // (a%n * b%n)%n\n",
    "#         }\n",
    "\n",
    "#         for (int j = 0; j < N; j++) {\n",
    "#             hSource = (hSource * d + source.charAt(j)) % q;\n",
    "#             hTarget = (hTarget * d + target.charAt(j)) % q;\n",
    "#         }\n",
    "#         if (hSource == hTarget)\n",
    "#             return 0;\n",
    "#         for (int j = 1; j < M - N + 1; j++) {\n",
    "#             hSource = (hSource - source.charAt(j - 1) * preCompute) % q;\n",
    "#             // remove first digit\n",
    "#             hSource = (hSource * d + source.charAt(j + N - 1)) % q;\n",
    "#             // add new last digit\n",
    "#             if (hSource == hTarget) {\n",
    "#                 if (source.substring(j, j + N).equals(target))\n",
    "#                     return j;\n",
    "#             }\n",
    "#         }\n",
    "#         return -1;\n",
    "    "
   ]
  },
  {
   "cell_type": "markdown",
   "id": "eadd2ab8",
   "metadata": {},
   "source": [
    "### Parenthesis Checker"
   ]
  },
  {
   "cell_type": "code",
   "execution_count": 150,
   "id": "1524f45c",
   "metadata": {},
   "outputs": [
    {
     "name": "stdout",
     "output_type": "stream",
     "text": [
      "False\n"
     ]
    }
   ],
   "source": [
    "def isPar(s):\n",
    "    forword = ['[', '{', '(']\n",
    "    backword = [']', '}', ')']\n",
    "    stack = []\n",
    "    \n",
    "    stack.append(s[0])\n",
    "    \n",
    "    for i in range(1, len(s)):\n",
    " \n",
    "        if s[i] in forword:\n",
    "            stack.append(s[i])\n",
    "        \n",
    "        elif s[i] in backword:\n",
    "            if len(stack) and s[i] == ')' and stack[-1] == '(':\n",
    "                stack.pop()\n",
    "            elif len(stack) and s[i] == '}' and stack[-1] == '{':\n",
    "                stack.pop()\n",
    "            elif len(stack) and s[i] == ']' and stack[-1] == '[':\n",
    "                stack.pop()\n",
    "            else:\n",
    "                stack.append(s[i])\n",
    "    if len(stack) == 0:\n",
    "        return True\n",
    "    return False\n",
    "    \n",
    "\n",
    "s = '[()]{}{[()()]()}'\n",
    "s = '{}{(}))}'\n",
    "# s = '[(])'\n",
    "#s = '[]]}([)){)]({]{](])(({()]({]({(])]]])((}{{[]{}}}){[}{[{{][({({]{])]]][}))}{}][[(][])]{)(]{}(]))][({({}[{[)})[(]([([](((]})}}([(}({(()}[[][[[]]{)(]}][[){{}}[[[{{)}[[]((](])(}]([[{})}{){](}(]{[[]{{){)})[{))(}}[{})}]}[[)]))}{)]()()}{)]}))}{}{{]}{){[(}]))(}(}}()([[)[{}]}]{){[})[]]{([]}[)]]({{]}{{[]]{[()](}}[}])()[}}{)](}[{)}}[[[[](())){[[]{}(}([)]}[})[[(}((}({])]{{[)((]])]](([]((]])][{]]}(](]}}{(){))[(]{(]}])([][{})(]{[))[}[}(){}}{(([}({][}}(]()]))}[}(])}}}[{]){[){{]{)]{((}{}([}{][}()}([{{(](}]({([[()[(]{{]]}){{{([]{{()][[}{}](}){}){}[]{([)[{(}}({[)([(({(()[[[{})))))]]{]({{))]{(](}[)[{({((((({}{}{}{]](]][}{[[{[({[}}]{{}[){)][{({[(]())]([]}}[{{([){}][(}})[(}][[}}]}([([}]{()[)[[[]{][([)}{)}[){{){[](]{}](](}(]{][[()({[}{)]({{}}{][{)[{}{[[)}[]){[[)[)(((}[}}(])(({])}[)[))])()){)})]][[(}{){{[){[})(})(){{[]}[]])][[{{{{[{]((}}(]][{]((][)})][}})]}}){}[)((]}[]]](}(]}{)]}][][[{(}[(([{}))[}]}[))}[{][{[[[]({)]{})[]{(})[})[[))}][}(}{({}]]{][){))([({{)][}[[}[[[][[)([]}(}([{}(})[}{](}[[](){]{){[(){]}})(](}[()((}{}]]}[((}{]})[[[{})(][}(}(){{[[[}}}]}{)[))]}))][}({){)[){}({())[]](}{[({])]]{]{({})}])[)(}){([){{[][}(])()(](())]}[){)({[]]})[]]][))]{[}][}({]}{[]{[({}]]}]({{(}}}[[){]]{[{{])}})}[}])])}{())(()(([]}{({)]]][{{)]])}})){(){)(({(}(]}}(}[[)([(){)){{}{(][()}{]{{{(])}}})[[{{({]}}(]{})((]})}](([]]}}[]}}[[](]]()[])])()}[}[[{}[{])]]([][[((()]))]{((]{}))})([})({){[}[)[}{)[{(]}]}{}()]]}[[{]]}(]})](]]{}{(}[}}]({[][){[})]](}{])[)[}]}){)(]}}][}])]}[{){{)({)]((}[]()(]}[(({([{{{]}]]{[{))}))]{[[][[{[})([}([]()[)}))[(){({(({{{)}]}[]}[])[](()})[{[]{])]{[[{}[(]}](){[)(}((}()]][[[]](})[))}[{))}[}{}}))]{())(]}{{[(}{){)](((})[[{)])}({){{]{]}{))}(([{}))([{([))[[){(}{}(})]][}(](]((({{{))))(]]()}{{[({[)[}(}}(]{(]]({)]{}))({]]}[]){){{[}[[}){)([[})(})})}(}([[(}{)){()}]})[}{()]]{(]])])}[](}){[]}}{{(){{){([{[{[]}{}([{[{)[[{]]{}]]({][]{{{]}(]{([]]})()]}]}}]({{}}[}))]}}()}{][((})})])]](]){])]]}}(}[[[])){{})])[]}){]](}[({{][()[[{}([})]]()}{{}[{{]}])[])([])[()}}){}(}[}]))][})))[})])](}{]]((}}{{[[]][(]{}{]{(){]{)[]])}})[})))(]}}])]](}[)(){{(}})})]}}[))}]]}][}[{)]]})}({)]}][[{[[[]}[}((]])]}(({({)][)[(({})((])){{{){{{{){({})}({{[})[[]}}])}[{[((][)()}(([}({}(]][}}][{[()}[[}])[}}[]}{(({{)}][}]}]{{((][)(}(}}{)))}}{)}](){[}({{{[]][)]({[})))]])}[}{]{{])[(])[)(}))((}[{[}}))}}]{){([)((}]]}[[{([]())}[}][[[()}}({}[])}}{('\n",
    "print(isPar(s))"
   ]
  },
  {
   "cell_type": "markdown",
   "id": "3ce9bb00",
   "metadata": {},
   "source": [
    "### Count the Reversals"
   ]
  },
  {
   "cell_type": "code",
   "execution_count": 161,
   "id": "825e1096",
   "metadata": {},
   "outputs": [
    {
     "name": "stdout",
     "output_type": "stream",
     "text": [
      "3\n"
     ]
    }
   ],
   "source": [
    "def countRev(s):\n",
    "    openCount = 0\n",
    "    inversions = 0\n",
    "    \n",
    "    if len(s) % 2 != 0:\n",
    "        return -1\n",
    "\n",
    "    for i in range(len(s)):\n",
    "        \n",
    "        if s[i] == '{':\n",
    "            openCount += 1\n",
    "        else:\n",
    "            if openCount:\n",
    "                openCount -= 1\n",
    "            else:\n",
    "                inversions += 1\n",
    "                openCount = 1\n",
    "    \n",
    "    return inversions + openCount // 2\n",
    "    \n",
    "    \n",
    "s =\"}{{}}{{{\"\n",
    "# s = \"{{}{{{}{{}}{{\"\n",
    "print(countRev(s))"
   ]
  },
  {
   "cell_type": "markdown",
   "id": "e689420a",
   "metadata": {},
   "source": [
    "### Count Palindromic Subsequences"
   ]
  },
  {
   "cell_type": "code",
   "execution_count": 169,
   "id": "f18d70d0",
   "metadata": {},
   "outputs": [
    {
     "name": "stdout",
     "output_type": "stream",
     "text": [
      "378\n"
     ]
    }
   ],
   "source": [
    "\n",
    "    "
   ]
  },
  {
   "cell_type": "markdown",
   "id": "f796a759",
   "metadata": {},
   "source": [
    "### Boyer Moore Algorithm for Pattern Searching"
   ]
  },
  {
   "cell_type": "code",
   "execution_count": null,
   "id": "7f819adc",
   "metadata": {},
   "outputs": [],
   "source": []
  }
 ],
 "metadata": {
  "kernelspec": {
   "display_name": "Python 3 (ipykernel)",
   "language": "python",
   "name": "python3"
  },
  "language_info": {
   "codemirror_mode": {
    "name": "ipython",
    "version": 3
   },
   "file_extension": ".py",
   "mimetype": "text/x-python",
   "name": "python",
   "nbconvert_exporter": "python",
   "pygments_lexer": "ipython3",
   "version": "3.10.0"
  }
 },
 "nbformat": 4,
 "nbformat_minor": 5
}
