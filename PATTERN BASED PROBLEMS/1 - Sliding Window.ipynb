{
 "cells": [
  {
   "cell_type": "markdown",
   "id": "ee51d53a",
   "metadata": {},
   "source": [
    "##### 1. LC - 1343. Number of Sub-arrays of Size K and Average Greater than or Equal to Threshold\n",
    "##### 2. LC - 209. Minimum Size Subarray Sum\n",
    "##### 3 GFG - Longest K unique characters substring\n",
    "##### 4. LC - 904. Fruit Into Baskets\n",
    "##### 5. LC - 3. Longest Substring Without Repeating Characters [IMPORTANT]\n",
    "##### 6. LC - 424. Longest Repeating Character Replacement\n",
    "##### 7 LC - 1004. Max Consecutive Ones III\n",
    "##### 8. LC  -1493. Longest Subarray of 1's After Deleting One Element\n",
    "##### 9. LC - 567. Permutation in String\n",
    "##### 10. LC - 438. Find All Anagrams in a String\n",
    "##### 11. LC - 76. Minimum Window Substring (HARD)\n",
    "#### 12. GFG - Minimum swaps and K together\n",
    "\n",
    "\n",
    "\n",
    "\n",
    "\n",
    "\n"
   ]
  },
  {
   "cell_type": "markdown",
   "id": "bcda020d",
   "metadata": {},
   "source": [
    "### FInd the average of all contiguous subarrays of size k in it\n"
   ]
  },
  {
   "cell_type": "code",
   "execution_count": 27,
   "id": "7cb9590d",
   "metadata": {},
   "outputs": [
    {
     "name": "stdout",
     "output_type": "stream",
     "text": [
      "[2.2, 2.8, 2.4, 3.6, 2.8]\n",
      "[2.2, 2.8, 2.4, 3.6, 2.8]\n",
      "[2.2, 2.8, 2.4, 3.6, 2.8]\n"
     ]
    }
   ],
   "source": [
    "# Brute force\n",
    "# TC = O(N * k)\n",
    "def find_average(k, arr):\n",
    "    result = []\n",
    "    \n",
    "    for i in range(0, len(arr)- k + 1):\n",
    "        lsum = 0.0\n",
    "        for j in range(i, i + k):\n",
    "            lsum += arr[j]\n",
    "        result.append(lsum / k)\n",
    "    return result\n",
    "\n",
    "arr = [1, 3, 2, 6, -1, 4, 1, 8, 2]\n",
    "k = 5\n",
    "print(find_average(k, arr))\n",
    "\n",
    "\n",
    "def find_average_best(k, arr):\n",
    "    \n",
    "    i = 0\n",
    "    j = 0\n",
    "    lsum = 0.0\n",
    "    result = []\n",
    "    while j < len(arr):\n",
    "        lsum += arr[j]\n",
    "        if (j - i + 1) >= k:\n",
    "            result.append(lsum / k)\n",
    "            lsum -= arr[i]\n",
    "            i += 1\n",
    "\n",
    "        j += 1\n",
    "    return result\n",
    "\n",
    "print(find_average_best(k, arr))\n",
    "\n",
    "def find_average_best2(k, arr):\n",
    "    win_sum, win_start = 0.0, 0\n",
    "    result = []\n",
    "        \n",
    "    for win_end in range(len(arr)):\n",
    "        win_sum += arr[win_end]\n",
    "        \n",
    "        # we don't need to slide if we've hit the required window size of 'k'\n",
    "        if win_end >= k - 1:\n",
    "#             if win_sum / k >= threshold:\n",
    "#                 count += 1\n",
    "            result.append(win_sum / k)\n",
    "            win_sum -= arr[win_start]\n",
    "            win_start += 1\n",
    "    return result\n",
    "print(find_average_best2(k, arr))\n",
    "            "
   ]
  },
  {
   "cell_type": "markdown",
   "id": "6e0b5feb",
   "metadata": {},
   "source": [
    "### Maximum sum of any contiguous subarray of size 'k'\n"
   ]
  },
  {
   "cell_type": "code",
   "execution_count": 1,
   "id": "2431a5da",
   "metadata": {},
   "outputs": [
    {
     "name": "stdout",
     "output_type": "stream",
     "text": [
      "9\n"
     ]
    }
   ],
   "source": [
    "def max_sub_arr_k(k, arr):\n",
    "    \n",
    "    i = 0\n",
    "    j = 0\n",
    "    lsum = 0\n",
    "    maxSum = arr[0]\n",
    "    \n",
    "    while j < len(arr):\n",
    "        lsum += arr[j]\n",
    "        \n",
    "        if (j - i + 1) == k:\n",
    "            maxSum = max(lsum, maxSum)\n",
    "            \n",
    "            lsum -= arr[i]\n",
    "            i += 1\n",
    "        j += 1\n",
    "    return maxSum\n",
    "k = 3\n",
    "arr = [2, 1, 5, 1, 3, 2]\n",
    "print(max_sub_arr_k(k, arr))\n",
    "            "
   ]
  },
  {
   "cell_type": "markdown",
   "id": "5d510c75",
   "metadata": {},
   "source": [
    "### Smallest contiguous subarray whose sum is greater than or equal to 's'\n"
   ]
  },
  {
   "cell_type": "code",
   "execution_count": 42,
   "id": "1b6b0648",
   "metadata": {},
   "outputs": [
    {
     "name": "stdout",
     "output_type": "stream",
     "text": [
      "2\n"
     ]
    }
   ],
   "source": [
    "# WINDOW IS NOT FIXED\n",
    "def subArrSumS(arr, s):\n",
    "    \n",
    "    i = 0\n",
    "    j = 0\n",
    "    lsum = 0\n",
    "    ans = float('inf')\n",
    "    \n",
    "    while j < len(arr):\n",
    "        \n",
    "        lsum += arr[j]\n",
    "        # NOTICE HERE while loop\n",
    "        # shrink the window as small as possible until the lsum(window sum) is smaller than 's'\n",
    "        while lsum >= s:\n",
    "            ans = min(ans, j-i+1)\n",
    "            lsum -= arr[i]\n",
    "            i += 1\n",
    "            \n",
    "        j += 1\n",
    "    return ans\n",
    "\n",
    "arr = [2, 1, 5, 2, 3, 2]\n",
    "s = 7\n",
    "\n",
    "print(subArrSumS(arr, s))\n",
    "\n",
    "\n",
    "# Time Complexity - O(N)\n",
    "\n",
    "# the outer for loop runs for all the elements and the inner while loop processes each element only once, therefor the TC of \n",
    "# the algorithm will be O(N + N) which is asymptotically O(N)\n",
    "    \n",
    "    "
   ]
  },
  {
   "cell_type": "markdown",
   "id": "fd6d04de",
   "metadata": {},
   "source": [
    "### Longest substring with K distinct Charecters\n"
   ]
  },
  {
   "cell_type": "code",
   "execution_count": 79,
   "id": "d6dd7f0a",
   "metadata": {},
   "outputs": [
    {
     "name": "stdout",
     "output_type": "stream",
     "text": [
      "13\n"
     ]
    }
   ],
   "source": [
    "def longestSubstrKdisntep(s, k):\n",
    "#     win_sum, win_start = 0.0, 0\n",
    "#     result = []\n",
    "#     hashMap = {}\n",
    "#     ans = float('-inf')\n",
    "    \n",
    "#     for win_end in range(len(arr)):\n",
    "#         hashMap[s[win_end]] = hashMap.get(s[win_end], 0) + 1\n",
    "        \n",
    "#         while len(hashMap) > k:\n",
    "#             hashMap[s[win_start]] -= 1\n",
    "#             if hashMap[s[win_start]] == 0:\n",
    "#                 del hashMap[s[win_start]]\n",
    "#             win_start += 1   \n",
    "#         ans = max(ans, win_end - win_start + 1)\n",
    "#     if ans == float('-inf'):\n",
    "#         return -1\n",
    "#     return ans\n",
    "    \n",
    "#     i = 0\n",
    "#     j = 0\n",
    "#     lmap = {}\n",
    "#     ans = float('-inf')\n",
    "    \n",
    "#     while j < len(s):\n",
    "#         lmap[s[j]] = lmap.get(s[j], 0) + 1\n",
    "#         dist_count = len(lmap)\n",
    "        \n",
    "#         while dist_count > k:\n",
    "#             lmap[s[i]] -= 1\n",
    "#             if lmap[s[i]] == 0:\n",
    "#                 del lmap[s[i]]\n",
    "#             dist_count = len(lmap)\n",
    "#             i += 1   \n",
    "        \n",
    "#         ans = max(ans, j - i + 1)\n",
    "#         j += 1\n",
    "    \n",
    "#     if ans == float('-inf'):\n",
    "#         return 0\n",
    "#     return ans\n",
    "\n",
    "def longestKSubstr(s, k):\n",
    "\n",
    "    hashMap = {}\n",
    "    i = j = 0\n",
    "    maxV = -1\n",
    "    uniq = 0\n",
    "    while j < len(s):\n",
    "\n",
    "        hashMap[s[j]] = hashMap.get(s[j], 0) + 1\n",
    "        uniq = len(hashMap)\n",
    "\n",
    "        if uniq < k:\n",
    "            j += 1\n",
    "        elif uniq == k:\n",
    "            maxV = max(maxV, j - i + 1)\n",
    "            j += 1\n",
    "        else:\n",
    "            while len(hashMap) > k:\n",
    "                if s[i] in hashMap:\n",
    "                    hashMap[s[i]] -= 1\n",
    "                    if hashMap[s[i]] == 0:\n",
    "                        del hashMap[s[i]]\n",
    "                i += 1\n",
    "            j += 1\n",
    "    return maxV\n",
    "s = 'araaci'\n",
    "k = 2\n",
    "\n",
    "s= 'gbwkfnqduxwfn'\n",
    "k = 15\n",
    "print(longestSubstrKdisntep(s, k))\n",
    "            \n",
    "        "
   ]
  },
  {
   "cell_type": "markdown",
   "id": "fc1a6a3a",
   "metadata": {},
   "source": [
    "### 904. Fruit Into Baskets"
   ]
  },
  {
   "cell_type": "code",
   "execution_count": 82,
   "id": "61f1e995",
   "metadata": {},
   "outputs": [],
   "source": [
    "def totalFruit(s):\n",
    "    hashMap = {}\n",
    "    i = j = 0\n",
    "    maxV = -1\n",
    "    uniq = 0\n",
    "    while j < len(s):\n",
    "\n",
    "        hashMap[s[j]] = hashMap.get(s[j], 0) + 1\n",
    "        uniq = len(hashMap)\n",
    "        if uniq < 2:\n",
    "            j += 1\n",
    "        elif uniq == 2:\n",
    "            maxV = max(maxV, j - i + 1)\n",
    "            j += 1\n",
    "        else:\n",
    "            while len(hashMap) > 2:\n",
    "                if s[i] in hashMap:\n",
    "                    hashMap[s[i]] -= 1\n",
    "                    if hashMap[s[i]] == 0:\n",
    "                        del hashMap[s[i]]\n",
    "                i += 1\n",
    "            j += 1\n",
    "    if uniq == 1:\n",
    "        return len(s)\n",
    "    return maxV"
   ]
  },
  {
   "cell_type": "markdown",
   "id": "ebf5ea6b",
   "metadata": {},
   "source": [
    "### 3. Longest Substring Without Repeating Characters"
   ]
  },
  {
   "cell_type": "code",
   "execution_count": 88,
   "id": "d0247301",
   "metadata": {},
   "outputs": [
    {
     "data": {
      "text/plain": [
       "2"
      ]
     },
     "execution_count": 88,
     "metadata": {},
     "output_type": "execute_result"
    }
   ],
   "source": [
    "def longestSubStr(s):\n",
    "    i = 0\n",
    "    j = 0\n",
    "    hashMap = {}\n",
    "    op = 0\n",
    "    \n",
    "    while j < len(s):\n",
    "        \n",
    "        if s[j] not in hashMap:\n",
    "            op = max(op, j - i + 1)\n",
    "            \n",
    "        else:\n",
    "            prevIndex = hashMap[s[j]]\n",
    "            #if prevIndex is in the current range\n",
    "            # prev index is greater than\n",
    "            if prevIndex >= i:\n",
    "                i = prevIndex + 1\n",
    "            else:\n",
    "                op = max(op, j - i + 1)\n",
    "\n",
    "        hashMap[s[j]] = j\n",
    "        j += 1\n",
    "        \n",
    "    return op\n",
    "\n",
    "\n",
    "longestSubStr('abbbb')\n",
    "                \n",
    "            \n",
    "            "
   ]
  },
  {
   "cell_type": "markdown",
   "id": "ce106357",
   "metadata": {},
   "source": [
    "### Longest substring with same letters after replacement"
   ]
  },
  {
   "cell_type": "code",
   "execution_count": 90,
   "id": "641a2857",
   "metadata": {},
   "outputs": [
    {
     "data": {
      "text/plain": [
       "5"
      ]
     },
     "execution_count": 90,
     "metadata": {},
     "output_type": "execute_result"
    }
   ],
   "source": [
    "def characterReplacement(s, k):\n",
    "    \n",
    "    win_start, max_length, max_repeat_letter_count = 0, 0, 0\n",
    "    freq_map = {}\n",
    "    \n",
    "    for win_end in range(len(s)):\n",
    "        \n",
    "        freq_map[s[win_end]] = freq_map.get(s[win_end], 0) + 1\n",
    "        max_repeat_letter_count = max(max_repeat_letter_count, freq_map[s[win_end]])\n",
    "        \n",
    "        # ok now we have one element wihich is repeating max_repeat_letter_count times and remaining can be replaced (most k el)\n",
    "        # in the current window if remaining elelment count is greater than k , then we have to shrink the window\n",
    "        if (win_end - win_start + 1 - max_repeat_letter_count) > k:\n",
    "            freq_map[s[win_start]] -= 1\n",
    "            win_start += 1\n",
    "            \n",
    "        max_length = max(max_length, win_end - win_start + 1)\n",
    "    return max_length\n",
    "\n",
    "\n",
    "characterReplacement('aabccbb', 2)"
   ]
  },
  {
   "cell_type": "markdown",
   "id": "371394ff",
   "metadata": {},
   "source": [
    "### Longest subarray with Ones after Replacement"
   ]
  },
  {
   "cell_type": "code",
   "execution_count": 93,
   "id": "636b9625",
   "metadata": {},
   "outputs": [
    {
     "data": {
      "text/plain": [
       "10"
      ]
     },
     "execution_count": 93,
     "metadata": {},
     "output_type": "execute_result"
    }
   ],
   "source": [
    "def longestOnes(arr, k):\n",
    "    maxOnes = 0\n",
    "    win_start, max_length = 0, 0\n",
    "    freq_map = {}\n",
    "\n",
    "    for win_end in range(len(arr)):\n",
    "\n",
    "        freq_map[arr[win_end]] = freq_map.get(arr[win_end], 0) + 1\n",
    "        maxOnes = max(maxOnes, freq_map.get(1, 0))\n",
    "\n",
    "        if (win_end - win_start + 1 - maxOnes) > k:\n",
    "            freq_map[arr[win_start]] -= 1\n",
    "            win_start += 1\n",
    "        max_length = max(max_length, win_end - win_start + 1)\n",
    "    return max_length\n",
    "\n",
    "\n",
    "nums = [0,0,1,1,0,0,1,1,1,0,1,1,0,0,0,1,1,1,1]\n",
    "k = 3\n",
    "longestOnes(nums, k)\n"
   ]
  },
  {
   "cell_type": "markdown",
   "id": "e94cc6f5",
   "metadata": {},
   "source": [
    "### 1493. Longest Subarray of 1's After Deleting One Element\n",
    "#Maintain a sliding window where there is at most one zero on it."
   ]
  },
  {
   "cell_type": "code",
   "execution_count": 95,
   "id": "e1053caa",
   "metadata": {},
   "outputs": [
    {
     "data": {
      "text/plain": [
       "3"
      ]
     },
     "execution_count": 95,
     "metadata": {},
     "output_type": "execute_result"
    }
   ],
   "source": [
    "def longestSubarray(arr):\n",
    "    maxOnes = 0\n",
    "    win_start, max_length = 0, 0\n",
    "    freq_map = {}\n",
    "\n",
    "    for win_end in range(len(arr)):\n",
    "\n",
    "        freq_map[arr[win_end]] = freq_map.get(arr[win_end], 0) + 1\n",
    "        maxOnes = max(maxOnes, freq_map.get(1, 0))\n",
    "\n",
    "        if (win_end - win_start + 1 - maxOnes) > 1:\n",
    "            freq_map[arr[win_start]] -= 1\n",
    "            win_start += 1\n",
    "        max_length = max(max_length, win_end - win_start + 1)\n",
    "    return max_length - 1\n",
    "\n",
    "nums = [1,1,0,1]\n",
    "\n",
    "longestSubarray(nums)"
   ]
  },
  {
   "cell_type": "markdown",
   "id": "cee6439f",
   "metadata": {},
   "source": [
    "### Given a string and a pattern, find out if the string contains any permutation of the pattern\n"
   ]
  },
  {
   "cell_type": "code",
   "execution_count": 168,
   "id": "0178a3ce",
   "metadata": {},
   "outputs": [],
   "source": [
    "def checkInclusion(pattern, string):\n",
    "\n",
    "    freq_map = {}\n",
    "    \n",
    "    k = len(pattern)\n",
    "    for i in range(k):\n",
    "        freq_map[pattern[i]] = freq_map.get(pattern[i], 0) + 1\n",
    "    \n",
    "    dist_count = len(freq_map)\n",
    "    \n",
    "    i = 0\n",
    "    j = 0\n",
    "    \n",
    "    while j < len(string):\n",
    "        \n",
    "        if string[j] in freq_map:\n",
    "            freq_map[string[j]] -= 1\n",
    "            \n",
    "            if freq_map[string[j]] == 0:\n",
    "                dist_count -= 1\n",
    "        if (j - i + 1) < k:\n",
    "            j += 1\n",
    "\n",
    "        elif (j - i + 1) >= k:\n",
    "            if dist_count == 0:\n",
    "                return True\n",
    "            if string[i] in freq_map:\n",
    "                freq_map[string[i]] += 1\n",
    "            \n",
    "                if freq_map[string[i]] == 1:\n",
    "                    dist_count += 1\n",
    "            i += 1\n",
    "            j += 1\n",
    "    return False\n",
    "\n",
    "# s1 = 'abc'\n",
    "# s2 = 'oidbcaf' \n",
    "s1 = \"adc\"\n",
    "s2 = \"dcda\"\n",
    "checkInclusion(s1, s2)\n",
    "            \n",
    "            \n",
    "def checkInclusion(pattern, string):\n",
    "\n",
    "    freq_map = {}\n",
    "    win_start = 0\n",
    "    k = len(pattern)\n",
    "    for i in range(k):\n",
    "        freq_map[pattern[i]] = freq_map.get(pattern[i], 0) + 1\n",
    "\n",
    "    dist_count = len(freq_map)\n",
    "\n",
    "    i = 0\n",
    "    j = 0\n",
    "\n",
    "    for win_end in range(len(string)):\n",
    "\n",
    "        leftChar = string[win_end]\n",
    "\n",
    "        if leftChar in freq_map:\n",
    "            freq_map[leftChar] -= 1\n",
    "\n",
    "            if freq_map[leftChar] == 0:\n",
    "                dist_count -= 1\n",
    "\n",
    "        if (win_end - win_start + 1) >= k:\n",
    "            if dist_count == 0:\n",
    "                return True\n",
    "            rightChar = string[win_start]\n",
    "\n",
    "            if rightChar in freq_map:\n",
    "                freq_map[rightChar] += 1\n",
    "\n",
    "                if freq_map[rightChar] == 1:\n",
    "                    dist_count += 1\n",
    "\n",
    "            win_start += 1\n",
    "    return False\n",
    "\n",
    "    \n",
    "\n",
    "        \n",
    "        "
   ]
  },
  {
   "cell_type": "markdown",
   "id": "60ed5968",
   "metadata": {},
   "source": [
    "###  438. Find All Anagrams in a String"
   ]
  },
  {
   "cell_type": "code",
   "execution_count": 169,
   "id": "49c5fc13",
   "metadata": {},
   "outputs": [
    {
     "data": {
      "text/plain": [
       "[0, 6]"
      ]
     },
     "execution_count": 169,
     "metadata": {},
     "output_type": "execute_result"
    }
   ],
   "source": [
    "def findAnagrams(s, p):\n",
    "    freq_map = {}\n",
    "\n",
    "    k = len(p)\n",
    "    for i in range(k):\n",
    "        freq_map[p[i]] = freq_map.get(p[i], 0) + 1\n",
    "\n",
    "    dist_count = len(freq_map)\n",
    "\n",
    "    i = 0\n",
    "    j = 0\n",
    "    result = []\n",
    "\n",
    "    while j < len(s):\n",
    "\n",
    "        if s[j] in freq_map:\n",
    "            freq_map[s[j]] -= 1\n",
    "\n",
    "            if freq_map[s[j]] == 0:\n",
    "                dist_count -= 1\n",
    "        if (j - i + 1) < k:\n",
    "            j += 1\n",
    "\n",
    "        elif (j - i + 1) >= k:\n",
    "            if dist_count == 0:\n",
    "                result.append(i)\n",
    "            if s[i] in freq_map:\n",
    "                freq_map[s[i]] += 1\n",
    "\n",
    "                if freq_map[s[i]] == 1:\n",
    "                    dist_count += 1\n",
    "            i += 1\n",
    "            j += 1\n",
    "    return result\n",
    "\n",
    "# Input: s = \"cbaebabacd\", p = \"abc\"\n",
    "# Output: [0,6]\n",
    "# Explanation:\n",
    "# The substring with start index = 0 is \"cba\", which is an anagram of \"abc\".\n",
    "# The substring with start index = 6 is \"bac\", which is an anagram of \"abc\".\n",
    "s = \"cbaebabacd\"\n",
    "p = \"abc\"\n",
    "findAnagrams(s, p)"
   ]
  },
  {
   "cell_type": "markdown",
   "id": "1e8736d9",
   "metadata": {},
   "source": [
    "### 76. Minimum Window Substring"
   ]
  },
  {
   "cell_type": "code",
   "execution_count": 194,
   "id": "5b9d1df9",
   "metadata": {},
   "outputs": [
    {
     "data": {
      "text/plain": [
       "'BANC'"
      ]
     },
     "execution_count": 194,
     "metadata": {},
     "output_type": "execute_result"
    }
   ],
   "source": [
    "def minWindow(s, p):\n",
    "    if len(p) > len(s):\n",
    "        return ''\n",
    "    freq_map = {}\n",
    "\n",
    "    k = len(p)\n",
    "    for i in range(k):\n",
    "        freq_map[p[i]] = freq_map.get(p[i], 0) + 1\n",
    "\n",
    "    dist_count = len(freq_map)\n",
    "\n",
    "    i = 0\n",
    "    j = 0\n",
    "    result = float('inf')\n",
    "    f = ''\n",
    "    while j < len(s):\n",
    "\n",
    "        if s[j] in freq_map:\n",
    "            freq_map[s[j]] -= 1\n",
    "\n",
    "            if freq_map[s[j]] == 0:\n",
    "                dist_count -= 1\n",
    "                \n",
    "#         this means we have a substring will all the match letters, now start shrinking the window from the begining      \n",
    "        while dist_count == 0:\n",
    "            ans = s[i: j + 1]\n",
    "            if len(ans) < result:\n",
    "                result = len(ans)\n",
    "                f = ans\n",
    "            # check if any of the harecter changes the disct count\n",
    "            # if it chnages then stop\n",
    "            \n",
    "            if s[i] in freq_map:\n",
    "                freq_map[s[i]] += 1\n",
    "\n",
    "                if freq_map[s[i]] > 0:\n",
    "                    dist_count += 1\n",
    "            i += 1\n",
    "        j += 1\n",
    "            \n",
    "    return f\n",
    "\n",
    "s = \"ADOBECODEBANC\"\n",
    "t = \"ABC\"\n",
    "minWindow(s, t)\n",
    "# Output: \"BANC\""
   ]
  },
  {
   "cell_type": "markdown",
   "id": "fecf135f",
   "metadata": {},
   "source": [
    "### Minimum swaps and K together"
   ]
  },
  {
   "cell_type": "code",
   "execution_count": 1,
   "id": "89a6977b",
   "metadata": {},
   "outputs": [
    {
     "name": "stdout",
     "output_type": "stream",
     "text": [
      "ANSWER --- 1\n"
     ]
    }
   ],
   "source": [
    "def minSwapOptimal(arr, n, k):\n",
    "    \n",
    "    goodCount = 0\n",
    "    for el in arr:\n",
    "        if el <= k:\n",
    "            goodCount += 1\n",
    "    \n",
    "    badCount = 0\n",
    "    for el in arr[:goodCount]:\n",
    "        if el > k:\n",
    "            badCount += 1\n",
    "            \n",
    "    ans = badCount\n",
    "    i = 0\n",
    "    j = goodCount\n",
    "    \n",
    "    while j < n:\n",
    "        \n",
    "        if arr[i] > k:\n",
    "            badCount -= 1\n",
    "            \n",
    "        if arr[j] > k:\n",
    "            badCount += 1\n",
    "        \n",
    "        ans = min(ans, badCount)\n",
    "        j += 1\n",
    "        i += 1\n",
    "        \n",
    "    return ans\n",
    "#gives TLE\n",
    "# def approach2(arr1, arr2):\n",
    "    # count = 0\n",
    "    # for el in arr:\n",
    "    #     if el <= k:\n",
    "    #         count += 1\n",
    "\n",
    "    \n",
    "    # i = j = 0\n",
    "    # temp = []\n",
    "    # ans = float('inf')\n",
    "    \n",
    "    # while j < n:\n",
    "        \n",
    "    #     temp.append(arr[j])\n",
    "        \n",
    "    #     if (j - i + 1) < count:\n",
    "    #         j +=1\n",
    "            \n",
    "    #     elif (j - i + 1) == count:\n",
    "            \n",
    "    #         badCount = 0\n",
    "            \n",
    "    #         for el in temp:\n",
    "    #             if el > k:\n",
    "    #                 badCount += 1\n",
    "            \n",
    "    #         ans = min(ans, badCount)\n",
    "    #         i += 1\n",
    "    #         temp.pop(0)\n",
    "    #         j += 1\n",
    "    #     else:\n",
    "    #         i += 1\n",
    "    #         temp.pop(0)\n",
    "    #         j += 1\n",
    "    # if ans == float('inf'):\n",
    "    #     return 0\n",
    "            \n",
    "    # return ans\n",
    "# arr = [2, 1, 5, 6, 3]\n",
    "# k = 3\n",
    "# arr = [2, 7, 9, 5, 8, 7, 4]\n",
    "# k = 6\n",
    "arr = [10, 12, 20, 20, 5, 19, 19, 12, 1, 20, 1]\n",
    "k = 1\n",
    "\n",
    "print('ANSWER ---' , minSwapOptimal(arr, len(arr), k))"
   ]
  },
  {
   "cell_type": "code",
   "execution_count": 11,
   "id": "5f5c14dd",
   "metadata": {},
   "outputs": [
    {
     "name": "stdout",
     "output_type": "stream",
     "text": [
      "['AGCTG']\n"
     ]
    }
   ],
   "source": [
    "\n",
    "def find_repeated_sequences(s, k):\n",
    "    if len(s) < k:\n",
    "        return []\n",
    "\n",
    "    # Replace this placeholder return statement with your code\n",
    "    tmp = ''\n",
    "    hashSet = set()\n",
    "    ans  = set()\n",
    "    for i in range(len(s) - k + 1):\n",
    "        seq = s[i: i + k]\n",
    "#         tmp = '' ## DON\"T need t recompute this\n",
    "#         for j in range(i, i + k):\n",
    "#             tmp += s[j]\n",
    "#         print(tmp)\n",
    "        if seq in hashSet:\n",
    "            ans.add(seq)\n",
    "        else:\n",
    "            hashSet.add(seq)\n",
    "        \n",
    "    return list(ans)\n",
    "\n",
    "s = \"AGCTGAAAGCTTAGCTG\"\n",
    "k = 5\n",
    "print(find_repeated_sequences(s, k))\n"
   ]
  },
  {
   "cell_type": "markdown",
   "id": "b2b78e56",
   "metadata": {},
   "source": [
    "### #Find maximum in sliding widow if size w"
   ]
  },
  {
   "cell_type": "code",
   "execution_count": 66,
   "id": "2ba8b241",
   "metadata": {},
   "outputs": [
    {
     "name": "stdout",
     "output_type": "stream",
     "text": [
      "[3, 3, 2, 5]\n"
     ]
    }
   ],
   "source": [
    "\n",
    "def find_max_sliding_window(nums, w):\n",
    "    \n",
    "    n = len(nums)\n",
    "    if w >= n:\n",
    "        return [max(nums)]\n",
    "    ans = []\n",
    "    for i in range(n - w + 1):\n",
    "        maxVal = float('-inf')\n",
    "        tmp  = nums[i: i  + w]\n",
    "\n",
    "        ans.append(max(tmp))\n",
    "    return ans\n",
    "\n",
    "#This will delete all the elements from the current window that are smaller than the current element(ind)\n",
    "def cleanUp(ind, curr_window, nums, w):\n",
    "    # remove all the indexes from current_window whose corresponding values are smaller than or equal to the current element\n",
    "    while curr_window and nums[curr_window[-1]] <= nums[ind]:\n",
    "            curr_window.pop()\n",
    "\n",
    "\n",
    "from collections import deque\n",
    "def optimalMaxSlidingWindow(nums, w):\n",
    "    \n",
    "    if len(nums) <= w:\n",
    "        return [max(nums)]\n",
    "    \n",
    "    curr_window = deque([]) #to store the maximum in curr window\n",
    "    output = []\n",
    "    for i in range(w):\n",
    "        \n",
    "        cleanUp(i, curr_window, nums, w)\n",
    "        \n",
    "        curr_window.append(i)\n",
    "        \n",
    "    output.append(nums[curr_window[0]])\n",
    "    \n",
    "    for i in range(w, len(nums)):\n",
    "        \n",
    "        cleanUp(i, curr_window, nums, w)\n",
    "        #check if the staring index of curr_window is fall in the range\n",
    " \n",
    "        if len(curr_window):\n",
    "            if curr_window[0] <= i - w:\n",
    "                curr_window.popleft()\n",
    "        \n",
    "        curr_window.append(i)\n",
    "        output.append(nums[curr_window[0]])\n",
    "        \n",
    "    return output\n",
    "\n",
    "nums = [1,3,-1,-3,5,3,6,7]\n",
    "\n",
    "w = 3\n",
    "\n",
    "nums = [1,3,1,2,0,5]\n",
    "w = 3\n",
    "\n",
    "\n",
    "# print(find_max_sliding_window(nums, w))\n",
    "print(optimalMaxSlidingWindow(nums, w))"
   ]
  },
  {
   "cell_type": "markdown",
   "id": "853de1bd",
   "metadata": {},
   "source": [
    "### # Minimum Window Subsequence"
   ]
  },
  {
   "cell_type": "code",
   "execution_count": 78,
   "id": "e8715dd0",
   "metadata": {},
   "outputs": [
    {
     "name": "stdout",
     "output_type": "stream",
     "text": [
      "bcde\n"
     ]
    }
   ],
   "source": [
    "\n",
    "\n",
    "# Iterate over str1 until all the characters of str2 have been found in the same order \n",
    "# and mark the end of the current window.\n",
    "\n",
    "# To find the smallest subsequence, iterate backward over str1 until all the characters of str2\n",
    "# have been found in the reverse order, and mark the start of the current window.\n",
    "\n",
    "# Update the minimum window subsequence if the current window is smaller than the shortest subsequence found so far.\n",
    "\n",
    "# Repeat the process, starting every time from the second character of the current window,\n",
    "# until the end of str1 has been reached.\n",
    "\n",
    "#Finally, return the minimum window subsequence.\n",
    "\n",
    "def min_window(str1, str2):\n",
    "    \n",
    "    # Replace this placeholder return statement with your code\n",
    "    low = 0\n",
    "    j = 0\n",
    "    n1 = len(str1)\n",
    "    n2 = len(str2)\n",
    "    tmp = float('inf')\n",
    "    ans = ''\n",
    "    \n",
    "    while low < n1:\n",
    "        \n",
    "        i = low\n",
    "        j = 0\n",
    "        \n",
    "        while i < n1 and j < n2:\n",
    "            \n",
    "            if str1[i] == str2[j]:\n",
    "                i += 1\n",
    "                j += 1\n",
    "            else:\n",
    "                i += 1\n",
    "                \n",
    "        win_end = float('inf')       \n",
    "        if j == n2:\n",
    "            win_end = i\n",
    "            \n",
    "        \n",
    "        while i and j:\n",
    "            if str1[i - 1] == str2[j - 1]:\n",
    "                i -= 1\n",
    "                j -= 1\n",
    "            else:\n",
    "                i -= 1\n",
    "                \n",
    "        win_start = float('-inf')\n",
    "        if j == 0:\n",
    "            win_start = i\n",
    "            \n",
    "        if win_start != float('-inf') and win_end != float('inf'):\n",
    "            subStr = str1[win_start: win_end]\n",
    "            if len(subStr) < tmp:\n",
    "                tmp = len(subStr)\n",
    "                ans = subStr\n",
    "                \n",
    "        low = win_start + 1\n",
    "\n",
    "    return ans\n",
    "\n",
    "str1 = 'abcdebdde'\n",
    "str2 = 'bde'\n",
    "\n",
    "# str1 = \"abcdbebe\"\n",
    "# str2 = \"bbe\"\n",
    "print(min_window(str1, str2))"
   ]
  },
  {
   "cell_type": "markdown",
   "id": "21b1a426",
   "metadata": {},
   "source": [
    "### # Longest Repeating Character Replacement"
   ]
  },
  {
   "cell_type": "code",
   "execution_count": 100,
   "id": "b905d810",
   "metadata": {},
   "outputs": [
    {
     "name": "stdout",
     "output_type": "stream",
     "text": [
      "6\n"
     ]
    }
   ],
   "source": [
    "\n",
    "def longest_repeating_character_replacement(s, k):\n",
    "    # initialize variables\n",
    "    string_length = len(s)\n",
    "    length_of_max_substring = 0\n",
    "    start = 0\n",
    "    char_freq = {}\n",
    "    most_freq_char = 0\n",
    "\n",
    "    # iterate over the input string\n",
    "    for end in range(string_length):\n",
    "        # if the new character is not in the hash map, add it, else increment its frequency\n",
    "        if s[end] not in char_freq:\n",
    "            char_freq[s[end]] = 1\n",
    "        else:\n",
    "            char_freq[s[end]] += 1\n",
    "\n",
    "        # update the most frequent char\n",
    "        most_freq_char = max(most_freq_char, char_freq[s[end]])\n",
    "\n",
    "        # if the number of replacements in the current window have exceeded the limit, slide the window\n",
    "        if end - start + 1 - most_freq_char > k:\n",
    "            char_freq[s[start]] -= 1\n",
    "            start += 1\n",
    "        \n",
    "        # if this window is the longest so far, update the length of max substring\n",
    "        length_of_max_substring = max(end - start + 1, length_of_max_substring)\n",
    "    return length_of_max_substring\n",
    "\n",
    "s = 'aabbccbb'\n",
    "k = 2\n",
    "\n",
    "s = \"aaacbbbaabab\"\n",
    "k = 2\n",
    "print(longest_repeating_character_replacement(s, k))"
   ]
  },
  {
   "cell_type": "code",
   "execution_count": 135,
   "id": "a393ece4",
   "metadata": {},
   "outputs": [
    {
     "name": "stdout",
     "output_type": "stream",
     "text": [
      "cwae\n"
     ]
    }
   ],
   "source": [
    "## Minimum Window Substring\n",
    "\n",
    "def min_window(s, t):\n",
    "    if len(t) > len(s):\n",
    "        return \"\"\n",
    "    freqMap = {}\n",
    "    window = {}\n",
    "\n",
    "    for char in t:\n",
    "        freqMap[char] = freqMap.get(char, 0) + 1\n",
    "        window[char] = 0\n",
    "\n",
    "\n",
    "    requiredCount = len(freqMap)\n",
    "    currentCount = 0\n",
    "\n",
    "    winStart = 0\n",
    "    res = [float('-inf'), float('inf')]\n",
    "    ans = ''\n",
    "    minLen = float('inf')\n",
    "    \n",
    "\n",
    "    for winEnd in range(len(s)):\n",
    "\n",
    "        if s[winEnd] in freqMap: #if current element in the freqMap\n",
    "            window[s[winEnd]] += 1 #increment its freq in the window\n",
    "\n",
    "            if window[s[winEnd]] == freqMap[s[winEnd]]: #if the freq of element is same as what is required\n",
    "                currentCount += 1 # currentCOunt should also be increased\n",
    " \n",
    "        while currentCount == requiredCount:\n",
    "            res[0] = winStart\n",
    "            res[1] = winEnd\n",
    "            tmp = s[res[0]: res[1] +1]\n",
    "            if len(tmp) < minLen:\n",
    "                minLen = len(tmp)\n",
    "                ans = tmp\n",
    "            if s[winStart] in freqMap: # while shrinking from the start if the start element in the freqMap\n",
    "                window[s[winStart]] -= 1 # decrease its frequency \n",
    "\n",
    "                if window[s[winStart]] < freqMap[s[winStart]]: #if the freq of element is not same as what is required\n",
    "                    currentCount -= 1 # currentCOunt should also be decreased\n",
    "\n",
    "            winStart += 1\n",
    "\n",
    "    if res[0] == float('-inf') and res[1] != float('inf'):\n",
    "        return s[:res[1] + 1]\n",
    "        \n",
    "    return ans \n",
    "                   \n",
    "s = \"ABAACBBA\"\n",
    "t = \"ABC\"\n",
    "\n",
    "s = \"ADOBECODEBANC\"\n",
    "t = \"ABC\"\n",
    "\n",
    "s = \"cabwefgewcwaefgcf\"\n",
    "t = \"cae\"\n",
    "print(min_window(s, t))\n",
    "        \n",
    "                \n",
    "        \n",
    "    \n",
    "    "
   ]
  },
  {
   "cell_type": "markdown",
   "id": "c8fab5a7",
   "metadata": {},
   "source": [
    "### 2831. Find the Longest Equal Subarray"
   ]
  },
  {
   "cell_type": "code",
   "execution_count": 136,
   "id": "cbdf0c3b",
   "metadata": {},
   "outputs": [],
   "source": [
    "\n",
    "def longestEqualSubarray(self, s, k: int) -> int:\n",
    "    win_start = 0\n",
    "    longest = 0\n",
    "    most_freq_char = 0\n",
    "    freqMap = {}\n",
    "    if len(s) == 1:\n",
    "        return 1\n",
    "\n",
    "    for win_end in range(len(s)):\n",
    "\n",
    "        freqMap[s[win_end]] = freqMap.get(s[win_end], 0) + 1\n",
    "\n",
    "        most_freq_char = max(most_freq_char, freqMap[s[win_end]])\n",
    "\n",
    "        #Replacement needed is greater than k\n",
    "        if (win_end - win_start + 1) - most_freq_char > k:\n",
    "            freqMap[s[win_start]] -= 1\n",
    "            win_start += 1\n",
    "\n",
    "        longest = max(longest, most_freq_char)\n",
    "\n",
    "    return longest\n"
   ]
  },
  {
   "cell_type": "markdown",
   "id": "46218986",
   "metadata": {},
   "source": [
    "### 76. Minimum Window Substring (HARD)"
   ]
  },
  {
   "cell_type": "code",
   "execution_count": 137,
   "id": "675fcdb3",
   "metadata": {},
   "outputs": [],
   "source": [
    "def minWindow(self, str1: str, str2: str) -> str:\n",
    "        if len(str1) < len(str2):\n",
    "            return \"\"\n",
    "\n",
    "        freqMap = {}\n",
    "        currWindow = {}\n",
    "\n",
    "        for char in str2:\n",
    "            freqMap[char] = freqMap.get(char, 0) + 1\n",
    "            currWindow[char] = 0\n",
    "\n",
    "        requiredCount = len(freqMap)\n",
    "        currentCount = 0\n",
    "\n",
    "        winStart = 0\n",
    "        minLen = float('inf')\n",
    "        ans = ''\n",
    "\n",
    "        for winEnd in range(len(str1)):\n",
    "\n",
    "            if str1[winEnd] in freqMap:\n",
    "                currWindow[str1[winEnd]] += 1\n",
    "\n",
    "                if currWindow[str1[winEnd]] == freqMap[str1[winEnd]]:\n",
    "                    currentCount += 1\n",
    "            \n",
    "            while currentCount == requiredCount:\n",
    "\n",
    "                #Calculate Result\n",
    "                if (winEnd - winStart + 1) < minLen:\n",
    "                    ans = str1[winStart: winEnd + 1]\n",
    "                    minLen = len(ans)\n",
    "\n",
    "\n",
    "\n",
    "                if str1[winStart] in freqMap:\n",
    "                    currWindow[str1[winStart]] -= 1\n",
    "\n",
    "                    if currWindow[str1[winStart]] < freqMap[str1[winStart]]:\n",
    "                        currentCount -= 1\n",
    "                \n",
    "                winStart += 1\n",
    "        \n",
    "        return ans"
   ]
  },
  {
   "cell_type": "markdown",
   "id": "3e443d87",
   "metadata": {},
   "source": [
    "### Longest Substring Without Repeating Characters\n"
   ]
  },
  {
   "cell_type": "code",
   "execution_count": 138,
   "id": "da56a434",
   "metadata": {},
   "outputs": [],
   "source": [
    "def lengthOfLongestSubstring(self, s: str) -> int:\n",
    "\n",
    "    hashMap = {}\n",
    "    winStart = 0\n",
    "    maxLen = 0\n",
    "    for winEnd in range(len(s)):\n",
    "\n",
    "        if s[winEnd] in hashMap:\n",
    "            prevInd = hashMap[s[winEnd]]\n",
    "            if prevInd >= winStart:\n",
    "                winStart = prevInd + 1\n",
    "        maxLen = max(maxLen, winEnd - winStart + 1)\n",
    "        hashMap[s[winEnd]] = winEnd\n",
    "\n",
    "    return maxLen"
   ]
  },
  {
   "cell_type": "markdown",
   "id": "a31eca13",
   "metadata": {},
   "source": [
    "### 209. Minimum Size Subarray Sum\n"
   ]
  },
  {
   "cell_type": "code",
   "execution_count": 140,
   "id": "70d1cddf",
   "metadata": {},
   "outputs": [],
   "source": [
    "    def minSubArrayLen(self, target: int, arr) -> int:\n",
    "        winStart = 0\n",
    "        lsum = 0\n",
    "        minLen = float('inf')\n",
    "        for winEnd in range(len(arr)):\n",
    "\n",
    "            lsum += arr[winEnd]\n",
    "\n",
    "            while lsum >= target and winStart < len(arr):\n",
    "\n",
    "                if (winEnd - winStart + 1) < minLen:\n",
    "                    minLen = (winEnd - winStart + 1)\n",
    "                \n",
    "                lsum -= arr[winStart]\n",
    "                winStart += 1\n",
    "\n",
    "        return minLen if minLen != float('inf') else 0"
   ]
  },
  {
   "cell_type": "code",
   "execution_count": null,
   "id": "f41d7421",
   "metadata": {},
   "outputs": [],
   "source": []
  }
 ],
 "metadata": {
  "kernelspec": {
   "display_name": "Python 3 (ipykernel)",
   "language": "python",
   "name": "python3"
  },
  "language_info": {
   "codemirror_mode": {
    "name": "ipython",
    "version": 3
   },
   "file_extension": ".py",
   "mimetype": "text/x-python",
   "name": "python",
   "nbconvert_exporter": "python",
   "pygments_lexer": "ipython3",
   "version": "3.10.0"
  }
 },
 "nbformat": 4,
 "nbformat_minor": 5
}
