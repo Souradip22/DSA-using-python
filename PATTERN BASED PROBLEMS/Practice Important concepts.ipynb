{
 "cells": [
  {
   "cell_type": "markdown",
   "id": "18e26b81",
   "metadata": {},
   "source": [
    "### Pair sum in Array\n",
    "```\n",
    "\n",
    "\n",
    "```"
   ]
  },
  {
   "cell_type": "code",
   "execution_count": 1,
   "id": "e344806e",
   "metadata": {},
   "outputs": [
    {
     "data": {
      "text/plain": [
       "3"
      ]
     },
     "execution_count": 1,
     "metadata": {},
     "output_type": "execute_result"
    }
   ],
   "source": [
    "def pairSum(nums, target):\n",
    "    nums.sort()\n",
    "    \n",
    "    i = 0\n",
    "    j = len(nums) - 1\n",
    "    count = 0\n",
    "    \n",
    "    while i < j:\n",
    "     \n",
    "        lsum = nums[i] + nums[j]\n",
    "        \n",
    "        if lsum == target:\n",
    "            elAtStart = nums[i]\n",
    "            elAtEnd = nums[j]\n",
    "            # to handle the [2,2,2,2,2] with target 4 case, \n",
    "            # after sort all 2's together\n",
    "            if elAtStart == elAtEnd:\n",
    "                totalElementsFromStartToEnd = (j - i) + 1\n",
    "                count += (totalElementsFromStartToEnd * (totalElementsFromStartToEnd - 1) // 2)\n",
    "                return count\n",
    "            \n",
    "            tempStartIndex = i + 1\n",
    "            tempEndIndex = j - 1\n",
    "            \n",
    "            while tempStartIndex <= tempEndIndex and nums[tempStartIndex] == elAtStart:\n",
    "                tempStartIndex += 1\n",
    "\n",
    "            while tempEndIndex >= tempStartIndex and nums[tempEndIndex] == elAtEnd:\n",
    "                tempEndIndex -= 1  \n",
    "            \n",
    "            totalDupElsFromStart = (tempStartIndex - i)\n",
    "            totalDupElsFromEnd = j - tempEndIndex\n",
    "            \n",
    "            count += (totalDupElsFromStart * totalDupElsFromEnd)\n",
    "            \n",
    "            i = tempStartIndex\n",
    "            j = tempEndIndex\n",
    "\n",
    "        elif lsum < target:\n",
    "            i += 1\n",
    "        else:\n",
    "            j -= 1\n",
    "    return count\n",
    "    \n",
    "    \n",
    "\n",
    "# nums = [1,3,3,4,5,8,9,9,9,15]\n",
    "# target = 12\n",
    "# nums = [2,2,2,2,2]\n",
    "# target = 4\n",
    "\n",
    "nums = [1,1,1,13,3,2,2,2,2,2]\n",
    "target = 2\n",
    "\n",
    "# nums = [-8, -6, -4, 1, 2, 4, 6, 15]\n",
    "# target = 0\n",
    "pairSum(nums, target)"
   ]
  },
  {
   "cell_type": "markdown",
   "id": "defcba22",
   "metadata": {},
   "source": [
    "### Spiral Matrix Traversal\n"
   ]
  },
  {
   "cell_type": "code",
   "execution_count": 66,
   "id": "9c6f3b10",
   "metadata": {},
   "outputs": [
    {
     "name": "stdout",
     "output_type": "stream",
     "text": [
      "1\n",
      "2\n",
      "3\n",
      "6\n",
      "9\n",
      "8\n",
      "7\n",
      "4\n",
      "5\n"
     ]
    }
   ],
   "source": [
    "def traverseSpiralMatrix(matrix):\n",
    "    \n",
    "    top = 0\n",
    "    bottom = len(matrix) - 1\n",
    "    left = 0\n",
    "    right = len(matrix[0]) - 1\n",
    "    direction = 0\n",
    "    \n",
    "    while top <= bottom and left <= right:\n",
    "        \n",
    "        if direction == 0:\n",
    "            for i in range(top, right + 1):\n",
    "                print(matrix[top][i])\n",
    "            top += 1\n",
    "            \n",
    "        if direction == 1:\n",
    "            for i in range(top, bottom + 1):\n",
    "                print(matrix[i][right])\n",
    "            right -= 1\n",
    "            \n",
    "        if direction == 2:\n",
    "            for i in range(right, left - 1, -1):\n",
    "                print(matrix[bottom][i])\n",
    "            bottom -= 1\n",
    "            \n",
    "        if direction == 3:\n",
    "            for i in range(bottom, top - 1, -1 ):\n",
    "                print(matrix[i][left])\n",
    "            left += 1\n",
    "            \n",
    "        direction = ( direction + 1 ) % 4\n",
    "    \n",
    "matrix = [\n",
    "    [1, 2, 3],\n",
    "    [4, 5, 6],\n",
    "    [7, 8, 9]\n",
    "]\n",
    "\n",
    "traverseSpiralMatrix(matrix)"
   ]
  },
  {
   "cell_type": "markdown",
   "id": "44d4ee39",
   "metadata": {},
   "source": [
    "### Search in 2D matrix\n"
   ]
  },
  {
   "cell_type": "code",
   "execution_count": 108,
   "id": "946b7a56",
   "metadata": {},
   "outputs": [
    {
     "data": {
      "text/plain": [
       "True"
      ]
     },
     "execution_count": 108,
     "metadata": {},
     "output_type": "execute_result"
    }
   ],
   "source": [
    "def searchInMatrix(matrix, target):\n",
    "    r = len(matrix)\n",
    "    c = len(matrix[0])\n",
    "    \n",
    "    l = 0\n",
    "    h = (r * c) - 1\n",
    "\n",
    "    while l <= h:\n",
    "        mid = (l + h) // 2\n",
    "        i = mid // c\n",
    "        j = mid % c\n",
    "\n",
    "        if matrix[i][j] == target:\n",
    "            return True\n",
    "        elif matrix[i][j] < target:\n",
    "            l = mid + 1\n",
    "        else:\n",
    "            h = mid - 1\n",
    "    return -1\n",
    "            \n",
    "    \n",
    "\n",
    "\n",
    "matrix = [\n",
    "    [1, 3, 5, 7],\n",
    "    [10, 11, 16, 20],\n",
    "    [23, 30, 34, 50]\n",
    "]\n",
    "target = 10\n",
    "\n",
    "searchInMatrix(matrix, target)"
   ]
  },
  {
   "cell_type": "markdown",
   "id": "ce5e634c",
   "metadata": {},
   "source": [
    "### Search in 2d matrix (2 pointer approach)"
   ]
  },
  {
   "cell_type": "code",
   "execution_count": 7,
   "id": "6810b118",
   "metadata": {},
   "outputs": [
    {
     "data": {
      "text/plain": [
       "True"
      ]
     },
     "execution_count": 7,
     "metadata": {},
     "output_type": "execute_result"
    }
   ],
   "source": [
    "def searchInMatrixPointer(matrix, target):\n",
    "    r = len(matrix)\n",
    "    c = len(matrix[0])\n",
    "    \n",
    "    i = 0\n",
    "    j = c - 1\n",
    "\n",
    "    while i < r and j >= 0:\n",
    "        if matrix[i][j] == target:\n",
    "            return True\n",
    "        elif matrix[i][j] < target:\n",
    "            i = i + 1\n",
    "        else:\n",
    "            j = j - 1\n",
    "    return -1\n",
    "            \n",
    "    \n",
    "\n",
    "\n",
    "# matrix = [\n",
    "#     [1, 3, 5, 7],\n",
    "#     [10, 11, 16, 20],\n",
    "#     [23, 30, 34, 50]\n",
    "# ]\n",
    "matrix = [\n",
    "    [10, 20, 30, 40],\n",
    "    [11, 21, 36, 43],\n",
    "    [25, 29, 39, 50],\n",
    "    [50, 60, 70, 80]\n",
    "]\n",
    "target = 50\n",
    "\n",
    "searchInMatrixPointer(matrix, target)"
   ]
  },
  {
   "cell_type": "markdown",
   "id": "524c0dcf",
   "metadata": {},
   "source": [
    "## 3 SUM Two pointer method\n"
   ]
  },
  {
   "cell_type": "code",
   "execution_count": 19,
   "id": "566b57ff",
   "metadata": {},
   "outputs": [
    {
     "data": {
      "text/plain": [
       "[[-1, -1, 2], [-1, 0, 1]]"
      ]
     },
     "execution_count": 19,
     "metadata": {},
     "output_type": "execute_result"
    }
   ],
   "source": [
    "def threeSum(nums, target):\n",
    "    # sort the array to bring all the duplicates together\n",
    "    nums.sort()\n",
    "    output = []\n",
    "    \n",
    "    \n",
    "    for i in range(0,len(nums) - 2):\n",
    "        \n",
    "        if i == 0 or (i > 0 and nums[i] != nums[i-1]):\n",
    "            lo = i + 1\n",
    "            hi = len(nums) - 1\n",
    "            # a + b + c = 0; \n",
    "            # b + c = 0 - a\n",
    "            lsum = 0 - nums[i]\n",
    "            while lo < hi:\n",
    "                if nums[lo] + nums[hi] == lsum:\n",
    "                    output.append([nums[i],nums[lo],nums[hi]])\n",
    "                    \n",
    "                    while lo < hi and nums[lo] == nums[lo + 1]:\n",
    "                        lo +=1\n",
    "                    while lo < hi and nums[hi] == nums[hi - 1]:\n",
    "                        hi -= 1\n",
    "                        \n",
    "                    lo += 1\n",
    "                    hi -= 1\n",
    "                    \n",
    "                elif nums[lo] + nums[hi] > lsum:\n",
    "                    hi -= 1\n",
    "                else:\n",
    "                    lo += 1\n",
    "        \n",
    "        \n",
    "    return output\n",
    "                \n",
    "\n",
    "nums = [-1,0,1,2,-1,-4]\n",
    "threeSum(nums, 0)\n",
    "# Output: [[-1,-1,2],[-1,0,1]]"
   ]
  },
  {
   "cell_type": "markdown",
   "id": "bb65f028",
   "metadata": {},
   "source": [
    "## 42. Trapping Rain Water [3 Solutions]"
   ]
  },
  {
   "cell_type": "markdown",
   "id": "86aee259",
   "metadata": {},
   "source": [
    "```\n",
    "Input: height = [0,1,0,2,1,0,1,3,2,1,2,1]\n",
    "Output: 6\n",
    "Explanation: The above elevation map (black section) is represented by array [0,1,0,2,1,0,1,3,2,1,2,1]. In this case, 6 units of rain water (blue section) are being trapped.\n",
    "```"
   ]
  },
  {
   "cell_type": "code",
   "execution_count": 39,
   "id": "f782a951",
   "metadata": {},
   "outputs": [
    {
     "data": {
      "text/plain": [
       "6"
      ]
     },
     "execution_count": 39,
     "metadata": {},
     "output_type": "execute_result"
    }
   ],
   "source": [
    "def trap(height):\n",
    "    \n",
    "    output = 0\n",
    "    \n",
    "    for i in range(0, len(height)):\n",
    "        leftMax = 0\n",
    "        rightMax = 0\n",
    "        \n",
    "        for j in range(i, -1, -1):\n",
    "            if height[j] > leftMax:\n",
    "                leftMax = height[j]\n",
    "                \n",
    "        for k in range(i, len(height)):\n",
    "            if height[k] > rightMax:\n",
    "                rightMax = height[k]\n",
    "        \n",
    "        ithIndexCap = min(leftMax, rightMax) - height[i]\n",
    "        \n",
    "        output += ithIndexCap\n",
    "    return output\n",
    "\n",
    "    \n",
    "height = [0,1,0,2,1,0,1,3,2,1,2,1]\n",
    "trap(height)"
   ]
  },
  {
   "cell_type": "code",
   "execution_count": 44,
   "id": "185a8001",
   "metadata": {},
   "outputs": [
    {
     "data": {
      "text/plain": [
       "6"
      ]
     },
     "execution_count": 44,
     "metadata": {},
     "output_type": "execute_result"
    }
   ],
   "source": [
    "def trap_better(height):\n",
    "    \n",
    "    output = 0\n",
    "    prefix_max = [0] * len(height)\n",
    "    suffix_max = [0] * len(height) \n",
    "    \n",
    "    lmax = 0\n",
    "    for i in range(0, len(height)):\n",
    "        if lmax < height[i]:\n",
    "            lmax = height[i]\n",
    "        prefix_max[i] = lmax\n",
    "    \n",
    "    lmax = 0\n",
    "    for i in range(len(height) - 1, -1, -1):\n",
    "        if lmax < height[i]:\n",
    "            lmax = height[i]\n",
    "        suffix_max[i] = lmax\n",
    "    \n",
    "    \n",
    "    for i in range(0, len(height)):\n",
    "        ithIndexCap = min(prefix_max[i], suffix_max[i]) - height[i]\n",
    "        output += ithIndexCap\n",
    "\n",
    "    return output\n",
    "\n",
    "    \n",
    "height = [0,1,0,2,1,0,1,3,2,1,2,1]\n",
    "trap_better(height)"
   ]
  },
  {
   "cell_type": "code",
   "execution_count": 51,
   "id": "6f8b95f1",
   "metadata": {},
   "outputs": [
    {
     "data": {
      "text/plain": [
       "6"
      ]
     },
     "execution_count": 51,
     "metadata": {},
     "output_type": "execute_result"
    }
   ],
   "source": [
    "def trap_optimal(height):\n",
    "    \n",
    "    output = 0\n",
    "    leftMax = 0\n",
    "    rightMax = 0\n",
    "    \n",
    "    l = 0\n",
    "    r = len(height) - 1\n",
    "    \n",
    "    while l <= r:\n",
    "        \n",
    "        if height[l] <= height[r]:\n",
    "            if height[l] >= leftMax:\n",
    "                leftMax = height[l]\n",
    "            else:\n",
    "                output += leftMax - height[l]\n",
    "            l += 1\n",
    "        else:\n",
    "            if height[r] >= rightMax:\n",
    "                rightMax = height[r]\n",
    "            else:\n",
    "                output += rightMax - height[r]\n",
    "            r -= 1\n",
    "\n",
    "    return output\n",
    "\n",
    "    \n",
    "height = [0,1,0,2,1,0,1,3,2,1,2,1]\n",
    "trap_optimal(height)"
   ]
  },
  {
   "cell_type": "code",
   "execution_count": 62,
   "id": "c31f4d74",
   "metadata": {},
   "outputs": [
    {
     "data": {
      "text/plain": [
       "2"
      ]
     },
     "execution_count": 62,
     "metadata": {},
     "output_type": "execute_result"
    }
   ],
   "source": [
    "def findMaxConsecutiveOnes(nums):\n",
    "    \n",
    "#     if len(nums) == 0:\n",
    "#         return maxcount\n",
    "    \n",
    "#     num = nums[0]\n",
    "    \n",
    "#     if num == 1:\n",
    "#         count += 1\n",
    "#         if count > maxcount:\n",
    "#             maxcount = count\n",
    "#         return findMaxConsecutiveOnes(nums[1:], count, maxcount)\n",
    "#     else:\n",
    "#         count = 0\n",
    "#         return findMaxConsecutiveOnes(nums[1:], count, maxcount)\n",
    "    \n",
    "    \n",
    "    maxcount = 0\n",
    "    count = 0\n",
    "    for i in range(0, len(nums)):\n",
    "        \n",
    "        if nums[i] == 1:\n",
    "            count += 1\n",
    "        else:\n",
    "            count = 0\n",
    "            \n",
    "        if count >= maxcount:\n",
    "            maxcount = count\n",
    "            \n",
    "    return maxcount\n",
    "        \n",
    "        \n",
    "        \n",
    "        \n",
    "\n",
    "\n",
    "\n",
    "\n",
    "\n",
    "nums = [1,0,1,1,0,1]\n",
    "findMaxConsecutiveOnes(nums)\n"
   ]
  },
  {
   "cell_type": "markdown",
   "id": "13ee52ce",
   "metadata": {},
   "source": [
    "# 4 SUM\n"
   ]
  },
  {
   "cell_type": "code",
   "execution_count": 76,
   "id": "bdb718eb",
   "metadata": {},
   "outputs": [
    {
     "data": {
      "text/plain": [
       "[[-2, -1, 1, 2], [-1, 0, 0, 1], [-2, 0, 0, 2]]"
      ]
     },
     "execution_count": 76,
     "metadata": {},
     "output_type": "execute_result"
    }
   ],
   "source": [
    "def fourSum(nums, target):\n",
    "    nums.sort()\n",
    "    N = len(nums)\n",
    "    newset = set()\n",
    "    res = []\n",
    "    for i in range(0, N-3):\n",
    "        \n",
    "        if i > 0 and nums[i] == nums[i - 1]:\n",
    "            continue\n",
    "            \n",
    "        for j in range(i + 1, N - 2):\n",
    "            \n",
    "            if j > 0 and nums[j] == nums[j - 1]:\n",
    "                continue\n",
    "            \n",
    "            left = j + 1\n",
    "            right = N - 1\n",
    "            \n",
    "            while left < right:\n",
    "                \n",
    "                lsum = nums[i] + nums[j] + nums[left] + nums[right]\n",
    "                \n",
    "                if lsum == target:\n",
    "                    newset.add((nums[i] , nums[j] , nums[left] , nums[right]))\n",
    "                    left += 1\n",
    "                    right -= 1\n",
    "                elif lsum < target:\n",
    "                    left += 1\n",
    "                else:\n",
    "                    right -= 1\n",
    "\n",
    "    for item in newset:\n",
    "        res.append(list(item))\n",
    "    \n",
    "    return res\n",
    "\n",
    "        \n",
    "                    \n",
    "                    \n",
    "\n",
    "\n",
    "# Input: nums = [1,0,-1,0,-2,2], target = 0\n",
    "# Output: [[-2,-1,1,2],[-2,0,0,2],[-1,0,0,1]]\n",
    "\n",
    "nums = [1,0,-1,0,-2,2]\n",
    "target = 0\n",
    "\n",
    "fourSum(nums, target)"
   ]
  },
  {
   "cell_type": "code",
   "execution_count": 86,
   "id": "3d26e766",
   "metadata": {},
   "outputs": [
    {
     "name": "stdout",
     "output_type": "stream",
     "text": [
      "1 5\n",
      "[5, 2, 3, 4, 1]\n",
      "2 4\n",
      "[5, 4, 3, 2, 1]\n"
     ]
    },
    {
     "data": {
      "text/plain": [
       "[5, 4, 3, 2, 1]"
      ]
     },
     "execution_count": 86,
     "metadata": {},
     "output_type": "execute_result"
    }
   ],
   "source": [
    "def reverse(nums, si, ei):\n",
    "    \n",
    "    while si <ei:\n",
    "        temp = nums[si]\n",
    "        nums[si] = nums[ei]\n",
    "        nums[ei] = temp\n",
    "        si += 1\n",
    "        ei -= 1\n",
    "    return nums\n",
    "\n",
    "\n",
    "reverse([1,2,3,4,5], 0, 4)\n"
   ]
  },
  {
   "cell_type": "markdown",
   "id": "44dbe280",
   "metadata": {},
   "source": [
    "# Count Inversion in an array\n",
    "```\n",
    "Condition - i < j and arr[i] > arr[j]\n",
    "Input: arr[] = {8, 4, 2, 1}\n",
    "Output: 6\n",
    "\n",
    "Explanation: Given array has six inversions:\n",
    "(8, 4), (4, 2), (8, 2), (8, 1), (4, 1), (2, 1).\n",
    "\n",
    "\n",
    "Input: arr[] = {3, 1, 2}\n",
    "Output: 2\n",
    "\n",
    "Explanation: Given array has two inversions:\n",
    "(3, 1), (3, 2) \n",
    "```"
   ]
  },
  {
   "cell_type": "code",
   "execution_count": 87,
   "id": "32b9553d",
   "metadata": {},
   "outputs": [
    {
     "data": {
      "text/plain": [
       "6"
      ]
     },
     "execution_count": 87,
     "metadata": {},
     "output_type": "execute_result"
    }
   ],
   "source": [
    "def countInversion(nums):\n",
    "    count = 0\n",
    "    for i in range(0, len(nums)):\n",
    "        \n",
    "        for j in range(i+1, len(nums)):\n",
    "            \n",
    "            if arr[i] > arr[j]:\n",
    "                count += 1\n",
    "                \n",
    "    return count\n",
    "arr = [8, 4, 2, 1]\n",
    "countInversion(arr)"
   ]
  },
  {
   "cell_type": "code",
   "execution_count": 88,
   "id": "ec25c316",
   "metadata": {},
   "outputs": [
    {
     "data": {
      "text/plain": [
       "6"
      ]
     },
     "execution_count": 88,
     "metadata": {},
     "output_type": "execute_result"
    }
   ],
   "source": [
    "def countInversionMergeSort(nums):\n",
    "    count = 0\n",
    "    for i in range(0, len(nums)):\n",
    "        \n",
    "        for j in range(i+1, len(nums)):\n",
    "            \n",
    "            if arr[i] > arr[j]:\n",
    "                count += 1\n",
    "                \n",
    "    return count\n",
    "arr = [8, 4, 2, 1]\n",
    "countInversionMergeSort(arr)"
   ]
  },
  {
   "cell_type": "code",
   "execution_count": 93,
   "id": "c41d4467",
   "metadata": {},
   "outputs": [
    {
     "name": "stdout",
     "output_type": "stream",
     "text": [
      "[1, 2, 4, 8]\n"
     ]
    }
   ],
   "source": [
    "def mergeSort(nums):\n",
    "    \n",
    "    if len(nums) <= 1:\n",
    "        return nums\n",
    "    \n",
    "    mid = len(nums) // 2\n",
    "    \n",
    "    left = nums[:mid]\n",
    "    right = nums[mid:]\n",
    "    \n",
    "    mergeSort(left)\n",
    "    mergeSort(right)\n",
    "    \n",
    "    merge(left, right, nums, 0)\n",
    "    \n",
    "def merge(left, right, nums):\n",
    "    i = 0\n",
    "    j = 0\n",
    "    k = 0\n",
    "    \n",
    "    while i < len(left) and j < len(right):\n",
    "        if left[i] < right[j]:\n",
    "            nums[k] = left[i]\n",
    "            i += 1\n",
    "        else:\n",
    "            nums[k] = right[j]\n",
    "            j += 1\n",
    "            inversion\n",
    "            \n",
    "        k += 1\n",
    "        \n",
    "    while i < len(left):\n",
    "        nums[k] = left[i]\n",
    "        i += 1\n",
    "        k += 1\n",
    "    \n",
    "    while j < len(right):\n",
    "        nums[k] = right[j]\n",
    "        j += 1\n",
    "        k += 1\n",
    "        \n",
    "nums = [8, 4, 2, 1]\n",
    "mergeSort(nums)\n",
    "print(nums)"
   ]
  },
  {
   "cell_type": "code",
   "execution_count": 103,
   "id": "82d7b058",
   "metadata": {},
   "outputs": [
    {
     "name": "stdout",
     "output_type": "stream",
     "text": [
      "6\n",
      "[8, 4, 2, 1]\n"
     ]
    }
   ],
   "source": [
    "def mergeSort2(nums, temp_arr, left, right):\n",
    "    inv_count = 0\n",
    "    \n",
    "    if left < right:\n",
    "        mid = (left + right) // 2\n",
    "\n",
    "        inv_count += mergeSort2(nums, temp_arr, left, mid)\n",
    "        inv_count += mergeSort2(nums, temp_arr, mid + 1, right)\n",
    "\n",
    "        inv_count += merge(nums, temp_arr, left, mid, right)\n",
    "    \n",
    "    return inv_count\n",
    "    \n",
    "def merge(nums, temp_arr, left, mid, right):\n",
    " \n",
    "    i = left     # Starting index of left subarray\n",
    "    j = mid + 1  # Starting index of right subarray\n",
    "    k = left     # Starting index of to be sorted subarray\n",
    "    inv_count = 0\n",
    " \n",
    "    # Conditions are checked to make sure that\n",
    "    # i and j don't exceed their\n",
    "    # subarray limits.\n",
    " \n",
    "    while i <= mid and j <= right:\n",
    " \n",
    "        # There will be no inversion if arr[i] <= arr[j]\n",
    " \n",
    "        if arr[i] <= arr[j]:\n",
    "            temp_arr[k] = arr[i]\n",
    "            k += 1\n",
    "            i += 1\n",
    "        else:\n",
    "            # Inversion will occur.\n",
    "            temp_arr[k] = arr[j]\n",
    "            inv_count += (mid-i + 1)\n",
    "            k += 1\n",
    "            j += 1\n",
    " \n",
    "    # Copy the remaining elements of left\n",
    "    # subarray into temporary array\n",
    "    while i <= mid:\n",
    "        temp_arr[k] = arr[i]\n",
    "        k += 1\n",
    "        i += 1\n",
    " \n",
    "    # Copy the remaining elements of right\n",
    "    # subarray into temporary array\n",
    "    while j <= right:\n",
    "        temp_arr[k] = arr[j]\n",
    "        k += 1\n",
    "        j += 1\n",
    "    return inv_count\n",
    "\n",
    "\n",
    "\n",
    "\n",
    "\n",
    "nums = [8, 4, 2, 1]\n",
    "temp_arr = [0] * len(nums)\n",
    "print(mergeSort2(nums, temp_arr, 0, len(nums) - 1))\n",
    "print(nums)"
   ]
  },
  {
   "cell_type": "code",
   "execution_count": null,
   "id": "f4da3eae",
   "metadata": {},
   "outputs": [],
   "source": []
  }
 ],
 "metadata": {
  "kernelspec": {
   "display_name": "Python 3 (ipykernel)",
   "language": "python",
   "name": "python3"
  },
  "language_info": {
   "codemirror_mode": {
    "name": "ipython",
    "version": 3
   },
   "file_extension": ".py",
   "mimetype": "text/x-python",
   "name": "python",
   "nbconvert_exporter": "python",
   "pygments_lexer": "ipython3",
   "version": "3.10.0"
  }
 },
 "nbformat": 4,
 "nbformat_minor": 5
}
