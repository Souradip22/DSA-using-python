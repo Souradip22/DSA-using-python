{
 "cells": [
  {
   "cell_type": "code",
   "execution_count": 2,
   "id": "0bc1e184",
   "metadata": {},
   "outputs": [],
   "source": [
    "# // My old implementation of binary search.\n",
    "\n",
    "# // 1) Looking for 'target' in a sorted array.\n",
    "# int f() {\n",
    "#     int left = 0, right = n - 1;\n",
    "#     while(left <= right) {\n",
    "#         int mid = left + (right - left) / 2;\n",
    "#         if(a[mid] == target) {\n",
    "#             return mid;\n",
    "#         }\n",
    "#         else if(a[mid] > target) {\n",
    "#             right = mid - 1;\n",
    "#         }\n",
    "#         else {\n",
    "#             left = mid + 1;\n",
    "#         }\n",
    "#     }\n",
    "#     return -1;\n",
    "# }\n",
    "\n",
    "# // 2) Looking for the index of the first element that satisfies some property.\n",
    "# // F F T T T T <- find first index that has TRUE\n",
    "# int f() {\n",
    "#     int left = 0, right = n - 1; // add +1 to 'right' if the answer can be outside [left, right]\n",
    "#     while(left < right) {\n",
    "#         int mid = left + (right - left) / 2;\n",
    "#         if(property(mid)) {\n",
    "#             right = mid;\n",
    "#         }\n",
    "#         else {\n",
    "#             left = mid + 1;\n",
    "#         }\n",
    "#     }\n",
    "#     return left;\n",
    "# }"
   ]
  },
  {
   "cell_type": "code",
   "execution_count": null,
   "id": "4d67e7a2",
   "metadata": {},
   "outputs": [],
   "source": []
  },
  {
   "cell_type": "markdown",
   "id": "e4a54d3a",
   "metadata": {},
   "source": [
    "### First and last occurrences of x"
   ]
  },
  {
   "cell_type": "code",
   "execution_count": 2,
   "id": "765e9142",
   "metadata": {},
   "outputs": [
    {
     "name": "stdout",
     "output_type": "stream",
     "text": [
      "[2, 5]\n"
     ]
    }
   ],
   "source": [
    "def binarySearch(arr, n, si, ei, target, firstIndex):\n",
    "    ans = -1\n",
    "    \n",
    "    while si <= ei:\n",
    "        \n",
    "        mid = (si + ei) // 2\n",
    "        \n",
    "        if arr[mid] == target:\n",
    "            ans = mid\n",
    "            if firstIndex:\n",
    "                ei = mid - 1\n",
    "            else:\n",
    "                si = mid + 1\n",
    "        elif arr[mid] > target:\n",
    "            ei = mid -1\n",
    "        else:\n",
    "            si = mid + 1\n",
    "    return ans\n",
    "            \n",
    "\n",
    "def find(arr, n, x):\n",
    "    \n",
    "    firstIndex = binarySearch(arr, n, 0, n - 1, x, True)\n",
    "    lastIndex = binarySearch(arr, n, 0, n - 1, x, False)\n",
    "    \n",
    "    return [firstIndex, lastIndex]\n",
    "    \n",
    "    \n",
    "    \n",
    "arr = [1, 3, 5, 5, 5, 5, 67, 123, 125]\n",
    "x = 5\n",
    "print(find(arr, len(arr), x))"
   ]
  },
  {
   "cell_type": "markdown",
   "id": "93ec9658",
   "metadata": {},
   "source": [
    "### Value equal to index value"
   ]
  },
  {
   "cell_type": "code",
   "execution_count": 4,
   "id": "c7028a92",
   "metadata": {},
   "outputs": [
    {
     "name": "stdout",
     "output_type": "stream",
     "text": [
      "[2]\n"
     ]
    }
   ],
   "source": [
    "def valueEqualToIndex(arr, n):\n",
    "    ans = []\n",
    "    for i in range(n):\n",
    "\n",
    "        if i + 1 == arr[i]:\n",
    "            ans.append(arr[i])\n",
    "    return ans\n",
    "\n",
    "arr = [15, 2, 45, 12, 7]\n",
    "\n",
    "print(valueEqualToIndex(arr, len(arr)))"
   ]
  },
  {
   "cell_type": "markdown",
   "id": "7b6167a9",
   "metadata": {},
   "source": [
    "### 33. Search in Rotated Sorted Array"
   ]
  },
  {
   "cell_type": "code",
   "execution_count": 19,
   "id": "84e35d4d",
   "metadata": {},
   "outputs": [
    {
     "name": "stdout",
     "output_type": "stream",
     "text": [
      "0\n"
     ]
    }
   ],
   "source": [
    "def findPivot(arr, n):\n",
    "    \n",
    "    si = 0\n",
    "    ei = n - 1\n",
    "    \n",
    "    while si <= ei:\n",
    "        mid = (si + ei) // 2\n",
    "        if mid < ei and arr[mid] > arr[mid + 1]:\n",
    "            return mid\n",
    "        if mid > si and arr[mid] < arr[mid - 1]:\n",
    "            return mid - 1\n",
    "        \n",
    "        if arr[si] <= arr[mid]: # means still in the ascending part\n",
    "            si = mid + 1\n",
    "        else:\n",
    "            ei = mid - 1\n",
    "    return -1\n",
    "            \n",
    "\n",
    "def search(arr, target):\n",
    "    \n",
    "    si = 0\n",
    "    ei = len(arr) - 1\n",
    "    n = len(arr)\n",
    "    \n",
    "    pivot = findPivot(arr, n)\n",
    "    ans1 = -1\n",
    "    ans2 = -1\n",
    "    if pivot != -1:\n",
    "        ans1 = binarySearch(arr, si, pivot, target)\n",
    "        if ans1 != -1:\n",
    "            return ans1\n",
    "        ans2 = binarySearch(arr, pivot + 1, ei, target)\n",
    "        if ans2 != -1:\n",
    "            return ans2\n",
    "    return binarySearch(arr, si, ei, target)\n",
    "\n",
    "    \n",
    "nums = [4,5,6,7,0,1,2]\n",
    "target = 4\n",
    "\n",
    "# nums = [1]\n",
    "# target = 1\n",
    "\n",
    "# nums = [5,1,3]\n",
    "# target = 5\n",
    "\n",
    "# nums = [3,4,5,6,1,2]\n",
    "# target = 2\n",
    "print(search(nums, target))"
   ]
  },
  {
   "cell_type": "markdown",
   "id": "42761b46",
   "metadata": {},
   "source": [
    "### Binary Search"
   ]
  },
  {
   "cell_type": "code",
   "execution_count": 8,
   "id": "e69a5e6f",
   "metadata": {},
   "outputs": [],
   "source": [
    "def binarySearch(arr, si, ei, target):\n",
    "    \n",
    "    while si <= ei:\n",
    "        mid = (si + ei) // 2\n",
    "        \n",
    "        if arr[mid] == target:\n",
    "            return mid\n",
    "        \n",
    "        if arr[mid] < target:\n",
    "            si = mid + 1\n",
    "        else:\n",
    "            ei = mid - 1\n",
    "    return -1"
   ]
  },
  {
   "cell_type": "markdown",
   "id": "19b8cdc8",
   "metadata": {},
   "source": [
    "### Count Squares\n",
    "\n"
   ]
  },
  {
   "cell_type": "code",
   "execution_count": 21,
   "id": "8c7c0265",
   "metadata": {},
   "outputs": [
    {
     "name": "stdout",
     "output_type": "stream",
     "text": [
      "9\n"
     ]
    }
   ],
   "source": [
    "import math\n",
    "def countSquares(N):\n",
    "    s = math.ceil(math.sqrt(N))\n",
    "    return s-1\n",
    "\n",
    "print(countSquares(99))\n",
    "            "
   ]
  },
  {
   "cell_type": "markdown",
   "id": "53398b9e",
   "metadata": {},
   "source": [
    "### Maximum and minimum of an array using minimum number of comparisons"
   ]
  },
  {
   "cell_type": "code",
   "execution_count": 29,
   "id": "964805fb",
   "metadata": {},
   "outputs": [
    {
     "name": "stdout",
     "output_type": "stream",
     "text": [
      "(3000, 1)\n",
      "(3000, 1)\n"
     ]
    }
   ],
   "source": [
    "#Tournament method\n",
    "# Devide the array in two parts and recursively find\n",
    "#  T(n) = T(floor(n/2)) + T(ceil(n/2)) + 2  \n",
    "#   T(2) = 1\n",
    "#   T(1) = 0\n",
    "\n",
    "# If n is a power of 2, then we can write T(n) as: T(n) = 2T(n/2) + 2\n",
    "# After solving the above recursion, we get T(n)  = 3n/2 -2\n",
    "# Thus, the approach does 3n/2 -2 comparisons if n is a power of 2. \n",
    "# And it does more than 3n/2 -2 comparisons if n is not a power of 2\n",
    "\n",
    "# TC = O(N)\n",
    "# SC = O(logN) # bcz of recursion call in stack\n",
    "\n",
    "def findMinMax(arr, si, ei):\n",
    "    \n",
    "    arr_max = arr[si]\n",
    "    arr_min = arr[ei]\n",
    "\n",
    "    if si == ei:\n",
    "        arr_max = arr_min = arr[si]\n",
    "        return arr_min, arr_max\n",
    "    \n",
    "    elif si == ei + 1:\n",
    "        \n",
    "        if arr[si] < arr[ei]:\n",
    "            arr_max = arr[ei]\n",
    "            arr_min = arr[si]\n",
    "        else:\n",
    "            arr_max = arr[ei]\n",
    "            arr_min = arr[si]\n",
    "        return arr_min, arr_max\n",
    "    \n",
    "    else:\n",
    "        mid = (si + ei) // 2\n",
    "        arr1_max, arr1_min = findMinMax(arr, si, mid)\n",
    "        arr2_max, arr2_min = findMinMax(arr, mid + 1, ei)\n",
    "        \n",
    "        return (max(arr1_max, arr2_max), min(arr1_min, arr2_min))\n",
    "\n",
    "    \n",
    "arr = [1000, 11, 445, 1, 330, 3000]\n",
    "high = len(arr) - 1\n",
    "low = 0\n",
    "print(findMinMax(arr, low, high))\n",
    "\n",
    "#Compare in Pairs || Best Approach\n",
    "# If n is odd:    3*(n-1)/2  \n",
    "# If n is even:   1 Initial comparison for initializing min and max, \n",
    "#                    and 3(n-2)/2 comparisons for rest of the elements  \n",
    "#               =  1 + 3*(n-2)/2 = 3n/2 -2\n",
    "\n",
    "# TC - O(N)\n",
    "# SC - O(1)\n",
    "\n",
    "def findMinMax2(arr):\n",
    "    N = len(arr)\n",
    "    i = 0\n",
    "    if N % 2 == 0:\n",
    "        \n",
    "        mx = max(arr[0], arr[1])\n",
    "        mn = max(arr[0], arr[1])\n",
    "        \n",
    "        i += 2\n",
    "        \n",
    "    else:\n",
    "        mx = mn = arr[0]\n",
    "        i += 1\n",
    "        \n",
    "    for i in range(i, N - 1):\n",
    "        \n",
    "        if arr[i] < arr[i + 1]:\n",
    "            \n",
    "            mx = max(mx, arr[i + 1])\n",
    "            mn = min(mn, arr[i])\n",
    "            \n",
    "        else:\n",
    "            \n",
    "            mx = max(mx, arr[i])\n",
    "            mn = min(mn, arr[i + 1])\n",
    "        \n",
    "        i += 2\n",
    "    return (mx, mn)\n",
    "\n",
    "arr = [1000, 11, 445, 1, 330, 3000]\n",
    "\n",
    "print(findMinMax2(arr))"
   ]
  },
  {
   "cell_type": "markdown",
   "id": "981a049e",
   "metadata": {},
   "source": [
    "### Majority Element\n",
    "            Given an array A of N elements. Find the majority element in the array. A majority element in an array A of size N is  an element that appears more than N/2 times in the array"
   ]
  },
  {
   "cell_type": "code",
   "execution_count": 37,
   "id": "f849dfb4",
   "metadata": {},
   "outputs": [
    {
     "name": "stdout",
     "output_type": "stream",
     "text": [
      "7\n"
     ]
    }
   ],
   "source": [
    "def findMajorityElement(arr):\n",
    "    N = len(arr)\n",
    "    count = 0\n",
    "    num = 0\n",
    "    \n",
    "    for i in range(N):\n",
    "        \n",
    "        if count == 0:\n",
    "            num = arr[i]\n",
    "            \n",
    "        if arr[i] == num:\n",
    "            count += 1\n",
    "        else: \n",
    "            count -= 1\n",
    "    count = 0\n",
    "    for i in range(N):\n",
    "        if arr[i] == num:\n",
    "            count += 1\n",
    "    \n",
    "    if count > (N/2):\n",
    "        return num\n",
    "    return -1\n",
    "        \n",
    "    \n",
    "arr = [1,7,2,7,8,7,7]\n",
    "print(findMajorityElement(arr))\n",
    "    \n",
    "    "
   ]
  },
  {
   "cell_type": "markdown",
   "id": "88b69938",
   "metadata": {},
   "source": [
    "### Find Missing And Repeating"
   ]
  },
  {
   "cell_type": "code",
   "execution_count": 82,
   "id": "3fdb8387",
   "metadata": {},
   "outputs": [
    {
     "name": "stdout",
     "output_type": "stream",
     "text": [
      "[2, 3]\n"
     ]
    }
   ],
   "source": [
    "def findTwoElement(nums):\n",
    "    N = len(nums)\n",
    "    i = 0\n",
    "    repeat = 0\n",
    "    while i < N:\n",
    "        correctIndex = nums[i] - 1\n",
    "        \n",
    "        if i != correctIndex:\n",
    "            \n",
    "            if nums[i] != nums[correctIndex]:\n",
    "\n",
    "                nums[i], nums[correctIndex] = nums[correctIndex], nums[i]\n",
    "\n",
    "            else:\n",
    "                return nums[i]\n",
    "        else:\n",
    "            i += 1\n",
    "\n",
    "    return -1\n",
    "\n",
    "# By math formula\n",
    "# Sum = (n * (n + 1) ) / 2\n",
    "# product = (n * (n + 1) * (2n + 1)) / 6\n",
    "\n",
    "def findTwoElement2(nums):\n",
    "    n = len(nums)\n",
    "    \n",
    "    lsum = (n * (n + 1)) / 2\n",
    "    lprod = (n * (n + 1) * (2 * n + 1)) / 6\n",
    "    \n",
    "    #basically we are doing s - s1 and p - p1\n",
    "    for i in range(n):\n",
    "        lsum -= nums[i]\n",
    "        lprod -= (nums[i] * nums[i])\n",
    "    \n",
    "    repeating = int(((lprod / lsum) - lsum) / 2)\n",
    "    missing = int(lsum + repeating)\n",
    "    \n",
    "    return [repeating, missing]\n",
    "\n",
    "#using counting sort\n",
    "def findTwoElement3(nums):\n",
    "    \n",
    "    n = len(nums)\n",
    "    ans = []\n",
    "    temp = [0] * (n + 1)\n",
    "    \n",
    "    for i, el in enumerate(nums):\n",
    "        temp[el] += 1\n",
    "\n",
    "    for i in range(1, n + 1):\n",
    "        if temp[i] == 0 or temp[i] > 1:\n",
    "            ans.append(i)\n",
    "            \n",
    "    return ans     \n",
    "\n",
    "arr = [3,1,2,5,3] #o/p -> 3,4 Since 3 is appearing twice and 4 is missing\n",
    "arr = [1, 3, 3]\n",
    "# print(findTwoElement(arr))\n",
    "\n",
    "# print(findTwoElement2(arr))\n",
    "print(findTwoElement3(arr))\n"
   ]
  },
  {
   "cell_type": "markdown",
   "id": "adf55e51",
   "metadata": {},
   "source": [
    "### Searching in an array where adjacent differ by at most k"
   ]
  },
  {
   "cell_type": "code",
   "execution_count": 86,
   "id": "71d883ec",
   "metadata": {},
   "outputs": [
    {
     "name": "stdout",
     "output_type": "stream",
     "text": [
      "5\n"
     ]
    }
   ],
   "source": [
    "def search (arr, n, x, k) : \n",
    "    #Complete the function\n",
    "    if n == 1:\n",
    "        return 0 if arr[0] == x else -1\n",
    "    \n",
    "    for i in range(n - 1):\n",
    "        \n",
    "        if arr[i + 1] - arr[i] != k:\n",
    "            \n",
    "            if arr[i] == x:\n",
    "                return i\n",
    "            if arr[i + 1] == x:\n",
    "                return arr.index(x)\n",
    "            \n",
    "    return -1\n",
    "\n",
    "\n",
    "arr = [20, 40, 50, 70, 70, 60]\n",
    "k = 20\n",
    "x = 60\n",
    "\n",
    "print(search(arr, len(arr), x, k))\n"
   ]
  },
  {
   "cell_type": "markdown",
   "id": "d2218785",
   "metadata": {},
   "source": [
    "### Find Pair Given Difference"
   ]
  },
  {
   "cell_type": "code",
   "execution_count": 8,
   "id": "b15f54d9",
   "metadata": {},
   "outputs": [
    {
     "name": "stdout",
     "output_type": "stream",
     "text": [
      "-1\n"
     ]
    }
   ],
   "source": [
    "# Input:\n",
    "# L = 6, N = 78\n",
    "# arr[] = {5, 20, 3, 2, 5, 80}\n",
    "# Output: 1\n",
    "# Explanation: (2, 80) have difference of 78\n",
    "\n",
    "def findPair(arr, diff):\n",
    "#     c = {}\n",
    "#     for x in arr:\n",
    "#         if x in c:\n",
    "#             c[x] += 1\n",
    "#         else:\n",
    "#             c[x] = 1\n",
    "\n",
    "#     for x in arr:\n",
    "#         opt1 = N - x\n",
    "#         opt2 = N + x\n",
    "#         c[x] -= 1\n",
    "\n",
    "#         if opt1 in c and c[opt1] > 0:\n",
    "#             return True\n",
    "#         elif opt2 in c and c[opt2] > 0:\n",
    "#             return True\n",
    "\n",
    "#         c[x] += 1\n",
    "#     return False\n",
    "\n",
    "    n = len(arr)\n",
    "    hashMap = {}\n",
    "    \n",
    "    for i in range(0, n):\n",
    "        if arr[i] not in hashMap:\n",
    "            hashMap[arr[i]] = i\n",
    "            \n",
    "   \n",
    "    ans = 0\n",
    "    for i in range(n):\n",
    "        \n",
    "        temp = diff + arr[i]\n",
    "        \n",
    "        if temp in hashMap:\n",
    "            index = hashMap.get(temp, -1)\n",
    "            \n",
    "            if index != -1 and index != i:\n",
    "                ans += 1\n",
    "    return ans if ans > 0 else -1\n",
    "\n",
    "arr = [5, 20, 3, 2, 5, 80]\n",
    "\n",
    "diff = 23\n",
    "    \n",
    "print(findPair(arr, diff))"
   ]
  },
  {
   "cell_type": "markdown",
   "id": "a64e61e0",
   "metadata": {},
   "source": [
    "### 35. Search Insert Position"
   ]
  },
  {
   "cell_type": "code",
   "execution_count": 7,
   "id": "9d1f9b2d",
   "metadata": {},
   "outputs": [
    {
     "name": "stdout",
     "output_type": "stream",
     "text": [
      "0 4\n",
      "0 2\n",
      "2\n"
     ]
    }
   ],
   "source": [
    "def searchInsert(nums, target):\n",
    "    low = 0\n",
    "    high = len(nums)\n",
    "\n",
    "    while low < high:\n",
    "        print(low, high)\n",
    "        mid = (low + high) // 2\n",
    "\n",
    "        if nums[mid] >= target:\n",
    "            high = mid\n",
    "        else:\n",
    "            low = mid + 1\n",
    "\n",
    "    return low\n",
    "\n",
    "nums = [1,3,5,6]\n",
    "target = 5\n",
    "print(searchInsert(nums, target))"
   ]
  },
  {
   "cell_type": "markdown",
   "id": "03448c47",
   "metadata": {},
   "source": [
    "### 69. Sqrt(x)"
   ]
  },
  {
   "cell_type": "code",
   "execution_count": 8,
   "id": "1563616d",
   "metadata": {},
   "outputs": [
    {
     "name": "stdout",
     "output_type": "stream",
     "text": [
      "2\n"
     ]
    }
   ],
   "source": [
    "def sqrtX(x):   \n",
    "    left = 0\n",
    "    right = x + 1\n",
    "\n",
    "    while left < right:\n",
    "\n",
    "        mid = (left + right) // 2\n",
    "\n",
    "        if mid * mid > x:\n",
    "            right = mid\n",
    "\n",
    "        else:\n",
    "            left = mid + 1\n",
    "    # left will have the first value where mid * mid > x but we want last value for \n",
    "    return left - 1\n",
    "\n",
    "print(sqrtX(8))"
   ]
  },
  {
   "cell_type": "markdown",
   "id": "7b53a80d",
   "metadata": {},
   "source": [
    "### Find First Index and Last"
   ]
  },
  {
   "cell_type": "code",
   "execution_count": 128,
   "id": "460321f2",
   "metadata": {},
   "outputs": [
    {
     "name": "stdout",
     "output_type": "stream",
     "text": [
      "First 2\n",
      "Last 4\n"
     ]
    }
   ],
   "source": [
    "def findFirst(arr, target):\n",
    "    \n",
    "    left = 0\n",
    "    right = len(arr) - 1\n",
    "    \n",
    "    while left < right:\n",
    "        mid = (left + right)//2\n",
    "        \n",
    "        if arr[mid] >= target:\n",
    "            right = mid\n",
    "        else:\n",
    "            left = mid + 1\n",
    "            \n",
    "    return left if arr[left] == target else -1\n",
    "\n",
    "def findLast(arr, target):\n",
    "    left = 0\n",
    "    right = len(arr) - 1\n",
    "    \n",
    "    while left < right:\n",
    "        # why +1 to right inlclined\n",
    "        mid = (left + right) // 2 + 1 \n",
    "        \n",
    "        if arr[mid] > target:\n",
    "            right = mid - 1\n",
    "        else:\n",
    "            left = mid\n",
    "            \n",
    "    return left if arr[left] == target else -1\n",
    "    \n",
    "    \n",
    "arr = [1, 2, 4, 4, 4, 6, 7]\n",
    "# [F]\n",
    "target = 4\n",
    "print('First', findFirst(arr, target))\n",
    "print('Last', findLast(arr, target))\n"
   ]
  },
  {
   "cell_type": "code",
   "execution_count": 129,
   "id": "c2ae06d2",
   "metadata": {},
   "outputs": [
    {
     "name": "stdout",
     "output_type": "stream",
     "text": [
      "First & Last [-1, -1]\n"
     ]
    }
   ],
   "source": [
    "def findFirstLast(nums, target):\n",
    "    if not nums:\n",
    "        return [-1, -1]\n",
    "\n",
    "    def bisect_left(nums, target):\n",
    "        l, r = 0, len(nums) - 1\n",
    "        while l < r:\n",
    "            m = (l + r) // 2\n",
    "            if nums[m] < target:\n",
    "                l = m + 1\n",
    "            else:\n",
    "                r = m\n",
    "        return l if nums[l] == target else -1\n",
    "\n",
    "    def bisect_right(nums, target):\n",
    "        l, r = 0, len(nums) - 1\n",
    "        while l < r:\n",
    "            m = (l + r) // 2 + 1\n",
    "            if nums[m] > target:\n",
    "                r = m - 1\n",
    "            else:\n",
    "                l = m\n",
    "        return l if nums[l] == target else -1\n",
    "\n",
    "    return [bisect_left(nums, target), bisect_right(nums, target)]\n",
    "\n",
    "arr = [1, 2, 4, 4, 5, 6, 7]\n",
    "# [F]\n",
    "target = 8\n",
    "print('First & Last', findFirstLast(arr, target))\n"
   ]
  },
  {
   "cell_type": "markdown",
   "id": "9b705fd4",
   "metadata": {},
   "source": [
    "### 1011. Capacity To Ship Packages Within D Days\n",
    "\n",
    "    Input: weights = [1,2,3,4,5,6,7,8,9,10], days = 5\n",
    "    Output: 15\n",
    "    Explanation: A ship capacity of 15 is the minimum to ship all the packages in 5 days like this:\n",
    "    1st day: 1, 2, 3, 4, 5\n",
    "    2nd day: 6, 7\n",
    "    3rd day: 8\n",
    "    4th day: 9\n",
    "    5th day: 10\n",
    "\n",
    "    Note that the cargo must be shipped in the order given, so using a ship of capacity 14 and splitting the packages into parts like (2, 3, 4, 5), (1, 6, 7), (8), (9), (10) is not allowed"
   ]
  },
  {
   "cell_type": "code",
   "execution_count": 48,
   "id": "fe1479c5",
   "metadata": {},
   "outputs": [
    {
     "name": "stdout",
     "output_type": "stream",
     "text": [
      "15\n"
     ]
    }
   ],
   "source": [
    "def canBeDelivered(capacity, weights, totalDays):\n",
    "    \n",
    "    days = 1\n",
    "    temp = 0\n",
    "    for w in weights:\n",
    "        temp += w\n",
    "        \n",
    "        if temp > capacity:\n",
    "            temp = w\n",
    "            days += 1\n",
    "        if days > totalDays:\n",
    "            return False\n",
    "    return True\n",
    "\n",
    "\n",
    "def shipWithinDays(weights, days):\n",
    "    #min capacity should be the minimum weights to be able to carry it belwo that capcaity we will not be able to ship that\n",
    "    left = max(weights)\n",
    "    #max capcity sum of all the weights, which would take 1 days time to ship all\n",
    "    right = sum(weights)\n",
    "    \n",
    "    while left < right:\n",
    "        mid = (left + right) // 2 \n",
    "        if (canBeDelivered(mid, weights, days)):\n",
    "            right = mid # to get the best ansewer this could be the mid unit capacity or belwo that   \n",
    "        else:\n",
    "            left = mid + 1\n",
    "    return left\n",
    "\n",
    "weights = [1,2,3,4,5,6,7,8,9,10]\n",
    "days = 5\n",
    "print(shipWithinDays(weights, days))"
   ]
  },
  {
   "cell_type": "markdown",
   "id": "3f08e255",
   "metadata": {},
   "source": [
    "### 410. Split Array Largest Sum\n",
    "    Input: nums = [7,2,5,10,8], m = 2\n",
    "    Output: 18\n",
    "    Explanation:\n",
    "    There are four ways to split nums into two subarrays.\n",
    "    The best way is to split it into [7,2,5] and [10,8],\n",
    "    where the largest sum among the two subarrays is only 18."
   ]
  },
  {
   "cell_type": "code",
   "execution_count": 49,
   "id": "fec575f2",
   "metadata": {},
   "outputs": [
    {
     "name": "stdout",
     "output_type": "stream",
     "text": [
      "18\n"
     ]
    }
   ],
   "source": [
    "def splitArray(nums, m):\n",
    "\n",
    "    def feasible(threshold, nums, m):\n",
    "        count = 1\n",
    "        temp = 0\n",
    "\n",
    "        for n in nums:\n",
    "            temp += n\n",
    "\n",
    "            if temp > threshold:\n",
    "                count += 1\n",
    "                temp = n\n",
    "\n",
    "            if count > m:\n",
    "                return False\n",
    "        return True\n",
    "\n",
    "    left, right = max(nums), sum(nums)\n",
    "    while left < right:\n",
    "        mid = (left + right) // 2\n",
    "\n",
    "        if feasible(mid, nums, m):\n",
    "            right = mid\n",
    "        else:\n",
    "            left = mid + 1\n",
    "    return left\n",
    "\n",
    "nums = [7,2,5,10,8]\n",
    "m = 2\n",
    "print(splitArray(nums, m))"
   ]
  },
  {
   "cell_type": "markdown",
   "id": "15aa20f5",
   "metadata": {},
   "source": [
    "### 875. Koko Eating Bananas\n",
    "\n",
    "    Return the minimum integer k such that she can eat all the bananas within h hours."
   ]
  },
  {
   "cell_type": "code",
   "execution_count": 69,
   "id": "73f7ba0f",
   "metadata": {},
   "outputs": [
    {
     "name": "stdout",
     "output_type": "stream",
     "text": [
      "15 8\n",
      "23 6\n",
      "27 6\n",
      "29 6\n",
      "30\n"
     ]
    }
   ],
   "source": [
    "def minEatingSpeed(piles, h):\n",
    "    \n",
    "    def possible(speed, piles, totalTime):\n",
    "        time = 0\n",
    "        for p in piles:\n",
    "            time += p // speed\n",
    "            if p % speed:\n",
    "                time += 1\n",
    "        print(speed, time)\n",
    "        if time > totalTime:\n",
    "            return False\n",
    "        return True\n",
    "    \n",
    "    left = 1\n",
    "    right = max(piles)\n",
    "    while left < right:\n",
    "        \n",
    "        mid = (left + right) // 2\n",
    "        \n",
    "        if possible(mid, piles, h):\n",
    "            right = mid\n",
    "            \n",
    "        else:\n",
    "            left = mid + 1\n",
    "    return left\n",
    "\n",
    "\n",
    "piles = [3,6,7,11]\n",
    "h = 8\n",
    "# Output: 4\n",
    "\n",
    "piles = [30,11,23,4,20]\n",
    "h = 5\n",
    "# Output: 30\n",
    "\n",
    "print(minEatingSpeed(piles, h))"
   ]
  },
  {
   "cell_type": "code",
   "execution_count": 65,
   "id": "73fda6b6",
   "metadata": {},
   "outputs": [
    {
     "data": {
      "text/plain": [
       "1.3043478260869565"
      ]
     },
     "execution_count": 65,
     "metadata": {},
     "output_type": "execute_result"
    }
   ],
   "source": [
    "30/23"
   ]
  },
  {
   "cell_type": "markdown",
   "id": "413249f8",
   "metadata": {},
   "source": [
    "### Max Element that satisfy y < = 6 (Mid Upper bound)\n"
   ]
  },
  {
   "cell_type": "code",
   "execution_count": 96,
   "id": "8b3e8b67",
   "metadata": {},
   "outputs": [
    {
     "name": "stdout",
     "output_type": "stream",
     "text": [
      "Index: 4\n"
     ]
    }
   ],
   "source": [
    "# arr = [1, 2, 3, 4, 5, 7, 8, 9], N = 8\n",
    "# # Now mark true if arr[i] <= 6 and rest will be F\n",
    "# arr = [T, T, T, T, T, F, F, F]\n",
    "\n",
    "# if ata any point we get secodn true as mid, then that can be a possible answer, but we want to go towerds right more to get \n",
    "# the last True\n",
    "\n",
    "def maxEl(arr, target):\n",
    "    \n",
    "    left = 0\n",
    "    right = len(arr) - 1\n",
    "    \n",
    "    while left < right:\n",
    "        \n",
    "        mid = (left + right + 1) // 2\n",
    "        \n",
    "        if arr[mid] <= target:\n",
    "            left = mid\n",
    "        else:\n",
    "            right = mid - 1\n",
    "    return left\n",
    "\n",
    "arr = [1, 2, 3, 4, 5, 7, 8, 9]\n",
    "print('Index:', maxEl(arr, 6))\n"
   ]
  },
  {
   "cell_type": "markdown",
   "id": "55378ff9",
   "metadata": {},
   "source": [
    "### Min Element that Satisfy y >= 6 (mid lower bound)"
   ]
  },
  {
   "cell_type": "code",
   "execution_count": 94,
   "id": "9c3ad903",
   "metadata": {},
   "outputs": [
    {
     "name": "stdout",
     "output_type": "stream",
     "text": [
      "Index: 5\n"
     ]
    }
   ],
   "source": [
    "# arr = [1, 2, 3, 4, 5, 7, 8, 9], N = 8\n",
    "# # Now mark true if arr[i] >= 6 and rest will be F\n",
    "# arr = [F, F, F, F, F, T, T, T]\n",
    "\n",
    "def minEl(arr, target):\n",
    "    \n",
    "    left = 0\n",
    "    right = len(arr) - 1\n",
    "    \n",
    "    while left < right:\n",
    "        \n",
    "        mid = (left + right) // 2\n",
    "        \n",
    "        if arr[mid] >= target:\n",
    "            right = mid\n",
    "        else:\n",
    "            left = mid + 1\n",
    "    return left\n",
    "\n",
    "arr = [1, 2, 3, 4, 5, 7, 8, 9]\n",
    "print('Index:', minEl(arr, 6))"
   ]
  },
  {
   "cell_type": "markdown",
   "id": "0bd8bbf0",
   "metadata": {},
   "source": [
    "### 162. Find Peak Element (find First True)"
   ]
  },
  {
   "cell_type": "code",
   "execution_count": 101,
   "id": "206e8984",
   "metadata": {},
   "outputs": [
    {
     "name": "stdout",
     "output_type": "stream",
     "text": [
      "Peak index: 3\n",
      "Peak index 2 : 3\n"
     ]
    }
   ],
   "source": [
    "# TO get the first  true - Considering the following rule for a peak element arr[i] > arr[i + 1]\n",
    "# arr = [1,2,3,4,3,2,1]\n",
    "# arr = [F,F,F,T,T,T,T]\n",
    "# Once we have the condition and then just use the template to get the first True value towards left\n",
    "def peak(arr):\n",
    "    \n",
    "    left = 0\n",
    "    right = len(arr) - 1\n",
    "    \n",
    "    while left < right:\n",
    "        mid = (left + right) // 2\n",
    "        \n",
    "        if arr[mid] > arr[mid+1]:\n",
    "            right = mid # mid is a possible answer but go left to check for first true\n",
    "        else:\n",
    "            left = mid + 1\n",
    "    return left\n",
    "\n",
    "# TO get the Last  true - Considering the following rule for a peak element arr[i] > arr[i - 1]\n",
    "# arr = [1,2,3,4,3,2,1]\n",
    "# arr = [T,T,T,T,F,F,F]\n",
    "# Once we have the condition and then just use the template to get the last True value towards right\n",
    "def peak2(arr):\n",
    "    \n",
    "    left = 0\n",
    "    right = len(arr) - 1\n",
    "    \n",
    "    while left < right:\n",
    "        mid = (left + right + 1) // 2\n",
    "        \n",
    "        if arr[mid] > arr[mid-1]:\n",
    "            left = mid # mid is a possible answer but go right to check for last true\n",
    "        else:\n",
    "            right = mid - 1\n",
    "    return left\n",
    "\n",
    "arr = [1,2,3,4,3,2,1]\n",
    "print('Peak index:',peak(arr))\n",
    "\n",
    "print('Peak index 2 :',peak2(arr))"
   ]
  },
  {
   "cell_type": "markdown",
   "id": "54e6cfc9",
   "metadata": {},
   "source": [
    "### 852. Peak Index in a Mountain Array"
   ]
  },
  {
   "cell_type": "code",
   "execution_count": 103,
   "id": "7034b8d0",
   "metadata": {},
   "outputs": [
    {
     "name": "stdout",
     "output_type": "stream",
     "text": [
      "1\n"
     ]
    }
   ],
   "source": [
    "# TO get the first  true - Considering the following rule for a peak element arr[i] > arr[i + 1]\n",
    "# arr = [24,69,100,99,79,78,67,36,26,19]\n",
    "# arr = [ F, F,  T, T, T, T, T, T, T, T]\n",
    "# Once we have the condition and then just use the template to get the first True value towards left\n",
    "\n",
    "\n",
    "def peakIndexInMountainArray(arr):\n",
    "\n",
    "    left = 0\n",
    "    right = len(arr) - 1\n",
    "\n",
    "    while left < right:\n",
    "        mid = (left + right) // 2\n",
    "\n",
    "        if arr[mid] > arr[mid + 1]:\n",
    "            right = mid\n",
    "        else:\n",
    "            left = mid + 1\n",
    "\n",
    "    return left\n",
    "\n",
    "arr = [0,10,5,2]\n",
    "print(peakIndexInMountainArray(arr))"
   ]
  },
  {
   "cell_type": "markdown",
   "id": "3944288e",
   "metadata": {},
   "source": [
    "### 153. Find Minimum in Rotated Sorted Array"
   ]
  },
  {
   "cell_type": "code",
   "execution_count": 104,
   "id": "77973a38",
   "metadata": {},
   "outputs": [
    {
     "name": "stdout",
     "output_type": "stream",
     "text": [
      "0\n"
     ]
    }
   ],
   "source": [
    "# TO get the first  true - Considering the following rule for a peak element nums[right] >= nums[i]\n",
    "# arr = [4,5,6,7,0,1,2]\n",
    "# arr = [F,F,F,F,T,T,T]\n",
    "# Once we have the condition and then just use the template to get the first True value towards left\n",
    "\n",
    "def findMin(nums):\n",
    "\n",
    "    left = 0\n",
    "    right = len(nums) - 1\n",
    "\n",
    "    while left < right:\n",
    "\n",
    "        mid  = (left + right) // 2\n",
    "\n",
    "        if nums[right] >= nums[mid]:\n",
    "            right = mid\n",
    "        else:\n",
    "            left = mid + 1\n",
    "\n",
    "    return nums[left]\n",
    "\n",
    "nums = [4,5,6,7,0,1,2]\n",
    "# Output: 0\n",
    "# Explanation: The original array was [0,1,2,4,5,6,7] and it was rotated 4 times\n",
    "print(findMin(nums))"
   ]
  },
  {
   "cell_type": "markdown",
   "id": "da6d061c",
   "metadata": {},
   "source": [
    "### 1482. Minimum Number of Days to Make m Bouquets\n",
    "\n",
    "        Input: bloomDay = [7,7,7,7,12,7,7], m = 2, k = 3\n",
    "        Output: 12\n",
    "        Explanation: We need 2 bouquets each should have 3 flowers.\n",
    "        Here is the garden after the 7 and 12 days:\n",
    "        After day 7: [x, x, x, x, _, x, x]\n",
    "        We can make one bouquet of the first three flowers that bloomed. We cannot make another bouquet from the last three flowers that bloomed because they are not adjacent.\n",
    "        After day 12: [x, x, x, x, x, x, x]\n",
    "        It is obvious that we can make two bouquets in different ways."
   ]
  },
  {
   "cell_type": "code",
   "execution_count": 127,
   "id": "9a092272",
   "metadata": {},
   "outputs": [
    {
     "name": "stdout",
     "output_type": "stream",
     "text": [
      "5364\n"
     ]
    }
   ],
   "source": [
    "def canMakeBqWithinDdays(D, bloomDay, m , k):\n",
    "    count = 0\n",
    "    bq = 0\n",
    "    for el in bloomDay:\n",
    "        \n",
    "        if el <= D: #bloomed\n",
    "            count += 1\n",
    "            if count == k:\n",
    "                bq += 1\n",
    "                count = 0\n",
    "        else:\n",
    "            count = 0\n",
    "    if bq >= m:\n",
    "        return True\n",
    "    \n",
    "    return False\n",
    "\n",
    "def minDays(bloomDay, m, k):\n",
    "    \n",
    "    left = 1\n",
    "    right = max(bloomDay)\n",
    "    while left < right:\n",
    "        mid = (left + right) // 2\n",
    "        if canMakeBqWithinDdays(mid, bloomDay, m, k):\n",
    "            right = mid\n",
    "        else:\n",
    "            left = mid + 1\n",
    "    return left\n",
    "\n",
    "bloomDay = [7,7,7,7,12,7,7]\n",
    "m = 2\n",
    "k = 3\n",
    "\n",
    "bloomDay = [1,10,3,10,2]\n",
    "m = 3\n",
    "k = 1\n",
    "\n",
    "print(minDays(bloomDay, m, k))\n",
    "# print(canMakeBqWithinDdays(5363, bloomDay, m , k))\n",
    "        "
   ]
  },
  {
   "cell_type": "markdown",
   "id": "55925cc1",
   "metadata": {},
   "source": [
    "### 275. H-Index II   \n",
    "       The idea is to do binary search to find the min index such that citations[i] >= len(citations) - i, then the answer is len(citations)-i"
   ]
  },
  {
   "cell_type": "code",
   "execution_count": 132,
   "id": "bf22286e",
   "metadata": {},
   "outputs": [
    {
     "name": "stdout",
     "output_type": "stream",
     "text": [
      "2\n"
     ]
    }
   ],
   "source": [
    "def hIndex(citations):\n",
    "    \n",
    "    left = 0\n",
    "    right = len(citations) \n",
    "    \n",
    "    while left < right:\n",
    "        mid = (left + right) // 2\n",
    "        \n",
    "        if citations[mid] >= len(citations) - mid:\n",
    "            right = mid\n",
    "        else:\n",
    "            left  = mid + 1\n",
    "    return len(citations) - left\n",
    "\n",
    "\n",
    "citations = [1,2,100]\n",
    "print(hIndex(citations))\n"
   ]
  },
  {
   "cell_type": "markdown",
   "id": "e856e249",
   "metadata": {},
   "source": [
    "### 1300. Sum of Mutated Array Closest to Target\n",
    "\n",
    "    Input: arr = [4,9,3], target = 10\n",
    "    Output: 3\n",
    "    Explanation: When using 3 arr converts to [3, 3, 3] which sums 9 and that's the optimal answer.\n",
    "        Given an integer array arr and a target value target, return the integer value such that when we change all the integers larger than value in the given array to be equal to value, the sum of the array gets as close as possible (in absolute difference) to target.\n",
    "\n",
    "    In case of a tie, return the minimum such integer.\n",
    "\n",
    "    Notice that the answer is not neccesarilly a number from arr"
   ]
  },
  {
   "cell_type": "code",
   "execution_count": 171,
   "id": "56672db9",
   "metadata": {},
   "outputs": [
    {
     "name": "stdout",
     "output_type": "stream",
     "text": [
      "11361\n"
     ]
    }
   ],
   "source": [
    "def feasible(num, arr, target):\n",
    "    \n",
    "    lsum = 0\n",
    "    \n",
    "    for el in arr:\n",
    "        \n",
    "        if el > num:\n",
    "            lsum += num\n",
    "        else:\n",
    "            lsum += el\n",
    "    return abs(target - lsum);\n",
    "\n",
    "def findBestValue(arr, target):\n",
    "    left = 0\n",
    "    right = target\n",
    "    while left < right:\n",
    "        mid = (left + right) // 2\n",
    "        \n",
    "        if feasible(mid, arr, target) <= feasible(mid+1, arr, target):\n",
    "            right = mid\n",
    "        else:\n",
    "            left = mid + 1\n",
    "    return left \n",
    "    \n",
    "arr = [4,9,3]\n",
    "target = 10\n",
    "\n",
    "arr = [2,3,5]\n",
    "target = 10\n",
    "Output: 5\n",
    "\n",
    "arr = [60864,25176,27249,21296,20204]\n",
    "target = 56803\n",
    "Output: 11361\n",
    "print(findBestValue(arr, target))\n",
    "        \n",
    "    \n",
    "    "
   ]
  },
  {
   "cell_type": "markdown",
   "id": "4472cb26",
   "metadata": {},
   "source": [
    "### 981. Time Based Key-Value Store\n",
    "\n",
    "    Input\n",
    "    [\"TimeMap\", \"set\", \"get\", \"get\", \"set\", \"get\", \"get\"]\n",
    "    [[], [\"foo\", \"bar\", 1], [\"foo\", 1], [\"foo\", 3], [\"foo\", \"bar2\", 4], [\"foo\", 4], [\"foo\", 5]]\n",
    "    Output\n",
    "    [null, null, \"bar\", \"bar\", null, \"bar2\", \"bar2\"]\n",
    "\n",
    "    Explanation\n",
    "    TimeMap timeMap = new TimeMap();\n",
    "    timeMap.set(\"foo\", \"bar\", 1);  // store the key \"foo\" and value \"bar\" along with timestamp = 1.\n",
    "    timeMap.get(\"foo\", 1);         // return \"bar\"\n",
    "    timeMap.get(\"foo\", 3);         // return \"bar\", since there is no value corresponding to foo at timestamp 3 and timestamp 2, then the only value is at timestamp 1 is \"bar\".\n",
    "    timeMap.set(\"foo\", \"bar2\", 4); // store the key \"foo\" and value \"bar2\" along with timestamp = 4.\n",
    "    timeMap.get(\"foo\", 4);         // return \"bar2\"\n",
    "    timeMap.get(\"foo\", 5);         // return \"bar2\"\n",
    "\n"
   ]
  },
  {
   "cell_type": "code",
   "execution_count": 175,
   "id": "a9bba632",
   "metadata": {},
   "outputs": [
    {
     "name": "stdout",
     "output_type": "stream",
     "text": [
      "bar\n",
      "bar\n",
      "bar2\n",
      "bar2\n"
     ]
    }
   ],
   "source": [
    "import collections\n",
    "class TimeMap:\n",
    "    def __init__(self):\n",
    "        self.dic = collections.defaultdict(list)\n",
    "\n",
    "    def set(self, key: str, value: str, timestamp: int) -> None:\n",
    "        self.dic[key].append([timestamp, value])\n",
    "        \n",
    "\n",
    "    def get(self, key: str, timestamp: int) -> str:\n",
    "        left = -1\n",
    "        right = len(self.dic[key]) - 1\n",
    "        while left < right:\n",
    "            mid = (left + right + 1) // 2\n",
    "            \n",
    "            if self.dic[key][mid][0] <= timestamp:\n",
    "                left = mid\n",
    "            else:\n",
    "                right = mid - 1\n",
    "        # print(key, self.dic[key], left)        \n",
    "        return self.dic[key][left][1] if left != -1 else \"\"\n",
    "    \n",
    "# [\"TimeMap\",\"set\",\"set\",\"get\",\"get\",\"get\",\"get\",\"get\"]\n",
    "# [[],[\"love\",\"high\",10],[\"love\",\"low\",20],[\"love\",5],[\"love\",10],[\"love\",15],[\"love\",20],[\"love\",25]]\n",
    "\n",
    "\n",
    "# [null,null,null,\"\",\"high\",\"high\",\"low\",\"low\"]\n",
    "\n",
    "timeMap = TimeMap()\n",
    "timeMap.set(\"foo\", \"bar\", 1)\n",
    "print(timeMap.get(\"foo\", 1))    \n",
    "print(timeMap.get(\"foo\", 3))       \n",
    "timeMap.set(\"foo\", \"bar2\", 4)\n",
    "print(timeMap.get(\"foo\", 4))        \n",
    "print(timeMap.get(\"foo\", 5))"
   ]
  },
  {
   "cell_type": "markdown",
   "id": "85bb7ba1",
   "metadata": {},
   "source": [
    "### 1283. Find the Smallest Divisor Given a Threshold\n",
    "\n",
    "    Input: nums = [1,2,5,9], threshold = 6\n",
    "    Output: 5\n",
    "    Explanation: We can get a sum to 17 (1+2+5+9) if the divisor is 1. \n",
    "    If the divisor is 4 we can get a sum of 7 (1+1+2+3) and if the divisor is 5 the sum will be 5 (1+1+1+2)."
   ]
  },
  {
   "cell_type": "code",
   "execution_count": 181,
   "id": "dc79ecbe",
   "metadata": {},
   "outputs": [
    {
     "name": "stdout",
     "output_type": "stream",
     "text": [
      "5\n"
     ]
    }
   ],
   "source": [
    "import math\n",
    "def smallestDivisor(nums, threshold):\n",
    "    \n",
    "    def feasible(nums, divisor):\n",
    "        lsum = 0\n",
    "        for n in nums:\n",
    "            lsum += math.ceil((n / divisor))\n",
    "        return lsum\n",
    "        \n",
    "        \n",
    "    left = 1\n",
    "    right = max(nums)\n",
    "    \n",
    "    while left < right:\n",
    "        mid = (left + right)//2\n",
    "        if feasible(nums, mid) <= threshold:\n",
    "            right = mid\n",
    "        else:\n",
    "            left = mid + 1\n",
    "    return left\n",
    "\n",
    "\n",
    "nums = [1,2,5,9]\n",
    "threshold = 6\n",
    "print(smallestDivisor(nums, threshold))\n",
    "    "
   ]
  },
  {
   "cell_type": "code",
   "execution_count": 180,
   "id": "94e95b8c",
   "metadata": {},
   "outputs": [
    {
     "name": "stdout",
     "output_type": "stream",
     "text": [
      "5\n"
     ]
    }
   ],
   "source": []
  },
  {
   "cell_type": "code",
   "execution_count": null,
   "id": "ac605823",
   "metadata": {},
   "outputs": [],
   "source": []
  }
 ],
 "metadata": {
  "kernelspec": {
   "display_name": "Python 3 (ipykernel)",
   "language": "python",
   "name": "python3"
  },
  "language_info": {
   "codemirror_mode": {
    "name": "ipython",
    "version": 3
   },
   "file_extension": ".py",
   "mimetype": "text/x-python",
   "name": "python",
   "nbconvert_exporter": "python",
   "pygments_lexer": "ipython3",
   "version": "3.10.0"
  }
 },
 "nbformat": 4,
 "nbformat_minor": 5
}
