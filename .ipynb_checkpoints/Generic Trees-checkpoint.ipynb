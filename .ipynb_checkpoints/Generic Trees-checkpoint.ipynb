{
 "cells": [
  {
   "cell_type": "code",
   "execution_count": 33,
   "id": "2c7dfa72",
   "metadata": {},
   "outputs": [],
   "source": [
    "class TreeNode:\n",
    "    def __init__(self, data):\n",
    "        self.data = data\n",
    "        self.children = []\n",
    "        \n",
    "def printTree(root):\n",
    "    \n",
    "    print(root.data, end = \": \")\n",
    "    \n",
    "    for child in root.children:\n",
    "        print(child.data, end = \",\" )\n",
    "    print()   \n",
    "    for child in root.children:\n",
    "        printTree(child)\n",
    "        \n",
    "def takeInput():\n",
    "    print(\"Enter the root data\")\n",
    "    rootData = int(input())\n",
    "    if rootData == -1:\n",
    "        return None\n",
    "    rootNode = TreeNode(rootData)\n",
    "    print(\"Enter Child count for root : \", rootData)\n",
    "    childCount = int(input())\n",
    "    for count in range(childCount):\n",
    "        childNode = takeInput()\n",
    "        rootNode.children.append(childNode)\n",
    "    return rootNode\n",
    "\n",
    "        \n",
    "        \n",
    "    "
   ]
  },
  {
   "cell_type": "code",
   "execution_count": 34,
   "id": "51491451",
   "metadata": {},
   "outputs": [
    {
     "name": "stdout",
     "output_type": "stream",
     "text": [
      "Enter the root data\n",
      "5\n",
      "Enter Child count for root :  5\n",
      "4\n",
      "Enter the root data\n",
      "2\n",
      "Enter Child count for root :  2\n",
      "0\n",
      "Enter the root data\n",
      "9\n",
      "Enter Child count for root :  9\n",
      "2\n",
      "Enter the root data\n",
      "15\n",
      "Enter Child count for root :  15\n",
      "0\n",
      "Enter the root data\n",
      "1\n",
      "Enter Child count for root :  1\n",
      "0\n",
      "Enter the root data\n",
      "8\n",
      "Enter Child count for root :  8\n",
      "0\n",
      "Enter the root data\n",
      "7\n",
      "Enter Child count for root :  7\n",
      "0\n",
      "5: 2,9,8,7,\n",
      "2: \n",
      "9: 15,1,\n",
      "15: \n",
      "1: \n",
      "8: \n",
      "7: \n"
     ]
    }
   ],
   "source": [
    "n1 = takeInput()\n",
    "printTree(n1)"
   ]
  },
  {
   "cell_type": "code",
   "execution_count": 35,
   "id": "935b5295",
   "metadata": {},
   "outputs": [],
   "source": [
    "def numOfNodes(root):\n",
    "    if root is None:\n",
    "        return 0\n",
    "    count = 1\n",
    "    for child in root.children:\n",
    "        count += numOfNodes(child)\n",
    "    return count"
   ]
  },
  {
   "cell_type": "code",
   "execution_count": 41,
   "id": "716094fc",
   "metadata": {},
   "outputs": [
    {
     "data": {
      "text/plain": [
       "7"
      ]
     },
     "execution_count": 41,
     "metadata": {},
     "output_type": "execute_result"
    }
   ],
   "source": [
    "numOfNodes(n1)"
   ]
  },
  {
   "cell_type": "code",
   "execution_count": 59,
   "id": "344aa045",
   "metadata": {},
   "outputs": [],
   "source": [
    "def sumOfAllNodes(root):\n",
    "    if root is None:\n",
    "        return 0\n",
    "    lsum = root.data\n",
    "    for child in root.children:\n",
    "        smallOp = sumOfAllNodes(child)\n",
    "        lsum += smallOp\n",
    "    return lsum"
   ]
  },
  {
   "cell_type": "code",
   "execution_count": 60,
   "id": "ee5d991e",
   "metadata": {},
   "outputs": [
    {
     "data": {
      "text/plain": [
       "47"
      ]
     },
     "execution_count": 60,
     "metadata": {},
     "output_type": "execute_result"
    }
   ],
   "source": [
    "sumOfAllNodes(n1)"
   ]
  },
  {
   "cell_type": "code",
   "execution_count": 64,
   "id": "48bfa77e",
   "metadata": {},
   "outputs": [
    {
     "name": "stdout",
     "output_type": "stream",
     "text": [
      "-inf\n"
     ]
    }
   ],
   "source": [
    "def maxDataNode(root):\n",
    "    if root is None:\n",
    "        return None\n",
    "    max_so_far = root.data\n",
    "    for child in root.children:\n",
    "        if max_so_far < child.data:\n",
    "            return maxDataNode(child, child.data)\n",
    "        else:\n",
    "            return maxDataNode(child, max_so_far)\n",
    "    return max_so_far\n",
    "            \n",
    "ans = float('-inf')\n",
    "maxDataNode(n1, ans)\n",
    "print(ans)\n",
    "        "
   ]
  },
  {
   "cell_type": "code",
   "execution_count": null,
   "id": "86259f65",
   "metadata": {},
   "outputs": [],
   "source": []
  },
  {
   "cell_type": "code",
   "execution_count": null,
   "id": "43aea4d3",
   "metadata": {},
   "outputs": [],
   "source": []
  }
 ],
 "metadata": {
  "kernelspec": {
   "display_name": "Python 3 (ipykernel)",
   "language": "python",
   "name": "python3"
  },
  "language_info": {
   "codemirror_mode": {
    "name": "ipython",
    "version": 3
   },
   "file_extension": ".py",
   "mimetype": "text/x-python",
   "name": "python",
   "nbconvert_exporter": "python",
   "pygments_lexer": "ipython3",
   "version": "3.10.0"
  }
 },
 "nbformat": 4,
 "nbformat_minor": 5
}
