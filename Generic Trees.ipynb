{
 "cells": [
  {
   "cell_type": "code",
   "execution_count": 33,
   "id": "7960b5ef",
   "metadata": {},
   "outputs": [],
   "source": [
    "class TreeNode:\n",
    "    def __init__(self, data):\n",
    "        self.data = data\n",
    "        self.children = []\n",
    "        \n",
    "def printTree(root):\n",
    "    \n",
    "    print(root.data, end = \": \")\n",
    "    \n",
    "    for child in root.children:\n",
    "        print(child.data, end = \",\" )\n",
    "    print()   \n",
    "    for child in root.children:\n",
    "        printTree(child)\n",
    "        \n",
    "def takeInput():\n",
    "    print(\"Enter the root data\")\n",
    "    rootData = int(input())\n",
    "    if rootData == -1:\n",
    "        return None\n",
    "    rootNode = TreeNode(rootData)\n",
    "    print(\"Enter Child count for root : \", rootData)\n",
    "    childCount = int(input())\n",
    "    for count in range(childCount):\n",
    "        childNode = takeInput()\n",
    "        rootNode.children.append(childNode)\n",
    "    return rootNode\n",
    "\n",
    "        \n",
    "        \n",
    "    "
   ]
  },
  {
   "cell_type": "code",
   "execution_count": 34,
   "id": "e32f164e",
   "metadata": {},
   "outputs": [
    {
     "name": "stdout",
     "output_type": "stream",
     "text": [
      "Enter the root data\n",
      "5\n",
      "Enter Child count for root :  5\n",
      "4\n",
      "Enter the root data\n",
      "2\n",
      "Enter Child count for root :  2\n",
      "0\n",
      "Enter the root data\n",
      "9\n",
      "Enter Child count for root :  9\n",
      "2\n",
      "Enter the root data\n",
      "15\n",
      "Enter Child count for root :  15\n",
      "0\n",
      "Enter the root data\n",
      "1\n",
      "Enter Child count for root :  1\n",
      "0\n",
      "Enter the root data\n",
      "8\n",
      "Enter Child count for root :  8\n",
      "0\n",
      "Enter the root data\n",
      "7\n",
      "Enter Child count for root :  7\n",
      "0\n",
      "5: 2,9,8,7,\n",
      "2: \n",
      "9: 15,1,\n",
      "15: \n",
      "1: \n",
      "8: \n",
      "7: \n"
     ]
    }
   ],
   "source": [
    "n1 = takeInput()\n",
    "printTree(n1)"
   ]
  },
  {
   "cell_type": "code",
   "execution_count": 35,
   "id": "67e7e619",
   "metadata": {},
   "outputs": [],
   "source": [
    "def numOfNodes(root):\n",
    "    if root is None:\n",
    "        return 0\n",
    "    count = 1\n",
    "    for child in root.children:\n",
    "        count += numOfNodes(child)\n",
    "    return count"
   ]
  },
  {
   "cell_type": "code",
   "execution_count": 41,
   "id": "2b09bbcb",
   "metadata": {},
   "outputs": [
    {
     "data": {
      "text/plain": [
       "7"
      ]
     },
     "execution_count": 41,
     "metadata": {},
     "output_type": "execute_result"
    }
   ],
   "source": [
    "numOfNodes(n1)"
   ]
  },
  {
   "cell_type": "code",
   "execution_count": 59,
   "id": "00dcf70d",
   "metadata": {},
   "outputs": [],
   "source": [
    "def sumOfAllNodes(root):\n",
    "    if root is None:\n",
    "        return 0\n",
    "    lsum = root.data\n",
    "    for child in root.children:\n",
    "        smallOp = sumOfAllNodes(child)\n",
    "        lsum += smallOp\n",
    "    return lsum"
   ]
  },
  {
   "cell_type": "code",
   "execution_count": 60,
   "id": "2ecfdc74",
   "metadata": {},
   "outputs": [
    {
     "data": {
      "text/plain": [
       "47"
      ]
     },
     "execution_count": 60,
     "metadata": {},
     "output_type": "execute_result"
    }
   ],
   "source": [
    "sumOfAllNodes(n1)"
   ]
  },
  {
   "cell_type": "code",
   "execution_count": 67,
   "id": "f0ba891d",
   "metadata": {},
   "outputs": [
    {
     "data": {
      "text/plain": [
       "15"
      ]
     },
     "execution_count": 67,
     "metadata": {},
     "output_type": "execute_result"
    }
   ],
   "source": [
    "def maxDataNode(root):\n",
    "    if root is None:\n",
    "        return None\n",
    "    max_so_far = root.data\n",
    "    for child in root.children:\n",
    "        smallOp = maxDataNode(child)\n",
    "        if max_so_far < smallOp:\n",
    "            max_so_far = smallOp\n",
    "    return max_so_far\n",
    "\n",
    "maxDataNode(n1)\n",
    "\n",
    "        "
   ]
  },
  {
   "cell_type": "code",
   "execution_count": 69,
   "id": "5ffd863f",
   "metadata": {},
   "outputs": [],
   "source": [
    "def heightOfTree(root):\n",
    "    if root is None:\n",
    "        return 0\n",
    "    lHeight = 1\n",
    "    for child in root.children:\n",
    "        smallOP = heightOfTree(child)\n",
    "        if lHeight < smallOP:\n",
    "            lHeight = smallOP\n",
    "    return lHeight + 1"
   ]
  },
  {
   "cell_type": "code",
   "execution_count": 70,
   "id": "f9b8a85f",
   "metadata": {},
   "outputs": [
    {
     "data": {
      "text/plain": [
       "4"
      ]
     },
     "execution_count": 70,
     "metadata": {},
     "output_type": "execute_result"
    }
   ],
   "source": [
    "heightOfTree(n1)"
   ]
  },
  {
   "cell_type": "code",
   "execution_count": 89,
   "id": "c83d3bb6",
   "metadata": {},
   "outputs": [],
   "source": [
    "import queue\n",
    "def takeInputLevelwise():\n",
    "    print(\"Enter the root Data\")\n",
    "    rootData = int(input())\n",
    "    if rootData == -1:\n",
    "        return None\n",
    "    root = TreeNode(rootData)\n",
    "    q = queue.Queue()\n",
    "    q.put(root)\n",
    "    \n",
    "    while not q.empty():\n",
    "        currentNode = q.get()\n",
    "        print('Enter no of children for : ', currentNode.data)\n",
    "        childCount = int(input()) \n",
    "        \n",
    "        for count in range(childCount):\n",
    "            print('Enter ' + str(count + 1) + ' child of ' + str(currentNode.data))\n",
    "            childData = int(input())\n",
    "            childNode = TreeNode(childData)\n",
    "            currentNode.children.append(childNode)\n",
    "            q.put(childNode)\n",
    "    return root\n",
    "\n",
    "            \n",
    "    \n"
   ]
  },
  {
   "cell_type": "code",
   "execution_count": 90,
   "id": "2b4fd919",
   "metadata": {},
   "outputs": [
    {
     "name": "stdout",
     "output_type": "stream",
     "text": [
      "Enter root\n",
      "5\n",
      "Enter num of children for 5\n",
      "4\n",
      "Enter next child for 5\n",
      "2\n",
      "Enter next child for 5\n",
      "9\n",
      "Enter next child for 5\n",
      "8\n",
      "Enter next child for 5\n",
      "7\n",
      "Enter num of children for 2\n",
      "0\n",
      "Enter num of children for 9\n",
      "2\n",
      "Enter next child for 9\n",
      "15\n",
      "Enter next child for 9\n",
      "1\n",
      "Enter num of children for 8\n",
      "0\n",
      "Enter num of children for 7\n",
      "0\n",
      "Enter num of children for 15\n",
      "0\n",
      "Enter num of children for 1\n",
      "0\n"
     ]
    }
   ],
   "source": [
    "rootInput = takeTreeInputLevelWise()"
   ]
  },
  {
   "cell_type": "code",
   "execution_count": 91,
   "id": "4189888d",
   "metadata": {},
   "outputs": [
    {
     "name": "stdout",
     "output_type": "stream",
     "text": [
      "5: 2,9,8,7,\n",
      "2: \n",
      "9: 15,1,\n",
      "15: \n",
      "1: \n",
      "8: \n",
      "7: \n"
     ]
    }
   ],
   "source": [
    "printTree(rootInput)"
   ]
  },
  {
   "cell_type": "code",
   "execution_count": 93,
   "id": "28963623",
   "metadata": {},
   "outputs": [],
   "source": [
    "class Solution:\n",
    "    def levelOrder(self, root: 'Node'):\n",
    "        if root is None:\n",
    "            return None\n",
    "        q = queue.Queue()\n",
    "        q.put(root)\n",
    "\n",
    "        return_list = []\n",
    "        while not q.empty():\n",
    "            ans = []\n",
    "            for l in range(q.qsize()):\n",
    "                currentNode = q.get()\n",
    "                ans.append(currentNode.val)\n",
    "                for item in currentNode.children:\n",
    "                    q.put(item)\n",
    "            return_list.append(ans)\n",
    "\n",
    "        return return_list"
   ]
  },
  {
   "cell_type": "markdown",
   "id": "1d965b3d",
   "metadata": {},
   "source": [
    "### Node with maximum child sum"
   ]
  },
  {
   "cell_type": "code",
   "execution_count": 94,
   "id": "c5b1a606",
   "metadata": {},
   "outputs": [],
   "source": [
    "       \n",
    "def maxSumNode(root):\n",
    "    #############################\n",
    "    # PLEASE ADD YOUR CODE HERE #\n",
    "    #############################\n",
    "\n",
    "    if root is None:\n",
    "        return None\n",
    "    \n",
    "    rootNode = root\n",
    "    lsum = root.data\n",
    "    for child in root.children:\n",
    "        lsum += child.data\n",
    "    \n",
    "    for child in root.children:\n",
    "        childNode, childSum = maxSumNode(child)\n",
    "        if childSum > lsum:\n",
    "            lsum = childSum\n",
    "            rootNode = childNode\n",
    "    \n",
    "    return rootNode, lsum\n",
    "    #############################\n",
    "    # Alternative Approach #\n",
    "    #############################\n",
    "class NewTreeNode:\n",
    "    def __init__(self, data):\n",
    "        self.data = data\n",
    "        self.children = []\n",
    "        \n",
    "    def sum(self):\n",
    "        ans = self.data\n",
    "        for child in self.children:\n",
    "            ans += child.data\n",
    "        return ans\n",
    "    \n",
    "def maxSumNode2(tree):\n",
    "    if not tree:\n",
    "        return None\n",
    "    ans, ansSum = tree, tree.sum()\n",
    "    for child in tree.children:\n",
    "        temp, tempSum = maxSumNode2(child)\n",
    "        if tempSum > ansSUm:\n",
    "            ans, ansSum = temp, tempSum\n",
    "            \n",
    "    return ans, ansSum\n",
    "            \n",
    "            \n",
    "            \n",
    "        \n",
    "    "
   ]
  },
  {
   "cell_type": "code",
   "execution_count": 95,
   "id": "01b22e7a",
   "metadata": {},
   "outputs": [],
   "source": [
    "def nextLargest(root, n):\n",
    "    if root is None:\n",
    "        return None\n",
    "    ans = None\n",
    "    if root.data > n:\n",
    "        ans = root\n",
    "        \n",
    "    for child in root.children:\n",
    "        temp = nextLargest(child, n)\n",
    "        if temp:\n",
    "            if (not ans) or temp.data < ans.data:\n",
    "                ans = temp\n",
    "            \n",
    "    return ans\n",
    "            "
   ]
  },
  {
   "cell_type": "code",
   "execution_count": 96,
   "id": "a8679c69",
   "metadata": {},
   "outputs": [],
   "source": [
    "def isIdentical(tree1, tree2):\n",
    "    #############################\n",
    "    # PLEASE ADD YOUR CODE HERE #\n",
    "    #############################\n",
    "    if not tree1:\n",
    "        if not tree2:\n",
    "            return True\n",
    "        return False\n",
    "    if (tree1.data != tree2.data) or len(tree1.children) != len(tree2.children):\n",
    "        return False\n",
    "    for child1, child2 in zip(tree1.children, tree2.children):\n",
    "        if not isIdentical(child1, child2):\n",
    "            return False\n",
    "    return True"
   ]
  },
  {
   "cell_type": "code",
   "execution_count": 97,
   "id": "85a1be2b",
   "metadata": {},
   "outputs": [
    {
     "data": {
      "text/plain": [
       "8"
      ]
     },
     "execution_count": 97,
     "metadata": {},
     "output_type": "execute_result"
    }
   ],
   "source": [
    "pow(2,3)"
   ]
  },
  {
   "cell_type": "code",
   "execution_count": null,
   "id": "d0978f76",
   "metadata": {},
   "outputs": [],
   "source": []
  }
 ],
 "metadata": {
  "kernelspec": {
   "display_name": "Python 3 (ipykernel)",
   "language": "python",
   "name": "python3"
  },
  "language_info": {
   "codemirror_mode": {
    "name": "ipython",
    "version": 3
   },
   "file_extension": ".py",
   "mimetype": "text/x-python",
   "name": "python",
   "nbconvert_exporter": "python",
   "pygments_lexer": "ipython3",
   "version": "3.10.0"
  }
 },
 "nbformat": 4,
 "nbformat_minor": 5
}
