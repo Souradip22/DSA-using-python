{
 "cells": [
  {
   "cell_type": "markdown",
   "id": "8836cf28",
   "metadata": {},
   "source": [
    "### kth prime Number"
   ]
  },
  {
   "cell_type": "code",
   "execution_count": 48,
   "id": "09589df6",
   "metadata": {},
   "outputs": [],
   "source": [
    "l=[1 for i in range(1000001)]\n",
    "for i in range(2,1000001):\n",
    "    if l[i]==1:\n",
    "        for j in range(i*i,1000001,i):\n",
    "            l[j]=0\n",
    "primes=[]\n",
    "for i in range(2,1000001):\n",
    "    if l[i]==1:\n",
    "        primes.append(i)\n",
    "# t=int(input())\n",
    "# while(t):\n",
    "#     t=t-1\n",
    "#     n=int(input())\n",
    "#     print(primes[n-1])\n"
   ]
  },
  {
   "cell_type": "markdown",
   "id": "6a9402c5",
   "metadata": {},
   "source": [
    "How many numbers in the given range( 1 - 10^6) have minimum prime factor as number n"
   ]
  },
  {
   "cell_type": "code",
   "execution_count": 56,
   "id": "83c8f890",
   "metadata": {},
   "outputs": [
    {
     "name": "stdout",
     "output_type": "stream",
     "text": [
      "[0, 0, 12, 4, 0, 2, 0, 1, 0, 0, 0, 1, 0, 1, 0, 0, 0, 1, 0, 1, 0, 0, 0, 1, 0, 0]\n"
     ]
    }
   ],
   "source": [
    "N = 26\n",
    "sieve = [1 for _ in range(N)]\n",
    "sieve[0] = sieve[1] = 0\n",
    "\n",
    "def constructSieve():\n",
    "    i = 2\n",
    "    while i * i <= N:\n",
    "        if sieve[i] == 1:\n",
    "            for j in range(i * i, N, i):#Make the neighbours as 0 \n",
    "                if sieve[j] != 0:\n",
    "                    sieve[i] += 1\n",
    "                    sieve[j] = 0\n",
    "        i += 1\n",
    "\n",
    "\n",
    "constructSieve()\n",
    "print(sieve)"
   ]
  },
  {
   "cell_type": "code",
   "execution_count": 57,
   "id": "14351e10",
   "metadata": {},
   "outputs": [],
   "source": [
    "# for i in range(2, math.floor(math.sqrt(n)) + 1):\n",
    "\n"
   ]
  },
  {
   "cell_type": "markdown",
   "id": "010e9c3e",
   "metadata": {},
   "source": [
    "### Prime Factorization"
   ]
  },
  {
   "cell_type": "code",
   "execution_count": 70,
   "id": "d8c94cd1",
   "metadata": {},
   "outputs": [
    {
     "name": "stdout",
     "output_type": "stream",
     "text": [
      "2x2x2x3x1\n"
     ]
    }
   ],
   "source": [
    "N = 26\n",
    "sieve = [0] * N\n",
    "def constructSieve2():\n",
    "    for i in range(0, N):\n",
    "        sieve[i] = i\n",
    "        \n",
    "    i = 2\n",
    "    while i * i <= N:\n",
    "        \n",
    "        if sieve[i] == i:\n",
    "            for j in range(i * i, N, i):\n",
    "                if sieve[j] == j:\n",
    "                    sieve[j] = i\n",
    "            \n",
    "        \n",
    "        i += 1\n",
    "        \n",
    "def getPrimefactor(n):\n",
    "    \n",
    "    while n != 1:\n",
    "        factor = sieve[n]\n",
    "        print(factor, end = 'x')\n",
    "        n = n // factor\n",
    "    print(1)\n",
    "    \n",
    "\n",
    "    \n",
    "constructSieve2()\n",
    "getPrimefactor(24)"
   ]
  },
  {
   "cell_type": "markdown",
   "id": "68dc8790",
   "metadata": {},
   "source": [
    "### check primes\n",
    "\n"
   ]
  },
  {
   "cell_type": "code",
   "execution_count": 16,
   "id": "8895330a",
   "metadata": {},
   "outputs": [
    {
     "name": "stdout",
     "output_type": "stream",
     "text": [
      "1 0\n",
      "2 1\n",
      "3 1\n",
      "4 3\n",
      "5 1\n",
      "6 1\n",
      "7 0\n",
      "8 3\n",
      "9 1\n",
      "4\n",
      "False\n"
     ]
    }
   ],
   "source": [
    "def isPrime(n):\n",
    "    \n",
    "    i = 1\n",
    "    cnt = 0\n",
    "    while i * i <= n:\n",
    "        print(i, n% i)\n",
    "        if n % i == 0:\n",
    "            cnt += 1\n",
    "            if n // i != i:\n",
    "                cnt += 1\n",
    "        i += 1\n",
    "    print(cnt)\n",
    "    if cnt == 2:\n",
    "        return True\n",
    "    return False\n",
    "\n",
    "print(isPrime(91))\n",
    "# For 36, total factors 9, but now if we run the loop  to sqrt(N) we have to increase 2 times, except when i and n / i are \n",
    "# same like 6 x 6 here is no repeat\n",
    "# Factors:\n",
    "# 1 x 36\n",
    "# 2 x 18\n",
    "# 3 x 12\n",
    "# 4 x 9\n",
    "# 6 x 6\n",
    "# 9 x 4\n",
    "# 12 x 3\n",
    "# 18 x 2\n",
    "# 36 x 1"
   ]
  },
  {
   "cell_type": "code",
   "execution_count": null,
   "id": "a9121768",
   "metadata": {},
   "outputs": [],
   "source": []
  }
 ],
 "metadata": {
  "kernelspec": {
   "display_name": "Python 3 (ipykernel)",
   "language": "python",
   "name": "python3"
  },
  "language_info": {
   "codemirror_mode": {
    "name": "ipython",
    "version": 3
   },
   "file_extension": ".py",
   "mimetype": "text/x-python",
   "name": "python",
   "nbconvert_exporter": "python",
   "pygments_lexer": "ipython3",
   "version": "3.10.0"
  }
 },
 "nbformat": 4,
 "nbformat_minor": 5
}
