{
 "cells": [
  {
   "cell_type": "code",
   "execution_count": 2,
   "id": "0c2cf5c9",
   "metadata": {},
   "outputs": [],
   "source": [
    "class BinaryTreeNode:\n",
    "    def __init__(self, data):\n",
    "        self.data = data\n",
    "        self.left = None\n",
    "        self.right = None\n",
    "\n",
    "def takeInput():\n",
    "    rootData = int(input())\n",
    "    if rootData == -1:\n",
    "        return None\n",
    "    rootNode = BinaryTreeNode(rootData)\n",
    "    leftNode = takeInput()\n",
    "    rightNode = takeInput()\n",
    "    \n",
    "    rootNode.left = leftNode\n",
    "    rootNode.right = rightNode\n",
    "    return rootNode\n",
    "\n",
    "def printBinaryTree(root):\n",
    "    \n",
    "    if root == None:\n",
    "        return\n",
    "    print(root.data, end = ' ')\n",
    "    if root.left:\n",
    "        print(\"L\", root.left.data, end = ':')\n",
    "    if root.right:\n",
    "        print(\"R\", root.right.data, end = ' ')\n",
    "    print()\n",
    "    printBinaryTree(root.left)\n",
    "    printBinaryTree(root.right)"
   ]
  },
  {
   "cell_type": "code",
   "execution_count": 3,
   "id": "f05e881e",
   "metadata": {},
   "outputs": [
    {
     "name": "stdout",
     "output_type": "stream",
     "text": [
      "-1\n"
     ]
    }
   ],
   "source": [
    "root = takeInput()\n",
    "printBinaryTree(root)"
   ]
  },
  {
   "cell_type": "code",
   "execution_count": 4,
   "id": "8744b540",
   "metadata": {},
   "outputs": [
    {
     "name": "stdout",
     "output_type": "stream",
     "text": [
      "-1\n"
     ]
    }
   ],
   "source": [
    "root3 = takeInput()"
   ]
  },
  {
   "cell_type": "code",
   "execution_count": 5,
   "id": "35df01df",
   "metadata": {},
   "outputs": [
    {
     "name": "stdout",
     "output_type": "stream",
     "text": [
      "-1\n"
     ]
    }
   ],
   "source": [
    "root4 = takeInput()"
   ]
  },
  {
   "cell_type": "code",
   "execution_count": 6,
   "id": "56e999f2",
   "metadata": {},
   "outputs": [
    {
     "name": "stdout",
     "output_type": "stream",
     "text": [
      "-1\n",
      "0\n"
     ]
    }
   ],
   "source": [
    "def largestNode(root):\n",
    "    if root is None:\n",
    "        return 0\n",
    "    leftLargest = largestNode(root.left)\n",
    "    rightLargest = largestNode(root.right)\n",
    "    \n",
    "    lmax = max(root.data, leftLargest, rightLargest)\n",
    "    return lmax\n",
    "\n",
    "root = takeInput()\n",
    "print(largestNode(root))"
   ]
  },
  {
   "cell_type": "markdown",
   "id": "5688c029",
   "metadata": {},
   "source": [
    "### return count of node greater than X"
   ]
  },
  {
   "cell_type": "code",
   "execution_count": 7,
   "id": "a626704d",
   "metadata": {},
   "outputs": [
    {
     "name": "stdout",
     "output_type": "stream",
     "text": [
      "-1\n",
      "0\n"
     ]
    }
   ],
   "source": [
    "def countGTX(root, X):\n",
    "    count = 0\n",
    "    if root is None:\n",
    "        return count\n",
    "    if root.data > X:\n",
    "        count = 1\n",
    "    # \n",
    "    leftCount = countGTX(root.left, X)\n",
    "    rightCount = countGTX(root.right, X)\n",
    "    \n",
    "    return count + leftCount + rightCount\n",
    "\n",
    "root = takeInput()\n",
    "print(countGTX(root, 5))"
   ]
  },
  {
   "cell_type": "code",
   "execution_count": 8,
   "id": "cbdba1bb",
   "metadata": {},
   "outputs": [
    {
     "name": "stdout",
     "output_type": "stream",
     "text": [
      "0\n"
     ]
    }
   ],
   "source": [
    "printBinaryTree(root)\n",
    "print(countGTX(root, 2))"
   ]
  },
  {
   "cell_type": "code",
   "execution_count": 9,
   "id": "6cebb8c2",
   "metadata": {},
   "outputs": [
    {
     "name": "stdout",
     "output_type": "stream",
     "text": [
      "-1\n",
      "0\n"
     ]
    }
   ],
   "source": [
    "root2 = takeInput()\n",
    "print(countGTX(root2, 5))"
   ]
  },
  {
   "cell_type": "markdown",
   "id": "deb1df7f",
   "metadata": {},
   "source": [
    "### Height of tree"
   ]
  },
  {
   "cell_type": "code",
   "execution_count": 10,
   "id": "67537be7",
   "metadata": {},
   "outputs": [
    {
     "data": {
      "text/plain": [
       "0"
      ]
     },
     "execution_count": 10,
     "metadata": {},
     "output_type": "execute_result"
    }
   ],
   "source": [
    "def heightOfTree(root):\n",
    "    if root is None:\n",
    "        return 0\n",
    "    leftHeight = heightOfTree(root.left)\n",
    "    rightHeight = heightOfTree(root.right)\n",
    "    \n",
    "    if leftHeight > rightHeight:\n",
    "        return 1 + leftHeight\n",
    "    return 1 + rightHeight\n",
    "heightOfTree(root3)"
   ]
  },
  {
   "cell_type": "markdown",
   "id": "4f87872a",
   "metadata": {},
   "source": [
    "### Replace Node with Depth"
   ]
  },
  {
   "cell_type": "code",
   "execution_count": 11,
   "id": "f0606bcb",
   "metadata": {},
   "outputs": [
    {
     "name": "stdout",
     "output_type": "stream",
     "text": [
      "-1\n"
     ]
    }
   ],
   "source": [
    "def replaceNodeDepth(root, d):\n",
    "    if root is None: \n",
    "        return None\n",
    "    root.data = d\n",
    "    replaceNodeDepth(root.left, d + 1)\n",
    "    replaceNodeDepth(root.right, d + 1)\n",
    "    \n",
    "rt1 = takeInput()\n",
    "printBinaryTree(rt1)\n",
    "replaceNodeDepth(rt1, 0)\n",
    "printBinaryTree(rt1)"
   ]
  },
  {
   "cell_type": "markdown",
   "id": "3ed694ad",
   "metadata": {},
   "source": [
    "### Number of Leaf Node\n"
   ]
  },
  {
   "cell_type": "code",
   "execution_count": 12,
   "id": "5434cfa1",
   "metadata": {},
   "outputs": [
    {
     "data": {
      "text/plain": [
       "0"
      ]
     },
     "execution_count": 12,
     "metadata": {},
     "output_type": "execute_result"
    }
   ],
   "source": [
    "def numberOfLeaf(root):\n",
    "    count = 0\n",
    "    #BASE CONDITION 1\n",
    "    if root is None:\n",
    "        return 0\n",
    "    # Base Condition 2\n",
    "    if root.left is None and root.right is None:\n",
    "        return 1\n",
    "    \n",
    "    leftSide = numberOfLeaf(root.left)\n",
    "    rightSide = numberOfLeaf(root.right)\n",
    "    \n",
    "    return leftSide + rightSide\n",
    "\n",
    "printBinaryTree(root3)\n",
    "numberOfLeaf(root3)\n",
    "    \n",
    "    "
   ]
  },
  {
   "cell_type": "markdown",
   "id": "b4516404",
   "metadata": {},
   "source": [
    "### Print Nodes at depth k\n"
   ]
  },
  {
   "cell_type": "code",
   "execution_count": 13,
   "id": "b4fef880",
   "metadata": {},
   "outputs": [],
   "source": [
    "def printNodesAtK(root, k):\n",
    "    if root is None:\n",
    "        return\n",
    "    if k == 0:\n",
    "        print(root.data)\n",
    "        return \n",
    "    printNodesAtK(root.left, k - 1)\n",
    "    printNodesAtK(root.right, k - 1)\n",
    "    \n",
    "printNodesAtK(root3, 2)"
   ]
  },
  {
   "cell_type": "markdown",
   "id": "109bf5e4",
   "metadata": {},
   "source": [
    "### print Nodes without Sibling"
   ]
  },
  {
   "cell_type": "code",
   "execution_count": 14,
   "id": "3bd41af7",
   "metadata": {},
   "outputs": [],
   "source": [
    "def printNodesWithOutSibLing(root):\n",
    "    if root is None:\n",
    "        return\n",
    "    \n",
    "    if (root.left is None) and (root.right is not None):\n",
    "        print(root.right.data, end = \" \")\n",
    "        \n",
    "    if (root.left is not None) and (root.right is None):\n",
    "        print(root.left.data, end = \" \")\n",
    "    \n",
    "    printNodesWithOutSibLing(root.left)\n",
    "    printNodesWithOutSibLing(root.right)\n",
    "    \n",
    "printNodesWithOutSibLing(root4)\n",
    "        "
   ]
  },
  {
   "cell_type": "markdown",
   "id": "ac105bfd",
   "metadata": {},
   "source": [
    "## Remove Leaf Nodes || Structure Change of a tree"
   ]
  },
  {
   "cell_type": "code",
   "execution_count": 15,
   "id": "9049a4b3",
   "metadata": {},
   "outputs": [
    {
     "name": "stdout",
     "output_type": "stream",
     "text": [
      "-1\n"
     ]
    }
   ],
   "source": [
    "def removeLeaf(root):\n",
    "    if root is None:\n",
    "        return None\n",
    "    # if root is leaf node then return None\n",
    "    if root.left is None and root.right is None:\n",
    "        return None\n",
    "    root.left = removeLeaf(root.left)\n",
    "    root.right = removeLeaf(root.right)\n",
    "    return root\n",
    "\n",
    "rt2 = takeInput()\n",
    "removeLeaf(rt2)\n",
    "printBinaryTree(rt2)"
   ]
  },
  {
   "cell_type": "markdown",
   "id": "3bedc755",
   "metadata": {},
   "source": [
    "### Mirror Binary Tree\n"
   ]
  },
  {
   "cell_type": "code",
   "execution_count": 16,
   "id": "4d678aae",
   "metadata": {},
   "outputs": [
    {
     "name": "stdout",
     "output_type": "stream",
     "text": [
      "-1\n"
     ]
    }
   ],
   "source": [
    "def mirrorBT(root):\n",
    "    if root is None:\n",
    "        return None\n",
    "    temp = root.left\n",
    "    root.left = root.right\n",
    "    root.right = temp\n",
    "    \n",
    "    mirrorBT(root.left)\n",
    "    mirrorBT(root.right)\n",
    "    return root\n",
    "    \n",
    "rt4 = takeInput()\n",
    "printBinaryTree(rt4)\n",
    "mirrorBT(rt4)\n",
    "printBinaryTree(rt4)"
   ]
  },
  {
   "cell_type": "markdown",
   "id": "feb6b613",
   "metadata": {},
   "source": [
    "### Check if Blanced BT\n",
    "For Each node in our trees that node's left and right subtree should not have height difference of more than 1\n"
   ]
  },
  {
   "cell_type": "code",
   "execution_count": 17,
   "id": "366e1c8d",
   "metadata": {},
   "outputs": [
    {
     "name": "stdout",
     "output_type": "stream",
     "text": [
      "-1\n",
      "0 True\n"
     ]
    }
   ],
   "source": [
    "def isBalancedBT(root):\n",
    "    if root is None:\n",
    "        return 0, True\n",
    "    lh, isLeftBalanced = isBalancedBT(root.left)\n",
    "    rh, isRightBalanced = isBalancedBT(root.right)\n",
    "    \n",
    "    \n",
    "    h = 1 + max(lh, rh)\n",
    "    if lh - rh > 1 or rh - lh > 1:\n",
    "        return h, False\n",
    "    \n",
    "    if isLeftBalanced and isRightBalanced:\n",
    "        return h, True\n",
    "    \n",
    "    return h, False\n",
    "ip = takeInput()\n",
    "h, isB = isBalancedBT(ip)\n",
    "print(h, isB)"
   ]
  },
  {
   "cell_type": "markdown",
   "id": "f3e4d76c",
   "metadata": {},
   "source": [
    "### Diameter of BT \n",
    "Distance between two farthest Node\n",
    "The diameter of a binary tree is the length of the longest path between any two nodes in a tree. This path may or may not pass through the root.\n",
    "\n",
    "The length of a path between two nodes is represented by the number of edges between them."
   ]
  },
  {
   "cell_type": "markdown",
   "id": "6c88475f",
   "metadata": {},
   "source": [
    "1st approach:\n",
    " - Find the deepest Node for left subtree \n",
    " - Find the deepest Node for right subtree\n",
    " \n",
    "2nd approach:\n",
    " - Find the height of left sub tree\n",
    " - Find the height of right sub tree\n",
    " - sum of both\n",
    " \n",
    "Both of the above approach will not work in a structre like \n",
    "\n",
    "             o\n",
    "            /\\\n",
    "           o  o \n",
    "          / \\\n",
    "         o   o\n",
    "        /     \\\n",
    "       o       o\n",
    "      /         \\\n",
    "     o           o\n",
    "     \n",
    "IF we follow the above two approaches we will get the answer  - 5\n",
    "BUT ACTUAL ANSWER - 6"
   ]
  },
  {
   "cell_type": "code",
   "execution_count": 18,
   "id": "80ae0674",
   "metadata": {},
   "outputs": [
    {
     "name": "stdout",
     "output_type": "stream",
     "text": [
      "-1\n",
      "0\n"
     ]
    }
   ],
   "source": [
    "class Pair:\n",
    "    def __init__(self, diameter, height):\n",
    "        self.diameter = diameter\n",
    "        self.height = height\n",
    "        \n",
    "def diameterHelper(root):\n",
    "    if root is None:\n",
    "        pair = Pair(0, 0)\n",
    "        return pair\n",
    "    \n",
    "    leftPair = diameterHelper(root.left)\n",
    "    rightPair = diameterHelper(root.right)\n",
    "    \n",
    "    leftDiameter = leftPair.diameter\n",
    "    rightDiameter = rightPair.diameter\n",
    "    \n",
    "    diameterFromRoot = leftPair.height + rightPair.height \n",
    "    \n",
    "    diameter = max(leftDiameter, rightDiameter, diameterFromRoot)\n",
    "    height = max(leftPair.height, rightPair.height) + 1\n",
    "    \n",
    "    return Pair(diameter, height)\n",
    "    \n",
    "\n",
    "def diameterOfBT(root):\n",
    "    pair = diameterHelper(root)\n",
    "    return pair.diameter\n",
    "        \n",
    "ip2 = takeInput()\n",
    "print(diameterOfBT(ip2))"
   ]
  },
  {
   "cell_type": "markdown",
   "id": "312bd707",
   "metadata": {},
   "source": [
    "### Take level wise input BT (Iteratively)"
   ]
  },
  {
   "cell_type": "code",
   "execution_count": 19,
   "id": "1ce31778",
   "metadata": {},
   "outputs": [
    {
     "name": "stdout",
     "output_type": "stream",
     "text": [
      "Enter Root: \n",
      "-1\n"
     ]
    }
   ],
   "source": [
    "import queue\n",
    "def takeLevelWiseInput():\n",
    "    print(\"Enter Root: \")\n",
    "    rootData = int(input())  \n",
    "    if rootData == -1:\n",
    "        return \n",
    "    rootNode = BinaryTreeNode(rootData)\n",
    "    q = queue.Queue()\n",
    "    q.put(rootNode)\n",
    "    \n",
    "    while not q.empty():\n",
    "        currentNode = q.get()\n",
    "        print('Enter Left Node of: ', currentNode.data)\n",
    "        leftData = int(input())\n",
    "        if leftData != -1:\n",
    "            leftNode = BinaryTreeNode(leftData)\n",
    "            q.put(leftNode)\n",
    "            currentNode.left = leftNode\n",
    "        \n",
    "        print('Enter right Node of: ', currentNode.data)\n",
    "        rightData = int(input())\n",
    "        if rightData != -1:\n",
    "            rightNode = BinaryTreeNode(rightData)\n",
    "            q.put(rightNode)\n",
    "            currentNode.right = rightNode\n",
    "        \n",
    "    return rootNode\n",
    "\n",
    "levelWiseInput = takeLevelWiseInput()\n",
    "printBinaryTree(levelWiseInput)\n",
    "    \n",
    "    "
   ]
  },
  {
   "cell_type": "markdown",
   "id": "ef46aaba",
   "metadata": {},
   "source": [
    "###  Print Level Wise BT"
   ]
  },
  {
   "cell_type": "code",
   "execution_count": 20,
   "id": "112cf47b",
   "metadata": {},
   "outputs": [],
   "source": [
    "def printLevelWise(root):\n",
    "    if root is None:\n",
    "        return None\n",
    "    q = queue.Queue()\n",
    "    q.put(root)\n",
    "    \n",
    "    while not q.empty():\n",
    "        curr = q.get()\n",
    "        print(curr.data, end = \":\")\n",
    "        if curr.left != None:\n",
    "            print('L:', str(curr.left.data), end = ',', sep = '')\n",
    "            q.put(curr.left)\n",
    "        else:\n",
    "            print('L:', -1, end = ',', sep = '')\n",
    "            \n",
    "        \n",
    "        if curr.right != None:\n",
    "            print('R:',curr.right.data, end = '',sep='')\n",
    "            q.put(curr.right)\n",
    "        else:\n",
    "            print('R:', -1, end = '', sep = '')\n",
    "        print()\n",
    "        \n",
    "            "
   ]
  },
  {
   "cell_type": "code",
   "execution_count": 21,
   "id": "eae58beb",
   "metadata": {},
   "outputs": [],
   "source": [
    "printLevelWise(levelWiseInput)"
   ]
  },
  {
   "cell_type": "code",
   "execution_count": 22,
   "id": "3163dd12",
   "metadata": {},
   "outputs": [
    {
     "name": "stdout",
     "output_type": "stream",
     "text": [
      "R:5\n"
     ]
    }
   ],
   "source": [
    "print('R:',5,sep='')"
   ]
  },
  {
   "cell_type": "markdown",
   "id": "42c7e3ae",
   "metadata": {},
   "source": [
    "### Depth First Traversals: \n",
    "###### (a) Inorder (Left, Root, Right) : 4 2 5 1 3 \n",
    "###### (b) Preorder (Root, Left, Right) : 1 2 4 5 3 \n",
    "###### (c) Postorder (Left, Right, Root) : 4 5 2 3 1\n",
    "### Breadth-First or Level Order Traversal: 1 2 3 4 5"
   ]
  },
  {
   "cell_type": "markdown",
   "id": "742cbeeb",
   "metadata": {},
   "source": [
    "## Build Tree Using pre order and in order [LC = 105]\n"
   ]
  },
  {
   "cell_type": "code",
   "execution_count": 23,
   "id": "afdb0880",
   "metadata": {},
   "outputs": [
    {
     "name": "stdout",
     "output_type": "stream",
     "text": [
      "1 L 2:R 3 \n",
      "2 L 4:R 5 \n",
      "4 \n",
      "5 \n",
      "3 \n"
     ]
    }
   ],
   "source": [
    "def BuildTreeWithPreInOrder(preorder, inorder):\n",
    "    if len(preorder) == 0:\n",
    "        return None\n",
    "    \n",
    "    rootData = preorder[0]\n",
    "    rootNode = BinaryTreeNode(rootData)\n",
    "    \n",
    "    rootIndexInInorder = -1\n",
    "    for i in range(len(inorder)):\n",
    "        if inorder[i] == rootData:\n",
    "            rootIndexInInorder = i\n",
    "            break\n",
    "    if rootIndexInInorder == -1:\n",
    "        return None\n",
    "    \n",
    "    leftInorder = inorder[:rootIndexInInorder]\n",
    "    rightInorder = inorder[rootIndexInInorder + 1: ]\n",
    "    \n",
    "    lenLeftSubTree = len(leftInorder)\n",
    "    \n",
    "    leftPreorder = preorder[1: lenLeftSubTree+1]\n",
    "    rightPreorder = preorder[lenLeftSubTree + 1:]\n",
    "    \n",
    "    leftChild = BuildTreeWithPreInOrder(leftPreorder, leftInorder)\n",
    "    rightChild = BuildTreeWithPreInOrder(rightPreorder, rightInorder)\n",
    "    \n",
    "    rootNode.left = leftChild\n",
    "    rootNode.right = rightChild\n",
    "    \n",
    "    return rootNode\n",
    "\n",
    "pre = [1,2,4,5,3]\n",
    "ino = [4,2,5,1,3]\n",
    "\n",
    "NR = BuildTreeWithPreInOrder(pre, ino)\n",
    "printBinaryTree(NR)\n",
    "            "
   ]
  },
  {
   "cell_type": "markdown",
   "id": "cf66d409",
   "metadata": {},
   "source": [
    "### Build Tree Using post order and in order [LC = 106]"
   ]
  },
  {
   "cell_type": "code",
   "execution_count": 24,
   "id": "d16ce36f",
   "metadata": {},
   "outputs": [
    {
     "name": "stdout",
     "output_type": "stream",
     "text": [
      "3 L 9:R 20 \n",
      "9 \n",
      "20 L 15:R 7 \n",
      "15 \n",
      "7 \n"
     ]
    }
   ],
   "source": [
    "def buildTree(inorder, postorder):\n",
    "    n = len(inorder)\n",
    "    postStart = 0\n",
    "    postEnd = n - 1\n",
    "    inStart = 0\n",
    "    inEnd = n - 1\n",
    "    return _helperBuildTree(inorder, postorder, postStart, postEnd, inStart, inEnd)\n",
    "\n",
    "def _helperBuildTree(inorder, postorder, postStart, postEnd, inStart, inEnd):\n",
    "    \n",
    "    if (postStart > postEnd) or (inStart > inEnd):\n",
    "        return None\n",
    "    \n",
    "    rootData = postorder[postEnd]\n",
    "    rootNode = BinaryTreeNode(rootData)\n",
    "    \n",
    "    #Find parent element index from inorder\n",
    "    rootIndexInInorder = -1\n",
    "    for i in range(len(inorder)):\n",
    "        if inorder[i] == rootData:\n",
    "            rootIndexInInorder = i\n",
    "            break\n",
    "    if rootIndexInInorder == -1:\n",
    "        return None\n",
    "    \n",
    "    rootNode.left = _helperBuildTree(inorder, postorder, \n",
    "                                     postStart, \n",
    "                                     postStart + rootIndexInInorder - inStart - 1, \n",
    "                                     inStart, \n",
    "                                     rootIndexInInorder - 1\n",
    "                                    )\n",
    "    rootNode.right = _helperBuildTree(inorder, postorder, \n",
    "                                      postStart + rootIndexInInorder - inStart, \n",
    "                                      postEnd - 1, \n",
    "                                      rootIndexInInorder + 1, \n",
    "                                      inEnd\n",
    "                                     )\n",
    "    \n",
    "    return rootNode\n",
    "\n",
    "inorder = [9,3,15,20,7]\n",
    "postorder = [9,15,7,20,3]\n",
    "root = buildTree(inorder,postorder)\n",
    "printBinaryTree(root)\n",
    "    \n",
    "    "
   ]
  },
  {
   "cell_type": "markdown",
   "id": "7362092b",
   "metadata": {},
   "source": [
    "### Create & Insert Duplicate Node"
   ]
  },
  {
   "cell_type": "code",
   "execution_count": 25,
   "id": "1f6aa006",
   "metadata": {},
   "outputs": [
    {
     "name": "stdout",
     "output_type": "stream",
     "text": [
      "-1\n"
     ]
    }
   ],
   "source": [
    "rt = takeInput()"
   ]
  },
  {
   "cell_type": "code",
   "execution_count": 26,
   "id": "9e5e6d6c",
   "metadata": {},
   "outputs": [],
   "source": [
    "def createInsert(root):\n",
    "    \n",
    "    if root is None:\n",
    "        return None\n",
    "    dup = BinaryTreeNode(root.data)\n",
    "   \n",
    "    temp = root.left\n",
    "    root.left = dup\n",
    "    dup.left = temp \n",
    "\n",
    "    createInsert(dup.left)\n",
    "    createInsert(root.right)\n",
    "    \n",
    "    return root\n",
    "\n",
    "printBinaryTree(rt)\n",
    "createInsert(rt)\n",
    "printBinaryTree(rt)"
   ]
  },
  {
   "cell_type": "markdown",
   "id": "37dfb70e",
   "metadata": {},
   "source": [
    "### LC - Print LevelWise\n",
    "import queue\n",
    "class Solution:\n",
    "    def levelOrder(self, root: Optional[TreeNode]) -> List[List[int]]:\n",
    "        \n",
    "        if root is None:\n",
    "            return None\n",
    "        q = queue.Queue()\n",
    "        q.put(root)\n",
    "\n",
    "        return_list = []\n",
    "        while not q.empty():\n",
    "            ans = []\n",
    "            for l in range(q.qsize()):\n",
    "                currentNode = q.get()\n",
    "                ans.append(currentNode.val)\n",
    "                if currentNode.left is not None:\n",
    "                    q.put(currentNode.left)\n",
    "                    \n",
    "                if currentNode.right is not None:\n",
    "                    q.put(currentNode.right)\n",
    "            return_list.append(ans)\n",
    "    \n",
    "        return return_list"
   ]
  },
  {
   "cell_type": "markdown",
   "id": "50bb7380",
   "metadata": {},
   "source": [
    "### Minimum and Maximum in the Binary Tree"
   ]
  },
  {
   "cell_type": "code",
   "execution_count": 27,
   "id": "42570a58",
   "metadata": {},
   "outputs": [
    {
     "name": "stdout",
     "output_type": "stream",
     "text": [
      "-1\n"
     ]
    }
   ],
   "source": [
    "ip11 = takeInput()"
   ]
  },
  {
   "cell_type": "code",
   "execution_count": 28,
   "id": "af35d50e",
   "metadata": {},
   "outputs": [
    {
     "name": "stdout",
     "output_type": "stream",
     "text": [
      "inf -inf\n"
     ]
    }
   ],
   "source": [
    "def getMinAndMax(root):\n",
    "    \n",
    "    if root is None:\n",
    "        return float('inf'), float('-inf')\n",
    "    \n",
    "    leftNodeMin, leftNodeMax = getMinAndMax(root.left)\n",
    "    rightNodeMin, rightNodeMax = getMinAndMax(root.right)\n",
    "    \n",
    "    \n",
    "    lmin = min(root.data, leftNodeMin, rightNodeMin)\n",
    "    lmax = max(root.data, leftNodeMax, rightNodeMax)\n",
    "    \n",
    "    return lmin, lmax\n",
    "\n",
    "lmin, lmax = getMinAndMax(ip11)\n",
    "print(lmin, lmax)"
   ]
  },
  {
   "cell_type": "code",
   "execution_count": 29,
   "id": "9dbe5d0b",
   "metadata": {},
   "outputs": [],
   "source": [
    "class Pair :\n",
    "\n",
    "    def __init__(self, minimum, maximum) :\n",
    "        self.minimum = minimum\n",
    "        self.maximum = maximum\n",
    "\n",
    "\n",
    "\n",
    "def getMinAndMax(root) :\n",
    "    #Your code goes here\n",
    "        \n",
    "    if root is None:\n",
    "        return Pair(float('inf'), float('-inf'))\n",
    "    \n",
    "    leftPair= getMinAndMax(root.left)\n",
    "    rightPair= getMinAndMax(root.right)\n",
    "    \n",
    "    \n",
    "    lmin = min(root.data, leftPair.minimum, rightPair.minimum)\n",
    "    lmax = max(root.data, leftPair.maximum, rightPair.maximum)\n",
    "    \n",
    "    return Pair(lmin, lmax)"
   ]
  },
  {
   "cell_type": "markdown",
   "id": "c0cd18f2",
   "metadata": {},
   "source": [
    "### Path Sum Root to Leaf"
   ]
  },
  {
   "cell_type": "code",
   "execution_count": 30,
   "id": "8cf7f8af",
   "metadata": {},
   "outputs": [],
   "source": [
    "def rootToLeafPathsSumToK(root, k):\n",
    "\n",
    "    return _helper(root, k, '', 0)\n",
    "\n",
    "def _helper(root, k, pathTaken, currSum):\n",
    "\n",
    "    # Base condition\n",
    "    if root is None:\n",
    "        return None\n",
    "    \n",
    "    if root.left is None and root.right is None:\n",
    "        currSum += root.data\n",
    "        if currSum == k:\n",
    "            path = str(pathTaken + str(root.data) ).lstrip()\n",
    "            print(list(path.split(' ')))\n",
    "            \n",
    "        return\n",
    "            \n",
    "\n",
    "    _helper(root.left, k, str(pathTaken + str(root.data) + \" \"), (currSum + root.data))\n",
    "\n",
    "    _helper(root.right, k , str(pathTaken + str(root.data) + \" \"), (currSum + root.data))\n",
    "    \n",
    "# printBinaryTree(ip11)\n",
    "rootToLeafPathsSumToK(ip11, 6)"
   ]
  },
  {
   "cell_type": "code",
   "execution_count": 31,
   "id": "2535fb59",
   "metadata": {},
   "outputs": [],
   "source": [
    "def rootToLeafPathsSumToK2(root, k):\n",
    "\n",
    "    return _helper2(root, k, [], 0)\n",
    "\n",
    "def _helper2(root, k, pathTaken, currSum):\n",
    "\n",
    "    # Base condition\n",
    "    if root is None:\n",
    "        return None\n",
    "    \n",
    "    if root.left is None and root.right is None:\n",
    "        currSum += root.data\n",
    "        pathTaken.append(root.data)\n",
    "        if currSum == k:\n",
    "#             path = str(pathTaken + str(root.data) ).lstrip()\n",
    "            print(pathTaken)\n",
    "            \n",
    "        return\n",
    "            \n",
    "    pathTaken.append(root.data)\n",
    "    _helper2(root.left, k, pathTaken, (currSum + root.data))\n",
    "\n",
    "#     pathTaken.append(root.data)\n",
    "    _helper2(root.right, k , pathTaken, (currSum + root.data))\n",
    "    \n",
    "# printBinaryTree(ip11)\n",
    "rootToLeafPathsSumToK2(ip11, 6)"
   ]
  },
  {
   "cell_type": "code",
   "execution_count": null,
   "id": "47ce5f38",
   "metadata": {},
   "outputs": [],
   "source": [
    "\n",
    "\n"
   ]
  },
  {
   "cell_type": "markdown",
   "id": "a7314435",
   "metadata": {},
   "source": [
    "## Nodes at a distance k from a target Node ( can be any direction) IMPORTANT"
   ]
  },
  {
   "cell_type": "code",
   "execution_count": 35,
   "id": "d6c499a3",
   "metadata": {},
   "outputs": [
    {
     "name": "stdout",
     "output_type": "stream",
     "text": [
      "12\n",
      "6\n",
      "4\n",
      "5\n",
      "-1\n",
      "-1\n",
      "-1\n",
      "3\n",
      "8\n",
      "-1\n",
      "9\n",
      "15\n",
      "-1\n",
      "-1\n",
      "-1\n",
      "10\n",
      "12\n",
      "-1\n",
      "-1\n",
      "20\n",
      "18\n",
      "-1\n",
      "-1\n",
      "-1\n",
      "7\n",
      "-1\n",
      "10\n",
      "-1\n",
      "-1\n"
     ]
    }
   ],
   "source": [
    "BIG_ROOT = takeInput()"
   ]
  },
  {
   "cell_type": "code",
   "execution_count": 110,
   "id": "e56d1af7",
   "metadata": {},
   "outputs": [
    {
     "name": "stdout",
     "output_type": "stream",
     "text": [
      "1\n",
      "2\n",
      "3\n",
      "4\n",
      "5\n",
      "6\n",
      "7\n",
      "-1\n",
      "-1\n",
      "-1\n",
      "-1\n",
      "-1\n",
      "-1\n",
      "-1\n",
      "-1\n"
     ]
    }
   ],
   "source": [
    "ROOT1 = takeInput()"
   ]
  },
  {
   "cell_type": "code",
   "execution_count": 120,
   "id": "66598c4e",
   "metadata": {},
   "outputs": [
    {
     "name": "stdout",
     "output_type": "stream",
     "text": [
      "1\n",
      "2\n",
      "4\n",
      "-1\n",
      "-1\n",
      "5\n",
      "-1\n",
      "-1\n",
      "3\n",
      "6\n",
      "-1\n",
      "-1\n",
      "7\n",
      "-1\n",
      "-1\n"
     ]
    }
   ],
   "source": [
    "ROOT2 = takeInput()"
   ]
  },
  {
   "cell_type": "code",
   "execution_count": 130,
   "id": "5bca34ec",
   "metadata": {},
   "outputs": [
    {
     "name": "stdout",
     "output_type": "stream",
     "text": [
      "15\n",
      "18\n",
      "6\n",
      "5\n"
     ]
    }
   ],
   "source": [
    "# printBinaryTree(ROOT1)\n",
    "def nodesAtDistanceK(root, node, k, path) :\n",
    "\n",
    "    if root is None:\n",
    "        return 'Not'\n",
    "    \n",
    "    if root.data == node:\n",
    "        path.append(root)\n",
    "\n",
    "        printAllPath(path, k)\n",
    "        return root\n",
    "    \n",
    "    \n",
    "    path.append(['left', root])\n",
    "    nodesAtDistanceK(root.left, node, k, path)\n",
    "    path.pop()\n",
    "    path.append(['right', root])\n",
    "    nodesAtDistanceK(root.right, node, k,  path)\n",
    "    path.pop()\n",
    "    \n",
    "def printAllPath(path, k):\n",
    "    if len(path) == 0:\n",
    "        return 0\n",
    "    \n",
    "    actualNode = path[-1]\n",
    "    printAllNodesAtDepthK(actualNode, k, 'all')\n",
    "    \n",
    "    for i in range(len(path) - 1):\n",
    "        nodeInfo = path[i]\n",
    "        node = path[i][1]\n",
    "        direction = path[i][0]\n",
    "        depth = k - (len(path) - i - 1)\n",
    "        if depth >= 0:\n",
    "            if direction == 'left':\n",
    "                direction = 'right'\n",
    "            else:\n",
    "                direction = 'left'\n",
    "            printAllNodesAtDepthK(node, depth, 'left')\n",
    "\n",
    "    \n",
    "def printAllNodesAtDepthK(root, k, direction='all'):\n",
    "  \n",
    "    if root is None:\n",
    "        return None\n",
    "\n",
    "    if k == 0:\n",
    "        print(root.data)\n",
    "        return\n",
    "    \n",
    "    if direction == 'left' or direction == 'all':\n",
    "        printAllNodesAtDepthK(root.left, k - 1, direction)\n",
    "        \n",
    "    if direction == 'right' or direction == 'all':\n",
    "        printAllNodesAtDepthK(root.right, k - 1, direction)\n",
    "        \n",
    "\n",
    "# printAllNodesAtDepthK(BIG_ROOT, 2, 'all')\n",
    "nodesAtDistanceK(BIG_ROOT, 3, 3, [])\n",
    "    \n",
    "    "
   ]
  },
  {
   "cell_type": "markdown",
   "id": "8ddad790",
   "metadata": {},
   "source": [
    "### Solution"
   ]
  },
  {
   "cell_type": "code",
   "execution_count": 135,
   "id": "ae2c9179",
   "metadata": {},
   "outputs": [
    {
     "name": "stdout",
     "output_type": "stream",
     "text": [
      "0\n",
      "1\n",
      "3\n",
      "-1\n",
      "-1\n",
      "2\n",
      "-1\n",
      "-1\n",
      "-1\n"
     ]
    }
   ],
   "source": [
    "LCIP = takeInput()"
   ]
  },
  {
   "cell_type": "code",
   "execution_count": 154,
   "id": "0b21f5c7",
   "metadata": {},
   "outputs": [
    {
     "name": "stdout",
     "output_type": "stream",
     "text": [
      "10\n",
      "20\n",
      "30\n",
      "-1\n",
      "-1\n",
      "40\n",
      "-1\n",
      "-1\n",
      "-1\n"
     ]
    }
   ],
   "source": [
    "LCIP2 = takeInput()"
   ]
  },
  {
   "cell_type": "code",
   "execution_count": 173,
   "id": "810319e1",
   "metadata": {},
   "outputs": [
    {
     "name": "stdout",
     "output_type": "stream",
     "text": [
      "h 30\n",
      "h 40\n",
      "L 10\n"
     ]
    },
    {
     "data": {
      "text/plain": [
       "1"
      ]
     },
     "execution_count": 173,
     "metadata": {},
     "output_type": "execute_result"
    }
   ],
   "source": [
    "def printNodesAtKFromTargetNode(root, targetNode, k):\n",
    "    return _helperPrintNodesAtKFromTargetNode(root, targetNode, k)\n",
    "\n",
    "def printAllNodesAtDepthK(root, k):\n",
    "  \n",
    "    if root is None:\n",
    "        return None\n",
    "\n",
    "    if k == 0:\n",
    "        print('h',root.data)\n",
    "        return\n",
    "    \n",
    "    printAllNodesAtDepthK(root.left, k - 1)\n",
    "    printAllNodesAtDepthK(root.right, k - 1)\n",
    "\n",
    "# this function basically return distance between root nod eand the target Node\n",
    "def _helperPrintNodesAtKFromTargetNode(root, targetNode, k):\n",
    "    \n",
    "    if root is None:\n",
    "        return -1\n",
    "    # Base Condition when the root node becomes equal to the target Node, that basically means the distance is 0\n",
    "    if root.data == targetNode:\n",
    "        printAllNodesAtDepthK(root, k)\n",
    "        return 0\n",
    "    \n",
    "    leftD = _helperPrintNodesAtKFromTargetNode(root.left, targetNode, k)\n",
    "    if leftD != -1:\n",
    "        if leftD + 1== k:\n",
    "            print('L',root.data)\n",
    "        else:\n",
    "            # Left Already taken care of so we will call on righ to print at certain depth\n",
    "            # distanceFromRoot = ld + 1\n",
    "            # rightSubTree depth remaining k - (ld + 1) -1 [Last -1 for the root]\n",
    "            printAllNodesAtDepthK(root.right, k - leftD - 2)\n",
    "        return 1 + leftD\n",
    "    \n",
    "    rightD = _helperPrintNodesAtKFromTargetNode(root.right, targetNode, k)\n",
    "    if rightD != -1:\n",
    "        if rightD + 1 == k:\n",
    "            print('R',root.data)\n",
    "        else:\n",
    "            printAllNodesAtDepthK(root.left, k - rightD - 2)\n",
    "        return 1 + rightD\n",
    "    \n",
    "    return -1\n",
    "    \n",
    "printNodesAtKFromTargetNode(LCIP2,20,1)\n",
    "\n"
   ]
  },
  {
   "cell_type": "markdown",
   "id": "87782d49",
   "metadata": {},
   "source": [
    "## Boundary Traversal OF BT"
   ]
  },
  {
   "cell_type": "code",
   "execution_count": 4,
   "id": "bf7ed0fc",
   "metadata": {},
   "outputs": [
    {
     "name": "stdout",
     "output_type": "stream",
     "text": [
      "1\n",
      "2\n",
      "3\n",
      "-1\n",
      "4\n",
      "5\n",
      "-1\n",
      "-1\n",
      "6\n",
      "-1\n",
      "-1\n",
      "-1\n",
      "7\n",
      "-1\n",
      "8\n",
      "9\n",
      "10\n",
      "-1\n",
      "-1\n",
      "11\n",
      "-1\n",
      "-1\n",
      "-1\n"
     ]
    }
   ],
   "source": [
    "inp = takeInput()"
   ]
  },
  {
   "cell_type": "code",
   "execution_count": 8,
   "id": "3d93f181",
   "metadata": {},
   "outputs": [
    {
     "name": "stdout",
     "output_type": "stream",
     "text": [
      "1 L 2:R 7 \n",
      "2 L 3:\n",
      "3 R 4 \n",
      "4 L 5:R 6 \n",
      "5 \n",
      "6 \n",
      "7 R 8 \n",
      "8 L 9:\n",
      "9 L 10:R 11 \n",
      "10 \n",
      "11 \n",
      "1\n",
      "2\n",
      "3\n",
      "4\n",
      "LeaveNodes :  5\n",
      "LeaveNodes :  6\n",
      "LeaveNodes :  10\n",
      "LeaveNodes :  11\n",
      "9\n",
      "8\n",
      "7\n"
     ]
    }
   ],
   "source": [
    "printBinaryTree(inp)\n",
    "def printLeaves(root):\n",
    "    if root is None:\n",
    "        return None\n",
    "    \n",
    "    if root.left is None and root.right is None:\n",
    "        print('LeaveNodes : ',root.data)\n",
    "    printLeaves(root.left)\n",
    "    printLeaves(root.right)\n",
    "    \n",
    "def printBoundaryLeft(root): \n",
    "    if(root):\n",
    "        if (root.left):\n",
    "             \n",
    "            # to ensure top down order, print the node\n",
    "            # before calling itself for left subtree\n",
    "            print(root.data)\n",
    "            printBoundaryLeft(root.left)\n",
    "         \n",
    "        elif(root.right):\n",
    "            print (root.data)\n",
    "            printBoundaryLeft(root.right)\n",
    "         \n",
    "        # do nothing if it is a leaf node, this way we\n",
    "        # avoid duplicates in output\n",
    "        \n",
    "# A function to print all right boundary nodes, except\n",
    "# a leaf node. Print the nodes in BOTTOM UP manner\n",
    "def printBoundaryRight(root):\n",
    "     \n",
    "    if(root):\n",
    "        if (root.right):\n",
    "            # to ensure bottom up order, first call for\n",
    "            # right subtree, then print this node\n",
    "            printBoundaryRight(root.right)\n",
    "            print(root.data)\n",
    "         \n",
    "        elif(root.left):\n",
    "            printBoundaryRight(root.left)\n",
    "            print(root.data)\n",
    " \n",
    "        # do nothing if it is a leaf node, this way we\n",
    "        # avoid duplicates in output\n",
    "    \n",
    "def boundaryTraversal(root):\n",
    "    if root is None:\n",
    "        return None\n",
    "    \n",
    "    if (root):\n",
    "        print(root.data)\n",
    "         \n",
    "        # Print the left boundary in top-down manner\n",
    "        printBoundaryLeft(root.left)\n",
    " \n",
    "        # Print all leaf nodes\n",
    "        printLeaves(root.left)\n",
    "        printLeaves(root.right)\n",
    " \n",
    "        # Print the right boundary in bottom-up manner\n",
    "        printBoundaryRight(root.right)\n",
    "\n",
    "boundaryTraversal(inp)"
   ]
  },
  {
   "cell_type": "code",
   "execution_count": null,
   "id": "1b80da37",
   "metadata": {},
   "outputs": [],
   "source": []
  }
 ],
 "metadata": {
  "kernelspec": {
   "display_name": "Python 3 (ipykernel)",
   "language": "python",
   "name": "python3"
  },
  "language_info": {
   "codemirror_mode": {
    "name": "ipython",
    "version": 3
   },
   "file_extension": ".py",
   "mimetype": "text/x-python",
   "name": "python",
   "nbconvert_exporter": "python",
   "pygments_lexer": "ipython3",
   "version": "3.10.0"
  }
 },
 "nbformat": 4,
 "nbformat_minor": 5
}
