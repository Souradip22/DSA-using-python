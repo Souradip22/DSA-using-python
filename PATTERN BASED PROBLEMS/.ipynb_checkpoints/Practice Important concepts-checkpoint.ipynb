{
 "cells": [
  {
   "cell_type": "markdown",
   "id": "3e400c08",
   "metadata": {},
   "source": [
    "### Pair sum in Array\n",
    "```\n",
    "\n",
    "\n",
    "```"
   ]
  },
  {
   "cell_type": "code",
   "execution_count": 47,
   "id": "1eb0012e",
   "metadata": {},
   "outputs": [
    {
     "data": {
      "text/plain": [
       "3"
      ]
     },
     "execution_count": 47,
     "metadata": {},
     "output_type": "execute_result"
    }
   ],
   "source": [
    "def pairSum(nums, target):\n",
    "    nums.sort()\n",
    "    \n",
    "    i = 0\n",
    "    j = len(nums) - 1\n",
    "    count = 0\n",
    "    \n",
    "    while i < j:\n",
    "        c = 0\n",
    "        d = 0\n",
    "        lsum = nums[i] + nums[j]\n",
    "        \n",
    "        if lsum == target:\n",
    "            elAtStart = nums[i]\n",
    "            elAtEnd = nums[j]\n",
    "            # to handle the [2,2,2,2,2] with target 4 case, \n",
    "            # after sort all 2's together\n",
    "            if elAtStart == elAtEnd:\n",
    "                totalElementsFromStartToEnd = (j - i) + 1\n",
    "                count += (totalElementsFromStartToEnd * (totalElementsFromStartToEnd - 1) // 2)\n",
    "                return count\n",
    "            \n",
    "            tempStartIndex = i + 1\n",
    "            tempEndIndex = j - 1\n",
    "            \n",
    "            while tempStartIndex <= tempEndIndex and nums[tempStartIndex] == elAtStart:\n",
    "                tempStartIndex += 1\n",
    "\n",
    "            while tempEndIndex >= tempStartIndex and nums[tempEndIndex] == elAtEnd:\n",
    "                tempEndIndex -= 1  \n",
    "            \n",
    "            totalDupElsFromStart = (tempStartIndex - i)\n",
    "            totalDupElsFromEnd = j - tempEndIndex\n",
    "            \n",
    "            count += (totalDupElsFromStart * totalDupElsFromEnd)\n",
    "            \n",
    "            i = tempStartIndex\n",
    "            j = tempEndIndex\n",
    "\n",
    "        elif lsum < target:\n",
    "            i += 1\n",
    "        else:\n",
    "            j -= 1\n",
    "    return count\n",
    "    \n",
    "    \n",
    "\n",
    "# nums = [1,3,3,4,5,8,9,9,9,15]\n",
    "# target = 12\n",
    "# nums = [2,2,2,2,2]\n",
    "# target = 4\n",
    "\n",
    "nums = [1,1,1,13,3,2,2,2,2,2]\n",
    "target = 2\n",
    "\n",
    "# nums = [-8, -6, -4, 1, 2, 4, 6, 15]\n",
    "# target = 0\n",
    "pairSum(nums, target)"
   ]
  },
  {
   "cell_type": "markdown",
   "id": "213e8844",
   "metadata": {},
   "source": [
    "### Spiral Matrix Traversal\n"
   ]
  },
  {
   "cell_type": "code",
   "execution_count": null,
   "id": "ca922973",
   "metadata": {},
   "outputs": [],
   "source": [
    "def traverseSpiralMatrix(matrix):\n",
    "    \n",
    "    top = 0\n",
    "    bottom = len(arr) - 1\n",
    "    left = 0\n",
    "    right = len(arr[0]) - 1\n",
    "    direction = 0\n",
    "    \n",
    "    while top <= bottom and left <= right:\n",
    "        \n",
    "        if direction == 0:\n",
    "            for i in range(top, right + 1):\n",
    "                print(matrix[top][i])\n",
    "            top += 1\n",
    "        if direction == 1:\n",
    "            for i in range(top, bottom + 1):\n",
    "                print(matrix[right][i])\n",
    "            top += 1\n",
    "        if direction == 2:\n",
    "            for i in range(top, bottom + 1):\n",
    "                print(matrix[right][i])\n",
    "            top += 1\n",
    "        if direction == 3:\n",
    "            for i in range(top, bottom + 1):\n",
    "                print(matrix[right][i])\n",
    "            top += 1\n",
    "            \n",
    "        direction = ( direction + 1 ) % 4\n",
    "    \n",
    "matrix = [\n",
    "    [1, 2, 3],\n",
    "    [4, 5, 6],\n",
    "    [7, 8, 9]\n",
    "]\n",
    "\n",
    "traverseSpiralMatrix(matrix)"
   ]
  },
  {
   "cell_type": "code",
   "execution_count": null,
   "id": "81bdb647",
   "metadata": {},
   "outputs": [],
   "source": []
  }
 ],
 "metadata": {
  "kernelspec": {
   "display_name": "Python 3 (ipykernel)",
   "language": "python",
   "name": "python3"
  },
  "language_info": {
   "codemirror_mode": {
    "name": "ipython",
    "version": 3
   },
   "file_extension": ".py",
   "mimetype": "text/x-python",
   "name": "python",
   "nbconvert_exporter": "python",
   "pygments_lexer": "ipython3",
   "version": "3.10.0"
  }
 },
 "nbformat": 4,
 "nbformat_minor": 5
}
