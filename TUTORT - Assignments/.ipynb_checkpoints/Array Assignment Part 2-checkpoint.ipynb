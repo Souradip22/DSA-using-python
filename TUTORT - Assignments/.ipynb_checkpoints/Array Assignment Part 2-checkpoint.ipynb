{
 "cells": [
  {
   "cell_type": "markdown",
   "id": "5d26009c",
   "metadata": {},
   "source": [
    "Move Zeroes\n",
    "\n",
    "    Input: nums = [0,1,0,3,12]\n",
    "    Output: [1,3,12,0,0]"
   ]
  },
  {
   "cell_type": "code",
   "execution_count": 3,
   "id": "f703977d",
   "metadata": {},
   "outputs": [
    {
     "name": "stdout",
     "output_type": "stream",
     "text": [
      "[1, 3, 12, 0, 0]\n"
     ]
    }
   ],
   "source": [
    "def moveZeroes(nums):\n",
    "    count = 0\n",
    "    N = len(nums)\n",
    "    for i in range(N):\n",
    "\n",
    "        if nums[i] != 0:\n",
    "            nums[count] = nums[i]\n",
    "            count += 1\n",
    "\n",
    "    for i in range(count , N): \n",
    "        nums[i] = 0\n",
    "        \n",
    "    return nums\n",
    "        \n",
    "print(moveZeroes([0,1,0,3,12]))"
   ]
  },
  {
   "cell_type": "markdown",
   "id": "02e1346a",
   "metadata": {},
   "source": [
    "Contains Duplicate\n",
    "\n",
    "    Input: nums = [1,2,3,1]\n",
    "    Output: true"
   ]
  },
  {
   "cell_type": "code",
   "execution_count": 7,
   "id": "163c4c30",
   "metadata": {},
   "outputs": [
    {
     "name": "stdout",
     "output_type": "stream",
     "text": [
      "True\n"
     ]
    }
   ],
   "source": [
    "def containsDuplicate(nums):\n",
    "    \n",
    "    hashSet = set()\n",
    "    \n",
    "    for n in nums:\n",
    "        if n in hashSet:\n",
    "            return True\n",
    "        else:\n",
    "            hashSet.add(n)\n",
    "            \n",
    "    return False\n",
    "\n",
    "print(containsDuplicate([1,2,3,1]))\n",
    "        "
   ]
  },
  {
   "cell_type": "markdown",
   "id": "dae653dc",
   "metadata": {},
   "source": [
    "Contains Duplicate II\n",
    "\n",
    "\n",
    "    Given an integer array nums and an integer k, \n",
    "    return true if there are two distinct indices i and j in the array such that nums[i] == nums[j] and abs(i - j) <= k."
   ]
  },
  {
   "cell_type": "code",
   "execution_count": 8,
   "id": "3fcae1a6",
   "metadata": {},
   "outputs": [
    {
     "name": "stdout",
     "output_type": "stream",
     "text": [
      "True\n"
     ]
    }
   ],
   "source": [
    "def containsNearbyDuplicate(nums, k):\n",
    "    hashMap = {}\n",
    "\n",
    "    for i in range(len(nums)):\n",
    "\n",
    "        if nums[i] in hashMap:\n",
    "            j = hashMap[nums[i]]\n",
    "            if abs(i - j) <= k:\n",
    "                return True\n",
    "        hashMap[nums[i]] = i\n",
    "\n",
    "    return False\n",
    "\n",
    "nums = [1,2,3,1]\n",
    "k = 3\n",
    "print(containsNearbyDuplicate(nums, k))\n"
   ]
  },
  {
   "cell_type": "markdown",
   "id": "63e44adb",
   "metadata": {},
   "source": [
    "Summary Ranges\n",
    "\n",
    "    Input: nums = [0,1,2,4,5,7]\n",
    "    Output: [\"0->2\",\"4->5\",\"7\"]\n",
    "    Explanation: The ranges are:\n",
    "    [0,2] --> \"0->2\"\n",
    "    [4,5] --> \"4->5\"\n",
    "    [7,7] --> \"7\"\n",
    "\n",
    "\n"
   ]
  },
  {
   "cell_type": "code",
   "execution_count": 9,
   "id": "cc486884",
   "metadata": {},
   "outputs": [
    {
     "name": "stdout",
     "output_type": "stream",
     "text": [
      "['0->2', '4->5', '7']\n",
      "['0', '2->4', '6', '8->9']\n"
     ]
    }
   ],
   "source": [
    "def summaryRanges(nums):\n",
    "        # if len(nums) == 1:\n",
    "        #     return [str(nums[0])]\n",
    "    if len(nums) == 0:\n",
    "        return []\n",
    "\n",
    "    ans = []\n",
    "    start = nums[0]\n",
    "    end = nums[-1]\n",
    "\n",
    "    for i in range(len(nums) - 1):\n",
    "\n",
    "        if abs(nums[i + 1] - nums[i]) != 1:\n",
    "            end = nums[i]\n",
    "            if start == end:\n",
    "                ans.append(str(start))\n",
    "            else:\n",
    "                ans.append(str(start) + \"->\" + str(end))\n",
    "            start = nums[i + 1]\n",
    "\n",
    "    if start == nums[-1]:\n",
    "        ans.append(str(nums[-1]))\n",
    "    else:\n",
    "        ans.append(str(start) + \"->\" + str(nums[-1]))\n",
    "\n",
    "    return ans\n",
    "\n",
    "\n",
    "print(summaryRanges([0,1,2,4,5,7]))\n",
    "print(summaryRanges([0,2,3,4,6,8,9]))"
   ]
  },
  {
   "cell_type": "markdown",
   "id": "ba43f490",
   "metadata": {},
   "source": [
    "Range Sum Query - Immutable\n",
    "\n",
    "        Input\n",
    "        [\"NumArray\", \"sumRange\", \"sumRange\", \"sumRange\"]\n",
    "        [[[-2, 0, 3, -5, 2, -1]], [0, 2], [2, 5], [0, 5]]\n",
    "        Output\n",
    "        [null, 1, -1, -3]\n",
    "\n",
    "        Explanation\n",
    "        NumArray numArray = new NumArray([-2, 0, 3, -5, 2, -1]);\n",
    "        numArray.sumRange(0, 2); // return (-2) + 0 + 3 = 1\n",
    "        numArray.sumRange(2, 5); // return 3 + (-5) + 2 + (-1) = -1\n",
    "        numArray.sumRange(0, 5); // return (-2) + 0 + 3 + (-5) + 2 + (-1) = -3"
   ]
  },
  {
   "cell_type": "code",
   "execution_count": 14,
   "id": "a631db48",
   "metadata": {},
   "outputs": [
    {
     "name": "stdout",
     "output_type": "stream",
     "text": [
      "1\n",
      "-1\n",
      "-3\n"
     ]
    }
   ],
   "source": [
    "class NumArray:\n",
    "    def __init__(self, nums):\n",
    "        self.nums = nums\n",
    "        self.prefSum = self.getPrefSum()\n",
    "        \n",
    "    def getPrefSum(self):\n",
    "        prefSum = 0\n",
    "        res = []\n",
    "        for n in self.nums:\n",
    "            prefSum += n\n",
    "            res.append(prefSum)\n",
    "        return res\n",
    "    \n",
    "    def sumRange(self, left, right):\n",
    "        if left == 0:\n",
    "            return self.prefSum[right]\n",
    "        return self.prefSum[right] - self.prefSum[left - 1]\n",
    "    \n",
    "numArray = NumArray([-2, 0, 3, -5, 2, -1]);\n",
    "print(numArray.sumRange(0, 2));\n",
    "print(numArray.sumRange(2, 5)); \n",
    "print(numArray.sumRange(0, 5));"
   ]
  },
  {
   "cell_type": "markdown",
   "id": "60140c87",
   "metadata": {},
   "source": [
    "Remove Element\n",
    "\n",
    "    Input: nums = [3,2,2,3], val = 3\n",
    "    Output: 2, nums = [2,2,_,_]\n",
    "    Explanation: Your function should return k = 2, with the first two elements of nums being 2.\n",
    "    It does not matter what you leave beyond the returned k (hence they are underscores)."
   ]
  },
  {
   "cell_type": "code",
   "execution_count": 16,
   "id": "2efc45dd",
   "metadata": {},
   "outputs": [
    {
     "name": "stdout",
     "output_type": "stream",
     "text": [
      "2\n"
     ]
    }
   ],
   "source": [
    "def removeElement(nums, val):\n",
    "    k = 0\n",
    "    for i in range(len(nums)):\n",
    "\n",
    "        if nums[i] != val:\n",
    "            nums[k] = nums[i]\n",
    "            k += 1\n",
    "    return k\n",
    "\n",
    "nums = [3,2,2,3]\n",
    "val = 3\n",
    "print(removeElement(nums, val))"
   ]
  },
  {
   "cell_type": "markdown",
   "id": "0ae0dcc0",
   "metadata": {},
   "source": [
    "Intersection of Two Arrays\n",
    "\n",
    "    Input: nums1 = [4,9,5], nums2 = [9,4,9,8,4]\n",
    "    Output: [9,4]\n",
    "    Explanation: [4,9] is also accepted.\n",
    "    "
   ]
  },
  {
   "cell_type": "code",
   "execution_count": 18,
   "id": "e0aeb9f9",
   "metadata": {},
   "outputs": [
    {
     "name": "stdout",
     "output_type": "stream",
     "text": [
      "[9, 4]\n"
     ]
    }
   ],
   "source": [
    "def intersection(nums1, nums2):\n",
    "\n",
    "    aux = [0] * 1001\n",
    "    ans = set()\n",
    "\n",
    "    for i in range(len(nums1)):\n",
    "        aux[nums1[i]] += 1\n",
    "\n",
    "    for j in range(len(nums2)):\n",
    "        if aux[nums2[j]]:\n",
    "            ans.add(nums2[j])\n",
    "\n",
    "\n",
    "    return list(ans)\n",
    "\n",
    "nums1 = [4,9,5]\n",
    "nums2 = [9,4,9,8,4]\n",
    "print(intersection(nums1, nums2))"
   ]
  },
  {
   "cell_type": "markdown",
   "id": "ebd4c39e",
   "metadata": {},
   "source": [
    "Intersection of Two Arrays II\n",
    "\n",
    "\n",
    "    Input: nums1 = [4,9,5], nums2 = [9,4,9,8,4]\n",
    "    Output: [4,9]\n",
    "    Explanation: [9,4] is also accepted."
   ]
  },
  {
   "cell_type": "code",
   "execution_count": 20,
   "id": "21fb563a",
   "metadata": {},
   "outputs": [
    {
     "name": "stdout",
     "output_type": "stream",
     "text": [
      "[9, 4]\n"
     ]
    }
   ],
   "source": [
    "def intersect(nums1, nums):\n",
    "    aux = [0] * 1001\n",
    "    ans = []\n",
    "\n",
    "    for i in range(len(nums1)):\n",
    "        aux[nums1[i]] += 1\n",
    "\n",
    "    for j in range(len(nums2)):\n",
    "        if aux[nums2[j]]:\n",
    "            ans.append(nums2[j])\n",
    "            aux[nums2[j]] -= 1\n",
    "\n",
    "\n",
    "    return ans\n",
    "\n",
    "nums1 = [4,9,5]\n",
    "nums2 = [9,4,9,8,4]\n",
    "print(intersect(nums1, nums2))"
   ]
  },
  {
   "cell_type": "markdown",
   "id": "e54637f9",
   "metadata": {},
   "source": [
    "Range Sum Query 2D - Immutable\n",
    "\n",
    "    Input\n",
    "    [\"NumMatrix\", \"sumRegion\", \"sumRegion\", \"sumRegion\"]\n",
    "    [[[[3, 0, 1, 4, 2], [5, 6, 3, 2, 1], [1, 2, 0, 1, 5], [4, 1, 0, 1, 7], [1, 0, 3, 0, 5]]], [2, 1, 4, 3], [1, 1, 2, 2], [1, 2, 2, 4]]\n",
    "    Output\n",
    "    [null, 8, 11, 12]\n",
    "\n",
    "    Explanation\n",
    "    NumMatrix numMatrix = new NumMatrix([[3, 0, 1, 4, 2], [5, 6, 3, 2, 1], [1, 2, 0, 1, 5], [4, 1, 0, 1, 7], [1, 0, 3, 0, 5]]);\n",
    "    numMatrix.sumRegion(2, 1, 4, 3); // return 8 (i.e sum of the red rectangle)\n",
    "    numMatrix.sumRegion(1, 1, 2, 2); // return 11 (i.e sum of the green rectangle)\n",
    "    numMatrix.sumRegion(1, 2, 2, 4); // return 12 (i.e sum of the blue rectangle)"
   ]
  },
  {
   "cell_type": "code",
   "execution_count": 4,
   "id": "cf237c0c",
   "metadata": {},
   "outputs": [
    {
     "name": "stdout",
     "output_type": "stream",
     "text": [
      "8\n",
      "11\n",
      "12\n"
     ]
    }
   ],
   "source": [
    "class NumMatrix:\n",
    "    def __init__(self, matrix):\n",
    "        \n",
    "        r = len(matrix)\n",
    "        c = len(matrix[0])\n",
    "\n",
    "        for i in range(0, r):\n",
    "            for j in range(0, c):\n",
    "                if j > 0:\n",
    "                    matrix[i][j] = matrix[i][j] + matrix[i][j-1]\n",
    "        \n",
    "        for i in range(0, r):\n",
    "            for j in range(0, c):\n",
    "                if i > 0:\n",
    "                    matrix[i][j] = matrix[i][j] + matrix[i-1][j]\n",
    "\n",
    "        self.matrix = matrix\n",
    "        \n",
    "\n",
    "\n",
    "\n",
    "    def sumRegion(self, x1, y1, x2, y2):\n",
    "        lsum = self.matrix[x2][y2]\n",
    "        if y1 > 0:\n",
    "            lsum -= self.matrix[x2][y1 - 1] \n",
    "        if x1 > 0:\n",
    "            lsum -= self.matrix[x1 - 1][y2] \n",
    "        if x1 > 0 and y1 > 0: #bcz in the prev two subtraction we deleted the below area twice\n",
    "         # so adding it back\n",
    "            lsum += self.matrix[x1-1][y1-1]\n",
    "        return lsum\n",
    "    \n",
    "numMatrix = NumMatrix([[3, 0, 1, 4, 2], [5, 6, 3, 2, 1], [1, 2, 0, 1, 5], [4, 1, 0, 1, 7], [1, 0, 3, 0, 5]])\n",
    "print(numMatrix.sumRegion(2, 1, 4, 3))\n",
    "print(numMatrix.sumRegion(1, 1, 2, 2))\n",
    "print(numMatrix.sumRegion(1, 2, 2, 4))\n",
    "\n"
   ]
  },
  {
   "cell_type": "markdown",
   "id": "6ffad10f",
   "metadata": {},
   "source": [
    "Next Greater Element I\n",
    "\n",
    "\n",
    "    Input: nums1 = [4,1,2], nums2 = [1,3,4,2]\n",
    "    Output: [-1,3,-1]\n",
    "    Explanation: The next greater element for each value of nums1 is as follows:\n",
    "    - 4 is underlined in nums2 = [1,3,4,2]. There is no next greater element, so the answer is -1.\n",
    "    - 1 is underlined in nums2 = [1,3,4,2]. The next greater element is 3.\n",
    "    - 2 is underlined in nums2 = [1,3,4,2]. There is no next greater element, so the answer is -1."
   ]
  },
  {
   "cell_type": "code",
   "execution_count": 21,
   "id": "707a3d6c",
   "metadata": {},
   "outputs": [
    {
     "name": "stdout",
     "output_type": "stream",
     "text": [
      "[-1, 3, -1]\n"
     ]
    }
   ],
   "source": [
    "def nextGreaterElement(nums1, nums2):\n",
    "\n",
    "    ans = []\n",
    "    for i in range(len(nums1)):\n",
    "\n",
    "        j = nums2.index(nums1[i])\n",
    "        mx = nums2[j]\n",
    "\n",
    "        for k in range(j + 1, len(nums2)):\n",
    "            if nums2[k] > mx:\n",
    "                mx = nums2[k]\n",
    "                break\n",
    "        if nums1[i] == mx:\n",
    "            ans.append(-1)\n",
    "        else:\n",
    "            ans.append(mx)\n",
    "    return ans\n",
    "\n",
    "nums1 = [4,1,2]\n",
    "nums2 = [1,3,4,2]\n",
    "print(nextGreaterElement(nums1, nums2))"
   ]
  },
  {
   "cell_type": "markdown",
   "id": "77769e77",
   "metadata": {},
   "source": [
    "Next Greater Element II\n",
    "\n",
    "\n",
    "    Input: nums = [1,2,1]\n",
    "    Output: [2,-1,2]\n",
    "    Explanation: The first 1's next greater number is 2; \n",
    "    The number 2 can't find next greater number. \n",
    "    The second 1's next greater number needs to search circularly, which is also 2."
   ]
  },
  {
   "cell_type": "code",
   "execution_count": 8,
   "id": "b483cbf8",
   "metadata": {},
   "outputs": [
    {
     "name": "stdout",
     "output_type": "stream",
     "text": [
      "[2, -1, 2]\n"
     ]
    }
   ],
   "source": [
    "# GOT TLE, NEED TO FIND A BETTER SOLn\n",
    "# def nextGreaterElements(nums):\n",
    "#     ans = []\n",
    "\n",
    "#     for i in range(len(nums)):\n",
    "\n",
    "#         start = i\n",
    "#         nxt = i\n",
    "#         count = 0\n",
    "#         while nxt or nxt == 0:\n",
    "#             if nums[nxt] > nums[start]:\n",
    "#                 ans.append(nums[nxt])\n",
    "#                 break\n",
    "#             if count == len(nums):\n",
    "#                 ans.append(-1)\n",
    "#                 break\n",
    "#             count += 1\n",
    "#             nxt = (nxt + 1) % len(nums)\n",
    "\n",
    "#     return ans\n",
    "\n",
    "# print(nextGreaterElements([1,2,3,4,3]))\n",
    "# print(nextGreaterElements([1,2,1]))\n",
    "\n",
    "# Input: nums = [1,2,3,4,3]\n",
    "# Output: [2,3,4,-1,4]\n",
    "\n",
    "\n",
    "def nextGreaterElements(arr):\n",
    "    stack = []\n",
    "    ans = []\n",
    "    original = len(arr)\n",
    "    arr.extend(arr)\n",
    "\n",
    "    N = len(arr)\n",
    "\n",
    "    for i in range(N-1, -1, -1):\n",
    "\n",
    "        if len(stack) == 0:\n",
    "            ans.append(-1)\n",
    "        else:\n",
    "            if stack[-1] > arr[i]:\n",
    "                ans.append(stack[-1])\n",
    "            else:\n",
    "                while len(stack) and stack[-1] <= arr[i]:\n",
    "                    stack.pop()\n",
    "                if len(stack) == 0:\n",
    "                    ans.append(-1)\n",
    "                else:\n",
    "                    ans.append(stack[-1])\n",
    "        stack.append(arr[i])\n",
    "\n",
    "    ans.reverse()\n",
    "    return ans[:original]\n",
    "\n",
    "print(nextGreaterElements([1,2,1]))\n",
    "\n",
    "\n"
   ]
  },
  {
   "cell_type": "markdown",
   "id": "48d5acf2",
   "metadata": {},
   "source": [
    "Next Greater Element III\n",
    "\n",
    "    Input: n = 12\n",
    "    Output: 21\n"
   ]
  },
  {
   "cell_type": "code",
   "execution_count": 7,
   "id": "6cf72218",
   "metadata": {},
   "outputs": [
    {
     "name": "stdout",
     "output_type": "stream",
     "text": [
      "21\n"
     ]
    }
   ],
   "source": [
    "def nextGreaterElement(n):\n",
    "    arr = [int(el) for el in str(n)]\n",
    "    N = len(arr)\n",
    "\n",
    "    ind1 = -1\n",
    "    for i in range(N - 2, -1, -1):\n",
    "        if arr[i] < arr[i + 1]:\n",
    "            ind1 = i\n",
    "            break\n",
    "    if ind1 == -1:\n",
    "        arr.reverse()\n",
    "        actNum = int(''.join(str(el) for el in arr))\n",
    "        if actNum <= n or actNum > 2**31 - 1:\n",
    "            return -1\n",
    "        return actNum\n",
    "\n",
    "    ind2 = -1\n",
    "    for j in range(N - 1, -1, -1):\n",
    "        if arr[ind1] < arr[j]:\n",
    "            ind2 = j\n",
    "            arr[ind1], arr[ind2] = arr[ind2], arr[ind1]\n",
    "            break\n",
    "\n",
    "    left = ind1 + 1\n",
    "    right = N - 1\n",
    "    while left < right:\n",
    "        arr[left], arr[right] = arr[right], arr[left]\n",
    "        left += 1\n",
    "        right -= 1\n",
    "    actNum = int(''.join(str(el) for el in arr))\n",
    "    if actNum <= n or actNum > 2**31 - 1:\n",
    "        return -1\n",
    "    return actNum\n",
    "\n",
    "print(nextGreaterElement(12))"
   ]
  },
  {
   "cell_type": "markdown",
   "id": "a1886f3e",
   "metadata": {},
   "source": [
    "Rank Teams by Votes\n",
    "\n",
    "\n",
    "    Input: votes = [\"ABC\",\"ACB\",\"ABC\",\"ACB\",\"ACB\"]\n",
    "    Output: \"ACB\"\n",
    "    Explanation: \n",
    "    Team A was ranked first place by 5 voters. No other team was voted as first place, so team A is the first team.\n",
    "    Team B was ranked second by 2 voters and ranked third by 3 voters.\n",
    "    Team C was ranked second by 3 voters and ranked third by 2 voters.\n",
    "    As most of the voters ranked C second, team C is the second team, and team B is the third."
   ]
  },
  {
   "cell_type": "code",
   "execution_count": 9,
   "id": "f73f5f9d",
   "metadata": {},
   "outputs": [
    {
     "name": "stdout",
     "output_type": "stream",
     "text": [
      "ACB\n"
     ]
    }
   ],
   "source": [
    "def rankTeams(votes):\n",
    "\n",
    "    lMap = {}\n",
    "\n",
    "    for i in range(len(votes)):\n",
    "        word = votes[i] #'ABC'\n",
    "\n",
    "        for j in range(len(word)):\n",
    "            if word[j] not in lMap:\n",
    "                lMap[word[j]] = [0] * len(word)\n",
    "            lMap[word[j]][j] += 1\n",
    "\n",
    "    names = sorted(lMap.keys())\n",
    "\n",
    "    return \"\".join(sorted(names, key=lambda x: lMap[x], reverse=True))\n",
    "\n",
    "votes = [\"ABC\",\"ACB\",\"ABC\",\"ACB\",\"ACB\"]\n",
    "print(rankTeams(votes))"
   ]
  },
  {
   "cell_type": "markdown",
   "id": "d5f3b47e",
   "metadata": {},
   "source": [
    "Reduce Array Size to The Half\n",
    "\n",
    "\n",
    "    Input: arr = [3,3,3,3,5,5,5,2,2,7]\n",
    "    Output: 2\n",
    "    Explanation: Choosing {3,7} will make the new array [5,5,5,2,2] which has size 5 (i.e equal to half of the size of the old array).\n",
    "    Possible sets of size 2 are {3,5},{3,2},{5,2}.\n",
    "    Choosing set {2,7} is not possible as it will make the new array [3,3,3,3,5,5,5] which has a size greater than half of the size of the old array."
   ]
  },
  {
   "cell_type": "code",
   "execution_count": 10,
   "id": "c71e223d",
   "metadata": {},
   "outputs": [
    {
     "name": "stdout",
     "output_type": "stream",
     "text": [
      "2\n"
     ]
    }
   ],
   "source": [
    "def minSetSize(arr):\n",
    "\n",
    "    lMap = {}\n",
    "    totalN = len(arr)\n",
    "    for a in arr:\n",
    "        lMap[a] = lMap.get(a, 0) + 1\n",
    "\n",
    "    els = lMap.keys()\n",
    "    sortedEls = sorted(els, key =  lambda x: lMap[x], reverse=True)\n",
    "    ans = 0\n",
    "    count = 0\n",
    "    for n in sortedEls:\n",
    "        count += lMap[n]\n",
    "        ans += 1\n",
    "        if (totalN - count) <= totalN // 2:\n",
    "            return ans\n",
    "arr = [3,3,3,3,5,5,5,2,2,7]\n",
    "print(minSetSize(arr))"
   ]
  },
  {
   "cell_type": "code",
   "execution_count": null,
   "id": "23fb5ce6",
   "metadata": {},
   "outputs": [],
   "source": []
  }
 ],
 "metadata": {
  "kernelspec": {
   "display_name": "Python 3 (ipykernel)",
   "language": "python",
   "name": "python3"
  },
  "language_info": {
   "codemirror_mode": {
    "name": "ipython",
    "version": 3
   },
   "file_extension": ".py",
   "mimetype": "text/x-python",
   "name": "python",
   "nbconvert_exporter": "python",
   "pygments_lexer": "ipython3",
   "version": "3.10.0"
  }
 },
 "nbformat": 4,
 "nbformat_minor": 5
}
