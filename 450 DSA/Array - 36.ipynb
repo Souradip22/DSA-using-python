{
 "cells": [
  {
   "cell_type": "code",
   "execution_count": 1,
   "id": "508d59c3",
   "metadata": {},
   "outputs": [],
   "source": [
    "def getMinMax( a, n):\n",
    "    lmin = a[0]\n",
    "    lmax = a[0]\n",
    "    for i in range(1, n):\n",
    "        lmin = min(lmin, a[i])\n",
    "        lmax = max(lmax, a[i])\n",
    "        \n",
    "    return [lmin, lmax]"
   ]
  },
  {
   "cell_type": "code",
   "execution_count": 2,
   "id": "46c5308d",
   "metadata": {},
   "outputs": [
    {
     "name": "stdout",
     "output_type": "stream",
     "text": [
      "1\n",
      "2\n",
      "1 2\n",
      "2 1 \n"
     ]
    }
   ],
   "source": [
    "a = int(input())\n",
    "for i in range(a):\n",
    "    b = int(input())\n",
    "    c = list(map(int,input().split()))\n",
    "    d = c[::-1]\n",
    "    for i in d:\n",
    "        print(i,end = \" \")\n",
    "    print()"
   ]
  },
  {
   "cell_type": "code",
   "execution_count": 8,
   "id": "efb213a0",
   "metadata": {},
   "outputs": [
    {
     "name": "stdout",
     "output_type": "stream",
     "text": [
      "[0, 0, 1, 2, 2]\n"
     ]
    }
   ],
   "source": [
    "def sort012(arr,n):\n",
    "    last0 = 0\n",
    "    last1 = 0\n",
    "    last2 = len(arr) - 1\n",
    "    \n",
    "    while last1 <= last2:\n",
    "        if arr[last1] == 0:\n",
    "            arr[last0], arr[last1] = arr[last1], arr[last0]\n",
    "            last1 += 1\n",
    "            last0 += 1\n",
    "        elif arr[last1] == 1:\n",
    "            last1 += 1\n",
    "        else:\n",
    "            arr[last1], arr[last2] = arr[last2], arr[last1]\n",
    "            last2 -= 1\n",
    "arr = [0, 2, 1, 2, 0]           \n",
    "sort012(arr, 5)\n",
    "print(arr)"
   ]
  },
  {
   "cell_type": "code",
   "execution_count": 33,
   "id": "65d4c8a1",
   "metadata": {},
   "outputs": [
    {
     "name": "stdout",
     "output_type": "stream",
     "text": [
      "[-42, -47, -40, -10, -24, -2, -41, -35, -49, -18, -19, -6, -19, 8, 2, 37]\n"
     ]
    }
   ],
   "source": [
    "def moveAllNeg(arr):\n",
    "    k = 0\n",
    "    n = len(arr)\n",
    "    res = []\n",
    "    for i in range(n ):\n",
    "\n",
    "        if arr[i] > 0:\n",
    "            arr[k] = arr[i]\n",
    "            k += 1\n",
    "        else:\n",
    "            res.append(arr[i])\n",
    "    c = 0\n",
    "    if len(res) > 0:\n",
    "        \n",
    "        for j in range(k, n):\n",
    "            arr[j]  = res[c]\n",
    "            c += 1\n",
    "\n",
    "# order will b changed\n",
    "def moveNeg(nums):\n",
    "    n = len(nums)\n",
    "    left = 0\n",
    "    right = len(nums)- 1\n",
    "    \n",
    "    while left <= right:\n",
    "        \n",
    "        #left negetive and right negetive\n",
    "        if nums[left] < 0 and nums[right] < 0:\n",
    "            left += 1\n",
    "        # left positive and right positive\n",
    "        elif nums[left] > 0 and nums[right] > 0:\n",
    "            right -= 1\n",
    "            \n",
    "        # left negetive and right positive  \n",
    "        elif nums[left] < 0 and nums[right] > 0:\n",
    "            left += 1\n",
    "            right -= 1\n",
    "            \n",
    "         \n",
    "        # left positive and right negetive\n",
    "        elif nums[left] > 0 and nums[right] < 0:\n",
    "            nums[left], nums[right] = nums[right], nums[left]\n",
    "            left += 1\n",
    "            right -= 1\n",
    "            \n",
    "\n",
    "    \n",
    "\n",
    "arr = [1, -1, 3, 2, -7, -5, 11, 6]\n",
    "\n",
    "nums = [-42, -47, -40, 37, -24, 2, -41, -35, 8, -18, -19, -6, -19, -49, -2, -10] \n",
    "# 1 3 2 11 6 -1 -7 -5 \n",
    "# moveAllNeg(arr)\n",
    "moveNeg(nums)\n",
    "print(nums)"
   ]
  },
  {
   "cell_type": "markdown",
   "id": "7c9b608c",
   "metadata": {},
   "source": [
    "## Find the \"Kth\" max and min element of an array"
   ]
  },
  {
   "cell_type": "code",
   "execution_count": 3,
   "id": "b0525d6e",
   "metadata": {},
   "outputs": [
    {
     "name": "stdout",
     "output_type": "stream",
     "text": [
      "[3, 2, 1, 4, 6, 5]\n",
      "[1, 2, 3, 4, 6, 5]\n",
      "[1, 2, 3, 4, 6, 5]\n",
      "[1, 2, 3, 4, 6, 5]\n"
     ]
    },
    {
     "data": {
      "text/plain": [
       "2"
      ]
     },
     "execution_count": 3,
     "metadata": {},
     "output_type": "execute_result"
    }
   ],
   "source": [
    "def partition(arr, l, r):\n",
    "    x = arr[r]\n",
    "    i = l\n",
    "    # not this is not considering the last element\n",
    "    for j in range(l, r):\n",
    "          \n",
    "        if arr[j] <= x:\n",
    "            arr[i], arr[j] = arr[j], arr[i]\n",
    "            i += 1\n",
    "\n",
    "    #to put the pivot at correct position, at this point we know that all the less than elements than pivot are reached till\n",
    "    # i so need to swap i th element with pivot\n",
    "    arr[i], arr[r] = arr[r], arr[i]\n",
    "    print(arr)\n",
    "    return i\n",
    "\n",
    "# def pivotArray(nums, pivot):\n",
    "#         return [n for n in nums if n < pivot] + [n for n in nums if n == pivot] + [n for n in nums if n > pivot]\n",
    "  \n",
    "# finds the kth position (of the sorted array) \n",
    "# in a given unsorted array i.e this function \n",
    "# can be used to find both kth largest and \n",
    "# kth smallest element in the array. \n",
    "# ASSUMPTION: all elements in arr[] are distinct\n",
    "def kthSmallest(arr, l, r, k):\n",
    "  \n",
    "    # if k is smaller than number of\n",
    "    # elements in array\n",
    "    if (k > 0 and k <= r - l + 1):\n",
    "  \n",
    "        # Partition the array around last\n",
    "        # element and get position of pivot\n",
    "        # element in sorted array\n",
    "        index = partition(arr, l, r)\n",
    "  \n",
    "        # if position is same as k\n",
    "        if (index - l == k - 1):\n",
    "            return arr[index]\n",
    "  \n",
    "        # If position is more, recur \n",
    "        # for left subarray \n",
    "        if (index - l > k - 1):\n",
    "            return kthSmallest(arr, l, index - 1, k)\n",
    "  \n",
    "        # Else recur for right subarray \n",
    "        return kthSmallest(arr, index + 1, r, \n",
    "                            k - index + l - 1)\n",
    "    print(\"Index out of bound\")\n",
    "    \n",
    "nums = [3,2,1,5,6,4]\n",
    "k = 2    \n",
    "kthSmallest(nums, 0, len(nums) - 1, k)"
   ]
  },
  {
   "cell_type": "markdown",
   "id": "3b61ba4a",
   "metadata": {},
   "source": [
    "### Minimize the Heights II\n",
    "\n",
    "    For any given tower, you have two choices, you can either increase its height or decrease it.\n",
    "    Now if you decide to increase its height from say Hi to Hi + K, then you can also increase the height of all shorter towers as that won't affect the maximum.\n",
    "    Similarly, if you decide to decrease the height of a tower from Hi to Hi − K, then you can also decrease the heights of all taller towers.\n",
    "    We will make use of this, we have n buildings, and we'll try to make each of the building the highest and see making which building the highest gives us the least range of heights(which is our answer).\n",
    "    Let me explain:\n",
    "\n",
    "    So what we want to do is -\n",
    "    1) We first sort the array(you will soon see why).\n",
    "\n",
    "    2) Then for every building from i = 0 to n-2[1] , we try to make it the highest (by adding K to the building, adding K to the buildings on its left and subtracting K from the buildings on its right).\n",
    "\n",
    "    So say we're at building Hi, we've added K to it and the buildings before it and subtracted K from the buildings after it.\n",
    "\n",
    "    So the minimum height of the buildings will now be min(H0 + K, Hi+1 - K),\n",
    "    i.e. min(1st building + K, next building on right - K).\n",
    "\n",
    "    (Note: This is because we sorted the array. Convince yourself by taking a few examples.)\n",
    "\n",
    "    Likewise, the maximum height of the buildings will be max(Hi + K, Hn-1 - K),\n",
    "    i.e. max(current building + K, last building on right - K).\n",
    "\n",
    "    3) max - min gives you the range.\n",
    "\n",
    "    [1]Note that when i = n-1. In this case, there is no building after the current building, so we're adding K to every building, so the range will merely be height[n-1] - height[0] since K is added to everything, so it cancels out."
   ]
  },
  {
   "cell_type": "code",
   "execution_count": 2,
   "id": "077e2b74",
   "metadata": {},
   "outputs": [],
   "source": [
    "def getMinDiff( arr, n, k):\n",
    "    arr.sort()\n",
    "    # code here\n",
    "    max_ = arr[n - 1]\n",
    "    min_ = arr[0]\n",
    "    res = max_ - min_\n",
    "\n",
    "    for i in range(1, n):\n",
    "        # arr[i] = y\n",
    "        # arr[i - 1] = x\n",
    "        if arr[i] >= k: # so that height not negetive\n",
    "            \n",
    "            max_ = max(arr[i - 1] + k, arr[n - 1] - k)\n",
    "            min_ = min(arr[i] - k, arr[0] + k)\n",
    "\n",
    "            res = min(res, max_ - min_)\n",
    "    return res\n",
    "\n",
    "   ans = arr[-1]-arr[0] #this case occurs when either we subtract k or add k to all elements of the array\n",
    "    for i in range(n):\n",
    "#         mn=min(arr[0]+k, arr[i]-k) #after sorting, arr[0] is minimum. so adding k pushes it towards maximum. \n",
    "#         We subtract k from arr[i] to get any other worse (smaller) minimum. worse means increasing the diff b/w mn and mx\n",
    "#         mx=max(arr[n-1]-k, arr[i]+k) # after sorting, arr[n-1] is maximum. so subtracting k pushes it towards minimum. \n",
    "#         We add k to arr[i] to get any other worse (bigger) maximum. worse means increasing the diff b/w mn and mx"
   ]
  },
  {
   "cell_type": "markdown",
   "id": "879fd71a",
   "metadata": {},
   "source": [
    "## KADANE's ALGORITHM"
   ]
  },
  {
   "cell_type": "code",
   "execution_count": null,
   "id": "95172706",
   "metadata": {},
   "outputs": [],
   "source": [
    " def maxSubArraySum(self,arr,N):\n",
    "        localMax = 0\n",
    "        globalMax = float('-inf')\n",
    "        \n",
    "        for i in range(0, N):\n",
    "            localMax = max(arr[i], arr[i] + localMax)\n",
    "            globalMax = max(globalMax, localMax)\n",
    "        return globalMax"
   ]
  },
  {
   "cell_type": "markdown",
   "id": "432c9366",
   "metadata": {},
   "source": [
    "### Jump Game"
   ]
  },
  {
   "cell_type": "code",
   "execution_count": 33,
   "id": "86083408",
   "metadata": {},
   "outputs": [
    {
     "name": "stdout",
     "output_type": "stream",
     "text": [
      "False\n"
     ]
    }
   ],
   "source": [
    "def canJump(nums):\n",
    "    reachable = 0\n",
    "        \n",
    "    for i , n in enumerate(nums):\n",
    "        if i > reachable:\n",
    "            return False\n",
    "        if reachable >= len(nums) - 1:\n",
    "            return True\n",
    "        reachable = max(reachable, i + n)\n",
    "    return True\n",
    "\n",
    "#     if len(nums) == 1 and nums[0] != 0:\n",
    "#         return True\n",
    "        \n",
    "    \n",
    "#     reachable = 0\n",
    "    \n",
    "#     for i in range(len(nums)):\n",
    "#         reachable = max(reachable, i + nums[i])\n",
    "#         if nums[i] == 0:\n",
    "#             if reachable <= i:\n",
    "#                 return False\n",
    "#         if reachable >= len(nums) - 1:\n",
    "#             return True\n",
    "        \n",
    "        \n",
    "#     return False\n",
    "    \n",
    "    \n",
    "    \n",
    "nums1 = [2,3,1,1,4]\n",
    "nums2 = [3,1,2,0,4, 0, 0, 0, 0, 0]\n",
    "nums3 = [1]\n",
    "nums4 = [2, 0]\n",
    "\n",
    "print(canJump(nums2))"
   ]
  },
  {
   "cell_type": "markdown",
   "id": "85b88f3f",
   "metadata": {},
   "source": [
    "### Jump Game 2\n",
    "considering always reach to the end\n",
    "\n",
    "\n",
    "    The idea is to maintain two pointers left and right, where left initialy set to be 0 and right set to be nums[0].\n",
    "    So points between 0 and nums[0] are the ones you can reach by using just 1 jump.\n",
    "    Next, we want to find points I can reach using 2 jumps, so our new left will be set equal to right, and our new right will be set equal to the farest point we can reach by two jumps. which is:\n",
    "    right = max(i + nums[i] for i in range(left, right + 1)"
   ]
  },
  {
   "cell_type": "code",
   "execution_count": 1,
   "id": "781ef31d",
   "metadata": {},
   "outputs": [
    {
     "name": "stdout",
     "output_type": "stream",
     "text": [
      "2\n"
     ]
    }
   ],
   "source": [
    "def jump(nums):\n",
    "    jumps = 0\n",
    "    l = r = 0\n",
    "    \n",
    "    while r < len(nums) -1:\n",
    "        farthest = 0\n",
    "        for i in range(l, r + 1):\n",
    "            farthest = max(farthest, i + nums[i])\n",
    "            \n",
    "        l = r + 1\n",
    "        r = farthest\n",
    "        jumps += 1\n",
    "        \n",
    "    return jumps\n",
    "\n",
    "nums = [7,0,9,6,9,6,1,7,9,0,1,2,9,0,3]\n",
    "def jump(self, nums):\n",
    "    if len(nums) <= 1: return 0\n",
    "    l, r = 0, nums[0]\n",
    "    times = 1\n",
    "    while r < len(nums) - 1:\n",
    "        times += 1\n",
    "        nxt = max(i + nums[i] for i in range(l, r + 1))\n",
    "        l, r = r, nxt\n",
    "    return times\n",
    "\n",
    "# The main idea is based on greedy. \n",
    "# Let's say the range of the current jump is [curBegin, curEnd], curFarthest is the farthest point that all points in \n",
    "# [curBegin, curEnd] can reach. Once the current point reaches curEnd, \n",
    "# then trigger another jump, and set the new curEnd with curFarthest, then keep the above steps, as the following:\n",
    "# \tint jumps = 0, curEnd = 0, curFarthest = 0;\n",
    "# \tfor (int i = 0; i < A.length - 1; i++) {\n",
    "# \t\tcurFarthest = Math.max(curFarthest, i + A[i]);\n",
    "# \t\tif (i == curEnd) {\n",
    "# \t\t\tjumps++;\n",
    "# \t\t\tcurEnd = curFarthest;\n",
    "# \t\t}\n",
    "# \t}\n",
    "# \treturn jumps;"
   ]
  },
  {
   "cell_type": "markdown",
   "id": "e6e7fc9e",
   "metadata": {},
   "source": [
    "### 287. Find the Duplicate Number"
   ]
  },
  {
   "cell_type": "code",
   "execution_count": 5,
   "id": "2f74f938",
   "metadata": {},
   "outputs": [
    {
     "name": "stdout",
     "output_type": "stream",
     "text": [
      "18\n"
     ]
    }
   ],
   "source": [
    "def findDuplicate(nums):\n",
    "    \n",
    "    i  = 0 \n",
    "    while i < len(nums):\n",
    "        correctIndex = nums[i] - 1\n",
    "        \n",
    "        if i != correctIndex:\n",
    "            \n",
    "            if nums[i] != nums[correctIndex]:\n",
    "\n",
    "                nums[i], nums[correctIndex] = nums[correctIndex], nums[i]\n",
    "\n",
    "            else:\n",
    "                return nums[i]\n",
    "        else:\n",
    "            i += 1\n",
    "            \n",
    "    \n",
    "    \n",
    "nums = [8,7,1,10,17,15,18,11,16,9,19,12,5,14,3,4,2,13,18,18]\n",
    "print(findDuplicate(nums))"
   ]
  },
  {
   "cell_type": "markdown",
   "id": "a341d415",
   "metadata": {},
   "source": [
    "## Merge two sorted arrays with no extra sapce"
   ]
  },
  {
   "cell_type": "code",
   "execution_count": 14,
   "id": "a46e782e",
   "metadata": {},
   "outputs": [
    {
     "name": "stdout",
     "output_type": "stream",
     "text": [
      "[1, 2, 3, 5] [8, 9, 10, 13, 15, 20]\n",
      "None\n"
     ]
    }
   ],
   "source": [
    "\n",
    "# Time complexity: O(n*m)\n",
    "\n",
    "# Space Complexity: O(1)\n",
    "def mergeWithoutSpace(arr1, arr2):\n",
    "    # we know both the arrays are sorted\n",
    "    # after merge arr1 will have all the smaller elements and arr2 will have all the large elements\n",
    "    \n",
    "    for i in range(len(arr1)):\n",
    "        \n",
    "        if arr1[i] > arr2[0]:\n",
    "            \n",
    "            temp = arr1[i]\n",
    "            arr1[i] = arr2[0]\n",
    "            arr2[0] = temp\n",
    "            # now we have to place the firt element at correct index in arr2 so that it remain sorted\n",
    "            k = 1\n",
    "            first= arr2[0]\n",
    "            while k < len(arr2) and arr2[k - 1] > arr2[k]:\n",
    "                arr2[k - 1], arr2[k] = arr2[k], arr2[k - 1]\n",
    "                k += 1\n",
    "            \n",
    "#             while k < len(arr2) and first > arr2[k]:\n",
    "#                 print('first', first, arr2)\n",
    "#                 arr2[k - 1] = arr2[k]\n",
    "#                 k += 1\n",
    "                \n",
    "#             arr2[k - 1] = first\n",
    "            \n",
    "    print(arr1, arr2)\n",
    "            \n",
    "arr1 = [2, 3, 8, 13]   \n",
    "\n",
    "arr2 = [1, 5, 9, 10, 15, 20]\n",
    "print(mergeWithoutSpace(arr1, arr2))           \n",
    "                "
   ]
  },
  {
   "cell_type": "code",
   "execution_count": 17,
   "id": "92799c72",
   "metadata": {},
   "outputs": [
    {
     "name": "stdout",
     "output_type": "stream",
     "text": [
      "[1, 2, 3, 5, 8, 9, 10, 13, 15, 20]\n"
     ]
    }
   ],
   "source": [
    "\n",
    "def merge(arr1, arr2):\n",
    "    \n",
    "    i = j = k = 0\n",
    "    res = [0 for _ in range(len(arr1) + len(arr2))]\n",
    "    \n",
    "    while i < len(arr1) and j < len(arr2):\n",
    "        if arr1[i] > arr2[j]:\n",
    "            res[k] = arr2[j]\n",
    "            j += 1\n",
    "        else:\n",
    "            res[k] = arr1[i]\n",
    "            i+= 1\n",
    "            \n",
    "        k += 1\n",
    "        \n",
    "    while i < len(arr1):\n",
    "        res[k] = arr1[i]\n",
    "        i += 1\n",
    "        k += 1\n",
    "    \n",
    "    while j < len(arr2):\n",
    "        res[k] = arr2[j]\n",
    "        j += 1\n",
    "        k += 1\n",
    "    return res\n",
    "            \n",
    "        \n",
    "        \n",
    "arr1 = [1, 5, 9, 10, 15, 20]\n",
    "arr2 = [2, 3, 8, 13]\n",
    "\n",
    "print(merge(arr1, arr2))"
   ]
  },
  {
   "cell_type": "markdown",
   "id": "d9db38a8",
   "metadata": {},
   "source": [
    "### 56. Merge Intervals"
   ]
  },
  {
   "cell_type": "code",
   "execution_count": 16,
   "id": "a7e2cf64",
   "metadata": {},
   "outputs": [
    {
     "name": "stdout",
     "output_type": "stream",
     "text": [
      "- [[1, 18]]\n"
     ]
    }
   ],
   "source": [
    "def mergeInterVals(arr):\n",
    "    arr.sort(key = lambda x: x[0], reverse = False)\n",
    "    res = []\n",
    "    res.append(arr[0])\n",
    "    for i in arr[1:]:\n",
    "\n",
    "        if res[-1][0] <= i[0] <= res[-1][-1]:\n",
    "#             res[-1][0] = \n",
    "            res[-1][-1] = max(res[-1][-1], i[-1])\n",
    "    \n",
    "        else:\n",
    "            res.append(i)\n",
    "            \n",
    "    # problem with below approach is [1,4],[2,3]\n",
    "\n",
    "#     for i in range(len(arr) - 1):\n",
    "        \n",
    "#         if arr[i + 1][0] <= arr[i][-1] and arr[i][-1] <= arr[i + 1][-1]:\n",
    "#             print(i, arr[i + 1][0] , arr[i][-1], arr[i+1][-1])\n",
    "#             res.append([arr[i][0], arr[i + 1][-1]])\n",
    "# #             arr[i][0] = arr[i][0]\n",
    "# #             arr[i][-1] = arr[i + 1][-1]\n",
    "#         else:\n",
    "#             res.append(arr[i+1])\n",
    "#     i = 0  \n",
    "#     j = i + 1\n",
    "#     while i < len(arr) - 1:\n",
    "        \n",
    "#         if arr[j][0] <= arr[i][-1] and arr[i][-1] <= arr[j][-1]:\n",
    "#             print(i, arr[j][0] , arr[i][-1], arr[j][-1])\n",
    "#             res.append([arr[i][0], arr[j][-1]])\n",
    "#             j += 1\n",
    "#         else:\n",
    "#             print(arr[j])\n",
    "#             i += 1\n",
    "            \n",
    "        \n",
    "        \n",
    "    print('-',res)\n",
    "    \n",
    "            \n",
    "    \n",
    "    \n",
    "    \n",
    "    \n",
    "    \n",
    "\n",
    "\n",
    "\n",
    "\n",
    "intervals = [[1,3],[2,9],[8,16],[15,18]]\n",
    "# intervals = [[1,4],[2,3]]\n",
    "mergeInterVals(intervals)\n",
    "# [[1,6],[8,10],[15,18]]\n",
    "# print(intervals)"
   ]
  },
  {
   "cell_type": "code",
   "execution_count": 40,
   "id": "bc8204ab",
   "metadata": {},
   "outputs": [
    {
     "name": "stdout",
     "output_type": "stream",
     "text": [
      "-----1----- [(1, 'bbbb'), (2, 'aaa'), (3, 'aaa'), (3, 'ab')]\n",
      "-----2----- [(3, 'aaa'), (3, 'ab'), (2, 'aaa'), (1, 'bbbb')]\n",
      "-----3----- [(1, 'bbbb'), (2, 'aaa'), (3, 'ab'), (3, 'aaa')]\n",
      "-----4----- [(1, 'bbbb'), (2, 'aaa'), (3, 'aaa'), (3, 'ab')]\n"
     ]
    },
    {
     "ename": "TypeError",
     "evalue": "compare2() missing 1 required positional argument: 'item2'",
     "output_type": "error",
     "traceback": [
      "\u001b[1;31m---------------------------------------------------------------------------\u001b[0m",
      "\u001b[1;31mTypeError\u001b[0m                                 Traceback (most recent call last)",
      "\u001b[1;32m~\\AppData\\Local\\Temp/ipykernel_704/2678840994.py\u001b[0m in \u001b[0;36m<module>\u001b[1;34m\u001b[0m\n\u001b[0;32m     44\u001b[0m \u001b[1;33m\u001b[0m\u001b[0m\n\u001b[0;32m     45\u001b[0m \u001b[0mprint\u001b[0m\u001b[1;33m(\u001b[0m\u001b[1;34m'-----4-----'\u001b[0m \u001b[1;33m,\u001b[0m\u001b[0msorted\u001b[0m\u001b[1;33m(\u001b[0m\u001b[0ml\u001b[0m\u001b[1;33m,\u001b[0m \u001b[0mkey\u001b[0m \u001b[1;33m=\u001b[0m \u001b[0mcompare_key\u001b[0m\u001b[1;33m)\u001b[0m\u001b[1;33m)\u001b[0m\u001b[1;33m\u001b[0m\u001b[1;33m\u001b[0m\u001b[0m\n\u001b[1;32m---> 46\u001b[1;33m \u001b[0mprint\u001b[0m\u001b[1;33m(\u001b[0m\u001b[1;34m'-----5-----'\u001b[0m \u001b[1;33m,\u001b[0m\u001b[0msorted\u001b[0m\u001b[1;33m(\u001b[0m\u001b[0ml\u001b[0m\u001b[1;33m,\u001b[0m \u001b[0mkey\u001b[0m \u001b[1;33m=\u001b[0m \u001b[0mcompare2\u001b[0m\u001b[1;33m)\u001b[0m\u001b[1;33m)\u001b[0m\u001b[1;33m\u001b[0m\u001b[1;33m\u001b[0m\u001b[0m\n\u001b[0m",
      "\u001b[1;31mTypeError\u001b[0m: compare2() missing 1 required positional argument: 'item2'"
     ]
    }
   ],
   "source": [
    "# It is important to note that cmp needs to pass two parameters (x and y) that are parts of the list. \n",
    "# It will return a number with the following logic:\n",
    "\n",
    "# If it returns a positive number: x > y\n",
    "# If it returns 0: x == y\n",
    "# If it returns a negative number: x < y\n",
    "l = [(3, 'aaa'), (1, 'bbbb'), (3, 'ab'), (2, 'aaa')]\n",
    "from functools import cmp_to_key\n",
    " \n",
    "def compare(pair1, pair2):\n",
    "    number1, word1 = pair1\n",
    "    number2, word2 = pair2\n",
    "    if number1 == number2:\n",
    "        if word1 < word2:\n",
    "            return -1\n",
    "        else:\n",
    "            return 1\n",
    "    if number1 < number2:\n",
    "        return -1\n",
    "    else:\n",
    "        return 1\n",
    "    \n",
    "def compare2(item1, item2):\n",
    "    print(item)\n",
    "    number1, word1 = item\n",
    "    number2, word2 = item\n",
    "    print(number1, number2)\n",
    "    if number1 == number2:\n",
    "        if word1 < word2:\n",
    "            return -1\n",
    "        else:\n",
    "            return 1\n",
    "    if number1 < number2:\n",
    "        return -1\n",
    "    else:\n",
    "        return 1\n",
    " \n",
    "compare_key = cmp_to_key(compare)\n",
    "\n",
    "\n",
    "print('-----1-----' ,sorted(l, key = lambda x: (x[0], x[1])))\n",
    "print('-----2-----' ,sorted(l, key = lambda x: (-x[0], x[1])))\n",
    "print('-----3-----' ,sorted(l, key = lambda x: (-x[0], x[1]), reverse= True))\n",
    "\n",
    "print('-----4-----' ,sorted(l, key = compare_key))\n",
    "print('-----5-----' ,sorted(l, key = compare2))"
   ]
  },
  {
   "cell_type": "code",
   "execution_count": 1,
   "id": "70215272",
   "metadata": {},
   "outputs": [
    {
     "name": "stdout",
     "output_type": "stream",
     "text": [
      "4321\n"
     ]
    }
   ],
   "source": [
    "import functools\n",
    "\n",
    "def biggestNum(nums):\n",
    "    \n",
    "    def comparator(s1, s2):\n",
    "        if int(s1+s2) < int(s2+s1):\n",
    "            return -1\n",
    "        if int(s1+s2) > int(s2+s1):\n",
    "            return 1\n",
    "        return 0\n",
    "\n",
    "    nums = [str(num) for num in nums]\n",
    "    nums = sorted(nums, key = functools.cmp_to_key(comparator),  reverse = True)\n",
    "    \n",
    "#     nums = sorted(nums, key = lambda x, y: print(x, y))\n",
    "    ans = '0' if nums[0] == '0' else ''.join(nums)      # if the biggest number after sorting is 0 in first position, then rest all will also be 0's so return 0\n",
    "    return ans\n",
    "\n",
    "nums = [1,2,3,4]\n",
    "print(biggestNum(nums))\n",
    "\n",
    "\n"
   ]
  },
  {
   "cell_type": "markdown",
   "id": "02d0884c",
   "metadata": {},
   "source": [
    "## Next permutation (Very Important Concept)"
   ]
  },
  {
   "cell_type": "code",
   "execution_count": 5,
   "id": "28a219a9",
   "metadata": {},
   "outputs": [
    {
     "name": "stdout",
     "output_type": "stream",
     "text": [
      "[1, 4, 2, 3, 5]\n"
     ]
    }
   ],
   "source": [
    "def swap(nums, i, j):\n",
    "    temp = nums[i]\n",
    "    nums[i] = nums[j]\n",
    "    nums[j] = temp\n",
    "    \n",
    "def reverse(nums, i, j):\n",
    "    while i < j:\n",
    "        swap(nums, i, j)\n",
    "        i += 1\n",
    "        j -= 1\n",
    "    \n",
    "\n",
    "def nextPermutation(nums):\n",
    "    \n",
    "    if len(nums) <= 1:\n",
    "        return\n",
    "    \n",
    "    i = len(nums) - 2\n",
    "    while i >= 0 and nums[i] >= nums[i + 1]:\n",
    "        i -= 1\n",
    "    if i >= 0:\n",
    "        j = len(nums) - 1\n",
    "        while nums[j] <= nums[i]:\n",
    "            j -= 1\n",
    "        swap(nums, i, j)\n",
    "\n",
    "    reverse(nums, i+1, len(nums) - 1)\n",
    "    \n",
    "\n",
    "\n",
    "nums = [1,3,5,4,2]\n",
    "nextPermutation(nums)\n",
    "print(nums)\n",
    "        "
   ]
  },
  {
   "cell_type": "markdown",
   "id": "2c3e7763",
   "metadata": {},
   "source": [
    "### Count Inversions"
   ]
  },
  {
   "cell_type": "code",
   "execution_count": 31,
   "id": "04726e74",
   "metadata": {},
   "outputs": [
    {
     "data": {
      "text/plain": [
       "5"
      ]
     },
     "execution_count": 31,
     "metadata": {},
     "output_type": "execute_result"
    }
   ],
   "source": [
    "def totalInversionCount(arr, n):\n",
    "    # A temp_arr is created to store\n",
    "    # sorted array in merge function\n",
    "    temp_arr = [0] * n\n",
    "    return _mergeSort(arr, temp_arr, 0, n-1)\n",
    "\n",
    "def _merge(arr, temp_arr, left, mid, right):\n",
    "    i = left\n",
    "    j = mid + 1\n",
    "    k = left\n",
    "    inversion = 0\n",
    "    \n",
    "    \n",
    "    while i <= mid and j <= right:\n",
    "        \n",
    "        if arr[i] <= arr[j]:\n",
    "            temp_arr[k] = arr[i]\n",
    "            i += 1\n",
    "            k += 1\n",
    "        else:\n",
    "            inversion += (mid - i + 1)\n",
    "            temp_arr[k] = arr[j]\n",
    "            k += 1\n",
    "            j += 1\n",
    "\n",
    "    while i <= mid:\n",
    "#         print('Heelo 3')\n",
    "        temp_arr[k] = arr[i]\n",
    "        i += 1\n",
    "        k += 1\n",
    "    \n",
    "    while j <= right:\n",
    "        temp_arr[k] = arr[j]\n",
    "        j += 1\n",
    "        k += 1\n",
    "    # Copy the sorted subarray into Original array\n",
    "    for loop_var in range(left, right + 1):\n",
    "        arr[loop_var] = temp_arr[loop_var]\n",
    " \n",
    "    return inversion\n",
    "    \n",
    "\n",
    "def _mergeSort(arr, temp_arr, left, right):\n",
    "\n",
    "    inversion_count = 0\n",
    "    \n",
    "    if left < right:\n",
    "        mid = (left + right) // 2\n",
    "        \n",
    "        inversion_count += _mergeSort(arr, temp_arr, left, mid)\n",
    "        inversion_count += _mergeSort(arr, temp_arr, mid + 1, right)\n",
    "\n",
    "        inversion_count += _merge(arr, temp_arr, left, mid, right)\n",
    "        \n",
    "    return inversion_count\n",
    "\n",
    "nums = [1, 20, 6, 4, 5]\n",
    "# nums = [468, 335, 1, 170, 225, 479, 359, 463, 465, 206, 146, 282, 328, 462, 492, 496, 443, 328, 437, 392, 105, 403, 154, 293, 383, 422, 217, 219, 396, 448, 227, 272, 39, 370, 413, 168, 300, 36, 395, 204, 312, 323]\n",
    "totalInversionCount(nums, len(nums))\n"
   ]
  },
  {
   "cell_type": "code",
   "execution_count": null,
   "id": "22ce757c",
   "metadata": {},
   "outputs": [],
   "source": []
  },
  {
   "cell_type": "code",
   "execution_count": 64,
   "id": "deb1cd98",
   "metadata": {},
   "outputs": [
    {
     "name": "stdout",
     "output_type": "stream",
     "text": [
      "[0, 0, 1, 1, 2, 3, 5, 6, 9]\n"
     ]
    }
   ],
   "source": [
    "def sortArray(nums):\n",
    "    return _helperSort(nums)\n",
    "\n",
    "def merge(arr1, arr2):\n",
    "    i = j = k = 0\n",
    "    res = [0 for _ in range(len(arr1) + len(arr2))]\n",
    "    \n",
    "    while i < len(arr1) and j < len(arr2):\n",
    "        if arr1[i] > arr2[j]:\n",
    "            res[k] = arr2[j]\n",
    "            j += 1\n",
    "        else:\n",
    "            res[k] = arr1[i]\n",
    "            i+= 1\n",
    "            \n",
    "        k += 1\n",
    "        \n",
    "    while i < len(arr1):\n",
    "        res[k] = arr1[i]\n",
    "        i += 1\n",
    "        k += 1\n",
    "    \n",
    "    while j < len(arr2):\n",
    "        res[k] = arr2[j]\n",
    "        j += 1\n",
    "        k += 1\n",
    "    return res\n",
    "\n",
    "def _helperSort(nums):\n",
    "    ans = []\n",
    "    if len(nums) == 1:\n",
    "        ans = nums\n",
    "        return ans\n",
    "\n",
    "    mid = len(nums) // 2\n",
    "\n",
    "    left = _helperSort(nums[:mid])\n",
    "    right = _helperSort(nums[mid:])\n",
    "\n",
    "    ans.extend(merge(left, right))\n",
    "\n",
    "    return ans\n",
    "\n",
    "nums = [5,2,3,1, 6, 9, 1, 0 , 0]\n",
    "r = sortArray(nums)\n",
    "print(r)\n",
    "    "
   ]
  },
  {
   "cell_type": "markdown",
   "id": "08cb9c40",
   "metadata": {},
   "source": [
    "### Best Time to Buy and Sell Stock"
   ]
  },
  {
   "cell_type": "code",
   "execution_count": 68,
   "id": "0ffd3bf0",
   "metadata": {},
   "outputs": [
    {
     "name": "stdout",
     "output_type": "stream",
     "text": [
      "5\n"
     ]
    }
   ],
   "source": [
    "def maxProfit(nums):\n",
    "    \n",
    "    maxProfit = 0\n",
    "    minPrice = float('inf')\n",
    "    \n",
    "    for i, n in enumerate(nums):\n",
    "        \n",
    "        minPrice = min(minPrice, n)\n",
    "        maxProfit = max(maxProfit, n - minPrice)\n",
    "        \n",
    "    return maxProfit\n",
    "\n",
    "nums = [7,1,5,3,6,4]\n",
    "print(maxProfit(nums))"
   ]
  },
  {
   "cell_type": "markdown",
   "id": "c184365e",
   "metadata": {},
   "source": [
    "### Count pairs with given sum"
   ]
  },
  {
   "cell_type": "code",
   "execution_count": 80,
   "id": "76c6777d",
   "metadata": {},
   "outputs": [
    {
     "name": "stdout",
     "output_type": "stream",
     "text": [
      "6\n"
     ]
    }
   ],
   "source": [
    "def getPairsCount(arr, n, k):\n",
    "    hashMap = {}\n",
    "    count = 0\n",
    "    for j in range(0, len(arr)):\n",
    "        if arr[j] not in hashMap:\n",
    "            hashMap[arr[j]] = 1\n",
    "        else:\n",
    "            hashMap[arr[j]] += 1\n",
    "    \n",
    "    for i in range(len(arr)):\n",
    "        c = hashMap.get(k - arr[i], -1)\n",
    "\n",
    "        if  c != -1:\n",
    "            hashMap[arr[i]] -= 1\n",
    "            count += hashMap.get(k - arr[i])\n",
    "\n",
    "\n",
    "    return count\n",
    "    \n",
    "    \n",
    "    \n",
    "arr = [1, 5, 7, 1]\n",
    "arr=[1,1,1,1] #o/p - 6\n",
    "k = 2\n",
    "n = len(arr)\n",
    "print(getPairsCount(arr, n, k)) "
   ]
  },
  {
   "cell_type": "markdown",
   "id": "a05a5285",
   "metadata": {},
   "source": [
    "### Common elements\n",
    "Given three arrays sorted in increasing order. Find the elements that are common in all three arrays."
   ]
  },
  {
   "cell_type": "code",
   "execution_count": 108,
   "id": "085afc12",
   "metadata": {},
   "outputs": [
    {
     "name": "stdout",
     "output_type": "stream",
     "text": [
      "3 None\n"
     ]
    }
   ],
   "source": [
    "def commonElements(A, B, C, n1, n2, n3): # this will not handle the duplicate elements\n",
    "    \n",
    "    res = []\n",
    "    max_len = max(n1, n2, n3)\n",
    "    arr = []\n",
    "\n",
    "    if n1 == max_len:\n",
    "        arr = A\n",
    "\n",
    "    elif n2 == max_len:\n",
    "        arr = B\n",
    "    else:\n",
    "        arr = C\n",
    "\n",
    "    for i in range(max_len):\n",
    "\n",
    "        ind1 = A.index(arr[i]) if arr[i] in A else None\n",
    "        ind2 = B.index(arr[i]) if arr[i] in B else None\n",
    "        ind3 = C.index(arr[i]) if arr[i] in C else None\n",
    "\n",
    "        if ind1 >= 0 and ind2 >= 0 and ind3 >= 0:\n",
    "            res.append(arr[i])\n",
    "    return res\n",
    "\n",
    "def commonELementsWithoutDuplicates(A, B, C, n1, n2, n3):\n",
    "    \n",
    "    i = j = k = 0\n",
    "    res = []\n",
    "    prev1 = prev2 = prev3 = float('-inf')\n",
    "    \n",
    "    while i < n1 and j < n2 and k < n3:\n",
    "        \n",
    "        while A[i] == prev1 and i < n1 - 1:\n",
    "            i += 1\n",
    "        \n",
    "        while B[j] == prev2 and j < n2 -1:\n",
    "            j += 1\n",
    "        \n",
    "        while C[k] == prev3 and k < n3 - 1:\n",
    "            k += 1\n",
    "        \n",
    "        if A[i] == B[j] and B[j] == C[k]:\n",
    "            prev1 = A[i]\n",
    "            prev2 = B[j]\n",
    "            prev3 = C[k]\n",
    "            res.append(A[i])\n",
    "            i += 1\n",
    "            j += 1\n",
    "            k += 1\n",
    "        elif A[i] < B[j]:\n",
    "            prev1 = A[i]\n",
    "            i += 1\n",
    "            \n",
    "        elif B[j] < C[k]:\n",
    "            prev2 = B[j]\n",
    "            j += 1\n",
    "        \n",
    "        else:\n",
    "            prev3 = C[k]\n",
    "            k += 1\n",
    "            \n",
    "    return res\n",
    "\n",
    "def findCommonBetter(a, b, c, n1,\n",
    "               n2, n3):\n",
    " \n",
    "       # three sets to maintain frequency of elements\n",
    "    uset = set()\n",
    "    uset2 = set()\n",
    "    uset3 = set()\n",
    "    for i in range(n1):\n",
    "        uset.add(a[i])\n",
    " \n",
    "    for i in range(n2):\n",
    "        uset2.add(b[i])\n",
    " \n",
    "    # checking if elements of 3rd array are present in first 2 sets\n",
    "    for i in range(n3):\n",
    " \n",
    "        if(c[i] in uset and c[i] in uset2):\n",
    " \n",
    "            # using a 3rd set to prevent duplicates\n",
    "            if c[i] not in uset3:\n",
    "                print(c[i], end = \" \")\n",
    "            uset3.add(c[i])\n",
    "        \n",
    "        \n",
    "\n",
    "\n",
    "A = [1, 5, 10, 20, 40, 80]\n",
    "B = [6, 7, 20, 80, 100]\n",
    "C = [3, 4, 15, 20, 30, 70, 80, 120]\n",
    "\n",
    "# A = [1, 2, 3]\n",
    "# B = [1, 2, 3]\n",
    "# C = [1, 2, 3]\n",
    "\n",
    "A = [3, 3, 3]\n",
    "B = [3, 3, 3]\n",
    "C = [3, 3, 3]\n",
    "n1 = len(A)\n",
    "n2 = len(B)\n",
    "n3 = len(C)\n",
    "print(findCommon(A, B, C, n1, n2, n3))"
   ]
  },
  {
   "cell_type": "code",
   "execution_count": 84,
   "id": "afbfa5ef",
   "metadata": {},
   "outputs": [
    {
     "ename": "ValueError",
     "evalue": "4 is not in list",
     "output_type": "error",
     "traceback": [
      "\u001b[1;31m---------------------------------------------------------------------------\u001b[0m",
      "\u001b[1;31mValueError\u001b[0m                                Traceback (most recent call last)",
      "\u001b[1;32m~\\AppData\\Local\\Temp/ipykernel_13244/1740421447.py\u001b[0m in \u001b[0;36m<module>\u001b[1;34m\u001b[0m\n\u001b[0;32m      1\u001b[0m \u001b[0ma\u001b[0m \u001b[1;33m=\u001b[0m \u001b[1;33m[\u001b[0m\u001b[1;36m1\u001b[0m\u001b[1;33m,\u001b[0m \u001b[1;36m2\u001b[0m\u001b[1;33m,\u001b[0m \u001b[1;36m3\u001b[0m\u001b[1;33m]\u001b[0m\u001b[1;33m\u001b[0m\u001b[1;33m\u001b[0m\u001b[0m\n\u001b[1;32m----> 2\u001b[1;33m \u001b[0ma\u001b[0m\u001b[1;33m.\u001b[0m\u001b[0mindex\u001b[0m\u001b[1;33m(\u001b[0m\u001b[1;36m4\u001b[0m\u001b[1;33m)\u001b[0m\u001b[1;33m\u001b[0m\u001b[1;33m\u001b[0m\u001b[0m\n\u001b[0m",
      "\u001b[1;31mValueError\u001b[0m: 4 is not in list"
     ]
    }
   ],
   "source": [
    "a = [1, 2, 3]\n",
    "a.index(4)"
   ]
  },
  {
   "cell_type": "markdown",
   "id": "464a6d91",
   "metadata": {},
   "source": [
    "### Alternate positive and negative numbers"
   ]
  },
  {
   "cell_type": "code",
   "execution_count": 128,
   "id": "3a6f1765",
   "metadata": {},
   "outputs": [
    {
     "name": "stdout",
     "output_type": "stream",
     "text": [
      "[5, -5, 2, -2, 4, -8, 7, 1, 8, 0]\n"
     ]
    }
   ],
   "source": [
    "# below work with the constraint - nums consists of equal number of positive and negative integers.\n",
    "def reArrange(nums):\n",
    "    \n",
    "    l = 0\n",
    "    r = 1\n",
    "    res = [0] * len(nums)\n",
    "    \n",
    "    for i in range(len(nums)):\n",
    "        \n",
    "        if nums[i] >= 0:\n",
    "            if l < len(nums):\n",
    "                res[l] = nums[i]\n",
    "                l += 2\n",
    "        else:\n",
    "            if r < len(nums):\n",
    "                res[r] = nums[i]\n",
    "                r += 2\n",
    "    return res\n",
    "\n",
    "\n",
    "def reArrange(nums):\n",
    "    s1 = []\n",
    "    s2 = []\n",
    "\n",
    "    for i in range(len(nums)):\n",
    "\n",
    "        if nums[i] >= 0:\n",
    "            s1.append(nums[i])\n",
    "        else:\n",
    "            s2.append(nums[i])\n",
    "\n",
    "    for i in range(len(nums)):\n",
    "        if i % 2 == 0:\n",
    "            if len(s1):\n",
    "                nums[i] = s1.pop(0) \n",
    "            elif len(s2):\n",
    "                nums[i] = s2.pop(0)\n",
    "        else:\n",
    "            if len(s2):\n",
    "                nums[i] = s2.pop(0)\n",
    "            elif len(s1):\n",
    "                nums[i] = s1.pop(0)\n",
    "    \n",
    "    \n",
    "\n",
    "nums = [-5, -2, 5, 2, 4, 7, 1, 8, 0, -8]    \n",
    "reArrange(nums)\n",
    "print(nums)"
   ]
  },
  {
   "cell_type": "markdown",
   "id": "5c26a466",
   "metadata": {},
   "source": [
    "### Subarray with 0 sum"
   ]
  },
  {
   "cell_type": "code",
   "execution_count": 131,
   "id": "4feefdf7",
   "metadata": {},
   "outputs": [
    {
     "name": "stdout",
     "output_type": "stream",
     "text": [
      "True\n"
     ]
    }
   ],
   "source": [
    "def subArrayExists(nums):\n",
    "    lsum = 0\n",
    "    hashMap = {}\n",
    "    \n",
    "    for i, n in enumerate(nums):\n",
    "        \n",
    "        lsum += n\n",
    "        \n",
    "        if lsum == 0:\n",
    "            return True\n",
    "        \n",
    "        if lsum in hashMap:\n",
    "            return True\n",
    "        else:\n",
    "            hashMap[lsum] = i\n",
    "    return False\n",
    "arr = [4, 2, -3, 1, 6]\n",
    "print(subArrayExists(arr))"
   ]
  },
  {
   "cell_type": "markdown",
   "id": "48a9f86e",
   "metadata": {},
   "source": [
    "### Factorials of a large number\n"
   ]
  },
  {
   "cell_type": "code",
   "execution_count": 144,
   "id": "ea6a3b77",
   "metadata": {},
   "outputs": [
    {
     "name": "stdout",
     "output_type": "stream",
     "text": [
      "92938925250946763394724459938853688271784602525984884511342538622728120804000949347514515362003182334114825775757706132543539878233489007682250399797497854784588060919942956119115955020556025758482359754772734712013807968108888408080281531238985537002340613164768073268944175694241232829259123112202605615048518457708065274101137266558729308280353641763955298643552127317212614242130574058891821847321733745223396484803420096173773345619524660555861351460134933798403261704943460015652957491357824796640077863811599192626570311304522298542884401230632231961514231376334537313964950569362363808761830608193210807619814385499216852255927697548638115328748934879304469858407876327595599995868738716029820634537659758849090035838825711283266141080251930188583643523323413783000242875830012588974929462430939276752619419975711594830288221047395058178973189450555109506111626359683776228545666211635452412918160471896432531832568610049785714136016258584254920923482629232878055546174414117429316578820222621445605703303650373615240542766898866651059621689485214204668614162906412067274579993387959364459025074256011405771202006495671516522219092153808567944744089827426663534336676006246271803728777006888422802860364337495709491465030764369581868917877332499073500832788984990667901989760053686626128479645751390646345433719007088748031903062357755491741359603583495673626703352553339115154520805972689286616773287069099286735512753771002010328875123879864008822367175313716989401768746170707275744127149162570372038799340836924935746720682761232414813406071235677536629112059077459997439548788104940305924288965811360615341695603093342196106637113349080830928632103870650261548028512767591096290015071132661029805273865684472825991563549908387003143131560576633953738569921615805863206216718605129509162590929160764088913462535313469344066471356296989883254055049272229460936690107751446957125401242416571506590294517222473501249171320587674123546418923772088488705595756628081053928400773940391853090296200870590607948572646282453320334311424000000000000000000000000000000000000000000000000000000000000000000000000000000000000000000000000000000000000000000000000000000000000000000000000000000000000000000000000000000000000000000000000000000000000000000000000000000\n"
     ]
    }
   ],
   "source": [
    "def largeFactorials(n):\n",
    "    dp = [0 for i in range(n + 1)]\n",
    "    dp[0] = 1\n",
    "    dp[1] = 1\n",
    "    i = 2\n",
    "    while i <= n:\n",
    "        dp[i] = i * dp[i - 1] \n",
    "        i += 1\n",
    "    return dp[n]\n",
    "\n",
    "\n",
    "print(largeFactorials(897))"
   ]
  },
  {
   "cell_type": "code",
   "execution_count": 143,
   "id": "bec13520",
   "metadata": {},
   "outputs": [
    {
     "data": {
      "text/plain": [
       "[1, 2, 0]"
      ]
     },
     "execution_count": 143,
     "metadata": {},
     "output_type": "execute_result"
    }
   ],
   "source": [
    "list(map(int, str(120)))"
   ]
  },
  {
   "cell_type": "markdown",
   "id": "3914f556",
   "metadata": {},
   "source": [
    "### Maximum Product Subarray (Interesting)"
   ]
  },
  {
   "cell_type": "code",
   "execution_count": 178,
   "id": "81eb6391",
   "metadata": {},
   "outputs": [
    {
     "name": "stdout",
     "output_type": "stream",
     "text": [
      "0\n"
     ]
    }
   ],
   "source": [
    "def maxProduct(arr, N):\n",
    "    local_max = 1\n",
    "    local_min = 1\n",
    "    \n",
    "    global_max = max(arr)\n",
    "    \n",
    "    for n in arr:\n",
    "        if n == 0:\n",
    "            local_max = 1\n",
    "            local_min = 1\n",
    "            continue\n",
    "        temp = local_max *  n \n",
    "        #Potential candidate for local_max\n",
    "        # if n is positive and local_max is postive\n",
    "        # if n is negetive and local_min is also negetive\n",
    "        # or the current element (e.g: [-1, 8]) - here -8 will be local_min and local_max so\n",
    "        local_max = max(temp, n * local_min, n)\n",
    "        \n",
    "        local_min = min(temp, n * local_min, n) #why n? [-1, -8]\n",
    "        global_max = max(global_max, local_max)\n",
    "    return global_max\n",
    "            \n",
    "    \n",
    "#     for i, n in enumerate(arr):\n",
    "        \n",
    "#         if n < 0: #if it's a negetive\n",
    "#             temp = local_max\n",
    "#             local_max = max(local_max, local_min * n)\n",
    "#             local_min = temp * n\n",
    "#         elif n == 0:\n",
    "#             local_max = 0\n",
    "#             local_min = 1\n",
    "#         else: # if the number is positive\n",
    "#             local_max = max(local_max, local_max * n)\n",
    "#             local_min = min(1, local_min * n)\n",
    "        \n",
    "#         global_max = max(global_max, local_max)\n",
    "\n",
    "#     return global_max\n",
    "        \n",
    "        \n",
    "\n",
    "arr= [2, 3, 4, 5, -1, 0]\n",
    "arr = [-2,0,-1]\n",
    "print(maxProduct(arr, len(arr)))\n",
    "    "
   ]
  },
  {
   "cell_type": "markdown",
   "id": "c5a61de6",
   "metadata": {},
   "source": [
    "### Longest consecutive subsequence"
   ]
  },
  {
   "cell_type": "code",
   "execution_count": 189,
   "id": "5f4ac32c",
   "metadata": {},
   "outputs": [
    {
     "name": "stdout",
     "output_type": "stream",
     "text": [
      "1\n",
      "[1, 2, 3, 4, 5]\n",
      "2\n",
      "3\n",
      "4\n",
      "5\n",
      "5\n"
     ]
    }
   ],
   "source": [
    "def findLongestConseqSubseq(arr):\n",
    "    \n",
    "    hashSet = set(arr)\n",
    "    ans = 0\n",
    "    for i, n in enumerate(arr):\n",
    "        if n - 1 in hashSet:\n",
    "            continue\n",
    "\n",
    "        currentNum = n\n",
    "        res=[]\n",
    "        while currentNum in hashSet:\n",
    "            res.append(currentNum)\n",
    "            currentNum += 1\n",
    "        ans = max(ans, len(res))\n",
    "    return ans\n",
    "            \n",
    "        \n",
    "\n",
    "\n",
    "arr = [1,2,3,4,5]\n",
    "# arr= [1,9,3,10,4,20,2]\n",
    "print(findLongestConseqSubseq(arr))"
   ]
  },
  {
   "cell_type": "markdown",
   "id": "31a6172e",
   "metadata": {},
   "source": [
    "### Majority Element\n",
    "\n",
    "# Moore's Voting Algorithm\n",
    "# Boyer Moore voting algorithm\n",
    "\n",
    "In the first pass we focus on one element (leader) at a time and maintain the counter that equals the number of occurrences of the leader minus the number of occurences of all the other elements. When the counter drops to0 we focus on the next element. The last elemet we were focused on will be the candidate to the ttitle of the majority element. We need to confirm in a separate array traversal.\n"
   ]
  },
  {
   "cell_type": "code",
   "execution_count": null,
   "id": "82ccb368",
   "metadata": {},
   "outputs": [],
   "source": [
    "# The majority element is the element that appears more than ⌊n / 2⌋ times. so that will\n",
    "# You may assume that the majority element always exists in the array.\n",
    "# If we don't know whether the majority element exists, the algorithm is two pass: \n",
    "# the first one chooses the best candidate that can potentially be a majority element, \n",
    "# the second pass confirms or rejects this guess.\n",
    "def majorityElement(nums):\n",
    "    \n",
    "    c1 = 0\n",
    "    num1 = 0\n",
    "    \n",
    "    for n in nums:\n",
    "        if c1 == 0:\n",
    "            num1 = n\n",
    "            \n",
    "        if num1 == n:\n",
    "            c1 += 1\n",
    "        else:\n",
    "            c1 -= 1\n",
    "    return num1\n",
    "\n",
    "print(majorityElement())\n",
    "    "
   ]
  },
  {
   "cell_type": "code",
   "execution_count": 197,
   "id": "9d2af0a2",
   "metadata": {},
   "outputs": [
    {
     "name": "stdout",
     "output_type": "stream",
     "text": [
      "[2]\n"
     ]
    }
   ],
   "source": [
    "# Below is with extra space\n",
    "def majorityElement(nums):\n",
    "    hashMap = { }\n",
    "\n",
    "    for n in nums:\n",
    "        hashMap[n] = hashMap.get(n, 0) + 1\n",
    "\n",
    "    res = set()\n",
    "\n",
    "    for n in nums:\n",
    "\n",
    "        if hashMap.get(n, 0) > len(nums)/3:\n",
    "            res.add(n)\n",
    "\n",
    "    return list(res)\n",
    "\n",
    "\n",
    "def majorityElement2(nums):\n",
    "    num1 = 0\n",
    "    num2 = 0\n",
    "    c1 = 0 \n",
    "    c2 = 0\n",
    "    res = []\n",
    "    for el in nums:\n",
    "\n",
    "        if el == num1:\n",
    "            c1 += 1\n",
    "        elif el == num2:\n",
    "            c2 += 1\n",
    "        elif c1 == 0:\n",
    "            num1 = el\n",
    "            c1 = 1\n",
    "        elif c2 == 0:\n",
    "            num2 = el\n",
    "            c2 = 1\n",
    "        else:\n",
    "            c1 -= 1\n",
    "            c2 -= 1\n",
    "\n",
    "    c1 = c2  = 0\n",
    "\n",
    "    for n in nums:\n",
    "        if n == num1:\n",
    "            c1 += 1\n",
    "        elif n == num2:\n",
    "            c2 += 1\n",
    "\n",
    "\n",
    "    if c1 > len(nums) // 3:\n",
    "        res.append(num1)\n",
    "    if c2 > len(nums) // 3:\n",
    "        res.append(num2)\n",
    "    return res\n",
    "\n",
    "\n",
    "nums = [2,2,1,3]\n",
    "print(majorityElement2(nums))\n"
   ]
  },
  {
   "cell_type": "code",
   "execution_count": 192,
   "id": "f50dd9a5",
   "metadata": {},
   "outputs": [
    {
     "data": {
      "text/plain": [
       "0"
      ]
     },
     "execution_count": 192,
     "metadata": {},
     "output_type": "execute_result"
    }
   ],
   "source": [
    "2//3"
   ]
  },
  {
   "cell_type": "markdown",
   "id": "6022b9e9",
   "metadata": {},
   "source": [
    "### Array Subset of another array"
   ]
  },
  {
   "cell_type": "code",
   "execution_count": 214,
   "id": "139a9402",
   "metadata": {},
   "outputs": [],
   "source": [
    "def isSubset(a1, a2, n, m):\n",
    "    leng = min(n, m)\n",
    "    for n in a2:\n",
    "        if n not in a1:\n",
    "            return 'No'\n",
    "    return 'Yes'"
   ]
  },
  {
   "cell_type": "markdown",
   "id": "f03dece0",
   "metadata": {},
   "source": [
    "### Triplet Sum in Array"
   ]
  },
  {
   "cell_type": "code",
   "execution_count": 215,
   "id": "4acf51d9",
   "metadata": {},
   "outputs": [
    {
     "name": "stdout",
     "output_type": "stream",
     "text": [
      "True\n"
     ]
    }
   ],
   "source": [
    "def find3Numbers(A, n, X):\n",
    "\n",
    "    hashMap = {}\n",
    "    N = len(A)\n",
    "    \n",
    "    for i in range(N):\n",
    "        hashMap[A[i]] = i\n",
    "        \n",
    "    for j in range(N - 2):\n",
    "        \n",
    "        for k in range(j + 1, N - 1):\n",
    "            \n",
    "            ans = hashMap.get(X - (A[j] + A[k]), -1)\n",
    "            \n",
    "            if ans != j and ans != k and ans != -1:\n",
    "                return True\n",
    "    return False\n",
    "          \n",
    "n = 6\n",
    "X = 13\n",
    "arr = [1, 4, 45, 6, 10, 8]\n",
    "print(find3Numbers(arr, n, X)) #The triplet {1, 4, 8} \n"
   ]
  },
  {
   "cell_type": "markdown",
   "id": "aed11a81",
   "metadata": {},
   "source": [
    "### Trapping Rain Water"
   ]
  },
  {
   "cell_type": "code",
   "execution_count": 221,
   "id": "c657a3d1",
   "metadata": {},
   "outputs": [
    {
     "name": "stdout",
     "output_type": "stream",
     "text": [
      "10\n"
     ]
    }
   ],
   "source": [
    "def trappingWater(arr,n):\n",
    "    \n",
    "    prefix_max = [0] * n\n",
    "    suffix_max = [0] * n\n",
    "    \n",
    "    lmax = 0\n",
    "    \n",
    "    for i in range(n):\n",
    "        lmax = max(lmax, arr[i])\n",
    "        prefix_max[i] = lmax\n",
    "\n",
    "    lmax = 0\n",
    "    for i in range(n-1, -1, -1):\n",
    "        lmax = max(lmax, arr[i])\n",
    "        suffix_max[i] = lmax\n",
    "        \n",
    "    ans = 0\n",
    "    \n",
    "    for i, n in enumerate(arr):\n",
    "        ans += min(prefix_max[i], suffix_max[i]) - n\n",
    "        \n",
    "    return ans\n",
    "\n",
    "def trapRainwaterWithoutExtraSpace(arr, n):\n",
    "    \n",
    "    leftMax = 0\n",
    "    rightMax = 0\n",
    "    \n",
    "    l = 0\n",
    "    r = len(arr) - 1\n",
    "    \n",
    "    op = 0\n",
    "    \n",
    "    while l <= r:\n",
    "        \n",
    "        if arr[l] <= arr[r]:\n",
    "            \n",
    "            if arr[l] >= leftMax:\n",
    "                leftMax = arr[l]\n",
    "            else:\n",
    "                op += leftMax - arr[l]\n",
    "            l += 1\n",
    "                      \n",
    "            \n",
    "        else:\n",
    "            if arr[r] >= rightMax:\n",
    "                rightMax = arr[r]\n",
    "            else:\n",
    "                op += rightMax - arr[r]\n",
    "            \n",
    "            r -= 1\n",
    "    return op\n",
    "            \n",
    "\n",
    "    \n",
    "    \n",
    "\n",
    "    \n",
    "    \n",
    "arr = [3,0,0,2,0,4] #o/p 10\n",
    "# print(trappingWater(arr, len(arr)))\n",
    "print(trapRainwaterWithoutExtraSpace(arr, len(arr)))"
   ]
  },
  {
   "cell_type": "markdown",
   "id": "6d2d3caa",
   "metadata": {},
   "source": [
    "### Chocolate Distribution Problem"
   ]
  },
  {
   "cell_type": "code",
   "execution_count": 32,
   "id": "37c91b27",
   "metadata": {},
   "outputs": [
    {
     "name": "stdout",
     "output_type": "stream",
     "text": [
      "6\n"
     ]
    }
   ],
   "source": [
    "def findMinDiff(A,N,M):\n",
    "    A.sort()\n",
    "    res = []\n",
    "    j = i = 0\n",
    "    ans = max(A)\n",
    "    \n",
    "    while j < N:\n",
    "        res.append(A[j])\n",
    "        \n",
    "        if j - i + 1 < M + 1:\n",
    "            j += 1\n",
    "        \n",
    "        if j - i + 1 >= M + 1:\n",
    "            ans = min(ans, res[-1] - res[0])\n",
    "            \n",
    "            res.pop(0)\n",
    "            i += 1\n",
    "    return ans\n",
    "\n",
    "def findMinDiffBetter(A,N,M):\n",
    "    A.sort()\n",
    "    res = []\n",
    "    j = i = 0\n",
    "    ans = max(A)\n",
    "    \n",
    "    if N < M:\n",
    "        return - 1\n",
    "    \n",
    "    min_diff = A[-1] - A[0]\n",
    "    \n",
    "    for i in range(N - M + 1):\n",
    "        min_diff = min(min_diff, A[i + M - 1] - A[i])\n",
    "        \n",
    "        \n",
    "    return min_diff\n",
    "\n",
    "N = 8\n",
    "M = 5\n",
    "A = [3, 4, 1, 9, 56, 7, 9, 12]\n",
    "\n",
    "# N = 7\n",
    "# M = 3\n",
    "# A = [7, 3, 2, 4, 9, 12, 56]\n",
    "\n",
    "# A = [34, 88, 89, 39, 67, 71, 85, 57, 18, 7, 61, 50, 38, 6, 60, 18, 19, 46, 84, 74, 59]\n",
    "# N = 21\n",
    "# M = 12\n",
    "print(findMinDiffBetter(A, N, M))\n",
    "        "
   ]
  },
  {
   "cell_type": "markdown",
   "id": "a9fcddf3",
   "metadata": {},
   "source": [
    "### 209. Minimum Size Subarray Sum"
   ]
  },
  {
   "cell_type": "code",
   "execution_count": 241,
   "id": "e8ca42be",
   "metadata": {},
   "outputs": [
    {
     "name": "stdout",
     "output_type": "stream",
     "text": [
      "2\n"
     ]
    }
   ],
   "source": [
    "def minSubArrayLen(target, arr):\n",
    "    \n",
    "    lsum = 0\n",
    "    i = j = 0\n",
    "    op = float('inf')\n",
    "    while j < len(arr):\n",
    "        lsum += arr[j]\n",
    "        \n",
    "        if lsum < target:\n",
    "            j += 1\n",
    "            \n",
    "        else:\n",
    "            while lsum >= target:\n",
    "                op = min(op, j - i + 1)\n",
    "                lsum -= arr[i]\n",
    "                i += 1\n",
    "            j+= 1\n",
    "    if op == float('inf'):\n",
    "        return 0\n",
    "    return op\n",
    "                \n",
    "\n",
    "\n",
    "target = 7\n",
    "nums = [2,3,1,2,4,3]\n",
    "print(minSubArrayLen(target, nums))"
   ]
  },
  {
   "cell_type": "markdown",
   "id": "8b170c1b",
   "metadata": {},
   "source": [
    "### Three way partitioning"
   ]
  },
  {
   "cell_type": "code",
   "execution_count": 243,
   "id": "a10d17d7",
   "metadata": {},
   "outputs": [
    {
     "name": "stdout",
     "output_type": "stream",
     "text": [
      "None\n",
      "[1, 2, 3, 4, 3]\n"
     ]
    }
   ],
   "source": [
    "def threeWayPartioning(arr, a, b):\n",
    "    last1 = 0\n",
    "    last2 = 0\n",
    "    last3 = len(arr)-1\n",
    "\n",
    "    while last2 <= last3:\n",
    "\n",
    "        if arr[last2] < a:\n",
    "            arr[last1] , arr[last2] = arr[last2], arr[last1]\n",
    "            last1 += 1\n",
    "            last2 += 1\n",
    "\n",
    "        elif a <= arr[last2] <= b:\n",
    "            last2 += 1\n",
    "\n",
    "        else:\n",
    "            arr[last3], arr[last2] = arr[last2], arr[last3]\n",
    "            last3 -= 1\n",
    "n = 5\n",
    "A = [1, 2, 3, 3, 4]\n",
    "a = 1\n",
    "b = 2         \n",
    "print(threeWayPartioning(A, a, b))\n",
    "print(A)"
   ]
  },
  {
   "cell_type": "markdown",
   "id": "3ba4e278",
   "metadata": {},
   "source": [
    "### Minimum operation needed to make an array palindrome (operation means by merging)"
   ]
  },
  {
   "cell_type": "code",
   "execution_count": 246,
   "id": "eeb6b6bb",
   "metadata": {},
   "outputs": [
    {
     "name": "stdout",
     "output_type": "stream",
     "text": [
      "3\n"
     ]
    }
   ],
   "source": [
    "def findMinOps(arr, n):\n",
    "    \n",
    "    l = 0\n",
    "    r = n - 1\n",
    "    ans = 0\n",
    "    \n",
    "    while l <= r:\n",
    "        \n",
    "        if arr[l] == arr[r]:\n",
    "            l += 1\n",
    "            r -= 1\n",
    "            \n",
    "        elif arr[l] < arr[r]:\n",
    "            r -= 1\n",
    "            arr[r] = arr[r] + arr[r + 1]\n",
    "            ans += 1\n",
    "        else:\n",
    "            l += 1\n",
    "            arr[l] = arr[l] + arr[l - 1]\n",
    "            ans += 1\n",
    "    return ans\n",
    "\n",
    "\n",
    "arr = [11, 14, 15, 99]\n",
    "print(findMinOps(arr, len(arr)))\n",
    "    \n",
    "\n",
    "            "
   ]
  },
  {
   "cell_type": "markdown",
   "id": "37443b90",
   "metadata": {},
   "source": [
    "### Median of two sorted arrays of same size"
   ]
  },
  {
   "cell_type": "code",
   "execution_count": 247,
   "id": "bc1eae59",
   "metadata": {},
   "outputs": [
    {
     "ename": "IndentationError",
     "evalue": "expected an indented block after function definition on line 1 (Temp/ipykernel_13244/2779958177.py, line 6)",
     "output_type": "error",
     "traceback": [
      "\u001b[1;36m  File \u001b[1;32m\"C:\\Users\\SCA22\\AppData\\Local\\Temp/ipykernel_13244/2779958177.py\"\u001b[1;36m, line \u001b[1;32m6\u001b[0m\n\u001b[1;33m    ar1 = [1, 12, 15, 26, 38]\u001b[0m\n\u001b[1;37m    ^\u001b[0m\n\u001b[1;31mIndentationError\u001b[0m\u001b[1;31m:\u001b[0m expected an indented block after function definition on line 1\n"
     ]
    }
   ],
   "source": [
    "def getMedian(ar1, ar2, n1, n2):\n",
    "    \n",
    "    \n",
    "\n",
    "\n",
    "ar1 = [1, 12, 15, 26, 38]\n",
    "ar2 = [2, 13, 17, 30, 45]\n",
    "n1 = len(ar1)\n",
    "n2 = len(ar2)"
   ]
  },
  {
   "cell_type": "markdown",
   "id": "d60b70be",
   "metadata": {},
   "source": [
    "### Median of two sorted arrays of different size\n",
    "https://takeuforward.org/data-structure/median-of-two-sorted-arrays-of-different-sizes/"
   ]
  },
  {
   "cell_type": "code",
   "execution_count": 106,
   "id": "6820976f",
   "metadata": {},
   "outputs": [
    {
     "name": "stdout",
     "output_type": "stream",
     "text": [
      "1st method result 2\n",
      "3rd Method Result 2\n"
     ]
    }
   ],
   "source": [
    "def findMedianSortedArrays1(arr1, arr2):\n",
    "    \n",
    "    ans = _helperMerge(arr1, arr2)\n",
    "    if len(ans) % 2 == 0:\n",
    "        mid = len(ans) // 2\n",
    "        return (ans[mid - 1] + ans[mid]) / 2 \n",
    "    else:\n",
    "        return ans[len(ans) // 2]\n",
    "\n",
    "\n",
    "def _helperMerge(arr1, arr2):\n",
    "    i = j = k = 0\n",
    "    N1 = len(arr1)\n",
    "    N2 = len(arr2)\n",
    "    \n",
    "    res = [0] * (N1 + N2)\n",
    "    \n",
    "    while i < N1 and j < N2:\n",
    "        if arr1[i] < arr2[j]:\n",
    "            res[k] = arr1[i]\n",
    "            i += 1\n",
    "            k += 1\n",
    "        else:\n",
    "            res[k] = arr2[j]\n",
    "            j += 1\n",
    "            k += 1\n",
    "            \n",
    "    while i < N1:\n",
    "        res[k] = arr1[i]\n",
    "        i += 1\n",
    "        k += 1\n",
    "        \n",
    "    while j < N2:\n",
    "        res[k] = arr2[j]\n",
    "        j += 1\n",
    "        k += 1\n",
    "    return res\n",
    "\n",
    "\n",
    "# def findMedianSortedArrays2(arr1, arr2):\n",
    "    \n",
    "#     ans = _helperCount(arr1, arr2)\n",
    "#     return ans\n",
    "\n",
    "\n",
    "# def _helperCount(arr1, arr2):\n",
    "#     i = j = k = 0\n",
    "#     N1 = len(arr1)\n",
    "#     N2 = len(arr2)\n",
    "    \n",
    "#     counter = 0\n",
    "#     isEven = (N1 + N2) % 2 == 0\n",
    "#     mid = (N1 + N2) // 2\n",
    "#     num1 = 0\n",
    "#     num2 = 0\n",
    "    \n",
    "#     while i < N1 and j < N2:\n",
    "                \n",
    "#         if arr1[i] < arr2[j]:\n",
    "#             if counter + 1 == mid:\n",
    "#                 num1 = arr1[i]\n",
    "#                 num2 = arr2[j]\n",
    "#             i += 1\n",
    "#             counter += 1\n",
    "#         else:\n",
    "#             if counter + 1 == mid:\n",
    "#                 num1 = arr1[i]\n",
    "#                 num2 = arr2[j]\n",
    "#             j += 1\n",
    "#             counter += 1\n",
    "        \n",
    "            \n",
    "#     while i < N1:\n",
    "#         if counter == mid:\n",
    "#             num1 = arr1[i]\n",
    "#         i += 1\n",
    "#         counter += 1\n",
    "\n",
    "        \n",
    "#     while j < N2:\n",
    "#         if counter == mid:\n",
    "#             num2 = arr2[j]\n",
    "#         j += 1\n",
    "#         counter += 1\n",
    "        \n",
    "#     if isEven:\n",
    "#         return (num1 + num2) / 2\n",
    "#     return max(num1 , num2)\n",
    "#     print(num1, num2)\n",
    "\n",
    "# Sriver's solution\n",
    "def findMedianOptimal(arr1, arr2):\n",
    "    \n",
    "    \n",
    "    N1 = len(arr1)\n",
    "    N2 = len(arr2)\n",
    "    \n",
    "    if N1 > N2:\n",
    "        return findMedianOptimal(arr2, arr1) #ensuring that binary search happens on minimum size array\n",
    "        \n",
    "    low = 0\n",
    "    high = N1\n",
    "    isEven = (N1 + N2) % 2 == 0\n",
    "    \n",
    "    mergeListMid = (N1 + N2 + 1) // 2\n",
    "    \n",
    "    while low <= high:\n",
    "        \n",
    "        \n",
    "        mid1 = (low + high) // 2\n",
    "        mid2 = mergeListMid - mid1\n",
    "        \n",
    "        l1 = arr1[mid1 - 1] if mid1 > 0 else float('-inf')\n",
    "        l2 = arr2[mid2 - 1] if mid2 > 0 else float('-inf')\n",
    "        \n",
    "        r1 = arr1[mid1] if mid1 < N1 else float('inf')\n",
    "        r2 = arr2[mid2] if mid2 < N2 else float('inf')\n",
    "        \n",
    "        \n",
    "        if l1 <= r2 and l2 <= r1:\n",
    "            \n",
    "            if isEven:\n",
    "                return (max(l1, l2) + min(r1, r2)) / 2\n",
    "            else:\n",
    "                return max(l1, l2)\n",
    "        elif l1 > r2:\n",
    "            high = mid1 - 1\n",
    "        else:\n",
    "            low = mid1 + 1\n",
    "            \n",
    "    return 0.0\n",
    "          \n",
    "\n",
    "\n",
    "\n",
    "arr1 = [1, 3, 4, 7, 10, 12]\n",
    "arr2 = [2, 3, 6, 15]\n",
    "\n",
    "arr1 = [1, 2]\n",
    "arr2 = [3, 4]\n",
    "\n",
    "arr1 = [1, 3]\n",
    "arr2 = [2]\n",
    "\n",
    "arr1 = []\n",
    "arr2 = [1]\n",
    "\n",
    "arr1 = [2]\n",
    "arr2 = []\n",
    "\n",
    "# arr1 = []\n",
    "# arr2 = [2,3]\n",
    "\n",
    "print('1st method result', findMedianSortedArrays1(arr1, arr2))\n",
    "# print('2nd method result', findMedianSortedArrays2(arr1, arr2))\n",
    "print('3rd Method Result', findMedianOptimal(arr1, arr2))\n",
    "\n",
    "    \n",
    "    "
   ]
  },
  {
   "cell_type": "markdown",
   "id": "ae770b9f",
   "metadata": {},
   "source": [
    "### Minimum swaps and K together\n"
   ]
  },
  {
   "cell_type": "code",
   "execution_count": 228,
   "id": "674117bf",
   "metadata": {},
   "outputs": [
    {
     "name": "stdout",
     "output_type": "stream",
     "text": [
      "3 5\n",
      "4 8\n",
      "5 7\n",
      "6 4\n",
      "ANSWER --- 2\n"
     ]
    }
   ],
   "source": [
    "def minSwapOptimal(arr, n, k):\n",
    "    \n",
    "    goodCount = 0\n",
    "    for el in arr:\n",
    "        if el <= k:\n",
    "            goodCount += 1\n",
    "    \n",
    "    badCount = 0\n",
    "    for el in arr[:goodCount]:\n",
    "        if el > k:\n",
    "            badCount += 1\n",
    "            \n",
    "    ans = badCount\n",
    "    i = 0\n",
    "    j = goodCount\n",
    "    \n",
    "    while j < n:\n",
    "        print(j, arr[j])\n",
    "        if arr[i] > k:\n",
    "            badCount -= 1\n",
    "            \n",
    "        if arr[j] > k:\n",
    "            badCount += 1\n",
    "        \n",
    "        ans = min(ans, badCount)\n",
    "        j += 1\n",
    "        i += 1\n",
    "        \n",
    "    return ans\n",
    "#gives TLE\n",
    "# def approach2(arr1, arr2):\n",
    "    # count = 0\n",
    "    # for el in arr:\n",
    "    #     if el <= k:\n",
    "    #         count += 1\n",
    "\n",
    "    \n",
    "    # i = j = 0\n",
    "    # temp = []\n",
    "    # ans = float('inf')\n",
    "    \n",
    "    # while j < n:\n",
    "        \n",
    "    #     temp.append(arr[j])\n",
    "        \n",
    "    #     if (j - i + 1) < count:\n",
    "    #         j +=1\n",
    "            \n",
    "    #     elif (j - i + 1) == count:\n",
    "            \n",
    "    #         badCount = 0\n",
    "            \n",
    "    #         for el in temp:\n",
    "    #             if el > k:\n",
    "    #                 badCount += 1\n",
    "            \n",
    "    #         ans = min(ans, badCount)\n",
    "    #         i += 1\n",
    "    #         temp.pop(0)\n",
    "    #         j += 1\n",
    "    #     else:\n",
    "    #         i += 1\n",
    "    #         temp.pop(0)\n",
    "    #         j += 1\n",
    "    # if ans == float('inf'):\n",
    "    #     return 0\n",
    "            \n",
    "    # return ans\n",
    "# arr = [2, 1, 5, 6, 3]\n",
    "# k = 3\n",
    "arr = [2, 7, 9, 5, 8, 7, 4]\n",
    "k = 6\n",
    "# arr = [10, 12, 20, 20, 5, 19, 19, 12, 1, 20, 1]\n",
    "# k = 1\n",
    "\n",
    "print('ANSWER ---' , minSwapOptimal(arr, len(arr), k))"
   ]
  },
  {
   "cell_type": "markdown",
   "id": "fc404d60",
   "metadata": {},
   "source": [
    "### 123. Best Time to Buy and Sell Stock III"
   ]
  },
  {
   "cell_type": "code",
   "execution_count": 234,
   "id": "d64a6575",
   "metadata": {},
   "outputs": [
    {
     "name": "stdout",
     "output_type": "stream",
     "text": [
      "6\n"
     ]
    }
   ],
   "source": [
    "def maxProfit(prices):\n",
    "    \n",
    "    N = len(prices)\n",
    "    if N < 0:\n",
    "        return 0\n",
    "    \n",
    "    left = [0] * N\n",
    "    right = [0] * N\n",
    "    \n",
    "    leftMin = prices[0]\n",
    "    rightMax = prices[N - 1]\n",
    "    \n",
    "    for i in range(1,N):\n",
    "        left[i] = max(left[i - 1], prices[i] - leftMin)\n",
    "        leftMin = min(leftMin, prices[i])\n",
    "    \n",
    "    for j in range(N - 2, -1, -1):\n",
    "        right[j] = max(right[j + 1], rightMax - prices[j])\n",
    "        rightMax = max(rightMax, prices[j])\n",
    "    \n",
    "    profit = right[0]\n",
    "    for i in range(1, N):\n",
    "        profit = max(profit, left[i - 1] + right[i])\n",
    "    return profit\n",
    "\n",
    "\n",
    "prices = [3,3,5,0,0,3,1,4]\n",
    "print(maxProfit(prices))\n",
    "#TC = O(N) SC=O(N)"
   ]
  },
  {
   "cell_type": "code",
   "execution_count": 7,
   "id": "04b1101d",
   "metadata": {},
   "outputs": [
    {
     "name": "stdout",
     "output_type": "stream",
     "text": [
      "[8, 9, 10, 15, 20, 21]\n"
     ]
    }
   ],
   "source": [
    "def test(arr2):\n",
    "    k = 1\n",
    "    first= arr2[0]\n",
    "\n",
    "    while k < len(arr2) and arr2[k-1] > arr2[k]:\n",
    "        \n",
    "        arr2[k - 1], arr2[k] = arr2[k], arr2[k - 1]\n",
    "        k += 1\n",
    "\n",
    "#     arr2[k - 1] = first\n",
    "            \n",
    "arr = [21, 8, 9, 10, 15, 20]\n",
    "test(arr)\n",
    "print(arr)"
   ]
  },
  {
   "cell_type": "markdown",
   "id": "7272eb8a",
   "metadata": {},
   "source": [
    "### 1679. Max Number of K-Sum Pairs\n",
    "    Input: nums = [3,1,3,4,3], k = 6\n",
    "    Output: 1\n",
    "    Explanation: Starting with nums = [3,1,3,4,3]:\n",
    "    - Remove the first two 3's, then nums = [1,4,3]\n",
    "    There are no more pairs that sum up to 6, hence a total of 1 operation."
   ]
  },
  {
   "cell_type": "code",
   "execution_count": 33,
   "id": "5470f390",
   "metadata": {},
   "outputs": [
    {
     "name": "stdout",
     "output_type": "stream",
     "text": [
      "1\n"
     ]
    }
   ],
   "source": [
    "def maxOperations(arr, k):\n",
    "    hashMap = {}\n",
    "    count = 0\n",
    "    for i in range(0, len(arr)):\n",
    "        res = k - arr[i]\n",
    "\n",
    "        if res in hashMap:\n",
    "            count += 1\n",
    "            if hashMap.get(res, -1) == 1:\n",
    "                del hashMap[res]\n",
    "            else:\n",
    "                hashMap[res] -= 1\n",
    "        else:\n",
    "            hashMap[arr[i]] = hashMap.get(arr[i], 0) + 1\n",
    "    return count\n",
    "nums = [3,1,3,4,3]\n",
    "k = 6\n",
    "print(maxOperations(nums, k))"
   ]
  },
  {
   "cell_type": "markdown",
   "id": "e0fa7ba1",
   "metadata": {},
   "source": [
    "\n",
    "##### Kth Smallest Number (hard)\n",
    "##### Find the Kth largest number in an unsorted array.\n",
    "##### Find the median of an unsorted array.\n",
    "##### Find the ‘K’ smallest or largest numbers in an unsorted array."
   ]
  },
  {
   "cell_type": "code",
   "execution_count": 1,
   "id": "3dc79209",
   "metadata": {},
   "outputs": [
    {
     "name": "stdout",
     "output_type": "stream",
     "text": [
      "Kth smallest number is: 5\n",
      "Kth smallest number is: 5\n",
      "Kth smallest number is: 11\n"
     ]
    }
   ],
   "source": [
    "def find_Kth_smallest_number(nums, k):\n",
    "    nums.sort()\n",
    "    # TODO: Write your code here\n",
    "    return nums[k-1]\n",
    "\n",
    "\n",
    "def main():\n",
    "\n",
    "    print(\"Kth smallest number is: \" +\n",
    "        str(find_Kth_smallest_number([1, 5, 12, 2, 11, 5], 3)))\n",
    "\n",
    "    # since there are two 5s in the input array, our 3rd and 4th smallest numbers should be a '5'\n",
    "    print(\"Kth smallest number is: \" +\n",
    "        str(find_Kth_smallest_number([1, 5, 12, 2, 11, 5], 4)))\n",
    "\n",
    "    print(\"Kth smallest number is: \" +\n",
    "        str(find_Kth_smallest_number([5, 12, 11, -1, 12], 3)))\n",
    "\n",
    "\n",
    "main()"
   ]
  },
  {
   "cell_type": "markdown",
   "id": "201bb976",
   "metadata": {},
   "source": [
    "### Given an unsorted array of numbers, find the ‘K’ largest numbers in it\n",
    "    Input: [3, 1, 5, 12, 2, 11], K = 3\n",
    "    Output: [5, 12, 11]\n",
    "    \n",
    "    it will take us O(logK)\n",
    "     to extract the minimum number from the min-heap. So the overall time complexity of our algorithm will be O(K*logK+(N-K)*logK)\n",
    "    O(K∗logK+(N−K)∗logK)\n",
    "     since, first, we insert ‘K’ numbers in the heap and then iterate through the remaining numbers and at every step, in the worst case, we need to extract the minimum number and insert a new number in the heap. This algorithm is better than O(N*logN)\n",
    "    O(N∗logN)\n",
    "    ."
   ]
  },
  {
   "cell_type": "code",
   "execution_count": 5,
   "id": "bfae9f6b",
   "metadata": {},
   "outputs": [
    {
     "name": "stdout",
     "output_type": "stream",
     "text": [
      "Here are the top K numbers: [5, 12, 11]\n",
      "Here are the top K numbers: [11, 12, 12]\n"
     ]
    }
   ],
   "source": [
    "from heapq import *\n",
    "\n",
    "\n",
    "def find_k_largest_numbers(nums, k):\n",
    "    minHeap = []\n",
    "    # put first 'K' numbers in the min heap\n",
    "    for i in range(k):\n",
    "        heappush(minHeap, nums[i])\n",
    "\n",
    "    # go through the remaining numbers of the array, if the number from the array is bigger than the\n",
    "    # top(smallest) number of the min-heap, remove the top number from heap and add the number from array\n",
    "    for i in range(k, len(nums)):\n",
    "        if nums[i] > minHeap[0]:\n",
    "            heappop(minHeap)\n",
    "            heappush(minHeap, nums[i])\n",
    "\n",
    "        # the heap has the top 'K' numbers\n",
    "    return minHeap\n",
    "\n",
    "\n",
    "def main():\n",
    "\n",
    "    print(\"Here are the top K numbers: \" +\n",
    "        str(find_k_largest_numbers([3, 1, 5, 12, 2, 11], 3)))\n",
    "\n",
    "    print(\"Here are the top K numbers: \" +\n",
    "        str(find_k_largest_numbers([5, 12, 11, -1, 12], 3)))\n",
    "\n",
    "\n",
    "main()"
   ]
  },
  {
   "cell_type": "markdown",
   "id": "f9ae33e0",
   "metadata": {},
   "source": [
    "### 973. K Closest Points to Origin"
   ]
  },
  {
   "cell_type": "code",
   "execution_count": 10,
   "id": "d28cce17",
   "metadata": {},
   "outputs": [
    {
     "name": "stdout",
     "output_type": "stream",
     "text": [
      "Here are the k points closest the origin: [-2, 4] [3, 3] "
     ]
    }
   ],
   "source": [
    "from __future__ import print_function\n",
    "from heapq import *\n",
    "\n",
    "\n",
    "class Point:\n",
    "\n",
    "  def __init__(self, x, y):\n",
    "    self.x = x\n",
    "    self.y = y\n",
    "\n",
    "  # used for max-heap\n",
    "  def __lt__(self, other):\n",
    "    return self.distance_from_origin() > other.distance_from_origin()\n",
    "\n",
    "  def distance_from_origin(self):\n",
    "    # ignoring sqrt to calculate the distance\n",
    "    return (self.x * self.x) + (self.y * self.y)\n",
    "\n",
    "  def print_point(self):\n",
    "    print(\"[\" + str(self.x) + \", \" + str(self.y) + \"] \", end='')\n",
    "\n",
    "\n",
    "def find_closest_points(points, k):\n",
    "  maxHeap = []\n",
    "  # put first 'k' points in the max heap\n",
    "  for i in range(k):\n",
    "    heappush(maxHeap, points[i])\n",
    "\n",
    "  # go through the remaining points of the input array, if a point is closer to the origin than the top point\n",
    "  # of the max-heap, remove the top point from heap and add the point from the input array\n",
    "  for i in range(k, len(points)):\n",
    "    if points[i].distance_from_origin() < maxHeap[0].distance_from_origin():\n",
    "      heappop(maxHeap)\n",
    "      heappush(maxHeap, points[i])\n",
    "\n",
    "  # the heap has 'k' points closest to the origin\n",
    "  return maxHeap\n",
    "\n",
    "\n",
    "def main():\n",
    "# [[3,3],[5,-1],[-2,4]]\n",
    "# 2\n",
    "#   result = find_closest_points([Point(1, 3), Point(3, 4), Point(2, -1)], 2)\n",
    "  result = find_closest_points([Point(3, 3), Point(5, -1), Point(-2, 4)], 2)\n",
    "  print(\"Here are the k points closest the origin: \", end='')\n",
    "  for point in result:\n",
    "    point.print_point()\n",
    "\n",
    "\n",
    "main()\n",
    "\n",
    "\n",
    "def kClosest(points, k):\n",
    "\n",
    "    def distanceFromOrigin(point):\n",
    "        #ignoring the sqrt operation\n",
    "        return point[0] * point[0] + point[1] * point[1]\n",
    "\n",
    "    maxHeap = []\n",
    "\n",
    "    for i in range(k):\n",
    "        x = points[i][0]\n",
    "        y = points[i][1]\n",
    "        dis = distanceFromOrigin(points[i])\n",
    "        heapq.heappush(maxHeap, (-dis, [x, y]))\n",
    "\n",
    "\n",
    "    for i in range(k, len(points)):\n",
    "        x = points[i][0]\n",
    "        y = points[i][1]\n",
    "        if distanceFromOrigin(points[i]) < distanceFromOrigin(maxHeap[0][1]):\n",
    "            dis = distanceFromOrigin(points[i])\n",
    "            heapq.heappop(maxHeap)\n",
    "            heapq.heappush(maxHeap, (-dis, [x, y]))\n",
    "\n",
    "    return list(point for _, point in maxHeap)\n",
    "\n",
    "\n",
    "# def kClosest(self, points: List[List[int]], k: int) -> List[List[int]]:\n",
    "#     maxHeap = []\n",
    "#     for x, y in points:\n",
    "#     # x * x in Python is faster than x ** 2\n",
    "#     distance = x * x + y * y \n",
    "#     heapq.heappush(maxHeap, (-distance, [x, y]))\n",
    "#     if len(maxHeap) > k:\n",
    "#     heapq.heappop(maxHeap)\n",
    "#     return list(point for _, point in maxHeap)"
   ]
  },
  {
   "cell_type": "code",
   "execution_count": null,
   "id": "54576d14",
   "metadata": {},
   "outputs": [],
   "source": []
  },
  {
   "cell_type": "markdown",
   "id": "31539402",
   "metadata": {},
   "source": [
    "### Connect N Ropes With Minimum Cost\n",
    "\n",
    "    In this problem, following a greedy approach to connect the smallest ropes first will ensure the lowest cost. \n",
    "    We can use a Min Heap to find the smallest ropes following a similar approach as discussed in Kth Smallest Number. \n",
    "    Once we connect two ropes, we need to insert the resultant rope back in the Min Heap so that we can connect \n",
    "    it with the remaining ropes"
   ]
  },
  {
   "cell_type": "code",
   "execution_count": 15,
   "id": "b1ea37a3",
   "metadata": {},
   "outputs": [
    {
     "name": "stdout",
     "output_type": "stream",
     "text": [
      "29\n"
     ]
    }
   ],
   "source": [
    "from heapq import *\n",
    "\n",
    "def minCost(arr,n) :\n",
    "    minHeap =[]\n",
    "    for i in range(len(arr)):\n",
    "        heappush(minHeap, arr[i])\n",
    "    temp = 0\n",
    "    result = 0\n",
    "    while len(minHeap) > 1:\n",
    "        \n",
    "        temp = heappop(minHeap) + heappop(minHeap)\n",
    "        result += temp\n",
    "        heappush(minHeap, temp)\n",
    "    return result\n",
    "\n",
    "#     heapq.heapify(arr)\n",
    "#     ans = 0\n",
    "#     while len(arr)>1:\n",
    "#         a = heapq.heappop(arr)\n",
    "#         b = heapq.heappop(arr)\n",
    "#         s = a+b\n",
    "#         ans+=s\n",
    "#         heapq.heappush(arr,s)\n",
    "\n",
    "\n",
    "#     return ans\n",
    "\n",
    "arr = [4, 3, 2, 6]\n",
    "#29\n",
    "print(minCost(arr, 4))"
   ]
  },
  {
   "cell_type": "code",
   "execution_count": null,
   "id": "126691f1",
   "metadata": {},
   "outputs": [],
   "source": []
  }
 ],
 "metadata": {
  "kernelspec": {
   "display_name": "Python 3 (ipykernel)",
   "language": "python",
   "name": "python3"
  },
  "language_info": {
   "codemirror_mode": {
    "name": "ipython",
    "version": 3
   },
   "file_extension": ".py",
   "mimetype": "text/x-python",
   "name": "python",
   "nbconvert_exporter": "python",
   "pygments_lexer": "ipython3",
   "version": "3.10.0"
  }
 },
 "nbformat": 4,
 "nbformat_minor": 5
}
