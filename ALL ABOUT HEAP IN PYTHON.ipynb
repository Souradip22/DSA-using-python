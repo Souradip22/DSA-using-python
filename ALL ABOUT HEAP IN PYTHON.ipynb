{
 "cells": [
  {
   "cell_type": "code",
   "execution_count": null,
   "id": "e3cd68e3",
   "metadata": {},
   "outputs": [],
   "source": []
  },
  {
   "cell_type": "markdown",
   "id": "be50fbbc",
   "metadata": {},
   "source": [
    "### # Max-Heap data structure in Python"
   ]
  },
  {
   "cell_type": "code",
   "execution_count": 46,
   "id": "cd7be292",
   "metadata": {},
   "outputs": [
    {
     "name": "stdout",
     "output_type": "stream",
     "text": [
      "[7, 4, 5, 1, 3, 2, 9]\n"
     ]
    }
   ],
   "source": [
    "\n",
    "def heapify(arr, n, i):\n",
    "    largest = i\n",
    "    leftSide = 2 * i + 1\n",
    "    rightSide = 2 * i + 2\n",
    "    \n",
    "    if leftSide < n and arr[leftSide] > arr[i]:\n",
    "        largest = leftSide\n",
    "        \n",
    "    if rightSide < n and arr[rightSide] > arr[largest]:\n",
    "        largest = rightSide\n",
    "        \n",
    "    if i != largest:\n",
    "        arr[i], arr[largest] = arr[largest], arr[i]\n",
    "        heapify(arr, n, largest)\n",
    "        \n",
    "def insert(arr, element):\n",
    "    N = len(arr)\n",
    "    if N == 0:\n",
    "        arr.append(element)\n",
    "    \n",
    "    else:\n",
    "        arr.append(element)\n",
    "        for i in range((N//2) - 1, -1, -1):\n",
    "            heapify(arr, N, i)\n",
    "            \n",
    "            \n",
    "def delete(arr, element):\n",
    "    N = len(arr)\n",
    "    # get the index of the element which you want to delete\n",
    "    \n",
    "    for i in range(0, N):\n",
    "        if arr[i] == element:\n",
    "            break\n",
    "\n",
    "    #swap it with the last index elemet\n",
    "    arr[i], arr[N - 1] = arr[N - 1], arr[i]\n",
    "    \n",
    "    # Now Reomve it from array\n",
    "    if element in arr:\n",
    "        arr.remove(element)\n",
    "    else:\n",
    "        return print('Element is Not present in the array')\n",
    "    \n",
    "    ReducedArrSize = len(arr)\n",
    "    \n",
    "    for i in range((ReducedArrSize//2) - 1, -1, -1):\n",
    "        heapify(arr, ReducedArrSize, i)\n",
    "        \n",
    "    return element\n",
    "\n",
    "# arr = [3,4,9,5]\n",
    "arr = []\n",
    "\n",
    "# insert(arr, 3)\n",
    "# insert(arr, 4)\n",
    "# insert(arr, 9)\n",
    "# insert(arr, 5)\n",
    "\n",
    "\n",
    "insert(arr, 1)\n",
    "insert(arr, 2)\n",
    "insert(arr, 3)\n",
    "insert(arr, 4)\n",
    "insert(arr, 5)\n",
    "insert(arr, 7)\n",
    "insert(arr, 9)\n",
    "\n",
    "\n",
    "print(arr)\n",
    "# ans = delete(arr, 4)\n",
    "\n",
    "# print('After removing element', arr, ans)\n",
    "\n",
    "\n"
   ]
  },
  {
   "cell_type": "markdown",
   "id": "33d4e880",
   "metadata": {},
   "source": [
    "### Building Heap from Array"
   ]
  },
  {
   "cell_type": "code",
   "execution_count": 42,
   "id": "1b497de4",
   "metadata": {},
   "outputs": [],
   "source": [
    "def buildHeap(arr, N):\n",
    " \n",
    "    # Index of last non-leaf node\n",
    "    startIdx = N // 2 - 1\n",
    " \n",
    "    # Perform reverse level order traversal\n",
    "    # from last non-leaf node and heapify\n",
    "    # each node\n",
    "    for i in range(startIdx, -1, -1):\n",
    "        heapify(arr, N, i)"
   ]
  },
  {
   "cell_type": "code",
   "execution_count": 43,
   "id": "17affc6a",
   "metadata": {},
   "outputs": [
    {
     "name": "stdout",
     "output_type": "stream",
     "text": [
      "[9, 5, 7, 4, 2, 1, 3]\n"
     ]
    }
   ],
   "source": [
    "arr1 = [1,2,3,4,5,7,9]\n",
    "buildHeap(arr1, len(arr1))\n",
    "print(arr1)"
   ]
  },
  {
   "cell_type": "code",
   "execution_count": 1,
   "id": "b27c43ee",
   "metadata": {},
   "outputs": [
    {
     "data": {
      "text/plain": [
       "3"
      ]
     },
     "execution_count": 1,
     "metadata": {},
     "output_type": "execute_result"
    }
   ],
   "source": [
    "1 ^ 2"
   ]
  },
  {
   "cell_type": "code",
   "execution_count": 2,
   "id": "0c9a4f8b",
   "metadata": {},
   "outputs": [
    {
     "data": {
      "text/plain": [
       "0"
      ]
     },
     "execution_count": 2,
     "metadata": {},
     "output_type": "execute_result"
    }
   ],
   "source": [
    "\n",
    " 2 ^ 2"
   ]
  },
  {
   "cell_type": "code",
   "execution_count": 4,
   "id": "0b8f5517",
   "metadata": {},
   "outputs": [
    {
     "data": {
      "text/plain": [
       "2"
      ]
     },
     "execution_count": 4,
     "metadata": {},
     "output_type": "execute_result"
    }
   ],
   "source": [
    "1^ 3\n"
   ]
  },
  {
   "cell_type": "markdown",
   "id": "f7dacec1",
   "metadata": {},
   "source": [
    "# "
   ]
  }
 ],
 "metadata": {
  "kernelspec": {
   "display_name": "Python 3 (ipykernel)",
   "language": "python",
   "name": "python3"
  },
  "language_info": {
   "codemirror_mode": {
    "name": "ipython",
    "version": 3
   },
   "file_extension": ".py",
   "mimetype": "text/x-python",
   "name": "python",
   "nbconvert_exporter": "python",
   "pygments_lexer": "ipython3",
   "version": "3.10.0"
  }
 },
 "nbformat": 4,
 "nbformat_minor": 5
}
