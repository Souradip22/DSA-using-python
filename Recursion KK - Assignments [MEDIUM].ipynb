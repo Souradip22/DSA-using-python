{
 "cells": [
  {
   "cell_type": "markdown",
   "id": "6d550eb5",
   "metadata": {},
   "source": [
    "### Combination Sum I"
   ]
  },
  {
   "cell_type": "code",
   "execution_count": 197,
   "id": "758676cd",
   "metadata": {},
   "outputs": [
    {
     "data": {
      "text/plain": [
       "[[2, 2, 2, 2], [2, 3, 3], [3, 5]]"
      ]
     },
     "execution_count": 197,
     "metadata": {},
     "output_type": "execute_result"
    }
   ],
   "source": [
    "# Input: candidates = [2,3,5], target = 8\n",
    "# Output: [[2,2,2,2],[2,3,3],[3,5]]\n",
    "\n",
    "def comboSum1(nums, target):\n",
    "    result = []\n",
    "    _helperCombo1(0, nums, target, result, [])\n",
    "    return result\n",
    "\n",
    "def _helperCombo1(index, nums, target, result, ans):\n",
    "\n",
    "    if index == len(nums):\n",
    "        if target == 0:\n",
    "            res = ans.copy()\n",
    "            result.append(res)\n",
    "        return \n",
    "\n",
    "    \n",
    "    if nums[index] <= target:\n",
    "        ans.append(nums[index])\n",
    "        _helperCombo1(index , nums, target - nums[index], result, ans)\n",
    "        ans.pop()\n",
    "        \n",
    "    _helperCombo1(index + 1, nums, target, result, ans)\n",
    "\n",
    "#   [1,2,3], target = 4  \n",
    "comboSum([2,3,5], 8)"
   ]
  },
  {
   "cell_type": "markdown",
   "id": "0ac611b0",
   "metadata": {},
   "source": [
    "def combinationSum(self, candidates: List[int], target: int) -> List[List[int]]:\n",
    "        result = [] #this will contain all the potential answers\n",
    "        self._helperCombo(0, candidates, target, result, [])\n",
    "        return result\n",
    "\n",
    "def _helperCombo(self, index, nums, target, result, ans):\n",
    "\n",
    "    # base condition\n",
    "    # when the current index will reach the last index (return) and target becomes 0 then we have potentail answer. add it to the result list.\n",
    "    # we need to do ans.copy(), else in future recursion call ans will get modify and the value stored inside result arr will also get modify resulting in wrong output\n",
    "    \n",
    "    if index == len(nums):\n",
    "        if target == 0:\n",
    "            res = ans.copy()\n",
    "            result.append(res)\n",
    "        return \n",
    "\n",
    "    # we call the recursive function with SAME INDEX for obvious reason (as per the question, we can use the same element multiple times) if current index number is less than or equal to target, because in that time only we may (may not) get an potential ans. \n",
    "    # Notice we also need to reduce the target to check further can we consider this element or not.\n",
    "    # ans.pop() --> this is the backtracking part. ans is an array and reference by value and any change in the ans we need to revert back while going back up in the recursion call tree. This will make sure in each level of recursion the ans list will contain the correct amount of information\n",
    "    # More in the attached image\n",
    "    \n",
    "    if nums[index] <= target:\n",
    "        ans.append(nums[index])\n",
    "        self._helperCombo(index, nums, target - nums[index], result, ans)\n",
    "        ans.pop()\n",
    "        \n",
    "    # this is just to make the recursion call with next element\n",
    "    self._helperCombo(index + 1, nums, target, result, ans)"
   ]
  },
  {
   "cell_type": "markdown",
   "id": "308bfc4f",
   "metadata": {},
   "source": [
    "### Combination Sum II"
   ]
  },
  {
   "cell_type": "code",
   "execution_count": 178,
   "id": "2a5dcf2e",
   "metadata": {},
   "outputs": [
    {
     "data": {
      "text/plain": [
       "[[1, 1, 2], [2, 2]]"
      ]
     },
     "execution_count": 178,
     "metadata": {},
     "output_type": "execute_result"
    }
   ],
   "source": [
    "# Input: candidates = [10,1,2,7,6,1,5], target = 8\n",
    "# Output: \n",
    "# [\n",
    "# [1,1,6],\n",
    "# [1,2,5],\n",
    "# [1,7],\n",
    "# [2,6]\n",
    "# ]\n",
    "\n",
    "def comboSum2(nums, target):\n",
    "    nums.sort()\n",
    "    result = []\n",
    "    _helperCombo2(0, nums, target, result, [])\n",
    "    return result\n",
    "\n",
    "def _helperCombo2(index, nums, target, result, ans):\n",
    "\n",
    "    \n",
    "    if target == 0:\n",
    "        res = ans.copy()\n",
    "        result.append(res)\n",
    "        return \n",
    "\n",
    "    for i in range(index, len(nums)):\n",
    "        \n",
    "        if i > index and arr[i] == arr[i-1]:\n",
    "            continue\n",
    "            \n",
    "        if nums[i] > target:\n",
    "            break\n",
    "            \n",
    "        ans.append(nums[i])\n",
    "        _helperCombo2(i + 1, nums, target - nums[i], result, ans)\n",
    "        ans.pop()\n",
    "\n",
    "    \n",
    "comboSum2([1,1,1,2,2], 4)"
   ]
  },
  {
   "cell_type": "markdown",
   "id": "dc1d15ba",
   "metadata": {},
   "source": [
    "    def combinationSum2(self, candidates: List[int], target: int) -> List[List[int]]:\n",
    "        # to store all the potential answers\n",
    "        result = []\n",
    "        # Bring all the duplicate elements together\n",
    "        candidates.sort()\n",
    "        # helper method to get all the potential answers\n",
    "        self._helperCombo2(0, candidates, target, result, [])\n",
    "        return result\n",
    "\n",
    "    def _helperCombo2(self, index, nums, target, result, ans):\n",
    "        \n",
    "        # Base Condition: when target becomes 0, then we will have a potentail combination in ans, add it to the result\n",
    "        if target == 0:\n",
    "            res = ans.copy()\n",
    "            result.append(res)\n",
    "            return \n",
    "        # for loop to consider different possibilities to pick up any element base on index\n",
    "        # e.g. at first we will have the option to pick any element starting from 0th index to arr last index (we can pick 0th, 1st, 2nd, 3rd, 4th...)\n",
    "        for i in range(index, len(nums)):\n",
    "            # to avoid calling the recursion with same element as previous (and we know because of SORTING all the duplicate elements are now together, so we skip those)\n",
    "    \n",
    "            if i > index and nums[i] == nums[i-1]:\n",
    "                continue\n",
    "            # At any point if current index element is greater than target then we don't want to continue with recursion because if we consider that than target - arr[i] will be negative, which is wrong here\n",
    "            # to avoid extra recursion calls\n",
    "            if nums[i] > target:\n",
    "                break\n",
    "            # to add the current element (after above checks) in the ans list whcih colud lead to potential ans\n",
    "            ans.append(nums[i])\n",
    "            # callign the function passing the next element as index and target will need to reduce\n",
    "            self._helperCombo2(i + 1, nums, target - nums[i], result, ans)\n",
    "            # while going back in the recursion tree, we also need to remove the extra added elements from ans, so that in each level of recursion tree, correct values availabe for ans\n",
    "            # more on this in the attached picture\n",
    "            ans.pop()\n",
    "            \n",
    "            \n",
    "Time Complexity - 2^n * k\n",
    "Space complexity - k * x\n",
    "k: average length of every combinations\n",
    "x: total combinations"
   ]
  },
  {
   "cell_type": "markdown",
   "id": "967672b2",
   "metadata": {},
   "source": [
    "### Combination Sum - III"
   ]
  },
  {
   "cell_type": "code",
   "execution_count": 192,
   "id": "b4482ce0",
   "metadata": {},
   "outputs": [
    {
     "data": {
      "text/plain": [
       "[[1, 2, 6], [1, 3, 5], [2, 3, 4]]"
      ]
     },
     "execution_count": 192,
     "metadata": {},
     "output_type": "execute_result"
    }
   ],
   "source": [
    "# Input: k = 3, n = 9\n",
    "# Output: [[1,2,6],[1,3,5],[2,3,4]]\n",
    "# Explanation:\n",
    "# 1 + 2 + 6 = 9\n",
    "# 1 + 3 + 5 = 9\n",
    "# 2 + 3 + 4 = 9\n",
    "# There are no other valid combinations.\n",
    "\n",
    "def comboSum3(k, n):\n",
    "    result = []\n",
    "    _helperCombo3(1, k, n, [], result)\n",
    "    return result\n",
    "\n",
    "def _helperCombo3(curr_num, k, n, ans, result):\n",
    "\n",
    "    if k < 0 or n < 0:\n",
    "        return\n",
    "\n",
    "    # Base Condition: \n",
    "    if k == 0 and n == 0:\n",
    "        res = ans.copy()\n",
    "        result.append(res)\n",
    "        return \n",
    "\n",
    "    for i in range(curr_num, 10):\n",
    "        ans.append(i)\n",
    "        _helperCombo3(i + 1, k - 1, n - i, ans, result)\n",
    "        ans.pop()\n",
    "\n",
    "    \n",
    "comboSum3(3,9)"
   ]
  },
  {
   "cell_type": "markdown",
   "id": "57292374",
   "metadata": {},
   "source": [
    "\n",
    "    def combinationSum3(self, k: int, n: int) -> List[List[int]]:\n",
    "        result = []\n",
    "        self._helperCombo3(1, k, n, [], result)\n",
    "        return result\n",
    "\n",
    "    def _helperCombo3(self, curr_num, k, n, ans, result):\n",
    "        # to avoid extra recursion call ( this is quite obvious that if k < 0, we are not allwoed to chose any other element)\n",
    "        # likewise if n < 0, sum itself is negetive which is not correct\n",
    "        if k < 0 or n < 0:\n",
    "            return\n",
    "\n",
    "        # Base Condition: when both are 0s- it means using k elements we are able to get a total sum of n ( other ways around)\n",
    "        # ans will contain the combination of numbers [potential ans]\n",
    "        if k == 0 and n == 0:\n",
    "            res = ans.copy()\n",
    "            result.append(res)\n",
    "            return \n",
    "        # for loop from 1 to 9, because we are allowed to only use numbers from 1 to 9\n",
    "        for i in range(curr_num, 10):\n",
    "            # add the number to ans which may lead to a potential ans\n",
    "            ans.append(i)\n",
    "            # Calling the recursion function with next element, \n",
    "            # k value should be decreased by 1\n",
    "            # sum value also decreased by the i value \n",
    "            # above two will help to meet the base condition \n",
    "            self._helperCombo3(i + 1, k - 1, n - i, ans, result)\n",
    "            # remove the previously added number from ans, this is because when we go up, in each recursion tree level \n",
    "            # we want ans to be remain same ( do not carry any extra els from below recursion calls)\n",
    "            ans.pop()"
   ]
  },
  {
   "cell_type": "markdown",
   "id": "a9abef76",
   "metadata": {},
   "source": [
    "### Combination Sum IV (PENDING)"
   ]
  },
  {
   "cell_type": "code",
   "execution_count": 217,
   "id": "eb4cebd3",
   "metadata": {},
   "outputs": [
    {
     "name": "stdout",
     "output_type": "stream",
     "text": [
      "0\n",
      "0\n",
      "0\n",
      "0\n",
      "0\n",
      "1\n",
      "2\n",
      "[1, 1, 1, 1]\n",
      "1\n",
      "2\n",
      "[1, 1, 1]\n",
      "1\n",
      "1\n",
      "2\n",
      "[1, 1, 2]\n",
      "2\n",
      "[1, 1]\n",
      "1\n",
      "1\n",
      "2\n",
      "[1, 2]\n",
      "2\n",
      "2\n",
      "[1, 3]\n",
      "[1]\n",
      "1\n",
      "1\n",
      "1\n",
      "2\n",
      "[2, 2]\n",
      "2\n",
      "[2]\n",
      "2\n",
      "2\n",
      "[3]\n",
      "[]\n"
     ]
    }
   ],
   "source": [
    "def comboSum4(nums, target):\n",
    "    result = []\n",
    "    _helperCombo4(0, nums, target, result, [])\n",
    "    return result\n",
    "\n",
    "def _helperCombo4(index, nums, target, result, ans):\n",
    "\n",
    "    if index == len(nums):\n",
    "        print(ans)\n",
    "        if target == 0:\n",
    "            res = ans.copy()\n",
    "            result.append(res)\n",
    "        return \n",
    "#     for i in range(index, len(nums)):\n",
    "\n",
    "    print(index)\n",
    "        \n",
    "    if nums[index] <= target:\n",
    "        ans.append(nums[index])\n",
    "        _helperCombo4(index , nums, target - nums[index], result, ans)\n",
    "        ans.pop()\n",
    "        \n",
    "    _helperCombo4(index + 1, nums, target, result, ans)\n",
    "    \n",
    "\n",
    "nums = [1,2,3]\n",
    "target = 4   \n",
    "comboSum4(nums, 4)\n",
    "\n",
    "# The possible combination ways are:\n",
    "# (1, 1, 1, 1)\n",
    "# (1, 1, 2)\n",
    "# (1, 2, 1)\n",
    "# (1, 3)\n",
    "# (2, 1, 1)\n",
    "# (2, 2)\n",
    "# (3, 1)\n",
    "# Note that different sequences are counted as different combinations\n",
    "\n",
    "def comboSum2(nums, target):\n",
    "    nums.sort()\n",
    "    result = []\n",
    "    _helperCombo2(0, nums, target, result, [])\n",
    "    return result\n",
    "\n",
    "def _helperCombo2(index, nums, target, result, ans):\n",
    "\n",
    "    \n",
    "    if target == 0:\n",
    "        res = ans.copy()\n",
    "        result.append(res)\n",
    "        return \n",
    "\n",
    "    for i in range(index, len(nums)):\n",
    "        \n",
    "        if i > index and arr[i] == arr[i-1]:\n",
    "            continue\n",
    "            \n",
    "        if nums[i] > target:\n",
    "            break\n",
    "            \n",
    "        ans.append(nums[i])\n",
    "        _helperCombo2(i + 1, nums, target - nums[i], result, ans)\n",
    "        ans.pop()"
   ]
  },
  {
   "cell_type": "code",
   "execution_count": 263,
   "id": "53b9509a",
   "metadata": {},
   "outputs": [
    {
     "data": {
      "text/plain": [
       "False"
      ]
     },
     "execution_count": 263,
     "metadata": {},
     "output_type": "execute_result"
    }
   ],
   "source": [
    "# Input: board = [[\"A\",\"B\",\"C\",\"E\"],[\"S\",\"F\",\"C\",\"S\"],[\"A\",\"D\",\"E\",\"E\"]], word = \"ABCCED\"\n",
    "# Output: true\n",
    "\n",
    "# The word can be constructed from letters of sequentially adjacent cells, \n",
    "# where adjacent cells are horizontally or vertically neighboring. The same letter cell may not be used more than once\n",
    "\n",
    "def exist(board, word):\n",
    "    for i in range(0, len(board)):\n",
    "        for j in range(0, len(board[i])):\n",
    "            if (board[i][j] == word[0] and _helperDfs(board, i, j, 0, word)):\n",
    "                return True\n",
    "    return False\n",
    "\n",
    "\n",
    "def _helperDfs(board, i, j, count, word):\n",
    "    #Base condition\n",
    "    if count == len(word):\n",
    "        return True\n",
    "    # i and j should be in the boud, and the element we are looking at in the board currently should be same as the\n",
    "    # char in word\n",
    "    if i < 0 or i >= len(board) or j < 0 or j >= len(board[i]) or board[i][j] != word[count]:\n",
    "        return False\n",
    "    # same letter cell may not be used more than once. So we set the currenlty traversal board cell as empty. \n",
    "    # Also before setting the cell empty store the current cell value in some temp varaible to restore the board cell values while \n",
    "    # coming back from the below recursion call. This will ensure at each level of recursion call the board value persisi as it is\n",
    "    temp = board[i][j]\n",
    "    board[i][j] = ''\n",
    "    \n",
    "    # Checking four different direction from any cell\n",
    "    isFound = _helperDfs(board, i - 1, j, count + 1, word) or \\\n",
    "            _helperDfs(board, i, j - 1, count + 1, word) or \\\n",
    "            _helperDfs(board, i + 1, j, count + 1, word) or \\\n",
    "            _helperDfs(board, i, j + 1, count + 1, word)\n",
    "    # storing back the cell value for the above mentioned reson\n",
    "    board[i][j] = temp\n",
    "    \n",
    "    return isFound\n",
    "    \n",
    "\n",
    "    \n",
    "# board = [[\"A\",\"B\",\"C\",\"E\"],[\"S\",\"F\",\"C\",\"S\"],[\"A\",\"D\",\"E\",\"E\"]]\n",
    "# word = \"ABCCEDZ\"\n",
    "\n",
    "board = [[\"A\",\"A\",\"A\",\"A\",\"A\",\"A\"],[\"A\",\"A\",\"A\",\"A\",\"A\",\"A\"],[\"A\",\"A\",\"A\",\"A\",\"A\",\"A\"],[\"A\",\"A\",\"A\",\"A\",\"A\",\"A\"],[\"A\",\"A\",\"A\",\"A\",\"A\",\"B\"],[\"A\",\"A\",\"A\",\"A\",\"B\",\"A\"]]\n",
    "word = \"AAAAAAAAAAAAABB\"\n",
    "exist(board, word)\n"
   ]
  },
  {
   "cell_type": "code",
   "execution_count": 283,
   "id": "7db946c8",
   "metadata": {},
   "outputs": [
    {
     "data": {
      "text/plain": [
       "5715"
      ]
     },
     "execution_count": 283,
     "metadata": {},
     "output_type": "execute_result"
    }
   ],
   "source": [
    "def findTargetSumWays(nums, target):\n",
    "    return _helperFun(nums, 0, 0, target)\n",
    "\n",
    "def _helperFun(nums, pos, tsum, target):\n",
    "    \n",
    "    if pos == len(nums):\n",
    "        if target == tsum:\n",
    "            return 1\n",
    "        return 0\n",
    "            \n",
    "    return _helperFun(nums, pos + 1, tsum + -nums[pos], target) + \\\n",
    "            _helperFun(nums, pos + 1, tsum + nums[pos], target) \n",
    "            \n",
    "\n",
    "\n",
    "# nums = [1,1,1,1,1]\n",
    "# target = 3\n",
    "\n",
    "nums = [19,32,36,7,37,10,44,21,40,39,39,18,5,34,3,40,33,2,46,46]\n",
    "target = 29\n",
    "\n",
    "findTargetSumWays(nums, target)"
   ]
  },
  {
   "cell_type": "code",
   "execution_count": null,
   "id": "db4bbd79",
   "metadata": {},
   "outputs": [],
   "source": []
  },
  {
   "cell_type": "code",
   "execution_count": null,
   "id": "b0620fcd",
   "metadata": {},
   "outputs": [],
   "source": []
  }
 ],
 "metadata": {
  "kernelspec": {
   "display_name": "Python 3 (ipykernel)",
   "language": "python",
   "name": "python3"
  },
  "language_info": {
   "codemirror_mode": {
    "name": "ipython",
    "version": 3
   },
   "file_extension": ".py",
   "mimetype": "text/x-python",
   "name": "python",
   "nbconvert_exporter": "python",
   "pygments_lexer": "ipython3",
   "version": "3.10.0"
  }
 },
 "nbformat": 4,
 "nbformat_minor": 5
}
