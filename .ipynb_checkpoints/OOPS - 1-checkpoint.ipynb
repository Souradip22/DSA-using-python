{
 "cells": [
  {
   "cell_type": "code",
   "execution_count": null,
   "id": "c55d468e",
   "metadata": {},
   "outputs": [],
   "source": [
    "class ExpenseTracker:\n",
    "    \"\"\"this is a class to do expense tracking\"\"\"\n",
    "    \n",
    "    def __init__(self):\n",
    "        pass"
   ]
  },
  {
   "cell_type": "code",
   "execution_count": null,
   "id": "76d62bd7",
   "metadata": {},
   "outputs": [],
   "source": [
    "obj1 = ExpenseTracker()"
   ]
  },
  {
   "cell_type": "code",
   "execution_count": 31,
   "id": "5ff716e1",
   "metadata": {},
   "outputs": [],
   "source": [
    "class ExpenseTracker:\n",
    "    \"\"\"this is a class to do expense tracking\"\"\"\n",
    "    #class attribute\n",
    "    expense_tracker_version = 0.1\n",
    "    \n",
    "    def __init__(self, tracker_category, opening_balance, budget):\n",
    "        #Instacne/Object attribute\n",
    "        self.tracker_category = tracker_category\n",
    "        self.opening_balance = opening_balance\n",
    "        self.budget = budget\n",
    "    \n",
    "    \n",
    "        "
   ]
  },
  {
   "cell_type": "code",
   "execution_count": 32,
   "id": "558d76dc",
   "metadata": {},
   "outputs": [],
   "source": [
    "home_tracker = ExpenseTracker(\"home\", 3000, 10000) "
   ]
  },
  {
   "cell_type": "code",
   "execution_count": 33,
   "id": "06a60017",
   "metadata": {},
   "outputs": [
    {
     "data": {
      "text/plain": [
       "'home'"
      ]
     },
     "execution_count": 33,
     "metadata": {},
     "output_type": "execute_result"
    }
   ],
   "source": [
    "home_tracker.tracker_category\n"
   ]
  },
  {
   "cell_type": "code",
   "execution_count": 34,
   "id": "3329ac4d",
   "metadata": {},
   "outputs": [],
   "source": [
    "shopping_tracker = ExpenseTracker(\"shooping\", 1000, 5000) \n"
   ]
  },
  {
   "cell_type": "code",
   "execution_count": 35,
   "id": "6f613625",
   "metadata": {},
   "outputs": [
    {
     "data": {
      "text/plain": [
       "'shooping'"
      ]
     },
     "execution_count": 35,
     "metadata": {},
     "output_type": "execute_result"
    }
   ],
   "source": [
    "shopping_tracker.tracker_category\n"
   ]
  },
  {
   "cell_type": "code",
   "execution_count": 36,
   "id": "55e3bf30",
   "metadata": {},
   "outputs": [
    {
     "data": {
      "text/plain": [
       "0.1"
      ]
     },
     "execution_count": 36,
     "metadata": {},
     "output_type": "execute_result"
    }
   ],
   "source": [
    "home_tracker.expense_tracker_version\n"
   ]
  },
  {
   "cell_type": "code",
   "execution_count": 37,
   "id": "17d595fe",
   "metadata": {},
   "outputs": [
    {
     "data": {
      "text/plain": [
       "0.1"
      ]
     },
     "execution_count": 37,
     "metadata": {},
     "output_type": "execute_result"
    }
   ],
   "source": [
    "shopping_tracker.expense_tracker_version"
   ]
  },
  {
   "cell_type": "code",
   "execution_count": 38,
   "id": "45e01fa0",
   "metadata": {},
   "outputs": [
    {
     "data": {
      "text/plain": [
       "{'tracker_category': 'home', 'opening_balance': 3000, 'budget': 10000}"
      ]
     },
     "execution_count": 38,
     "metadata": {},
     "output_type": "execute_result"
    }
   ],
   "source": [
    "home_tracker.__dict__\n"
   ]
  },
  {
   "cell_type": "code",
   "execution_count": 39,
   "id": "6d9017d6",
   "metadata": {},
   "outputs": [
    {
     "data": {
      "text/plain": [
       "3000"
      ]
     },
     "execution_count": 39,
     "metadata": {},
     "output_type": "execute_result"
    }
   ],
   "source": [
    "getattr(home_tracker,'opening_balance')"
   ]
  },
  {
   "cell_type": "code",
   "execution_count": 40,
   "id": "4fa1d4ae",
   "metadata": {},
   "outputs": [
    {
     "data": {
      "text/plain": [
       "False"
      ]
     },
     "execution_count": 40,
     "metadata": {},
     "output_type": "execute_result"
    }
   ],
   "source": [
    "hasattr(home_tracker,'opening_balanced')"
   ]
  },
  {
   "cell_type": "code",
   "execution_count": 41,
   "id": "22049856",
   "metadata": {},
   "outputs": [],
   "source": [
    "delattr(home_tracker, 'opening_balance')"
   ]
  },
  {
   "cell_type": "code",
   "execution_count": 42,
   "id": "aa83967d",
   "metadata": {},
   "outputs": [
    {
     "data": {
      "text/plain": [
       "{'tracker_category': 'home', 'budget': 10000}"
      ]
     },
     "execution_count": 42,
     "metadata": {},
     "output_type": "execute_result"
    }
   ],
   "source": [
    "home_tracker.__dict__\n"
   ]
  },
  {
   "cell_type": "code",
   "execution_count": 43,
   "id": "364f5f6b",
   "metadata": {},
   "outputs": [
    {
     "data": {
      "text/plain": [
       "0.1"
      ]
     },
     "execution_count": 43,
     "metadata": {},
     "output_type": "execute_result"
    }
   ],
   "source": [
    "ExpenseTracker.expense_tracker_version\n"
   ]
  },
  {
   "cell_type": "code",
   "execution_count": 44,
   "id": "a05039f6",
   "metadata": {},
   "outputs": [],
   "source": [
    "home_tracker.expense_tracker_version = 0.2"
   ]
  },
  {
   "cell_type": "code",
   "execution_count": 46,
   "id": "8469c7cb",
   "metadata": {},
   "outputs": [
    {
     "data": {
      "text/plain": [
       "0.2"
      ]
     },
     "execution_count": 46,
     "metadata": {},
     "output_type": "execute_result"
    }
   ],
   "source": [
    "home_tracker.expense_tracker_version"
   ]
  },
  {
   "cell_type": "code",
   "execution_count": 45,
   "id": "8e1f7ea6",
   "metadata": {},
   "outputs": [
    {
     "data": {
      "text/plain": [
       "0.1"
      ]
     },
     "execution_count": 45,
     "metadata": {},
     "output_type": "execute_result"
    }
   ],
   "source": [
    "shopping_tracker.expense_tracker_version"
   ]
  },
  {
   "cell_type": "code",
   "execution_count": 90,
   "id": "25ca24db",
   "metadata": {},
   "outputs": [],
   "source": [
    "class ExpenseTracker:\n",
    "    \"\"\"this is a class to do expense tracking\"\"\"\n",
    "    # class attribute\n",
    "    expense_tracker_version = 0.1\n",
    "    \n",
    "    def __init__(self, tracker_category, opening_balance, budget):\n",
    "        #Instacne/Object attribute\n",
    "        self.tracker_category = tracker_category\n",
    "        self.opening_balance = opening_balance\n",
    "        self.budget = budget\n",
    "        \n",
    "    # instacne method\n",
    "    def get_original_balance(self):\n",
    "        return self.opening_balance\n",
    "    \n",
    "    # instance method\n",
    "    def check_balance(self, limit = 1000):\n",
    "        if self.budget >= limit:\n",
    "            return True\n",
    "        else:\n",
    "            return \"Your opening bal is less than limit\"\n",
    "        \n",
    "    # static method\n",
    "    @staticmethod\n",
    "    def convert_amount(amount):\n",
    "        return float(amount)\n",
    "    \n",
    "    # class method\n",
    "    @classmethod\n",
    "    def get_attributes(cls, diary_entry: str):\n",
    "        tracker_category, opening_balance, budget = diary_entry.split(\" \")\n",
    "        return ExpenseTracker(tracker_category, cls.convert_amount(opening_balance), cls.convert_amount(budget))\n",
    "        "
   ]
  },
  {
   "cell_type": "code",
   "execution_count": 91,
   "id": "cd47ada5",
   "metadata": {},
   "outputs": [],
   "source": [
    "home_tracker = ExpenseTracker(\"home\", 3000, 10000) "
   ]
  },
  {
   "cell_type": "code",
   "execution_count": 92,
   "id": "88bbbf4b",
   "metadata": {},
   "outputs": [
    {
     "data": {
      "text/plain": [
       "{'tracker_category': 'home', 'opening_balance': 3000, 'budget': 10000}"
      ]
     },
     "execution_count": 92,
     "metadata": {},
     "output_type": "execute_result"
    }
   ],
   "source": [
    "home_tracker.__dict__\n"
   ]
  },
  {
   "cell_type": "code",
   "execution_count": 93,
   "id": "edabe8c8",
   "metadata": {},
   "outputs": [
    {
     "data": {
      "text/plain": [
       "3000"
      ]
     },
     "execution_count": 93,
     "metadata": {},
     "output_type": "execute_result"
    }
   ],
   "source": [
    "home_tracker.get_original_balance()"
   ]
  },
  {
   "cell_type": "code",
   "execution_count": 94,
   "id": "c5f237a6",
   "metadata": {},
   "outputs": [
    {
     "data": {
      "text/plain": [
       "True"
      ]
     },
     "execution_count": 94,
     "metadata": {},
     "output_type": "execute_result"
    }
   ],
   "source": [
    "home_tracker.check_balance()"
   ]
  },
  {
   "cell_type": "code",
   "execution_count": 95,
   "id": "84ade708",
   "metadata": {},
   "outputs": [
    {
     "data": {
      "text/plain": [
       "'Your opening bal is less than limit'"
      ]
     },
     "execution_count": 95,
     "metadata": {},
     "output_type": "execute_result"
    }
   ],
   "source": [
    "home_tracker.check_balance(100000)"
   ]
  },
  {
   "cell_type": "code",
   "execution_count": 96,
   "id": "f9c9798d",
   "metadata": {},
   "outputs": [
    {
     "data": {
      "text/plain": [
       "1000.0"
      ]
     },
     "execution_count": 96,
     "metadata": {},
     "output_type": "execute_result"
    }
   ],
   "source": [
    "home_tracker.convert_amount(1000)"
   ]
  },
  {
   "cell_type": "code",
   "execution_count": 97,
   "id": "28bc8237",
   "metadata": {},
   "outputs": [],
   "source": [
    "# (\"home\", 0, 1000)  --> \"Home 0 1000\" Use of class method"
   ]
  },
  {
   "cell_type": "code",
   "execution_count": 98,
   "id": "c8a7e3d5",
   "metadata": {},
   "outputs": [
    {
     "data": {
      "text/plain": [
       "['Home', '0', '1000']"
      ]
     },
     "execution_count": 98,
     "metadata": {},
     "output_type": "execute_result"
    }
   ],
   "source": [
    "\"Home 0 1000\".split(\" \")"
   ]
  },
  {
   "cell_type": "code",
   "execution_count": 99,
   "id": "6da44456",
   "metadata": {},
   "outputs": [
    {
     "data": {
      "text/plain": [
       "'Home'"
      ]
     },
     "execution_count": 99,
     "metadata": {},
     "output_type": "execute_result"
    }
   ],
   "source": [
    "\"home\".capitalize()"
   ]
  },
  {
   "cell_type": "code",
   "execution_count": 101,
   "id": "910ac160",
   "metadata": {},
   "outputs": [],
   "source": [
    "ClassObject = ExpenseTracker.get_attributes(\"shopping 100 4000\")"
   ]
  },
  {
   "cell_type": "code",
   "execution_count": null,
   "id": "6382c37d",
   "metadata": {},
   "outputs": [],
   "source": []
  },
  {
   "cell_type": "code",
   "execution_count": null,
   "id": "98780a2c",
   "metadata": {},
   "outputs": [],
   "source": []
  }
 ],
 "metadata": {
  "kernelspec": {
   "display_name": "Python 3 (ipykernel)",
   "language": "python",
   "name": "python3"
  },
  "language_info": {
   "codemirror_mode": {
    "name": "ipython",
    "version": 3
   },
   "file_extension": ".py",
   "mimetype": "text/x-python",
   "name": "python",
   "nbconvert_exporter": "python",
   "pygments_lexer": "ipython3",
   "version": "3.10.0"
  }
 },
 "nbformat": 4,
 "nbformat_minor": 5
}
