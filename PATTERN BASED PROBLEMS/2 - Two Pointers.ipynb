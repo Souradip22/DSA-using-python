{
 "cells": [
  {
   "cell_type": "markdown",
   "id": "01c78563",
   "metadata": {},
   "source": [
    "In problems where we deal with sorted arrays (or LL) and need to find a set of elements that fulfill certain constraints"
   ]
  },
  {
   "cell_type": "markdown",
   "id": "52dd7a2a",
   "metadata": {},
   "source": [
    "## List of Problems\n",
    "\n",
    "### 1. LC - 167. Two Sum II - Input Array Is Sorted ( Without extraspace) [MEDIUM]\n",
    "### 2. LC - 26. Remove Duplicates from Sorted Array [EASY]"
   ]
  },
  {
   "cell_type": "markdown",
   "id": "129aab9c",
   "metadata": {},
   "source": [
    "### Two Sum II - Input Array Is Sorted\n"
   ]
  },
  {
   "cell_type": "code",
   "execution_count": 10,
   "id": "db605f55",
   "metadata": {},
   "outputs": [
    {
     "data": {
      "text/plain": [
       "[1, 2]"
      ]
     },
     "execution_count": 10,
     "metadata": {},
     "output_type": "execute_result"
    }
   ],
   "source": [
    "def twoSum(numbers, target):\n",
    "\n",
    "    left = 0\n",
    "    right = len(numbers) - 1\n",
    "    lsum = 0\n",
    "\n",
    "    while left <= right:\n",
    "\n",
    "        lsum = numbers[left] + numbers[right]\n",
    "\n",
    "        if lsum < target:\n",
    "            left += 1\n",
    "        elif lsum > target:\n",
    "            right -= 1\n",
    "        else:\n",
    "            return [left + 1, right + 1]\n",
    "    return [-1, -1]\n",
    "\n",
    "nums = [2,7,11,15]\n",
    "target = 9\n",
    "twoSum(nums, target)"
   ]
  },
  {
   "cell_type": "markdown",
   "id": "e3763107",
   "metadata": {},
   "source": [
    "### Given an array of sorted numbers, remove all duplicates from it ( Without extraspace)"
   ]
  },
  {
   "cell_type": "code",
   "execution_count": 12,
   "id": "5ae5c43d",
   "metadata": {},
   "outputs": [
    {
     "data": {
      "text/plain": [
       "2"
      ]
     },
     "execution_count": 12,
     "metadata": {},
     "output_type": "execute_result"
    }
   ],
   "source": [
    "def removeDuplicates(nums):\n",
    "\n",
    "    nextNonDupEl = 0\n",
    "\n",
    "    for i in range(0, len(nums)):\n",
    "        if i > 0 and nums[i] == nums[i - 1]:\n",
    "            continue\n",
    "        nums[nextNonDupEl] = nums[i]\n",
    "        nextNonDupEl += 1\n",
    "\n",
    "    return nextNonDupEl\n",
    "#         nextEl = 0\n",
    "#         noDupEl = 0\n",
    "    \n",
    "#         while nextEl < len(nums):\n",
    "\n",
    "#             if nextEl > 0 and nums[nextEl] == nums[nextEl - 1]:\n",
    "#                 nextEl += 1\n",
    "#                 continue\n",
    "#             nums[noDupEl] = nums[nextEl]\n",
    "#             noDupEl += 1\n",
    "#             nextEl += 1\n",
    "            \n",
    "            \n",
    "#         return noDupEl\n",
    "\n",
    "nums = [1,1,2]\n",
    "removeDuplicates(nums)"
   ]
  },
  {
   "cell_type": "markdown",
   "id": "46492690",
   "metadata": {},
   "source": [
    "### 15. 3Sum\n"
   ]
  },
  {
   "cell_type": "code",
   "execution_count": 1,
   "id": "1dfe8232",
   "metadata": {},
   "outputs": [],
   "source": [
    "def threeSum(self, nums):\n",
    "    ans = set()\n",
    "    nums.sort()\n",
    "    n = len(nums)\n",
    "    for i in range(n):\n",
    "\n",
    "        j = i + 1\n",
    "        k = n - 1\n",
    "\n",
    "        while j < k:\n",
    "            lsum = nums[i] + nums[j] + nums[k]\n",
    "\n",
    "            if lsum == 0:\n",
    "                ans.add(tuple([nums[i], nums[j], nums[k]]))\n",
    "\n",
    "            if lsum < 0:\n",
    "                j += 1\n",
    "            else:\n",
    "                k -= 1\n",
    "    return ans"
   ]
  },
  {
   "cell_type": "markdown",
   "id": "de1a8382",
   "metadata": {},
   "source": [
    "### 18. 4Sum"
   ]
  },
  {
   "cell_type": "code",
   "execution_count": 3,
   "id": "c1277a5b",
   "metadata": {},
   "outputs": [],
   "source": [
    "def fourSum(self, arr, X: int):\n",
    "\n",
    "    arr.sort()\n",
    "    N = len(arr)\n",
    "    ans = set()\n",
    "\n",
    "    for i in range(0, N - 3):\n",
    "        if i > 0 and arr[i] == arr[i-1]:\n",
    "            continue\n",
    "        for j in range(i + 1, N - 2):\n",
    "            if j > i + 1 and arr[j] == arr[j - 1]:\n",
    "                continue\n",
    "\n",
    "            left = j + 1\n",
    "            right = N - 1\n",
    "\n",
    "            while left < right:\n",
    "\n",
    "                lsum = arr[i] + arr[j] + arr[left] + arr[right]\n",
    "\n",
    "                if lsum == X:\n",
    "                    ans.add((arr[i] , arr[j]  , arr[left] , arr[right]))\n",
    "                    left += 1\n",
    "                elif lsum < X:\n",
    "                    left += 1\n",
    "                else:\n",
    "                    right -= 1\n",
    "    return ans"
   ]
  },
  {
   "cell_type": "markdown",
   "id": "fb7f65d3",
   "metadata": {},
   "source": [
    "### 1498. Number of Subsequences That Satisfy the Given Sum Condition\n",
    "(As we are interested only in the min and max so order does not matter and for the same reason we can sort the input)"
   ]
  },
  {
   "cell_type": "code",
   "execution_count": 7,
   "id": "0e9c63f5",
   "metadata": {},
   "outputs": [
    {
     "name": "stdout",
     "output_type": "stream",
     "text": [
      "8\n"
     ]
    }
   ],
   "source": [
    "    def numSubseq(self, nums: List[int], target: int) -> int:\n",
    "        nums.sort()\n",
    "        m = (10**9 + 7)\n",
    "\n",
    "        l = 0\n",
    "        r = len(nums) - 1\n",
    "        ans = 0\n",
    "        while l <= r:\n",
    "            lsum = nums[l] + nums[r]\n",
    "            if lsum <= target:\n",
    "                ans += self.myPow(2, r - l, m)\n",
    "                l += 1\n",
    "            else:\n",
    "                r -= 1\n",
    "\n",
    "        return ans % m\n",
    "\n",
    "\n",
    "    def myPow(self, x, n, m):\n",
    "\n",
    "        if n == 0:\n",
    "            return 1\n",
    "\n",
    "        temp = self.myPow(x, n // 2, m)\n",
    "\n",
    "        if n % 2 == 1:\n",
    "            return (x % m * temp % m * temp % m) % m\n",
    "        return (temp % m  * temp % m) % m"
   ]
  },
  {
   "cell_type": "markdown",
   "id": "d0a85de4",
   "metadata": {},
   "source": [
    "### 653. Two Sum IV - Input is a BST\n"
   ]
  },
  {
   "cell_type": "code",
   "execution_count": 8,
   "id": "c3da31bb",
   "metadata": {},
   "outputs": [],
   "source": [
    "    def findTarget(self, root, k: int) -> bool:\n",
    "        hashMap = {}\n",
    "\n",
    "        return self._helperFun(root, k, hashMap)\n",
    "    \n",
    "    def _helperFun(self, root, k, hashMap):\n",
    "\n",
    "        if root is None:\n",
    "            return False\n",
    "\n",
    "        if k - root.val in hashMap:\n",
    "            return True\n",
    "        \n",
    "        hashMap[root.val] = True\n",
    "\n",
    "        return self._helperFun(root.left, k, hashMap) or self._helperFun(root.right, k, hashMap)"
   ]
  },
  {
   "cell_type": "code",
   "execution_count": 9,
   "id": "ee2680c5",
   "metadata": {},
   "outputs": [
    {
     "data": {
      "text/plain": [
       "97"
      ]
     },
     "execution_count": 9,
     "metadata": {},
     "output_type": "execute_result"
    }
   ],
   "source": [
    "ord('a')"
   ]
  },
  {
   "cell_type": "code",
   "execution_count": 10,
   "id": "78db99ff",
   "metadata": {},
   "outputs": [
    {
     "data": {
      "text/plain": [
       "65"
      ]
     },
     "execution_count": 10,
     "metadata": {},
     "output_type": "execute_result"
    }
   ],
   "source": [
    "ord('A')"
   ]
  },
  {
   "cell_type": "code",
   "execution_count": 11,
   "id": "b0d748e1",
   "metadata": {},
   "outputs": [
    {
     "name": "stdout",
     "output_type": "stream",
     "text": [
      "97 65 122 90\n"
     ]
    }
   ],
   "source": [
    "print(ord('a'), ord('A'), ord('z'), ord('Z'))"
   ]
  },
  {
   "cell_type": "code",
   "execution_count": 12,
   "id": "28aeff14",
   "metadata": {},
   "outputs": [
    {
     "ename": "TypeError",
     "evalue": "ord() expected string of length 1, but int found",
     "output_type": "error",
     "traceback": [
      "\u001b[1;31m---------------------------------------------------------------------------\u001b[0m",
      "\u001b[1;31mTypeError\u001b[0m                                 Traceback (most recent call last)",
      "\u001b[1;32m~\\AppData\\Local\\Temp/ipykernel_9128/309095708.py\u001b[0m in \u001b[0;36m<module>\u001b[1;34m\u001b[0m\n\u001b[1;32m----> 1\u001b[1;33m \u001b[0mord\u001b[0m\u001b[1;33m(\u001b[0m\u001b[1;36m0\u001b[0m\u001b[1;33m)\u001b[0m\u001b[1;33m\u001b[0m\u001b[1;33m\u001b[0m\u001b[0m\n\u001b[0m",
      "\u001b[1;31mTypeError\u001b[0m: ord() expected string of length 1, but int found"
     ]
    }
   ],
   "source": [
    "ord(0)"
   ]
  },
  {
   "cell_type": "code",
   "execution_count": 13,
   "id": "fc571582",
   "metadata": {},
   "outputs": [
    {
     "data": {
      "text/plain": [
       "48"
      ]
     },
     "execution_count": 13,
     "metadata": {},
     "output_type": "execute_result"
    }
   ],
   "source": [
    "ord('0')"
   ]
  },
  {
   "cell_type": "code",
   "execution_count": 14,
   "id": "4899eb92",
   "metadata": {},
   "outputs": [
    {
     "data": {
      "text/plain": [
       "57"
      ]
     },
     "execution_count": 14,
     "metadata": {},
     "output_type": "execute_result"
    }
   ],
   "source": [
    "ord('9')"
   ]
  },
  {
   "cell_type": "code",
   "execution_count": 51,
   "id": "6bc4ca8f",
   "metadata": {},
   "outputs": [
    {
     "data": {
      "text/plain": [
       "5"
      ]
     },
     "execution_count": 51,
     "metadata": {},
     "output_type": "execute_result"
    }
   ],
   "source": [
    "def furthestDistanceFromOrigin(moves):\n",
    "    lsum = 0\n",
    "    memo = {}  # Memoization dictionary to store already computed results\n",
    "    maxSum = [0]\n",
    "    _helperFunc(0, moves, lsum, maxSum, memo)\n",
    "    return maxSum[0]\n",
    "\n",
    "def _helperFunc(ind, moves, lsum, maxSum, memo):\n",
    "    if (ind, lsum) in memo:  # If the result is already computed, return it from the memo\n",
    "        return memo[(ind, lsum)]\n",
    "\n",
    "    if ind == len(moves):\n",
    "        maxSum[0] = max(maxSum[0], abs(lsum))\n",
    "        return 0  # Return 0 because this is the base case and we're not adding any value\n",
    "\n",
    "    ans = 0\n",
    "\n",
    "    if moves[ind] == 'L':\n",
    "        ans += (-1 + _helperFunc(ind + 1, moves, lsum - 1, maxSum, memo))\n",
    "    \n",
    "    if moves[ind] == 'R':\n",
    "        ans += (1 + _helperFunc(ind + 1, moves, lsum + 1, maxSum, memo))\n",
    "        \n",
    "    if moves[ind] == '_':\n",
    "        ans += max(\n",
    "            -1 + _helperFunc(ind + 1, moves, lsum - 1, maxSum, memo),\n",
    "            1 + _helperFunc(ind + 1, moves, lsum + 1, maxSum, memo)\n",
    "        )\n",
    "\n",
    "    # Store the computed result in the memoization dictionary\n",
    "    memo[(ind, lsum)] = ans\n",
    "    return ans\n",
    "\n",
    "furthestDistanceFromOrigin(\"L_RL__R\")\n",
    "furthestDistanceFromOrigin(\"_______\")\n",
    "furthestDistanceFromOrigin(\"_R__LL_\") #LRLLLLL\n",
    "# furthestDistanceFromOrigin(\"R_R\")\n",
    "\n",
    "\n",
    "\n",
    "# moves = \"L_RL__R\"\n",
    "# Output: 3\n",
    "# Explanation: The furthest point we can reach from the origin 0 is point -3 \n",
    "#     through the following sequence of moves \"LLRLLLR\"."
   ]
  },
  {
   "cell_type": "markdown",
   "id": "46b0323b",
   "metadata": {},
   "source": [
    "8022. Find the Minimum Possible Sum of a Beautiful Array\n",
    "\n",
    "Difficulty:Medium\n",
    "You are given positive integers n and target.\n",
    "\n",
    "An array nums is beautiful if it meets the following conditions:\n",
    "\n",
    "nums.length == n.\n",
    "nums consists of pairwise distinct positive integers.\n",
    "There doesn't exist two distinct indices, i and j, in the range [0, n - 1], such that nums[i] + nums[j] == target.\n",
    "Return the minimum possible sum that a beautiful array could have."
   ]
  },
  {
   "cell_type": "code",
   "execution_count": 75,
   "id": "4c80a8e1",
   "metadata": {},
   "outputs": [
    {
     "ename": "KeyboardInterrupt",
     "evalue": "",
     "output_type": "error",
     "traceback": [
      "\u001b[1;31m---------------------------------------------------------------------------\u001b[0m",
      "\u001b[1;31mKeyboardInterrupt\u001b[0m                         Traceback (most recent call last)",
      "\u001b[1;32m~\\AppData\\Local\\Temp/ipykernel_16660/3875166501.py\u001b[0m in \u001b[0;36m<module>\u001b[1;34m\u001b[0m\n\u001b[0;32m     59\u001b[0m \u001b[1;31m# nums = [2, 4, 8]\u001b[0m\u001b[1;33m\u001b[0m\u001b[1;33m\u001b[0m\u001b[0m\n\u001b[0;32m     60\u001b[0m \u001b[1;31m# target = 12\u001b[0m\u001b[1;33m\u001b[0m\u001b[1;33m\u001b[0m\u001b[0m\n\u001b[1;32m---> 61\u001b[1;33m \u001b[0mprint\u001b[0m\u001b[1;33m(\u001b[0m\u001b[0mminOperations\u001b[0m\u001b[1;33m(\u001b[0m\u001b[0mnums\u001b[0m\u001b[1;33m,\u001b[0m \u001b[0mtarget\u001b[0m\u001b[1;33m)\u001b[0m\u001b[1;33m)\u001b[0m\u001b[1;33m\u001b[0m\u001b[1;33m\u001b[0m\u001b[0m\n\u001b[0m",
      "\u001b[1;32m~\\AppData\\Local\\Temp/ipykernel_16660/3875166501.py\u001b[0m in \u001b[0;36mminOperations\u001b[1;34m(nums, target)\u001b[0m\n\u001b[0;32m     36\u001b[0m \u001b[1;33m\u001b[0m\u001b[0m\n\u001b[0;32m     37\u001b[0m     \u001b[0moperations\u001b[0m \u001b[1;33m=\u001b[0m \u001b[1;36m0\u001b[0m\u001b[1;33m\u001b[0m\u001b[1;33m\u001b[0m\u001b[0m\n\u001b[1;32m---> 38\u001b[1;33m     \u001b[1;32mwhile\u001b[0m \u001b[0mtarget\u001b[0m \u001b[1;33m>\u001b[0m \u001b[1;36m0\u001b[0m\u001b[1;33m:\u001b[0m\u001b[1;33m\u001b[0m\u001b[1;33m\u001b[0m\u001b[0m\n\u001b[0m\u001b[0;32m     39\u001b[0m         \u001b[1;32mif\u001b[0m \u001b[0mtarget\u001b[0m \u001b[1;33m%\u001b[0m \u001b[1;36m2\u001b[0m \u001b[1;33m==\u001b[0m \u001b[1;36m0\u001b[0m\u001b[1;33m:\u001b[0m\u001b[1;33m\u001b[0m\u001b[1;33m\u001b[0m\u001b[0m\n\u001b[0;32m     40\u001b[0m             \u001b[0mtarget\u001b[0m \u001b[1;33m//=\u001b[0m \u001b[1;36m2\u001b[0m\u001b[1;33m\u001b[0m\u001b[1;33m\u001b[0m\u001b[0m\n",
      "\u001b[1;31mKeyboardInterrupt\u001b[0m: "
     ]
    }
   ],
   "source": [
    "def test(n, target):\n",
    "    \n",
    "    seen = {}\n",
    "    i = 0\n",
    "    lsum = 0\n",
    "    num = 1\n",
    "    while i < n:\n",
    "        if target - num in seen:\n",
    "            num += 1\n",
    "            \n",
    "        else:\n",
    "            seen[num] = True\n",
    "            lsum += num\n",
    "            num += 1\n",
    "            i += 1\n",
    "            \n",
    "            \n",
    "\n",
    "\n",
    "    return lsum\n",
    "\n",
    "n = 2 \n",
    "target = 3\n",
    "\n",
    "n = 3\n",
    "target = 3\n",
    "\n",
    "n = 1\n",
    "target = 1\n",
    "# test(n, target)\n",
    "\n",
    "def minOperations(nums, target):\n",
    "    dp = {}\n",
    "    for num in nums:\n",
    "        dp[num] = dp.get(num, 0) + 1\n",
    "    \n",
    "    operations = 0\n",
    "    while target > 0:\n",
    "        if target % 2 == 0:\n",
    "            target //= 2\n",
    "        else:\n",
    "            target -= 1\n",
    "        operations += 1\n",
    "        \n",
    "        if target in dp and dp[target] > 0:\n",
    "            dp[target] -= 1\n",
    "        else:\n",
    "            target += 1\n",
    "    \n",
    "    return operations\n",
    "\n",
    "\n",
    "# nums = [1,2,8]\n",
    "# target = 7\n",
    "\n",
    "nums = [1,32,1,2]\n",
    "target = 12\n",
    "\n",
    "# nums = [2, 4, 8]\n",
    "# target = 12\n",
    "print(minOperations(nums, target))"
   ]
  },
  {
   "cell_type": "code",
   "execution_count": 77,
   "id": "e1dea5f2",
   "metadata": {},
   "outputs": [
    {
     "data": {
      "text/plain": [
       "0"
      ]
     },
     "execution_count": 77,
     "metadata": {},
     "output_type": "execute_result"
    }
   ],
   "source": [
    "ord('a') -97"
   ]
  },
  {
   "cell_type": "code",
   "execution_count": null,
   "id": "d7616c23",
   "metadata": {},
   "outputs": [],
   "source": []
  }
 ],
 "metadata": {
  "kernelspec": {
   "display_name": "Python 3 (ipykernel)",
   "language": "python",
   "name": "python3"
  },
  "language_info": {
   "codemirror_mode": {
    "name": "ipython",
    "version": 3
   },
   "file_extension": ".py",
   "mimetype": "text/x-python",
   "name": "python",
   "nbconvert_exporter": "python",
   "pygments_lexer": "ipython3",
   "version": "3.10.0"
  }
 },
 "nbformat": 4,
 "nbformat_minor": 5
}
