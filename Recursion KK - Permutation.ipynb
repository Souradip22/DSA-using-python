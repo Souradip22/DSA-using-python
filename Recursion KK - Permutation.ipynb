{
 "cells": [
  {
   "cell_type": "code",
   "execution_count": 4,
   "id": "2c34dfb8",
   "metadata": {},
   "outputs": [
    {
     "name": "stdout",
     "output_type": "stream",
     "text": [
      "a 1\n",
      "f \n",
      "s \n",
      "b 2\n",
      "f \n",
      "s a\n",
      "c 3\n",
      "f \n",
      "s ba\n",
      "cba\n",
      "c 3\n",
      "f b\n",
      "s a\n",
      "bca\n",
      "c 3\n",
      "f ba\n",
      "s \n",
      "bac\n",
      "b 2\n",
      "f a\n",
      "s \n",
      "c 3\n",
      "f \n",
      "s ab\n",
      "cab\n",
      "c 3\n",
      "f a\n",
      "s b\n",
      "acb\n",
      "c 3\n",
      "f ab\n",
      "s \n",
      "abc\n",
      "\n"
     ]
    }
   ],
   "source": [
    "def permutations(p, up):\n",
    "    \n",
    "    if len(up) == 0:\n",
    "        print(p)\n",
    "        return p\n",
    "    \n",
    "    ch = up[0]\n",
    "    \n",
    "    for i in range(len(p) + 1):\n",
    "        print(ch,len(p) + 1)\n",
    "        f = p[0:i]\n",
    "        print('f',f)\n",
    "        s = p[i:]\n",
    "        print('s', s)\n",
    "        permutations(f + ch + s, up[1:])\n",
    "        \n",
    "    return p\n",
    "        \n",
    "print(permutations('', 'abc'))\n",
    "    \n",
    "    \n",
    "    "
   ]
  },
  {
   "cell_type": "markdown",
   "id": "716329b8",
   "metadata": {},
   "source": [
    "### LC - 47\n",
    " Input: nums = [1,1,2]\n",
    "Output:\n",
    "[[1,1,2],\n",
    " [1,2,1],\n",
    " [2,1,1]] "
   ]
  },
  {
   "cell_type": "code",
   "execution_count": 81,
   "id": "e236dbd8",
   "metadata": {},
   "outputs": [
    {
     "name": "stdout",
     "output_type": "stream",
     "text": [
      "[1, 1, 2] []\n",
      "-- [] [1, 2]\n",
      "[1, 2] [1]\n",
      "-- [] [2]\n",
      "[2] [1, 1]\n",
      "-- [] []\n",
      "[] [1, 1, 2]\n",
      "-- [1] []\n",
      "[1] [1, 2]\n",
      "-- [] []\n",
      "[] [1, 2, 1]\n",
      "-- [1, 1] []\n",
      "[1, 1] [2]\n",
      "-- [] [1]\n",
      "[1] [2, 1]\n",
      "-- [] []\n",
      "[] [2, 1, 1]\n",
      "[[1, 1, 2], [1, 2, 1], [2, 1, 1]]\n"
     ]
    }
   ],
   "source": [
    "def permuteUnique(nums):\n",
    "    nums.sort()\n",
    "    return _helperPermuteUnique(nums, [])\n",
    "\n",
    "def _helperPermuteUnique(nums , path):\n",
    "    print(nums, path)\n",
    "   \n",
    "    ans = []\n",
    "    if len(nums) == 0:\n",
    "        ans.append(path)\n",
    "        return ans\n",
    "    \n",
    "    for i in range(len(nums)):\n",
    "        if i > 0 and nums[i] == nums[i-1]:\n",
    "            continue\n",
    "        f = nums[:i]\n",
    "        s = nums[i+1:]\n",
    "        print('--',f, s)\n",
    "        smallOp = _helperPermuteUnique(f + s, path+[nums[i]])\n",
    "        ans.extend(smallOp)\n",
    "    return ans\n",
    "\n",
    "# def permuteUnique(self, nums):\n",
    "#     res = []\n",
    "#     nums.sort()\n",
    "#     self.dfs(nums, [], res)\n",
    "#     return res\n",
    "    \n",
    "# def dfs(self, nums, path, res):\n",
    "#     if not nums:\n",
    "#         res.append(path)\n",
    "#     for i in xrange(len(nums)):\n",
    "#         if i > 0 and nums[i] == nums[i-1]:\n",
    "#             continue\n",
    "#         self.dfs(nums[:i]+nums[i+1:], path+[nums[i]], res)\n",
    "    \n",
    "    \n",
    "    \n",
    "\n",
    "# nums = [-1,2,-1,2,1,-1,2,1]  \n",
    "nums = [1,1,2] \n",
    "ans = permuteUnique(nums)\n",
    "print(ans)\n",
    "    "
   ]
  },
  {
   "cell_type": "code",
   "execution_count": 56,
   "id": "f81cccf7",
   "metadata": {},
   "outputs": [
    {
     "data": {
      "text/plain": [
       "[3, 1, 2]"
      ]
     },
     "execution_count": 56,
     "metadata": {},
     "output_type": "execute_result"
    }
   ],
   "source": [
    "[3]+[1,2]"
   ]
  },
  {
   "cell_type": "code",
   "execution_count": 8,
   "id": "28d8838f",
   "metadata": {},
   "outputs": [
    {
     "name": "stdout",
     "output_type": "stream",
     "text": [
      "['211', '121', '112', '211', '121', '112']\n"
     ]
    }
   ],
   "source": [
    "def permutations2(p, up):\n",
    "    ans = []\n",
    "    \n",
    "    if len(up) == 0:\n",
    "        print(p)\n",
    "        ans.append(p)\n",
    "        return ans\n",
    "    \n",
    "    ch = up[0]\n",
    "    \n",
    "    for i in range(len(p) + 1):\n",
    "        f = p[0:i]\n",
    "        s = p[i:]\n",
    "        smalloutput = permutations2(f + ch + s, up[1:])\n",
    "        ans.extend(smalloutput)\n",
    "        \n",
    "    return ans\n",
    "        \n",
    "print(permutations2('', '112'))\n",
    "# def permutations2(p, up):\n",
    "#     list1 = []\n",
    "    \n",
    "#     if len(up) == 0:\n",
    "#         ans = []\n",
    "#         ans.append(p)\n",
    "#         return ans\n",
    "    \n",
    "#     ch = up[0]\n",
    "    \n",
    "#     for i in range(len(p) + 1):\n",
    "#         f = p[0:i]\n",
    "#         s = p[i:]\n",
    "#         smalloutput = permutations2(f + ch + s, up[1:])\n",
    "#         list1.extend(smalloutput)\n",
    "        \n",
    "#     return list1\n",
    "        \n",
    "# print(permutations2('', 'abc'))"
   ]
  },
  {
   "cell_type": "code",
   "execution_count": 18,
   "id": "2a629441",
   "metadata": {},
   "outputs": [
    {
     "data": {
      "text/plain": [
       "''"
      ]
     },
     "execution_count": 18,
     "metadata": {},
     "output_type": "execute_result"
    }
   ],
   "source": [
    "'ba'[0:0]"
   ]
  },
  {
   "cell_type": "code",
   "execution_count": 20,
   "id": "c932e048",
   "metadata": {},
   "outputs": [
    {
     "data": {
      "text/plain": [
       "'ba'"
      ]
     },
     "execution_count": 20,
     "metadata": {},
     "output_type": "execute_result"
    }
   ],
   "source": [
    "'ba'[0:2]"
   ]
  },
  {
   "cell_type": "code",
   "execution_count": 21,
   "id": "63626a19",
   "metadata": {},
   "outputs": [
    {
     "data": {
      "text/plain": [
       "''"
      ]
     },
     "execution_count": 21,
     "metadata": {},
     "output_type": "execute_result"
    }
   ],
   "source": [
    "'ba'[2:]"
   ]
  },
  {
   "cell_type": "code",
   "execution_count": 32,
   "id": "876c2294",
   "metadata": {},
   "outputs": [
    {
     "name": "stdout",
     "output_type": "stream",
     "text": [
      "ad\n",
      "ae\n",
      "af\n",
      "bd\n",
      "be\n",
      "bf\n",
      "cd\n",
      "ce\n",
      "cf\n"
     ]
    }
   ],
   "source": [
    "\n",
    "# - Letter Combinations of a Phone Number\n",
    "\n",
    "phones = [\"abc\", \"def\", \"ghi\", \"jkl\", \"mno\", \"pqrs\", \"tuv\", \"wxyz\"]\n",
    "def letterCombo(p, up):\n",
    "    if len(up) == 0:\n",
    "        print(p)\n",
    "        return\n",
    "    \n",
    "    digit = int(up[0])\n",
    "    for i in range((digit - 1) * 3, digit * 3):\n",
    "        letterCombo(p + chr(ord('a') + i), up[1:])\n",
    "    \n",
    "letterCombo('', '12')"
   ]
  },
  {
   "cell_type": "code",
   "execution_count": 92,
   "id": "79edb9d8",
   "metadata": {},
   "outputs": [
    {
     "data": {
      "text/plain": [
       "['dg', 'dh', 'di', 'eg', 'eh', 'ei', 'fg', 'fh', 'fi']"
      ]
     },
     "execution_count": 92,
     "metadata": {},
     "output_type": "execute_result"
    }
   ],
   "source": [
    "\n",
    "def letterCombo2(p, up):\n",
    "    print('hello')\n",
    "    ans = []\n",
    "    if len(up) == 0:\n",
    "        ans.append(p)\n",
    "        return ans\n",
    "    \n",
    "    digit = int(up[0])\n",
    "    \n",
    "    for i in range((digit - 1) * 3, digit * 3):\n",
    "        smallOutput = letterCombo2(p + chr(ord('a') + i ), up[1:])\n",
    "        ans.extend(smallOutput)\n",
    "        \n",
    "    return ans\n",
    "    \n",
    "letterCombo2('', '23')"
   ]
  },
  {
   "cell_type": "code",
   "execution_count": 28,
   "id": "3f0d6a6a",
   "metadata": {},
   "outputs": [
    {
     "data": {
      "text/plain": [
       "98"
      ]
     },
     "execution_count": 28,
     "metadata": {},
     "output_type": "execute_result"
    }
   ],
   "source": [
    "chr(ord('a') + 1)"
   ]
  },
  {
   "cell_type": "code",
   "execution_count": 108,
   "id": "bb7c2842",
   "metadata": {},
   "outputs": [
    {
     "data": {
      "text/plain": [
       "['dd', 'de', 'df', 'ed', 'ee', 'ef', 'fd', 'fe', 'ff']"
      ]
     },
     "execution_count": 108,
     "metadata": {},
     "output_type": "execute_result"
    }
   ],
   "source": [
    "# Input: digits = \"23\"\n",
    "# Output: [\"ad\",\"ae\",\"af\",\"bd\",\"be\",\"bf\",\"cd\",\"ce\",\"cf\"]\n",
    "def letterCombo2(p, up):\n",
    "    ans = []\n",
    "    if len(up) == 0:\n",
    "        ans.append(p)\n",
    "        return ans\n",
    "    \n",
    "    digit = int(up[0]) - 1\n",
    "    \n",
    "    for i in range((digit - 1) * 3, digit * 3):\n",
    "        if i >= 0 and i <= 26:\n",
    "            smallOutput = letterCombo2(p + chr(ord('a') + i ), up[1:])\n",
    "            ans.extend(smallOutput)\n",
    "#         else:\n",
    "#             smallOutput = letterCombo2(p + chr(ord('a') + i ), up[1:])\n",
    "#             ans.extend(smallOutput)\n",
    "        \n",
    "    return ans\n",
    "    \n",
    "letterCombo2('', '33')"
   ]
  },
  {
   "cell_type": "code",
   "execution_count": 74,
   "id": "37b0a750",
   "metadata": {},
   "outputs": [
    {
     "name": "stdout",
     "output_type": "stream",
     "text": [
      "-- 1111\n",
      "-- 112\n",
      "-- 121\n",
      "-- 13\n",
      "-- 211\n",
      "-- 22\n",
      "-- 31\n",
      "-- 4\n"
     ]
    }
   ],
   "source": [
    "def diceThrown(p, up):\n",
    "    if up == 0:\n",
    "        print('--',p)\n",
    "        return p\n",
    "    \n",
    "    for i in range(1, 7):\n",
    "        if i <= up:\n",
    "            diceThrown(p + str(i), up - i)\n",
    "            \n",
    "diceThrown('',4)"
   ]
  },
  {
   "cell_type": "code",
   "execution_count": 79,
   "id": "06ab6fcd",
   "metadata": {},
   "outputs": [
    {
     "data": {
      "text/plain": [
       "['1111', '112', '121', '13', '211', '22', '31', '4']"
      ]
     },
     "execution_count": 79,
     "metadata": {},
     "output_type": "execute_result"
    }
   ],
   "source": [
    "def diceThrown2(p, up):\n",
    "    ans = []\n",
    "    if up == 0:\n",
    "        ans.append(p)\n",
    "        return ans\n",
    "    \n",
    "    for i in range(1, 7):\n",
    "        if i <= up:\n",
    "            small = diceThrown2(p + str(i), up - i)\n",
    "            ans.extend(small)\n",
    "            \n",
    "    return ans\n",
    "            \n",
    "diceThrown2('',4)"
   ]
  },
  {
   "cell_type": "markdown",
   "id": "5f128e55",
   "metadata": {},
   "source": [
    "## 1155. Number of Dice Rolls With Target Sum"
   ]
  },
  {
   "cell_type": "code",
   "execution_count": 75,
   "id": "241b324b",
   "metadata": {},
   "outputs": [],
   "source": [
    "# Input: n = 2, k = 6, target = 7\n",
    "# Output: 6\n",
    "# Explanation: You throw two dice, each with 6 faces.\n",
    "# There are 6 ways to get a sum of 7: 1+6, 2+5, 3+4, 4+3, 5+2, 6+1.\n",
    "\n",
    "# Input: n = 1, k = 6, target = 3\n",
    "# Output: 1\n",
    "# Explanation: You throw one die with 6 faces.\n",
    "# There is only one way to get a sum of 3."
   ]
  },
  {
   "cell_type": "code",
   "execution_count": 85,
   "id": "33a17b50",
   "metadata": {},
   "outputs": [
    {
     "name": "stdout",
     "output_type": "stream",
     "text": [
      "1\n"
     ]
    }
   ],
   "source": [
    "def numRollsToTarget(n, k , target):\n",
    "    return _helper('', n, k , target)\n",
    "\n",
    "def _helper(p, up, n, target):\n",
    "    count = 0\n",
    "    if up == 0:\n",
    "        count = 1\n",
    "        return count\n",
    "    \n",
    "    for i in range(1, k + 1):\n",
    "        if i <= up:\n",
    "            count += _helper(p + str(i), up - i, n, target)\n",
    "\n",
    "            \n",
    "    return count\n",
    "n = 1\n",
    "k = 6\n",
    "target = 3\n",
    "ans = numRollsToTarget(n,k, target)\n",
    "print(ans)"
   ]
  },
  {
   "cell_type": "code",
   "execution_count": 76,
   "id": "301fecf0",
   "metadata": {},
   "outputs": [
    {
     "data": {
      "text/plain": [
       "'\\x02'"
      ]
     },
     "execution_count": 76,
     "metadata": {},
     "output_type": "execute_result"
    }
   ],
   "source": [
    "chr(2)"
   ]
  },
  {
   "cell_type": "code",
   "execution_count": 77,
   "id": "9a9b72be",
   "metadata": {},
   "outputs": [
    {
     "ename": "TypeError",
     "evalue": "unsupported operand type(s) for +: 'int' and 'str'",
     "output_type": "error",
     "traceback": [
      "\u001b[1;31m---------------------------------------------------------------------------\u001b[0m",
      "\u001b[1;31mTypeError\u001b[0m                                 Traceback (most recent call last)",
      "\u001b[1;32m~\\AppData\\Local\\Temp/ipykernel_16812/2041370270.py\u001b[0m in \u001b[0;36m<module>\u001b[1;34m\u001b[0m\n\u001b[1;32m----> 1\u001b[1;33m \u001b[1;36m1\u001b[0m\u001b[1;33m+\u001b[0m\u001b[1;34m'0'\u001b[0m\u001b[1;33m\u001b[0m\u001b[1;33m\u001b[0m\u001b[0m\n\u001b[0m",
      "\u001b[1;31mTypeError\u001b[0m: unsupported operand type(s) for +: 'int' and 'str'"
     ]
    }
   ],
   "source": [
    "1+'0'"
   ]
  },
  {
   "cell_type": "code",
   "execution_count": 78,
   "id": "7f036538",
   "metadata": {},
   "outputs": [
    {
     "ename": "TypeError",
     "evalue": "ord() expected string of length 1, but int found",
     "output_type": "error",
     "traceback": [
      "\u001b[1;31m---------------------------------------------------------------------------\u001b[0m",
      "\u001b[1;31mTypeError\u001b[0m                                 Traceback (most recent call last)",
      "\u001b[1;32m~\\AppData\\Local\\Temp/ipykernel_16812/2329411141.py\u001b[0m in \u001b[0;36m<module>\u001b[1;34m\u001b[0m\n\u001b[1;32m----> 1\u001b[1;33m \u001b[0mchr\u001b[0m\u001b[1;33m(\u001b[0m\u001b[0mord\u001b[0m\u001b[1;33m(\u001b[0m\u001b[1;36m1\u001b[0m\u001b[1;33m)\u001b[0m\u001b[1;33m)\u001b[0m\u001b[1;33m\u001b[0m\u001b[1;33m\u001b[0m\u001b[0m\n\u001b[0m",
      "\u001b[1;31mTypeError\u001b[0m: ord() expected string of length 1, but int found"
     ]
    }
   ],
   "source": [
    "chr(ord(1))"
   ]
  },
  {
   "cell_type": "code",
   "execution_count": null,
   "id": "6b860713",
   "metadata": {},
   "outputs": [],
   "source": []
  }
 ],
 "metadata": {
  "kernelspec": {
   "display_name": "Python 3 (ipykernel)",
   "language": "python",
   "name": "python3"
  },
  "language_info": {
   "codemirror_mode": {
    "name": "ipython",
    "version": 3
   },
   "file_extension": ".py",
   "mimetype": "text/x-python",
   "name": "python",
   "nbconvert_exporter": "python",
   "pygments_lexer": "ipython3",
   "version": "3.10.0"
  }
 },
 "nbformat": 4,
 "nbformat_minor": 5
}
