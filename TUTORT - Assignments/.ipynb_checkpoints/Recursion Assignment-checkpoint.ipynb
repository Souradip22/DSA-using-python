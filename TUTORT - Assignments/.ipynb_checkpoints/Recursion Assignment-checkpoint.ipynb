{
 "cells": [
  {
   "cell_type": "markdown",
   "id": "8445c417",
   "metadata": {},
   "source": [
    "### 1. https://leetcode.com/problems/powx-n/"
   ]
  },
  {
   "cell_type": "code",
   "execution_count": 7,
   "id": "c19c1371",
   "metadata": {},
   "outputs": [
    {
     "name": "stdout",
     "output_type": "stream",
     "text": [
      "1024.0\n"
     ]
    }
   ],
   "source": [
    "def myPow(x,n):\n",
    "    val = _helper(x,abs(n))\n",
    "    if n < 0:\n",
    "        return 1 / val\n",
    "    return val\n",
    "\n",
    "def _helper(x,n):\n",
    "    if n <= 0:\n",
    "        return 1\n",
    "    temp = _helper(x, n//2)\n",
    "    if n % 2 == 0:\n",
    "        return temp * temp\n",
    "    else:\n",
    "        return x * temp * temp\n",
    "\n",
    "x = 2.00000\n",
    "n = 10\n",
    "# Output: 1024.00000\n",
    "print(myPow(x,n))"
   ]
  },
  {
   "cell_type": "markdown",
   "id": "0770ec70",
   "metadata": {},
   "source": [
    "#### 2. https://leetcode.com/problems/power-of-two/"
   ]
  },
  {
   "cell_type": "code",
   "execution_count": 9,
   "id": "ff5d1b09",
   "metadata": {},
   "outputs": [
    {
     "name": "stdout",
     "output_type": "stream",
     "text": [
      "True\n"
     ]
    }
   ],
   "source": [
    "def isPowerOfTwo(n):\n",
    "\n",
    "    if n == 1:\n",
    "        return True\n",
    "    if n % 2 != 0 or n == 0:\n",
    "        return False\n",
    "    return isPowerOfTwo(n // 2)\n",
    "\n",
    "n = 16\n",
    "# Output: true\n",
    "    \n",
    "print(isPowerOfTwo(n))"
   ]
  },
  {
   "cell_type": "markdown",
   "id": "7ba0cc4a",
   "metadata": {},
   "source": [
    "#### 3. https://leetcode.com/problems/count-good-numbers/"
   ]
  },
  {
   "cell_type": "code",
   "execution_count": 11,
   "id": "015a6ab2",
   "metadata": {},
   "outputs": [
    {
     "name": "stdout",
     "output_type": "stream",
     "text": [
      "400\n"
     ]
    }
   ],
   "source": [
    "\n",
    "def countGoodNumbers(n):\n",
    "    m = 10**9 + 7\n",
    "    if n % 2 == 0:\n",
    "        return _helperPow(20, n // 2, m) \n",
    "    return (5 * _helperPow(20, (n // 2) , m))  % m\n",
    "\n",
    "\n",
    "    return 0\n",
    "\n",
    "def _helperPow(x, n, m):\n",
    "    if n <= 0:\n",
    "        return 1\n",
    "    temp = _helperPow(x, n // 2, m)\n",
    "\n",
    "    if n % 2 == 0:\n",
    "        return (temp % m * temp % m) % m\n",
    "    else:\n",
    "        return (x % m * temp % m * temp % m) % m\n",
    "\n",
    "n = 4\n",
    "# Output: 400\n",
    "print(countGoodNumbers(n))"
   ]
  },
  {
   "cell_type": "markdown",
   "id": "648af3ee",
   "metadata": {},
   "source": [
    "#### 4. https://leetcode.com/problems/minimum-non-zero-product-of-the-array-elements/"
   ]
  },
  {
   "cell_type": "code",
   "execution_count": 12,
   "id": "109105dd",
   "metadata": {},
   "outputs": [
    {
     "name": "stdout",
     "output_type": "stream",
     "text": [
      "6\n"
     ]
    }
   ],
   "source": [
    "def minNonZeroProduct(p):\n",
    "    m = 10**9 + 7\n",
    "    n = 2**p - 1\n",
    "    return (n * _helperPow(n - 1, (n - 1) // 2, m)) % m\n",
    "\n",
    "def _helperPow(x, n, m):\n",
    "\n",
    "    if n <= 0:\n",
    "        return 1\n",
    "\n",
    "    temp = _helperPow(x, n // 2, m)\n",
    "    if n % 2 == 0:\n",
    "        return (temp % m * temp % m) % m\n",
    "    else:\n",
    "        return (x % m * temp % m * temp % m) % m\n",
    "\n",
    "p = 2\n",
    "# Output: 6\n",
    "# Explanation: nums = [01, 10, 11]\n",
    "print(minNonZeroProduct(p))"
   ]
  },
  {
   "cell_type": "code",
   "execution_count": null,
   "id": "9a40e1cf",
   "metadata": {},
   "outputs": [],
   "source": []
  }
 ],
 "metadata": {
  "kernelspec": {
   "display_name": "Python 3 (ipykernel)",
   "language": "python",
   "name": "python3"
  },
  "language_info": {
   "codemirror_mode": {
    "name": "ipython",
    "version": 3
   },
   "file_extension": ".py",
   "mimetype": "text/x-python",
   "name": "python",
   "nbconvert_exporter": "python",
   "pygments_lexer": "ipython3",
   "version": "3.10.0"
  }
 },
 "nbformat": 4,
 "nbformat_minor": 5
}
