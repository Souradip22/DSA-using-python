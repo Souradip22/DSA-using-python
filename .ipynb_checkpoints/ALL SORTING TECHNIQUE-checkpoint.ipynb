{
 "cells": [
  {
   "cell_type": "markdown",
   "id": "5f719c4d",
   "metadata": {},
   "source": [
    "#### Bubble Sort"
   ]
  },
  {
   "cell_type": "code",
   "execution_count": 1,
   "id": "c0bd30ba",
   "metadata": {},
   "outputs": [
    {
     "name": "stdout",
     "output_type": "stream",
     "text": [
      "[-2, 0, 1, 2, 5, 5, 6, 7, 8]\n"
     ]
    }
   ],
   "source": [
    "def bubbleSort(arr):\n",
    "    N = len(arr)\n",
    "    for i in range(N):\n",
    "        for j in range(0, N - 1 - i):\n",
    "            if arr[j] > arr[j + 1]:\n",
    "                arr[j], arr[j + 1] = arr[j + 1], arr[j]\n",
    "                \n",
    "    return arr\n",
    "ARR1 = [1,7,5,0,-2, 6, 5, 8, 2]    \n",
    "print(bubbleSort(ARR1))\n",
    "                "
   ]
  },
  {
   "cell_type": "markdown",
   "id": "beb0d459",
   "metadata": {},
   "source": [
    "#### Selection Sort"
   ]
  },
  {
   "cell_type": "code",
   "execution_count": 11,
   "id": "298b0dab",
   "metadata": {},
   "outputs": [
    {
     "name": "stdout",
     "output_type": "stream",
     "text": [
      "[-2, 0, 1, 2, 5, 5, 6, 7, 8]\n"
     ]
    }
   ],
   "source": [
    "def selectionSort(arr):\n",
    "    N = len(arr)\n",
    "    \n",
    "    for i in range(N):\n",
    "        minI = i\n",
    "        for j in range(i + 1, N):\n",
    "            if arr[minI] > arr[j]:\n",
    "                minI = j\n",
    "            \n",
    "        arr[minI], arr[i] = arr[i], arr[minI]\n",
    "    \n",
    "    return arr\n",
    "\n",
    "ARR1 = [1,7,5,0,-2, 6, 5, 8, 2]\n",
    "print(selectionSort(ARR1))"
   ]
  },
  {
   "cell_type": "markdown",
   "id": "2d0d68c1",
   "metadata": {},
   "source": [
    "#### Insertion Sort\n"
   ]
  },
  {
   "cell_type": "code",
   "execution_count": 25,
   "id": "4663e76b",
   "metadata": {},
   "outputs": [
    {
     "name": "stdout",
     "output_type": "stream",
     "text": [
      "9\n",
      "[-2, 0, 1, 2, 5, 5, 6, 7, 8]\n"
     ]
    }
   ],
   "source": [
    "def insertionSort(arr):\n",
    "    \n",
    "    N = len(arr)\n",
    "    print(N)\n",
    "    \n",
    "    for i in range(N):\n",
    "        \n",
    "        for j in range(i, -1, -1):\n",
    "            if j > 0 and arr[j] < arr[j - 1]:\n",
    "                arr[j], arr[j - 1] = arr[j - 1], arr[j]\n",
    "                \n",
    "    return arr\n",
    "\n",
    "\n",
    "ARR1 = [1,7,5,0,-2, 6, 5, 8, 2]\n",
    "print(insertionSort(ARR1))"
   ]
  },
  {
   "cell_type": "markdown",
   "id": "8b9ca04b",
   "metadata": {},
   "source": [
    "#### Merge Sort 1\n",
    "\n",
    "\n"
   ]
  },
  {
   "cell_type": "code",
   "execution_count": 29,
   "id": "e2ea5ebb",
   "metadata": {},
   "outputs": [
    {
     "name": "stdout",
     "output_type": "stream",
     "text": [
      "[-2, 0, 1, 2, 5, 5, 6, 7, 8]\n"
     ]
    }
   ],
   "source": [
    "def merge1(list1, list2):\n",
    "    \n",
    "    i = j = k = 0\n",
    "    \n",
    "    \n",
    "    N1 = len(list1)\n",
    "    N2 = len(list2)\n",
    "    res = [0] * (N1 + N2)\n",
    "    \n",
    "    while i < N1 and j < N2:\n",
    "        if list1[i] < list2[j]:\n",
    "            res[k] = list1[i]\n",
    "            i += 1\n",
    "        else:\n",
    "            res[k] = list2[j]\n",
    "            j += 1\n",
    "        k += 1\n",
    "    \n",
    "    while i < N1:\n",
    "        res[k] = list1[i]\n",
    "        i += 1\n",
    "        k += 1\n",
    "    \n",
    "    while j < N2:\n",
    "        res[k] = list2[j]\n",
    "        k += 1\n",
    "        j += 1\n",
    "    \n",
    "    return res\n",
    "    \n",
    "    \n",
    "    \n",
    "def mergeSort1(arr):\n",
    "    \n",
    "    if len(arr) <= 1:\n",
    "        return arr\n",
    "    \n",
    "    mid = len(arr) // 2\n",
    "    \n",
    "    left = mergeSort1(arr[: mid])\n",
    "    right = mergeSort1(arr[mid:])\n",
    "    \n",
    "    return merge1(left, right)\n",
    "\n",
    "\n",
    "ARR1 = [1,7,5,0,-2, 6, 5, 8, 2]\n",
    "print(mergeSort1(ARR1))  \n",
    "    "
   ]
  },
  {
   "cell_type": "markdown",
   "id": "10efce8c",
   "metadata": {},
   "source": [
    "#### Merge Sort 2"
   ]
  },
  {
   "cell_type": "code",
   "execution_count": 56,
   "id": "e3c2109d",
   "metadata": {},
   "outputs": [
    {
     "name": "stdout",
     "output_type": "stream",
     "text": [
      "[1] [7]\n",
      "[1, 7] [5]\n",
      "[0] [-2]\n",
      "[1, 5, 7] [-2, 0]\n",
      "[6] [5]\n",
      "[8] [2]\n",
      "[5, 6] [2, 8]\n",
      "[-2, 0, 1, 5, 7] [2, 5, 6, 8]\n",
      "None\n",
      "[-2, 0, 1, 2, 5, 5, 6, 7, 8]\n"
     ]
    }
   ],
   "source": [
    "def merge2(arr, l, mid, r):\n",
    "#     print(arr, l , mid, r)\n",
    "\n",
    "#     N1 = l to (mid - l + 1)\n",
    "#     N2 = r - mid\n",
    "    \n",
    "    list1 = []\n",
    "    list2 = []\n",
    "    \n",
    "#     for i in range(l , mid - l + 1):\n",
    "#         list1.append(arr[i])\n",
    "    \n",
    "#     for j in range(mid + 1 , r + 1 ):\n",
    "#         list2.append(arr[j])\n",
    "\n",
    "    for i in range(mid - l + 1):\n",
    "        list1.append(arr[l + i])\n",
    "    \n",
    "    for j in range(r-mid):\n",
    "        list2.append(arr[mid + 1 + j])\n",
    "        \n",
    "    print(list1, list2)\n",
    "    \n",
    "    i = 0\n",
    "    j = 0\n",
    "    k = l\n",
    "    N1 = len(list1)\n",
    "    N2 = len(list2)\n",
    "    \n",
    "    \n",
    "    while i < N1 and j < N2:\n",
    "        if list1[i] < list2[j]:\n",
    "            arr[k] = list1[i]\n",
    "            i += 1\n",
    "        else:\n",
    "            arr[k] = list2[j]\n",
    "            j += 1\n",
    "        k += 1\n",
    "    \n",
    "    while i < N1:\n",
    "        arr[k] = list1[i]\n",
    "        i += 1\n",
    "        k += 1\n",
    "    \n",
    "    while j < N2:\n",
    "        arr[k] = list2[j]\n",
    "        k += 1\n",
    "        j += 1\n",
    "    \n",
    "    \n",
    "def mergeSort2(arr, l, r):\n",
    "    \n",
    "    if l >= r:\n",
    "        return\n",
    "    \n",
    "    mid = l + (r - l) // 2\n",
    "    \n",
    "    mergeSort2(arr, l, mid)\n",
    "    mergeSort2(arr, mid + 1, r)\n",
    "    \n",
    "    merge2(arr, l, mid, r)\n",
    "    \n",
    "ARR1 = [1,7,5,0,-2, 6, 5, 8, 2]\n",
    "print(mergeSort2(ARR1, 0, len(ARR1)-1)) \n",
    "print(ARR1)\n",
    "    "
   ]
  },
  {
   "cell_type": "code",
   "execution_count": 1,
   "id": "06d062f6",
   "metadata": {},
   "outputs": [
    {
     "name": "stdout",
     "output_type": "stream",
     "text": [
      "None\n",
      "[0, 1, 1, 2, 3, 6]\n"
     ]
    }
   ],
   "source": [
    "def partition(arr, si, ei):\n",
    "    pivot = arr[si]\n",
    "    i = si\n",
    "    j = ei\n",
    "    while i < j:\n",
    "        \n",
    "        while i < ei and pivot >= arr[i]:\n",
    "            i += 1\n",
    "        \n",
    "        while j > 0 and pivot < arr[j]:\n",
    "            j -= 1\n",
    "        if i > j:\n",
    "            break\n",
    "        \n",
    "        arr[i], arr[j] = arr[j], arr[i]\n",
    "\n",
    "    arr[si], arr[j] = arr[j], arr[si]\n",
    "    \n",
    "    return j\n",
    "    \n",
    "def quickSort22(arr, si, ei):\n",
    "    \n",
    "    if si >= ei:\n",
    "        return\n",
    "    \n",
    "    pivotI = partition(arr, si, ei)\n",
    "    \n",
    "    quickSort22(arr, si, pivotI - 1)\n",
    "    quickSort22(arr, pivotI + 1, ei)\n",
    "    \n",
    "arr = [3,1, 0 , 2, 1, 6]\n",
    "print(quickSort22(arr, 0, len(arr) - 1))\n",
    "print(arr)"
   ]
  },
  {
   "cell_type": "code",
   "execution_count": null,
   "id": "a3720daa",
   "metadata": {},
   "outputs": [],
   "source": []
  }
 ],
 "metadata": {
  "kernelspec": {
   "display_name": "Python 3 (ipykernel)",
   "language": "python",
   "name": "python3"
  },
  "language_info": {
   "codemirror_mode": {
    "name": "ipython",
    "version": 3
   },
   "file_extension": ".py",
   "mimetype": "text/x-python",
   "name": "python",
   "nbconvert_exporter": "python",
   "pygments_lexer": "ipython3",
   "version": "3.10.0"
  }
 },
 "nbformat": 4,
 "nbformat_minor": 5
}
