{
 "cells": [
  {
   "cell_type": "markdown",
   "id": "309e9f55",
   "metadata": {},
   "source": [
    "# BASIC RECURSION"
   ]
  },
  {
   "cell_type": "markdown",
   "id": "7d2aad2c",
   "metadata": {},
   "source": [
    "Find All Permutations of a String"
   ]
  },
  {
   "cell_type": "code",
   "execution_count": 8,
   "id": "1cbbabd6",
   "metadata": {},
   "outputs": [
    {
     "name": "stdout",
     "output_type": "stream",
     "text": [
      "['abc', 'acb', 'bac', 'bca', 'cab', 'cba']\n",
      "['abc', 'acb', 'bac', 'bca', 'cab', 'cba']\n"
     ]
    }
   ],
   "source": [
    "def permutations(str):\n",
    "  # your code goes here\n",
    "    ans = []\n",
    "    _helperPermutation(str, 0, ans, [])\n",
    "    return ans\n",
    "\n",
    "def _helperPermutation(str, ind, ans, tmp):\n",
    "    if len(tmp) == len(str):\n",
    "        ans.append(''.join(tmp))\n",
    "        return \n",
    "\n",
    "    for i in range(0, len(str)):\n",
    "        if str[i] not in tmp:\n",
    "            tmp.append(str[i])\n",
    "            _helperPermutation(str, ind + 1, ans, tmp)\n",
    "            tmp.pop()\n",
    "    \n",
    "\n",
    "str = 'abc' \n",
    "print(permutations(str))\n",
    "\n",
    "\n",
    "def permutations(str):\n",
    "    if str == \"\": # base case\n",
    "        return [\"\"]\n",
    "    permutes = []\n",
    "    for char in str:\n",
    "        subpermutes = permutations(str.replace(char, \"\", 1))    # recursive step\n",
    "        for each in subpermutes:\n",
    "          permutes.append(char+each)\n",
    "    return permutes\n",
    "\n",
    "def main():\n",
    "    print(permutations(\"abc\"))\n",
    "\n",
    "main()\n",
    "#time complexity would be O(n!). This makes sense because for an n character long string, there are n! total permutations.\n",
    "    \n"
   ]
  },
  {
   "cell_type": "markdown",
   "id": "4e1fdc5e",
   "metadata": {},
   "source": [
    "N Queens"
   ]
  },
  {
   "cell_type": "code",
   "execution_count": 90,
   "id": "f0900ca1",
   "metadata": {},
   "outputs": [
    {
     "data": {
      "text/plain": [
       "[['.', '.', 'Q', '.'],\n",
       " ['Q', '.', '.', '.'],\n",
       " ['.', '.', '.', 'Q'],\n",
       " ['.', 'Q', '.', '.']]"
      ]
     },
     "execution_count": 90,
     "metadata": {},
     "output_type": "execute_result"
    }
   ],
   "source": [
    "def placeNQueens(n):\n",
    "    board = [['.' for _ in range(n)] for _ in range(n)]\n",
    "    ans = []\n",
    "    _helperSolve(0, n, board, ans)\n",
    "    return ans\n",
    "\n",
    "def isSafe(row, col, board, n):\n",
    "    \n",
    "    for i in range(col):\n",
    "        if board[row][i] == 'Q':\n",
    "            return False\n",
    "    tempRow = row\n",
    "    tempCol = col\n",
    "    while row >= 0 and col >= 0:\n",
    "        if board[row][col] == 'Q':\n",
    "            return False\n",
    "        row -= 1\n",
    "        col -= 1\n",
    "    row = tempRow\n",
    "    col = tempCol\n",
    "    while row < n and col >= 0:\n",
    "        if board[row][col] == 'Q':\n",
    "            return False\n",
    "        row += 1\n",
    "        col -= 1\n",
    "    return True\n",
    "\n",
    "def displayBoard(board):\n",
    "    for item in board:\n",
    "        print(item)\n",
    "    print()\n",
    "\n",
    "def _helperSolve(col, n, board, ans):\n",
    "    #for each column try to place  a queen\n",
    "    if col == n:\n",
    "        for item in board:\n",
    "            ans.append(item.copy())\n",
    "\n",
    "#         print(ans)\n",
    "        return len(board)\n",
    "    \n",
    "    for row in range(0, n):\n",
    "        if isSafe(row, col, board, n):\n",
    "            board[row][col] = 'Q'\n",
    "            if _helperSolve(col + 1, n, board, ans) == len(board):\n",
    "                return len(board)\n",
    "            board[row][col] = '.'\n",
    "        \n",
    "\n",
    "[['-', 'q', '-', '-'], ['-', '-', '-', 'q'], ['q', '-', '-', '-'], ['-', '-', 'q', '-']]\n",
    "placeNQueens(4)"
   ]
  },
  {
   "cell_type": "markdown",
   "id": "324a38f5",
   "metadata": {},
   "source": [
    "# Pattern - 1 (0/1 Knapsack)"
   ]
  },
  {
   "cell_type": "code",
   "execution_count": 126,
   "id": "c44d7dd0",
   "metadata": {},
   "outputs": [
    {
     "name": "stdout",
     "output_type": "stream",
     "text": [
      "23\n",
      "[[0, 10, 10, 10, 10, 10, 10, 10, 10, 10, 10], [0, 10, 10, 15, 15, 15, 15, 15, 15, 15, 15], [0, 10, 10, 15, 15, 15, 19, 19, 19, 19, 19], [0, 10, 10, 15, 15, 15, 19, 19, 23, 23, 23], [0, 0, 0, 0, 0, 0, 0, 0, 0, 0, 0]]\n",
      "23\n"
     ]
    }
   ],
   "source": [
    "def find_knapsack(capacity, weights, values, n):\n",
    "    dp = [[-1 for _ in range(capacity + 1)] for _ in range(n)]\n",
    "    n = len(weights)\n",
    "    return _helperKnapsack(capacity, weights, values, n - 1, dp)\n",
    "\n",
    "def _helperKnapsack(capacity, weights, values, ind, dp):\n",
    "\n",
    "    if ind == 0:\n",
    "        if weights[0] <= capacity:\n",
    "            return values[0]\n",
    "        return 0\n",
    "    \n",
    "    if dp[ind][capacity] != -1:\n",
    "        return dp[ind][capacity]\n",
    "    \n",
    "    noTake = _helperKnapsack(capacity, weights, values, ind - 1, dp)\n",
    "    take = float('-inf')\n",
    "    if weights[ind] <= capacity:\n",
    "        take = values[ind] + _helperKnapsack(capacity - weights[ind], weights, values, ind - 1, dp)\n",
    "        \n",
    "    dp[ind][capacity] = max(take, noTake)\n",
    "    \n",
    "    return dp[ind][capacity]\n",
    "    \n",
    "\n",
    "# def find_knapsack(capacity, weights, values, n):\n",
    "#     dp = [[-1 for i in range(capacity + 1)] for j in range(n + 1)]\n",
    "#     return find_knapsack_value(capacity, weights, values, n, dp)\n",
    "\n",
    "# def find_knapsack_value(capacity, weights, values, n, dp):\n",
    "#     # Base case\n",
    "#     if n == 0 or capacity == 0:\n",
    "#         return 0\n",
    "    \n",
    "#     #If we have solved it earlier, then return the result from memory\n",
    "#     if dp[n][capacity] != -1:\n",
    "#         return dp[n][capacity]\n",
    " \n",
    "#     #Otherwise, we solve it for the new combination and save the results in the memory\n",
    "#     if weights[n-1] <= capacity:\n",
    "#         dp[n][capacity] = max(\n",
    "#             values[n-1] + find_knapsack_value(capacity-weights[n-1], weights, values, n-1, dp),\n",
    "#             find_knapsack_value(capacity, weights, values, n-1, dp)\n",
    "#             )\n",
    "#         return dp[n][capacity]\n",
    "\n",
    "#     dp[n][capacity] = find_knapsack_value(capacity, weights, values, n-1, dp)\n",
    "#     return dp[n][capacity] \n",
    "\n",
    "\n",
    "weights = [1, 2, 3, 5]\n",
    "values = [10, 5, 4, 8]\n",
    "capacity = 10\n",
    "n = len(weights)\n",
    "print(find_knapsack(capacity, weights, values, n))\n",
    "\n",
    "def kanpsackTopBottom(capacity, weights, values, n):\n",
    "    dp = [[0 for _ in range(capacity + 1)] for _ in range(n + 1)]\n",
    "    # Base condition: for the first row if the capacity >= weights[0], then we can pick the element so storing the value\n",
    "    for w in range(0, capacity + 1):\n",
    "        if w >= weights[0]:\n",
    "            dp[0][w] = values[0]\n",
    "    \n",
    "    for ind in range(1, n):\n",
    "        for capacity in range(0, capacity + 1):\n",
    "            \n",
    "            noTake = dp[ind - 1][capacity]\n",
    "            take = float('-inf')\n",
    "            if weights[ind] <= capacity:\n",
    "                take = values[ind] + dp[ind - 1][capacity - weights[ind]]\n",
    "\n",
    "            dp[ind][capacity] = max(take, noTake)\n",
    "    return dp[n-1][capacity]\n",
    "            \n",
    "\n",
    "\n",
    "weights = [1, 2, 3, 5]\n",
    "values = [10, 5, 4, 8]\n",
    "capacity = 10\n",
    "n = len(weights)\n",
    "print(kanpsackTopBottom(capacity, weights, values, n))\n",
    "\n"
   ]
  },
  {
   "cell_type": "markdown",
   "id": "77900130",
   "metadata": {},
   "source": [
    "    You are given an integer array nums and an integer target.\n",
    "\n",
    "    You want to build an expression out of nums by adding one of the symbols '+' and '-' before each integer in nums and then concatenate all the integers.\n",
    "\n",
    "    For example, if nums = [2, 1], you can add a '+' before 2 and a '-' before 1 and concatenate them to build the expression \"+2-1\".\n",
    "    Return the number of different expressions that you can build, which evaluates to target."
   ]
  },
  {
   "cell_type": "code",
   "execution_count": 144,
   "id": "266d2b92",
   "metadata": {},
   "outputs": [
    {
     "name": "stdout",
     "output_type": "stream",
     "text": [
      "2\n"
     ]
    }
   ],
   "source": [
    "def findTargetSumWays(nums, target) -> int:\n",
    "    total = sum(nums)\n",
    "\n",
    "# If the target can't be generated using the given numbers\n",
    "    if total < abs(target):\n",
    "        return 0\n",
    "    newTarget = (total - target) // 2\n",
    "    dp = [[-1 for _ in range(newTarget + 1)] for _ in range(len(nums)+ 1)]\n",
    "    ans = _helperTargetSum(len(nums) - 1, nums, newTarget, dp)\n",
    "\n",
    "    return ans\n",
    "\n",
    "def _helperTargetSum(ind, nums, target, dp):\n",
    "\n",
    "    if ind < 0:\n",
    "        if target == 0:\n",
    "            return 1\n",
    "        return 0\n",
    "\n",
    "\n",
    "    if dp[ind][target] != -1:\n",
    "        return dp[ind][target]\n",
    "    \n",
    "    notTake = _helperTargetSum(ind - 1, nums, target, dp)\n",
    "    take = 0\n",
    "    if target >= nums[ind]:\n",
    "        take = _helperTargetSum(ind - 1, nums, target - nums[ind], dp)\n",
    "\n",
    "    dp[ind][target] = take + notTake\n",
    "\n",
    "    return dp[ind][target]\n",
    "\n",
    "nums = [1,1,1,1,1] \n",
    "target = 1\n",
    "#op = 10\n",
    "\n",
    "nums = [2,1,2] \n",
    "target = -1\n",
    "print(findTargetSumWays(nums, target))\n",
    "            \n",
    "    \n",
    "    \n",
    "    \n",
    "\n",
    "# nums = [2,1,2] \n",
    "# target = -1\n",
    "# print(findTargetSumTabu(nums, target))"
   ]
  },
  {
   "cell_type": "code",
   "execution_count": null,
   "id": "0f6f1155",
   "metadata": {},
   "outputs": [],
   "source": []
  },
  {
   "cell_type": "code",
   "execution_count": null,
   "id": "86f55aa6",
   "metadata": {},
   "outputs": [],
   "source": []
  }
 ],
 "metadata": {
  "kernelspec": {
   "display_name": "Python 3 (ipykernel)",
   "language": "python",
   "name": "python3"
  },
  "language_info": {
   "codemirror_mode": {
    "name": "ipython",
    "version": 3
   },
   "file_extension": ".py",
   "mimetype": "text/x-python",
   "name": "python",
   "nbconvert_exporter": "python",
   "pygments_lexer": "ipython3",
   "version": "3.10.0"
  }
 },
 "nbformat": 4,
 "nbformat_minor": 5
}
