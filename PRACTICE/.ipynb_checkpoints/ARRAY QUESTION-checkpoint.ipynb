{
 "cells": [
  {
   "cell_type": "markdown",
   "id": "3c6a65eb",
   "metadata": {},
   "source": [
    "832. Flipping an Image ( Two pointer)\n",
    "1854. Maximum Population Year\n",
    "    "
   ]
  },
  {
   "cell_type": "code",
   "execution_count": 1,
   "id": "34743d60",
   "metadata": {},
   "outputs": [
    {
     "name": "stdout",
     "output_type": "stream",
     "text": [
      "0 1 1\n",
      "0 2 1\n",
      "0 3 1\n",
      "1 2 2\n",
      "1 3 2\n",
      "2 3 3\n"
     ]
    }
   ],
   "source": [
    "#transpose of a matrix\n",
    "\n",
    "def findTranspose(mat):\n",
    "    \n",
    "    r = len(mat)\n",
    "    c = len(mat[0])\n",
    "    \n",
    "    new = [[None for _ in range(r)] for _ in range(c)]\n",
    "\n",
    "    for i in range(c):\n",
    "        for j in range(r):\n",
    "            new[i][j] = mat[j][i]\n",
    "    return new\n",
    "\n",
    "\n",
    "ip = [[2, -9, 3], [13, 11, 17], [3, 6, 15], [4, 13, 1]]\n",
    "A = [ [1, 1, 1, 1],\n",
    "    [2, 2, 2, 2],\n",
    "    [3, 3, 3, 3]]\n",
    "\n",
    "findTranspose(A)\n",
    "\n",
    "def transpose(A):\n",
    "    for i in range(4):\n",
    "        for j in range(i+1, 4):\n",
    "            print(i, j, A[i][j])\n",
    "#             A[i][j], A[j][i] = A[j][i], A[i][j]\n",
    " \n",
    "\n",
    "\n",
    "B = [ [1, 1, 1, 1],\n",
    "    [2, 2, 2, 2],\n",
    "    [3, 3, 3, 3],\n",
    "    [4, 4, 4, 4]]\n",
    "transpose(B)\n",
    "\n",
    "\n",
    "# In-Place for Square Matrix: \n",
    "            \n",
    "    "
   ]
  },
  {
   "cell_type": "markdown",
   "id": "b888932a",
   "metadata": {},
   "source": [
    "Rotate Matrix in 90 dig anticlock wise\n",
    "\n",
    "#### 1 - Find the transpose of the matrix\n",
    "#### 2 - reverse each of the column\n"
   ]
  },
  {
   "cell_type": "code",
   "execution_count": 2,
   "id": "27d5a5b3",
   "metadata": {},
   "outputs": [
    {
     "name": "stdout",
     "output_type": "stream",
     "text": [
      "[(1, 4, 7), (2, 5, 8), (3, 6, 9)]\n",
      "[[7, 4, 1], [8, 5, 2], [9, 6, 3]]\n",
      "[[1, 2, 3], [4, 5, 6], [7, 8, 9]]\n"
     ]
    }
   ],
   "source": [
    "def rotateClockWise(matrix):\n",
    "\n",
    "    def transponseInPlace(matrix):\n",
    "        \n",
    "        N = len(matrix)\n",
    "        for i in range(N):\n",
    "            for j in range(i+1, N):\n",
    "                matrix[i][j], matrix[j][i] = matrix[j][i], matrix[i][j]\n",
    "    \n",
    "                \n",
    "    def reverseRows(matrix):\n",
    "        \n",
    "        N = len(matrix)\n",
    "        for i in range(N):\n",
    "            j = 0\n",
    "            k = len(matrix[i]) - 1\n",
    "            \n",
    "            while j < k:\n",
    "                temp = matrix[i][j]\n",
    "                matrix[i][j] = matrix[i][k]\n",
    "                matrix[i][k] = temp\n",
    "                \n",
    "                j += 1\n",
    "                k -= 1\n",
    "    transponseInPlace(matrix)\n",
    "    reverseRows(matrix)\n",
    "\n",
    "    \n",
    "def rotateAnticlockWise(matrix):\n",
    "    def transponseInPlace(matrix):\n",
    "        \n",
    "        N = len(matrix)\n",
    "        for i in range(N):\n",
    "            for j in range(i+1, N):\n",
    "                matrix[i][j], matrix[j][i] = matrix[j][i], matrix[i][j]\n",
    "            \n",
    "    \n",
    "    def reverseColumns(matrix):\n",
    "        \n",
    "        N = len(matrix)\n",
    "        for i in range(N):\n",
    "            j = 0\n",
    "            k = len(matrix[i]) - 1\n",
    "            \n",
    "            while j < k:\n",
    "                temp = matrix[j][i]\n",
    "                matrix[j][i] = matrix[k][i]\n",
    "                matrix[k][i] = temp\n",
    "                \n",
    "                j += 1\n",
    "                k -= 1\n",
    "    transponseInPlace(matrix)\n",
    "    reverseColumns(matrix)\n",
    "        \n",
    "   \n",
    "matrix = [[1,2,3],[4,5,6],[7,8,9]]\n",
    "print(list(zip(*matrix)))\n",
    "\n",
    "# Output: [[7,4,1],[8,5,2],[9,6,3]]\n",
    "rotateClockWise(matrix)\n",
    "print(matrix)\n",
    "rotateAnticlockWise(matrix)\n",
    "print(matrix)\n",
    "        \n"
   ]
  },
  {
   "cell_type": "code",
   "execution_count": 3,
   "id": "8a673256",
   "metadata": {},
   "outputs": [
    {
     "data": {
      "text/plain": [
       "0"
      ]
     },
     "execution_count": 3,
     "metadata": {},
     "output_type": "execute_result"
    }
   ],
   "source": [
    "1^1"
   ]
  },
  {
   "cell_type": "markdown",
   "id": "d1068598",
   "metadata": {},
   "source": [
    "\n",
    "### Remove duplicates from sorted array"
   ]
  },
  {
   "cell_type": "code",
   "execution_count": 4,
   "id": "a1651273",
   "metadata": {},
   "outputs": [
    {
     "data": {
      "text/plain": [
       "[1, 2, 3, 4, 5, 6, 4, 5, 5, 6]"
      ]
     },
     "execution_count": 4,
     "metadata": {},
     "output_type": "execute_result"
    }
   ],
   "source": [
    "def removeDup1(arr):\n",
    "    n = len(arr)\n",
    "    \n",
    "    temp = list(range(n))\n",
    "    \n",
    "    if n == 0 or n == 1:\n",
    "        return n\n",
    "    \n",
    "    j = 0\n",
    "    for i in range(0, n - 1):\n",
    "        \n",
    "        if arr[i] != arr[i+1]:\n",
    "            temp[j] = arr[i]\n",
    "            j += 1\n",
    "    \n",
    "    temp[j] = arr[n-1]\n",
    "    j += 1\n",
    "    \n",
    "    for i in range(j):\n",
    "        arr[i] = temp[i]\n",
    "    \n",
    "    return arr\n",
    "\n",
    "def removeDup2(arr):\n",
    "    n = len(arr)\n",
    "    \n",
    "    \n",
    "    if n == 0 or n == 1:\n",
    "        return n\n",
    "    \n",
    "    j = 0\n",
    "    for i in range(0, n - 1):\n",
    "        \n",
    "        if arr[i] != arr[i+1]:\n",
    "            arr[j] = arr[i]\n",
    "            j += 1\n",
    "    \n",
    "    arr[j] = arr[n-1]\n",
    "    j += 1\n",
    "\n",
    "    return arr\n",
    "        \n",
    "arr = [1, 2, 2, 3, 4, 4, 4, 5, 5, 6]\n",
    "removeDup2(arr)\n"
   ]
  },
  {
   "cell_type": "markdown",
   "id": "d5896f9d",
   "metadata": {},
   "source": [
    "# Sieve of sundaram\n",
    "Print all the prime numbers that are less than n"
   ]
  },
  {
   "cell_type": "code",
   "execution_count": 5,
   "id": "0c79b994",
   "metadata": {},
   "outputs": [
    {
     "name": "stdout",
     "output_type": "stream",
     "text": [
      "2 3 5 7 11 13 17 19 "
     ]
    }
   ],
   "source": [
    "def implementSieveOfSundaram(n):\n",
    "    \n",
    "    # first job to create a mark arr\n",
    "    nNew = (n -1) // 2\n",
    "    marked = [0 for _ in range(nNew+1)]\n",
    "\n",
    "    for i in range(1, nNew+1):\n",
    "        j = i\n",
    "        while (i + j + 2 * i * j <= nNew):\n",
    "            marked[i+j+2*i*j] = 1\n",
    "            j += 1\n",
    "    \n",
    "    if n > 2:\n",
    "        print(2, end=\" \")\n",
    "        \n",
    "    for i in range(1, len(marked)):\n",
    "        if marked[i] == 0:\n",
    "            print(2 * i + 1, end= \" \")\n",
    "    \n",
    "implementSieveOfSundaram(20)\n",
    "        \n",
    "    "
   ]
  },
  {
   "cell_type": "markdown",
   "id": "4946f4b6",
   "metadata": {},
   "source": [
    "# Sieve of eratosthenes\n",
    "\n"
   ]
  },
  {
   "cell_type": "code",
   "execution_count": 51,
   "id": "aa0dbe09",
   "metadata": {},
   "outputs": [
    {
     "name": "stdout",
     "output_type": "stream",
     "text": [
      "2\n",
      "3\n",
      "5\n",
      "7\n",
      "11\n",
      "13\n",
      "17\n",
      "19\n"
     ]
    }
   ],
   "source": [
    "import math\n",
    "def implementSieveOfEratosthenes(n):\n",
    "    \n",
    "    marked = [ True for _ in range(n+1)]\n",
    "    for i in range(2, int(math.sqrt(n))):\n",
    "        j = i * i\n",
    "        if marked[i]:\n",
    "            while j < len(marked):\n",
    "                marked[j] = False\n",
    "                j = j + i\n",
    "    \n",
    "    for i in range(2, len(marked)):\n",
    "        if marked[i]:\n",
    "            print(i)\n",
    "    \n",
    "\n",
    "implementSieveOfEratosthenes(19)\n",
    "    \n"
   ]
  },
  {
   "cell_type": "markdown",
   "id": "3e56acf6",
   "metadata": {},
   "source": [
    "### Largest number formed from an array"
   ]
  },
  {
   "cell_type": "code",
   "execution_count": 65,
   "id": "d2e47ff1",
   "metadata": {},
   "outputs": [
    {
     "name": "stdout",
     "output_type": "stream",
     "text": [
      "0 0\n",
      "[0, 0]\n"
     ]
    },
    {
     "data": {
      "text/plain": [
       "'00'"
      ]
     },
     "execution_count": 65,
     "metadata": {},
     "output_type": "execute_result"
    }
   ],
   "source": [
    "def formLargestNumber(nums):\n",
    "    ans = ''\n",
    "    \n",
    "    for i in range(len(nums)):\n",
    "        \n",
    "        for j in range(i+1, len(nums)):\n",
    "            \n",
    "            x = str(nums[i])\n",
    "            y = str(nums[j])\n",
    "            print(int(x + y) , int(y + x))\n",
    "            if int(x + y) < int(y + x):\n",
    "                temp = nums[i]\n",
    "                nums[i] = nums[j]\n",
    "                nums[j] = temp\n",
    "    print(nums)\n",
    "    for i in nums:\n",
    "        ans += str(i)\n",
    "    return ans\n",
    "        \n",
    "formLargestNumber([0, 0])"
   ]
  },
  {
   "cell_type": "code",
   "execution_count": 57,
   "id": "56484cff",
   "metadata": {},
   "outputs": [
    {
     "ename": "TypeError",
     "evalue": "sequence item 0: expected str instance, int found",
     "output_type": "error",
     "traceback": [
      "\u001b[1;31m---------------------------------------------------------------------------\u001b[0m",
      "\u001b[1;31mTypeError\u001b[0m                                 Traceback (most recent call last)",
      "\u001b[1;32m~\\AppData\\Local\\Temp/ipykernel_15628/1622434229.py\u001b[0m in \u001b[0;36m<module>\u001b[1;34m\u001b[0m\n\u001b[1;32m----> 1\u001b[1;33m \u001b[1;34m''\u001b[0m\u001b[1;33m.\u001b[0m\u001b[0mjoin\u001b[0m\u001b[1;33m(\u001b[0m\u001b[1;33m[\u001b[0m\u001b[1;36m3\u001b[0m\u001b[1;33m,\u001b[0m \u001b[1;36m30\u001b[0m\u001b[1;33m,\u001b[0m \u001b[1;36m34\u001b[0m\u001b[1;33m,\u001b[0m \u001b[1;36m9\u001b[0m\u001b[1;33m]\u001b[0m\u001b[1;33m)\u001b[0m\u001b[1;33m\u001b[0m\u001b[1;33m\u001b[0m\u001b[0m\n\u001b[0m",
      "\u001b[1;31mTypeError\u001b[0m: sequence item 0: expected str instance, int found"
     ]
    }
   ],
   "source": [
    "''.join([3, 30, 34, 9])"
   ]
  },
  {
   "cell_type": "markdown",
   "id": "e69232f2",
   "metadata": {},
   "source": [
    "\n",
    "### Kth smallest element\n",
    "1. using sorting \n",
    "2. Using max/min heap\n",
    "3. using quick select \n"
   ]
  },
  {
   "cell_type": "code",
   "execution_count": 102,
   "id": "59a5182b",
   "metadata": {},
   "outputs": [
    {
     "name": "stdout",
     "output_type": "stream",
     "text": [
      "7\n"
     ]
    }
   ],
   "source": [
    "def partition(arr, l, r):    \n",
    "    j = l\n",
    "    x = arr[r]\n",
    "    for i in range(l, r):\n",
    "        \n",
    "        if arr[i] <= x:\n",
    "            arr[i], arr[j] = arr[j], arr[i]\n",
    "            j += 1\n",
    "        \n",
    "    arr[j], arr[r] = arr[r], arr[j]\n",
    "    return j\n",
    "\n",
    "def kthSmallest(arr, l, r, k):\n",
    "    \n",
    "    if (k > 0 and k <= r - l + 1):\n",
    "        pivotIndex = partition(arr, l, r)\n",
    "        \n",
    "        if pivotIndex - l == k - 1:\n",
    "            return arr[pivotIndex]\n",
    "        \n",
    "        if pivotIndex - l > k - 1:\n",
    "            return kthSmallest(arr, l, pivotIndex - 1, k)\n",
    "        \n",
    "        return kthSmallest(arr, pivotIndex + 1, r, k - pivotIndex + l - 1)\n",
    "    \n",
    "    return float('inf')\n",
    "\n",
    "def partition2(arr, l, r):    \n",
    "    j = l\n",
    "    x = arr[r]\n",
    "    for i in range(l, r):\n",
    "        \n",
    "        if arr[i] >= x:\n",
    "            arr[i], arr[j] = arr[j], arr[i]\n",
    "            j += 1\n",
    "        \n",
    "    arr[j], arr[r] = arr[r], arr[j]\n",
    "    return j\n",
    "\n",
    "\n",
    "def kthGreatest(arr, l, r, k):\n",
    "    \n",
    "    if (k > 0 and k <= r - l + 1):\n",
    "        pivotIndex = partition2(arr, l, r)\n",
    "        \n",
    "        if pivotIndex - l == k - 1:\n",
    "            return arr[pivotIndex]\n",
    "        \n",
    "        elif pivotIndex - l > k - 1:\n",
    "            return kthGreatest(arr, l, pivotIndex - 1, k)\n",
    "        \n",
    "        return kthGreatest(arr, pivotIndex + 1, r, k - pivotIndex + l - 1)\n",
    "    \n",
    "    return float('-inf')\n",
    "\n",
    "    \n",
    "\n",
    "    \n",
    "arr = [7, 15, 4, 3, 20, 10]\n",
    "arr2 = [12, 3, 5, 7, 4, 19, 26]\n",
    "ans = kthGreatest(arr2, 0, len(arr2) - 1, 4)\n",
    "print(ans)"
   ]
  },
  {
   "cell_type": "markdown",
   "id": "46f58dfc",
   "metadata": {},
   "source": [
    "## Kadane's Algorithms"
   ]
  },
  {
   "cell_type": "code",
   "execution_count": 109,
   "id": "f7dcc834",
   "metadata": {},
   "outputs": [
    {
     "name": "stdout",
     "output_type": "stream",
     "text": [
      "2\n"
     ]
    }
   ],
   "source": [
    "def maxSubArraySum(arr):\n",
    "    localMax = 0\n",
    "    globalMax = float('-inf')\n",
    "    \n",
    "    for i in range(0, len(arr)):\n",
    "        localMax = max(arr[i], arr[i] + localMax)\n",
    "        globalMax = max(globalMax, localMax)\n",
    "                   \n",
    "    return globalMax\n",
    "arr = [-2, 1, -3, 4, -1, 2, 1, -5, 4]\n",
    "arr2 = [-2, -3, -4, -1, 2, -1, -5, -3]\n",
    "\n",
    "ans = maxSubArraySum(arr2)\n",
    "print(ans)"
   ]
  },
  {
   "cell_type": "code",
   "execution_count": 118,
   "id": "ac3733e6",
   "metadata": {},
   "outputs": [
    {
     "name": "stdout",
     "output_type": "stream",
     "text": [
      "-1\n"
     ]
    }
   ],
   "source": [
    "def partition( arr, l, r):\n",
    "    i = l\n",
    "    pivot = arr[r]\n",
    "\n",
    "    for j in range(l, r):\n",
    "\n",
    "        if arr[j] <= pivot:\n",
    "            arr[i], arr[j] = arr[j], arr[i]\n",
    "            i += 1\n",
    "    arr[i], arr[r] = arr[r], arr[i]\n",
    "\n",
    "    return i\n",
    "            \n",
    "            \n",
    "            \n",
    "            \n",
    "            \n",
    "def kthSmallest(arr, l, r, k):\n",
    "    '''\n",
    "    arr : given array\n",
    "    l : starting index of the array i.e 0\n",
    "    r : ending index of the array i.e size-1\n",
    "    k : find kth smallest element and return using this function\n",
    "    '''\n",
    "    if k > 0 and k <= len(arr):\n",
    "        pivotIndex =partition(arr, l, r)\n",
    "\n",
    "        if pivotIndex - l == k - 1:\n",
    "            return arr[pivotIndex]\n",
    "\n",
    "        if pivotIndex - l > k - 1:\n",
    "            return kthSmallest(arr, l, pivotIndex - 1, k)\n",
    "\n",
    "        return kthSmallest(arr, pivotIndex + 1, r, k - pivotIndex + l - 1)\n",
    "    return -1\n",
    "\n",
    "arr = [7, 10, 4, 3, 15, 20]\n",
    "ans = kthSmallest(arr, 0, len(arr) - 1, 7)\n",
    "print(ans)"
   ]
  },
  {
   "cell_type": "markdown",
   "id": "bb93f9cb",
   "metadata": {},
   "source": [
    "# Minimize the Heights II\n",
    "# Minimize the Heights I\n",
    "\n"
   ]
  },
  {
   "cell_type": "code",
   "execution_count": 121,
   "id": "f7a208b6",
   "metadata": {},
   "outputs": [
    {
     "name": "stdout",
     "output_type": "stream",
     "text": [
      "7\n"
     ]
    }
   ],
   "source": [
    "def getMinDiff(arr, n, k):  \n",
    "    # after sort the min element will be at the begining and max at the end\n",
    "    # we want to maximize the min element and minimize the max element\n",
    "    arr.sort()\n",
    "    # code here\n",
    "    max_ = arr[n - 1]\n",
    "    min_ = arr[0]\n",
    "    res = max_ - min_\n",
    "\n",
    "    for i in range(1, n):\n",
    "        # arr[i] = y\n",
    "        # arr[i - 1] = x\n",
    "#         if arr[i] >= k: # so that height not negetive ( for question 1)\n",
    "        # checking if the last element still greater than the current element + k\n",
    "        max_ = max(arr[i - 1] + k, arr[n - 1] - k)\n",
    "        \n",
    "        # checking if the first element still smaller than the current(i) element\n",
    "        min_ = min(arr[i] - k, arr[0] + k)\n",
    "\n",
    "        res = min(res, max_ - min_)\n",
    "    return res\n",
    "\n",
    "K = 2\n",
    "N = 4\n",
    "Arr= [1, 5, 8, 10]\n",
    "\n",
    "K = 5\n",
    "N = 10\n",
    "arr = [8, 1, 5, 4, 7, 5, 7, 9, 4, 6]\n",
    "ans = getMinDiff(arr, N, K)\n",
    "print(ans)"
   ]
  },
  {
   "cell_type": "markdown",
   "id": "961c5f73",
   "metadata": {},
   "source": [
    "### Prison Cells After N Days\n",
    "\n",
    "    Input: cells = [0,1,0,1,1,0,0,1], n = 7\n",
    "    Output: [0,0,1,1,0,0,0,0]\n",
    "    Explanation: The following table summarizes the state of the prison on each day:\n",
    "    Day 0: [0, 1, 0, 1, 1, 0, 0, 1]\n",
    "    Day 1: [0, 1, 1, 0, 0, 0, 0, 0]\n",
    "    Day 2: [0, 0, 0, 0, 1, 1, 1, 0]\n",
    "    Day 3: [0, 1, 1, 0, 0, 1, 0, 0]\n",
    "    Day 4: [0, 0, 0, 0, 0, 1, 0, 0]\n",
    "    Day 5: [0, 1, 1, 1, 0, 1, 0, 0]\n",
    "    Day 6: [0, 0, 1, 0, 1, 1, 0, 0]\n",
    "    Day 7: [0, 0, 1, 1, 0, 0, 0, 0]"
   ]
  },
  {
   "cell_type": "code",
   "execution_count": 48,
   "id": "84026869",
   "metadata": {},
   "outputs": [
    {
     "name": "stdout",
     "output_type": "stream",
     "text": [
      "[0, 1, 1, 0, 0, 0, 1, 0]\n"
     ]
    }
   ],
   "source": [
    "def prisonAfterNDays(cells, n):\n",
    "    \n",
    "    hashMap = {}\n",
    "    i = 0\n",
    "    loopLen = 0\n",
    "    while n:\n",
    "        cellStr = str(cells)\n",
    "        if cellStr in hashMap:\n",
    "            loopLen = i - hashMap[cellStr]\n",
    "            break\n",
    "        else:\n",
    "            hashMap[cellStr] = i\n",
    "            n -= 1\n",
    "        \n",
    "        prev = 0\n",
    "        for j in range(1, len(cells) - 1):\n",
    "            block = 0 if prev ^ cells[j + 1] else 1\n",
    "            prev = cells[j]\n",
    "            cells[j] = block  \n",
    "        \n",
    "        cells[0] = cells[-1] = 0\n",
    "        i += 1\n",
    "\n",
    "    \n",
    "    remainingDays = (n - i) % loopLen if loopLen > 0 else 0\n",
    "    while remainingDays:\n",
    "        prev = 0\n",
    "        for j in range(1, len(cells) - 1):\n",
    "            block = 0 if prev ^ cells[j + 1] else 1\n",
    "            prev = cells[j]\n",
    "            cells[j] = block\n",
    "            \n",
    "        cells[0] = cells[-1] = 0\n",
    "        remainingDays -= 1\n",
    "        \n",
    "    return cells\n",
    "        \n",
    "cells = [0,1,0,1,1,0,0,1]\n",
    "n = 7\n",
    "\n",
    "cells = [1,1,0,1,1,0,0,0]\n",
    "n = 1\n",
    "# op - [0,0,1,0,0,0,1,0]\n",
    "\n",
    "\n",
    "# cells = [1,0,0,1,0,0,1,0]\n",
    "# n = 1000000000\n",
    "# Output: [0,0,1,1,1,1,1,0]\n",
    "print(prisonAfterNDays(cells, n))\n",
    "            "
   ]
  },
  {
   "cell_type": "code",
   "execution_count": 5,
   "id": "5af6c02d",
   "metadata": {},
   "outputs": [],
   "source": [
    "s = set()\n",
    "s.add(tuple([0, 1, 1, 0, 0, 0, 0, 0]))\n"
   ]
  },
  {
   "cell_type": "code",
   "execution_count": 6,
   "id": "491edd37",
   "metadata": {},
   "outputs": [
    {
     "name": "stdout",
     "output_type": "stream",
     "text": [
      "jer\n"
     ]
    }
   ],
   "source": [
    "if tuple([0, 1, 1, 0, 0, 0, 0, 0]) in s:\n",
    "    print(\"jer\")"
   ]
  },
  {
   "cell_type": "code",
   "execution_count": 42,
   "id": "2f6555e2",
   "metadata": {},
   "outputs": [
    {
     "name": "stdout",
     "output_type": "stream",
     "text": [
      "14\n",
      "[0, 0, 1, 0, 1, 1, 0, 0]\n"
     ]
    }
   ],
   "source": [
    "def next_step(cells):\n",
    "    res = [0] * 8\n",
    "    for i in range(1,7):\n",
    "        res[i] = int(cells[i-1] == cells[i+1])\n",
    "    return res\n",
    "\n",
    "def prisonAfterNDays(cells, N):\n",
    "    \n",
    "    found_dic = {}\n",
    "    for i in range(N):\n",
    "        cells_str = str(cells)\n",
    "        if cells_str in found_dic:\n",
    "            loop_len = i - found_dic[cells_str]\n",
    "            print(loop_len)\n",
    "            return prisonAfterNDays(cells, (N - i) % loop_len)\n",
    "        else:\n",
    "            found_dic[cells_str] = i \n",
    "            cells = next_step(cells) \n",
    "\n",
    "    return cells\n",
    "\n",
    "cells = [0,1,0,1,1,0,0,1]\n",
    "n = 1000000000 \n",
    "\n",
    "\n",
    "cells = [0,1,0,1,1,0,0,1]\n",
    "n = 1000\n",
    "print(prisonAfterNDays(cells, n))"
   ]
  },
  {
   "cell_type": "code",
   "execution_count": null,
   "id": "0e85e3fa",
   "metadata": {},
   "outputs": [],
   "source": []
  }
 ],
 "metadata": {
  "kernelspec": {
   "display_name": "Python 3 (ipykernel)",
   "language": "python",
   "name": "python3"
  },
  "language_info": {
   "codemirror_mode": {
    "name": "ipython",
    "version": 3
   },
   "file_extension": ".py",
   "mimetype": "text/x-python",
   "name": "python",
   "nbconvert_exporter": "python",
   "pygments_lexer": "ipython3",
   "version": "3.10.0"
  }
 },
 "nbformat": 4,
 "nbformat_minor": 5
}
