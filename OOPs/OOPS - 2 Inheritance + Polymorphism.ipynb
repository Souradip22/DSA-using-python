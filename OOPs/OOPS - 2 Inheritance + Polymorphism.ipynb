{
 "cells": [
  {
   "cell_type": "code",
   "execution_count": 25,
   "id": "99655bdf",
   "metadata": {},
   "outputs": [],
   "source": [
    "# Parent Class\n",
    "class Vehicle:\n",
    "    def __init__(self, make, model, fuel):\n",
    "        self.make = make\n",
    "        #private\n",
    "        self.__fuel = fuel\n",
    "        self.__model = model\n",
    "    \n",
    "    def __private_method_parent(self):\n",
    "        print(\"Parent Private Method\")\n",
    "# Child CLass  \n",
    "class Car(Vehicle):\n",
    "    def __init__(self, make, model, fuel, ac, sunroof):\n",
    "        # Parent Attr\n",
    "        Vehicle.make = make\n",
    "        Vehicle.__model = model\n",
    "        Vehicle.__fuel = fuel\n",
    "        \n",
    "        self.ac = ac\n",
    "        self.sunroof = sunroof\n",
    "    \n",
    "    def show_parent_attr(self):\n",
    "        print(Vehicle.make, \" \", Vehicle.__model, \" \", Vehicle.__fuel)\n",
    "        \n",
    "    def show_private_method_parent(self):\n",
    "        self._Vehicle__private_method_parent()"
   ]
  },
  {
   "cell_type": "code",
   "execution_count": 26,
   "id": "02d1cd9d",
   "metadata": {},
   "outputs": [],
   "source": [
    "myobj = Car(\"Tesla\", 2019, \"Electric\", True, True)\n"
   ]
  },
  {
   "cell_type": "code",
   "execution_count": 27,
   "id": "6df10b66",
   "metadata": {},
   "outputs": [
    {
     "data": {
      "text/plain": [
       "{'ac': True, 'sunroof': True}"
      ]
     },
     "execution_count": 27,
     "metadata": {},
     "output_type": "execute_result"
    }
   ],
   "source": [
    "myobj.__dict__\n"
   ]
  },
  {
   "cell_type": "code",
   "execution_count": 28,
   "id": "69d994ee",
   "metadata": {},
   "outputs": [
    {
     "name": "stdout",
     "output_type": "stream",
     "text": [
      "Tesla   2019   Electric\n"
     ]
    }
   ],
   "source": [
    "myobj.show_parent_attr()"
   ]
  },
  {
   "cell_type": "markdown",
   "id": "b1845b2b",
   "metadata": {},
   "source": []
  },
  {
   "cell_type": "code",
   "execution_count": 29,
   "id": "489a2e38",
   "metadata": {},
   "outputs": [
    {
     "ename": "AttributeError",
     "evalue": "'Car' object has no attribute '__model'",
     "output_type": "error",
     "traceback": [
      "\u001b[1;31m---------------------------------------------------------------------------\u001b[0m",
      "\u001b[1;31mAttributeError\u001b[0m                            Traceback (most recent call last)",
      "\u001b[1;32m~\\AppData\\Local\\Temp/ipykernel_10176/434317289.py\u001b[0m in \u001b[0;36m<module>\u001b[1;34m\u001b[0m\n\u001b[1;32m----> 1\u001b[1;33m \u001b[0mmyobj\u001b[0m\u001b[1;33m.\u001b[0m\u001b[0m__model\u001b[0m\u001b[1;33m\u001b[0m\u001b[1;33m\u001b[0m\u001b[0m\n\u001b[0m",
      "\u001b[1;31mAttributeError\u001b[0m: 'Car' object has no attribute '__model'"
     ]
    }
   ],
   "source": [
    "myobj.__model\n"
   ]
  },
  {
   "cell_type": "code",
   "execution_count": 30,
   "id": "2f226df1",
   "metadata": {},
   "outputs": [
    {
     "ename": "AttributeError",
     "evalue": "'Car' object has no attribute '__private_method_parent'",
     "output_type": "error",
     "traceback": [
      "\u001b[1;31m---------------------------------------------------------------------------\u001b[0m",
      "\u001b[1;31mAttributeError\u001b[0m                            Traceback (most recent call last)",
      "\u001b[1;32m~\\AppData\\Local\\Temp/ipykernel_10176/1939824390.py\u001b[0m in \u001b[0;36m<module>\u001b[1;34m\u001b[0m\n\u001b[1;32m----> 1\u001b[1;33m \u001b[0mmyobj\u001b[0m\u001b[1;33m.\u001b[0m\u001b[0m__private_method_parent\u001b[0m\u001b[1;33m(\u001b[0m\u001b[1;33m)\u001b[0m\u001b[1;33m\u001b[0m\u001b[1;33m\u001b[0m\u001b[0m\n\u001b[0m",
      "\u001b[1;31mAttributeError\u001b[0m: 'Car' object has no attribute '__private_method_parent'"
     ]
    }
   ],
   "source": [
    "myobj.__private_method_parent()"
   ]
  },
  {
   "cell_type": "code",
   "execution_count": 31,
   "id": "f3272b34",
   "metadata": {},
   "outputs": [
    {
     "name": "stdout",
     "output_type": "stream",
     "text": [
      "Parent Private Method\n"
     ]
    }
   ],
   "source": [
    "myobj.show_private_method_parent()\n"
   ]
  },
  {
   "cell_type": "code",
   "execution_count": 58,
   "id": "e2fe21e1",
   "metadata": {},
   "outputs": [],
   "source": [
    "# Parent Class\n",
    "class Vehicle:\n",
    "    current_year = 2021\n",
    "    base_price = 1000\n",
    "    def __init__(self, make, model, fuel):\n",
    "        self.make = make\n",
    "        #private\n",
    "        self.__fuel = fuel\n",
    "        self.__model = model\n",
    "        \n",
    "    \n",
    "    def __private_method_parent(self):\n",
    "        print(\"Parent Private Method\")\n",
    "    \n",
    "    #default function to get value of car\n",
    "    def get_value(self):\n",
    "        age = Vehicle.current_year - self.__model\n",
    "        print('Default Method Parent')\n",
    "        return Vehicle.base_price*(1/age)\n",
    "    \n",
    "    \n",
    "    # Protected Members\n",
    "        \n",
    "        \n",
    "        \n",
    "        \n",
    "# Child CLass  \n",
    "class Car(Vehicle):\n",
    "    def __init__(self, make, model, fuel, ac, sunroof):\n",
    "        \n",
    "        super(Car, self).__init__(make, model, fuel)\n",
    "\n",
    "        self.ac = ac\n",
    "        self.sunroof = sunroof\n",
    "    #Overriding method  \n",
    "    def get_value(self):\n",
    "        Vehicle.base_price = 5000\n",
    "        age = Vehicle.current_year - self._Vehicle__model\n",
    "        print('Chile Override method')\n",
    "        return Vehicle.base_price*(1/age)\n"
   ]
  },
  {
   "cell_type": "code",
   "execution_count": 59,
   "id": "ee38240f",
   "metadata": {},
   "outputs": [],
   "source": [
    "myobj = Car(\"Tesla\", 2019, \"Electric\", True, True)"
   ]
  },
  {
   "cell_type": "code",
   "execution_count": 60,
   "id": "323deb9c",
   "metadata": {},
   "outputs": [
    {
     "data": {
      "text/plain": [
       "{'make': 'Tesla',\n",
       " '_Vehicle__fuel': 'Electric',\n",
       " '_Vehicle__model': 2019,\n",
       " 'ac': True,\n",
       " 'sunroof': True}"
      ]
     },
     "execution_count": 60,
     "metadata": {},
     "output_type": "execute_result"
    }
   ],
   "source": [
    "myobj.__dict__"
   ]
  },
  {
   "cell_type": "code",
   "execution_count": 61,
   "id": "77d4f903",
   "metadata": {},
   "outputs": [
    {
     "name": "stdout",
     "output_type": "stream",
     "text": [
      "Parent Private Method\n"
     ]
    }
   ],
   "source": [
    "myobj._Vehicle__private_method_parent()"
   ]
  },
  {
   "cell_type": "code",
   "execution_count": 62,
   "id": "4ddbcefa",
   "metadata": {},
   "outputs": [
    {
     "name": "stdout",
     "output_type": "stream",
     "text": [
      "Chile Override method\n"
     ]
    },
    {
     "data": {
      "text/plain": [
       "2500.0"
      ]
     },
     "execution_count": 62,
     "metadata": {},
     "output_type": "execute_result"
    }
   ],
   "source": [
    "myobj.get_value()"
   ]
  },
  {
   "cell_type": "code",
   "execution_count": 63,
   "id": "e5a54b5e",
   "metadata": {},
   "outputs": [],
   "source": [
    "myparentobj = Vehicle(\"Ford\", 2018, \"Petrol\")"
   ]
  },
  {
   "cell_type": "code",
   "execution_count": 64,
   "id": "0397a51b",
   "metadata": {},
   "outputs": [
    {
     "name": "stdout",
     "output_type": "stream",
     "text": [
      "Default Method Parent\n"
     ]
    },
    {
     "data": {
      "text/plain": [
       "1666.6666666666665"
      ]
     },
     "execution_count": 64,
     "metadata": {},
     "output_type": "execute_result"
    }
   ],
   "source": [
    "myparentobj.get_value()"
   ]
  },
  {
   "cell_type": "code",
   "execution_count": 73,
   "id": "d8a8f9e9",
   "metadata": {},
   "outputs": [],
   "source": [
    "# Parent Class\n",
    "class Vehicle:\n",
    "    current_year = 2021\n",
    "    base_price = 1000\n",
    "    def __init__(self, make, model, fuel):\n",
    "        self.make = make\n",
    "        #private\n",
    "        self._fuel = fuel\n",
    "        self._model = model\n",
    "        \n",
    "    \n",
    "    def __private_method_parent(self):\n",
    "        print(\"Parent Private Method\")\n",
    "    \n",
    "    #default function to get value of car\n",
    "    def _get_value(self):\n",
    "        age = Vehicle.current_year - self._model\n",
    "        print('Default Method Parent')\n",
    "        return Vehicle.base_price*(1/age)\n",
    "    \n",
    "    \n",
    "    # Protected Members\n",
    "        \n",
    "        \n",
    "        \n",
    "        \n",
    "# Child CLass  \n",
    "class Car(Vehicle):\n",
    "    def __init__(self, make, model, fuel, ac, sunroof):\n",
    "        \n",
    "        super(Car, self).__init__(make, model, fuel)\n",
    "        \n",
    "        #protected\n",
    "        self._ac = ac\n",
    "        self._sunroof = sunroof\n",
    "        \n",
    "    #Overriding method  \n",
    "    def _get_value(self):\n",
    "        Vehicle.base_price = 5000\n",
    "        age = Vehicle.current_year - self._model\n",
    "        print('Chile Override method')\n",
    "        return Vehicle.base_price*(1/age)"
   ]
  },
  {
   "cell_type": "code",
   "execution_count": 74,
   "id": "ee48e24d",
   "metadata": {},
   "outputs": [],
   "source": [
    "myobj = Car(\"Tesla\", 2019, \"Electric\", True, True)"
   ]
  },
  {
   "cell_type": "code",
   "execution_count": 75,
   "id": "09ddbab7",
   "metadata": {},
   "outputs": [
    {
     "data": {
      "text/plain": [
       "{'make': 'Tesla',\n",
       " '_fuel': 'Electric',\n",
       " '_model': 2019,\n",
       " '_ac': True,\n",
       " '_sunroof': True}"
      ]
     },
     "execution_count": 75,
     "metadata": {},
     "output_type": "execute_result"
    }
   ],
   "source": [
    "myobj.__dict__"
   ]
  },
  {
   "cell_type": "code",
   "execution_count": 76,
   "id": "0c5a57f3",
   "metadata": {},
   "outputs": [
    {
     "data": {
      "text/plain": [
       "True"
      ]
     },
     "execution_count": 76,
     "metadata": {},
     "output_type": "execute_result"
    }
   ],
   "source": [
    "myobj._ac"
   ]
  },
  {
   "cell_type": "code",
   "execution_count": 79,
   "id": "3d0d632e",
   "metadata": {},
   "outputs": [
    {
     "ename": "AttributeError",
     "evalue": "'Car' object has no attribute 'ac'",
     "output_type": "error",
     "traceback": [
      "\u001b[1;31m---------------------------------------------------------------------------\u001b[0m",
      "\u001b[1;31mAttributeError\u001b[0m                            Traceback (most recent call last)",
      "\u001b[1;32m~\\AppData\\Local\\Temp/ipykernel_10176/960189541.py\u001b[0m in \u001b[0;36m<module>\u001b[1;34m\u001b[0m\n\u001b[1;32m----> 1\u001b[1;33m \u001b[0mmyobj\u001b[0m\u001b[1;33m.\u001b[0m\u001b[0mac\u001b[0m\u001b[1;33m\u001b[0m\u001b[1;33m\u001b[0m\u001b[0m\n\u001b[0m",
      "\u001b[1;31mAttributeError\u001b[0m: 'Car' object has no attribute 'ac'"
     ]
    }
   ],
   "source": [
    "myobj.ac"
   ]
  },
  {
   "cell_type": "code",
   "execution_count": 77,
   "id": "0d9c2977",
   "metadata": {},
   "outputs": [
    {
     "data": {
      "text/plain": [
       "True"
      ]
     },
     "execution_count": 77,
     "metadata": {},
     "output_type": "execute_result"
    }
   ],
   "source": [
    "myobj._sunroof\n"
   ]
  },
  {
   "cell_type": "code",
   "execution_count": 78,
   "id": "b13875fe",
   "metadata": {},
   "outputs": [
    {
     "name": "stdout",
     "output_type": "stream",
     "text": [
      "Chile Override method\n"
     ]
    },
    {
     "data": {
      "text/plain": [
       "2500.0"
      ]
     },
     "execution_count": 78,
     "metadata": {},
     "output_type": "execute_result"
    }
   ],
   "source": [
    "myobj._get_value()\n"
   ]
  },
  {
   "cell_type": "code",
   "execution_count": 82,
   "id": "35c1ff98",
   "metadata": {},
   "outputs": [],
   "source": [
    "class Circle:\n",
    "    \n",
    "    def __init__(self, rad):\n",
    "        self.__rad = rad\n",
    "    \n",
    "    def __str__(self):\n",
    "        return \"This is a circle class\"\n",
    "        \n",
    "c = Circle(3)"
   ]
  },
  {
   "cell_type": "code",
   "execution_count": 83,
   "id": "7b749950",
   "metadata": {},
   "outputs": [
    {
     "name": "stdout",
     "output_type": "stream",
     "text": [
      "This is a circle class\n"
     ]
    }
   ],
   "source": [
    "print(c)"
   ]
  },
  {
   "cell_type": "code",
   "execution_count": 84,
   "id": "a66d4cf6",
   "metadata": {},
   "outputs": [],
   "source": [
    "# Multiple Inheritance\n",
    "# Multilevel Inheritance"
   ]
  },
  {
   "cell_type": "code",
   "execution_count": 89,
   "id": "7cc31620",
   "metadata": {},
   "outputs": [],
   "source": [
    "# Parent Class\n",
    "class Vehicle:\n",
    "    def __init__(self, make, model, fuel):\n",
    "        self.make = make\n",
    "        #private\n",
    "        self._fuel = fuel\n",
    "        self._model = model\n",
    "    \n",
    "# Child CLass  \n",
    "class Car(Vehicle):\n",
    "    def __init__(self, make, model, fuel, ac, sunroof):\n",
    "        \n",
    "        super(Car, self).__init__(make, model, fuel)\n",
    "\n",
    "        self.ac = ac\n",
    "        self.sunroof = sunroof\n",
    "        \n",
    "class ElectricVehicle(Car):\n",
    "    def __init__(self, make, model, fuel, ac, sunroof, distance):\n",
    "        super(ElectricVehicle, self).__init__(make, model, fuel, ac, sunroof)\n",
    "        \n",
    "        \n",
    "        self.distance = distance\n",
    "        \n",
    "        \n",
    "        \n",
    "\n"
   ]
  },
  {
   "cell_type": "code",
   "execution_count": 90,
   "id": "666ec0e3",
   "metadata": {},
   "outputs": [],
   "source": [
    "eCar = ElectricVehicle(\"Tesla\", 2019, \"Electric\", True, True, 500)"
   ]
  },
  {
   "cell_type": "code",
   "execution_count": 91,
   "id": "f9b3ccfb",
   "metadata": {},
   "outputs": [
    {
     "data": {
      "text/plain": [
       "{'make': 'Tesla',\n",
       " '_fuel': 'Electric',\n",
       " '_model': 2019,\n",
       " 'ac': True,\n",
       " 'sunroof': True,\n",
       " 'distance': 500}"
      ]
     },
     "execution_count": 91,
     "metadata": {},
     "output_type": "execute_result"
    }
   ],
   "source": [
    "eCar.__dict__\n"
   ]
  },
  {
   "cell_type": "code",
   "execution_count": 92,
   "id": "66a52f3b",
   "metadata": {},
   "outputs": [],
   "source": [
    "# MRO - METHOD RESOLUTION ORDER"
   ]
  },
  {
   "cell_type": "code",
   "execution_count": 99,
   "id": "37feabdd",
   "metadata": {},
   "outputs": [],
   "source": [
    "class Car:\n",
    "    def __init__(self, make, model, fuel):\n",
    "        self.make = make\n",
    "        self.model = model\n",
    "        self.fuel = fuel\n",
    "    \n",
    "    def get_car_details(self):\n",
    "        return \"The make of the car is \", self.model, \"from Car class\"\n",
    "    \n",
    "class ElectricCar:\n",
    "    def __init__(self, make, model, fuel):\n",
    "        self.make = make\n",
    "        self.model = model\n",
    "        self.fuel = fuel\n",
    "    \n",
    "    def get_car_details(self):\n",
    "        return \"The make of the car is \", self.model, \"from Electric Car class\"\n",
    "    \n",
    "class Taxi(Car, ElectricCar): #Multiple Inheritance\n",
    "    def __init__(self, make, model, fuel):\n",
    "        super().__init__(make, model, fuel)\n",
    "        \n",
    "        "
   ]
  },
  {
   "cell_type": "code",
   "execution_count": 100,
   "id": "a4ca853d",
   "metadata": {},
   "outputs": [],
   "source": [
    "myobj = Taxi(\"Tesla\", 2019, \"Electric\")"
   ]
  },
  {
   "cell_type": "code",
   "execution_count": 101,
   "id": "7b5be370",
   "metadata": {},
   "outputs": [
    {
     "data": {
      "text/plain": [
       "('The make of the car is ', 2019, 'from Car class')"
      ]
     },
     "execution_count": 101,
     "metadata": {},
     "output_type": "execute_result"
    }
   ],
   "source": [
    "myobj.get_car_details()"
   ]
  },
  {
   "cell_type": "code",
   "execution_count": 102,
   "id": "fd4f5ead",
   "metadata": {},
   "outputs": [
    {
     "data": {
      "text/plain": [
       "(__main__.Taxi, __main__.Car, __main__.ElectricCar, object)"
      ]
     },
     "execution_count": 102,
     "metadata": {},
     "output_type": "execute_result"
    }
   ],
   "source": [
    "Taxi.__mro__"
   ]
  },
  {
   "cell_type": "code",
   "execution_count": 103,
   "id": "2a041206",
   "metadata": {},
   "outputs": [
    {
     "data": {
      "text/plain": [
       "[__main__.Taxi, __main__.Car, __main__.ElectricCar, object]"
      ]
     },
     "execution_count": 103,
     "metadata": {},
     "output_type": "execute_result"
    }
   ],
   "source": [
    "Taxi.mro()"
   ]
  },
  {
   "cell_type": "code",
   "execution_count": 116,
   "id": "60e0d00e",
   "metadata": {},
   "outputs": [],
   "source": [
    "#Magic function\n",
    "class Vehicle:\n",
    "    def __init__(self, make, model, fare):\n",
    "        self.make = make\n",
    "        self.model = model\n",
    "        self.fare = fare\n",
    "        \n",
    "    def __str__(self):\n",
    "        return \"The make of the car is {} and model is of {} with a fare of {}\".format(self.make, self.model, self.fare)\n",
    "    #default add chanign\n",
    "    def __add__(self, other):\n",
    "        return self.fare + other.fare"
   ]
  },
  {
   "cell_type": "code",
   "execution_count": 117,
   "id": "3b709624",
   "metadata": {},
   "outputs": [],
   "source": [
    "myobj = Vehicle(\"Tesla\", 2019, 40)\n",
    "myobj2 = Vehicle(\"Ford\", 2019, 80)"
   ]
  },
  {
   "cell_type": "code",
   "execution_count": 118,
   "id": "c3839e93",
   "metadata": {},
   "outputs": [
    {
     "name": "stdout",
     "output_type": "stream",
     "text": [
      "The make of the car is Tesla and model is of 2019 with a fare of 40\n"
     ]
    }
   ],
   "source": [
    "print(myobj)"
   ]
  },
  {
   "cell_type": "code",
   "execution_count": 119,
   "id": "eeea68e7",
   "metadata": {},
   "outputs": [
    {
     "data": {
      "text/plain": [
       "120"
      ]
     },
     "execution_count": 119,
     "metadata": {},
     "output_type": "execute_result"
    }
   ],
   "source": [
    "myobj + myobj2"
   ]
  },
  {
   "cell_type": "code",
   "execution_count": null,
   "id": "f41ff181",
   "metadata": {},
   "outputs": [],
   "source": []
  }
 ],
 "metadata": {
  "kernelspec": {
   "display_name": "Python 3 (ipykernel)",
   "language": "python",
   "name": "python3"
  },
  "language_info": {
   "codemirror_mode": {
    "name": "ipython",
    "version": 3
   },
   "file_extension": ".py",
   "mimetype": "text/x-python",
   "name": "python",
   "nbconvert_exporter": "python",
   "pygments_lexer": "ipython3",
   "version": "3.10.0"
  }
 },
 "nbformat": 4,
 "nbformat_minor": 5
}
